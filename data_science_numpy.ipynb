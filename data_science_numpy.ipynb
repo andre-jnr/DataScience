{
  "nbformat": 4,
  "nbformat_minor": 0,
  "metadata": {
    "colab": {
      "provenance": [],
      "authorship_tag": "ABX9TyOXUG8JP6TQE8JczrTzZb8/"
    },
    "kernelspec": {
      "name": "python3",
      "display_name": "Python 3"
    },
    "language_info": {
      "name": "python"
    }
  },
  "cells": [
    {
      "cell_type": "markdown",
      "source": [
        "# Numpy\n",
        "Criando e manipulando dados numéricos\n",
        "\n",
        "## O que o Numpy disponibiliza?\n",
        "- Pacotes adicionais no python para arrays multidimensionais;\n",
        "- Mais próximo ao hardware (eficiência);\n",
        "- Projetado para computação científica (comodidade);\n",
        "- Também conhecido como computação orientada a arrays.\n",
        "\n",
        "## array contém:\n",
        "- Valores de um experimento / simulação em intervalo de tempo discreto;\n",
        "- Sinal gravado por um dispositivo de medição (sinal sonoro, por exemplo);\n",
        "- Pixels de uma imagem (nível de cinza ou cor);\n",
        "- Dados 3D medidos em relação às coordenadas X, Y e Z (imagens Ressonância Magnética, por exemplo)."
      ],
      "metadata": {
        "id": "vwoMxBORqOLY"
      }
    },
    {
      "cell_type": "markdown",
      "source": [
        "Importe a biblioteca Numpy"
      ],
      "metadata": {
        "id": "j09cB2x3t3IP"
      }
    },
    {
      "cell_type": "code",
      "source": [
        "import numpy as np"
      ],
      "metadata": {
        "id": "sovy5PHRt8Ed"
      },
      "execution_count": null,
      "outputs": []
    },
    {
      "cell_type": "markdown",
      "source": [
        "Exemplo de um array Numpy"
      ],
      "metadata": {
        "id": "KfakStavtNLu"
      }
    },
    {
      "cell_type": "code",
      "source": [
        "# Passe os valores da array como lista\n",
        "x = np.array([0, 1, 2, 3])\n",
        "x"
      ],
      "metadata": {
        "colab": {
          "base_uri": "https://localhost:8080/"
        },
        "id": "QP9SKHxpsrPz",
        "outputId": "5a4e0018-d262-4b1e-efc1-a678f3cbae42"
      },
      "execution_count": null,
      "outputs": [
        {
          "output_type": "execute_result",
          "data": {
            "text/plain": [
              "array([0, 1, 2, 3])"
            ]
          },
          "metadata": {},
          "execution_count": 3
        }
      ]
    },
    {
      "cell_type": "markdown",
      "source": [
        "# Arrays\n",
        "\n",
        "## Arrays 1D:"
      ],
      "metadata": {
        "id": "ExOcwf6RugUB"
      }
    },
    {
      "cell_type": "code",
      "source": [
        "# criando...\n",
        "x = np.array([0, 1, 2, 3])"
      ],
      "metadata": {
        "colab": {
          "base_uri": "https://localhost:8080/"
        },
        "id": "76pN8IYWunyl",
        "outputId": "97de004c-01bd-4c84-e775-1f4000b843f4"
      },
      "execution_count": null,
      "outputs": [
        {
          "output_type": "execute_result",
          "data": {
            "text/plain": [
              "4"
            ]
          },
          "metadata": {},
          "execution_count": 4
        }
      ]
    },
    {
      "cell_type": "code",
      "source": [
        "#verificar a dimensão:\n",
        "x.ndim"
      ],
      "metadata": {
        "colab": {
          "base_uri": "https://localhost:8080/"
        },
        "id": "3uEtVOSfvQP8",
        "outputId": "372dfb8d-77e2-4801-9daf-63475618f029"
      },
      "execution_count": null,
      "outputs": [
        {
          "output_type": "execute_result",
          "data": {
            "text/plain": [
              "1"
            ]
          },
          "metadata": {},
          "execution_count": 5
        }
      ]
    },
    {
      "cell_type": "code",
      "source": [
        "#verificando formato (linhas, colunas)\n",
        "x.shape"
      ],
      "metadata": {
        "colab": {
          "base_uri": "https://localhost:8080/"
        },
        "id": "ZsM5iWHNvUlb",
        "outputId": "e973cda3-bc32-49b1-873f-02ab597f0350"
      },
      "execution_count": null,
      "outputs": [
        {
          "output_type": "execute_result",
          "data": {
            "text/plain": [
              "(4,)"
            ]
          },
          "metadata": {},
          "execution_count": 6
        }
      ]
    },
    {
      "cell_type": "code",
      "source": [
        "#verificando o tamanho da 1ª dimensão\n",
        "len(x)"
      ],
      "metadata": {
        "colab": {
          "base_uri": "https://localhost:8080/"
        },
        "id": "Gdg3xCjDvWoW",
        "outputId": "740a11d5-6764-47d2-a7be-c2b71fc6a498"
      },
      "execution_count": null,
      "outputs": [
        {
          "output_type": "execute_result",
          "data": {
            "text/plain": [
              "4"
            ]
          },
          "metadata": {},
          "execution_count": 7
        }
      ]
    },
    {
      "cell_type": "markdown",
      "source": [
        "## Arrays 2b"
      ],
      "metadata": {
        "id": "W5VQDYkvvsyS"
      }
    },
    {
      "cell_type": "code",
      "source": [
        "# construindo uma array bi-dimensional:\n",
        "b = np.array([[0, 1, 2], [3, 4, 5]])\n",
        "print(f'array: \\n{b}')\n",
        "print('-----------------------')\n",
        "print(f'Dimensões: {b.ndim} dimensões')\n",
        "print('-----------------------')\n",
        "print(f'formato: {b.shape[0]} linhas e {b.shape[1]} colunas')"
      ],
      "metadata": {
        "colab": {
          "base_uri": "https://localhost:8080/"
        },
        "id": "XdFHK0_PvyRp",
        "outputId": "78f4d83c-b90d-4b27-dbce-d88c705f30f7"
      },
      "execution_count": null,
      "outputs": [
        {
          "output_type": "stream",
          "name": "stdout",
          "text": [
            "array: \n",
            "[[0 1 2]\n",
            " [3 4 5]]\n",
            "-----------------------\n",
            "Dimensões: 2 dimensões\n",
            "-----------------------\n",
            "formato: 2 linhas e 3 colunas\n"
          ]
        }
      ]
    },
    {
      "cell_type": "markdown",
      "source": [
        "## Criando arrays com funções\n",
        "\n",
        "### Arange"
      ],
      "metadata": {
        "id": "dizt-g-lzY4V"
      }
    },
    {
      "cell_type": "code",
      "source": [
        "# 1p: inicio\n",
        "# 2p: final\n",
        "# 3p: passo\n",
        "\n",
        "c = np.arange(0, 100, 1)\n",
        "\n",
        "print(c)"
      ],
      "metadata": {
        "colab": {
          "base_uri": "https://localhost:8080/"
        },
        "id": "1ktorGyhyOCF",
        "outputId": "a55b5d9a-bf15-4e53-de77-367ce24371fe"
      },
      "execution_count": null,
      "outputs": [
        {
          "output_type": "stream",
          "name": "stdout",
          "text": [
            "[ 0  1  2  3  4  5  6  7  8  9 10 11 12 13 14 15 16 17 18 19 20 21 22 23\n",
            " 24 25 26 27 28 29 30 31 32 33 34 35 36 37 38 39 40 41 42 43 44 45 46 47\n",
            " 48 49 50 51 52 53 54 55 56 57 58 59 60 61 62 63 64 65 66 67 68 69 70 71\n",
            " 72 73 74 75 76 77 78 79 80 81 82 83 84 85 86 87 88 89 90 91 92 93 94 95\n",
            " 96 97 98 99]\n"
          ]
        }
      ]
    },
    {
      "cell_type": "code",
      "source": [
        "c = np.arange(10)\n",
        "\n",
        "print(c)"
      ],
      "metadata": {
        "colab": {
          "base_uri": "https://localhost:8080/"
        },
        "id": "pyztVX8MzCLq",
        "outputId": "16b86b8f-477e-4cf4-84d2-89115718730f"
      },
      "execution_count": null,
      "outputs": [
        {
          "output_type": "stream",
          "name": "stdout",
          "text": [
            "[0 1 2 3 4 5 6 7 8 9]\n"
          ]
        }
      ]
    },
    {
      "cell_type": "markdown",
      "source": [
        "### linspace"
      ],
      "metadata": {
        "id": "6vDcNLX-zjRh"
      }
    },
    {
      "cell_type": "code",
      "source": [
        "# inclui o último item (2p)\n",
        "# endpoint=False para o 2p não ser adicionado como final\n",
        "\n",
        "# 1p: inicio\n",
        "# 2p: final\n",
        "# 3p: quantos elementos entre eles\n",
        "\n",
        "d = np.linspace(1, 10, 10)\n",
        "print(d)"
      ],
      "metadata": {
        "colab": {
          "base_uri": "https://localhost:8080/"
        },
        "id": "-8dHhJgkzqGY",
        "outputId": "be5a35d5-9437-43bd-f57d-9260caa01314"
      },
      "execution_count": null,
      "outputs": [
        {
          "output_type": "stream",
          "name": "stdout",
          "text": [
            "[ 1.  2.  3.  4.  5.  6.  7.  8.  9. 10.]\n"
          ]
        }
      ]
    },
    {
      "cell_type": "markdown",
      "source": [
        "### Arrays comuns"
      ],
      "metadata": {
        "id": "zbQJpan1zIcg"
      }
    },
    {
      "cell_type": "code",
      "source": [
        "# Array 3x3 de 1(uns):\n",
        "a = np.ones((3, 3))\n",
        "print(a)"
      ],
      "metadata": {
        "colab": {
          "base_uri": "https://localhost:8080/"
        },
        "id": "U6IxfNJCzNS9",
        "outputId": "9da34997-6315-44f9-9fda-27ab1dcb3a26"
      },
      "execution_count": null,
      "outputs": [
        {
          "output_type": "stream",
          "name": "stdout",
          "text": [
            "[[1. 1. 1.]\n",
            " [1. 1. 1.]\n",
            " [1. 1. 1.]]\n"
          ]
        }
      ]
    },
    {
      "cell_type": "code",
      "source": [
        "# Array 2x2 de 0(zeros):\n",
        "b = np.zeros((2, 2))\n",
        "print(b)"
      ],
      "metadata": {
        "colab": {
          "base_uri": "https://localhost:8080/"
        },
        "id": "ovSasq8A45qN",
        "outputId": "6be83d4b-24e9-4860-f660-50f2a544da25"
      },
      "execution_count": null,
      "outputs": [
        {
          "output_type": "stream",
          "name": "stdout",
          "text": [
            "[[0. 0.]\n",
            " [0. 0.]]\n"
          ]
        }
      ]
    },
    {
      "cell_type": "code",
      "source": [
        "# array 1d com 4 números decimais aleatórios:\n",
        "c = np.random.rand(4)\n",
        "print(c)"
      ],
      "metadata": {
        "colab": {
          "base_uri": "https://localhost:8080/"
        },
        "id": "8WuA0GPJ45a9",
        "outputId": "b942d17a-d70f-460a-f887-980fbce33c9d"
      },
      "execution_count": null,
      "outputs": [
        {
          "output_type": "stream",
          "name": "stdout",
          "text": [
            "[0.83208349 0.36498619 0.94301097 0.05918684]\n"
          ]
        }
      ]
    },
    {
      "cell_type": "code",
      "source": [
        "# cria uma matriz identidade:\n",
        "d = np.eye(3)\n",
        "print(d)"
      ],
      "metadata": {
        "colab": {
          "base_uri": "https://localhost:8080/"
        },
        "id": "aYVnV-hc45JE",
        "outputId": "86661001-1768-42d6-b999-c95f107048b6"
      },
      "execution_count": null,
      "outputs": [
        {
          "output_type": "stream",
          "name": "stdout",
          "text": [
            "[[1. 0. 0.]\n",
            " [0. 1. 0.]\n",
            " [0. 0. 1.]]\n"
          ]
        }
      ]
    },
    {
      "cell_type": "code",
      "source": [
        "# cria uma matriz diagonal:\n",
        "e = np.diag(np.array([1, 2, 3, 4]))\n",
        "print(e)"
      ],
      "metadata": {
        "colab": {
          "base_uri": "https://localhost:8080/"
        },
        "id": "H8hp8hXB4388",
        "outputId": "258627e4-113e-414a-f9ce-07125d0ac8c4"
      },
      "execution_count": null,
      "outputs": [
        {
          "output_type": "stream",
          "name": "stdout",
          "text": [
            "[[1 0 0 0]\n",
            " [0 2 0 0]\n",
            " [0 0 3 0]\n",
            " [0 0 0 4]]\n"
          ]
        }
      ]
    },
    {
      "cell_type": "markdown",
      "source": [
        "### Atividade\n",
        "\n",
        "Crie arrays 1D, 2D e 3D tendo como base a figura abaixo. Em seguida, analise cada um dos seus atributos.\n",
        "\n",
        "![image.png](data:image/png;base64,iVBORw0KGgoAAAANSUhEUgAAAbgAAAFQCAYAAADN3WtcAAAAAXNSR0IArs4c6QAAAARnQU1BAACxjwv8YQUAAAAJcEhZcwAAEzEAABMxAatIXmQAAP+lSURBVHhe7P33lyVJlh92WsjMSK0rRenq0rKrtR7VGHBwgMFgOAMQJEhiDw9/2F+WUAS43D2Lv4M/EockcAaSGGB0y2lV1V1d1V3dpXVWaq1D7/2Yvxvh8SoiMlSKynzfTAt/z93c5L33a9fM3F/fu29fnO7vmy7T05NlanKsTJep0t/fX/r6IpT+UuJvYjrO+Trd+b4U9E33xS3Nvyat2fRWg+npj5bCmeWUrYceeuihh48DGuveF1zVMEjne/3bsfrBCZUWOhRTPx49PD49NBAf+qYqyVWC60siipD3+hzna7L1XOfC1RC3ocpZglt71FSzbNcmix566KGHHm40gnz6ZpybuRxUiS5PdXig7/zZ6enh4VIGguQazI0xk1agfo4wFR9mWHNRBK1FMlKqIf4s5a7lQtrKVtP2pYceeuihh1sIHcPOyEeYz8zXS67Fxbzed+nC9PS6deFlDca3yhANdTUe10fRJryloqbkzwruXQ5qySOfpvy3AG6ZivTwsUBP3paPtGm9dru2aE3N9WWbd6Ge7uqPWYLjwfHMppoY1uDaqGfzppu5M3uC1kMPPfRwa2IBcqtoXwseqN7cxSC49W2Cm4k1l+BmEDcum+AWK9Ra47oRnEpdj8yuZ+P1cPviuinOLYqenl5btORzsabOaxF9luDWdwiuQox5EmufcuNy9CHTuJWw1Pqvpu7LaeMeelgLrLWupgzfijYg0dPTmwJ4iZxVborge7Nhcgbhv9VYLXQit7FsD26h+O3z3fl0CjsTVoK4T3Wmp5rPK05nPtT0MoNFwppm2kMP1wkpusTYwbET5hXp1nU2JMNM3G797qGHa4G2nIXs9c9K4HWC7DoB8dCBblgHpBxTcZyamqphejKVphPpapB+J5/6dan3LQe1MSPhRUMTtYcePrYIMZ5VptDBPNeBS1U36a01fHrdObbj9dDDtQVhy9Cg79LFqel16/o6U5SehYuTXRtM1gSEPVCJa3KqTE5OVuIaGBwsg4MDkWdf/T5ZyawTOVD1qhZYGfvrQ+jV7ezv7PPsIpDZ9COdTnqDAwNlcGio5lG9z7UgnZrG3MacQZ7KAq704by1KGcPPSwHc2Q3vnZIi+7Q2cmpydDXwdDD0NkaIVQ7dGxiYqI+PjQQutY1LVT6BkJ3Q2+vikhrIvKYGB8vfaHfQ6GzS7rvRqOnpzcF2H5oxK+v4bLrQnDy7YTxUISLFy6W8+fPlSujV8qGDRvL1q1by7p1w+XSxcvl9OlT5cKFC2UshDyBoDZu3Fg2b9lSNm3aFHHXVbLr0qMKynb50pVy4fz5cu7cuXLp0qWyJe7bc8cdkddIVVRjUMdFobzdaN8y8zkjtm4weoUah5PcPITuT832KlnPYKnxeuhhrdASYwZjbHSsXL58JXTqcjlx8kS5cuVK2bF9e9m5a1fVSfJ84fyFcuzYsXLmzJl6Xx2Ehs6uGx4uIyMjZceunWVr6GDVuUVkGkkeP3aiHD16tAwFie7Ze0fZvn1bJdQZtMp3zfRjuXlcq3L0sCzMElzTIZXLLl4Iglvf13nQOz2na0BwDpHjxYsXyzvvvFN+9rOflWNHj5X777+/fPKTnwyF2VkOfnCw/OAHPygvvfTSjLIgI0py9913l0cefqQ89vhj5e677i4jQVaVqLqki/d29szZ8otf/iLS+mE5fepUue+++8pXv/rVcm8ch4eHajkQ5Bx0C2mUudNeFfVyxumOWyHyTEWbKZr6vXntWX0TTGBOOlfDUuP10MNaoSPClgd4UqdPny6vvf5a+dlLP6t6a8B45513ls99/nPl6aefDhJbV1577bXyne98p+rc6JXRSnDDMWDduHFTOXDgQPnsZz5TnnjyybJtG7IKzy+8s8yHjNNH+nIqdPUvv/uX5S//8i+r9/alL32pfO5znyu7du+aMVoV7q1JdPS/k0YbHxnAtvKrmBu9Od85J61M96pYSpwergtSBrLvyfDA//r//v/988FBUwj1XMDFNe61SM7UxoWLF8oHBz8oP/7xj8uf/smflp+88JPw3raUhx95pGyJo2t//hd/Xv7iG39RPjz0Ybl46WI5dfJUHR2+99575eDBg2VwaLDcwRvbuKH0B3FUZWkV2TQK4vz2t79d/uN//I/l5z//eTl39mzZv39/2b9vXyjeumiAiMixigao0y51WqSZGvG5OT9Vk6REziWMMicnIm4cxZ/qLCT2RznqVM1YpBHX5NGnUeODdndNahq/pzw93LQgcxHI9ZXR0fLOu++UP/6jPyrf/NY3y8lTJ8up06fKG2++UQeqd4SHZTblF6/8ovzJn/5J+clPflJnTUbHR8uZs2eqDr/3/nvl9JnT1dvbuXNnHWCaxsx8EuOhS6+/9nr5w//8h+U//ef/VEmVjt9737118DuDTtnok+A+usi4pS5XPaSnHb2tOhz2x3fxxyfG67mKSM/5sbGxmi57kgbSPeJKr55v25oMPdx0yP5jdyvBDQXBzZ2VXNueI3ymHV9//fXqoX33u98tb7/9dhkNBXr44YfL408+XjZv3lyOnzheXvrZS+F1nS7PPPNM+c3f/M3yla98pTz++ONVyN58682qWBRl165dVbmqsiSi2JcvXy6//OUr5bvf+W754IMPwqMLMpqcqKNAHtymUDQVH71iGvNiOX/2XDlz+kw5ceJEOX70eJBhM6158sTJOvXCGzwahGmKhnd4/vz5cjpI92CQ8eHDhyLOuao0Rpzjo2Pl5MmT5WwoN/UZGhoO4huoynPyxKlQ/vN138lAjGJn1hYWa+qeAvVwAzERxt3Akk6uH1lfZ0HMuBhwHjp0qOrg7j2765Qi3UYAX/7yl8tv/dZ/UWdleHp0o9H1K/W7e+ZMOXaAGF/46QvlueeeqyTKZsjz3nvvLftiYEpfEBBd4lXm8oO8eX7OI9Wz587WgTH9FY/dkBa9Fld9jhw5Um2PgSb7Ia3Dhw/X9Hyny8jNLJJ72C7nh4eHZ4xnDzcvPkJwPLhrRXA5skIgv/jFL8qLL75YhQkRwUMPPVSeePyJuk5GUF0X94knnii/9mu/Vj796U9XEqQUKZwbNmwo99xzT127c14eCYT0QowkeYk2mGzetCkE9GKQ4fpyfxCctQNCj4heffXV8vLLL5dXXnmlvPyLl+sIUt7y4Pm98cYbNc7Pf/azUJ6zM8r63PPPBUl/p7wQHugbb7wehHa2Cr91xZdeerHeo0xbtmwuA6GY773zXvne975X3o/yW0PctHlTGYqR7FWbuadLPdxA1NmGCLyvxx57rA40GfoPP/ywGn2EJZD/KvNT03Va8a/8lb9S4991112VmOgXQkRWCNLANEFPeFuIBLlJZ8PIhroswUaY1qTrymCAyXb86Ec/qnr71ltv1eWMN998s5LRW2++VZc+3nj9jXrdlCris27I9nzzm9+sg+uf/+zn5cjhI/Wa+igbeyFt+bIryI4N4JWyS86xUeL3cHPjuhKczBAcIaMUhNmIDIyirI9RHMKDXAisEaLzlCQ9NeSCeAghYXvwwQfL7t275xAcBTh08FAowHPl3XffK/v376trd0Zo7r/zwIFyVyjkyPr1Na9vf+tb5ZsRrCEcPXK0CjWispiOvIxK5en+jUFMPEEEbD3i+HGL6qerEp04fqKuCcqD8r3wwgtVESg/WAv80z/5s0jnfPnEJx6o3qQ1iurmLdbUPYLr4QYhyc2AjBxbFuARke3333+/zqJ86lOfqiSGnJAY+X/qqaeqPhuE0gG688tf/rLqG5195JFHKolkHnSX3hlM/vCHP6xEZdArv+PHj1e7gRj37t1b70Fqf/RHf1SJygyNdBGhvJHj97///ToIVVbn5OWzmSOEhYwRljrIa33YAnbp+eefr3Zg+/btdd1Qut8K2/DTn/60xvnEJz5R65zt0sPNi+wftDCH1q4VkNCOHTuq4H/ta1+r0xcEmOCkkCfan8F3o0AEiNjEn5lb77oPYSKkI0eP1LW6Bx96sHz2s5+tSnW5o0Q8N0C0Ph+N+NJUtq989SvlqaefjnKNVOGnIJSLJ/mZ8CQPHLiz3HP3PeULX/hC+Z3f+Z0Yqf5mVXDKIN/h4XWVdJWDkjlH+d999926/rg5PLqRUPz5pmh66OFmA70wXYfk6CACMBNhAGpJgXfV9sa64RpSEI9+IrLU3YTZFKTDC+NJIRjEyUbQdyQmX0sD0hAfoSEp5EUXf+M3fqN6hnQaWbE1PEnn6b7v9PjXf/3Xy3/5X/6XddnDQBZZGjDXHdpRH56pvOizfF2XpkG2OD18/HBdCI6iEPY9e/ZUz4zAURiGvpvgEs5ncJ1iEDbk4eh8GwSfErx/8P1y/MSxuGeyTk9u27a17AolixvKe++9HyO3D8rFi5eKZ3bspNy4cUOU6d7yhS9+oXw1CO6RRx6uxDs+Nl52h2B/JgjyV3/1V8uzn3o2PMpH69rgQw8/VLZu2VrLQdkuhuKaBqUk99//QJDx1iDPU1Vh33//vao4A5HXgTsPlG3bt5Z1Xv4JPe+th5scdE+gb4gKUTD2Bm5mL5BTG+LRbd4b/UaQPtNbIdfEHAU6xFMzW4I4eX5Iji4hMDptYCo/A84kSNd5Vdb8Pv/5z9eZGvcaCDuP4IRHH320zgQ9++yzlQTFAdOTCFea7jFQZaPoLGJTN+VhC3iP7pvPTvVw86HdT9eF4BKE38gpPZhUnPmQSpCfU0Gy8BTHvfmdwB4+crhOh7zzzlvl6PEj5fkfP1f+8D/9YXnxpWZd791334kR2qt1N9jk5EQI9HAI8LoYoW4M0t1WydC5ofD+pG9a0gjUDk/ltg73s5//rHz7W9+uI9nXXns9lPNkKMrlUNRQvOm+smP7zrJ//51R1rE6ZWKK40QQ7q6dO0KJDtSdYZW8rhZ66OEGIvWKzplmpItmOX73d3+3kgV9spxgliLjOiKg1Fs6iaB4VUivPWOTBIdkTBfmcoDPf/Znf1YD78q91t6TTKUp0E8DZvqJCNOm0FNELPA85YdArcnRWVOVCCw9QuUSD8FJz6yOdTeenOuIE8FJV1oL2asebi6kTF43gpOhQECM6BYTFufFNbpzJNBGU4SPMJoGNKLKeAJFMa3w5ttvlHPnz8a1Uj48dDBI5pVyOghtbOxyJRrkd+rUiRi5jdU4dks5EnTp2XXpDSi2/SM6z+14nuL8ufN1cdrjB5TN7rEnn3wyFKBZAK/3R1A2I0j3/PSnL9ZF7yuXr5S9+/bVKc5cf+ihh5sd9M7sg80fCIjO2fBljYq+IaQkCkBY7uEVCQgJYVkDM93YvYOSvtkVjcDk4x5kKi9T/NbfxKH3dE468nJOOjwutsQ5eSPXDFkW6dJZa3bKzAN94IEH5iyRqBcSc055rNXJj17TZedzQN3Dxwl914/gCEcKSCoE+Nz9HbFRDiMtBGHxmYD6bjohpyMyPQIt/jvvvB1EeLTcc8/d5ctftpvr6+Wv/bX/ovz1v/HXype+9IWyfcfWcvTo4XL0yKEYmV6uu740gtGZQIgb78krh/orGVlXk483q5gmqesPWzaHoj9S7rvv/jrq27RxUy23N65QYhtZPI5guiOf3bPhxWhTPjWHVp176OFmA/lk7M1C2NTxp3/6pzM7i8m16wgiCQYQCh3h/diMRW9t3kAsdkK2PSEDQvchrfo4TxCSAeOv/Mqv1LWyv/pX/2pd+3ZOfETJa3SPPIXUW59BPMF36bMjmb41dZvbrO2ZqqTb4gK9t2yCuJUDuaqHaVDPzzpKM+P38HEA5+c6T1EmjL4oByFzJIxAgAiskZxdWf/5P//n8r//7/97+Rf/4l/UbbxGbObUjapy4ZvAi3/y5IniuTTpPfPJZ+pW5d///d+P8Hvlb/2tv1W/G7l5PZh1MSNPZEa4h4dCUSKkotrCv2nT5jjXvPWkKk3kZfelslM0u8koMGUH8dy+LuLYJXngzv1VWc6cOVtJ7/7Ie/PmZsok8+mhh5sZ9Iu8m6Y0Hfmv//W/Lv/yX/7LugxgpsKjPAZ4STQGmXYx/l//1/9V/o//4/8o//bf/ttKiMjti1/8Yl1/T69JQHymIXltdmoitr/5N/9m3cBlKtSGEITHg+LF8cbcg2zorbIlufnM48rpSbZCHgbCufuRZ+gtKXQX8aXdAR5mPo5gSpNNyd2j0hZXGj18vHDNHxOYDxSGMhBCW4dNGxBEUxJGWkZeOcWQ0xTIyYOmFo4pCk8uBVR80yXHjh8re0LxjNK8GujOA3eFwG4qm4Os7F4cj/TkbRG7eVShr77zzm7LTzz4iVC+kbq55PyF8/Wlr3ceuLM89NDDZWeM7igSWvKWksuXLtZ0NJNXFVEg5Xvggfvru/NMbx49eqSStEhf+tKX626vHRStoygZeujhZgX9MpAUyLvZC8af7tFDuxHNptBTa2WpszZeORrA2uBhk5aNIAgDEabsu8cMh8EmnZamKVDeFJKip2yE9JSFNyXv1GFrgvnIUZaBHbFzEln5nJ4Xb5TNQZDIkc66V7y0J9Lgvdn17LxdmAbU6tEjuI8bmr6q76Jcvz5ftpyexbXrSN4LYSPYBM5IkOASRIJMuIzqxMm59JwqMFo00qpeVyiKa4J40vvww4OhEMMhuHeE12SdrrO1N6pFKQ5+8H6d76c0pktsBDl79lxVqHvuubeme/lyM6o8ePDDulPyoYcfqYoCFPG9KN/ByEei9UHugcG6bscI8NxGRtZHvHN1kfwP/uAPajn/7t/9r8vXv/5XyrZQyh7B9fBxQRIWuadfdNNneohE6BDDj/joFU8syY3c01skYgOHzzkgTSAbU4/uRzDi0W/x2AlHNsIjBDwutiI9LDqfHhbbIS3rZsrnvLIhJmUx+HWNF8gbo+88Sdfkh6SBt8lL/fM///Pymc98pvz9v//363N96tJd9h5uPsydGWumKK87wQHF4XURMAJHgLJwPDYhv4tLGHPKAXLKwDXxnEdgY2NX4tpAfYh6aHAoYnbqMdUsQsvT5hLvmaQUHhPwcLiXIVMGbqwNJqYxvZprMNLwCwY8MsUR98qV5qFSa3Q1jVY5rOtZBzSFY0rVlMiDDz5U/s7f+TvhVT5bBjuKIvTIrYebHWSabAt0FXmR29RZA0JANgiGfpFt3x3FE4fupifVhnSlSZ/EkaY4gmuO0jLYzTjSUxZl811IHUwvki7LW56NXs4+ogDScE15My9vOjG96kUNSNWShqlSpCut7rL3cPNBX8/iBhIcZGEIznyfu+F8XmsThHOznwnw7EuNm3pEcG+QXMarqJ9b9fVx5np8me58bt9Tozf3NGVpDEAtQ5CgdcBvfuMbdVHeqPTe8Aq/+rWvlq985asxotwXSTaL68oxpyw99HATIvXNMfUsz0FbjjPOfMh4GXcp6M5vOfdeDd3ltAnFi9m/EbqLTE1L/rW/9teqF8fzXG7Ze7gxmNuvNxHBtdEtfPNhfmFLBaMY7Xp04rbT9fEjScSJPFfj5r1dEeNak1Lk0zkiLmU6f655D6aFbCNP0xtPPvFU2bd/f/VCg91qvJ6y9PBxQFsX87PjfDLsfDs+zBfvRsp+li/LkN9tFPN8nJkXyxF+BsgGGlOivLescw83N+bK3w0muGsD5W8H9VhNXeLe9OS6MUOis5icGK8/tGrnJILzU0CbNzdrhtJqfm5jNeXpoYfrh27CWgvcjERh+tOrv0xNmia1Rpe7tHv4+KCb4MxI9whuUcS98xFcJTcBZq/XKdLOPH+iry8aNpW6R249fIxwuxAcqKugfD1v7eOJ+QiuN0RZEdoEN/u5KodRX1UQiuJzvRToKU0PPdzMSGK7FsTew/VG04c3HcHlSCo3b7TDNcWykm8IbC46CXRIrhJdnZJsTrt+LevRbqd2WCtIy7SrkHBOP2Vf9dDDxxXpuWXo4eOHj/ZbeOQ30xRl2yg7ds+BX13w3JsBxM978lwiztdT8mymFed6XCDOnBMN5kxRzofOPeozJf3OV/dQoCC++m+NFCmJJtGtpGuRjzxsq3Zsb5v2XfC9t2bRQw893AxobOJNSnAWfT0fw1tgND3c2TaqCxvsJB5BnAgzBJV1a8PLlT2PN1rzqs/PDTfvimzQvr8b86XXhagLUvCy5dGxsfpi54Goh51a+fDoaslHe8nDs0Ge9ck2k4fngVyH1eST/SJt/SI/efguXf3jeaQelofsmxuB1cpdDz3czKBbNxXBtQ1o81aSD+tnhtObBrwIldGmmPMpZ3Nu9sHvBnHsJqiWUfHp4oUL5dChg0GqY/WtCzt27mou1tvmuX8xZNTIQzlGr4zW91bahmyX1qWoz/qR9fU1QB4gRQweOF0upJ315Ll5g4Q8PHvnTQ7IR128VHa1L4rNvPSNXWbe9iAf5zyQb+DhNWXeD6o+8u5hYWS/Od4sWKls9NDDzQr6dVMRHAPKUHuljt9QY0R5CpTPa7o8dNn9stZUzFkFTYLz2Z8IbYLqGJVa+cjvwsWL5a033yzPPf+j4qdxvFvPm0dqehlWQnAB77187513629LfXjow6jfVHhxo/Udl9696d2USE59lksKSC29J56bX1nw5hRt5ppziM1zeH67y3v7ErNttTQ0gtKk6S3xf/EXf1Hf15fEzBP1xnf1MRBRn6YPlpfP7QDtImhLb/4wU3G9If+Ez/rPlvh8i0gPPdwKINs3BcGl0iMz77Pzqhzem5ehUjzvkeM5MNaf/exnq7H2XBlSoJAZGuRmBwYWacT5jxAcb2SqelSvvfpqENCPy48jeKedXx749Kc/HWlHY0hTWCbB1YaN9L2P8sfPP1+ef+75smXr1urlTE1PlTc7P7bol8G9FNovDTAuy4E8EBziUQ8/SeKnTKRlMOC9fV70rK28kcELrd2DlLLdlgp5CLxpJPqtb32rnueFSl9aHoj13TsKm2f+ZrGcvG516APBu049VIzkltv3q4X8gRyY0tZfXohscNLzvnv4uCPlGxDcDfk1gTYUiAE1muUZMMzIDZlRvHy5qjiMN9KjlElsGTqpdY55LkMHcU4MhsV7IpHb++9/EN8vlh07ttcXyHrrSKPocd9MGstAZMA7bKY+D8XX6fCiPlU+9alPlf0HDlRi8tJahO6lsF72utwpxHadvVpI+1hv02a8Kd6bgYFfZjC1i7zlmwQHS80vjTJjaACCPBEzb1deyLP7ZbqZ9nLqdDtB33iBsPYySMh3KuY7V691ICv0iCfpd8/oGFnsoYdbCbjuhntwbQ/B63J4CYymKUlEZ9rtm9/8ZiUlvyn10EMPVYWENPSzhlT5eXFpXCN0eWCM9bnwCF9//bWZN4x/ePCDsmnzpvqC1afDs/ILARXSWI4HB26J+ly6eKn+ZI6XNu/YuaP5mY8wKD998cX6463WyPygo+lKhK1cKyEE62D5+1V+YgQRWSfjCUtTHl47BNbLcmpxqXnl4MNaonLzFHMNUXq8NgMPRlPaPJLlkujtghwsGMgJ2pHntNwBzkohj5QzeZopsRxAFg3Aev3Vw60Ccs6Dm+O33UgwpLwMRjN3GVJCxt+xvW4hbirrckGFN27aWB568KH6O22mJHd551yS2mpRybW/bNi4odx7333loYcfqj+7o26mE/08CALgWeWLXGGlxsWIHMH4eRAemwGCn+j3AlmvHBK0qZDEs1Q0QtIQnDe1G2zwPnigfjTSepyfFvFZ3fKelfTL7YZ2f+sXcn6tAxnIo/zNIuhbn1cqfz30cLOCHbopCC6NIoVDBKmQCdfaCrgqZYx7bdXnBe7Yvn3mt6H8dE41zMIaAMnlOuBkkIT3U/pJDtN8PC0EpwxrZViU3QDAFKI1Pu3IK/ZZu7aN2FLzzHgGGAYdptOM9u2YtCZqXTHXABFqIgcgPSwM/aWdqsx1vl9vyDNDDz3cirhpPLiE0awRJsyneAynOHlcCTynnfkMGD3HcaVpzQu2vdp3a1dX6lrciy++WNcXeW2PPvZYXRdD4v1rRATSQj7Wx772ta/VKUSPWyCe/J2slUAbGQAYCFjj++3f/u3yK7/yK/XX1QVrNzYBqSNCRYZr2pa3MMhwO1wN9CFJMb0vx5X2bQ893NoIjuh8uqFIsjLdxphSXFOSzqfyMrQ5bbm4QVgCYbi/8xotHDrHQCyY7tLh7SU2mqjHkSNHw8N5rvz0py+UkfCCrC0++cQTs5tLVkgGjBwvTTvx0gTt49k3edgww/hZOxNnpaSTRhWsI/I8rbvxPvNn/+WL3NQX9M18g5MeVofsc31tc4g1NDsyee3Z9svB4nq0Ouh9UiNcT0lIee2Rfg9E+6YiOORGMHkEOTKlzDZOIIP8pd628VyxgnaSmKIQEaT5kbSWq5lxe6RUfzbnShj8I2F8XvzpT+uOTbvWrPf5MUVTlMhcnVYKbYO4rLu9/PLL1UP0WT2kzVPk1aWir6Sd0qDKpz5W8dprtS7ySe/BdUBy8su+uVaG83ZG7mT1y9N+VPcP//APa/Doxquvvlr7JftjqWjr0lqDBNxIKbiWdVsI8uwOPVwfzNfmN5zgGEKBceTVMM759g8bMjzEbIqNwRaQwmKCE1fKdPtdkfNpWOteP47a2OK8pxNmo8xCujV0vi8AhHn+3Pm64/BHzz1Xd1Lu2b2nToUei5H321EndfQw+GJ1WQzazKDALkrt9NJLL9UpUFOSdofmmpi1M4OCbOflIMsmWN+zuQSR2qVp+tN3+eg7z8IZgPSmJ9ceOdDTv//3//1/l//z//w/y5/+6Z/WH9Z1/Df/5t/U8MMf/rDuqDUgWQqq3GXwfebfXPg+vzfm2/zBAzkz6uLUNUTKqEGXx2bsjKZfZhVygHc9kOXIYLCRg8DrWY4eEn03/jm4NLwMI0NMKBls0y8Mtc8MJ8+n/eaPNNZto92oln+zNajH2T8N4qMXLAsXzp8rBw8dDAGcrFu29+7dF2lGY8zc07mvamlbU1vptRFRpiOt4yeOlx/96Ln6QO84jy6ICCm8/upr5Z23366v8fLsHc8udKGZMl0Gst0oNY9Xe2krU1Y8LQpu+tAjAqYVeVh531KReQCFlabt7XZSyo83Z3rMG2bkY8qy3Tc9zA9tJhjQ8eYN2hYbGPDcDPTsWPWoBlmiDx6ZMW3sDUCeq5Om9GwGojML9YO+dI3HdyjkxT37QkYaCW/0B0XVuJ3QRr1Shbb7Sgt5aTpiZzHmL86qgDjUR5uQSZ4s+acHzrMXBmDXauCVbekIykMnDUjMehgYwrUsQw+z6Jb5G05wCQUjBDw4ox5eG6FhNO3as2OP4iLBFBT3dFco1bNdh/qpNZxsRNHUZAjj5Hh9fdaOyOeuIDhGxw01XTfmfXNQLzQf56BZe1P+8TFCfq4MR51s0Fg3vK4M9Dfrh8iGx7Nv3/6yaeOmel9c+EhdlgJtoc1yHYwx9N1gAOl4zk6dVpJ2wr36Rh7yo8CZj0GBHZU2mzAm4q4mr9sByyE4OsAr8cq3b3zjGzXeb/zGb5Svf/3r9dk1L0OQjsGTASHC83xdznZ0Iw2xPkJwiGBrJbj9niCtumGSc5Is128N1Skdr6y/c26u+Md3p33K81UGIpCH+t2ftYf6kHszCdrIoIsHy2tiQ7SXNskB3lojZd0RueVMhxkVgw4kpywGHHSoHb+Htcds+9bDzfWyZYFwGv0IBIbRzGm27pctdx+pJ7X0j1o5O19NqopGXtL3SwIUgTHYumVb5DNQU+moZRc6qVYtnu+6d2pOVJLzkCEDguRqmTvxfaZ0Nml4hdfQsMch4pr/nXosB5QH2QjajIJRJEqtvZKYVgNtJR/EJn0eYxJc5qU+8xnUldTpVkXKeD7obXCAjPTPfG0HZNS6m2nJ73znO3Ud9/d///frZiJtT5ZM5//bf/tvy5/8yZ+Uhx9+uPze7/1e3U0732Mo8gfnEaLnJu+JQdCnPvPpMlE1o4pioPkc/niJYVn8i+/ujYuu1NB8bdY5fPHfdXnGiJkWgr/tsBbIepBLnptnMbWpgSPSZ0cQjdfXeS2e89dKFlM/eJGI1sPzBg5ILe1Xetx0BhYa0PSwcugHfdwcfe/I5s0CnU4AeDwUX7BjL42161mBxdAoEpIS76Mhr5GxdeuGwzPcVrZtDXIbGOzcC/Pd0/m6CBiqwaHhsi4Em3Ldedfd5W51CSMi+HxneFfbo47IrVJfk+GKoE0YSFOdHvjm6TKcPF8Gbi1GrtpcvfQNb8GUJwPLS2Q4ctq4h7UDGRcYagRm3ZOnYto53/mZCs0L1O/kTVyEyNgCglwIVY+kEZ/FQnCOg2EWhuLD0OR0GQzG6tBbmYqIrjfa4Bh/YyBn13DnQukL968v7isT4f9NhB84GRc6eaxCzD8CZVc3g1Okot7axcvFvQnJbA/SMSAzMKt1XQLEW2rcRJKbqXtTpKaMkazX2bFhrhnsLtYXPVwb3FRWiWBRWMZSqGTR2iCRwtcOifzkKBAlI8hGGWeDc8018SLdcF0HBoNoBow4p+r0TBPno/dl2ouqakTIqx4ob9YAYoQen7vDzFpfp34rgTagONke2q09jbvWUE7pZx4Mrc/Q3Sc9rB48ZdNcvGbtjMzSM892BwMNBMeLN/2ZRv3q/TErd6YlJyfGysTZM+XS+x+W82++Uy4c/LBcOX+2jE9OBAFOldHxsXI+0j918FA5+e4H5cKx42XqcpApIoswPTZeRk+fKWc+OFjOvvNeuXzoSJk6d6GUsYmqG2slHeqljuqK0C0LIHmEol2QTO7GJqdL1a+0MwYWBhQ53Zk6Nh9ckxcP0iYfA00em7cL0X/3Cz1cf9xUBLeQELbP+9wdL9S4/rNmQAQnQ2mFUKlO8LmvjHeOwmSkIcxe7y8TQTh5Xcj43fflDGUzHdME35sQf9rloxTzhUQ77gqRbdLdLtcCV8vjepThdkEacWtwDLWZDB40A97ub/GQnusMqfgM83IgpYGpMOSXLpRz775bjr7w03LoB8+Vwz95oZz+4L0yfuV86ZsaL5MXzpXT4U2++70flDe/873ywYs/K+cPHy5To5dCkUbL2LnT5cibb5a3nn++vPv9H0U6PyvngujGo0z0sxlArg5JNNoGkakvcjejYFrQgMD0q8GBNnHOPd0eVJuwfM44PC7PGZritLbJ+2oPGPK+/KyteW+8SP3z+OOP1xkU6SC+3GjSw/XHNSO4FIKlom0YU3lz5JWf83v7c9XMDuTYJjfE1Can2YDIBlphLrG1w1iE0QiXI1yKcCWCR2opahJo4w0ugFrGeUK91hxWA23A0802mWmXawDpttu/O8/ufK9VOW4X0CHExlA6mm5uTwdnm6fhJgcIjmFfqsdAboX+6amyLry0/vDeLrz3bpk8crhsRJSHD1WCm7wYHuT4lTIYxr7/vYNl46FjZcfZ82Xqgw+CwN4qExfOhCKMltEr58ro+VNl/eVLZfP5C2X8vffLuSCJybErdYqz2byyiL4sA4gl189NT/JufTdNaEcxkrHDF/kvhCQp7ajNkJl7bRCxYcUuaOkhMESlH7rhnEcT9BOiNT0KzlmLUz7E59jDtUPam7bduWa7KGWSJEcAjIAIJOVzFJxrhzy/0LX8nOnNBNfGQrkiXAlFaoLv7rOjMa6PitfsblxKmIgwFuFKpH8ljpc64bLyjV4pY+ORfpRjLJRCeabGJ8pEhMn47PuSQsQfd198bten3Q5XC3lPO4354q02ZNrLCd1pkIf2tNrtiqXuotRejKr1N89U8kRsMmn/AoE4dIonwxCbrrNz9umnn65pw3xpu1cZDgWBbdu2tRzYt7cMTIyVK2GQz7zxZtk4MVn2b9laLl08X873jZVt+/aUkaGhMn74aBl/5/2yvW+g7N2+rYxf5plNlS07t5eBLetLGeorI1GmPcPrypZI40qQ5OCOrWXrPXeWviCaSqZhX5RopVYmDRiZUgePryB/RIacvPNVnW20sQPbNfcs1MYCcpKO9rNpxTn94z5emPaVH5Dh9iAjd3GaHvYKPvchSgTJE9Qf1uTsbBU/Qw/XHtdsFyUBAYY3FZoQpaHr7uiMn8fua3ke8pozfc7HCLZveqJMT46X6SlTCUZZVs7s/woPY7q/DEToi0C55kOm7mo+FVBHnBHGZwLvsLMqNxBpjawvQ9bYIr5F+cE45r31ILHO9wURcUQRjMQzdNf54w79ZURtGul2Hclmny5lF6V45IDR9daSf/kv/2U1nP/j//g/1p+NsuEn02N8GVg7Kf2ShJ9I+m/+m/+mGlbX22n7DvpDGfzY77333l0+86lPlr4gq7OvvFJO/PTFsmVguOzetLW8d+iDcmrrunLflz9ftm3dXi698ma58PJrZcP6TWVk65Zy7MihMrV5Q9n37JNl+s5drH8ZOHupTL13pJx+9Y0S5qVsffrJsvnRR0vZvCWoMHQxhP6jVLM8aBuDKJ7Vz372s+otaRMenLp5VZ3Am0JGznUjvV33WDtDRuyTaU3raLxC10098sQMNmzmQmKCeNZCtb+dk7w+a6GC8pje1GcGJfmzWIn5ytPDWqLRjWtKcIL5cSMZP7WigxGezs3QjbYCJvJcIq/NHKfCc7oQI80P3y+XQ+EGRy+VwfDgBkIJ6mhxWhgIkouR8iJ1kwuCao8u61RknBivYaBcDGMxFiPbTffdWzYf2F+GNm4sg+H+DoYiI7j+TlHnlngRREbiCpSW0jlSOiPH+jhBKFKO2CHbo7td2t/na1to38tAUFr5mfpiIDKf7rRXCmkxGka3Ft29J1Neee12gjYVlkJwkAT3x3/8x5XgeAD/w//wP5QvfelLtQ0zPW3Lc/mDP/iD+tquX//1Xy//3X/33y2Z4O4Jgvvcp54p5cqlcv7VILgfv1A2DQ6V3Zu3h3E/WM5tGip3f+7TZcPmrWX0zXfL5dfeKus2bi7rNm8sRw5+UKa3bCz7nnm8TO0OjyfIZPzwqXLhjXfK5RMny/DuPWX7J58pQ3ffU6aHR2LQGHoYQj9fz2fZ4GqyIa72QUBIDsEbRCMzcmaX70Lk5l4BMbk3px/JvylG5Ebn9It45Fc/aGPEBdI2WEOC4qTnKB4bB/rLZhMBMfZwPXGNCQ5kQOiMbnhv5sMJ0VpMU7WFdnpitFwKRXzvW98ux374g7L53OmyLsL6iSuhTChK3CA3BBdeXIP5DbiYSGoggphi8eIm+vsiDJTjw+vLuQcfK/f/9d8p+z/5VBkI5Ta/2x91taW6TY5LgfSjK+pRnRAcBTl86HB58603Z7b+59qLNu0OifbnhQxExnFEohQT0VFUHpb+yemX1UIejCtDkr+k8OUvf7lHcEskOLJgw4Tf3fsX/+Jf1ClKBGf7eW6c0IYIzts7/tW/+lf1dV2/+Zu/Wf7b//a/relnHyR8B/clwfHgPovgxq+U0ffeDYL7SZk8eaZsGRwul8djoLhre9l0536LfGV4bKKMHjpaxi9cKtMhJ6fPny3r9+4qO++7u0wMh/c2OV3OBLkde/vdMjCyvmw1EHzssbLhnvvK4MimMt3nUZy5BJftkmWDhbyuNjK+I/tiMK3NtCc5bg/YkGHmYUpRmyE2XpZrHr/IX9hPG9XOn06SYwN13p7Bp3g8OXpDpp3nxYlnehgB0l9pps3LMl+tbm206+m+5dx7+6Lp62v+oDcFNYUAOQ+dQtdGdmI3Fu1M16bD6wnFvPLB++X9//ifyuE/+uOy5/SJsvns8bJh4mIZLGMNQVXfbbCSXLuW7dSd9x25mXIc0EDxbyJOTlYPrr98uH5jOf70F8sDf+//UfZ/5lNlcMeWuK9JRROmB7ccuCW6o9ZVO1jH+/DDQ+X1N16vz5xZR6BMeb3e03VcCSgi79oomKE1ek2jsJp022CoGAODHJ8///nP9whuGQTHEHvn5P/2v/1v1ZMwRektJtabpMVwiuOBbQ+DW0P6m3/zb5bf+Z3fqcZXnKsT3D3ls59GcJfL1Mnj5dLrb5azb71bpi9eLhvDOG88sLeMTk+WKxculi3bd5T+ialy8fDhMnoxvP91Q5X8+oaHymVGPwhu/MTpcjb0fjyuDe7fWzaF/G6774EyvGVHEFyj+3MpbnZ6HpEIZnu0y1JlxL05+6GO7lPvrLtz0iWLvD2elvjkHbnx+nhZSUTz5Su+wSAiRWYIkg7lM6ie303dkQ45dyT3QrY9LLVeeU8ea9st8d7bG42urc1QfQG0O6dmFp2sw1Pw2qF9PgUiQzteOwwKoQhDw+vKcAjqyMBg2TA5UbaGIdg5Nlq2x+hz69h4DdsnxsrW8Og2T14uWyav1M9bJnzuCnFuc4QN8XlDxBmJzxsjbArld35TeIsbQtlHQlHXRX7rh4YjDJV1yhFhMBT9qqErnge+KbP7h4w+QzHWrW9GoPW8eJ32cRRq3E78vLfdhr47P1/IuNm2jplmpuG4UMh72mG+e5xLhfS5h+VBu/LUeNeMJ8NqLcixbegYbgbbxgbeAmPtvnacBVFVVJwwBSHP/Vu3lQ0PPFB2PPVU2fHsJ8vWp58uw0FOA3v21unGgV27y9A9d5fNjz9etj7xRNn91NNl8/0PlsGt4cVs2lZG7jhQtj/6eLnzU58pB57+ZNnzwENl2979ZWjETIfyNLklco3LBhmvtzIYRtLqmPZjKVBP8ktnEAs5134gHV4bQuJh8dq0mQGAQbdBRnun5UJtRoalzztzjwfK9Y3pTe8KVW6ftb2BfJYh07tqX3QhSTvXCfVveqk9LA3XlOASSXDQ7ux2yHPi6VhI4cjrbdRznfM8KGGqz+gtRn9To2VkarysN0KLEeWGCBtrmIwwHiQ1VjZNCuNBYmNlvRDfNwhTY2U4wmCEgenmOBzn10fcoQiDUxNlXZRPMC2pVsKiW58zEnTaIttjPtQrUTW/SjDp2SRvi6hX5mImyZkwm/Zi6UM7nqA9u5VxvpBof14I7TiZTw9Lh/ZjUBlRxpTBRASMKYPtem60sP5jOYAnwSNxX6ZxNdQYfeFh9If3sm6k9AeRjTz6SNnw1JOl/xMPlLJnd+nfsbMM7z9QBoMUSpDcwL33lfVBDoP3x3Vv5Qnvf8M995ah++8v/XHv8DNPl03PPFM2P/RwWbdzT+kfWhf5NP86OVZ5YLjVydrhv//3/7782Z/9WX2GDVEsR2aynnmP74KpS5tH7ES15d8amk0gNqBYp8vpRQOyJMTFIE3xsl/yFVwIjVenLqaLTWXqI/2TnuVSofzu0TZIE/Gbev7Rj35Uve5smx7mR7ttrgvBpbC1CStDGymcRilGddaHUlCc775v9m9/kFtfGQ0n4fLARBntHy9T/THKUbsa1wdTlPFvuv7t3BfEGIo9FnEuxzdTmZrG0ZTkVHNbjRq3lYkov4fB7dwcmraBpRHaJLcMEDWpQqrsJ0+dLB98eLAK69Goz8VLRmGLCLwyR5BW+/fq2nlkgMlQnsuhyKdOna7GzmieEhilLoa2IECb4LohrpFkPtsjH8Fn0zQUuZ1ed1/1sHLwGJ588slKXjwQJOBXBTw64B2M3/zmN+vPGDHUHjLmwTHYS2//ZoA4PT0QejRUpobWl4mRDWViw8Y4jpSJSDdcw9IXJDa1ZVuZ3rSlTG3eWiYjTGzcFNcjTlyfCCKc2L6tTGzbUsa3xfctES/SmB4YCgFqKVMHqdM5NYiMHJFFEvRKQfZ5PMgS+bMl8rIuZrBg6l8+SWy8s5xxWCrEV3ZpIjmbeqRnChTRedyAHrbJ7WrpZ5skwXnY/Pnnn6/9bZqfzmmnnIrtYRYfbY++a/9rAjpDp+i0+aZO2h2ugNYTCAfFNeJiQHWm+xZy+afj+vi5s+XU678s5197uey4eLpsGbtc19EQmvo0/6oaN/fEJ2R1JdI7F2RzObhgeCAEPaJnM6U61lwir7GIe3ZwOBT5rrL7mWfL+rsOlOmNI8WD5fWe+DPbxA1Rv/3W2+WFEExTL0aRx4PgxBnxiMHQPD+hEW1Qf08u2sFP7lAg01NpsGbSjzg++yUEBNO8wfzF8tKLL9XPyCinbHJ6sLut9Y01UsZAHvLK8rTjgj4wErbWQ9Gs3dk4wpuQjnsZ2G4j4bPr+hEYA3WB7jxuF+RjM6YTF3sOLqEfBcbS9JpRvHbnKXiDvv4wwPBS4a997WvV0Or3xdrXNWUwkLQjcH8YfGg0pBN4daS/L8oXHlj/cKQ5MByWfSj4aiCuxzVHshnl64s4pjmdn6Z3nSCv5rV00orQAbkDsmggy6j7BQwk3Zb55UBa1irJtQGlQBd4bTa5JbFlm69EBtOQOgrS0N7SteuZrmQfu85uJZHCQnlmekJ+Tx21dsjbNKXKcyQPTbsuv/y3MrI9slkW1qobAISA1BhRisxboMRGMJTaiKYtAN1Qp6Zirnf8qvjuW0MHzSmfRiONU3F8P3TstYvT5d3RvnI2RpkTlDluyhWjzl0N3BvCa2NLQzVzrtZvLiMoD4l/EHX4/g9+UMntdJ0/v1Bef+318pOon5ElEqsjMfd17p+T4kdOzKJeinx4g4jm+z/4fhybNy5oqx98//vlhTB+uZie7bZQ2y2EvEca0uYpqI881cFo1fnukep8WG7etzo6OnhVMIy8t1/91V8tv/Vbv1W9BUZc2+eUG2Lz/JsdtwaDixFmG1mGqjudf/3xL/yZMih0Hq8ZqNv7w0jXf8FjEerjMRGG4tpQf5Bw/2DzOa4KA3GtEluk2S3KKQuIOZ9BM0hCQjY7IYXlGG+ylzMMZNO0njStrWkTG7WsufmubVZKbm0kwSBLBGaAp+ymPg0yXDOoNQDheSubfluKnri3TZq5Xijd9nphD4vjhhOcztThRnNGk6YTjFoI5Oc+97m6mGsEY4oBAV5NOBo1mqNKIYmd0IE1rYsRjk5MlXfGp8ob44guRrRTHioID6QqOQH2JwMljX9xH4KbDzVa3Gjd7Ex4lG8HARw+crhuP/7aV79at8jfsfeOWs+6nThGZYgDtEO71FdDjR/l8MOpBw+GoTt+ou7K+9IXv1RHwBeirV4LL4vHqG3ToLSVevbT4kDqjIcpH+2vb77whS9Uo/rVqNdTTz5Ztnc8kXb6PVwdS20tpMVQewTg7/29v1f+zt/+23W35O//3u+V//6//+/L7/7u79bfh+MVMt7Z30tHld5WoAERCHQlqSSExjuT/GxozuW1er+49d44J8TZROo82Tf7QLd9RgzWD5Hb1SANco0gHQ2wTAm+/PLL1as1C8SOmDGgF/ksqXyFRn/mhqVijg7F53bgWeUmFHpvEMumIVyDdwN3A/X2oDOR6TrnunvVif3Tr9IjB5Bxe1gcJPeGIjuZAWX4ufWmMo1WrDsIRjHOIzgCDQt2cFUw1XKMtGf+QUeY4pJ1tvAHy7mB/nJxZLhcWDdUrgwMhSfFf4sQ6TQpzIWUGp9rFuKBsz5TIK/72jCyIUbbD5dnnnm6PPTgg+Xee+4t99x9T1U0UzKjMZrzYGw0QL1/OWjq783+A2EU9pdPf+bT5XOf/Wx54sknqiGk0JdD6RHdRLRZbee4Y7k5uc80qLQoHOPzQBCcfnn4kUfKo9FPn/DzJJ0ppR7mx7ztHl24lP7Q14K2v+OOPXUa71fCm/sv/upfLb/x9a83b8oIg8qwLrsPOsL7UdnIMxEizqy68S7iMHsi0MSra8X1X4MaLUOnDkA/kFLubDTLwEP1W3a8lYWQtiLBFpDJ3ETCc0MGplx5tfLhHdI1BJj3tsvRTm85yPpkWo5VV6Je7JR6KYv6IG3eqe/KaXqZN9ce3HbDNeU2xQo8N15cTtuuhQd6O+CmIDhIwfDdaMUcvKPAJTfqISBGZQRzYVR1agWQR0eI4lTfQCnDQ/1l8/p1ZcvI+rJhnS3yIaz9LsZRpNYt0Po4B5kDB1FVOHj9MXLdsmVzeeSRh8vnP/+5ct+991UBJ5Del6n8uXOrCukKBLUR8r7aNjy2z3/u82XXnt3l/IXz5dDhw+VKDBg2RJ4eOegLQu3OQ33qWKCD+r0VZhD32cRyPvrGZpnDR49UJf3JT1+oUy+mkJ2T35z7utCd9mJxb1XMaYNo+znHq0Acg6H+kBmPhmyOAcyOXbvKJhslwmsIYagEQzNm8pgH3dc+EjflsR0CNU58bhtV5+TXznMmrfb9EfI8/U4iQD68N16JAS2SW6r3lh6OaVrE5mjgyAs08+N5S8SCSHhz+TalHCDDSgmi+z7flQmJWmumE/LknSqPV6t5gw8Cp/cZh3fGngGbkISrbmydtXRp8kKlkzakh/mRbdNuoxtKcDoTUkB0sM+5gJrXHSkEL0/n5/mPQsUisNwd6z37t6Nk8dG3kUh/dxiLfeHB7fDogMcApgl/W2XnopXsDGZiSbcTKBriMYo0rbA5yM7cOwXLB6v98OnmIG/kIY12pywd5unX1+lBRHb8+Inykxd+Wr7/wx+UQ94Gv2ljGMBN1QDWNZlOHvKbE+K0ozrUY2Dmmn6JMDYxXi7FiPtiKNzRY0frKPTnL79cvve975Xnnnu+HAtjVfum3j0XM2nVb3O/304B6udo525SyOuLIvrPmlYzEIs0psMo0oX47FpNJ75nelfNo33fIgFSPttpyrt5jIUM1+0oNbTvzQD1szogaoQc99ETht+UHr1fDOpGxpJIrDUjNrqFHJ966qmZtbZ8QUKuWfESLQsgFQNp6ahT1ms5+lfbuBPUAUlJ35q0YLYJGcnfeqmyKBOSUld2ATmzBQJvrz1wnwhbJ43cWCIdMzLyS7Q/97AQrvGD3ssBAcu1A6EtfOBahsWEsSOu9a8KZqj/4rRvvC1vKRkOgfKs3Ego6Trb/qcZ6EZZJZFkVo+de+dDk0NEiThsD8+qGqJOnS5dulxHY+biCe2BID3rAhSv3t8R1k52y4J1uGrooi4TkxPV4GQ7ng+vt05RhsKA9LvrkGWH7mOiPwYByrovjMgTjz9RPhsj5F/9tV+rU68I2mj0gw/er1Outf8690F3Wm24drsEyGPC9zqt1wlXQ8pH6kYjX6kn0mjoJ9PKvugOs+gM+q6GSH/m/kizKTNvI+RuspE759vl6kY7b/LJU7MU4Y3/jz36WDXg897XqUsSm0EiEiFzPEAzPbw/RIJETAkaYCJL10zXm9JFoHTEvUkq0oP58l0Itf6RjvI4SsPSijStr0nLoNbzcTbMtHds2jRiEwrCQnR0yhSkxz0QNduQxKt9kLZHGhCiNNpYTpmhykJXuB1w0xFchnaHupbXl9ax4nTHi06tfyHSi39IbjCU1Mu76iu2gvnqw+J1U0qNOENyi6EtKplzf5STDBktvv3uO+W555+vykXRnv3Us2VPZz69livKMH9pA4vkLw5jI1Do/dbiPvXp8uu/9utV4U+fOl3ee/e9GC2eq3FrissQ7FqPaPPhoeG6rvHsJ58tv/lXf7O+7Pezn/lMnQairKnkV0ZjFLqM9G9HVDmOliUf+n9woJmmXqSbZ1DvjYiN9C78r+Pg1VD7uxPquVZeqWttY1evd4VuiG8w47nLd0O2X3v11fCmGs9lPAdTC9yboN9IDclt2dpsAIG2Ac5ymVbkIfHYTP0hEuVOLw2h5CaSrJOgfZEIguDJIRzTochNOmYhkCQPcDF0l0ngcSXZKo/1RMspphOVR57yyjbI9mhvQqGj4iurAXBOtUqb52bpQbyrPfKxFCBj6bb3MajHrY7rTnDtRs1OB8KZ61I6oz1Kcg/B0NEz61YLoJV6J7TR6tD4qPLeRiIWIuO7+YkcQcwau3XLR9C5lrnkMUGg3nnn3bpW9V54ODZiPP3MM3XjiSkMnlF/v52Hs92wVEFORaOc5utPnDxZ24giP/PJZ+oI0cjaLk6enHaMG+ZUp35eqPCJuEfwWjTTnRR365atNa8NGzZGnbbXKdArV5rf+Wv3bzuvHmZhEDAxMVkNjTYbG/XbhWMzwW8ZWtP08L5w6crlODZhdHTub+zNF8QxDW7AMSdEWmN+JzHy9X0sjoxrkstSZY9cIbNXXvll+cu//F75zne+U9+X+bPwRM7E+SpnHTlYLE3X5J9x2nHdT/8RBxLKZ/8Mpgy2TPchLKQijbbcJaSXoc5A7NtXPTpHafOe7Gx0tF6WMx3dkHYGcewHMNWZ62hsEqJSHvqRXuRCUB7X1YOHRld9tksZyZlK1VdshLTqQKhj9zIsFcpMJtgIbSh9ZCqvhep7K+GaPuitI3KnlM+mEJBYXoMUTAaY0vAEXNPhOtUisVESl50wcPEJR7uT80HvM6+/Ui68+ouyIwRwSyjw0FTzCHbNoUaPenb+eYh1om+wmKQ4MzYe5NZXtg31lc0DMcqKMmmO6r3FzV6+bO3AG0/ODgyVib13l92f/ExZd9edpWw0zSjF2dGCxxCuhDGiOM8//1yMyg7WxwOefuqpOjVp2kJ93TUUdTSad38tYqc9zp+/UEethHxnEKN47Tar7RaBl+a5tPffe78qsXayg1M7Uj73UurNm2OEy5jUFJo0RkOJCD5B37F9R8RpHvSuZemUSWkY3cOHm9dB6UsjU32jfK+9+lqkcbJOp9x/vxFy85xR5gOUFdHC3WEI3AvtPrxdoN1NRdn5p1085nHu/Pk6CDkXnvbZkGPXPTfJCDnm5yaEnM/5vnDI+87WeyKcjc9nzzXX4vOJII6Lke+ePXeUPWGYs8+7UeWh+VgxGeR8Lsp54oSfjmk2hYkhXWnQ3eEY9EAjzZ37O+l/JI+OHFS5jn8GfAha+chwrpvRBfqDTOTJlhho1XJ30mijfc5ncuke+keG5Zeb13K6kv4kmSTEQ4jKoN/yDUvAppF9dkn52vfPV6Y2XGfLlEWZ3Ksc7CDC1QauO++o/HnfUsHOSAtpmka1dqns8pGu9pD2rYpr/iaT+QguO8iR8OR3jS6uDtaZOtiojYAbGXHpTUVUA9rq5FmCe7VciBHKzksXy+YgmKGpieK1WpWoanSG14cY8UWFpyjS5HS5PDpRhiO97cP9ZVOcGwqCihhVO5vY8TE+jMW3swPDZeIOBPfpSnB9nW3NmYXg1wBOhvF/6cWfluefe75usbe9W93PVoNzppILI9BujzbOh1B6hm1LCH4luM5U1gyiXsonrZ+99FIV4JDm+kjA0WhD00byeDi8RdM4m4KI7e6Emkrcz8CePnmqllcem0NBkwTbeUnzWCj2z4NI33or8ol7p0LhPwhF/8UvXq6t6rGBe8L4VMLONJrby5WQgcOHjtTPd999V40D8sh4t0MAdea5Max048rl8NBCPi5dvlTP1RCEV48XLwQBXQzDGscwrk3weakh4rs/0sogbVPWl+IzD25k/Uj1aKon1OmPWs5W0N/01DHlQh+7xyMjn4gB1EgMrvwCBuIz7bjVpojOvTP93Eof6vdOeuJaS0YkPFhG2M9FMchuuuOOvfVRCG/xQAiILQe6mcZ8yOuCMrsnH6BmS6TFzhhIIzp9QyeTpNSbB8QmKYvpSIRhMGm2JAesyiO4r9s+zYd2uZLEtKe0gEwY6NBREKdNRIulX/uqA4NXsiQtyMcw1FW95acuiauV++OGa0pwGloHGfVAm+AygCOhIBw6hCDxQAiTz0ZGFpLNbbu/W4AagovR72uvlYsILpR78+jlMhjKwoODZpUrKlkr2nhwJicnJ+JKxNsS5LZ1cKDwLwej3NbkXIdKcPF5LL6e7R8sk+HB7Zrx4Gaf2xG7Pi4wFfFCIV7+2c/LO2+/HR7VWDUsR6JOvquXxfldO3bOjH4bRC6EM/6fj5H28WPHy9bwvJCPtolKN3kIEUfdEA0iO3v6TPkw0j34wQfl/XdNuZwtD4bxefbZZ6tRGPQi3Xpvk0ZYkxkPDsHx4La0PDh51UME54RLFy+VY0GeCPRI9Iv8eIsP3H9/efzRRyON5gcmhYpaRh5cDHIONYaKQah1CbQ919siqG8E9d8QhtXgRUAGmzc1b6zYvHFTlXeDjWqEa9hSjfGygnvi3ppGpJV55TVyt33b9nJHkBH5Mtia0amQwei6is6Z+E4DmvLrN8Z2fRAFw3wx5OKDgx/UsD7qVTdXRH3y3pl+zvQhMwh4tMa7WU2tngh5fPu9d8t7Icdj8d1a1J0hM/v376vll1/KWLZnG61kK+Zene2DWv6wJdo6pxQRAaJzBHkYhLBBpvXoCnJE4LxIXhtyyPJkmZaDjO9ecoFwlcnRNWQqX3bU9zaJzgc2Nwku01Y3/c1+WrdUB9O+SI+3bTNOxs3jrYLrMkXZTXDZOe3G9DlHVjrQCAa4/7wD05Ou5ZQE5BHBTfDgXn2lXHz1lx2Cu1Tf/I8IVMcUY/0Qob5ZIT5Su77pyfDepsum4RD4ODcUKjLnN93icyW4uKcSXJ2ivKfsfuYzZTi8EVOUsyk3gac0NTlRPTeKrt4eFWBYKNOWOGeTSXN+S3NT5NMIZpP5uXPnGw8urud7+aLCnctK3vwdCFJOA2hEThFGNozUB8s/9elPhyKGVxVtxmjV+xPxvRJcx4OTB8WaVZyIW6M3gw+PIzC66+NoEGJqzZrc4zHwsLOSh91MpXR5mlFgZTp8+FD9lgRXyz8n3u0D9WcYyfO2MDzClgiMkOB783lb83lbHIX6fakh7tvSSSvurenVNBBbHMOwSZPc0Dt90R751/5pPtZrZDq9Ad4Mj97MCsP/2uuvhbf1VvW+vKXfc58zXnoN8XeBvjYYnBidKKdOnCoffvBh+eC9ZvpvcHC43BtEeV8MnnbGQHCEV9U/u4lkRnbmSVct8uz8uTaQhr5IUqGbvBqEhlSQi88CLw4ZIIjqoUY7pi3K8syUaZnIewVkpD+UJ/VRm1sOSOIVR7kd22j3H0jP/eJKE5CapRN1YovpIznIsufxVsF1+cFTr6kBz6loTI0OGlOntBvVnLGpFUrks05gCHTQHMEO1PvjyEBfOvh+efc//Lty9N//6/LgsUNl79mTZd34aCWwqSCwyRo38u14cP67t253dsXWsyZG3XiCACpieOnlXTaenI+L7w9vKKNPfaU8+vf/n2XjF78QrL2riddG3EoheG2mPHIbdYJgIgpGzu++NYUx8mo21PjOO7LmdWd4ich9OOLX559mk5m5h2Ex+qUAwuDQYDVu+QzcnHsqeH5T5cyZ0+XNN96sGw4euP+BqrgDHcMUjVuL1b5XXeo0V4TLly/VZ+8YSH1kalO9bJqp985gupyKvvReTPjSbfyL3gl9TLZTJhZqh25ZXw7a8tb+nOk4dqfZjteGePrerEpuz0cE5M5bbsbp6cj6KqtPPvZ4ObBvv8Saezv3N59a6GQ1cXGsnP7gSHnjlV+Wd959u/QN9Jf9995d7nv8kbI70vN7icpV9TLSqWqaiO/tEufndm5duS4I/aGOBuO5ESMH2QZ/+axe2qIkl7RlawV1FbSZI1uY7Y74kbBBv+lR+qos7fiJqqtxL0JD1DnlyUN1VH51YpPpsPsz3Bpo2nFte2cNQGAIkSkAAsXL0alGId0E1w3d60kghOYf8a5TkTyquK+GONfslHQtOpRhlm6N3UmjFbfx/JrzvL7puge7ObcYeDM7du4oe/beUZ97uzPqk8GrtYygK7lJ6+rJLQKjNAvV6+tUpN1lRmVbt29ryG0NgTh5GgfuPFBfz1Xzie+8u8FBo9mbTpxuSpBhsszINIOC2SmuDN3n2wZoKaF9b6bVTlOcpSIHnTYp+GmeH/zgB3UDCwP7ZBjIz33+c+WLMXD55CefDZnf2dE9U5qhQVw0htf/OEZSMbiaLmOXR8u5IyfK4Z//orzxzb8ob//ZH5Wj3/1WOffCj8tY5DP14ZEyfTY8FksIUd5poSpK1M8/9azfmlD1diZEPvXM0oGs61poBJ+lz0Pj3WmvvDYfmawlMl1HJOWBcMFn/aAMPGePOdh8Z2OPwYbr7hF8R4rPPfdc+Yu/+IvyjW98o3z729+uL0rnCbITZsWQJNu6HFn4uOG6bDLJKUoKYfSeDdpu2PbnbuHp7oDu+3OTydnXXikXX/lF2X3xfN1kMhCC2lSFUPrY/KujwTjnp3EatalUFqGJborSWlj7O0zEoO3C4HCZvOOesssUZZBV2TS7QDuDvBGk5Ut+B19rgTonZ6rbfEAUdtbVKcqtW+o6BIKfid+FJinXOtfrIXKdL/7MqWbq8NTp2V2Uc6Yo57lXejOhnonyKnIn7kx+edSP8dFWd1Mi0F6Dm7d8twnmtOU8Ya2xlDQXi8NoGv3TZfq2K2TSpg9v5Nm3f1/ZHUZz04aNdbBIJkiR1IgH0pkMWeDpmUY/E0b2w9feKO88/+Py7l9+q5x+/rtl+q1flpGTh8v6syfK1MkT5cLJU2E7xspUfwxsY7BYYnDVPL7TyFQUtpM6zZ2Lern+az4vBHYGaagb74jX5gi8JJvarFuRVwSf5JeDhXZfrbbPlEXaGeSnrXPtz2yPAb8d0T4rC3ITj/4qT5bJOZvOEJzn6sRHZjw2dXKkhzy3tuOw2jrcjLhuBKfxEBzPJhszG7S7YdvXu6+1kddstJg4e7pceO3VMvrKL8sdly6ULUFw/ZMTURPk1riqJhWao2nHOFcV0TWvWHbshBC25tosucmqLxjxcozqENyOILihu+8s0yE89aI49W8LWf6PXGihk36SevWC4h7vlLTJhBDu3LmrQwoSyhtmPgWcbzKpbeZf5lsjzcas6Jyj2KaCPZO1bVuzg2uG4OZFk8csPto/Tb6z52TVrMH1CO7jgCo/rX7Jz/qMfOzZvScM5sZy6eKFci4MrM0pu3btrmtk05P0iH41MixYGvC01djUeLkydqmcOvphefunz5c3gtgO/fj7ZezVl8qWI++UvRdPlt1jF8rWiDNw6XwQ3Mly7OiRMOJn6yzK0PrhMhViMxk6WN+tGrJXh6UhYEooX1nWY/xrjguDvtVlhAsXqmzyhhA4MrBJJqcArbvRQd6cuKZneVTahS1rE8RqoDy8MGVCXNbJ8jVkBrjKkzNazazJ7Jqa4H5lzHVBdhcxOhq40ju7qaVhmUjZxW2XfTl1mLVXq6v3tcZ1JTiuMQ9upY3aRvu+6akY9Zw9Uy698XoZffW1suvipbIxjGpfEFxdxW5lUT/WnSdNB1UNya+t03OO+TnyHB0YKlf23l22P/uZMnjXnWVy/bo6fSLdj9Rk5r7OsRt5HToCIzLhsUUcwVlHI+DarK7bTMUYNgyJUXQNEVewxbp+bp/Pz+17OvHBuh0loFiUxoaXNsE18TJA63s91fpe0TKOrf6xFf7I4eZRkbt6BPexgL7J/nHkHTD+dl56kfhQ/0AZi3618WNvkN6mkY2lP1StakIYEzqB3K5MhixHvDOnjpUjr/+ivPO9b5ajf/mNMvXKS2XT4ffLHeePl7uvnCn7g9h2jF0pmyfGysj4lTIweqmMnztZLh0/XC6dPBp5nS/jfROlf/1QGV6/MTKK/KNs3sfvOdVKeXFshxl0iVlulrGbGbHlY0w2kCCAfBRBnZEAYqcfzvGuDApzatB94qT3tBLQsyQ2ttL0os9IzFINcrMO6HvmVzerhb46R39zU4y6IS/XkLM+Y4MRs2vq0T0t6fNSyp52Q9y2HVnKvTcK14XguP0MZ25H1dCCjsnPBCc/t0PbbZ/vOqM9ORnpnDtbzr35Vjn1yutl0+hkWTcRo8m+CFG36cEghwjTfm04BNEvENdj/Z5haDb0tz5HKIOdY4RLwxvKpSC4DU89Xab33lFGI63JqRhNTgTJRJ4egp2KYOPLTNl9D4KZ8mLa+D4TfG8FcdQJkfHgKB4BNeKyK60KFMHq/OvG7JX41xHAmRD/mkiZRuNZnTxpinK8KrGHtPWPMjflaZd/npDnW3GVvdZHfQ0uQpbs1iQDA0OD1Yj0CO7jCf3VGPwt1ZMwTWla0i7e9SGn/Cbe1rhHUEIfxsf6yrnTl8qH77xb3nvhR+XD73yjnP/+t8rG135eDpw+VvZdOlf2Xb5Q9oZ8bB8dL5vGJ8uGkKGRqYmyfnK0rB+/XIYvnC0TRw+Xc4c/DKMfhBdxJ8OWDKwbKdMhT+TYixkGq3jPI09xyqW6KhfxyHy+9gu5IQWyb+1aQADIir1qD8S7SQW5IaEkOudSrhNXk2/64l5loOvW1hCRcno2UXkccw8CSFNQNkSWuy3ZDcTLCzVFqTzsrX5iP8A9SE995QGZ3lLgHvkg49T3PJ9YalrXC9dlF+ULL7xQjxpcIy+GbKB2Q+XnbMh253jd1VQoxOSpk+X0j18oF557odxzebTsGzUaPF+GyuUy1RcEWId1kc60tBYKC6MpdX85NbS+HLv7gbLui18pEw/cX65s9DLV8EqD5Pwz3WlcaQKlYvFk6z01ThSvClAIjXUMHpxpCrshCbkNKbUdsotWA8lEOubxc0ecKUrrcH6KRTlmdnR2yjUfkjRrHRKqM9N3zWMM0vdWCs9cfeazn73td1F+nDEjC3GsA9Sx8Waqzm7HEHkDnMujY+G1xwDq9Hg5/Ppb5b2Xvl8uvfpc2fjeq2X3yQ/L3kuny3a/3hFEOBxh3USMHTvq4j2wU6FsYxFGB/rKWAw+Lw+uKydGNpcjO3eVC3ffV9Y99lTZ96nPlgOPP1E2e4RgYLj+mnijS3NlUSCnykWnDn14qHpIPDjEUYl6165KAu39AW1knV2TDnk2LcjbEpAm4rBex8YZlCKkxeQbOSAi+icgOcSKYM3YKFNucJkPyqQseeRIIDdp5S5JZJwEp8zKqWzOS1cQbynIfJBos6wxUcunvFlf6d08Os2GTV97giNI+aZtDZQNIPN2JwmwnAZq1qs6aUQH9p09UzZcHC27xkvZGR7EyNSVMlCuVIKb7jPaiLRr+oRG8LmTX1YdWkWYaZEgRvQ1Gg11Ojr2fAjNuRg5nQ+vrr9vOAjO5Ix/1iHk1YxuYKZ+/nfqOQet/LKN/PPuQQLokQLekHOUdTWQhv/+KEt6mh5BGB5e12wSiPyVQ4HnLe8yQfCHY0Rp+uehhx+uo0vp3jzK0MNKMBEyafNIldfoyunJsTJ+6UK5ePJ0eFxnytFXDpZDP36pTL7xctlx+mDZfeF42XX5dNkxfjF0c7xZ3xYwWh14BnJ+McJ0nLaxZDzI6+zgcDkcXtvhTdvK2T37y9CDj5S9z3yy7H/0sXLHvfeUDUF0JQaf3k7kV8WrnIcukmOPwTDKZhEQgHNIxPQfQqJjwkJk0g33M/AGiAbubJv0Eb3nQc1SIDxyrm3Ieju4NwkSKSEeZGsg6/6cHk0spifSyyPPKj3U/HWCJF71zeUh3miS0VJ1UJmRaL4T1OAGUaqr9T1e4W1JcIwnQTCCaCM7u91B3ZjvXLsB8/NMWvF5IM4Nh1asC/s8ON0hmkpuzfW4yZ+Zo3Nsec3ro9nNIO9tXs48Wcbj9svhnVzpM3KMENpYU4zrCG7Gg+ugqYsYXfk41fxpijSDRjFEVs/m89phriB2PnfK4pB5w4qz7iRL8D1fR8GM9pZqSHq4ueHHpUZDzm0imQ7CGj0X3sN7b5Uzr75ezr76Tjn36rtl8N3D5a6z58ve8UtlZOxCGZq4WIanr3RewhCCNStmsyA3lfNi8BpfPLIzHsR1YaC/nA4SOz2ytVzYvqdc2XNHGb7/vnLHs0+XXU8+XjbefU8Z2bwjbg19NE166XI5d/ZcOXr8aDl85Ei1RbwZa2yIzdQeUkpdmKsTVweiY9d4X+mJIRjp8sCQChJAKBnfBhUEhNwM/uWvTIhNfOSmHOJCu0xtG5Dn81zeo44C4kS8SA7kwZvLdTllWk5902tFbjxgOqyuSNyvHiA5dVmqR3jt0XDCNSc4qBl1ddRyGncpCHmuijYRR30u9Rkz6idw6r+4Fvm65q946Kr+5IwEnFgA7gNTkMPT4+EZxugwOnkSwU2bH2/SrTswG7Ws8SHrOlvnPDb5ZbYut4tgmjCx1u0FbeWY8wybrOqlVmGWgHY9aiL++3INyt7DjQe9GQ+iqj+dc+Jw+fC1l8qJl18sl3/xShl8/0jZcvZy2X1+tBy4PFa2j4+WwYnLoSsx0O2z+cugk3yH0MyIWSMzNUA9Nl/8jNV4uHyX+4fKxcHN5ezItnJ8w8ZydMvmMnrP/rLxqceD6J4tdz7wSNk2sr2MXx4tx0+cLMdOHC/nLpyvz4TykGz/523kFKKQA64qq8tEenOMfXvKkTfFK7MTE3nJr+21uS/J1hHptMk2dfNq6I6X35NMea3yRMIGmPLLacv0MJdS7/TgeKqO6utRBHV9+umna0hyvjlwHQnuekC/1tL743OnKvW33Tonm89RN53aXGzu8TE/LIS4oYniL8VM8jHU9K6Tps2oSiW4ToKZ7EL9PpvvzIcuLHDjGmJu2dpfCEnn4zIwm160Sn31ROfEnHx6+DijGlIvKg8jeujdd8ubL/64HHrpudL/wdtlx7GjZcf5i2X72HTZOjZVNo2Nlw2TE2Vomtfmt8iC4IKw6qLdHLkPAUnh6ZIVBDcRYTIGYhN9G8qlwY3l5PBIOTqyvhzZvLGc3rOrFJsyHnuy7L3j7rrx68L4eOkbGijbwzPyY728tpymmw8rNc7IJL2nfD4NsfDUpIno5IkAwboVT0pAtojG9cxf23YT13IhrSyPfE2l2siC9JQH0ZtezPU45Yf52ibLY1oSwSWJ+1UFaX/6058uzzzzTK3HzYNbjOBm0KmCQ4aU2/zejXq5cyE4rzk2h4psjdlz/D4B4m/nJn8zzE0hMF/GLcwn0CtVuFWhnecqlaxCejegGj1cWzCI0xNT5fiHR8oL3/1uef073yzD771e7h89Ww5cPFO2XrxQ1oWBHQouG454NpPY7Wh6f3aASL66ZWwheTFAdQ8DPFzG+ofLhYHhcnZoXRDduvJeHA8GgU3de1/ZcOc9ZcPuO8r2fXvLPQ88UO7x8ucgksRierUSnUvdTZID3lquVyE65KAMnkXz6j1km2thGSDJZLVQj3ZaPErrcn7/DjmZRvW8n3VIRJveYzfBuU9deKDKa6dn/oaetK2rIzfpLHfa89qiqfv8Q5mPI1ImtG8E7cx5aN5WMn/oRK0hz+H57tB9zaobn82qWw3y6ITavzV0vrTDIiAY3SH+XL/QFKI5rhUyvdXraw83GRqqiv4Nw7fBmtPmTWVPGMddYRC3j10uGyculvWT1tsuhg5eDlG4EvIgdDy4GYLrHDL4wyjPE/rsVA6i7JsaL4OTTR57Ri+Wu85dKPdfGisPlqGyf2Bd2TqyoQysGyqXx0fLpdHmh2IRDFS9WmNkmo7WoBCdKb06CIhyO4dAnDNVyOtBhPOR20rRXS9pOSdt5chpRWWQN+JCVi+//HIlYV6nNhIXkqx5fuK88cYbdR3ONKS6uMYTRJKmPdXxWrTtanHNn4O7blhCkTOKo0CcLL3VLo0TlaDie43nc3OYEzRT8zn/zV67KgjAcsL1xHz5dZdnuaEb85zq4eODNMCNIWvmMOy63RpG746RdWXL6IXSd+5kKXEcnBgNgpsoI0FmNnsNoMM6JRmhKlmTVkWT3FzM+S5uBPnz4iJUXY2zU/0DZWLj5jJ0p5+w+mS5+7OfLXc9/VTZdmB/GQsjfPrM2XL50uWaSpLJYhshlmuk26TkM/JCHDZ42ETCU/KgtmB6NHc6IhpQFt6RezMklloW8TJuOw1HeeWuStOmYE2Q52Wq1HVrgqYuAXnlphhlRHB2wZvqzJ8Hcg5R252Zv0a+WJveSNw6BLdEqFmGqjceSB4fK9PjE9Urax49aMVrf47QwyrQa8CPNdKIzhjeONi1PLJ+Xdm2Y2vZtHNz6ds4VC6GCl0Ymyh9EUxLDgSZuaNyWtrv+WShptsJM5+hc6OvkfbEUH+5EMR2YWikXN6zr0w98WTZ8KUvlZ1f/nLZ/vTTZcvdd5Ud+/aVzWHAbdTy01OMeK6BMeC5yaSN7u9XQ5KJwENCIN4d6dVfPCCEgEjsMLSxw7QkDwjJ8ZhM/SER5IB45S8kQcHVypT3JNLz4o3l21qUyWeEpjz5ADmiQ1i5E1QchCd/ZRKko6wIUFkdMz3pSK+9OeZmw21HcFVVOgLUPz5ZJmOEdzFGXFdilOM9lEMxyqrDQ3CYaYpbt02uG3pNeEugMaod9Qi74WH+gfXDZd2u7WXDnQfK8J49pWzYFB7UQLky4VECBOdtI9Olv+5WdieD0xGI6tHV1GaP3SH+T4Vejg4NljPrR8rpLTtKuf/RsvHzXymbfuXXy6bPf7EMPfhQ6du1u/RvGCn9w+vKho1+6HVrWRcGOHcAMuQIhvFOT4U96CaKqwGRMP5JANakbLpAANbabOCwkSNJTV6OPLpcD0Rw7kUWSEmc3NkIyy2TekgHkSNbXpuNJcqqLKYTkVo+HoHklQnx8S7T29NGyAzpKpMyIEGDBOmpM4K0lujRhpvVe4Nbb5PJVaCGtjf3TUyWcuZcOff2O+XIK6+UgdC3XQ8/ULY/+nApoRhVcyvRtcMqkE17u+LWFanbCjk4bAxv473YMex9sNPT42V6crSUS+fK+MEPy7mf/rKc/slPyqVXXywbj3xQX4K+6UqQy6Q0qiZGQnWBoIOOniHAjIIITUOGLl7kuW3dUi7v21/WPfhY2fnMZ8vIk58s5e77ysS2rWXKLr641YvUvZiheTLVA9Dj1TibOswNH+0HvRn7the1FCAARIBIGH1khSR4ah4NsA0fObTT1FYCwkFCNnu415Sf/N2HGPNecK+Q7Z5op5lAUMrhsQDBd2lJE7FZM8v0wL3KB0g/CcxAAFGqj3ZCyAjONQSOIHmlyivOctBdjza665nlXBk6snm7EVxnFaD0R4dOHjlaTv3ilXL8l6+UoYG+sufJR8r2px8vZXuMDvuiQWqjaIsMPfRwe6MajRnDw140NiPMSVxDcg3R9Y2Ol8mT54LcXitnfvi9Mv7ii2XTwQ/KhjCiw1culeGp8TLgkYHpziMD0qlqFn+82cQrTLzKpG+wjA+tLxdHNpXLu/eUvoceLMNPPVk2PPlkWf/AgzEqvaNMxYB0IggiX+dgJiY3gkkyvS3rSAgOKTHUvCXTiIy/7fJJdNBtXNPwOp/rVklu0kaUNltIDwGk59MN6QhZJuUwpSkt35WjPX2Y5cn8oZ2udJAtwkRq0lFP+SOn/EWEdr18zjL47Jzv0lE3hKtM2so1pK1uSWbOKRvvLwlyqWjXA3yXnpDf28jzy0fTzrfdFCVQgujd8OJCua5cLkMXLpRhnbYnRnN7dpYy0pmmrI2iLTL00MPtjbkGJz83RNIEu4pDb4bWlf5Nm8vIrt1l094DZePuA8FVm8r5S2Pl3GW/lD1dggLqLxBQx7BGEo+jMBifB2MgOlgm128qY7v2lrH7Hy7Dn/ly2forv1k2ffErZfDBh0rZsatM13e09tcJT7/43fyDxlDmN5thEBjyybeLmBpECLyenCLM9aQ0vOCzgIBMKVrX8ggAImDobbawFoXcGP0kE+g20PndMacIlUeQh/R5UIhGHGl1k0iWR5mTtE1HesOIMubaH8/N9GN6kY75GfJc+7P6J3lpD56beprizfbLOipD3ptpXg0Zz70IVh3UFUHLC7rLuBrclgRXEQ1sgXwoGrg/BLwvRp5DO7eVod3hvfmlbR3fI7geergKWnpRjVGQQ+jOdF94Bv0R1q0v/dt2lKE79pXhHTvL9Lqhcil8rcvT4XnYVTkZXoTpRB5bpanBuHeojA+sK5fWbywT++8qA598tgx/+atl/Re/XIYee6L07dsbg9ANETWIpOaVeWdpgpzq59bfuC4wzDyRNNQMLC8K2TGw4rSJQGCIGWEekl8gMLWInHg2dkciEtN46bUJifbnRMbJ4D7Th8rju3IokylQeSfZtJHl5mlZ/xOXp2bqEOF2T3O2SQMy7+5zIC7vFunKG2lKH5FqJ23oepvkEu30FoJ7TIkiNWkaLHgrCrJue4ZLSetquE0JLjqc4FOwsdEydvJEuXT5YhncsaWs25UEF8pTG6VNcj300MNHkbqRBpN2tbTGbMi6wdK/fUtZf+COMrRvd5nYGt5ckMSliRhgTkSUySBGxDa4roxu2FJGgxAnH3+irPvq18q6r30tvLfPlIEH7itly+YgtkhfmhHkV0PNK4ktQhjR/JzIuIxne4MFskMYiMvUI+MrnjiMexKbNTzkgzx4SEkk6fUB4932bNrH+eBaBqSR5VFGpMqbQyrSVB7xEAHP06YWZXbNdCSyNSWpXun5ie/YDefbx4TveU8SmfKoo7rzdnNTjOvKJG7mlWnMhxwoqJOpXbsxX3311fLiiy9WkpaPzTD55hdYKK2l4rZbg4NayyC3vonRMhXu94Wfv1zOHz9Wttx/V9n8YCjR5i2hRBasjYDaJNdDDz1cHe1Rvc8RDCanJksZv1Kmzp0qlw9+UM68+lq5+NOXyvSLL5eBg4fKwMRE3SgyFB7RFutszzxThh9/vJT9d5ayKXRy2I8Ld9aS6p/4Wz9kfhYf0FxDMmjPv4WQZGTtieFmZJEZIBqBUUcivA3fkZr1KEaYh8TAJ6TFiNe8o2ztsBwgDySmTEhA/rleiLx4U6YyxUNsSEHZeD+IKMlBORLtz5BlWqxsWRf5aAf58hgNApzj4WmL3JmZbTFfmuKrj0FC/qCraU9HZCetL37xi/Wdlj4jz9Wh6dvbd4qSKtiePDVRpv0sTQjG+jt2lYE6Qhy29zmaQSMnud0ObdJDD2uFWdKpxibUxzb/ySCoyTDWk1u3lL49u0v/rp3lyvr15VQYtBMbNpbLd99VRj7/2bL1V79WBp96qoztaTaR9A2Y/mu8hGpA04jWgz+d7zP5Buba9I8gjT5CyLUnpIVcGHJTZ4wx8Ixss7cBhDEXr+21JDLNmXJ20B1vMbTLg9CkiRx4bPnWEVOipiMFxIdwkUJ3vgsh48wXt10HUB7kpTyCfLKNTDHycjNfYb524fWZhvzZz35W21QaiEw8nz1y8Nhjj9XNOumprg6dste/txlq1TWgdYL1G8q6/QfK5gceKMOhTGXYBpM2sfXQQw+rB10KneofLNND66pH1n/HvrLxySfLnr/yG2X3b/+1MvxrXy3jn/5kufDIg+Xsgb3l0s4dZSIM+XQMOKdzBJ6k1THCsyQ286F+DFNb/y2EtiHOz4w3omBgGe1cl8truTbU9tK6kenltfniLAXuk1euFyoTL0i5HH1XHp5dEkJ3Xu3vqylHHpUH8Sa5K0t6Za+99lolXxtSTPFqo4S2UuYsv7VDHjEPTrB2+EDYX96g9Fda1vlwW05RzsK0iYXuyah6BPP69aHTaIwatEM79NBDD0sDW9Iinao/zTn/puLfZOhenxmU0Uvlyrmz5eTR4+XwsaPltBmVDZvKnr13lrvvvKds3xhk6Nk5qklHPbRKN2voJN0B3pP+fOTW7V35LjDGDK2pwPyhUEYcgZi+RHQMOu/CFKXNJa6D80Ii80gsx1hnedyDDEwF8tqQhrUrJIvsTBXyoJBx/gSQ8zwhZcn6tdFdrsRC5cuy5H2OSInXZhep/BFrrpfxKrUjktJGvErkLH335oBBfay58Y6lh9CeCk/9K1/5Sq2LOqwVFP02nqKEqKeqElAN6zhDbhrExQw99NDD0pE609af5oh86j96FiPr6aHh0j+ysazftr0Mb9laJgeGyplzF8qJk6fL+JXxMjQwWAYj2OqP4Ex3dqiqE+ZC2vMhjXkSQBJbPveF3Hy3pmTDho0k1rgQHcIRj5EGRlsajHyb4DKPRPf3hSA95UGoCIxXZGOLzSSMPuNvihSZ2djCc+Nd8oaQjfLJKwm3XaarYb4y5jnl4pEhMOSE3JAVItNGypNt5LyyC+7RNunt+YzwrBU6Z5pSej575ZedqDnNupa4zT04yFGKUR/E3zkdfju1RQ89rDXSpnwUoXn1r6F21cH4PzU1WS6Ht3IyyOTDg4fKqdNnynAYwTv23BFGfm/ZvGVL/V4NeEtPl0IkjZ43cXNjCa+t/YYOBpvxZowZ25xqQ3yMcnov1o+8CUV8hlma0leuzAeWWi7lkQdykA/Cda+1P+SG1JAIKFPuaLQpxq5EMNXHc0I4WaY22uVqI8sOjnmffHhZyoNwlU29s414lEmkCNZ1Xqf4PoujjXIDDDITz2ae7373u3VAYRDBg8t46RmvBVSpR3CBTte2an171b+HHm4cZo1uY2Mb2vMzH+fPXygfHvqwGvs6JRcExODvveOOZkouvAKgrVcjkrYBRw6IjdFGEu5Nw40cTJuB8xmQnfsQCgONVMRDKO7LzREgbpYnj4shyUqZbNpAdAjWVKi01TXLAeogIAvtkqQiDSSY05Y2oizVI8o0ES04pmerXMgOgUo7PbZEknqWSR20EW9XGyEuZMcz1kYGCTacAILTp+rr2lLaa6mI4vQIbha3c9176OFGIfVuFgxTwlQXw42MGFpGlDfD0CKVXOeB7qO4beQGBx6b9BhxxprhlRYvIwmhO60EA85wI7r0VBCQ6bokR9OH6dm4vzsNQBjSsraGEJRH2XgwyIDRl6608v5ME5JQIMlIeRylm8SLXLRRktB8ZWmnkxtATEmqo/ZHbMqk3ZOI5iPxTEfdpKNeplh91rZJjqDe0jCwQJbSyPthvnIuF5LrEVwPPfRw04LRSyLgNTHiiI5x5OFYu2F403sCxrFtdH3mFSERASmJjwBss0ckCEDoNqzt79JivIUkXiSgPMrIY2LEBUSQeWfINCDXtXhICFf9GP/coJFGX2gTWzekl+WSBoIz9SdtZKmNcvpvvvpB3q9dsjzVY964sRKbNKrHHG2eabTr004zy6M92gMK5fJdGyFvpKmOBgTudw9kWu00VwpJ3uabTHrooYebGWnoEBIvAHHwNHhRCI9RFocxTyLwXRAviciUmYDocv0MOfqc3kjmBd3fwfc08MqjLEiAkU7Ckhfj7no36UIafUSSOyRdQyS8QGSSHtdChNRGXhdXORBRrr/xxKQvPwTGG9ROeY9zSUTiaR8eF7Lh0SJ/ZJ1rbVmedpnanyGvi6td3ZteZK4x6jt5Ko/z4itH+35h1eh5cD300MPNDgaXMXZkGBnInCYUGNKckssdhjltZ30KEaZHwnvgKTG84rkXlmtQs0yIzRqa9JEbgkAsiBNZKRfSQXbiKC9yU6Yst8CzUb6ckpR+lmkpZRM/jwJvDplY7+L1ykvdeYjIy3dtqczaiZelTXOdLadsk6SzPMttp7xHO6mz/jB1Ka/05uTFm5NXm0jz/pXCy3N6BNdDDz3c1GBck+DS0DoykgyzKTmkgkiSLHgLyIYB57UwpAiQAc9psbYhXQmUgechINT0znLaUpl5ZsokTwYeuSk3Mstn6nKKNMuUaJdtKeVUHpBvthdS1Uby5WFqm9ySr42QmzYC5VQmg4RsI5COsNy2yviO7lcmgwHl4L1qJ6QmX+2gb3h0SXR570rRI7geeujhpkcaxzSySQbO8VR4BAiFsWa006viDTHWDDqCY9R5LtLJNFZjQEFaGRBdlgmh5FoY4mO05cUrQrQ2tuTUnTIpjzTaaJdtKeXM+9tlEpAvEjMFmZtr5KmsPCdl4dUimjbZJjLdlUJa7fTSu0Zy+g0J83g/8YlP1H7Sb0lwqwGCW30qPfTQQw/XCWks0+gyhkb/XvX00EMPVSOd2+7FYbhdb3sla0VukOkhDCTGW0QSSWDIlqeCWJQJoSE404AIt23IV1uevD/rlmVTLp6bqUDtZepSeUwXisNz0m7tAcBqSW0hSFeZcgpXudKrQ3TILwcza1GG3iaTHnro4aZGGm5Iw51II45YeEfIpe0BpEF13WfxGfF2GmsFHhxjjUBMCyI2QCCIFsEy3lkeIb23+dBdz6Wg+x75IQ5eLo8JyWqjnA6UNxJWduXLtrsW7QP6INvIFLJyyctUrkGBsqW3u+oyBD/2pih76KGHmx45om8bPt8T+ZlBZ0CtdzGgjsCbYtR5crwHRhRWa0TlB/K3Dshg29TBI0EU+YwdMkMupuSswTHkPDmeEy/G9Xa9usu1nHK6nyeEtJJstYPyIbXcGZkbUVwTn0dlDU5btcuzUihH1kVbKI8y8Bz1jfVK0C+mkeWLYJH+WqC3BtdDDz18bMBYwkKGN69D23PhSeWUJWPq7Rm5kzCN70qBGHJziTU3hlve0s+pUetc8hIX8ZkezGfnXM81uZwihHZdYDlkI3/ElXVHYAhNeXiSyDUJTBspC1JWBwSoLOIaCPieEP9qfQAZp33URsohHwQHysJzQ2zaSJlgOXVdDD2C66GHHj42WIpxTYib3hyPCfHYMs+DQD5eXMy4rnRKTvrpkSARhhupIATeCNJCKjkFmSSK5GyEQSr50DnDjlTcg4BNFWZdE0spn/IISBTZ2sghHcTJa5NH1jfJXXxTlAYA+UiBc8qhPIhOPdLjTWR5usuZyPZ3VF9epPTVV3ly40/bm15r9Aiuhx56uGXBuAoMNiPLo8nNHgw9o8/I8miQykKeXBrxNOoMt+m9tjcmjunG3GYvffGF7nTF5dEw9rlWh4gZe6SrXMqU+S5WLum301OmnJpFJAgKsUk7vcN2mdyboe3NSUd8dfLAt0HBQtO67s2jkGWSnrZWP20P2kb9pJtrgNcKPYLroYcebnkgOKSEBHhzOVVmSs76FxJIbyI9mzbcm8j1PUYboeQzbd6MYsotpxkZeMa7O62E68olPZ4WUkIq8srpzZy6m69M7gfxEYn7kaU0eIQIREAoiCTTmK880sjzPEx1QnS8QJ95c+kBaq9ujyvLknXSzsqRxMZDVBdem7rlQ90LlWet0CO4Hnro4ZYGo9s2wEl0DLBdhYiB8UdObc8ija/4eR9jz2h7xo1nwlAjRoHhXsnGDGkjFWSLOJGdIwJIUsk1s4Q88r42kfAqTSeaWuQJJpHkPe3jQpCuONKyVsZD1UbIWprqivDapAlJbMg279NGPGP3IDdk6zvIB65WntWgR3A99NDDLY00pOBzGnCE1SYH5MX4tj2VNMa8LHERm7iMOW+Pl8Xoi7uYt7YYskxtglAm3ph8kVsSKMLKKT1ekbJY11I217LsypYkvVxke2W5rDHmNKzySFdZkFzmg0RdQ2zaCCFqX2XRPrw3xIuks/zSbpfvWhBdj+B66KGH2wppwAGhIIrcKMI4M9QIi8fBm2Oo0yMxJcmo85ByOhIJdk/ZLRdJJoL8lAF5JaFCrs3JMzepCIgRgSATITe2CN3Iui+FTMQVz1F51F1ZtAVv0xpjTjkqM8/TtK+2RLbWIrUTAgRpIbf2QKBdjqWUabnoEVwPPfRwWyOJhWHmefCITBEy4ALjjggZYF6LN/4jkpwyTI8kkSQCSzXa7XvAd9OPvDmkYS3MZ0SqTK4J6UUKPL2FiG01yLIl8SJVZI/QkCsC0wauiWNQYD0SIWsjcaDdTj2C66GHHnq4jmCccy3M9CDvydE6EmK7//77627CJLc0/G3D3E1UsBTDPR/B5TFJ7q233qpBeaxleTWZdzcikpz+W2u0y+WzYG3OAODtt98ur7/+ev2OYHlzjjxb5ekmtAzzYSlttBIguN6runrooYfbHows74dxNuXHO8o1L+SX13hQPnd7bgthJcY77+EVWV8zNYh45WuKUhkQmqCMgmttQlotaWRajuovPd5YrlsiOeeQrelInm1OoWbejtpJ8DnPLwXLibsgogo9D66HHnrooYM2SSAY05am5Bh0JMKDY9CtPfmehjjvW+j7UuAeAZFY8+K58SR5cdb6eEjWB5GMKUIeJzK21qVcScjyXCoBL4R2WRCctUptYOepdTjl4a3lowjI37nMN+sP7TZon18My2m3hdCbouyhhxuIpSr7tUTbIK+FUbkVkP3CsCM5mzoY9VwLM2VpalDg6THq3QY9vy+nTTM/U6PWAk1HWneTDzKRF6/NmqBdnzw7AfkgXB5UThEi39VAWdRBXuqObJGq70g1HxfIh+TVc7ny026zbqyFLPYIrocebjBWYgjXEt1G5kaV42aDdhF4MI5p6E3POTrPe0EqyCU3W7QNvfsWa88kEWlJ3zRk5oFUEZr0kYn0s0wgXcQmLuJFhuLw5LJMiGc5yPSVS5msryE1vyPHo5S+dHP3JPLNOt+MqAR34fxkj+B66OE6IY0Ig2aKiTEBRiKvdcO1+YzIQvFhvnva8TM/Borhao/458vrdkS2Vbab/rLbktE3dYlUeFQ8LMSSbw1pY6F+S3JDUqYc7U7kjSWx5dQfb8nUY/ZX3p/p5sYYRMfz42HyquxkNKWpPOJejYiyTORSGUxHKpOyuYbQ1NMUqfStA97s6BFcDz1cZzAWDEgu1KeHkMbH524sZpjaaKezEJJQGTxgqHJEnvcvNb9bHd39ou2EJDoEgFQQDCKxNsd7QgD5bNx8bSkt/Z5p5Fs/3KMf2l6hgUf2VRvSEBLpbSFJaaaHiZSQpM0fWab5oF7kMu9PskWyyFJayqMs6bnd7OgRXA89XEekQWIUX3nllTrazpEwQ+j6csgl43bf0zZ87c+Q3xko3oPgl7AffvjhBdProWm3doCctrTxIncVIqbchMK7QwbOIxD3+Yx8EFq+vV8fIBKbRRCJNTT3LraOlmXIdAXpSitJ07SiaUqEKW1E101yeR+yRWp5n7ytseUzbe4TT/lXu753vdAjuB56uI5Io+R5pl/84hd1QwDDkwZwIbi+EFzrvp755HE+uGaajXF+8MEHyzPPPDOTzmL53c6Yrz2THBAdYkEO2g9hWTtDWAYx4vH8eEXi2h0pLiLLdTP3+G7wcbU+aJfF5wyQ05bKYzDFu0NWZM1RedIztKlFeRCt8jhnGlK5xUW2bZJ2/Dh4b1AJ7vy5iR7B9dDDdQADxEB4SPbNN9+sv0nm4eHE1YzaQpjvvrYBnA+uIzdE6wdAERystAy3CxZqV54T8jJosOkDwZgW5M0hC6SACBFJensIpP1w9FI8tsTV+hcZITrklb/DBsgr80S6uWNT2XNTC8I1zYpsc+CVpPZxko8ewfXQw3UEo8RA8ODsTPN2DOtfzjFu19t4MMQvvfRSHdl/8pOfrOX7uIzObyYk2Timh4Y4TPkBjwlZ8JYQISJJ7w4JurZQ37fTbh9hvnu64yEoxKo86aWZtkR0rpkml46ykEVlSw/P+UzH58XKuNC1GwkE15PmHnq4jmAMjJwZOiPsxQzH1ZBpMVRpiBLd39twTXBfjtATi93Xw/zIPhTseOQhmfa1rolIbP7wWiseM3LhtSMTa2L5DNliaPdXfl4oJKRpsGJ6kTfGMxMQl4GNNWBTmMpnDVZ5eXX5VpSENBYb9MjzauW/kegRXA89XEekEcpje6TcNlBttM+3jRxyy6MND+1rkJ/nC21c7XsPS4N+FHhkPCHTk8iDp448kI1+4lHx9PTb1ZBptj+3z3XD+flIyWCKB0lGEB6vHQE/8sgj9TNPMmVxvvQXy+9mxsD/8s/+v//cxpqmnD3B7qGHa4UkFyN6wU476zDOzWdU5oO46XUxlkbh1nSgPfJeDElgpqtMXRnFG93n+R5Wh+xHJMNDQyi5uQOxeQuJjR/i6bOl9Fu3bMwnL/ndkYzkM22eZTM9qa+RrzVXpKvP9b38kxTbaZKHj7NMKHrPg+uhh48J0uAwXrwA017/4T/8h/JHf/RHdXODa+nVQbcB7OH6A3kgEd4cjwmx2FBine6NN96oG4585mFdDfozQ6L7O+h/3po1QJuZfvnLX1b54KWZHrW5yRpgPkCeBNedTiLl6eOIHsH10MNNDgYmAzBeDOOf/umflv/0n/5Tef755+uD42thiCKXznE2dKN9bb44810XbjcgjPSMBNOWnivzMze8J14cAnr11Verh6Vfr4aFCA3Sa+OZe55N2tb9kCdCky+iRbimS7NcC2Ehwvs4oUdwPfRwk4MBY6QYL9NbRv5//ud/XsM777xTp6FsWmHg2gZwIcLLOK7PxmloqN4ZfxBdQ3azxyZAc+zkUkNeaZBxMzSYG+fWRrZx9kXClKXpSkTnJ2Z8NoX42muvVaIzjYj4Fuq7NrL/BJ67HZG8NoMfu3QRpoe0H3300eo52imZjyPMV7ZbET2C66GHmwjzGTbnkBgy+/a3v13+3b/7d/Xo+SVGzXVrK2m42khDNp9B6/5eqWx6kitQ+mo5pstU/JucjhDHhsZqrDCoE2Uqgr3YYjUx828c3TM1GSHOxOfZu28/ZNunx5Q7G62FPf744/XHS/UdUvr5z39e+9kUdJJXhjba5wx+rMO+++67lSiRpPU+6dpEYldnPo4wn4wshuXEvRkx8M96m0x66OG6II0SY2STiZ11uckk0f4M7Xt+9KMflT/8wz8sP/vZz+r6iW3mCM7I/HOf+1z1CiCN0kLGKdP0uqijR4+ULVs2lzv23jGbdxBTXxjN6YnxIKiJMhnD4LgjPDbEF1QV1yYuXyqTY6OlXxbxpyGw5v5pxBbXJniVSDDK0UyFuT63frcTtK8+EbQHwtGPyI5nlX3Co8sdj+0pxHZ/8thc5+0hNF6baWrnTEciT94bYmuncTuBOPc8uB56uMnB8JmCzDe7P/HEE+XrX/96+exnP1tJLg1hGs/lYIZuGN84RCqlL4zm6JGj5dQ775bzR46V6bErcTau29YenuToiRPlVHgbR157vZx87/0yef586Z8cD2IMMhy9VC4eP1GOv/1eOfyq6x+U0dNnypRdg/JgdYRrjBmyvkmR/eToJcbIiMeVz855lZcpy9yEgsjysQJ1M13tvJcG8NrIhsGSdTbkZvDEi5N+ysbtiM5jAiHUc6ju9myMHnq4Huj24IABahu9hM8MGwMH1lK+9KUvVUNoGuvll1+uBvILX/hC9eAynQyLYeYxgS1byoEY9ZtuRG5jR4+X42+8VQ6/+VaZCmLdFB7ecBjL/vHw6s6dL2c/PFyOv/l2OR3H0TPnysj6dWUkPJBIoFw+ebqceOe9cvytd8uZDw/V60P9A2UkPInB4XUq1AQ2ZvHirRhtcrtaG1xPLNYvpg6tz/G4bEbh3fHOyYnXfpEB50xvOq/fbCDhtUlP3+fzdvkmksTN1AbXFSEGPQ+uhx5ucjBWiNDrtL72ta+VJ598sq6rMHjdnsrKjVnjoU0FaV46fLScDpI6/+7BMnXsZBm4PFr6JyZKCYIroxNl/dhk2TbZX7aMhed45nyZOnWulCtjEWe6DIxNlIGLV8qOMlD29g2XgZNny3ikMTgxVQ1O8QjfNXKutEV3e3R/v55Yat5Jejwt5ISkbOU3iPGZd8aTsyuSx2bbvzeRGKCYnhbPhhUva3Y/EmzLwXztcrtg4J/90/9Pbw2uhx6uA9LQ5IPe6cG1jc98hoixyhG+kG/EsJvyJz/5SfXgPv/5z9ct4EshuMyj/aD3XmtwU5OljI2X6YuXynh4XhMXLpYtYTS33rmv9G3aGMPhZjw81D9USW80vLVIrGzataOs376tlHVDpT/yH+kfLFuH1pfhILvJK6Nl47atZeMde0rZEB6cJBRxpTw8D7JdBRsucjfpjUS2cR6XCuXO/rYuJxjIqJcdkvk4gfNe9+W5Ni9HzunIdr7LzftWg+r3PLgeevgYIw3iauDu6fgzORjmIEhoZO+esv3OA2Xrtu1lOMizb6A/hr5hLVwfie8bw+iObCiDA4NlKqzIVF9cEyLOQBja9UGYNpdcPHu2rI/vW3fvKmV9eJt9U2Wyf7pMRtyaXg2rRxpzAWl7qDk3alwvI98ug7CSPsm+FHhzgjXWXJszDclzNxXJi7fWlm8igXb+3VitjHxc0SO4Hnr4GKBt9K6FsWISpyLZ6cEwlhuCxLZsKn0j4RUM2VYeBGdX35Ur4d1dLFNBHkMRf0N4ZhODfeX86OVy6cqlMnH+YikXLpWLR46Wo++9X9eKRjZtKMNBiGUoyBCJdvLKsBbgsSE2Hu0Pf/jD8s1vfrN861vfKi+++GL1etKrW8j4rwX0iXUyj3PYCZkPWtv6bzOITULLgfQQF2+dh87b915L09QIz/d8pq1dL/elfHQfb0f0CK6HHj5mYMwY7DVH2MhpFmFdkNGG4TI+MlSmgpjK5FS5fPJMOXPwULl4+Gi58OGhcuTDg+XU2fCSpifL+SuXy8mjR8rpD94vZ996uxz65avl8LvvlXMXz5fzly+WC+fPlsnRIEcE2uS0ZtAOiNSGix//+Md1jcr0LZLxKjNrVx6OT1xLY4/EbPrwE0Tf/e53a/jBD35Q18xsLEKAyyXYLC+iQ2geKcjpSCEHPTnwaYceguCS/XuhF3rh+gWY7/xSQnojbXTHWW7APGEM6nE6vIL+jSNl3fatZWDL5urVXTl/oZw/eqKM8dKCW8evjEbU6bJrx86ye+vW0jc6Xi4dO16unDxVBicmy7atm8v6SGMsIo9PNM/DTXuGroaP5r/coA0E3pkpSZsukIjNGbnLFFzj3eWAYL60FgqZx3zX2kEc06HWVXmRfkTWZ+uldr8iX9v+c8p0KWm2w2oxX5q3S+h5cD30cBvDOF9gCPrDlsbYPz70lZEtm8quB+4rm+86UPo2BNmtW182bdhYNu7YUTbGud1PPFb2P/1U2fvoI2XXnXeWHTajbN5SNu/cUfY99EC556kny11PPV7uePC+MhJEWQZ4FfJpnrcTVgPGC7nZQm8a0FSk9SnE5pkyD1AjFN6deEv1ntrGMTHfuTYQFhJVDr+1ZkrRs4rPPvts3QSiHK73cP1xQwhuIUHpoYfbHSuZWlqtPuXdlXg62Q9uCELbt6es3xnkNDxY1m/bXLbsv6MM791d+g/cUdYHcW18+IEyfNe+0h8Etn7PzrLl3gNl5N79Zd19d5b1n7i7bPzEPWXj3QfKUFzvt8My0hWS4JZf01moM+JCbEjFTkNrVNam8qF4U5PIxrSeKbzlINPwrCECg4VIDnkiMF6azx629oosZckdr8qa6fRw/XBDCK43P9xDDyvHWq6xpLl2nI40Z0IQwtRQ+Ft2UAbBDQTBDe7cVsrmkVI2ritl03AcI9j6b1PKtq2lb/fOUnZtL0W8HUGM27aUsnVL6d+6OQhuXSU0b0pZK6OTa21ICJnYNm/TBdLznk5rVd7anz/muRQgMOmZVvQmEet4HqWweSTRTXI5Pek+z6IphzyRpA0mrsu/R3DXH9eF4HLkI+h0QimYPiCk2fFGP865ZkRk+kEwj+0+o6ClTDdIT3xpETpH9/TQw80AsrsWJNVOw7F7o8FCaF+vx/q5vowrjpEGb6dPWgOV6MI6l+kgi+n1EQbDUMepmRC3WLObHhqOOOtrKBGvhrinDAcJDg5Fsggm8pVpRZPnSqHc9Fyw1mW7vPojN8TE+/JORr9WjeiuhrQ9yMx6nh2QNozwDm0S8V3ayCqRNs05+bFNnmtEbj4jPffwIj2r5giL9U0Pa4uBf/o//6/X/EFvQkAQCZAHFVOAcnSTQGrOu243lM/erE3oLCBLI5V4oRFZ5kM43U9Ajb7sQKIIS0EKbjtINwWzfS6/J/JaNxY638Ptg5QBcm8Q5y0UnnNaLqRhYEiXbGrwaifvpeStLBXSoG9Hjx7rPOi9N87FhSrjgtWyJkzFOeSXYTJCaEOEuBYxfa7xOiHj1W2Tjt2fI05zXDmyLel22hEkZdcknfdr6d7Uz5syTQhtYnEv/RWQEYLyNn7BoDrbxFqeAbbr+kx8dkRagu+mQtPOWAfUH35pHdE6Z8pSkFYP1w/keeCf1jeZRGeRuRmsTvjmA6HR4bl91hvR7TaipGDUQyi+//3v1+dY/IijtzR41564pgoIEuHK5z8IWPfcek4LuO/P/uzP6tZhhGcElcZkufPxkALdRvu7z5Qm0R03sdD5Hm4PkBEje8bStJoprcRSZUMaZJhBZ7ytPVnzyYd+l5qOMhw/fqwaZMY8SlDvrc+9dcioTihW4zAbnIshZucoXnOscWc+xzflaIc416QBPq8c2QZAv9kOJIO0tetjjz1Wd1SyFdDdJu5nK8zwGEDnQNpangeqbQ4xYECU1vBA2jwydsj92l57I0htiQSTDL0A2aA8H9LWxuI37bu6uvewRFxrgiMEQBER2Xe+851KYATEaIZQEEow8iEciM1vIhmRUVgCShAJX76mhlEgMMguhVxeBEdcD1n+9Kc/rb+ZZYRLAeysMl1BgPOeHMGB+32WhvJm2R19F1wTh0D77nNez/zzewqx7+18nM9rPdx+IA9rRXB0w+u5GFFTY+lZLAXSYLBto09vpbm3kc85IUgpaW2pwb/GjjTeXPt7E2aRetTkvzRk2bQDW2L6D4HkTkrtYtAsjrQzAP3MaUUbQ5AjojMARoqITduyFaY3fdZGPrMv7tN20hAn7ZBrzkuPh8175EVqW2UTZzl17GGVuNYEl9DxiMxcNqF46qmn6u9XISnExY0nkASFl8cDI6S/+Zu/WT796U9XoTNSIoxpGLymJkdWbaGRlmkGnps85U3YeHDuIaziI1npCUZlyDPfOqBM7s3zFpwJNSGlCNJXF2VlICiosiNS97lfeZ1zjdAbIcqLkDvveg+3HxjZtSA4IEd0gCH3mWwtFdLoJrhEU452WB0WS0E55JcB2oPBxeA6PVJ/bYlQBJ/puWviyCPzcaT7dJhOmllCkOqf9yLLJCMhdVaa+aA1XWcf3C8f5MjGsGnisDU8a9PQmV6WeTVQ/sRq07rlgeD+52u8BqdDcsREELj/XjdjCgD5WGvjuRmFEiAeFwPgfWtf/vKXK9GJS6iSkAgR0iNUbaXmWbnXmwQQnNEVAXPeZx6cKQefEZYpUB6l+LxG06CEFqE999xzlcScN92g/NLx/Xvf+169z6uATLMiVWV3rx+llJ46y4sQivMXf/EXlUAZNIHCtIW1h1sf+lswiCJ/jClZTjnI6wuF+ZBGeLnGTnpJcMrA87kRQGb0H+kgfWViF9gK4WrIuqe3lZ4cu5Ceoc/0ESlpe4NWuyxz4Mtjy7Uz6YjfbtNse+fpLUKVj/SVOd9S4jx7Iy2BfUo9d301kFemoVw5COhhYei2pQ/5VgidoZONjnhtX/ziFyt5ES4bQZADQWD0CTRhSKHM6QHXESOCIvyUkkJ0Cw0CysVdIyv3mIsndATaAjQhlz6lytf7IDqfMz1EZd3PdClSEld5nH/hhRfq5hV1ohDOef8dslOfTBPJKScFsB5oypRnJ28K2MPtDQYqDbDQ/twObcx3rftcnofFrkH39xuB1EN6ZeDo1VYGlPSGPme7LIYkojxCu85sDT2lt9Kmp+wN2/Dggw/O/PI1vWynkXAugzjIDYFZ9+Sl+c6+2ByXxAnsic/CcglJud3TJmXtxL6xgfOVs4eP4poTHOgMQkCoeDW8Id4Sz4YQIyKj2bYgIZQ24SG7HA25PwXG90QKMi8PTHvmnDqhMH1otOWzuIQHwSIq06Zf+cpX6py5fJwnzN5I8Ou//uv1uvS8xdtPk/zqr/5qfVMB8jTq5DmKnz9/klOfSI5CEXZ1z40APdzeICNkghynEZ8v5PV2aF+bL55022lnaMejY47i3SgoD12kH8jBgNLR4NS1tj24GtpxMz7bwlM2HcneWJsH5GRWyLSk6URe21LyYJMyuIcus12Ijm0ABGeALS/krR6wlPTbUHYkj5TNFnl5NPI3w9Vunx4Wx3UhuASFMhrh4dgAggR4c0iF8W8TWgb3JHzOqYgcbWU8hEUgCBgBcD3vJ5AUmaAL1tEolmvSymnTp59+ugoqwSX4Pj/zzDPlU5/6VB3p8UIdEWbuvkJglAhZGgX64UHxnCOcFEudkbtryFR5oCegty9SNskAeXC8HgHymOj+fr0gX/qXU7V022f6Q//Yg+WUrW0LcvoVIeSMDmKzXd+g18A0iW2peUgb2vGzzOxYvklF3mlrDHyVJ5FpLIS83q4Hm6Ye6uN82072sDiuy8uWAcHwnkzXITedT5D9QjFi4fkkKYEjA+BoNINAHBkD3iDFyDh53ajJFARB4D0ZEXokIbfscvF9Rjg8NGXircnbXDyl8j1J1NQo0soFa+majszHHBA0IRR4lRar1UlQJnmpr/xyk4s81EHZe+H2CynbQHbJjZF+Hq9lIPOOBmcMpzwZ6yxb6tv1DHSNjimHQSBvyADS+fniLxSy7HSRrluOsIZOR9kLpIaEkFzqeZtA2+ksFDIOtO/zWR5Ik47zDpWfPVIGyxwINr3ldlrtkOcd084Z+GsXtsVUqsG49oLu+3vho6GzySRGMXN8uaWPmpYCHWvNzJSkZ9Ns1EAC1uN4b0Y9OhSBEAjzzNbbCLuRHW+LJ2Rdi6C4BynytAgXgeC9md7gzhs1EQJCjGhU1JGCIy6emfwQnukRZZEXQqP0Nr7YYUWwbHJxnVGQNnKWjqlLSqNsyJXgOScNcY261CdHXdLhDSJTwt/D7QsyzPCSDXLCGBvwkbnrGeRNN8k3HaRLabivB+gF3VF/HgpjbgnA0WCXji4Geq/8Quo4fWZn1I+e0UvEZjqSTciZn+66un+5yPvbR/aFzUJIyDaXKdgM9ZH/QnVrlwfUhy2z/obsHn300Uqg8hC3O34PXYguveZTlCl4pvN4PTZj8Gic0/k2eNh5aJSDXHS+UabRj6nMb3zjG+WP//iP68PfjIARmGlCQqSDCUoSHKE2ekM8HjH423/7b5ff/d3fLX/rb/2t8oUvfKGO3JCaeAQOKAdBzNFTuv/OSxtJgutIWiBsRlOMQo40Mz4CQ6CUiRGTX3p2vfW32xtpkMhuGlwyQybyeD0CHSPXBmMGkgZyaeAd8/O1hDzoHeOfZGT6kBeUJHQ1iCMd9oItQZRmTay1G0SoK92jr9K8Vmi3Xdqk7E91RFLqiHgtW7BR7N9icJ2tYUMMmPUTsu6R2/LQd+L4xen166NTqt1NwV6bxtPhgg4yXfiv//W/rgulRm2UKl1vhGAjBwL4kz/5k0pqhEOnUkQCjEAIP6IyrWlUliMh6dmF9a/+1b+qJOj617/+9Zqu/AmLqcJ/82/+TRUym0l4gLxFwRrbX//rf73GV9b/+B//Y/U0jZj+xt/4G9X7QnB/9Ed/VPMgtJQRYVImZCy9v/t3/24lX6PIP/iDP6jpENLf+q3fKr/3e79X02HU1K2H2xPkkddvMEemyG8axusN+QJyQQLdZbhWZZKvujP8BrxmZwwAPfNq4Jh63Y1sJ/dC6r5BJC9Hm6oLEvCZ3aBr7IZpw+7ZE2llG6wUeX+WiZ1C2uwQkgU2TL5pxwws1NcgR7t3Q1riqhe7yX55FZuBO3t5I2Tl44jp6JLrMkWZ3hqB1qE615qUjiZ0hBph8YgIAAF3PklQXMRhSvMzn/lMvT8FI5XFmgKBcs3jCMjESJmwiytI13dEJhA86ZuelH+uj6V3ZzpAvqkYrimf/KSTI3HB/YL0xDPyMloDz/Mpt/jK0BPQ2xf6ntFNuXS8kYFctwlF+TIsBPKfZLMSuNcgESlZDqCH9NXamzIpS3faSSTO00EEZiYIkdA16ZnatJGLbqcnaMDKNtBp92r7JLmV1sE97fuUh41DSga36UEazCJWdoGNyCUVg16b0Ax0fFemTFOZ0l7ySKXDDnlOOD1+8XpYAkJk+o4fu3DNPLgE4SNkBFLngo4UdK5RCRIh3DrUdKPO15kCQWUMEKJOJqDtTpaOkZz0KR9BR1bSdg0ohDJIW3rSIUjyERf5SNf94iBj3ymK8ikHJTE6k4/vNp9IKwkvBZjC/fmf/3n1AqX7X/1X/1UlOXmK30MPKZc3GlmONLBLAXnPuPl5qffLzz30kZ4gA3rBO8kBIN1qwz1IRPqpn9bpESQCo+8IxACZTmZZEA6ioK/ucS87I6576CwstezdUC42hO1RHraBjWE3kDXboW4IXJ3UgQ0xRYkIkRzbIp5BvsExm6VtELc9BWyKPQfidNu95UBZM2R9V5rWxwU8uOtCcARLaDdyGzpfx0LGgxT09j06pa0Avuf1dpxMD/KatMH92cHtexLzxQXnCalj5pFpiE/QTXnajGLKFEl6Zu63f/u3qyeYo9Meekik/N1otOX/akj5T4NtkEi2DULbercQ6Ip7GXI6w3Dn4E+63WWRHyKRFyJBDgiLLiEGZGLwi0ja98rH4BrRITmEaoAtH/fx9JBq6vFicL27r5KsEFs+gI2kLK1IX5tkumlHlEldkJtNPmyEdnAfTy032CQJqpf6dddtJUibBtJabXo3OyrBHTt6/poTXBJAHqHduD6n4c943XA+O6VNOnl0T97Xvp5ol8G1VMS8px0/03JuvvOJvO4chSWsyM1aHWUyNfEbv/Ebdf48d4q20+uhh48bUgdyRsTmMSSFKMh4zsQsBdJJe7CQzgoIATFZ6xboGo+GJ+aYA8fUR0hdb6dhdggZZZndawoxvTlptOG+RH6WvvzdjzR5kdrBLFCWx2ek7Z52mSDLg3gRJKJGZNJK4kVoCB/YqfQAVwP112fylY80k9hXm/bNiutGcInsXMhOb3c+tOO00b6v+57EQufbyPQXS2cloFCmS8yb28hCeBGchz+tIRKoHnr4OCN1kIFnkK0xG8j5zliSc2tpjHTq1nJ0TPr0qE1OdIp3ZPDoMz1CIvLIZQV5ZNkyv/ye6YB0eVm8J+WWJmMvPbuzeUu+z1dm59yPJHhXiFY6kF6WdHI5YzFkmYQkS8TLo/OZN5dkmelp35UQkTzUWfp2qiNU5c0p3fScb0WSu+4EBylsifmEqTtOwvn54rdxteuwlHRWAsJqOiTXGY3kjAwJEGS9rkXeMF+7rXVeC/XNtapTDzcPsu/JOeNunchAjhFm9J0z7ecdj9aOgFzMJxttOXLddwTC08jA42L0raOZ/kwiQgCIjVFupy2N/N4tp763Az3NdTxGn6G3QQ1xqk/O8ChTQnl4WzxA9ysHUne09kfX0ytaKjJ9nhXCTW9O/XmWypRe8UpISLr6xcAbwUnXIEF5PXbAg02Su9VwQwjuamgLZvszEJzlCM/1gnJmuQissFBZ89y1qEe2V7vdFirHSiHt7n5J3IqjwB5mkX1PvnkFvA2yhXwQhS3tDPyXvvSlaphhIdmbT4akizgQTu665rUxwNa1EBzDzEBnutJpf74a2nEYe3nwxhxdQ3BIGkEz+shcGZBErv3JnweEbJUnyXal8p9lcpQXAlV/baw9EWiuM16NiLrbQPlzKlnbKqs66C9E7uUU6uv8rQYEN/CP/8n/8s8Hg9waGbm6gFxrdHeQ7znKWUtDvZZQxiy3MhJ03wlXnm/XwWfn16o+mVc7D+euRbu1y+5z5uGY+bgu9HBrod2n+joNOk/Im0gcGWGegdmLhdBOpy1DPCSGl9dmSg0QpfSQW25i6ZbnlcqbdHhG6YEhAETHg/IZASIHZUJuzvGmbAZBuO3pve4yLQdZdmkI6qn9ECkyyjXDLK88r1bn9nXlU9Z8NIvXbYpWfXiJ6n9LenBR/b6jR89Nr19383hw5riNXgiUEYyOJlSCjk8hWCl0etsY62RCxJXX+cJykYKUafqOcJRfoPgC5SRQ8jBCXOm0QxvyooimiAitEaB0c+rE51ynWE27aTNp6xdKnyQO6iI/SqSOsJq8erj5oP8ZRgSAiART8WQhPS2ybUu7dTiEsRjITuoJ3UMqHhlwJK9k1xoRuZJWEltbjlP+oP15qch7yDI9VQ9kRlfVzXX58nSUB8kK6d2BOGsp69pZmnSaLeQ5Ijjt4po24XE5pifbbpM2Mh11kxZbJ518cbPBg19J4YmyE7CWdbnRqFOUNxPB6QRP73vnpCPlQWw2angYOztiNaSg0wmKNCiWV+j4rTbn/KKA7fzLddelCSkcvqfS5uuDkA8QTCPArA/SXml9si4GBF6D5q3pFEL55WEthDIgHsqwknyybupjDt9r1Rgi56VH0c3je7jetM1akGkPNxfIGHLzULbHYAxy6CoZ0P/kyxQamSNviG4+WUtZAp/JFM8EodATU4UIRToebJYOeZJWBmjrWRvd368G8VNWfVYnOkvOvV2FLtEb3hrSJt/Ilg1aS/lul9vnLJd2R1DIyIYeeuccj1b75Hphd1kMGpAZ+ykYwKsL0vbZ4ETbevuS5w/ZoCTstazXjUadovwnpiiv8ZtMrgYdquMIF3LTmTqOp0PoeCc5qpuvQ5cL+REAi+TWDWztp8AMtREaoV4JslzSN6JFbN61qQ5GS0Z+lNmILOtDYeYzBoshlUBgILy8WruB8gNCZUDsNGvvNlsOpJ8wCmTgPN8nT3VRdsZNnpQ/PTj53EqKcjsj5Yw80xev1iK/jKtX2RlEGax5dV1ub19ouks69NyRseUtpcfEkLsXeTDQAvieg7PF5Kotq1dDppP3OKadQSbIQB3SW1PmLI9y0KWF6rgaKEcG+bFJBhOITftrH+VxHUnRQ+2mLjlzkuSmrwxG81dPEJu4bKrd3fqMTWJPU2dhofb9WCK694YTXHaoxjf3bos9IeJNme4gSITOuRxBpbCvFCkAXuZsRCp9oxieYttdXwly1EWg5MG7MtrywLfRLdJxjdIyCMhHfbTBSupEyI04HS0Y5y8WpFBrM8ZIO7bTX05eykbZjLK1FS/XewMZOIbNiBtZ52j7llKS2xzZl+Q6PS6BHvJshNwA0SaibpAhxheR8CrM0DDcdNEyhDQMMKVDf8RBNO6hj2Qrjbi0lou8J8vm6Jw6IVtEQl+RnPLkDkMkR3fUmT4przqmPvncxnx1vxryHuXJdlYOHq0yaQc6jZiQkvJpIw6BaVWDT22jTMrjmrZFbq7z1ugpvRWko17atd1fKyn7TY1KcP/4n/1zctPUbfmCs1rkiE6nmi4k+IQ9p/Bc19Gu54iq21gvBfLIQFgRAAGRjnOERucjg+V6cO7PI4WUpnILFNY0AKIhUAQX6TEQCK9NcEuFuIJ8BCM7bZbCT2G1mbJkndrt1f58NWSdlNu0DYXRL8oN2mqtPOsebm6QWbJEBxEQz4t8kHEDxCSg+UB/GWqDWAMyukdmECTdMHVPdjPQFWQiHtkjg+lpdMty6sNCaMfJgBR4RXTRwI1XKn31o5fW/tRTWci6siIOuqU8bAj9zvJkHstFlkf9skx0lx3MgYT3ayJbbZRlSk/ZPbw59ymfcqgHm5IB3ENv2dC2rnYfl4Isc4abFYoWBHdzeHA6ivAbSaWx1rk6zXnCroONZHRQjjyWEqD7u/ulRXgpKwU1siHYyyW4RKZPwIw4CZUyMwDOEUQkQZkoNaElsFmX5SDzcq92Ug+jY8bDlCVPi0BbO1AGcbVzCvxykARnjc80pZGsqSV1MVCgaOqYnu9y69LDzQ9yQy/IWRp/oDc8BDJIxhOp12SHXCJDXgXZz8Eqz5+u0xNpkyNp0G/pO7o/vTmzCGRL3JTj1IP25+5zkOVxH5siTTKMTJCW/Hht7I46ZnkcybX6KY/ysUUGevRA3eh628OEzHchZHnE0x7KgGy1j6Nr2oiNYCuS0OShDvLLNpKG+9UJ0SHe3BSj7Gyra9JMcpSG+zIsB+37BOnm+ZsKNxPB6eQkOKOonB8m1ARRxzHYOptSpYAvBdnw2SGpRIwyBTJaIhRGSoSCUK8Emb6gfKkc8jMaM1JEEoTT9Ks6qov4y0HGd1RuddB+FMMLWk1NIFPGw2iUULfLtVzIQ3raCdHlSFCeCE4fUagkclhunXq4uZHyI5Br/U1PDZ6SELLPHckMw0peDLroNh0QP6fapOG+NNqZvs90hI4y4uKQcfdLjzGHvLed73yQXuoIO2Lwh9gQlHx4kfTEgJc+IpJ2eQTnXKNLyA6Ug14gPHGyDa5m8F3XPuDeJP/UJXXO6V9tO59O+ayMWSZtpY4GAsgMiSMydTIAyUGE7z5n/TKtqyHttHS1o7wSeU06S0nruuFm9OB0NgOqc5EDoWZYCRODnQSXjdkOV8N88QkDr0THIbjVenCJdqdTAsTDs/LZtKH1KwqewrtcZF55pDBGk4QvP8ufQAsUmVBDu5yLwf0J7eO79n/22WfrLy8zcIyE0Syl0WfaLuvdw62Ftswx+IwqY6/PU7b0PRkkF7lBgnyIg9RSx+iwe9qGFnzOQDfILdlirH2nPwiKPZCXcojrc3dazuURcbiPLUEkiIXhV570kOTVJkzIz1merDcScg9Dz4akN+f6fOl0gz65h81LL5K9Y/u0kwFktpF05kvLOdfdp43Si0bi2lxbKY+0pGtwIZ7yJRYrY0L7Ka8242FaSnL0XfpZ1+72v+FAcP/4H93YNTiNxyBrQB2N4CgAoaMUOkuDIjodr6N06EJIoe5G+7zPBFO+hMyuTd9NmRCC5RLcfHlmnYw4eVQeRSAQ8rDzLOu3WmQ9CJZ2obTSzgEDoTcwcFyuAKqXkPdQDtM4+sfIkqJTbh42ZTed4lwPtxbmk+828jp5p6+IDZGYUUB2BnI51UZGySyZWqosMqKMPdlyv/sQFt0if8Boi+cafRCUS/4MPdsisCN0gR1Jr829WZ52mdqf26BHdJfM0wkGXro5jQrOtfUtdUm51N/aYm7aEofeaqOcslWXvG8xZJnl5R5l0k76Qr0RJ7ujPElu2Tbuu1r6ID57Ii0DFvZY30pfPvomnY6bCao28I//8T+74R4c6HSNhuAYT96BRsspDoJql6PzKcjLRQoDpLDpJB6c/AkY470YgS6Gdpl0vFGURwVsrZa+aUkPVlKsVNSVIIVT+QkdIqNchJvyEnD1QtzaEKmaPlwpwQnykYfPyk5R1MlIjuFgKGymkf9K69XDzY3ufs3vjgwg/c3pSERHjw1KefZIjsykDGa4Gtp5uJ+MS4uMM9yIgmySRcg8fE+y5bGxK4y88tA/A1myKn7qUzuv/NyNdhzp0a/UO2khuiyTOM6JpzzaiA4hf20krroYNGYbte3CQmVIuN6O4zPbqG3Sw2Q39YuBAHshTpJv1jvv7YbreVR+R0Ee6qt9tav8lH2ldvma4WYguDaywbj6OkdjGTFQGgbUhomVGOqEe/K+7Cx5Sl8HIoJcmF0JpC1NgkR4kZtnUZC0tG3VJXjyEodAdAvaUuF+wittBOrtBIROmoTZ9mJtaUSIeIze5AVLzUu5QF4MhWftjN4oNaGmrKZeHa2ryCe90uXWp4ebH919Si7ICFk3yMnHYsgHEmG46VPKpfszrATuY5zppzTJIAKhw/J1VB56YXDJdiASRJhky3PLdT1pZbptLFa+1ImMk2VSFnkom/agl8qjLPLPMioPXXKf8hhUZxtleRKZ11IhTYGep4cpaHs2lZ4a+Eo3SS7vyfsTmXe7DNn20pYm+6IuvE/tmn180yCKftMQnIahMDqBEOgIn3khhMOzZISBILQ7ZTlo35cdRxgRnLzXYpOJdHlvpj5NS3owmnBJM70twVSGujAGy61Puw6UJ6cNtFnO6/NKCaS1PoYmR4Z571LyyzYSVx9IE5Fqs2w30ywMhmfwkGn34GMp+fTw8UC7L8kGnTGYspuWXPBQyAA9YvBySuxqMuD61UIiZTJJxYCXDiWp8daQLZ2gb8qgLMqVyw9k1P3daSfmO5do35OfBWmqaw7+fM/pe2VRLuUDs0R0MtsIMXQj67kSZJmSkOinctFhpIR82Q35Op9tkfdm3tnHQqI9cFA3MLhVl3Y6NwWiGgP/6B/90xu6BgfZIRpcozLSOa0ARoO53Z0QgXjzhash42R8HY0YCJoRlVHYfAK3GNr5+pzz3wQhhTrnsH0naEZWlBPJdZPCUiB+Kmq2iRGi6Q/tx+M1pcvY+Jyjq+XmA6m8Au/TFAzhpsD6xNQrD1UbZvoryaeHmxNt+U6k/pAFL0twtMZmIEreyCW5yXszfmIl8tG+PyEdckm+DRpNmdM7em05Iz2k1GvxM8yHlZQLMk11ThKl59bYktycVyb2TJm67Uy7rdYSSXTskjLpK+1kkKrMrs1XFsQmjjpoT+mk08HOqI9ZqZyZgpW237WAZuw7fOj09Lrr8C7KpXSaOEiA8dSoSIFgMqJGPTky0ojzpbfcxtWBlILwuTddeh0O3ellnoud99loUj0INmHiwblGQEA9GAOuvc/dwrUcyI/wqYN2MyggeEas2izrI+/uci8H8klhF5CodK0dqEt7JLhQPqvJv4cbh4Xknv4YVJmmJhOMHANOJnJQJU77vpSPlchCliOPBlv010CL3AsMOP0ji2Tf2pAyCeRVvmxIkm93OVZSroS6sln0BIEgAeWRj7ZAxMrA29FGyqec8+lm1nEl6G4nxIaYlIk9Yi+cky+9ZYe0jwF3knPey67oX+U3eAG7wU1Hsy92U+cMEaym/dYa9WXL14Pguht8PhAO1x0JLmgsIQWyLZSZVjZo9/elQn6Zp6OOFDLfRHfZ2/lmmfKcdAhQXsvrCZ8Je/sciAd5vvv7QhBP+Sk2BVNudUihg3Zd2ugu22JQL3k4ZtkyH9+dv1o+S82rh5sH2dfdfec8eWA8GU4k54jocvu9GYr2/ZnGcmQh728f6VcSSS4xIFWEZiaBEUe+BmIMubLw5nKWQZCOsJoyQd5jIKsNTN9lvsgjp0ZzZgopIxOeXA4O2+m1sdD5biwUTzvwaLUTG6E/tJN20HfaSJ+BciqTsiXpGjRYZhHXTI1r9hbw4sx4eTXgfN7ozYBrRnDZ2G1huVpHud6Ow1Au5X5xrpb2UqDzpZP5Zmgjy9i+1s67HT/jLYb2vVfD1dKCdvkck2wWKstC+ef57vt8ZkhA2q63Sa2dnrgZus/38PFC9t9CfUcGGFLGkHFnMJNUeCpmYRj4lIdu3V4KsgzyQiQ8i5z6Y3wZWaSK4HIqnWenLMpl4OcaI85I52yQdB2zTMspl3sF+efsRnqRiISnplxJqsqtPGZakB1S4AXxnpRNG8FyypHtAlke5K9MyoHAkJvviE2f5MyRPCyl5GMd+jDjaCd1MHgxBS0NZVTmTM/jTvnr7WkDbiZcc4KDFDQdqoM1/nydl+fm67DF4D6NTvA1uu+Ua6mYryzzQfrK7kiBdKi6pWIo51LTWgjSkH6mmW2V9RPWEvKRtnoI7c9Zp8RCdWvXe6H4+oOXx9BRLvkslF4PNx+yXxeTAbrHQDL0jCbicaQrjLwpc4Y+ZW45kD7Zd5SmTSTITZ45LSoPn5MkxCXHiC3XnQRlNDXIiCOX1OXUuaXIZZZFUF+kJvgsPTKOKHJ5oC3vyiyesiCfbKOctmx7mEspC2RZ1FfZ2Nr0ptkQaSoPYs8yyTPvTeJFXAgNctpSPOnxApVX+2krZc3HtnLwcrOhEtyhD09dkylKDQc60+47QknYFiK45SDTlk4qjE4iLGDkoWOulo/rQju9+e5x3XllpywEyQhIHqkYkPdnesuF+6SNEDIvecjLNcI7X/lWAulILwcdhJTwt/NZaj0WiutcBmma0vAcoCmZdrv1cHMj+3ah/sr+JUc+k2F6zzNg+Bl1o38kx8jSTzq7lHRBekmaDDEj7P4kKQac/LZlyr0ZgGFmoHlP0qFTSMX9ytS2F/OVJ9PJI72xGzGJRN5IQUC06SFmmTJN7ZRtZeAvjfT6ur2ndjnkO1+5EtJrt5HP7AjiR0IGl1nHLFO7Ttln2kiwh0Abuy89N2mqNzuhrJmm9FaDLAcsVsflokNwJ6eH10VHBMFFlTuXVp9JFhr7e/+ixiNMjNtSMV9luxsj4+gQIxAdYB5Z4y+lscTJNBeL7xohorQEiHIQxPQWl5LXUkD4CQwlNkolSNoty7lW+UhHn2gz9aIEFF192m28GmQ6+sbUFUPkNV+pvGtVlx5uPPS1QH7zSBfpPzlOUkIAiM4xSa5bFjItMCimb9JgeN1D78irY65fLSRLmY7ySIuRRiiIifyzE+yF9KSV6bTLlOXJgIyUh+5IgzwbvCETn+kvPWqnkcg0lAep0L30kJCTe5GcNlK29EjFT7QJKtPRvpwI9gnURzo59andusuSkE4eDUboqzYyGNBmCFtabFF6pOqXdVwu5JPlh/bnxErS7UYluA+D4IaGdYhEI+N6KTKsx7lYTpZZYA3vN94U2E/g6LTVkEJ3Q/iuk+VjsZlScZ11xlpDPvIgjOb7CWES9lp1UKZDeQwM7FCye6ktBN15LQdZLmlQdvUh1PLRZospwkphlGrnlX5HcEa3sNb59HDj0S2b6akwmAjKBgv9n4TAYKaxTNAzMikuImJofUYedM7gkhexHAOrXAIykDYyoWPIhcwbRCZB8Uqcg9Q797Et6oLckK78EbV7EQlb0C7TYmVrE5by5HqhwNvURu0ytZEEqkzISLsiNsSrPRF/kpu6LBXZd9LV3tpIv7GtrimLdBFeEl1iKf2QfZD5OMrLIEHb5ixSeppLSXMxILiBf/iP/8k/H/Cgt7Rqek2i3SZ05vI8yALPVyCdpfHF0WHtqYTVViBBWHSIjqBQObKTvnxX3VCdNBzlwWDzdnT0QgK02jwpnnYzIFCfRLb1apBlMzpTF+2nLhTJtXbZ8/tKQkLfMApgtNw2Hj3cWuiWAYaYzpOtlK8kPHJBf1zP+PSXwXPdSwQMJp1nWD1ridyksxxyg0yf7SF/CIRuSYtxRaR0gX7lGpW4SWzpZRkQKp/BIFkWfFYHZVqObct47pMnHTTLAQafyM5RmZQ5bY3vqbs54AbrYvmQPaJwz1LKkci42UbaRjv5zI4rD/unTZQl22g5eYA+1vfZpt7VK6iPPLPsa4GBf/AP/3HrQe9ZYstju+jdplVDtw3ufJ+T4DQCguse5SwX7msHkFc2mMY30tAxGh+671luSMhHB1NQQt0muIXuWSlyZGYU1ia47nxWErJvKEkKbK6NrKZv5kP2DQMiXUoojx5uH+h3BosRZ7yQAdmjr3SJB5Pw3XS256wY95xCNMPQvVa2GkgjiZdNSi+KvaIPabh9Ty+SR6MevEgeKO8tjfxKDH2CjriXXiiLMskn24hnpnzOyUc5lceUpGviax/thCC1c9q+lUJ5BHnmYCDzzj5zPfNJm9KN9vl0RLSnNy/Zm2EQ44g8lV276ufVlh+mw4Ub+If/CMFFZSK9+Bunm78ziPIp4lQUdHJislZMoyqsDlGBrER2cB4hBcQ5BJeN346zWsg/CU65EIJOl8da5JNpyEceAuJZzINbKTKvXCvoJri1QObREFzTZlu3NqPZte4bSKEGAkxp5LHW+fRw80Jfsxf0BckxmOvWra8ymBsjBINhgy6GPj0S60mM7FoPvrJM8lIm8k/HlYO8Opp58JmJ27Fje5Vf3qS47k19ybAauF962UYMvu/sLVI5dep0lKmZjmSDxEO2yC2ne9daf6UlH/Vli+SBA3ixPC52yvU2qbbz91mbjo2ZFj5Zn6Hzajd9zO5Ix2AeN9iAxkvXH6sHTpouHZqcv0F0ao0WHxTijTfeLD/4wQ/LN7/5zfLtb3+7PuGeZCdOov35xmDtOriHHnpYPdgEZgEp8JwYSw9e33vvfXXEzmB7n6UpKwMgL+5m7LZsaX4pPo3nWoDRbRthZTJYRV4CA4vYvMTc/gFGfPv25q3/OQuV3lRfeAbttFaCdnnSdkpfuyB4+QJiYH95P2wcot23b/aXGmC1ZWlDWuqofdKT27//QJTn7tonPEhr63jAZyRs+nE+jI2N1jYVl3cu3a1bm3VL5fc+S/VEpGsD7RDlb77MRZuetPf4+FhU4FDtcOH119+oc6Y//OEPa6Mbod8YUpsvT+fyfH5eTYA8wtxp2bVHd56O1yJcD7Tzyc/Xuww93GikAWd702gymIzkzp07qnHzI8DWjhhRHsL58+eqdwdz9S31b3XyoyzSycG5MjnyKBjjoaHGoOd6kHU45+WbJDJbjqZMpsSa76tDk1aTj/Kxv7IcGfEi52aJZ2KimUkbHb1S7+nvb8q0Fvm3ESUpk1PNSzBAWeSpPZQDsZ49d7ZOM7755hvl+PHmFYsfRdPGuVbJa3///feCFM9Gv++pMoDosm3XBuGh/4N/+I+aKcqa7mzi6tOEZlru5z9/uRyM0ZXpsvvuu7d2PDfTFKSCGQGpQHfnX7mS6y+l40bbZJL5NHFWE+RDCC5fbn5wsFmDazaZzBd/+QFSgKerW37mzOla502b7PjJxdD57l1ZkE8zRXmsTh2a658v3mqCPAjpmbPabCJGyvnsTnffrAZNPgZAR48eqbKxf/++KuCNrAlzy9ULt1pYGGwCeUN05I9OsQ8XL10oZ06fqfIpDoIZGGhsS6OHszsQP5pHd/4LB+lM1GWXZq3r4MEPqidCXhs7d1+dJmXXzoaenL/Q/MBnf5RlaHCoHqUxPZVpNmjK2ITOmauEWUiPDWPPjhw5Gt7aW3WpYjjahXfJq7X+r12USTzlQzT0ike5MsxfnihQta9IzfToe++/W6dIp6cnaxsp07bwbgeiDGwWGzw2hnSb9btG18GaZzPV2R98o25vv/1W5Y+77r6rtvXGjbMva2/QLtNyQ/yNtgyC+ycfWYNrLkYIOVI5DfzLl1+unfv4Y4/Vd5KZj1YZ89Tm03OHZDeaNTibTJqfiWimG5JQV4vZijRrcLMEZ6SzNnmAfHIX5emaT0PqzU9dNJ3SlGX1aPIygm3W4LbWUe61gBFpQ3CTZWtnR9ncvlltAzZtcvkyGWgI7sCB/dFmzVrK2rZbDzcfFpKfuefJAT0ywNoccrgx5JCHYpRfSaWzocFgMgfRVXQq5stjcZmix1PhlTT7CS6UQ4cPBZH4de2jVf4ZbRs29u3bW3bGoHzzpsbwXoi4BrgXL1yoaQwGwTHgytRJuf4Dj1z5PlvOq8EOUm+D8Uvlp8qHh5rf17sQ9d8etvbOA3eWA3ceqOuRCEVbZVx1MBiYCqJVnhwMZLoNlqJn4og/ew+bj/wPRXm8zutU2HvOQ7OD9K6ye8/usj1s1ObNHv9qSM7mOPaLXVYOZdJ37jNgxwHs6OEjhytx339f83M7zktjFvOVeSn1mY3T2UUZAtMiOOSWmIjR/eEQgLffeacSmWfMEJWCHzt2vAqhxs6F1wYSaMKVK80WXPFnCW7189YNmjQI2yzBTc3somzyWG2YhXZB6oI5+U2bmk0ma1OXuWg8uCS4XXGmu1yrCQ3qJpM5BLdxnr5pf14ZGoLLH3lEcGvznEsPHwcs1Md53rH5TB6GQ59srjBDxEO6fKl59ZeBMt1mKIVZ2Vko/Y8iPSp/r4S9MDjnsZmZGgsvjn265557q4w2G8iGg8TCOMfAffOmDWG71pfxujHrTDX69MZgzfVanuZ/fG7q4ltTzPrnI8jyKFFOyypTfZ/nCUSyrrNOeW/1lgza1Z0jMRK6uiFsnDQuXWoekdJOQd2RngJE2pF55rxYOZoWmQViYvfV1RTie++9Uwl3oH+gEpGNLXvu2FOJX38pj2BGi91FiqZ6ES+7PDU1UXMYHGgGKM4rLy549JFHK6dke88luIRyz9QkwtzyfhSzcTpTlGHUWgTXNEYDRpAQfBiNzjW+p76Re2OtBKOVzy5w5RsX010SbzK4tgTXYHGCWws06cwluNnHBNa2Ls1xluDWfhdl1ufGEVzbg+vh1sZS+1i8Jm5/GFIGc+PGIJUw8gwrfTCtdenSxertCY2szmcQE5lmE6bCcFciOdc8rM1zOxufN4c9u/uuu0M2m99p42koQ8rn9FSzY5xNYesGwlAjRCSHACbGm5+eIddR+npPyvdMGi0yMyvGToE6jI6FjTx+rHzw/gdV54F9seniQHhKm2MgLf0mrSZNZVBOg4G0dTzMkyfCo7t0Ib6bthwsA3WGqSbZuT+R5WmgbUA5tdGp8Aw/CJvPdrOtG0YaG793776ydVt4YcPs+Kwe4xAENRLx9Nv6IOPxaJfGXp6ttmZoeKgMdWa8lBlR3nvfvWVXDODTe9MeDZq6zgboPi6E2eud1OZWdqYvKqJDdEbcE75d/R5V6lSqeUwgK9mkc7XMe+ihhx660diWBjYk9IUBHyl37PGjpXfV6cLhdUPlaAyUvOHHA86nT1vvGWuRR4INaodIMeKY6jx85Eh55ZVX6/Sf74wsD0IelhxEN30pfpNuUxaGdzAGs2ZU7r77zvp2oZ27doY3cqm8+8675e233ipHjyKDS3VTRhLGXMyuzTGXphQ5CMoinDzZvKpLXW262HPHviCShbbMm47sr4NsOylzF6I1zNOdDRz1Z3uCYKwzfhTt9mHR+8Nrm6wk6Rm7t958qzo12pfX5kdNm7eYbKrk1hCudGbhO1LdFuR8YP+BSogG6LzvQzGgeP+99yuRG7TwSq0nbt3SPNtocDCX3BL5uSuzJSHa6H/6Bx/dZFL7tQPPLxg5HT16uE7JHdi/r2wIhubB6dDjx0/UqUuNa1oh0QjH7Boc7No1uwa3VpBPs8mkcdMJJ8FrNpmsHVIwmzW45jk4oyed07Rbt5KtDNluRqzmsm0VbjaZrC3kUzeZRJvx4PSh0dda9o02UR19M7vJxIPeuTFn7dqth1sBZCFDSEeIB09kYJBnMFI2hXEdDi8BqZw+7QHoC1XfeXuNHibSSxqvdopHQmetIb3/wfvVaNNfHtv+IDjrR+kRzrWjSXJNWZqLzXohT47OsDPjE81v4nlOTfz1YeOGoszNPZFKTcKf3CTTvImE/XwnyPHY0aOVMBCIGY4d4dGwsab0Zh0HcO/cR7Kg8Z6aZ+fqZr/4finaiA0xVSiNQdO6NXbjkGRFEfFklF87nem0UfMOyvGyfUe00X7v6dxd28h6mXLOT0SJ6v5UO6JM+s0R6Z8/10xN2pTDw0N0livqDOIcT3xu/eZiti0WR9NWnVSzwk2B1T+DgpqH7o8CMIQaV2EmJprdPqACs5W+dUGuuoWrh+UgZSwDdJ/rhVsrLAdz72VnTIOxPwzl7l17yn3hqfAmdoTxPX/+QnnrrbfLm+FtWLsyJdbAvbbYNzvAPTfmcSaGG0E+cP8D5cEHHwrPZG8QiY1i7BfDPVCnQ+WbJODYhChLLY+NJYM13qa4d3+Q5D1Rnj1BTH1hqI+Gp/JOlOnEsWNlIkiimgtpRWA7rlweDS/0eHn1tdfr41YXLlwMotwWA787K5ns3Lk7CHIkcs6dxtDsi2ibnm47pFzI1jKQTRv3Rx0tbSC4t95+q27jt1+C3XavXZDNRptmqtUbRV7t/DI7D+2uu+4s9917XyU3ZM7DslOyIaLsozZmz2WbGXhs27a9emvanGfqhSFIVH8geBtrZtOcW8eP5gF5LvObL4Bj9JVNJtU91AkzF2ehMYwG7HiZnpxq5mC3bo9G8XLj5kfy7r33njr64J01glHvrH+v9xqckZudTyPr13INroHGP33mVLj9Z6/ZGlyi7cGt/RpcA6PI67sGNxAjVG8yaW8y6YVeWDgQkUZWGrKr6zwbwpvbtKkSjQ0WDHe+kSeJitdGf0xl2kNgtsLuaptImg1xzfNtSKsth3R8IbmcLYsPHWMf5DsQnsiGTZvLtgj90331EYfTQRqXTJ9acwp5n4q4Z85eKB8cPFSD6Uhke89d99SNJFuqh2Tqj9fWkGlTjkT781xkmTKwSTzALWGfeFwIzKYVZMcum0bURqNjV8rxYyfq4xFHjh6pFnvf3v11hySbY09F3dATTk79V8szXzk+Ws4sS/aZ6WYeuIHKeH2ryak6PcsG1QFDp96ZR3NcCE2cpYT6mEAu+nej6ez+6sYSFtORznFnsfB7771bdoSh/8SDD0aD7KiNOZuO5roFCe50EFwIjHlm89E6b+3zad4cc+sRXH+H4Ajz1YS4hx6AjDSykoGMNptQNlWiY0QNCOtjBXGkOzZrCIy6OIx2rgnloHQ+O9R8/2ieC4Xgs3AUglSCxDaHzdmycXMZXD9czl0Op+DUyXIqbMXZixfL8SC09z84WI6FDR0cHC4HwlG45867g2zvKBtrHRrSEaRbHY65RVsQ4neDt6WNTAOuX9c8HG59zTSqRw+0k6lRz9oi/82bLDM1j0ZYinIv0tFG2RYN5ivUYgVtrqnXOs/BjWyI9GNwEX3A/vDCBQMSdqHJd+3eVTvwP/2DzmMCrTLmx4bgav+VizFSOhYsr1EOh6t/8OCHdfcQcrvnnrvDOLYJZXbuur0Gh+CG6+6bVmarhHxm1+CarbsIYS3X4KI2tS3sprKAmx5cPibQtFhTX/BpxaFmlA96H79Oa3BTpXnQ+9qswZGBfOF2swa3dgLcw+2LZi1sJHTE4GykGkw6k79CQM7sDeAhsT28B+fSNq0FGtswXfqE+N6/brCsC8JaH4PfybAXh4LU3nrltfLua2+U8+HZ7QrbdM+995b9d3qp8JbSH3WYrMWJu3lKcZhrTdpwNsP8yLrlMaiyrs2xI9rLppO333m7TtueOHE88mt+nVs7bYnyDA97DRmSTWelO7/58s44s2G2jZvvTVoGFbMP9m+MAfWVK2P1MTR2CLmZFVPOtYB9PosunNXGjqDSduk888wzleE1mMXQx594vDzwwP3Vk5kdDWXFbgSaRlxz1D7KeoUQ+htf5+bU5N2IeXNcWehkF6GHHnqYH2yNgLAMZu30e/jhh+vuRsacgUV4IE6GtteWx9UAsfXT1r6pMt0/VabiOFkmSpkYK0PhxZXDR8q5l35Wzr/4UukP0t1y+WLZGJa3z07LyH5SiNurJ9gJPtdQcwgswxh01w2huN0mD+ApjV4ZrY6Aga3zNqV4y4gp09yqP9s0Psx8WQANoTUbYD66CQas99n0Uzd+VCIX5BXli/iclPZ986WxElQPbnCwXaGPVkeFCZERx/Zt28udFiDvu7c+O2Jq0vMNMFdgmgJe/ylKuyhNUa7Vm0xmE9Hm5o3PnQ0Pbse2OqfM1W7qor6zFJV0tdyQ6XhbwvWbopy6plOUsx5cb4qyh2sDcssDMB0p8NbYBS8ANlNhpsV1aMve8mSQbmb8+Bzph2kOQmvC6ORoOX/xXDlx6FB5/6WXypEfv1AmXnu9jLx/sOw6f65suHS+TMf18cmxMsFLCX2bXhdl6nIzFKlODMousUgxu+tAzwBp8CIvnD9f9e/YUdORV+rbUHi1ZqGQPtuZU4TpPdkM0kBbNZ+0Z5NXO7+2t7YwlMWmn5xtOx627dChw7V/OEy8SIMUG1r0JSyvb+ZBFGtJBOeazNaFgGzZsqnOY3Ml61bWjxirPDaVvr4EZ6G5TXBrkcdsGvrRA5CItL7JZEvzLsomm7hYO/qjpLWsQIgimQvnPbR5vGzpEVwPPSwKcpRGlsFGbgaGBuVkz9qcwGthfxBdt+wtWRY7Ol4/hrfmn7d+XB69VM6ePF4OvfF6ee/HPymHn3++TLzyStl25GjZe+F82XPlYll34XS5fPJIDFyPllNBdFfKQBlcv6GsC89pqK69Ndo2EHn0swORvu+1ZPXPbN5tZNm1QV61TwKx21zifZamI9X9zjsP1Nk4mwXzhRiXwtM0mDZN6D6bwAaHeLvNlCJ0k1g2V83zI9c6F7vAe0Nons8T2GxcYpeljT+ITv/l/Uvuk4UQxRr4f/1P7efg5qK7KS18Nq5+urELFWC20klwemj37l0hXNduDQ7BeXFwswY3ElfXJp+mEx1LOXnmdN0htWXH9rJhc3QIDy7i1JzaDeZzhuWgZmQXZXhw1uC2bCs7rsG7KNUp1+AMCuy4unbPwVmH9RxcM99Phnro4VohvTnGOz05a9pk3Rv4gbFPb6XR7yUoqnjxbzK0fdyxqupUuXTubDn23rvlvZ+9WA7++Lly5Rc/Lxvfe6fsDcK78+L5svfyhbJz7FLZOna5rB+7WKbOnyoXTgWhnDxZxi5dKOtC5dYZ9IVe8F36TWFGuka6DYnKtfm7MPrqQHVqerJ6Y2fPnq67R+0iVXeEb52teklBJB4FMADgMVkLY8ptyNFGBgXNC6WjfVxQz3naZ6FzGQwo2GaQZr6txUubkWjz0zt3VZJLx2ctoXhL8+C6jkuHX8RFcBYzbTLZ06rI8lNro7Z7bV+jNwR3JTrV7xGFB7djV1kfgj0bZxWoxWzKGh52ORUEdyZGIVu2bS8bgxTMW+czK/7NTKDXe5YRagc0QZHPX7hYToQCbNnqVV3X6mXLjQdHCD20Or8Ht3pU4e7sokRwPQ+uh2sNskWWEZwpS96B7wiON0f2TVuSxRxwLSqPoZTToddsgKftpiLu5bBtZ48eK4df/ll594d/WY7+9Mdl6s3Xys7jB8u+ILG94bXtHL9cNk6MlfWT42VdkM/I1ETZYH3uYgzGTx0uEyeOlNEzx8vl82er5nsTycwD3hGm+4PaguiEpnTVysxBEk0z0G9+hYCHxFtC9LwjROKdtum9NlWdjvrzeD203gxwnfds3ulTp2tbiWsJyqMC1TDFd48wKEcl3Mi7SU/onI9z+SYXL3T3KML7QWxHjhyu37dv31HL4w0szS7YhthqnTtof14xonjXiOBmY7anKL3JhAfXCFQ2yspC3u+oQRFcs4uy+UVvjwnUa3PiNcclBfnMfIc4Rj5eD3T6bIyItu0smzbbmTQcfOZnM5r0+zphJp1OqGOySFN5mvHZ/GEy7p2Mcdz5CxdixHO8bLsmBNcoRCU4Hly02cIE99G6LD3E30ir/ZhAj+CIUdP+S8Vq22mx/G61Pki5EsgyW2NQnWtzPpu5sNvSejovgzymTLbR/m6LxkQ043jI9WQY+0tBAu+/9kZ59/vfL6e+9+0y+dJPy9bD75d958Jru3Sm3BGDuq3jY2VE+kFsA5HCQBDQuiC4jZMTZdv4aNlx+WJZd/5EuXT4g3L28MEyef5c6QsGHVg3UgbCs5ruH+jYhejDKIqdjQ25fLRPr4xeiTqdKB988H45fPhIrZfn/vw4Ka/NIxXN7sguW1/bytSuX3NYXzYH0XnEADmeiva5eCk8zrAP3mnppdKugfx5ldCk2STaHMJ7m/Dy6Ob9oV4bdiY8So8I7Av9v/PAXXX9Dxc0+c/agvbnVSOaqO+d9w5Pr1tnvrVzMpDJZxPm9+Vkmx3AgP7yl7+sowvvfCNk3ZVaKTIPnWl68oMPvDtttLOTyo/n1curzifvn/L833sf1JeQmsPee8feKhD1ehQFbQ/EMQZdc0A4q5B2PnddngWh4dJHHO/ce/Odt8q+A/vqnLk8tOFq6wJVOCN4e/n7H3xQpzT2x2jK4wgUfSZO/bQKRBrKS1n8MjKB/vSnP1ONjPNrUZePG7LthZsB2Q8f976Yr03b9XJtIvQ3lzKOHDlS335C3g2IkYBpvJRNqJ5FJEkTENzoxGQ1+GeOHy3H3n6nHHv5l2X61V+WOz54q+wMohqZuBge2mjZwFujxnGT9fQslVSZWUEWE/HhfBiNY0HCZzdsKeO79pWpux8s65/5dNn95CfLrjvvKSNbt5epICaPENQloppKU1dekjeBeBEHJ8JMmZ/QMe24e8+esjsIrhJbfU1XU6fFkO1nqtJeAy9u9mpC9WcbbE7x7khtZOBQ21zt/Pe5Hv123Gh9Xlh5kJz2NA3Jk/RmEzs209uDayV7nMjrQnAvv/xyFapcSITVVqpp0OjkMPqChrSRAdlZtMx8EvITfyX55j2To2Pl2IeHysmDH5bdQaC7TIWuHw6BDfGJ6iK3GjMbDuKEr0lsM6FdjDghi1qnGC0ZpZ08f7a8e+Z42XSHn/C4O/LwqrSJq5RfyrBYnFmYgjBPj+C8kofwUXjtWUVXH2aSS0VX1hTBT5O8HQZh+/ad5Ytf/GKd+1ePlfTFxx0ptzcLbpV+mK9ds155dL1ukw8DbNqcbcqHwRltRrwS3Ra/bdZ4dJNhJYWJ8KxOByF++Obr5dDPXyxX3n6rrA9S2Xv8WLnnzImy/cq50j85GnbA+w/N0zTIgW2eMNNXSa6jWqY7Rwf6yuXI7+Lg+nJ0y/Zy7K57yuCDT5S7HvtkOfDwk2XD3v2lb2Rd6R9Eck3abAGyRdI2iNBl04/IGlFbV6Nn9K8vjHtDcAvLnbbJdvLS5frbdJevlJOnIv3wDKVvqtKLPfbsuaPaiuYZYO3e3J+/4edXGk4cPxl599ffrtuxfUf12GafG27u0SjXUvYqwb397qFrSnCI7aWXXqo/T5GLvmtZqczH2wt0NhDSpiFnMd8872KQbgaod8UI7lII04nX3yj9Fy6WjVz+0fEyPDldBiNaNmG2W/s448W1ss/r4LS8TG8O9A+W85HYia3ry5YH7y/77jxQNqwLUlhyDyweTxvIi2J7P5/30VFuwui9f6Z5la6Wr13IpaAra2W+HMbkeBiDO++8u3zlK1+5rQkOtD1Dy5tI+boRoBOMokFNNYQf4/5YqB276ySeQTDkFD3v58zp07VPNm3eXN96Qh+0zXgQyZnz58qpGDwf+uUr5eTPf17Ku2+WzaePlR1jF8vuIJm90Y8bx0dL/xS6inJ0spzR+c5n5yu5NR/jYuhhlI8nNxaD2tHogxPDI+WDkY3l7NbdZWD/PWX3E8+WO55+tmy/956yOcqE5MxSnT/X/OK/7faea0Mgdig3HlLzOIQNYyvRM20keFTALy6ctYnm6LFqXyfCC+YV2hFv0yBHAoH63T6DBZ6xqV8DBu3IFvuc652mWTu5RFheuZaLxoMLghsOgguynYFs2+KykmKkwCG4n4dQIKDmHXDNcw6ur4VCZQdKH4nqAB3NiCZcbytwHhdCdjBFyHpAX3g2V44eKR/+4Hvl7M9fKkPhNQ5fvFQ2hVyv6/SXQw2tz+Dowc78Pi/iIkLoHxgq50PRLjz6cNnzK18t+8Ij9f69uqvJKveiyLrlMePn9zjTqZM288o1v221b+8dodQ7QwgHqgcHHYpbMaqARbaXwgC8Ex7cli1by2c/+9nbluCy3elE8/MozYCsuy3aMnctwaDTRy8vZohyEPhxRHebLUW2yLk2MNDTJyeDLE4F4Q2tG64GfHvI66hZjrfeKcde+UUZe+2VsvnIwbL37JmyZfRcGZm6VNZPjJVNwZcGuXY/RkEi5cg7PK36Lz7WkimO03HgxTUXBhqCi4/jcWoiLlwJorsQ+n9ueEM5u2F7ubxnf3hzD5cdTz1Zdj/ySBkM7/Js2J1TJ/3um+nI9WVn6K1f/fa7cUOdXeqySKxUz7Spf9bgtBF5NRiw5ODVW9b4PC4l/VOn/JrCyUp228KD9AjC9iBkDk3TAM2vjTf0fn3QENw7jQdX815DpMDlGpxGyF9uXUtFkq68CKg3ZhuVPRKCYM63DfGW09G1czt1SEzYVv/Om+WDb/xJOf/898vGIx+WreHJIbgB7KUsUbXmLqIxC5/J9GJo8otIMdo5s31nOf/sF8v+v/Hb5cATj5W+oeEquJ6PmR8SV+bmc3fZ56s7gvNaI9M1XphNqWfbqVOWVcCDneBnTX7xi1/Wz88+++zMOsdy+uNWQPaJaeFXXnmljmjJKX1olL+J0913a4l2+gyWKaXHHnushtutP0BbILrJGBhfCDI7cfpUOXLyeG2b8YvhYZ86Wy6/+V4Z/uCdsuf0B2X/xbNlV+jLem/BL2NhrqfLcMj5kDEhi1oR7dhXTzQ81mnWbN5KP/VCGIs4yXR4o4k7BJvMRgfXl3NDG8vJdZvK6a07yqW77ipX7r+7jNucsXFz3Xy2KzyoO/bcUb0362xUtk5H0q0mo5rXSvpVu+R9Phvsm9oVtI2ZH56atuMx2oHpRSB2yvN+fW9+Bmc27+bz8suyUlSCe7dDcEHIa4pUIgRHmVXOq3QQXCrzWkFeCM5PMCC4xx9/vHb6Sjp2PtSaRB4Tkfbx135ZDv/FH5bJ575b9hx8v+wMkhgOgjPL3RbmJWGOHeuQU8j81FB/ObVzdzn96V8re37775Tdn3yyTA5bXg5DGPGs983FbKadZp9p/4WgbRCcQYGpMuuWRvHOZ7vl8WppLYT0BK2PGuRIp0dwpT6b9Oabb9YpHG+UoA856FtpWy8F7bR9tmb92muv1ZmVJ598sp6/3fokoT289eNieGTHzng4+p1y6PW3ysXX3inr3z5Y7j51qNx/4WDZfflMkFtHB6OpNJf1tDrwnGnfONYIjvFXk3aatTkYBbvQ+RxoYrMBoTPBeH59YDxI7kKQ3JEguXfCU3r/rn3l0r69ZcuuveWee++rA/m9dTmmGfzKvnbfTF7Nh9X2aS1XZ7Da/ATRmfoTPG+8/ka1HXuiDPeF/di370BdZ7OJhDx/NNvVlWO50JTRLxp1GSEqqJLzXpsn1IziqJHb5xm/9vfVhMwDuvNph+Vgzr1R1olw023z70fOUf++adt/J8q6ThiKMFzDZOe4eMj7aijNcX3n+5BtxZHngBFIFFt7T3bKEh+rMszFbFnrt85xMczGn42bHldem42zfHTf3/5+OwfIqW8eXHfItYr5gmsZlnMtQ/d1n5NY6eNa6uTHLQDvZzjaxLTbww99onzymWfKo088Vu5+4J6yxSsJ1wWRDISRDkbr68ut/5Oho512izSawAZFmPneBJCVmPWcOL4bB9J1G8zqJrOpMiiYuByaLBt2jJS7P3F3eebZp8unPvXJ+kvY7Jx1Mb9QbobE21SUwbpZrY//nc+rDux9/PPDrn642KyPZ+VMQz700IPl0UceroM1jxrlEkcjS8rQDq00r1NopHsJELl5Ur5xVy+G+3750pWmc5YInXItQqad6L6eYTnovq8+6BiIfuqMyPpnphRmIb57BUqwcKjMlUGqNc3ZYG5+Wp6Z4MzF+dFEa663y75YaDCbZp6ae31l6E5joc+3G+gRtNsgzyWy7bpDG8u5liHRzq8779sZWmgg2mlkcLjs3rqjfOLBB8qzX/58efI3f7Xc9bUvlZEnni2j++8vpzdtKeeDCCc6g4M66qwjz06oVgIixfjYVvOKGe+tc6yBJYkPkhws5fLQVDm1dbiMf2Jf2fr5p8v9X/9qefrXf6V8+vNfCG/78bIvvG6v2LKWy5uyNjY2Plr7OZ+VWwnmykzYuKiXdUq/QvDuO+/WmQe7Njdu2FCXnB5//Inil9E9/pVvuGq8t1l5u5FYUks0OtAU2EO770WjvvDCC/Xn1icmLY/e2sgOJ4C8uUaOa6M0WMO+rIrg2ByWkbSYTZgV0PlDxUyfLj2HHtYW2RczfXIVkLkcHTcj5NmRap5bDNn/N5MBupmgRSwEDEXbDMXgcv26dWXLHbvL7icfK3t+7dfL1t/466X/s79Wzn/iqXJk5/5yYmRzuTK4Pm60/jUQIcxpbdds285nujZH34SI61zEd+uU/WMj4bNtXlfObl1fzt29t0w8+1QZ+dWvla2/9itlc3iTm/YfKBu3bK3v2j3w/2/vTb/jONIz37dQhX0hwX3fJFIiJWtpq6Vud/ec6cXddt+2r8+Mj/15Zuyx3Z47c879C/zn+IOP/cG+3o7vnd7llrpba1MUKUqiKHHfAGIHCnXfX2Q9QCCZVagCChRIxEMGMjPWNyIj3yfeiMisQwfdavJrJxrWwphSZcMYRAQhBUsuK7Qp1H8E9SWMGH4hPfsyyrWg68MPx87NhiltfjiW9+Kw2rLPL9KnHkGCo+4MLvgEFmbpxYsf2P/+wQ/tpz/9afhdobGx+yHOlkK9wuFv3Gc3xz1tAZGw3N+tdv8+R8QPfqxYWoUW+1n74N0k1lE5ch0U2yokJ0iOtcjwOIMBZsUtLHYJ0ESL5YpVh4etduSYVV76ivV96/et75vfs/kXv2Q39x61m/3bMpLzeK7ZPRXOEy7dZycwP8cFf1yw4Gh3d101W+gu2f2+it0bHrTbe/fY9HNObL/7XRv9g/9sg1//ttkzL9rCrgO2UO5z4ipZxcvbvm00fOqKNVwIh/sIAV248EEgOl57mJudy2bdCvoE8YPTv/o1L48zFUm/un37ZsiT/O7euxteCXjixBN2/PjxMI3L5pKM1Kju5hw0lf/X//y/G35sWaDiVPj998/Z66/9wt58682wqWP//v3h00v8HpxHWQHSAHbo8X4EleclxKxRmHvOJVgHyIty9MVwdgPGrwmsF+SPtOQ9feuGjV983+yzSzY4fs8G5ubDWlnouNTLnxDFj13o263A41Xd1J/qH7Lpg8dt8Olnrc87/SL3KPyrNc2qlWYNcdzxPg3be+fns/do2DLeyU4a2sEdipcpFM7pM6z/bEVQf8CIG0ebMwKmzZu1O+lQUhAb00OsgbChiukiRu7saqNvMnKmbVfLT2C7NxtNmF7imQGdvP+PJuoPR4D3X2+P8Ik9vvbf12tlJ7vePbttwHVZt+uYOR/4T09P2sL8nLddxnHZLIz/CWndOHDHJ7eyFSHat15Gl5NJb8XG3AK61dtvs3sOWt/p52zoS1+zgZe+bD0nTltp5yGz3hHX1L2exknE/zEFyXQgn81Cz7FxD/LhB6hv3eLF7xthsx2buXC8tE65yJd1wfBnqT9m9zxzPKv0TYjtQ6Y+b94Ia7W83H3o0IHQT3rDaz4ZoZFU6cNhE4Hq0eKrgi20t2/f8UpfCfO+NCaV7vRuyEcG9AvNuUfgSi6PXNRNAnpn/TRh0wLyYjfy22+/bf/wD/9gf/3Xf21/93d/Z3//938fjn/7t38bjsyqhLUYV26tWHJScAmNAaHwl4HrQrlm1cEe6/YB5/bfeMH2fOM7tvt3vmvdX/myTZw8Zve2bbPJSrcPUIP9Fx768IOo3szZ1024J+48qMrXS/q6bcIHOJMHj1j5hZdt2ze+Z9t/+w+s/4vfsK5Dz5oN7nfCHPT03W5Vlt2qLHs+vM+b3TsGNOhhviELAR0/ccKOHTsSXsRm0MPg5+q1q+GLJwuuw+kT7NJk+J2RU0ZS+ENsfLrv2tUr4Yv/DHzoHRDakSNH7fARvh/ppO7lZb8qo6lIkfbmREsER4vy6Re+8fjiiy/YmdNnbPeu3fXRYj3OFgJjMTEWf4NrqR2I1MjFyF8nbFWgyHjJltcs/vEf/9F++MMfBrJD8fA8sqMOAnz99dftX/7lX8KRDx5Acq2gKck1Cdoa4DmEmLKnnCU2YyaFb0MODVvFFf/Qy1+ynd/9P2zH737XBl95xRbc7+5Av006ETC9CUGWfTDMb7xBcItdTmw9FbvbP2C3d+61+ad+w0b/w7ds3/f+0LZ/y8ny+ZettO+o2YCsNvLI1HRGSkXOozrh8Imx48dP2OnTp8OuRiz+98+dt/feO+tW3c1wrR3wGdnxea1qffbrdnh95dKlT8KuTGbbnjnzjJ1xd+DA/vChZL3X1shtRr3VEsGx9XPHzlE7depJe/rpp2zvvj1+f7Mfp6NS1C3UbwtgfbdxiQ4LXAzGWAkJ3hNcCUFob775ZvimK98Z/Pa3v21/9Ed/ZH/4h39of/zHf2y/8zu/E4iOaaVf/vKXYfSttE0JLAdi1m2M8HFhvXz8YO9c6WJwrTzk8nEeDSzXkP3SWGC8g8pbAkGZc8JXOngP7dnnbOg/fsOGvvd71v2tb9n4mdN2eduI3XLrZj5sPmEHSVd4gfu+k8TV7l67c/iolb78DRv49n+yYbfaBr74FbPDx2x+eNgWnRzDXGfYRR2EyeDiNNOzWFS9vX1OTrvCB9p5T46XrrHm+Nj5+QvnbXx8rJ4PX5NaDGQGqfE+JJtJ0Om8D8vaHlbh8NBQ2ESyrOtx0EYTQTYRWiI4KoW11tPTZ/19A1Yp62vQ4NHsvpsVYf25fr7x8JLS7duUgJiwzBh1s4bNQj9+fMTgi1/8Yvi8FqN0ji+88II9//zzYQ0V6w1CJG1bCP0u+1d1t8BmA3ecF3URiIuwIgJTGO9uPhDnEetvqHEc6r3sD+fyT2FBQO4qPU50g050B6zk1k7ff/iaDX7nt82+/IpNHn/CxgZHbaprwGbKgzbWM2T3d+2zrudftNH/+G3b+Y3vWv9LX7HS0SesOrzNFrD6pFdppzW1VTZ1ySey2OXIxzWOHT0WrK/Lly+Hj25w5DuWn7LO9tGHPjDi17Vnwld1jh47ageX3mnLZIFUi600Xcd+mwvtv+hd/wcKw7eCo+6h/nWn61Udkx2NXBYnUwbZNX8Ky3/EHNMhmhJJLtzZQv8iB1GxfsJGApQVI3OsOJQY4QBlxuYdFBSbwfR1+XxeRQ6E8+g9Lr7KkX2dIwR6p/R753LgFjn6NWtLbKbgSJywthPuscKyXpx94cPvP+HE41+Iv9ndUnP4H3fhwcQju8xc9uxWS93hqyOzw9tt9shxq3zlqzb6+39gQ9/9ns194RW7fuC4XRrdb3dPnLber/227fn9/2zbvvm71vX0b9jsjp025cbDtOc05/mzvV8va4d/Om/DIVk497OBwYHwlaKnnuKrJ/vDxqI33njDXn311TAjwA+b8gOkvLBN39qze0949UAWG9llbmUZj4qTGbYqMhbPXMJaoJEOTV7stJU4++d+rS3srUB798cjh/jZ6CwboXUeG5Xv4wzaDBJj1zEfD//mN79p3/ve98L6CjvnCEMJ8RDH9w7/GIQ3Q1AEfiR1l5McX9KoTU/ZzI3rNnX1ii24AnQz0hV8RnAcS9UFW5iatNl7d/044fyVfUUjdCdIkLA7d2zKrYQZ4sxMBWIM057uiqy+zYXQGjmHX93R1kwfhilE1qXKfuBzWb1Wcmuue/d+G3nmedv29W/ZyO/9npW+9S27/dwLdufMc1Z9/iWrnH7BKk6EpaERT8PGEaxDM34DgP2OXIei4uMK4NnchSlI1tvc8Skvpi0PHDzghDdod++OhU2D/HI4n9c6ceK4HTp0OPwSQfZ1Gz4dlxHcMvJl5FHk9/kjtGUryB6UrFvyEAUXbu7mrNhDgVd9ufYrLnIgAKeH5UHHr4Iz069fkwq/DO4hm10VNENe8W7pvrIG0F4sDTDVxDQkjtdy9KoNbcpzySs74SVfPzK11OprMiI3EKwxV4bVyQkbu/SxffrWG/bZL39lN8++Z1PXrjnJzTgzOdFVZ21+whXkxQ/s0ptv2p1Ln9gc2+Sr7Nxc8CjTNv7pZbv89lv2yZtv2NVzZ23yxk2rLXg4lpyXhdsoUKd4xqB9NH9OveEfcKWaDzb8eWWXY6XU68TRb7WBbVY7dNS6X/6SDfvAZNvv/5824QR3drFi5ydm7fb0nPEzVRVvjW4Xs8cdx2xDfx2cyC0h9ixytEHmsv7BD5hOG7/2fe3qdb+Nc7Z3775g0eFYaxsZ2R5IMCM16lmc70qsFr45QG1ahhpu0Udx7L6pMqrDYwsi3NIVVddF0c1evSOQOntXJpuezKy5DM1TJjzOEMlBajiUlkAYU5G8E8dvLnLOdNThw4fDtKXiCIHQ6u5BuB/PtRPczK1bVr5/38r37tvdix/b7U8uu6U25RacW2qulGdv3bab71+w62fP2R0n1tmJ++EzUQtu+c05yd6+fNnuXbpkVVeqU5c/s/HLn5pNTLp16Pabl73R/Zk6y3UMzYQOYZklVy5VnKQqfuy2UsUt7ZFtNnz0qB168UU7cPqMVXt77UNvz/d84HDZBwIT3nYMDBC1obQqu2GEGMt1R0dr8MO7k7zfxjT26dNPhw0oTGuzbptNR2Z43PR5W2twgBvBrpqBgX7rCayfjSKbOVDkvxFu48sKBWTn3hbhMjjmq+tz1kt+sSMszsdd/Z+PNbPX6vxfWJT3fLORbua/Yl6+k45/fswk9L/58HW6/LrbRpTxqDq1hY6tOtqUdTkc621sGmA95dNPPw2jcX6tAYtPSqsojyJHv6u6GcfHxLcND9n+nbtsN78KPTtvpbk5t1KcnPgsn7vK7JwNz1ZtaG7BbPx+ILbwjpdbcXNOjAv3xmybPwtH+odtZM5zvnXH7P5k+HHgLpef9bkwfZaTYa1OFpvaho05bH3Xl12K0qzZFfwLz6qHVb1OiwteP35dxF2p6qH+MJfKFRsYGrLDfn9OQyzetvzOHMTzQf1laj66EHILa5Vrl1l9g7rrXTh219IO2Se2joajfraMNHH76TrO81F2LVtw2aggW9B+6qlT9lu/9Vt28uTJ0FBbE94e9bMMS7ZXdplHA29APriQ2k/qai/8DagX1CSLTYmOjqC3MGhHlJGst4WFhbBTks0C//zP/xw2C7C1+6tf/WoYmfNlEqHVe0Df4h2trn4fvG7fZn1Mgy44kQ0O2ujOHdbV69f8gr0PantGRmzHrl22c2DYBv26262XbifGSsXjuFLvcQU50t1rIwNDNlzptX5X+jbjRMmX8r0gpkMDOtShqSNKHWtFOwXPnTsXXpdA0QOU3UaAXIMy9SNycM4XRXgPkZ2J/Jr9gsvmN8/63Frat29/2CzEO4wYCbfv3A5fpOGjydxT0vANyHblJT5tALFTb+rP1n9+qoov5kBs7LrlnHU2pYnd44i2pigBn31hjp934g4fPuiE17lPYj0KCB16icqkPDjilx1BFr4cF+9lv2JklKm/kasn4PxRxeP6AD0soDw1ymYnHO/F/eu//mv46Dnrbt/4xjfslVdeCdYbU5qtQn1sCU5y1ZlZm7zh5DA9bSO7d1i/K0VzIrNKphhLPsjtHd1u/a6we53UelyN8JHi8M+VbNktO37uiTU9CM9cYbv2JWXzB2ANoF+h2CEH3vXCmg3vfJ0/H4gf6wWyIZ4sk06BvERqgF8c4Tfl7t7lNzDPBVneevMNu+IyzLtVSTtjWTMAYS0Vktu3N/uOJBa4tvBzfxnEtCMrdYPMyIffeITkGBBRDq+SMB3JF6joG/hr4LMke/36cUPbBEc7ZK7sfZ734R7PhmmGQFo+as2aT/XPzjGKtVEkdkxjrLwm3bLLaM3PvL+xaJ05z5X+xzHE2ijUy/Z72cn7ycMTP6TtPLAJK4HC44smKC6+VvJP//RP4esmrLd95zvfsS996UtBmfHtQVl6raDevUIPKEEAE5Nh/ezax5/YnCtlspqfmrQpdkW64l64P8GNtKpbdHMV78feX+iji+NTtnDnntWmZmxxoWrzc/M2PenpZqdtoeyZQLrqWh3syPQpCAErCIcFo6/c87oE04AofggAtNO/1X9jJ8TntDfXfPCa9xDfevutMADBKmPtC2sKf8IhY+KynspL2KyZ4lgb4/7qVwEgbO55M0gm6ob1SnmkZYqWL5FAoPQP2iJev6UNOBfRFbnHBe2/BxccSYv8W3chhwL/ze4C2biruAuf4AmLZF6ZsKbgncf/8O5PRlQccdm6Q4jg/+XCpafNHOmy7cJs1+521+P+4UdP/Ry3LEc97QoXh7fuPKW7DEXhyW0Oh2JEYf/sZz8L5IYyY9oJcvvyl78cpp7Wcw/pvyUnptrktM2P3bdZP045Wd2/N2ZTt27b3cuf2c1PPrVJD6vOz1vJCa7sZXYN9Ll1thji3PE4i26tDe/eZbXBAbs5N22TPRWr7Bq10mBf+NSVq+PC8tt1KHUcyvzKlSuBSJh600vvvFqBtQRpQBRS2kV5NXLkT1oc7a8y8/GA7g9WGCTDu4r8SjqDDsiKl/XzeUAwLPnww6EQEQ7rjnywQLnHbAzRt0Xz5SIX+RIXp120fO0f0iRfdtNS93xaEJNZPvxxca0P9SLQJvxEerugQCEvSLsuD/nF4TrviHMFABdgm1WckboX+eXuxfCFg0Be3gEZAWcuI6RSRE7B3+MtX5OGPDOXWWvZN+vK5B/K8HOmeMiHeF42f72rR5tO6Pjq/EvZNXRCdoon/tnDrAdwqc4b4EKp9WNCa0CR8Rml1157zX70ox8FK461Nsjt5ZdfDutv+R2W7YJnOvTBropt27XPDhx/0nbuO2ADI6OuJIe8H/p9m3WicNIoeVnd20ds9Ogh27Z/n3W5dTbnlhPrTaWRIRs5ccwGPKy2b5cNHD9kQ8cOW9fwoI8KkY977x2aY/sqZAXor1hnEApExhoTLyuzL4B+DPkRR2il38V9FeUvS4drPRuC4lEGG36YXuTeQCzPPfdckEUDD2TJpxfBQMwQk6YT2QRCfKw5iIt7T/0oR2USjj/EDhFiubJ0BLFB7uTHdKQIbKti7U9Ei9ANVUcBurHrccpHR0ZrCutkOXIQOp+f40varHB0+3l27RewXLjwY3D1gCXnnjhPuxwn5/QKCkdXBItM63j0UL7nwTuHXe4hhz/58UJn5jjPimjmhOw8y3u5jlk+64XyiPPsRL5bETw/KE/Wk37yk58EpcbUExtKzpw5E0b8UpwoQMiQjRUc8W8Vrs6t1t1jpdGd1nfyadv+0iu27QtftIFTp613/0Hbtmefje7cY73D29wa67eukUH33209TmJc97jFNrzXLYZ9u61yYK8NPXHMdjz9pI2ePGG97m/9vd6/ITX0QezWBuqLZYMFg8XD+hJET39jKlCWD1O2EIj0EOBcLob8aD+mPcmbn+Aiv3zcuE/T7sSF4CiLzXeQFeDeIUej/o+86C7ICFm1IQSiYwoTOURi1JN68YsRfBgZf6w24mG1QWxMdSJDet4ylC6cv1Tr7S1beMevg1CH4Aaw6EunYXTBDRQBdQKUQwfTDirO6SBMEXTqJlMTyuE3nyY//sju/O9/tsXXf2L7bl2xbZP3/bmlHOrE0WO7RZWlAsthsTwKJSnnbNFe9GjsZFvs6rbpHfts5vnfspFv/q4NPXsm/G4UTRq2WYd/McgBHzJbGdIIvHTLh1YvX/7MR4MzPvo9uHRv4vvTThvGSoBzHA8u72exDoGV8Zu/+ZvhQSbfrfYQ0h7UmZE5jueBrf35NheIz0id3XB/8zd/E34OB+uAKUksOCwVjdJxKEqUG0qOdSjaGaid4/uDHxsS3vVnE2XMNy4JZgDH10yCkSUs+r1c5Fei3YLrKVutkn1BZWn2orpg1bn50PUqfRBZFq76lpbqRvl+vmL9em19AAJH+V+4cCGsRfLM07fwR/HjT1swTUg70/eA2iKG/NAdWEroEkgEMiEMywirisEEeWowLUBi/JQR9wmSwXrjHjB1itVNni+99FIYmJBeGz0E3Zf4/iALVhlb/ckHktVzgy4lLnmh55AvXmcr6ktbEajhDSU4HJ2QnV7sZqKDcJM6cQOUv0av6picM6Lp5I93hnJCWVWreocbf+uX1nPh13Zk8q5tn7nvD3nJql4nJkP43agwFRkTXPidjZUKnVCc3nkj7YLfgwXy6arYzNAOmzx80gZeeMl6/OGdYuQLuYWt1ssPwhICsVFO87YlVkjtecy48rx7944/MHNObtuX3o1Zb7spPe3GOUqaES5rDF/72tfCugP+6y3nUYPao1WCQ1ljQfATOfwGHJso6NvaEYeCy6djcwHTlpAgShYoDuULyAHB/dotwwOulE87wbGhPtx/j6Y7w5F1YfqzDyW9v/pAzz3JqlLv612uSYinjxNk95X4pOM8u86c+ihOYe0hPI/+LEAsEBnTeBAQ628QAuuUDKq4hrhpq1CvqL/l+x6EwnQnegorGRIhDeXgeDYog4GDdiMKrLHxKw6k5RUAHOkhXgZ2EBD3hMEJeXLf4vLj+wK4lh99gPyZ+sRRL/QocnB/kYt1NvUF8s3XbasiENz59z/ecILjKws8qDx8G9X4KFFGXBy1i6pTZakudLb7t27alCuGQ9U5O9I1bz0lpyYvZ9E7V82tr8AzPPjhYSYxf/RAr4S6NUfSQXbh3FPfnavZ5akFGzhx0voOH7BZL8PHfWH7tVQDUB7BJxDpg+UISsMJU64zM7PhoeEl0x07RsODo4dED1gzNGrf2J9z7S5jCondflr4bpT+cQVtSp3bITgsCdbd/u3f/i0MEqQgOWoKkjzJG8uCvs/05de//vVAhkB5x/eUNBDcWbfg9rsFd8aJwFV53dpSL/R4fhpmKHB+EQZkXPq/rLd5BOoVjiTA8YcLgWugCFnKemR37UPPI2Skr7hAJBzxwyrFohOpxP1N9wFSwzGFCImQDn1FO9J2zGjQxuguWXPoMPqxrDnyJs0777wT0jP4gAiZTmS7PkSItc2UoyxqWd2C7kt81DnxOKdeyIBVRz7IxkARWfP1S8iw4QQHsKoYyXAd3+RWb0azeAqjE9LJGEHRAVjcpYMSTrmduPHUZtbz5tdu7968baf27rGDw33mDIcGyVz2Y1HuiJ3VP4OHoSBWfZhRWKTrshtexoUPPrIdBw/Z7idOWK3SHV6orbAxpRDKv3EZhCg1P5/BCPjjjy/5Az4THkymO4qsgvWAtqcPMJLl3vOlDY74d+K+PEpQX2yV4KTYWH+BjDgnPfeIPo+C13MGUHbMXGizhb5HqXaO4wKmvng2UcjPPHPGI/jgiT681A85+DVz51ySjwZx7rFEakvHOggPcTIoKPNSYOw8TpvPqerC4In2wdE+gGdf62C0CVDetJvKYjAsYoPE8OcZoD20lgWIRzikxTODPwQDoRKP+8DyCOti6CEIkzTEQ+chC/kKyBTXNX9fuJaMebk5AhEbiPNKWMZDJThuAqY7JrVuSLMbE4etFo8ORgdkNxUdgE6FBUcnUEfpBOi4H374kT8Q1+3k4cN2cI+TaHd9qkIEFx5nOQF/OmOBHEvRonROZFeuXrcL752zA64AD3t9vDLZh1gJJnohFCI5CuDeCmFKBkVLvQ4fPhRGu/n1gWbQPW4EtT1KhE0SnKc1uNYJDtCfme7Cca52I6+i9icfFGujNac4HYqd9fFlgnOrbEkP1POGzcIp+birHzIQoHjZIWApPIOCMm9lILesvAHHuD3kX1QPHSEdpiZZpqBvaequqA0oC0dc6o+DjLDIICzIkSlIkRD542h/0mBRQ3QQK2kYTIjkCGPQQH8vu/wQ7FG/x+QpXYTjfDUQj/JjGWI/XEJzQHCtabII3sYhIU4IfnVXBG4MnapVFN3A+MbGLg/8GimLRsjnmXcxuGZb/pwXMVPpsYXuvsz5ebWr7kq97voix3W3h+XcCr8s7UI97mKpYnOlsg+emZh0y82VQfiXk63YNalT2DVJOLXhoeG+ZDdOcVrFinxzTuEJ64MIi+koFC9HHJYa1xxjR5gsj0btn1eWGYI95kD5Ro4NITxP3m8eHKNxgWeX8+Cyk59ctu839iNdlpHk4CgSl76IdQZ+eUh+6s0MBANbBg1YV3lyIy9ISFOYbERhQMwUJUTEBhDtQiQtJBQ7/CBNBiTEZTDIbBGWI9Yb50wP8w4e659ffPllO3nqVJBFhIYs3M+iuuShNlE7cK76JrSONl70ro+yONc/P19czJzi6WbETtB57FeEfDogv0Yuhq7zcdbqhOza6xf++UNDZ+Ph94e6xNBXDzfHvPPw5S39dRcUx7ILCsIf/Mx5efUyw6YVv9DMJyIVu2WZm7k88mHx9VpdUT5Ffsmt7mLkFZyUXpHyK8or74TsOj6255Y77LJfsVsuR6TDLA+WD1YthMFaI4RRpEvkgI4aBMRrWxCXyEHlYHmxKYXdjlh8EBZkBWkx46OBQT5/QL6Ug4XIOhxTwJApZbKOjdy3b98KeWAJQnZa047zAVzh18ip3kJ8b+Ufx0+usXPN2gqWX2a86Z3k2lU37d3dvHnbTXU64vILwu0g/0B2ChuVr0DuOBoPFyip3pgKe8B5eJG/8ghpvflEb3H4UvwNrtfDwuNSj4cF2gtF2arrTPsu9boNcMuKGouK3aE///nPw25RHF8DwZ846JXVoPbhKMUmh96KrTY2OxEPiw+SgoxYq8xv/MiDMCwxjsSFHLH4TrmVhgU4O8OL2dlaIESKNcovM3iCJVmWwHkDVRnHQ3aRv159QH6mVFfkl9AQ5f/xl//rr8plRgh1nwfA1MGcd5Cr9tZb79jbb79j7517P3RKGh7TfXCQkUqWAfnEjc9IjBEZHYORDyMgAb9O3CgeAubE6Qzkx5w3cnUqf4FRIDuZIHoWjRmh0enjMtZTnj8GIT05TNz3wYS324iXwzQHdQlxOlgfHhTqw4PECJapHhRFpyBZ6QOsT1AHFAsKYisi3Ft3rNHg6EPafKD7m4fSbIQLA1bvY0x1oujxY2bhYYCyAOu/WFMQEOvoPLcQBjsVpSsatU0eqhcgDf2OvJmK1EeXyReLjSlGpnPV33VsVlbWPsvWMmmQET0wMDgQ4ozdG7M7XmbVdUWI436sx3liq0HWyCcZ3WVn2TGc18tA19AeWJu8gsB7dmw04tmhz1Au8RIag2Zu2pu5odXqot1xJcgLoWwUoMNAZnNOekwp8JMdn36adR6gm7+V0Kn6LuWiXl9H7jLhMUOz/qPnqRNO+cVHgetODm5Wg2TSlB9KmwEWG16wjDhXnFYRExwDXgbgvCPHkYEo72HyxQ9IjvyZTsS/FXID+XCuu8pd1tffF/J88skTTp6HnIS67NKlj+398+/bVR9ATLmu5P3WBR88VD3NYhhEeF4uqpYdmLUJGtmP4R9LP7zz6ukYwGOFIitrhLGRkNAcDXu0OgrH6anpsOMOs5y39L/2ta+Gn+Y4fPiIjzLu2pXPPjV+Fj3bsLB1oDYC6vwcG7mEBCALli3lWFCs4WhHX94RhvVLvLU60pOPzrEMmO2g/DCV5kr08+ijKG5mD5ABi5Z2wbpiBobzdmTiWSQ/ZiWw2Hg3jmk9/NjpqNcGIDaIQsQm12o5K2XScsKiVco1Gxzosf37dtmxo4ds7+6dVnViu/jBBXvPrbDrd27b5PyMzUNeIf2yC3+DKsnIjf8Q5/DIsO12S5P2wMJmEw0knQiudZTOvfdhw9cEsk6TfSWb+eUuj8QncZgyu3XrjpvOvwid6OTJU/biiy/4TdgZOmas+POvCTAVBrimY8VxY8QdLj4vgqYO6djkR2eOF3hXS79auMDDg9WK4uFBZLot/67RepC1dzZIoAzWIiiHtQIeSMpo1F5rAQqO+5e9JnA4PERaaO8EJKteE+B+8B5cJ9vsUQLtgYNoWE9h2zlTcvg1agvaDKynrXQfVD55kS/9mX7FOhJW08NGPA2H43niQwDoF9V7NfC84OJt/LxgjT7AMsRiI1+mI0Vs+bZU+7TTxlma+oYzZ6cav3ju1/y46fzsvM3NzNuNqzfs7Ltngw7kB2IPHHOd4WQ7sm00/KCsSxL2qgZyIw/l63JgLDCFzFIQ75AiP19mQR/QNsi6nj6xFYC9Vf7Lv/yfTdfgsvbucsIY9A6zy4/ZL3gzVUlHwnTev3+fHTt2tD4vHILrHWB5DQ48TmtwTBVAohppdgLIKnm1PsLUzUauwUE+jKI1RdSqYmkFkjWtwa0ESpY20BHlxXPRyNGXcQw+cLpu5EhDvHw+coRRLgMNnkkGNqR7WKBf0OfofwzkmEZEJr4byVQffVB9h+NqfZ5nn80XDHDRSzynSkfbMqimrjG5KTzOOz5fFfW4Nc8ufGbPyYojr1Zg00374HHs8hW7c/6C3Tt73qYuXbZpNxSqs9PW09drfYODYRMK2YSs3CEa9lyQ0P+gazAO7voggN2ekDX3iTp0Suc8zqBdS++dvdj0RW9uerVKh2E+uOJkwiL5WPg0DQufkAkfEj116qQ/NMuZqLM8rhYclizrBTw4raZfDcj6sC046iMLjoV3FE2nIFmTBbcStAt9lnZvpX+u9Z43ypf8lCf3BNJb76CjlXoA4tHHqT8zQ7xozpHpN74bySCrCMpbckOQtB/kxkCQ54U80UcspWDNkS9xGIwyPUn/1vOKDBzlitDIHyAFzjWjOz8uVm3B9cPs/XGbvHndbvP7bO+dt7kPLln5xq3wM1izgz22uH+PDT79tO197gXbeeKU9Y8yGPfBjhfFHQga1FXA5NSkP/9n7ey591z+bW69vRjqUIlIOqE5ggXHLkoWRRttnlruBJCFK6u797KdlK58u7srYdR1/Hj2WaCidocU6IDkQQfjYQLKtxHisGbxAJ0VKwEyBYxKNdIBq6VfLVzgoUJZb5QFB/QAUwYPqCw4FFEnywFFFhxE2mk0suA6XZ9HCdSddpA11cgRrjg6b8XJmmsWpvD13HP1V9DO/SQu1ha6gYEig1J2c9LPiyBixOk5ZGckL1nz3JOWQRrrbZBc2NlYJ0vi8iwx20SdiwalDWWv+8eh1Dh8fN3Dqn6szi9YdWLKZm/eshtnf21XXnvVpt5+wwYuXrQ9N6/ZkYn7tm920oZmJqxrgh+QvWF3kWdq2hawLPoGs9/Y86pXvKC52Xn77PJnduHC+0He06dP215vI+4Vv/bQTjtvafiNamk+igalY/EiI8R27v1zwe/M6WfCy479dJh63FZB+vjh6BT0IDwMbIT8zdBuebRxMwfiLMn/YddpK6PonjRyKP52HGkalREjf90uGuXbDMRFRmZz9MI0BNUI6pMayEKKfPeRbfNYaAyaIEjWESE2SIH8eNma/Jnag9RIx1ofaSE78svLvuIc50VnG0Ay+BOS/fNAjiW3GhecqO+5pfXpj39kN3/w/5q9/qrtOf9rO3H9kj0xds32T920PdO37ai7p8du2Klrl2303V/Z2A//yT76//4fu/irV+2zTz52Ip606bmaTXqdpuZmwjTm0SNHbO/ePdbX3ZPIbQ3I3oNzC877WyHoXNXqvHeOW/buu7+2Dy5+aH29fcFyO3mKqcBBq7glx64fkG9/rARGT4C5fllwQDeLMjjXEazoaPlMc1DHZyTHOSM4OjQPESB9M9cq8hYcDxGjqnbyWA16mHkAGeGiBNpZdAet1mt2di5M7eYtuE7VR3LEfSBZcKv3x066IqwW3grop2zsYHc1zwPPH35FU+lxOTonHF0AIfGs8hypX/AM4wTi0oeYUmetLfsFDH7iaTSQI32KfIBISyRPGUxZ4jhnSlPr6ExpIq8sWOIH+eoyLv2lKi5D9jUnpldnbcEJaGFi3O5d+tBuvPWm3fjla3bPrbaeyx/arjEntKl7tmNmygYW5qy8uGBdtap1W9V6agvWt+jn1VmrzYzbxN2bNnb7pk2NjVttbt6Lrlmlt+zk1mujO7fbnl07bLhvwLrLfCPW5azL1irituQ5py11D4T89WMDv2/l738/22RSBBqDxmGnE+to77571jvWvD355BN29OiRoBT1ma6sQ9UTOvADGnHRiJo6FIijeDquBaTVJhNuIh1f0xDryTcPHggIjoeaukNwPJT5cjjPu1YQx4XgIAURnDphnGfetQt+LofXPDKCW16I7zQ0RQnSJpNHH/Q11rhY82aHHztxGYzRj9jUwTMuxapnI+6jHPFHZ9AX6HPxAE7xSC8S5V02HM84aRgs05cYzEKOQM8Ix9iRP3IxgOOZpSx0Eg6ZiSM5/CLwWUBdDo5ViM3d/KJbV/fHbeyaE+35c/bpz1+1e794zezCeRu+8Zntmbxre2YnbdvcrJNYNfvtRsTiQxgc/brsBNdXnbOB+Rnrnp2w2vhdm/TnY2r8ns27MVEe7Lb+0WEb8mdysJ9lEAbR9fbJqtgy1O7oR/QJ+ovBAXUGaqPHETR92EUZ1uBo/6ie6mR0MOa633jjV3bhwgeB4Jh/pkPjf8NHU6TLrJkH16M0esc/vwZXhNhf543iCsjKAyeCo9PTofXQrJa+VZC3LLiY4OKHs1lZrcihds9bcKunVUflmPmsBu4No9lFH2FSH9qMh7xT7SVAcOoDyYJ79EEf5Tlg/Qurij6DAoWIeL7ps/G9zZ/nHc8PR4FzKWXKQc+wiQTC41lgpyXTjyIrpY+d8tERR7+jj2e6qjsMWOn/1IFnm12NXRXv//UPkkMm2VRkds7n9ibH7tm1ixft03ffdcvtLZt+733rc+LdOXbXds5O2fb5WRt0q63HLbauOrcF1E84dHmOXbZoZaw6d5V5t7Cm521uYtrGGUBP3jfXstbl+rS3f8Aq3ewnqLdRPR/pCdWxEYhH/dipyqZAXk+B2Glb2o3BSNx+jxW8iRoSHJWlcWB7Rt+XLn3iin0yjCb4gUw6M51jYWHeO90O27591Dv38sYO4WERnCw4HoKHSXBh4bdeDmhWVityqONSxtoIjnLCYVUEgnPrnHcdKYc2Qwl0qr0EWfEgEdyjCfolTpYZ5EDfh2h0T5npYUCsJQLiL/fJlUdB/V3549A5PGfoHRzPNlOM+oQXfRXFnLf8ihCXiyM+cmsTCnVBl0EClMN1tqWxHH7AmF2StZJbbrPTdtst1k+cJK6+9bZN/Po9K/v1Tq/zvqlJ2zs3Y6NObANugVU8D9btQs0o3l2QAlnCSQYk7/HiBhZLNlQtWc9M1eZdh43dumnjt+/Y1MR9W/Sya8jiOprfcAzpybvetvn2zEP1Q5dwTr1pA3Qlzz9toIHtYwdvp4YEB9SI5bI+LnoobI8/cOBQ6Gy8/8auJc5puKLR/+NKcPEa3EYQ3NotOMoJh1XBB2L5DBsEJwsuEVzCauC+QTD0TZ4DlCTPOZs+IDjuMX4xlvtm8T3Hn+dL05FMf/I8Uw5LG9rmT770H5450jTKrwiKj0NXQcLoNY7Ifc/J6u7dO2HLf7nHdVkPuxbNxu/ctE/fecuuvv66jbnVVvvwAxu8ed12uay7Z6ZsdH4mWG29i/PWxee1FtGblOeOcrPiHXXP6Oj2pxOit2fVyW6+6s7zcF02f++uTTi533d5Zjz/crfL29/nvMuHNEJmS2jWBugT2pVnm004bLihzugxSF36pdO6clMAgvv+9/+vpi96U+GBgT5vhKyTHTyYOc5x7PChwTQCUD5S1LFyy6/BdQqQWtEUJbJLjk4gvwanhy1fzlrLJJ3SyoKjbVsjuAwtRgtgDY4HmjaTBbcRIzlNUQK2hIvgEh4t8JzxDOAgNJ4Dnm3IiI8+oDAzHXEw9CP6crN+S344gNWGBUheWG2k5TkmL9bbGEDrWRO5rQeSDX3EQJWd4J6rD5Sn7N74mN1z62mSZ/DTK3bptV/YjZ/93Mpnz9nOzz6z3f7M7J28b7vcqhtZmLH+hVnrri241YblltUniCcRV6iDLKBW67LFWtktNCdS/1f2OL1OjoML/izOzdvw7Jz1ePnzd+7aJGTn8sz4c1rtYlNMt5VZl8syXIL0R95xL0Id/fnmWeee4fDHAufZX297bkZ41bNNJo0sOCotPxqDzsBop4838d1hjS1bMMtx48ZKFtwyWpGDuoC17aJsPFApAhZctga38RZcEcF1upyEjQOkRl9h3Q1LDSLSOUf6K+TGZ794zvPPHkc5QD/nnHx5bsmH9SHW29AzbO9ndoj+j87QwEvp14s4H/Lu6+u3YcpyK2l8Ytzr9Ild+fBju37uvI29c856L31mB+6N2QEfSO+cnbGRxVnrrc259TVvlbDetkxueeZZKTIXtE2X1UoVVtqy35V08DI405vdbELx834nvPL8gs1PuZFw55594mR3a2raqpBhb19w+hWXRkAvokcgNNqYn/Ph3uHPs8iHJDZCV24KeDu1ojVDZ4Q4pHzzoE2y9vn8Gocbo5uzkTepWd6dLLcoL/yau3rETY5G/Shh84JBCrslf/zjH9tPfvKT8AUcZk0Y4KEoeW2IX7NmjQzCQGGqXwLuue679AlKls0jfG8RCxAlzFQhaRkE5Qdb8XmnILnKlXJ43ankspfKXcGi6nJLqnJ/2nrHpmybH3dPztiO6VkbcGuzx4mnmx2PdXLznLLnz91i3TG/yYU60sEAADCxSURBVIaVEMC1QDO4BecpArkRt1aqepx5J8lZJzkvozprOxbmbd/ktO0am7ThiSnzBreJsXvhVYmPnKiuXPkstGHIst6mONqQwQjt+uabb9rrr78eHF8T0rdnNQPHLBT3K75XjxNaIjhGCbyDQf3VIYqx3IHXimZpVXZRnNg/H66wtbg85BeHFcVrF0V5PKwO1wHxEx5T0C9xzF6gOJm9gNiYveAdNL6yAbHxGT4sN6wv9WX1XylPHPnoFRiULcRGfkyVPfvss+Gbi6TnZWysDW1c2SggE+Vp7e+SWzfjfn7wwEF75eVX7OVXXrGnnj1jOw4fsNLwgM1jSDqplZzcWG+DCKll/KR6TcM/geaIHZ9oXnRCq7KBhN2Ufl4xJ0pcVzVcl7v4PTkP76lYz47tduDJJ+ylL33ZXnG3b/8+G3erl7ajDZnSpQ2xhiE4BiMMQH7wgx/YT3/60zBwwBLGKuaDzXzQ+syZM6HNN2LJaDOh/Bd/0XwNbhl09OwGNYI6tsB1oynKGIQB4utBAOp8q0GjQaY6iK9dXMqnU+DhpAwe8ngXZatytgLqAlACPNyswTEd2um6gBm/N5qipAxNUXYa8RQlI/yNKCNh40DfzltVPNf40W+YQqfv4K9+Spr4mdAzwjqdpjh5lkjHOhvWBGtt5IfS1Zo6fYdngucM10nwPKM3WHa44lYRbqG6YHv37bEjhw/bvt17bceunTbq19t3bfPyu2xydsqm3PGqVPiyCFWseZ2X6urH8N/rG/75M821HO3jZkXNmZEdkmWckxyxQwoPm3V9PNnbZzM7d1rp1Ckb+tIrtuOrX7FdbiWP7ttv/QPZu3HabUpb0b60G/eH9uK5ZroXPYKVxnQvG0w4sheCds8vr6wG3dP4vm5mIGbYZNJoDS5GFraSfIqAfxzG6AtFzQMBKdCo3AA5OhkjD40+4msc6YucwolPOh4Ebio3nYeEG12Ubq2Ocsib+WxGe4yItBWasLzc7TrlQX7Uh7qgDCA4OqP847gPOtpPrnE4+XDz9YBQv/5+5vR7QxiuOH37jr6gQQ73RFNY+X6SsHnBfUIRoigZpGrARf/k3nJNPyWO7ml8b+kH9DGeHU1F0hfIC4ULsZE3uoE+yIYS+jz5UQZfLuH5Jpx86Z+SCfBsxOW1AmSCQCFarB02lDBg3e/989DBA7bddVWFXZR9Pdaz3Z/13Tute88uWxwetPs+IBz353DGx6IuinX5H17ohqAAonDGM1b3cnh/d3mZDcve2YYgszRcsp9ysdxr05U+uz04bDNHjlrvF1+2Ybe2+r/wovU++aRVRrZbV4Vfixjw9h4J7QRoI+lY2jVbU+xbGixAcpAg7cd9IqydZ7ARobXb5g8dLnbp3XfO13r4NQFv5cby6k4RoXGl4o7GOY6GxYxmNJG3eHB0NI4g32DyXw3cLClRHqROm97IgWw4HlIsOMrgoeRhW3qwadDs8ACoWSu1oS7kB8HhIFIc/oDyhJXtQwkr2y+PrH39UfJjl48SeWmfn9efYdF8ZDjcH+4H5eNabf9mQG5kZqRMmzGlRR+QcgL5+56wOUF/wDEw0g5KziEpyEr9hfsZx9WOYKbSeE6ZYaEvoKBFbHEfIB39kLikkyWCYqYcLEbSSlG3AwaIGgxjSVKPPifVXU6yu53cBgbcsulhp2I2y8B7cPM111GLC1aembKa12Hygws2/uv3bO7CBSt7HiNjt8OXS9h0wo/l+FMavmTPaWgRrxv1y+roAfWPW/K35l7spJwv91m1b5tNjozawsknbfALL1j/maesvH+/LWAd9/RZpavHadDri5nnzzFthPy0EY5nDIKD2Bg00D6QOFO93CvIjV9twFpWm8fPYRF0TwHn8X0Sivw2A7gHHSW4PLgBdHA6E+SjzpVvNKCGprHklz/GiBtVaSE3yuAm4zrV8JQvGagTCltKuurnoRQvi34LeXjsEDd40IM5dfdALeodPQvN6o3MjPSox4LXB6KmHOqmtonbaBlZHpkrhifjb0iv3Vf8FBL14SVS/EWgnMfHdhDLxjnya/TPhgSu8/mupZyEhw/up5yeN6wunrc8IDY2kWBdoHxFUDj6A/ecvlDUHwDPGmVAbpAjegR9onwgSQZlpJUDyBbnJ3khTGQhL45gjxPBHie2oeEht9h6wzd1SUlyznga/AmBstxSm7eu2WmrTYzbws3rNu0EN/nOO1Y9f856rl+1QSfAQbfu+ESXP0gUHDJiWnJZHp6N7Pmo+jM46WXM9AxaZdcB6zty0konTlrXs2es+9QTZqPbzdyKrNb1RJe5TqtBcFl+PKu0EfeANkLHQnS0ERYwbcR0JJC1zeBAfuRB268G2k6gLOlwdBN6EDS6h58nNpzguAG6CSIGGqgIjRonbtwYq8Vv5ca1ikYygKUQPwkSLYmlkEbtFee5Mg4h8lE9RTyro1F5K5Fly4MSLgOK6rmWThvnwzl5MNJGCfJQKM+15J2wOaB7rPure8k1z7qm/yAS7jlWm4iNaw1A47R5xGWgVEWYmuJEWZMnFgskq7x4VuJ8SY88vM7AlDzyQZJMl+9z1+3y8HTx5RL6qacM04bSIEjBoJUNIbVFfsNvwUoLs1a7d9cWLn1ss+++YxNOdHMffWRD98dtdGHeuufnYGgK18PG45adu4Pcpnp77P7AsFX3HLaRU79hQ8+8YOUnTllt7x5bHOq3Kr+dg172cpGoy8kN2bKMsnrhqCdHSI560uYMBtC1spZpI9pMjvhAbVSEOG/aDOLknmJR40/7YylCmLRns7w+DwSCe/ud92u9bpKHD1XXAx5EdouzGO1VIlbMatSNhBp5o8oi/xVl1IvxblA/AkZ8jPlA5sNosJ5q6W/WMnzLIAsL24WDX70efqFOBprXKYuzdjTLe/2IBxyqT8KjD/VPDV5ZksCKgIRQuEyLsYkEZRgPbtrpD5QhB9GhwCE6rBIICaJCiTOVT77IgRIHmo4kPsofi0NKmWlOEWN4tpCjLhd/Y6myp4Nnmn/8dne2k7Lk9V28dt3mzp23yXfftoUPP7C+G1et9/4965mbsfKCx+XFNXJz67DG5pDusk0P9NnC7l1WOf6k9Z56zrqfPGOVg8fcattRt9q8TLfccJQedEQNPbHcboLaDxKi7mojdoUyKNDsiTbxaFp3tXYXaBusP/LiXUUGCqQlH+4ryw7kvdmsuEBwb71zLhCcflGgWLyskbPQtVUgdKD6sZONoHyL8lRYp9Bcbq9XKC+jLb8KLcYZ4K2XLMyPng1fMvAe7y7Lk79hhxXH8Bc/IoaTh4ZOtxmg3TZTx0/oHCA2FCvKj80gTJNBcihViAfFB5GIcNaKuF8ybQlZQaRYZCh0piopj41sWBOAMOSRNSOLQ5sv1C/b65/IkdFceDSxFmfcWhufsCprhWffspn337XapfPWfeOKDXlb9PAxZR+9Vis9NoHVNjpslRNHbeSZ09b71DNWPnzSbPteq/UP2WIZyzYrJfub6ZOM3B6UMS837cQ9oU0YANBGkB315z6w/taqxRW3OelxrPmpzSFQ2pbXO3jBX8s2mwUrCI5NB1S3uMrZTc1CmzfK1oW3Dy26uGA1H7XVfMSDV/idPFyPP+DcfJqPeAs4pjAI9zAf2YV4IaesrYs6dELCZgEKEEUH2WAhsbbFqD62FlCknVR6UuAoW63PiVgByptpOabTeCGacEgPefDHopQFA1ontgfBU8qfEu8BLLibmbXq7es2/8l5u3/2DZt+713ruXrF+scmrLTgwX39NrN3l3WfPmnbnn/G+o4esa5de82Gdpt1D7oq6EEgltjqqNMoZTTQBkXyq4040kYQEm2kqV1IDouXeyOiz98j5QEUxjWWHPebPHmRnHv+3HPPhRf9ZQ1vFtQJjinKrkRw6wYdsWqLM9M2fuWa3bp02Ra8MzC/P7zbH7rDB6wyMuS9xUdyU9M2ce2GTVzn/cCybT900Ab27vFOXu/goa1BIrmEzQsUHiN4fhMOgsNC4mPsKE9tIpHrFFC8OJ2jwCFZLBV2a6PE8ceawKpjUxMKHWJDuaPQUdjE6ZhcdfVYqzopOPEuTt2z2Wuf2NTF83bnrbds4oOLVptbtMruvbbrCy/Ythfdatu/x7qxbLv7rdSFNeUDXNcFAS5WPculv5kuCEFL9Qer1YF7hIUN0bN2htVFe2HNycJmIKLNIgJlkJaBBKRG25EPhMZL+BAmljrTwpAbL/2rbTcLILjyn//F/2jhRe/l5k5oBH/wqgs2Mz5u459dsdkbt612775N3robBg+D27dZlZc7F6s2e2fMbp2/aPcuOgl6nP5tI9a7bZh5THosvSvLMiFhEwMFiJJjTYZpMAiObxtCJijejVJ2MWkiA+WgiCFbFC+yQHwocX7ZAMLN7/aLSYJzuTUjY55smcEto5oPVqfd89rMnN0u99r9HXts9tBxGzz9nA2dOGnl0V1mPYOuGyC3iqevt5VUbV0USUT2WY0ppj05VWeIjbZhEIAFxs5WSAtiyltf+AOmnnlPkKlJ4kF2WMa0NfeZL9jwmogswTiPzxs0UyC4CgTnlkXciMVYPcZWBV1uMUxRVq13sWQjpR4bsrJV5hasMthvfTtHrTbgFpq3dZjKuHnXesambaCrYgM7d1hlOwRXDt/C817iudXdJuowCQkxULQQDMqNaT9IBqUJuTDix6HwiCN0QgHGZESZWI+8QI6VwjQkJIt1gmLHD6UMUOIQnWSIZYvlWruMNZdn3sbG79tnV2/YJzdv2VRfvw2efMqGnn7G5nfvs7u1it2dnLO5asnKPfx6RyX7IoqnzvaThD9+gUckU93lUSSr2kZhEBtthAXHvYHwIX5eJdCUI3FIlx8AQHBYxgxkaFsGDcQlHdPBfB2FgY3Srb3tNgBeBSe4vwwWXHjD3v2ai7d6jK0Kf+TCt+X4aGuPVax7et7s7lhYC+gaHrTu3aNWGuoPP1zYUyo7CXrjT89Z2Qmue8eodW8bMtcIywQXOkrdpSZP2IRAmUEYKD2muVByWAhYBxAPpBcrPpTmepUgeeBQ1Ky7abqM8lC0hw8fDhYFClzKmOlLiE7ySi7lJUiuduVjViYj9ym7fuO6XXaZxsbHwy8T7D1w0A4eO2Z7Xaahke0+/q2G352741bU/OyMP/Jd1lvptorLxCa1Wlg44plfbif+NpNI8SBr1UltRNtgYXMkHHJjAMDUrXadQl7cN6w0oKlG8oXICMNik5UHWeLHWivTv1pnbbfdNhwQ3J/9uVtwFSc4lw0Bm4tI6CarxCaBdylvmpqVq4tWGp+yxSs3rXbbrTQfJfUd2BcstEW4q8usG0ut6qO9sQmbm1+wntFt1r19xEpOcJCc34hlR3unJk/YhEBfoNhwKDl9qUi7KiE6lKw2M+TRjkJEYaOgIRJ2B/IVEm2Dp1yIDWULyVEeDguFtUAIDcsSeWIlHltzQOerySUCQR7qOutEhdL/8OOP7Pat294eJduze1eQadfuPTY8OGR9Pd3W39tjw056Q/291rW4YJMuy4RbT7MuW7c/990eTlu6APWSMqwmT74OyEQb8c4aDgKD7GkfiJ9NN5CV2ogjdSEe7cOggDYT0TFIp52Z2iQ/Bha0K0TJGp4s9U2HjOAyC665fIxylkc6CSsRWsY7fAlym5iy+Yuf2MTFj23RCSxMizh5LfpIbcY7UI0pzO5eq81VbebOmE26X8XDe/lqAbspvWOtILTU7AmbHFJuEAaKD6UJAaBkIRUUJkqXeEGBO0QSRYpRYbGD2LDCsMYgNwgFJawPNTN9RtkoW8ogX8JR3hAg56THEmFKDuJFXpzKbKSkCYvBNYRAvcjr+vVrQfHfH79v29ySRabwdRS3kLq762tTno6pyN7uirdPb5AVo4JfBbh7747NOMmRJ3LiqEO+XKFIHoF60UZYbayV0R7aaIPFRXuQv+4F4egoCBBCYyBAG9FW5EVcwomHNUedicsnv/K/JbfZQLOUfvXm2Vpvb5eVmaKs34gHQQPiCC2OsVWx3DL+gHiHsBu3bP7XH9jUR5fNZuasZ2TIuvbtsPntg3bf5qx3+zbbsW+v2eyCTV+9adNOiP17d7tzP0a5PtKrm9Mh17BnODV5wiMCKX8UpbaTYxVAcChGlC1WFooT6BhDeQB0EhYEShfLAcVLGAShVwJQ2kF3hWdmGbomP5GRpttQ1kyrIo8sGuKLHGNIlphIZNHgqGu3E9fo6I5g0YgsuiCqnFyqG+0x7TJBcMiEbIBpQ6YRqZfIt5FM5CV/2oi2htxob8gJ8oHUaG9IHpIqgmQiDWnJg7yQkbalnagTYKBBmeSHX9H9awVqy7hNyTdfz/Ug7KLEgsumKJsRnEBo5wR4nEDLhRe9F73T+U3v7u+z7m0jVtm707p2DFutt2xVJ8Eevto/PMhw18reeXqdACsjw1byUZ25lee9mTu93MzhmNo84dEAOkSWAQoWRcgRQkBxokSJg/ImTqPRv5Qu5MHWdDY6kB5iY5oNIoGYIJJYMeoo6FqWCPKQhywdyUQ+kiefhyB5sEzZsKFNGxBIsNqcmMg/kFs9HzlB14T3eBvwKx4DA5mFCblAdkwVUv+4ffL5AOJAQrRt+C27S5dCfUgHcbPRBnKivuSfTy9IHtJBaOyOhLzIWxYvIB/yg4Rpy2ZttRqUjqPqIaw1zwfg6rj0hltwPcmCWzNWtIw/AD6UCrskvecHsgsvb3eXbH522uYnJ6x3sN/K3oG8N2Wf8IEU+U4aIyE6c9guXG/n0NT18+wiIeGRgawMlBeKm40OUpZYKBCCSEpAB2ElaHcfVhvWBAoaiw2H8kUZE1cEIOSVo66RQw65ZIEhF+cobwgBufTOnNJJJpQ9deCIxYTsqgMkLhKRWw2xTNroQd4QKG0mC5MjAwLqqvoSThoIjXrQVpCOLDZISOTfDhEhC6CNyJ/2p85YztSRgYWsVOortJO/ymBwQBm0PwMH5KX9yTt/X9eCsF8nJjisuGIgEI7w1iqylaCWCS3KSGR+wQnLfcKXSbK2q87PWc1vKL8xFciNFLQ3CZmGDNciNwG/elhCwiMKFBoEgZJEYaKQmTJEYUJYsnxQkihWlDVxUPQQCWHEkaIX+QDSNFOuRWFSsihYykCBQy4iFawxSIty8NN0q6ZIUb6EQ4iQocinVSUfQ8pebUS7QHIqS6RCO0Fgiks85GYtknSSh3jIgywxAbUDyUTdaX8sS90P6sn9oByIVAMN3GptwL0F6gvkieVJPfBj9+vTTz8dSHqtsscIBPerN369Yg2uGJmSzhRt+zdxqyB8YJnO4ZZbzZuJr5MH4OcO+grLa8GzHhYO9XOOWd+qw6+bdJiEhEcFPBcoOClMCAUlzggehYmlAllAJChtSAWyQWkTjpPiBvljIzQKRx45kQpToShxlDZKFiuIMFlWKF2RDVYG8sTTkeuF5MF61VoYZaP8RfKUK6sNgmZKEX8sH8gQmYT1yIQcIiSO3A8sLdqB8vHLW+GUJ1cE1Yt2ZnoXy5z7zzWyf+ELX7AzZ84svb6wXhQQHN5FwqGg/bCOBtsK8O65xE/LZ8vI7LN6WwbyUhy1a759U3snPF6Q4kTZoSzZ6YcSxx/FiNWAcoNEWGvDShCJxGhVeTeLpzI5yqpA2WJVcE4YslI2Srdoeq5T5BYDeSAvWY6QGW1EOTjaDhJGFtqIgYCsu07JggwxaAecpnYZhDAYgHh5HQKi01qfEMtCXWhbXsjXOiGOdoboSA/BYT3LKlwvCjaZ4F2UMX51//WX+9jCWzD8Wz7zdo0c/wgLn/MJja24mprMu4SExwsoLkgBJcaoHQUJgaG0UXyM6CE1vm2I0oun/3RsR/k1i0uYFDl5ywpBiTNthiJHAUMeKF6sSZR4LFOz/NcK5QlZ0E4AOSBeLB/IGOsJmURukqdTyNdN17QR9ceyhbAYpHDvID/81Ta4GBAcgxk+0Mx9ZpDA/ceiJ0+9oE/7go7UxW9tiwSXQ+fa8bGEmqe4mbyd6/+yGNlZQsJWAgoMJYhyhuSYnuQI4aD0CEe5o/w0oidMiq9VBbhaPIVTJpYEJMLUKWUyTYkiFpAXpYxMQqtytALqB1GQJySm6TuIAYLQln3aTG0jEpTl1El58oDIaCNITVOn3DfKxppj+hE/5BHRCciFo36xZQpRMj3Ne3WQNmkVf92A4P77n32/hRe9HSst1oSEhIR1A0WGgoQ4UJYocabnUIAoTSlM4hAXEojdWiAi4UieEAlTbmyzR3ljRfASM99ZZBoQZY0FhTwoZIBM61XCcT2Qh7oyRcs5ViTWGi9s0x7IceLEiSAXpEs8yAaZCKd9kDNuo7UgTqdz5NHaGWTLvZFVSxtBusiDzIRxJC0ykRanwYx2nEJuvBwP+AUKLDj8JX8nQDblP3OCSxZcQkLC5wWUGgoQ0oBcWO/iHAWuaUuUJAqyiOiaEU0cFitOzrFIIAi+jKKpP6ZHIRFtbtF7YSJeLBdZL1hQOFkqzeRoBNUBkCeWJBbkxx9/HI7IwNQdXyKBSGgf/HAQGmSCPKSjfdRGebQim+SQTKRBJuSgjSA42gCSgtyYQoZskUWyEZ9BAkQH6el+cT9xyEwcZGbQwFrrE088EY60peRcS1s+AK9O6Ze/ereFTSaO5b7RMEpCQkLCegCRoVxRpChK1sIgORQeShBLRhtP8kqwSCnKj3wBZETeKFdts4ccUNDxdxpFEpIHpUwaZEIeiAXSIw1kiPVB3iK7ViAiieur3YUQAXXFQSKQQz5v0mgQIEJBfoiH+tBG5E0btCMXdcYxsMBio524ZuBB2+OQiTZS/jjaiHbBOsOJdKkD05AQIDIyDcxaHOEQJW1IfrqncutF2EWZCC4hIWGzQAofBYdShVRQ4ChZlCdKkLUxLBqUYqwIixSjrkVUWG1YD9pAAiAF8uMopY2LwTXKGVLR2hhy4Q+ZoMAhANKLjPKyxFBeAJkgWpEt+ZAfhA5xgqK6UTb1Ig1WFtOZtBFpIBWIA+tKaRvJpPqSF0AeyJY8OVIf5CFPSIrronzwIx/kgXBJDwFTT9bXdM+Y5iWctqLNuaeAa8lalH+7CAT3i1++kwguISFhUwIiQOGiECEmFC7XkIAsLiwplGOMWElKeZMW6wFyIwxLR9NsKFkIACeFD4inc/kjE0oc5U1e5Et6FDikhDxYYCJLoHwkE0ofMiIP6sWRPCAR8pBMykPp8lD+Im4cbQWJMLUqmciLPOJ8dC5ik0xYbRA4eUNM+jqKrNQYjeQiL2RgEEF+1I824Z5RR+TJW6V5+daL8JoAm0zSGlxCQsJmBAoPJYhCxHpAyaJ4UZwoTXbkQQIiA4E0EJEsJYiI6T+UP4oVYsMqwfqCkKRcpWCbnZM3ypp0WEgcZZUgF/Ihi9JwDYnIIQ9xsUohEtKQD5stkIk6kj/lxGUXQeE4pgMhRll9rC9SDmVS57zlxZQiIJxNJLQRa22y2mgjDSIkj6B84vwE6os/aZBJxEgZEDAWMO1DmEiO+EV5rQvO/cmCS0hI2LRAWcqhiCEsSA0lDDmgxCEHLBXIAbIBKEtIBxLUVBt5YInEFlKsuElDnGZQeBxPlk9cDhYmlk+8FhavUREXKxDlT1wsJcUFyBITymogfznkgTRl0WHdkS+WE6TFQEF1pT2JA7GRhvaA0JCHNorXI4vkaURKsTzcN+4Z9wJS50helAGBclS9O4k0RZmQkPBIAEWpIw4lDrlpnQclikKGvFDghEM2hHOO0kbBQ3CQYGw1NFLSRYjlAKSlbK4hEq0XQhZYJ5AcDpKQlYRVBZFo6g+C5hq3FpliqH1wEDxlIhNtBMEybcmmGI6EQ260EXWAYGkjCBdiQwa101qhdtK0LtYb9wWZaCPKoUyVS5t1CgUE16QiIrhEbgkJCZ8zUJwoZUgF5S3iABAFpIaTAoVMUOrxNN16SCSGriEQHDIhD5tGIBFkwGHFIDMkjNPrB5DfWgm3GTQ9i2MwgDwQC23AIAA5CYNgRTKcy2IDnZKFeiMPR8qMLV6uIVemaDl2qh3CGtyf/ve/+Kuu+ovejbPjBq68qQkJCQmfJ1CAKGOmt3CQBIoTRY5Chzx4gZit6Fq764TyzBMcEOECraFpIwqbLHCQHyTCe21My4ncOiFTHpJRdVb70C765BcDAqxefUuSOJAQWK/l1gjkCcHqntFGkC5kiyx5gl0PaIIVk6rNKYzQ5jESEhISHiZQxChK7arkyxr6piFKEwsB0kPRExcSwhWRVLuICSDOD6sNIoFAOEc+lDfAj6k50EiRk1c7Lg/5Ix+Oc8gVCxICg1hpLyxIwpjGRE4A+XSOYFbKJ3lkxVEu7YRMtFE8PRm37XpQeu0Xb6+YoizOFiFxhHae1RMSEhLWAilRKVIUuTZYME3IOWTHuhNWCtaVFK2UaLvKVGXF5XJEUVMem18oGyUOmTDtxhQl5IZcEAgbYpBH62+Qr/IC7cikuEXEzZoXZeIgesB6JISLfMjEkXbBqsTCpL1Au+0ixDLonLyQj/sDsdFGWh9FFu6P1k87ZT2GNbhEcAkJCY8yUKK4WNGjSFHoKFIcU2EoUHZbYrlAKhDNepQpZVIWxEZ5kAhTf5oeZd0PwkCBUxZWElOWKHaIEIsFmUQqkqddSH5NLwKIA4tN9Uc+bbSBcJEPPwgOeThSHwgXuZFLg4G1QMQG1EbIQxvFG0yQSV9G4VrWY+CiNZYtBIL7+etvJYJLSEh4rCDykVJlZyPEA7FhqWAxoFwhGSnSVhRqrLg5h7TIH5Igf/wgEOWP0hZpEQbxkAYlry+XQDbIhEUH+ebRSC7yi8NE7Jqahdiw4CAqZIK0tMaFIy3yMBBAdsgXogPEpQ6ko80aQe1RJCPy4CiDvHUPaHPahjrHxBbnwXlRnu0gEVxCQsJjCSlejlgPsuZQslzLmhPJCUVKVXkJylPb/iErEYk+aQWRFFljygsSgkyQifQAy0kvn8uSEfJy5WUinDzJC7LVuiN5QZysuUFUyifoenfEwYnokEfTq9SBtMikact8uY1APMgbMkce8uWcNoI4aSPOG1nQRX7tIhFcQkLCYw+sCBQuBIAFgXUDOeHP9BjEgjJno4MUfwziAfzJR+tastpIhzUCWeKwyPJ5xMTAOQ6SjKctyRciIS8cMkmeRvlJJsgJi5B8yJN8IBLqBpHkLSQhlgt5aCPyIh9NW0KS+qJJTLyxDAJtpXqRHsKlrYlDPsiD1UYbNZuOLZK1XSSCS0hIeOyBIpYyRgGjxCEovU7AFBmKV8pXRCcorbb9yyJBkWtqUcSGNYjiVhoQn+chQtB6GRYm1hPEC0ExZRlP4Uku8lRdIGzqgmzIjsUl0tYGlhh5efLXyAPZQnQQFG1FvuSJ5YtMXIv4Y9BGEJssW+TDWsNaFrHF9WiE1cJbAQRX/pM//fMWfvCUBmh8kxISEhI2M2KFCVlAGlg2AJLDoYwhA21AiRU/FgnvsvHFfhS4iIR37CA30mg9j3RyMfLXQMqe/JCHfJCDMrB8SBMTnPKAhAjXO20QJHLwThtyQSbx+qJQJIMQh5EWeSAkwKYQykM2xYunFyUP5K+PK1MnSJo2grDjKdJmcnQKFFH699feTBZcQkLClgCKVcoVC0RThJpKg0iwUrBWUPDE0fQflgxKWtORrGsxFZgnkXaBPMoD6w1yoyxIl00jlIE8WkfDD5mx9pAfEkIe5JJ1lUerhKJ4cRuJcHHIhIzIEm+KEbkhF3WRPByRLz9gAM3abb1tCsIUZSK4hISErYRY0XKO9YGFwlQfU2soa6wmrCDIBILjyDVTbShuiAYLBsXdSUgepvqYJmTaErKDaCAKHGHISPlM/2ElIRsyydKLkSeWVpBvI+pPuZAYZA/pyQrWIADig9CQCQJEVizBIplWQyK4hISEhA4ABS5rTpYIDqWNIseCYpqNqT+tiaEr10IcrQBZJBPEi6XGVCRkB8kgAySCBYVlxzXkBjpBbjHi9MjDVCjWLrLgIGHW+piChPhxmh6Nia1dwmo3fhEguPbfKkxISEh4jIAyxRqCuNjpd+TIETt27FhQ1vih5CE6LKtY8XIeuyLk48jlIT/K4hxyiEkCC4pzLCbiQHSSB9kFwmK3FpCnXLzOBrjGkTdHyB+y1Tc/ITraTHKv1XUKpVd//kay4BISErY8RApYKhAK1hPTg7JUmHZDkbNGxzpXXhE3IpQiha24HKXUVb7OWc/id9qwJpEH8sA60loYBAgJM0WpaVOhqMxW0CidNpFodyTWrsiNsiFe5MmnX6scnUCYolxJcO5RSGC6cZ+fsAkJCQkPAyIaiA7LTUSHYscfha6pQawVWVCE5bGagldZOOJSJlOjlAexUbZeuKZcSARyIZypS707B9FAvHqfD7RDLipf54LW3iBU5IFckUFTkpA+5akNNhPaILiEhISErYOYeLTpA4uKLfkcIRIsJ70XxpQciEmlFYKJy2F9i7whLza8QBoQKeSmTSRKE5MO8SEiNnggD44NHpQv1wzkJxBXFqzIFgsWeYhHGdrRSRkxsW02kksEl5CQkNAEIh8cSh+FH5OKtvBjQWl9DKym7BWPI1Yi03/6EglEBpGwHogj33hNS2llYWJVybqCjEnDhhjywNpCltVILgbkSV446gnxUk8sNk2Tki9QvpJtMyEQ3M/+/VeJ4BISEhIaAEIRqciaw3piyhLLBsWONQfRYdXE63ONiA5yIi8IChJhbYvpSMgNsiQviI1rkYdkiIkEP/JhqhJZyAsS1rQllla8PhanBcoTkA8yyDLkSF2wCLXOhjwx2YLNZrkJieASEhISWkBMchyx3jSlCLFggeGP5cQuTNbmBJFBTCaQJKTGVz8gFciDqUisL5FkO8QBYfIemrbxa31Ou0I5iuSKgGzUgU0tpAdMvUK0kBv1iQktzqdRnp83EsElJCQktAhIICYpzrF6sJggKggLP8hEZCVrDlIgDBKCeFjXIj7XTPnFVhvx5VqFZIPo4k0ossKQR2t5MdFxhBSx2HDIhoXGVCTyEF/ri+RPfOqi+rQj48NGIriEhISENoBSzwM/iCGetoQAIDi+fMKGlNji07oWZKbpP6w2iETWkVyrkFwcIV3Kw0pEFmTCSqQM7bZkCpN4yAI5Q9IQIcTGtCbWG3FEZHJ52dqR8WEjI7hXf1nrSQSXkJCQsCZgNYlgIBIsIawnSAxywxEOCRKOBQXJYFFBJNqwIUAqoBF54K/y8oj9OcdChHixFiEz/JAHywwCxI8jxMb0KqSsF7UlB2nifIvk2miiU/ntlJMILiEhIaEBWlWqEByAEDjXJhTIA+uJ3Yia+mPajy9+aCs/fuQf58H1egmD9MhPvpCcpi2x1iBgwikfKxILUhtSmq39xSSXx3rlbYZ8ua2WBcF5TRKhJSQkJMRAqYogRD6NgMKV0uWIBQSB8dWTo0ePhh8LFXngIBXIhR2JeUKTMlf5uga6Rp58WB4KI19ZiHE6ykXG48ePh00okFwzcvu8IHl1H1SvVuEW3K/cgislCy4hIeFzA4pLSr4IsWJrFG+1PNoBebFGhRNJrKb888pXeTAtyVqYdkwyHcj0pHYnApWDy5Me4Fz5Cdr8oTCdx4AU9LI279lRvl5Sx2rTJpJ2iC2uZ7Oy14o4f8B6IvXGH1n16sRqSFOUCQkJDx15BZa/Rtnih5MiU5y8YovDW4kD8uFxOQLEgGLFIY+sraI85BcjLpO84hey2WhCOASHFcU6HMBP5KYj0LlkAlxrN6TKV1kAf0gBYoXceAWAfCiLciFZyBW/dhGXgYuBDDj558OFRvHwi4/4M8WKA9Q5vheN8geB4H766uu1np6yE1xd4ERwCQkJGwgUZF454YdDcUnposzjeArjGn/iB51VD4/zjf11Tnh8DeQHVC7AX4pVVgPh5I+Lkb+WjDjFlwWitTCIDtJhWpCNHThtOInrqfxUttqEa009cq0j8kKmrPlRDgQH+KoJpEYZlCmrbTXrjTxjJ6h+kpEwtT/An3zjOEI+P8UFyoOj0mqgAURwQPnm8xfqBPdaRnBlz6z+LyEhIWGjgPJCYUmxcY2DBEQmioOfFBhhOKAwKWniKB9BYVKepImVKtC1CAxIwUIUEEasVAlTGkA+ii//fLnyV1xtQtErBZCeNntAREwhSh7S4MiPtNRZeeFHuSJPZGXnJsSGQ37W+vRrA9SDeKRV3vjhdB1DecdlCEpHGt0LnPJQGTjlL5BPPk+1V+yvPJQ3UJ7xOS4vO4Dgyv/tT/70r8oVj+QREsElJCRsNGKFhUJDmcWEhbKSogNSiFKGnKPMCZdii+PIcQ3i/HCKx1GOOPm8FB8QJn/FjfPgHMhP1wrHxUChM0UIsUEA1AeLTlOJEBMgH5zKkzzEURhth8UGWWIZQm7kh8XGBhet9ak+kh8oDxGFgB8yK43ixfWI2wAZOCpv+eNisheK0sX+8sPpWtA1cQF5K/0KeHAiuISEhIcKFCaKTQqK61hhSckJUphxuM5jJShImSqe0ktRx8qQa+JLCStM8SWXjoQTV3niANekx0mW+Fp+xNM5xMbL1FhsxMOyg+DYCEIcylGZhKu8uCzaUcSGRYgFBzmygQTLjSlJWZ+Ac8oVyEv56VzlSG7OCSed2gkHFA8QprYBklX+edC+OKA84/wkF375e6d8lU7+K+C3pvxf/9uf/FWYniwIT0hISOg0pNhQWLED+aOUGMjHw8WKDcVIXClZypCCltJUujg9aVDenCs/wpQehz9+cVyFKW9BeRMXx7niKAxIVo6si2FlQUAx0SED4SpfR/KDzNhAok9ykRe7M/VaAkSHH1CZpCc/kPfjCPDHxfeJfGKCA5KFOAB/wuUvF6cBcbvhiC8HVKb8iCNLDyhMZcnhH4PL5VITEhISHiJixYWCQgmipDT9CFBiKH2OxJOTkgOc4wfwk0LlPFbSUoDxOYgVZTPk43CuvCQTUNlcc1T+XCMLdQYQBnE5Qm6QEl8T4d05Np1AcFeuXAkkxhQkZZBea3iEXb58OezOJC3v3ZFe35uUXHJA8utYBMIUrjoB+ePiNlb+nKs+qrNAPnFeQhwnHx/gp7T5POLzRij/l/+aLLiEhISHBxSTFL2UFIoRoCgJk7KE3DjHH+KLlVysEAnHX8qVc+JTRhwPxHkQV0QjfylV0ooc8VM+khV/hZOPHOE6Kp3k5wgIUzjpcfJnXQ6S4shGET6zBaGpbZiO5Kv/TE3SPkxH6vffKJd4KgdI7rgMzuM4kjeWRfnE8QhDhjhMbaA64fAXkcd5A45xWhC3U9ymsZ/ixJBf3h9QXLLgEhISHipQRkWjfJ1LYeXDSaNrFGaemIry07XO42vS6loKV07KGMRlASngfB6SQyBMLlbycbrYxfGYXmRzCNONbBZhp+XFixft7Nmz4VfFseIIl9XGWh55qHzOyUvWL9dAZKF48VF1JzyuI+AagqZcjho8EAd5ccRROOdAYcoff455EK44KpNrAT/yoS44QNw4ThGyNbi0ySQhIeEhQAopVkxSgigu+UMoKGf8BZQc4TjCRXhSpsSXH5C/FDzHOD+VyZE8pYBVhhxxyBsoHJBO5aPspXDz5QL5E4d0yEm4QDyVp3yIx9oc049MWao9sO4gNcgPqw1/pRfIO25D8lysriSW5fgZeQCVrTDli7/qBfCnDDmgOEpPHN0P5aEwpZGVRxy1TxwHuThXHLUbfsSFr7gmDLcCnqz045/+e62n14XkSybhH0gkl5CQ0HlIWXFEoUlpSsFKQaLIpByB4kuJotQI5xqLIVZ+nBNfFgaIlV/sh5MSlXJVGNe4WKlKXqUFxKEs+eHIkzTKW2lx+BEnlpU8FM55Ph+AFUdd8WPNDvJT3jiRLFD7qQzyJVz5A/x1rFQgyXC5AoSRt6wyysbFeQO1gdqcMOIQrjxwguokmRSm/AHpOCdvwnWt/FQP8pJ/jPCi90qCc4/634SEhISNghRerLxwUlpSdFJmOKA0+MfKT3Hl4vgxuMYRR1D8OA1+eVlWg9Irb475vBuBcNUlBulVt0ZQ/kqPIw0Eo3DCYvKMy1JclcERR7jORUQiNR0VT2Uo3zgOUBwhbs+Y4OI0gsLy/jEIeyAdBPejH79a6+lLBJeQkPDwkVd8QIoqVlhF8WIUpRHidEV5kKZZ3kJR3o3QLG5RWa2UHyPOv1Fa1QvSgaBYH6uHZH/9QBxIJW+RAeUrv7gc/PJxi+QoSis0ynetyKeF4LrwzEgNeIPUzxISEhI2GkH/1B2jelkruDziuHknNFOk+TRyRWExivyaoVncIvmAymjHCUVhclmbMoXHlCXTkMvrfvLPjpDbyraP88HF9wYXI/aPndBqmBD75Z2HBpe/LkLpJz97rdbT7YK7BRc86i4hISFhM6EROeSRKb31g/I6ldfnjcVF2g5rbvk8Q0YSvCrWVeeAxwXBgqOerXWbhISEhM8PGrGv5jqFTub1eSNrm8xCrlSyKcnsyCaW5mt8jzJKP/7Jz2vdPVQ8qyB/H8+qJiQkJGxxRAZN0POPsbLPLLiEhISEhK0BJzSMtWCwPcbkJtQJbgvUNCEhISFhywBLtatWc3LjrO5Yxw1rubnr2CUkJCQkPCJAZ7fqhPz1ZkIsbzNnZv8/M9P5cUl6+2YAAAAASUVORK5CYII=)"
      ],
      "metadata": {
        "id": "29o0Y1B90xJU"
      }
    },
    {
      "cell_type": "markdown",
      "source": [
        "1. Crie uma matriz identidade com dimensão 5x5.\n",
        "1. crie uma matriz 3x3 com todos os elementos iguais a 1.\n",
        "1. crie uma matriz 2x3 com elementos de valores aleatórios entre 0 e 20.\n",
        "1. crie o vator: [9, 8, 7, 6, 5, 4, 3, 2, 1]."
      ],
      "metadata": {
        "id": "ij-uNlSQ3hJ-"
      }
    },
    {
      "cell_type": "markdown",
      "source": [
        "### Atividade 1"
      ],
      "metadata": {
        "id": "2KFTYP8ZzGV8"
      }
    },
    {
      "cell_type": "code",
      "source": [
        "matriz_identidade = np.eye(3)\n",
        "print(matriz_identidade)"
      ],
      "metadata": {
        "colab": {
          "base_uri": "https://localhost:8080/"
        },
        "id": "RINkTTQpzKfs",
        "outputId": "b2b77f85-6327-491c-d68d-d14b5ecc2a59"
      },
      "execution_count": null,
      "outputs": [
        {
          "output_type": "stream",
          "name": "stdout",
          "text": [
            "[[1. 0. 0.]\n",
            " [0. 1. 0.]\n",
            " [0. 0. 1.]]\n"
          ]
        }
      ]
    },
    {
      "cell_type": "markdown",
      "source": [
        "### Atividade 2"
      ],
      "metadata": {
        "id": "8xAwgTWN0HNt"
      }
    },
    {
      "cell_type": "code",
      "source": [
        "matriz_uns = np.ones((3, 3))\n",
        "print(matriz_uns)"
      ],
      "metadata": {
        "colab": {
          "base_uri": "https://localhost:8080/"
        },
        "id": "PuWJhqJk0QF0",
        "outputId": "789fc7a5-bffe-47a4-ca7f-b9c8f50052af"
      },
      "execution_count": null,
      "outputs": [
        {
          "output_type": "stream",
          "name": "stdout",
          "text": [
            "[[1. 1. 1.]\n",
            " [1. 1. 1.]\n",
            " [1. 1. 1.]]\n"
          ]
        }
      ]
    },
    {
      "cell_type": "markdown",
      "source": [
        "### Atividade 3"
      ],
      "metadata": {
        "id": "NyvJYIh30itY"
      }
    },
    {
      "cell_type": "code",
      "source": [
        "matriz = np.random.randint(0, 21, size=(2, 3))\n",
        "print(matriz)"
      ],
      "metadata": {
        "colab": {
          "base_uri": "https://localhost:8080/"
        },
        "id": "NY9YcmC70mnd",
        "outputId": "0f480df5-ddc6-4e63-df4a-395eee5eafed"
      },
      "execution_count": null,
      "outputs": [
        {
          "output_type": "stream",
          "name": "stdout",
          "text": [
            "[[ 4 15  9]\n",
            " [15 10 18]]\n"
          ]
        }
      ]
    },
    {
      "cell_type": "markdown",
      "source": [
        "### Atividade 4"
      ],
      "metadata": {
        "id": "AGjcrfDk2SS8"
      }
    },
    {
      "cell_type": "code",
      "source": [
        "vetor_descrescente = np.arange(9, 0, -1)\n",
        "print(vetor_descrescente)"
      ],
      "metadata": {
        "colab": {
          "base_uri": "https://localhost:8080/"
        },
        "id": "D8Kfs1bL2kYY",
        "outputId": "422913ca-ccc2-497a-be96-7a984b5c0c5b"
      },
      "execution_count": null,
      "outputs": [
        {
          "output_type": "stream",
          "name": "stdout",
          "text": [
            "[9 8 7 6 5 4 3 2 1]\n"
          ]
        }
      ]
    },
    {
      "cell_type": "markdown",
      "source": [
        "### Indexação e cortes (slices) de Arays"
      ],
      "metadata": {
        "id": "KIvhBNnBsqg_"
      }
    },
    {
      "cell_type": "markdown",
      "source": [
        "Programa que cria uma array de 10 até 20, exibe os elementos da array e mostra suas respectivas posições (indíce). O usuario ainda pode escolher qual elemento exibe com base ao indíce digitado."
      ],
      "metadata": {
        "id": "SDE5AKpQs-YT"
      }
    },
    {
      "cell_type": "code",
      "source": [
        "a = np.arange(10, 21)\n",
        "\n",
        "print('Posição - Elemento')\n",
        "for posição, elemento in enumerate(a):\n",
        "  print(f'{posição:^7} - {elemento:^7}')\n",
        "\n",
        "while True:\n",
        "  try:\n",
        "    escolha = int(input('Escolha um indice: '))\n",
        "    if escolha < 0:\n",
        "      print('-' * 30)\n",
        "      print('Use números negativos para percorrer do último ao primeiro!')\n",
        "      print('-1 = último, -2 = pernúltimo, ...')\n",
        "      print('-' * 30)\n",
        "    print(f'indice: {escolha}')\n",
        "    # Acesse um elemento especifico usando o indice entre colchete\n",
        "    print(f'elemento: {a[escolha]}')\n",
        "    break\n",
        "  except IndexError:\n",
        "    print('Índice fora da faixa da Array!')\n",
        "  except ValueError:\n",
        "    print('Valor inválido! Digite um número inteiro.')"
      ],
      "metadata": {
        "colab": {
          "base_uri": "https://localhost:8080/"
        },
        "id": "QbnF3yFqtDMU",
        "outputId": "e28c4613-8615-4575-d533-a870edf6853c"
      },
      "execution_count": null,
      "outputs": [
        {
          "output_type": "stream",
          "name": "stdout",
          "text": [
            "Posição - Elemento\n",
            "   0    -   10   \n",
            "   1    -   11   \n",
            "   2    -   12   \n",
            "   3    -   13   \n",
            "   4    -   14   \n",
            "   5    -   15   \n",
            "   6    -   16   \n",
            "   7    -   17   \n",
            "   8    -   18   \n",
            "   9    -   19   \n",
            "  10    -   20   \n",
            "Escolha um indice: 20\n",
            "indice: 20\n",
            "Índice fora da faixa da Array!\n",
            "Escolha um indice: 10\n",
            "indice: 10\n",
            "elemento: 20\n"
          ]
        }
      ]
    },
    {
      "cell_type": "markdown",
      "source": [
        "### Fatiamento"
      ],
      "metadata": {
        "id": "wey_zuvQ5qHC"
      }
    },
    {
      "cell_type": "markdown",
      "source": [
        "Mostre o Array a, do indice 2 até o indice 5 (desconsiderando o último):"
      ],
      "metadata": {
        "id": "W5wvp00u51uN"
      }
    },
    {
      "cell_type": "code",
      "source": [
        "a[2:5]"
      ],
      "metadata": {
        "colab": {
          "base_uri": "https://localhost:8080/"
        },
        "id": "90vUShDA5yQF",
        "outputId": "59434008-0929-4783-b60c-c157c8b7b10d"
      },
      "execution_count": null,
      "outputs": [
        {
          "output_type": "execute_result",
          "data": {
            "text/plain": [
              "array([12, 13, 14])"
            ]
          },
          "metadata": {},
          "execution_count": 35
        }
      ]
    },
    {
      "cell_type": "markdown",
      "source": [
        "Também podemos não indicar o inicio ou o termino:"
      ],
      "metadata": {
        "id": "baNp46fP6SWo"
      }
    },
    {
      "cell_type": "code",
      "source": [
        "print(a[:5])\n",
        "print(a[2:])\n",
        "a[:]"
      ],
      "metadata": {
        "colab": {
          "base_uri": "https://localhost:8080/"
        },
        "id": "8obnVjed6dZK",
        "outputId": "9b343154-77df-4f80-c280-d6ec2621db1d"
      },
      "execution_count": null,
      "outputs": [
        {
          "output_type": "stream",
          "name": "stdout",
          "text": [
            "[10 11 12 13 14]\n",
            "[12 13 14 15 16 17 18 19 20]\n"
          ]
        },
        {
          "output_type": "execute_result",
          "data": {
            "text/plain": [
              "array([10, 11, 12, 13, 14, 15, 16, 17, 18, 19, 20])"
            ]
          },
          "metadata": {},
          "execution_count": 37
        }
      ]
    },
    {
      "cell_type": "markdown",
      "source": [
        "Também podemos definir os passos do fatiamento"
      ],
      "metadata": {
        "id": "QCZVjo5c_34o"
      }
    },
    {
      "cell_type": "code",
      "source": [
        "print(a[2:9:2])\n",
        "print(a[8:2:-1])"
      ],
      "metadata": {
        "colab": {
          "base_uri": "https://localhost:8080/"
        },
        "id": "LOuvBMRb_89A",
        "outputId": "f7b8279b-a1ce-4bdb-ad26-294f440f047a"
      },
      "execution_count": null,
      "outputs": [
        {
          "output_type": "stream",
          "name": "stdout",
          "text": [
            "[12 14 16 18]\n",
            "[18 17 16 15 14 13]\n"
          ]
        }
      ]
    },
    {
      "cell_type": "markdown",
      "source": [
        "### Indice em Arrays bidimensionais"
      ],
      "metadata": {
        "id": "qnuIFRPi3wfj"
      }
    },
    {
      "cell_type": "code",
      "source": [
        "b = np.random.rand(5, 5)\n",
        "b"
      ],
      "metadata": {
        "colab": {
          "base_uri": "https://localhost:8080/"
        },
        "id": "Fftb1QWb3SYO",
        "outputId": "19081ef3-b130-498f-9063-e31c325a4313"
      },
      "execution_count": null,
      "outputs": [
        {
          "output_type": "execute_result",
          "data": {
            "text/plain": [
              "array([[0.08523572, 0.30648646, 0.91887058, 0.41076134, 0.6813149 ],\n",
              "       [0.49074773, 0.57730259, 0.75415701, 0.63921688, 0.75833555],\n",
              "       [0.22393337, 0.38147246, 0.2571964 , 0.78969258, 0.0668813 ],\n",
              "       [0.61327813, 0.78305829, 0.91390329, 0.09069382, 0.29383539],\n",
              "       [0.44122727, 0.12250571, 0.2173028 , 0.94477536, 0.87915905]])"
            ]
          },
          "metadata": {},
          "execution_count": 30
        }
      ]
    },
    {
      "cell_type": "markdown",
      "source": [
        "Selecionando a primeira linha"
      ],
      "metadata": {
        "id": "LZp-ok8W38Ok"
      }
    },
    {
      "cell_type": "code",
      "source": [
        "b[0]"
      ],
      "metadata": {
        "colab": {
          "base_uri": "https://localhost:8080/"
        },
        "id": "kKW58fuY33QD",
        "outputId": "bf22d7b6-6f72-4a46-eb66-9065f71b3a42"
      },
      "execution_count": null,
      "outputs": [
        {
          "output_type": "execute_result",
          "data": {
            "text/plain": [
              "array([0.08523572, 0.30648646, 0.91887058, 0.41076134, 0.6813149 ])"
            ]
          },
          "metadata": {},
          "execution_count": 31
        }
      ]
    },
    {
      "cell_type": "markdown",
      "source": [
        "Selecionando a primeira linha e a segunda coluna"
      ],
      "metadata": {
        "id": "l52Q2g0X4Djy"
      }
    },
    {
      "cell_type": "code",
      "source": [
        "b[0][1]\n",
        "# ou\n",
        "b[0, 1]"
      ],
      "metadata": {
        "colab": {
          "base_uri": "https://localhost:8080/"
        },
        "id": "5zY5Hk5m4Hbd",
        "outputId": "67e52519-5d0b-4473-c548-65ff9ef1a743"
      },
      "execution_count": null,
      "outputs": [
        {
          "output_type": "execute_result",
          "data": {
            "text/plain": [
              "0.30648645654913764"
            ]
          },
          "metadata": {},
          "execution_count": 33
        }
      ]
    },
    {
      "cell_type": "markdown",
      "source": [
        "Modificando um elemento na Array"
      ],
      "metadata": {
        "id": "JAk_SeFK5GDW"
      }
    },
    {
      "cell_type": "code",
      "source": [
        "b[0, 1] = 10\n",
        "b"
      ],
      "metadata": {
        "colab": {
          "base_uri": "https://localhost:8080/"
        },
        "id": "X-8jc0CC5JZJ",
        "outputId": "f961d0d6-e124-4fe2-d6de-c30b81ed8363"
      },
      "execution_count": null,
      "outputs": [
        {
          "output_type": "execute_result",
          "data": {
            "text/plain": [
              "array([[ 0.08523572, 10.        ,  0.91887058,  0.41076134,  0.6813149 ],\n",
              "       [ 0.49074773,  0.57730259,  0.75415701,  0.63921688,  0.75833555],\n",
              "       [ 0.22393337,  0.38147246,  0.2571964 ,  0.78969258,  0.0668813 ],\n",
              "       [ 0.61327813,  0.78305829,  0.91390329,  0.09069382,  0.29383539],\n",
              "       [ 0.44122727,  0.12250571,  0.2173028 ,  0.94477536,  0.87915905]])"
            ]
          },
          "metadata": {},
          "execution_count": 34
        }
      ]
    },
    {
      "cell_type": "markdown",
      "source": [
        "### Fatiamento de Array 2D"
      ],
      "metadata": {
        "id": "_Ir3SHs98rP0"
      }
    },
    {
      "cell_type": "code",
      "source": [
        "print(b)\n",
        "print('\\n')\n",
        "print(b[0:2])\n",
        "print('\\n')\n",
        "print(b[0:2, 2])"
      ],
      "metadata": {
        "colab": {
          "base_uri": "https://localhost:8080/"
        },
        "id": "fI9RPlE28wJY",
        "outputId": "3915bfff-9f14-4476-c702-c2fcda48e55a"
      },
      "execution_count": null,
      "outputs": [
        {
          "output_type": "stream",
          "name": "stdout",
          "text": [
            "[[ 0.08523572 10.          0.91887058  0.41076134  0.6813149 ]\n",
            " [ 0.49074773  0.57730259  0.75415701  0.63921688  0.75833555]\n",
            " [ 0.22393337  0.38147246  0.2571964   0.78969258  0.0668813 ]\n",
            " [ 0.61327813  0.78305829  0.91390329  0.09069382  0.29383539]\n",
            " [ 0.44122727  0.12250571  0.2173028   0.94477536  0.87915905]]\n",
            "\n",
            "\n",
            "[[ 0.08523572 10.          0.91887058  0.41076134  0.6813149 ]\n",
            " [ 0.49074773  0.57730259  0.75415701  0.63921688  0.75833555]]\n",
            "\n",
            "\n",
            "[0.91887058 0.75415701]\n"
          ]
        }
      ]
    },
    {
      "cell_type": "markdown",
      "source": [
        "Exemplo com imagem"
      ],
      "metadata": {
        "id": "Pt3Yh2VZBXbU"
      }
    },
    {
      "cell_type": "code",
      "source": [
        "from skimage import io\n",
        "import numpy as np\n",
        "import matplotlib.pyplot as plt\n",
        "\n",
        "img = io.imread('https://img.icons8.com/color/200w/numpy.png')\n",
        "\n",
        "# Exibir array com pixels da imagem\n",
        "print(img)\n",
        "\n",
        "print('\\n')\n",
        "\n",
        "# Quantos pixels e quantos canais\n",
        "print(img.shape)\n",
        "\n",
        "plt.imshow(img)"
      ],
      "metadata": {
        "colab": {
          "base_uri": "https://localhost:8080/",
          "height": 1000
        },
        "id": "7CfhFuPdBbIP",
        "outputId": "77d8d5b4-0f02-49ea-890d-f821fcb288a7"
      },
      "execution_count": null,
      "outputs": [
        {
          "output_type": "stream",
          "name": "stdout",
          "text": [
            "[[[  0   0   0  16]\n",
            "  [170 170 170  38]\n",
            "  [255 255 255  68]\n",
            "  ...\n",
            "  [  0   0   0   0]\n",
            "  [  2   2   2   5]\n",
            "  [  0   0   0  17]]\n",
            "\n",
            " [[ 33  33  33   4]\n",
            "  [  0   0   0  15]\n",
            "  [173 173 173  39]\n",
            "  ...\n",
            "  [ 19  19  19   5]\n",
            "  [  0   0   0  16]\n",
            "  [197 197 197  44]]\n",
            "\n",
            " [[  0   0   0   0]\n",
            "  [ 56  56  56   4]\n",
            "  [  0   0   0  15]\n",
            "  ...\n",
            "  [  0   0   0  16]\n",
            "  [201 201 201  45]\n",
            "  [255 255 255  67]]\n",
            "\n",
            " ...\n",
            "\n",
            " [[  0   0   0   0]\n",
            "  [ 19  19  19   5]\n",
            "  [  0   0   0  16]\n",
            "  ...\n",
            "  [  0   0   0  15]\n",
            "  [173 173 173  39]\n",
            "  [255 255 255  68]]\n",
            "\n",
            " [[  2   2   2   5]\n",
            "  [  0   0   0  16]\n",
            "  [201 201 201  45]\n",
            "  ...\n",
            "  [ 56  56  56   4]\n",
            "  [  0   0   0  15]\n",
            "  [170 170 170  38]]\n",
            "\n",
            " [[  0   0   0  17]\n",
            "  [197 197 197  44]\n",
            "  [255 255 255  67]\n",
            "  ...\n",
            "  [  0   0   0   0]\n",
            "  [ 33  33  33   4]\n",
            "  [  0   0   0  16]]]\n",
            "(200, 200, 4)\n"
          ]
        },
        {
          "output_type": "execute_result",
          "data": {
            "text/plain": [
              "<matplotlib.image.AxesImage at 0x7fd7c5fb1990>"
            ]
          },
          "metadata": {},
          "execution_count": 53
        },
        {
          "output_type": "display_data",
          "data": {
            "text/plain": [
              "<Figure size 640x480 with 1 Axes>"
            ],
            "image/png": "[encoded data removed]"
          },
          "metadata": {}
        }
      ]
    },
    {
      "cell_type": "markdown",
      "source": [
        "Fatiamento em imagens"
      ],
      "metadata": {
        "id": "HBj-y-luIz_A"
      }
    },
    {
      "cell_type": "code",
      "source": [
        "nova_img = img[0:100]\n",
        "plt.imshow(nova_img)"
      ],
      "metadata": {
        "colab": {
          "base_uri": "https://localhost:8080/",
          "height": 329
        },
        "id": "hPcR6AqII4Ts",
        "outputId": "cfae8c3b-3ac6-4403-8e90-dcc07273960a"
      },
      "execution_count": null,
      "outputs": [
        {
          "output_type": "execute_result",
          "data": {
            "text/plain": [
              "<matplotlib.image.AxesImage at 0x7fd7c6040370>"
            ]
          },
          "metadata": {},
          "execution_count": 54
        },
        {
          "output_type": "display_data",
          "data": {
            "text/plain": [
              "<Figure size 640x480 with 1 Axes>"
            ],
            "image/png": "[encoded data removed]"
          },
          "metadata": {}
        }
      ]
    },
    {
      "cell_type": "code",
      "source": [
        "nova_img = img[:, :100]\n",
        "plt.imshow(nova_img)"
      ],
      "metadata": {
        "colab": {
          "base_uri": "https://localhost:8080/",
          "height": 451
        },
        "id": "GM-i5SSYJrZe",
        "outputId": "a83ce3f1-2bcd-46c6-970f-6fb95b419991"
      },
      "execution_count": null,
      "outputs": [
        {
          "output_type": "execute_result",
          "data": {
            "text/plain": [
              "<matplotlib.image.AxesImage at 0x7fd7c5cbe380>"
            ]
          },
          "metadata": {},
          "execution_count": 62
        },
        {
          "output_type": "display_data",
          "data": {
            "text/plain": [
              "<Figure size 640x480 with 1 Axes>"
            ],
            "image/png": "[encoded data removed]"
          },
          "metadata": {}
        }
      ]
    },
    {
      "cell_type": "markdown",
      "source": [
        "## Operadores"
      ],
      "metadata": {
        "id": "rZoQVfAIsZ_j"
      }
    },
    {
      "cell_type": "markdown",
      "source": [
        "### Operações entre arrays e escalares"
      ],
      "metadata": {
        "id": "J9spucmfstXU"
      }
    },
    {
      "cell_type": "code",
      "source": [
        "a1 = np.ones(10)\n",
        "\n",
        "print(a1)\n",
        "\n",
        "a1 * 10"
      ],
      "metadata": {
        "colab": {
          "base_uri": "https://localhost:8080/"
        },
        "id": "9vAX_8i2tqUB",
        "outputId": "1c999640-a1c9-4e89-e57f-073ed503b7cd"
      },
      "execution_count": null,
      "outputs": [
        {
          "output_type": "stream",
          "name": "stdout",
          "text": [
            "[1. 1. 1. 1. 1. 1. 1. 1. 1. 1.]\n"
          ]
        },
        {
          "output_type": "execute_result",
          "data": {
            "text/plain": [
              "array([10., 10., 10., 10., 10., 10., 10., 10., 10., 10.])"
            ]
          },
          "metadata": {},
          "execution_count": 63
        }
      ]
    },
    {
      "cell_type": "code",
      "source": [
        "np.random.seed(32)\n",
        "a1 = np.random.randint(1, 20, 8)\n",
        "\n",
        "a1 - 2"
      ],
      "metadata": {
        "colab": {
          "base_uri": "https://localhost:8080/"
        },
        "id": "Z8KRTJTruCW3",
        "outputId": "8de52393-9062-4438-9828-273c9690decf"
      },
      "execution_count": null,
      "outputs": [
        {
          "output_type": "execute_result",
          "data": {
            "text/plain": [
              "array([10,  4,  6,  2,  4,  9,  8,  3])"
            ]
          },
          "metadata": {},
          "execution_count": 66
        }
      ]
    },
    {
      "cell_type": "markdown",
      "source": [
        "### Operações entre arrays"
      ],
      "metadata": {
        "id": "bua8A-L7syYo"
      }
    },
    {
      "cell_type": "code",
      "source": [
        "a2 = np.random.randint(1, 100, 8)\n",
        "\n",
        "a2"
      ],
      "metadata": {
        "colab": {
          "base_uri": "https://localhost:8080/"
        },
        "id": "T_hgEzz0wH3U",
        "outputId": "3dabd3b1-136a-4a6d-fdba-7f389fe26449"
      },
      "execution_count": null,
      "outputs": [
        {
          "output_type": "execute_result",
          "data": {
            "text/plain": [
              "array([12, 82,  4, 66, 35, 36, 25, 43])"
            ]
          },
          "metadata": {},
          "execution_count": 67
        }
      ]
    },
    {
      "cell_type": "code",
      "source": [
        "# os arrays precisam ter o mesmo shape   \n",
        "# soma entre eles (a1[0] + a2[0], a1[1] + a2[2]...)\n",
        "a1 + a2"
      ],
      "metadata": {
        "colab": {
          "base_uri": "https://localhost:8080/"
        },
        "id": "Msr9Plp9wUnP",
        "outputId": "9a6ff6c9-e813-40d4-e9bd-009921ddabf6"
      },
      "execution_count": null,
      "outputs": [
        {
          "output_type": "execute_result",
          "data": {
            "text/plain": [
              "array([24, 88, 12, 70, 41, 47, 35, 48])"
            ]
          },
          "metadata": {},
          "execution_count": 68
        }
      ]
    },
    {
      "cell_type": "markdown",
      "source": [
        "### multiplicação entre matriz"
      ],
      "metadata": {
        "id": "CWcZhmvnxT2Y"
      }
    },
    {
      "cell_type": "code",
      "source": [
        "# (3 x 2) x (2 x 3) = (3 x 3)\n",
        "\n",
        "m1 = np.random.randint(1, 10, (3, 2))\n",
        "m1"
      ],
      "metadata": {
        "colab": {
          "base_uri": "https://localhost:8080/"
        },
        "id": "GP0QORe4xX27",
        "outputId": "98ebfefd-bde7-40ee-bc6f-979c70862715"
      },
      "execution_count": null,
      "outputs": [
        {
          "output_type": "execute_result",
          "data": {
            "text/plain": [
              "array([[6, 2],\n",
              "       [1, 4],\n",
              "       [2, 8]])"
            ]
          },
          "metadata": {},
          "execution_count": 72
        }
      ]
    },
    {
      "cell_type": "code",
      "source": [
        "m2 = np.random.randint(1, 10, (2, 3))\n",
        "m2"
      ],
      "metadata": {
        "colab": {
          "base_uri": "https://localhost:8080/"
        },
        "id": "Tt3NLgcmyx1a",
        "outputId": "96578994-b088-41f9-8c5c-e4e083ac57e7"
      },
      "execution_count": null,
      "outputs": [
        {
          "output_type": "execute_result",
          "data": {
            "text/plain": [
              "array([[9, 7, 7],\n",
              "       [3, 9, 2]])"
            ]
          },
          "metadata": {},
          "execution_count": 73
        }
      ]
    },
    {
      "cell_type": "code",
      "source": [
        "m1.dot(m2)"
      ],
      "metadata": {
        "colab": {
          "base_uri": "https://localhost:8080/"
        },
        "id": "9BwjxRzlzBc6",
        "outputId": "8c883ade-ed46-4386-af8c-9ef8139d9ba0"
      },
      "execution_count": null,
      "outputs": [
        {
          "output_type": "execute_result",
          "data": {
            "text/plain": [
              "array([[60, 60, 46],\n",
              "       [21, 43, 15],\n",
              "       [42, 86, 30]])"
            ]
          },
          "metadata": {},
          "execution_count": 74
        }
      ]
    },
    {
      "cell_type": "code",
      "source": [
        "m1 = np.ones((3, 2))\n",
        "m2 = np.ones((2, 3))\n",
        "\n",
        "m1.dot(m2)"
      ],
      "metadata": {
        "colab": {
          "base_uri": "https://localhost:8080/"
        },
        "id": "U0cXDD76zez0",
        "outputId": "ae50891a-ff72-446c-e254-685c6a15c6cf"
      },
      "execution_count": null,
      "outputs": [
        {
          "output_type": "execute_result",
          "data": {
            "text/plain": [
              "array([[2., 2., 2.],\n",
              "       [2., 2., 2.],\n",
              "       [2., 2., 2.]])"
            ]
          },
          "metadata": {},
          "execution_count": 78
        }
      ]
    },
    {
      "cell_type": "markdown",
      "source": [
        "### Comparação entre arrays"
      ],
      "metadata": {
        "id": "0Yxv6-fVs3G5"
      }
    },
    {
      "cell_type": "code",
      "source": [
        "a1 = np.array([1, 2, 2, 1])\n",
        "a2 = np.array([3, 2, 3, 1])\n",
        "\n",
        "print(a1 == a2) # item por item\n",
        "np.array_equal(a1, a2) # completamente identicos"
      ],
      "metadata": {
        "colab": {
          "base_uri": "https://localhost:8080/"
        },
        "id": "q_N8L-rW0WQW",
        "outputId": "59bb79b5-9c91-4da3-dfde-a20011871a96"
      },
      "execution_count": null,
      "outputs": [
        {
          "output_type": "stream",
          "name": "stdout",
          "text": [
            "[False  True False  True]\n"
          ]
        },
        {
          "output_type": "execute_result",
          "data": {
            "text/plain": [
              "False"
            ]
          },
          "metadata": {},
          "execution_count": 80
        }
      ]
    },
    {
      "cell_type": "markdown",
      "source": [
        "### Funções matemáticas do Numpy"
      ],
      "metadata": {
        "id": "lqPKCTATs7Sl"
      }
    },
    {
      "cell_type": "markdown",
      "source": [
        "Mais funções matematicas: [Documentação Numpy - rotinas matematicas](https://numpy.org/doc/1.24/reference/routines.math.html)"
      ],
      "metadata": {
        "id": "csgk64jg2g50"
      }
    },
    {
      "cell_type": "code",
      "source": [
        "np.sin(a1)"
      ],
      "metadata": {
        "colab": {
          "base_uri": "https://localhost:8080/"
        },
        "id": "S2lMqCZe1ZYD",
        "outputId": "966d644c-2368-4062-dad6-adad71dbcf62"
      },
      "execution_count": null,
      "outputs": [
        {
          "output_type": "execute_result",
          "data": {
            "text/plain": [
              "array([0.84147098, 0.90929743, 0.90929743, 0.84147098])"
            ]
          },
          "metadata": {},
          "execution_count": 84
        }
      ]
    },
    {
      "cell_type": "code",
      "source": [
        "#Soma\n",
        "np.sum(a1)"
      ],
      "metadata": {
        "colab": {
          "base_uri": "https://localhost:8080/"
        },
        "id": "bDY5PjxX3Bt2",
        "outputId": "57e8cb7b-86c4-4193-ff36-e2508d4492e6"
      },
      "execution_count": null,
      "outputs": [
        {
          "output_type": "execute_result",
          "data": {
            "text/plain": [
              "6"
            ]
          },
          "metadata": {},
          "execution_count": 85
        }
      ]
    },
    {
      "cell_type": "code",
      "source": [
        "# Media\n",
        "np.mean(a1)"
      ],
      "metadata": {
        "colab": {
          "base_uri": "https://localhost:8080/"
        },
        "id": "wBUFUxVS3EfC",
        "outputId": "85bd7128-e461-44a7-8045-776e8c6f8a2d"
      },
      "execution_count": null,
      "outputs": [
        {
          "output_type": "execute_result",
          "data": {
            "text/plain": [
              "1.5"
            ]
          },
          "metadata": {},
          "execution_count": 86
        }
      ]
    },
    {
      "cell_type": "code",
      "source": [
        "# Variancia\n",
        "np.var(a1)"
      ],
      "metadata": {
        "colab": {
          "base_uri": "https://localhost:8080/"
        },
        "id": "bo8wMeTD3InQ",
        "outputId": "5e3b751e-f7ac-4b3d-c425-29b976d03c23"
      },
      "execution_count": null,
      "outputs": [
        {
          "output_type": "execute_result",
          "data": {
            "text/plain": [
              "0.25"
            ]
          },
          "metadata": {},
          "execution_count": 87
        }
      ]
    },
    {
      "cell_type": "code",
      "source": [
        "# Desvio padrão\n",
        "np.std(a1)"
      ],
      "metadata": {
        "colab": {
          "base_uri": "https://localhost:8080/"
        },
        "id": "GhgpjiNK3Lq7",
        "outputId": "dc816f37-1870-4295-afa1-a2b13848aa2d"
      },
      "execution_count": null,
      "outputs": [
        {
          "output_type": "execute_result",
          "data": {
            "text/plain": [
              "0.5"
            ]
          },
          "metadata": {},
          "execution_count": 88
        }
      ]
    },
    {
      "cell_type": "markdown",
      "source": [
        "# Metodos do objeto array"
      ],
      "metadata": {
        "id": "eaZ1Sbblc0C0"
      }
    },
    {
      "cell_type": "markdown",
      "source": [
        "1. Métodos importantes\n",
        "  - ndim: retorna a dimensão\n",
        "  - shape: retorna o formato\n",
        "  - dtype: retorna o tipo de dado\n",
        "  - astype: define o tipo de dado\n",
        "  - min: retorna o menor valor\n",
        "  - max: retorna o maior valor\n",
        "  - argmin: retorna o índice do menor valor\n",
        "  - argmax: retorna o índice do maior valor\n",
        "  - sum: soma toda a array\n",
        "  - mean: retorna a média\n",
        "  - var: retorna a variancia\n",
        "  - std: retorna o desvio padrão\n",
        "  - sort: ordena a array\n",
        "  - T: transporta linhas para colunas\n",
        "  - reshape"
      ],
      "metadata": {
        "id": "PMBpa157c_f2"
      }
    },
    {
      "cell_type": "code",
      "source": [
        "array = np.random.randn(10)\n",
        "array"
      ],
      "metadata": {
        "colab": {
          "base_uri": "https://localhost:8080/"
        },
        "id": "WY7HkqtpdtqW",
        "outputId": "579d7a3b-b774-44a1-9dec-c710ccd01daf"
      },
      "execution_count": 5,
      "outputs": [
        {
          "output_type": "execute_result",
          "data": {
            "text/plain": [
              "array([ 0.39217781,  1.52531546,  1.18550919, -0.32078623, -0.65278531,\n",
              "        0.35303716,  0.04545717,  0.58186133, -0.15045084,  0.39479273])"
            ]
          },
          "metadata": {},
          "execution_count": 5
        }
      ]
    },
    {
      "cell_type": "code",
      "source": [
        "mtx = np.random.randn(3, 3)\n",
        "mtx"
      ],
      "metadata": {
        "colab": {
          "base_uri": "https://localhost:8080/"
        },
        "id": "6Sbg63gzeOqW",
        "outputId": "0033f6e6-2568-4cac-be3d-f1fb914883f1"
      },
      "execution_count": 7,
      "outputs": [
        {
          "output_type": "execute_result",
          "data": {
            "text/plain": [
              "array([[ 0.43864334,  1.03584874,  0.69061327],\n",
              "       [ 0.33140365, -1.89335108,  1.63077544],\n",
              "       [ 0.11446569,  0.14571492,  0.84613136]])"
            ]
          },
          "metadata": {},
          "execution_count": 7
        }
      ]
    },
    {
      "cell_type": "markdown",
      "source": [
        "## ndim - retorna a dimensão"
      ],
      "metadata": {
        "id": "Tak2GSg-euMB"
      }
    },
    {
      "cell_type": "code",
      "source": [
        "array.ndim"
      ],
      "metadata": {
        "colab": {
          "base_uri": "https://localhost:8080/"
        },
        "id": "IcK15HE7e0tl",
        "outputId": "3e6d36be-436e-4566-e37e-91b993fbb2db"
      },
      "execution_count": 8,
      "outputs": [
        {
          "output_type": "execute_result",
          "data": {
            "text/plain": [
              "1"
            ]
          },
          "metadata": {},
          "execution_count": 8
        }
      ]
    },
    {
      "cell_type": "code",
      "source": [
        "mtx.ndim"
      ],
      "metadata": {
        "colab": {
          "base_uri": "https://localhost:8080/"
        },
        "id": "VKQtockHe5Jh",
        "outputId": "37aca5a1-89f5-4dc4-d798-87a30403c97b"
      },
      "execution_count": 9,
      "outputs": [
        {
          "output_type": "execute_result",
          "data": {
            "text/plain": [
              "2"
            ]
          },
          "metadata": {},
          "execution_count": 9
        }
      ]
    },
    {
      "cell_type": "markdown",
      "source": [
        "## shape - retorna o formato"
      ],
      "metadata": {
        "id": "H453fN1MfLII"
      }
    },
    {
      "cell_type": "code",
      "source": [
        "array.shape"
      ],
      "metadata": {
        "colab": {
          "base_uri": "https://localhost:8080/"
        },
        "id": "tl6XEjJKfIVv",
        "outputId": "2bf622a2-4d30-4872-fff8-6e899b2e27c8"
      },
      "execution_count": 10,
      "outputs": [
        {
          "output_type": "execute_result",
          "data": {
            "text/plain": [
              "(10,)"
            ]
          },
          "metadata": {},
          "execution_count": 10
        }
      ]
    },
    {
      "cell_type": "code",
      "source": [
        "mtx.shape"
      ],
      "metadata": {
        "colab": {
          "base_uri": "https://localhost:8080/"
        },
        "id": "zLMHHJnRfQKf",
        "outputId": "89f71322-b2cf-42a0-cb89-e546a49e9c4c"
      },
      "execution_count": 11,
      "outputs": [
        {
          "output_type": "execute_result",
          "data": {
            "text/plain": [
              "(3, 3)"
            ]
          },
          "metadata": {},
          "execution_count": 11
        }
      ]
    },
    {
      "cell_type": "markdown",
      "source": [
        "## dtype - retorna o tipo de dado"
      ],
      "metadata": {
        "id": "g9S6xQSLfk8h"
      }
    },
    {
      "cell_type": "code",
      "source": [
        "array.dtype"
      ],
      "metadata": {
        "colab": {
          "base_uri": "https://localhost:8080/"
        },
        "id": "orit-GCnfo_G",
        "outputId": "8dc0bbdd-a260-4f65-d560-38f8b5428a64"
      },
      "execution_count": 12,
      "outputs": [
        {
          "output_type": "execute_result",
          "data": {
            "text/plain": [
              "dtype('float64')"
            ]
          },
          "metadata": {},
          "execution_count": 12
        }
      ]
    },
    {
      "cell_type": "code",
      "source": [
        "mtx.dtype"
      ],
      "metadata": {
        "colab": {
          "base_uri": "https://localhost:8080/"
        },
        "id": "5OBiZ0zJfrHl",
        "outputId": "bb3b2739-96ed-443b-bd33-9806c64f73d6"
      },
      "execution_count": 13,
      "outputs": [
        {
          "output_type": "execute_result",
          "data": {
            "text/plain": [
              "dtype('float64')"
            ]
          },
          "metadata": {},
          "execution_count": 13
        }
      ]
    },
    {
      "cell_type": "markdown",
      "source": [
        "## astype - define o tipo de dado"
      ],
      "metadata": {
        "id": "TNxeKTtvgAfO"
      }
    },
    {
      "cell_type": "code",
      "source": [
        "array.astype('int')"
      ],
      "metadata": {
        "colab": {
          "base_uri": "https://localhost:8080/"
        },
        "id": "w1DLPeGzgGQn",
        "outputId": "9848d22f-5b04-4d39-fd57-236206a3066e"
      },
      "execution_count": 14,
      "outputs": [
        {
          "output_type": "execute_result",
          "data": {
            "text/plain": [
              "array([0, 1, 1, 0, 0, 0, 0, 0, 0, 0])"
            ]
          },
          "metadata": {},
          "execution_count": 14
        }
      ]
    },
    {
      "cell_type": "code",
      "source": [
        "mtx.astype('int')"
      ],
      "metadata": {
        "colab": {
          "base_uri": "https://localhost:8080/"
        },
        "id": "NBxbfLgegLm2",
        "outputId": "e5a1a6ff-55c8-4e07-a6e1-03ac2223833e"
      },
      "execution_count": 17,
      "outputs": [
        {
          "output_type": "execute_result",
          "data": {
            "text/plain": [
              "array([[ 0,  1,  0],\n",
              "       [ 0, -1,  1],\n",
              "       [ 0,  0,  0]])"
            ]
          },
          "metadata": {},
          "execution_count": 17
        }
      ]
    },
    {
      "cell_type": "markdown",
      "source": [
        "### Definindo como bool"
      ],
      "metadata": {
        "id": "0BHuPjzwhE5D"
      }
    },
    {
      "cell_type": "code",
      "source": [
        "array.astype('bool')"
      ],
      "metadata": {
        "colab": {
          "base_uri": "https://localhost:8080/"
        },
        "id": "TFpIzB22gwmy",
        "outputId": "852af00d-eaa0-42aa-a2ba-6531f76d5637"
      },
      "execution_count": 18,
      "outputs": [
        {
          "output_type": "execute_result",
          "data": {
            "text/plain": [
              "array([ True,  True,  True,  True,  True,  True,  True,  True,  True,\n",
              "        True])"
            ]
          },
          "metadata": {},
          "execution_count": 18
        }
      ]
    },
    {
      "cell_type": "code",
      "source": [
        "array[2] = 0\n",
        "array"
      ],
      "metadata": {
        "colab": {
          "base_uri": "https://localhost:8080/"
        },
        "id": "XfSetKHvg1hX",
        "outputId": "8b62c76c-4418-4ec6-edf6-938800c236ab"
      },
      "execution_count": 19,
      "outputs": [
        {
          "output_type": "execute_result",
          "data": {
            "text/plain": [
              "array([ 0.39217781,  1.52531546,  0.        , -0.32078623, -0.65278531,\n",
              "        0.35303716,  0.04545717,  0.58186133, -0.15045084,  0.39479273])"
            ]
          },
          "metadata": {},
          "execution_count": 19
        }
      ]
    },
    {
      "cell_type": "code",
      "source": [
        "array.astype('bool')"
      ],
      "metadata": {
        "colab": {
          "base_uri": "https://localhost:8080/"
        },
        "id": "XgXq9MNHg8Q8",
        "outputId": "98d61f81-bb84-4b23-c9ff-6405010eec98"
      },
      "execution_count": 21,
      "outputs": [
        {
          "output_type": "execute_result",
          "data": {
            "text/plain": [
              "array([ True,  True, False,  True,  True,  True,  True,  True,  True,\n",
              "        True])"
            ]
          },
          "metadata": {},
          "execution_count": 21
        }
      ]
    },
    {
      "cell_type": "markdown",
      "source": [
        "## Valor minimo e valor maximo"
      ],
      "metadata": {
        "id": "gSSuOZ0yhPOw"
      }
    },
    {
      "cell_type": "code",
      "source": [
        "array.min()"
      ],
      "metadata": {
        "colab": {
          "base_uri": "https://localhost:8080/"
        },
        "id": "qcdfYyXRhSo4",
        "outputId": "7dcbd684-901b-455e-c177-41d2c23b609c"
      },
      "execution_count": 22,
      "outputs": [
        {
          "output_type": "execute_result",
          "data": {
            "text/plain": [
              "-0.6527853137133084"
            ]
          },
          "metadata": {},
          "execution_count": 22
        }
      ]
    },
    {
      "cell_type": "code",
      "source": [
        "array.max()"
      ],
      "metadata": {
        "colab": {
          "base_uri": "https://localhost:8080/"
        },
        "id": "1i8RrymchVXj",
        "outputId": "6d611e9a-04c8-4ff9-c131-08e6783d50ad"
      },
      "execution_count": 23,
      "outputs": [
        {
          "output_type": "execute_result",
          "data": {
            "text/plain": [
              "1.525315464981322"
            ]
          },
          "metadata": {},
          "execution_count": 23
        }
      ]
    },
    {
      "cell_type": "markdown",
      "source": [
        "## Soma"
      ],
      "metadata": {
        "id": "z36JEtMlihkt"
      }
    },
    {
      "cell_type": "code",
      "source": [
        "array.sum()"
      ],
      "metadata": {
        "colab": {
          "base_uri": "https://localhost:8080/"
        },
        "id": "CaXi0rIsilLA",
        "outputId": "0ada562f-ba4e-4b2f-d88a-e5ba507bd7b5"
      },
      "execution_count": 24,
      "outputs": [
        {
          "output_type": "execute_result",
          "data": {
            "text/plain": [
              "2.168619278312293"
            ]
          },
          "metadata": {},
          "execution_count": 24
        }
      ]
    },
    {
      "cell_type": "code",
      "source": [
        "np.sum(array)"
      ],
      "metadata": {
        "colab": {
          "base_uri": "https://localhost:8080/"
        },
        "id": "GDwGb9aeioKp",
        "outputId": "0d492aeb-4764-4697-cef8-8ce9b604998e"
      },
      "execution_count": 25,
      "outputs": [
        {
          "output_type": "execute_result",
          "data": {
            "text/plain": [
              "2.168619278312293"
            ]
          },
          "metadata": {},
          "execution_count": 25
        }
      ]
    },
    {
      "cell_type": "markdown",
      "source": [
        "## Ordenar"
      ],
      "metadata": {
        "id": "Y_QqPxEIi9TJ"
      }
    },
    {
      "cell_type": "code",
      "source": [
        "array.sort()\n",
        "array"
      ],
      "metadata": {
        "colab": {
          "base_uri": "https://localhost:8080/"
        },
        "id": "Vq4HnIqei_Xr",
        "outputId": "e305b2b8-e65d-4d25-9559-cb518bc6845f"
      },
      "execution_count": 27,
      "outputs": [
        {
          "output_type": "execute_result",
          "data": {
            "text/plain": [
              "array([-0.65278531, -0.32078623, -0.15045084,  0.        ,  0.04545717,\n",
              "        0.35303716,  0.39217781,  0.39479273,  0.58186133,  1.52531546])"
            ]
          },
          "metadata": {},
          "execution_count": 27
        }
      ]
    },
    {
      "cell_type": "code",
      "source": [
        "mtx"
      ],
      "metadata": {
        "colab": {
          "base_uri": "https://localhost:8080/"
        },
        "id": "MNjk-w_lkju3",
        "outputId": "66966462-5cd2-434f-f7ed-6881d41c69c3"
      },
      "execution_count": 29,
      "outputs": [
        {
          "output_type": "execute_result",
          "data": {
            "text/plain": [
              "array([[ 0.43864334,  1.03584874,  0.69061327],\n",
              "       [ 0.33140365, -1.89335108,  1.63077544],\n",
              "       [ 0.11446569,  0.14571492,  0.84613136]])"
            ]
          },
          "metadata": {},
          "execution_count": 29
        }
      ]
    },
    {
      "cell_type": "code",
      "source": [
        "mtx.T"
      ],
      "metadata": {
        "colab": {
          "base_uri": "https://localhost:8080/"
        },
        "id": "cYmTN7wfkff8",
        "outputId": "9867c797-cb9f-4fe0-cbb0-279f40f570d8"
      },
      "execution_count": 28,
      "outputs": [
        {
          "output_type": "execute_result",
          "data": {
            "text/plain": [
              "array([[ 0.43864334,  0.33140365,  0.11446569],\n",
              "       [ 1.03584874, -1.89335108,  0.14571492],\n",
              "       [ 0.69061327,  1.63077544,  0.84613136]])"
            ]
          },
          "metadata": {},
          "execution_count": 28
        }
      ]
    },
    {
      "cell_type": "markdown",
      "source": [
        "# Máscaras"
      ],
      "metadata": {
        "id": "dDKjTx1fkyFa"
      }
    },
    {
      "cell_type": "markdown",
      "source": [
        "Máscara é como um filtro que usamos para escolher apenas os elementos que queremos de uma array."
      ],
      "metadata": {
        "id": "hPuw1Ppjk6-6"
      }
    },
    {
      "cell_type": "markdown",
      "source": [
        "## Exemplo usando lista\n",
        "No exemplos abaixo, eu quero coletar apenas o segundo elemento e o último. Logo, passo uma lista com elemento em False para os que eu não quero, e True para os que desejo coletar."
      ],
      "metadata": {
        "id": "iFxkis2mmXjX"
      }
    },
    {
      "cell_type": "code",
      "source": [
        "a = np.array((1, 2, 3, 4))"
      ],
      "metadata": {
        "id": "-qNCPbEel3JK"
      },
      "execution_count": 31,
      "outputs": []
    },
    {
      "cell_type": "code",
      "source": [
        "a[[False, True, False, True]]"
      ],
      "metadata": {
        "colab": {
          "base_uri": "https://localhost:8080/"
        },
        "id": "0w9kb4tDl_6W",
        "outputId": "d3bace25-dd32-4462-ecd4-acbd831ab345"
      },
      "execution_count": 32,
      "outputs": [
        {
          "output_type": "execute_result",
          "data": {
            "text/plain": [
              "array([2, 4])"
            ]
          },
          "metadata": {},
          "execution_count": 32
        }
      ]
    },
    {
      "cell_type": "markdown",
      "source": [
        "## Criando uma máscara para coletar elementos"
      ],
      "metadata": {
        "id": "zPSuhL0pnHm_"
      }
    },
    {
      "cell_type": "markdown",
      "source": [
        "No exemplo abaixo, desejo coletar os elementos maiores ou iguais a 3."
      ],
      "metadata": {
        "id": "bFUS9aPgnOWS"
      }
    },
    {
      "cell_type": "code",
      "source": [
        "a >= 3"
      ],
      "metadata": {
        "colab": {
          "base_uri": "https://localhost:8080/"
        },
        "id": "9u2Qdi4Em5xr",
        "outputId": "487e900b-f59b-4171-f3a3-ba87afd559df"
      },
      "execution_count": 33,
      "outputs": [
        {
          "output_type": "execute_result",
          "data": {
            "text/plain": [
              "array([False, False,  True,  True])"
            ]
          },
          "metadata": {},
          "execution_count": 33
        }
      ]
    },
    {
      "cell_type": "code",
      "source": [
        "a[a >= 3]"
      ],
      "metadata": {
        "colab": {
          "base_uri": "https://localhost:8080/"
        },
        "id": "Oc0v-McpnVQY",
        "outputId": "6e3fb65e-248a-4e15-ea88-4eefc1bce179"
      },
      "execution_count": 34,
      "outputs": [
        {
          "output_type": "execute_result",
          "data": {
            "text/plain": [
              "array([3, 4])"
            ]
          },
          "metadata": {},
          "execution_count": 34
        }
      ]
    },
    {
      "cell_type": "markdown",
      "source": [
        "## Retornando apenas os pares"
      ],
      "metadata": {
        "id": "pd37DgGFnfBg"
      }
    },
    {
      "cell_type": "code",
      "source": [
        "a [a % 2 == 0]"
      ],
      "metadata": {
        "colab": {
          "base_uri": "https://localhost:8080/"
        },
        "id": "pZNqv2IfnifY",
        "outputId": "2f299b5d-6fae-4201-8b0d-1cc85cefa958"
      },
      "execution_count": 35,
      "outputs": [
        {
          "output_type": "execute_result",
          "data": {
            "text/plain": [
              "array([2, 4])"
            ]
          },
          "metadata": {},
          "execution_count": 35
        }
      ]
    }
  ]
}