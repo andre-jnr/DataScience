{
 "cells": [
  {
   "cell_type": "code",
   "execution_count": 5,
   "metadata": {},
   "outputs": [],
   "source": [
    "import pandas as pd\n",
    "import exercise02 as ex"
   ]
  },
  {
   "cell_type": "code",
   "execution_count": 11,
   "metadata": {},
   "outputs": [],
   "source": [
    "datas = [\n",
    "    [846, 'Mason', 21, 'Forward', 'RealMadrid'],\n",
    "    [749, 'Riley', 30, 'Winger', 'Barcelona'],\n",
    "    [155, 'Bob', 28, 'Striker', 'ManchesterUnited'],\n",
    "    [583, 'Isabella', 32, 'Goalkeeper', 'Liverpool'],\n",
    "    [388, 'Zachary', 24, 'Midfielder', 'BayernMunich'],\n",
    "    [883, 'Ava', 23, 'Defender', 'Chelsea'],\n",
    "    [355, 'Violet', 18, 'Striker', 'Juventus'],\n",
    "    [247, 'Thomas', 27, 'Striker', 'ParisSaint-Germain'],\n",
    "    [761, 'Jack', 33, 'Midfielder', 'ManchesterCity'],\n",
    "    [642, 'Charlie', 36, 'Center-back', 'Arsenal']\n",
    "]"
   ]
  },
  {
   "cell_type": "code",
   "execution_count": 12,
   "metadata": {},
   "outputs": [],
   "source": [
    "players = pd.DataFrame(datas, columns=['player_id', 'name', 'age', 'position', 'teams'])"
   ]
  },
  {
   "cell_type": "code",
   "execution_count": 13,
   "metadata": {},
   "outputs": [
    {
     "data": {
      "text/html": [
       "<div>\n",
       "<style scoped>\n",
       "    .dataframe tbody tr th:only-of-type {\n",
       "        vertical-align: middle;\n",
       "    }\n",
       "\n",
       "    .dataframe tbody tr th {\n",
       "        vertical-align: top;\n",
       "    }\n",
       "\n",
       "    .dataframe thead th {\n",
       "        text-align: right;\n",
       "    }\n",
       "</style>\n",
       "<table border=\"1\" class=\"dataframe\">\n",
       "  <thead>\n",
       "    <tr style=\"text-align: right;\">\n",
       "      <th></th>\n",
       "      <th>player_id</th>\n",
       "      <th>name</th>\n",
       "      <th>age</th>\n",
       "      <th>position</th>\n",
       "      <th>teams</th>\n",
       "    </tr>\n",
       "  </thead>\n",
       "  <tbody>\n",
       "    <tr>\n",
       "      <th>0</th>\n",
       "      <td>846</td>\n",
       "      <td>Mason</td>\n",
       "      <td>21</td>\n",
       "      <td>Forward</td>\n",
       "      <td>RealMadrid</td>\n",
       "    </tr>\n",
       "    <tr>\n",
       "      <th>1</th>\n",
       "      <td>749</td>\n",
       "      <td>Riley</td>\n",
       "      <td>30</td>\n",
       "      <td>Winger</td>\n",
       "      <td>Barcelona</td>\n",
       "    </tr>\n",
       "    <tr>\n",
       "      <th>2</th>\n",
       "      <td>155</td>\n",
       "      <td>Bob</td>\n",
       "      <td>28</td>\n",
       "      <td>Striker</td>\n",
       "      <td>ManchesterUnited</td>\n",
       "    </tr>\n",
       "    <tr>\n",
       "      <th>3</th>\n",
       "      <td>583</td>\n",
       "      <td>Isabella</td>\n",
       "      <td>32</td>\n",
       "      <td>Goalkeeper</td>\n",
       "      <td>Liverpool</td>\n",
       "    </tr>\n",
       "    <tr>\n",
       "      <th>4</th>\n",
       "      <td>388</td>\n",
       "      <td>Zachary</td>\n",
       "      <td>24</td>\n",
       "      <td>Midfielder</td>\n",
       "      <td>BayernMunich</td>\n",
       "    </tr>\n",
       "    <tr>\n",
       "      <th>5</th>\n",
       "      <td>883</td>\n",
       "      <td>Ava</td>\n",
       "      <td>23</td>\n",
       "      <td>Defender</td>\n",
       "      <td>Chelsea</td>\n",
       "    </tr>\n",
       "    <tr>\n",
       "      <th>6</th>\n",
       "      <td>355</td>\n",
       "      <td>Violet</td>\n",
       "      <td>18</td>\n",
       "      <td>Striker</td>\n",
       "      <td>Juventus</td>\n",
       "    </tr>\n",
       "    <tr>\n",
       "      <th>7</th>\n",
       "      <td>247</td>\n",
       "      <td>Thomas</td>\n",
       "      <td>27</td>\n",
       "      <td>Striker</td>\n",
       "      <td>ParisSaint-Germain</td>\n",
       "    </tr>\n",
       "    <tr>\n",
       "      <th>8</th>\n",
       "      <td>761</td>\n",
       "      <td>Jack</td>\n",
       "      <td>33</td>\n",
       "      <td>Midfielder</td>\n",
       "      <td>ManchesterCity</td>\n",
       "    </tr>\n",
       "    <tr>\n",
       "      <th>9</th>\n",
       "      <td>642</td>\n",
       "      <td>Charlie</td>\n",
       "      <td>36</td>\n",
       "      <td>Center-back</td>\n",
       "      <td>Arsenal</td>\n",
       "    </tr>\n",
       "  </tbody>\n",
       "</table>\n",
       "</div>"
      ],
      "text/plain": [
       "   player_id      name  age     position               teams\n",
       "0        846     Mason   21      Forward          RealMadrid\n",
       "1        749     Riley   30       Winger           Barcelona\n",
       "2        155       Bob   28      Striker    ManchesterUnited\n",
       "3        583  Isabella   32   Goalkeeper           Liverpool\n",
       "4        388   Zachary   24   Midfielder        BayernMunich\n",
       "5        883       Ava   23     Defender             Chelsea\n",
       "6        355    Violet   18      Striker            Juventus\n",
       "7        247    Thomas   27      Striker  ParisSaint-Germain\n",
       "8        761      Jack   33   Midfielder      ManchesterCity\n",
       "9        642   Charlie   36  Center-back             Arsenal"
      ]
     },
     "execution_count": 13,
     "metadata": {},
     "output_type": "execute_result"
    }
   ],
   "source": [
    "players"
   ]
  },
  {
   "cell_type": "code",
   "execution_count": 14,
   "metadata": {},
   "outputs": [
    {
     "data": {
      "text/plain": [
       "[10, 5]"
      ]
     },
     "execution_count": 14,
     "metadata": {},
     "output_type": "execute_result"
    }
   ],
   "source": [
    "ex.getDataframeSize(players)"
   ]
  }
 ],
 "metadata": {
  "kernelspec": {
   "display_name": "Python 3",
   "language": "python",
   "name": "python3"
  },
  "language_info": {
   "codemirror_mode": {
    "name": "ipython",
    "version": 3
   },
   "file_extension": ".py",
   "mimetype": "text/x-python",
   "name": "python",
   "nbconvert_exporter": "python",
   "pygments_lexer": "ipython3",
   "version": "3.11.7"
  }
 },
 "nbformat": 4,
 "nbformat_minor": 2
}
