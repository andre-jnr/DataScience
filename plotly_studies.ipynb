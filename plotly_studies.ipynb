{
 "cells": [
  {
   "cell_type": "markdown",
   "metadata": {},
   "source": [
    "# Plotly\n",
    "\n",
    "O Plotly é uma biblioteca Python amplamente utilizada para visualização de dados interativa e gráficos. Ela oferece uma variedade de recursos para criar gráficos interativos e personalizados, permitindo que os desenvolvedores e cientistas de dados criem visualizações atraentes e informativas\n",
    "\n",
    "[Acesse a documentação oficial.](https://plotly.com/)"
   ]
  },
  {
   "cell_type": "markdown",
   "metadata": {},
   "source": [
    "## Para instalar"
   ]
  },
  {
   "cell_type": "markdown",
   "metadata": {},
   "source": [
    "``` python'1\n",
    "pip install -U plotly\n",
    "```"
   ]
  },
  {
   "cell_type": "markdown",
   "metadata": {},
   "source": [
    "## Importação de bibliotecas"
   ]
  },
  {
   "cell_type": "code",
   "execution_count": 10,
   "metadata": {},
   "outputs": [],
   "source": [
    "import numpy as np\n",
    "import pandas as pd\n",
    "import plotly.express as px"
   ]
  },
  {
   "cell_type": "code",
   "execution_count": 7,
   "metadata": {},
   "outputs": [
    {
     "data": {
      "application/vnd.plotly.v1+json": {
       "config": {
        "plotlyServerURL": "https://plot.ly"
       },
       "data": [
        {
         "hovertemplate": "x=%{x}<br>y=%{y}<extra></extra>",
         "legendgroup": "",
         "line": {
          "color": "#636efa",
          "dash": "solid"
         },
         "marker": {
          "symbol": "circle"
         },
         "mode": "lines",
         "name": "",
         "orientation": "v",
         "showlegend": false,
         "type": "scatter",
         "x": [
          1,
          2,
          3,
          4,
          5
         ],
         "xaxis": "x",
         "y": [
          10,
          40,
          20,
          50,
          5
         ],
         "yaxis": "y"
        }
       ],
       "layout": {
        "legend": {
         "tracegroupgap": 0
        },
        "margin": {
         "t": 60
        },
        "template": {
         "data": {
          "bar": [
           {
            "error_x": {
             "color": "#2a3f5f"
            },
            "error_y": {
             "color": "#2a3f5f"
            },
            "marker": {
             "line": {
              "color": "#E5ECF6",
              "width": 0.5
             },
             "pattern": {
              "fillmode": "overlay",
              "size": 10,
              "solidity": 0.2
             }
            },
            "type": "bar"
           }
          ],
          "barpolar": [
           {
            "marker": {
             "line": {
              "color": "#E5ECF6",
              "width": 0.5
             },
             "pattern": {
              "fillmode": "overlay",
              "size": 10,
              "solidity": 0.2
             }
            },
            "type": "barpolar"
           }
          ],
          "carpet": [
           {
            "aaxis": {
             "endlinecolor": "#2a3f5f",
             "gridcolor": "white",
             "linecolor": "white",
             "minorgridcolor": "white",
             "startlinecolor": "#2a3f5f"
            },
            "baxis": {
             "endlinecolor": "#2a3f5f",
             "gridcolor": "white",
             "linecolor": "white",
             "minorgridcolor": "white",
             "startlinecolor": "#2a3f5f"
            },
            "type": "carpet"
           }
          ],
          "choropleth": [
           {
            "colorbar": {
             "outlinewidth": 0,
             "ticks": ""
            },
            "type": "choropleth"
           }
          ],
          "contour": [
           {
            "colorbar": {
             "outlinewidth": 0,
             "ticks": ""
            },
            "colorscale": [
             [
              0,
              "#0d0887"
             ],
             [
              0.1111111111111111,
              "#46039f"
             ],
             [
              0.2222222222222222,
              "#7201a8"
             ],
             [
              0.3333333333333333,
              "#9c179e"
             ],
             [
              0.4444444444444444,
              "#bd3786"
             ],
             [
              0.5555555555555556,
              "#d8576b"
             ],
             [
              0.6666666666666666,
              "#ed7953"
             ],
             [
              0.7777777777777778,
              "#fb9f3a"
             ],
             [
              0.8888888888888888,
              "#fdca26"
             ],
             [
              1,
              "#f0f921"
             ]
            ],
            "type": "contour"
           }
          ],
          "contourcarpet": [
           {
            "colorbar": {
             "outlinewidth": 0,
             "ticks": ""
            },
            "type": "contourcarpet"
           }
          ],
          "heatmap": [
           {
            "colorbar": {
             "outlinewidth": 0,
             "ticks": ""
            },
            "colorscale": [
             [
              0,
              "#0d0887"
             ],
             [
              0.1111111111111111,
              "#46039f"
             ],
             [
              0.2222222222222222,
              "#7201a8"
             ],
             [
              0.3333333333333333,
              "#9c179e"
             ],
             [
              0.4444444444444444,
              "#bd3786"
             ],
             [
              0.5555555555555556,
              "#d8576b"
             ],
             [
              0.6666666666666666,
              "#ed7953"
             ],
             [
              0.7777777777777778,
              "#fb9f3a"
             ],
             [
              0.8888888888888888,
              "#fdca26"
             ],
             [
              1,
              "#f0f921"
             ]
            ],
            "type": "heatmap"
           }
          ],
          "heatmapgl": [
           {
            "colorbar": {
             "outlinewidth": 0,
             "ticks": ""
            },
            "colorscale": [
             [
              0,
              "#0d0887"
             ],
             [
              0.1111111111111111,
              "#46039f"
             ],
             [
              0.2222222222222222,
              "#7201a8"
             ],
             [
              0.3333333333333333,
              "#9c179e"
             ],
             [
              0.4444444444444444,
              "#bd3786"
             ],
             [
              0.5555555555555556,
              "#d8576b"
             ],
             [
              0.6666666666666666,
              "#ed7953"
             ],
             [
              0.7777777777777778,
              "#fb9f3a"
             ],
             [
              0.8888888888888888,
              "#fdca26"
             ],
             [
              1,
              "#f0f921"
             ]
            ],
            "type": "heatmapgl"
           }
          ],
          "histogram": [
           {
            "marker": {
             "pattern": {
              "fillmode": "overlay",
              "size": 10,
              "solidity": 0.2
             }
            },
            "type": "histogram"
           }
          ],
          "histogram2d": [
           {
            "colorbar": {
             "outlinewidth": 0,
             "ticks": ""
            },
            "colorscale": [
             [
              0,
              "#0d0887"
             ],
             [
              0.1111111111111111,
              "#46039f"
             ],
             [
              0.2222222222222222,
              "#7201a8"
             ],
             [
              0.3333333333333333,
              "#9c179e"
             ],
             [
              0.4444444444444444,
              "#bd3786"
             ],
             [
              0.5555555555555556,
              "#d8576b"
             ],
             [
              0.6666666666666666,
              "#ed7953"
             ],
             [
              0.7777777777777778,
              "#fb9f3a"
             ],
             [
              0.8888888888888888,
              "#fdca26"
             ],
             [
              1,
              "#f0f921"
             ]
            ],
            "type": "histogram2d"
           }
          ],
          "histogram2dcontour": [
           {
            "colorbar": {
             "outlinewidth": 0,
             "ticks": ""
            },
            "colorscale": [
             [
              0,
              "#0d0887"
             ],
             [
              0.1111111111111111,
              "#46039f"
             ],
             [
              0.2222222222222222,
              "#7201a8"
             ],
             [
              0.3333333333333333,
              "#9c179e"
             ],
             [
              0.4444444444444444,
              "#bd3786"
             ],
             [
              0.5555555555555556,
              "#d8576b"
             ],
             [
              0.6666666666666666,
              "#ed7953"
             ],
             [
              0.7777777777777778,
              "#fb9f3a"
             ],
             [
              0.8888888888888888,
              "#fdca26"
             ],
             [
              1,
              "#f0f921"
             ]
            ],
            "type": "histogram2dcontour"
           }
          ],
          "mesh3d": [
           {
            "colorbar": {
             "outlinewidth": 0,
             "ticks": ""
            },
            "type": "mesh3d"
           }
          ],
          "parcoords": [
           {
            "line": {
             "colorbar": {
              "outlinewidth": 0,
              "ticks": ""
             }
            },
            "type": "parcoords"
           }
          ],
          "pie": [
           {
            "automargin": true,
            "type": "pie"
           }
          ],
          "scatter": [
           {
            "fillpattern": {
             "fillmode": "overlay",
             "size": 10,
             "solidity": 0.2
            },
            "type": "scatter"
           }
          ],
          "scatter3d": [
           {
            "line": {
             "colorbar": {
              "outlinewidth": 0,
              "ticks": ""
             }
            },
            "marker": {
             "colorbar": {
              "outlinewidth": 0,
              "ticks": ""
             }
            },
            "type": "scatter3d"
           }
          ],
          "scattercarpet": [
           {
            "marker": {
             "colorbar": {
              "outlinewidth": 0,
              "ticks": ""
             }
            },
            "type": "scattercarpet"
           }
          ],
          "scattergeo": [
           {
            "marker": {
             "colorbar": {
              "outlinewidth": 0,
              "ticks": ""
             }
            },
            "type": "scattergeo"
           }
          ],
          "scattergl": [
           {
            "marker": {
             "colorbar": {
              "outlinewidth": 0,
              "ticks": ""
             }
            },
            "type": "scattergl"
           }
          ],
          "scattermapbox": [
           {
            "marker": {
             "colorbar": {
              "outlinewidth": 0,
              "ticks": ""
             }
            },
            "type": "scattermapbox"
           }
          ],
          "scatterpolar": [
           {
            "marker": {
             "colorbar": {
              "outlinewidth": 0,
              "ticks": ""
             }
            },
            "type": "scatterpolar"
           }
          ],
          "scatterpolargl": [
           {
            "marker": {
             "colorbar": {
              "outlinewidth": 0,
              "ticks": ""
             }
            },
            "type": "scatterpolargl"
           }
          ],
          "scatterternary": [
           {
            "marker": {
             "colorbar": {
              "outlinewidth": 0,
              "ticks": ""
             }
            },
            "type": "scatterternary"
           }
          ],
          "surface": [
           {
            "colorbar": {
             "outlinewidth": 0,
             "ticks": ""
            },
            "colorscale": [
             [
              0,
              "#0d0887"
             ],
             [
              0.1111111111111111,
              "#46039f"
             ],
             [
              0.2222222222222222,
              "#7201a8"
             ],
             [
              0.3333333333333333,
              "#9c179e"
             ],
             [
              0.4444444444444444,
              "#bd3786"
             ],
             [
              0.5555555555555556,
              "#d8576b"
             ],
             [
              0.6666666666666666,
              "#ed7953"
             ],
             [
              0.7777777777777778,
              "#fb9f3a"
             ],
             [
              0.8888888888888888,
              "#fdca26"
             ],
             [
              1,
              "#f0f921"
             ]
            ],
            "type": "surface"
           }
          ],
          "table": [
           {
            "cells": {
             "fill": {
              "color": "#EBF0F8"
             },
             "line": {
              "color": "white"
             }
            },
            "header": {
             "fill": {
              "color": "#C8D4E3"
             },
             "line": {
              "color": "white"
             }
            },
            "type": "table"
           }
          ]
         },
         "layout": {
          "annotationdefaults": {
           "arrowcolor": "#2a3f5f",
           "arrowhead": 0,
           "arrowwidth": 1
          },
          "autotypenumbers": "strict",
          "coloraxis": {
           "colorbar": {
            "outlinewidth": 0,
            "ticks": ""
           }
          },
          "colorscale": {
           "diverging": [
            [
             0,
             "#8e0152"
            ],
            [
             0.1,
             "#c51b7d"
            ],
            [
             0.2,
             "#de77ae"
            ],
            [
             0.3,
             "#f1b6da"
            ],
            [
             0.4,
             "#fde0ef"
            ],
            [
             0.5,
             "#f7f7f7"
            ],
            [
             0.6,
             "#e6f5d0"
            ],
            [
             0.7,
             "#b8e186"
            ],
            [
             0.8,
             "#7fbc41"
            ],
            [
             0.9,
             "#4d9221"
            ],
            [
             1,
             "#276419"
            ]
           ],
           "sequential": [
            [
             0,
             "#0d0887"
            ],
            [
             0.1111111111111111,
             "#46039f"
            ],
            [
             0.2222222222222222,
             "#7201a8"
            ],
            [
             0.3333333333333333,
             "#9c179e"
            ],
            [
             0.4444444444444444,
             "#bd3786"
            ],
            [
             0.5555555555555556,
             "#d8576b"
            ],
            [
             0.6666666666666666,
             "#ed7953"
            ],
            [
             0.7777777777777778,
             "#fb9f3a"
            ],
            [
             0.8888888888888888,
             "#fdca26"
            ],
            [
             1,
             "#f0f921"
            ]
           ],
           "sequentialminus": [
            [
             0,
             "#0d0887"
            ],
            [
             0.1111111111111111,
             "#46039f"
            ],
            [
             0.2222222222222222,
             "#7201a8"
            ],
            [
             0.3333333333333333,
             "#9c179e"
            ],
            [
             0.4444444444444444,
             "#bd3786"
            ],
            [
             0.5555555555555556,
             "#d8576b"
            ],
            [
             0.6666666666666666,
             "#ed7953"
            ],
            [
             0.7777777777777778,
             "#fb9f3a"
            ],
            [
             0.8888888888888888,
             "#fdca26"
            ],
            [
             1,
             "#f0f921"
            ]
           ]
          },
          "colorway": [
           "#636efa",
           "#EF553B",
           "#00cc96",
           "#ab63fa",
           "#FFA15A",
           "#19d3f3",
           "#FF6692",
           "#B6E880",
           "#FF97FF",
           "#FECB52"
          ],
          "font": {
           "color": "#2a3f5f"
          },
          "geo": {
           "bgcolor": "white",
           "lakecolor": "white",
           "landcolor": "#E5ECF6",
           "showlakes": true,
           "showland": true,
           "subunitcolor": "white"
          },
          "hoverlabel": {
           "align": "left"
          },
          "hovermode": "closest",
          "mapbox": {
           "style": "light"
          },
          "paper_bgcolor": "white",
          "plot_bgcolor": "#E5ECF6",
          "polar": {
           "angularaxis": {
            "gridcolor": "white",
            "linecolor": "white",
            "ticks": ""
           },
           "bgcolor": "#E5ECF6",
           "radialaxis": {
            "gridcolor": "white",
            "linecolor": "white",
            "ticks": ""
           }
          },
          "scene": {
           "xaxis": {
            "backgroundcolor": "#E5ECF6",
            "gridcolor": "white",
            "gridwidth": 2,
            "linecolor": "white",
            "showbackground": true,
            "ticks": "",
            "zerolinecolor": "white"
           },
           "yaxis": {
            "backgroundcolor": "#E5ECF6",
            "gridcolor": "white",
            "gridwidth": 2,
            "linecolor": "white",
            "showbackground": true,
            "ticks": "",
            "zerolinecolor": "white"
           },
           "zaxis": {
            "backgroundcolor": "#E5ECF6",
            "gridcolor": "white",
            "gridwidth": 2,
            "linecolor": "white",
            "showbackground": true,
            "ticks": "",
            "zerolinecolor": "white"
           }
          },
          "shapedefaults": {
           "line": {
            "color": "#2a3f5f"
           }
          },
          "ternary": {
           "aaxis": {
            "gridcolor": "white",
            "linecolor": "white",
            "ticks": ""
           },
           "baxis": {
            "gridcolor": "white",
            "linecolor": "white",
            "ticks": ""
           },
           "bgcolor": "#E5ECF6",
           "caxis": {
            "gridcolor": "white",
            "linecolor": "white",
            "ticks": ""
           }
          },
          "title": {
           "x": 0.05
          },
          "xaxis": {
           "automargin": true,
           "gridcolor": "white",
           "linecolor": "white",
           "ticks": "",
           "title": {
            "standoff": 15
           },
           "zerolinecolor": "white",
           "zerolinewidth": 2
          },
          "yaxis": {
           "automargin": true,
           "gridcolor": "white",
           "linecolor": "white",
           "ticks": "",
           "title": {
            "standoff": 15
           },
           "zerolinecolor": "white",
           "zerolinewidth": 2
          }
         }
        },
        "xaxis": {
         "anchor": "y",
         "domain": [
          0,
          1
         ],
         "title": {
          "text": "x"
         }
        },
        "yaxis": {
         "anchor": "x",
         "domain": [
          0,
          1
         ],
         "title": {
          "text": "y"
         }
        }
       }
      }
     },
     "metadata": {},
     "output_type": "display_data"
    }
   ],
   "source": [
    "px.line(x=[1, 2, 3, 4, 5], y=[10, 40, 20, 50, 5])"
   ]
  },
  {
   "cell_type": "markdown",
   "metadata": {},
   "source": [
    "## Utilizado um DataFrame"
   ]
  },
  {
   "cell_type": "code",
   "execution_count": 8,
   "metadata": {},
   "outputs": [],
   "source": [
    "df = pd.read_csv('https://raw.githubusercontent.com/mwaskom/seaborn-data/master/flights.csv')"
   ]
  },
  {
   "cell_type": "code",
   "execution_count": 9,
   "metadata": {},
   "outputs": [
    {
     "data": {
      "text/html": [
       "<div>\n",
       "<style scoped>\n",
       "    .dataframe tbody tr th:only-of-type {\n",
       "        vertical-align: middle;\n",
       "    }\n",
       "\n",
       "    .dataframe tbody tr th {\n",
       "        vertical-align: top;\n",
       "    }\n",
       "\n",
       "    .dataframe thead th {\n",
       "        text-align: right;\n",
       "    }\n",
       "</style>\n",
       "<table border=\"1\" class=\"dataframe\">\n",
       "  <thead>\n",
       "    <tr style=\"text-align: right;\">\n",
       "      <th></th>\n",
       "      <th>year</th>\n",
       "      <th>month</th>\n",
       "      <th>passengers</th>\n",
       "    </tr>\n",
       "  </thead>\n",
       "  <tbody>\n",
       "    <tr>\n",
       "      <th>0</th>\n",
       "      <td>1949</td>\n",
       "      <td>January</td>\n",
       "      <td>112</td>\n",
       "    </tr>\n",
       "    <tr>\n",
       "      <th>1</th>\n",
       "      <td>1949</td>\n",
       "      <td>February</td>\n",
       "      <td>118</td>\n",
       "    </tr>\n",
       "    <tr>\n",
       "      <th>2</th>\n",
       "      <td>1949</td>\n",
       "      <td>March</td>\n",
       "      <td>132</td>\n",
       "    </tr>\n",
       "    <tr>\n",
       "      <th>3</th>\n",
       "      <td>1949</td>\n",
       "      <td>April</td>\n",
       "      <td>129</td>\n",
       "    </tr>\n",
       "    <tr>\n",
       "      <th>4</th>\n",
       "      <td>1949</td>\n",
       "      <td>May</td>\n",
       "      <td>121</td>\n",
       "    </tr>\n",
       "  </tbody>\n",
       "</table>\n",
       "</div>"
      ],
      "text/plain": [
       "   year     month  passengers\n",
       "0  1949   January         112\n",
       "1  1949  February         118\n",
       "2  1949     March         132\n",
       "3  1949     April         129\n",
       "4  1949       May         121"
      ]
     },
     "execution_count": 9,
     "metadata": {},
     "output_type": "execute_result"
    }
   ],
   "source": [
    "df.head()"
   ]
  },
  {
   "cell_type": "code",
   "execution_count": 10,
   "metadata": {},
   "outputs": [
    {
     "data": {
      "text/html": [
       "<div>\n",
       "<style scoped>\n",
       "    .dataframe tbody tr th:only-of-type {\n",
       "        vertical-align: middle;\n",
       "    }\n",
       "\n",
       "    .dataframe tbody tr th {\n",
       "        vertical-align: top;\n",
       "    }\n",
       "\n",
       "    .dataframe thead th {\n",
       "        text-align: right;\n",
       "    }\n",
       "</style>\n",
       "<table border=\"1\" class=\"dataframe\">\n",
       "  <thead>\n",
       "    <tr style=\"text-align: right;\">\n",
       "      <th></th>\n",
       "      <th>year</th>\n",
       "      <th>month</th>\n",
       "      <th>passengers</th>\n",
       "    </tr>\n",
       "  </thead>\n",
       "  <tbody>\n",
       "    <tr>\n",
       "      <th>139</th>\n",
       "      <td>1960</td>\n",
       "      <td>August</td>\n",
       "      <td>606</td>\n",
       "    </tr>\n",
       "    <tr>\n",
       "      <th>140</th>\n",
       "      <td>1960</td>\n",
       "      <td>September</td>\n",
       "      <td>508</td>\n",
       "    </tr>\n",
       "    <tr>\n",
       "      <th>141</th>\n",
       "      <td>1960</td>\n",
       "      <td>October</td>\n",
       "      <td>461</td>\n",
       "    </tr>\n",
       "    <tr>\n",
       "      <th>142</th>\n",
       "      <td>1960</td>\n",
       "      <td>November</td>\n",
       "      <td>390</td>\n",
       "    </tr>\n",
       "    <tr>\n",
       "      <th>143</th>\n",
       "      <td>1960</td>\n",
       "      <td>December</td>\n",
       "      <td>432</td>\n",
       "    </tr>\n",
       "  </tbody>\n",
       "</table>\n",
       "</div>"
      ],
      "text/plain": [
       "     year      month  passengers\n",
       "139  1960     August         606\n",
       "140  1960  September         508\n",
       "141  1960    October         461\n",
       "142  1960   November         390\n",
       "143  1960   December         432"
      ]
     },
     "execution_count": 10,
     "metadata": {},
     "output_type": "execute_result"
    }
   ],
   "source": [
    "df.tail()"
   ]
  },
  {
   "cell_type": "code",
   "execution_count": 11,
   "metadata": {},
   "outputs": [],
   "source": [
    "df_agrupado_pelo_mes = df.groupby('month', sort=False).mean().reset_index()"
   ]
  },
  {
   "cell_type": "code",
   "execution_count": 12,
   "metadata": {},
   "outputs": [
    {
     "data": {
      "text/html": [
       "<div>\n",
       "<style scoped>\n",
       "    .dataframe tbody tr th:only-of-type {\n",
       "        vertical-align: middle;\n",
       "    }\n",
       "\n",
       "    .dataframe tbody tr th {\n",
       "        vertical-align: top;\n",
       "    }\n",
       "\n",
       "    .dataframe thead th {\n",
       "        text-align: right;\n",
       "    }\n",
       "</style>\n",
       "<table border=\"1\" class=\"dataframe\">\n",
       "  <thead>\n",
       "    <tr style=\"text-align: right;\">\n",
       "      <th></th>\n",
       "      <th>month</th>\n",
       "      <th>year</th>\n",
       "      <th>passengers</th>\n",
       "    </tr>\n",
       "  </thead>\n",
       "  <tbody>\n",
       "    <tr>\n",
       "      <th>0</th>\n",
       "      <td>January</td>\n",
       "      <td>1954.5</td>\n",
       "      <td>241.750000</td>\n",
       "    </tr>\n",
       "    <tr>\n",
       "      <th>1</th>\n",
       "      <td>February</td>\n",
       "      <td>1954.5</td>\n",
       "      <td>235.000000</td>\n",
       "    </tr>\n",
       "    <tr>\n",
       "      <th>2</th>\n",
       "      <td>March</td>\n",
       "      <td>1954.5</td>\n",
       "      <td>270.166667</td>\n",
       "    </tr>\n",
       "    <tr>\n",
       "      <th>3</th>\n",
       "      <td>April</td>\n",
       "      <td>1954.5</td>\n",
       "      <td>267.083333</td>\n",
       "    </tr>\n",
       "    <tr>\n",
       "      <th>4</th>\n",
       "      <td>May</td>\n",
       "      <td>1954.5</td>\n",
       "      <td>271.833333</td>\n",
       "    </tr>\n",
       "  </tbody>\n",
       "</table>\n",
       "</div>"
      ],
      "text/plain": [
       "      month    year  passengers\n",
       "0   January  1954.5  241.750000\n",
       "1  February  1954.5  235.000000\n",
       "2     March  1954.5  270.166667\n",
       "3     April  1954.5  267.083333\n",
       "4       May  1954.5  271.833333"
      ]
     },
     "execution_count": 12,
     "metadata": {},
     "output_type": "execute_result"
    }
   ],
   "source": [
    "df_agrupado_pelo_mes.head()"
   ]
  },
  {
   "cell_type": "code",
   "execution_count": 13,
   "metadata": {},
   "outputs": [
    {
     "data": {
      "application/vnd.plotly.v1+json": {
       "config": {
        "plotlyServerURL": "https://plot.ly"
       },
       "data": [
        {
         "hovertemplate": "month=%{x}<br>passengers=%{y}<extra></extra>",
         "legendgroup": "",
         "line": {
          "color": "#636efa",
          "dash": "solid"
         },
         "marker": {
          "symbol": "circle"
         },
         "mode": "lines",
         "name": "",
         "orientation": "v",
         "showlegend": false,
         "type": "scatter",
         "x": [
          "January",
          "February",
          "March",
          "April",
          "May",
          "June",
          "July",
          "August",
          "September",
          "October",
          "November",
          "December"
         ],
         "xaxis": "x",
         "y": [
          241.75,
          235,
          270.1666666666667,
          267.0833333333333,
          271.8333333333333,
          311.6666666666667,
          351.3333333333333,
          351.0833333333333,
          302.4166666666667,
          266.5833333333333,
          232.83333333333334,
          261.8333333333333
         ],
         "yaxis": "y"
        }
       ],
       "layout": {
        "legend": {
         "tracegroupgap": 0
        },
        "margin": {
         "t": 60
        },
        "template": {
         "data": {
          "bar": [
           {
            "error_x": {
             "color": "#2a3f5f"
            },
            "error_y": {
             "color": "#2a3f5f"
            },
            "marker": {
             "line": {
              "color": "#E5ECF6",
              "width": 0.5
             },
             "pattern": {
              "fillmode": "overlay",
              "size": 10,
              "solidity": 0.2
             }
            },
            "type": "bar"
           }
          ],
          "barpolar": [
           {
            "marker": {
             "line": {
              "color": "#E5ECF6",
              "width": 0.5
             },
             "pattern": {
              "fillmode": "overlay",
              "size": 10,
              "solidity": 0.2
             }
            },
            "type": "barpolar"
           }
          ],
          "carpet": [
           {
            "aaxis": {
             "endlinecolor": "#2a3f5f",
             "gridcolor": "white",
             "linecolor": "white",
             "minorgridcolor": "white",
             "startlinecolor": "#2a3f5f"
            },
            "baxis": {
             "endlinecolor": "#2a3f5f",
             "gridcolor": "white",
             "linecolor": "white",
             "minorgridcolor": "white",
             "startlinecolor": "#2a3f5f"
            },
            "type": "carpet"
           }
          ],
          "choropleth": [
           {
            "colorbar": {
             "outlinewidth": 0,
             "ticks": ""
            },
            "type": "choropleth"
           }
          ],
          "contour": [
           {
            "colorbar": {
             "outlinewidth": 0,
             "ticks": ""
            },
            "colorscale": [
             [
              0,
              "#0d0887"
             ],
             [
              0.1111111111111111,
              "#46039f"
             ],
             [
              0.2222222222222222,
              "#7201a8"
             ],
             [
              0.3333333333333333,
              "#9c179e"
             ],
             [
              0.4444444444444444,
              "#bd3786"
             ],
             [
              0.5555555555555556,
              "#d8576b"
             ],
             [
              0.6666666666666666,
              "#ed7953"
             ],
             [
              0.7777777777777778,
              "#fb9f3a"
             ],
             [
              0.8888888888888888,
              "#fdca26"
             ],
             [
              1,
              "#f0f921"
             ]
            ],
            "type": "contour"
           }
          ],
          "contourcarpet": [
           {
            "colorbar": {
             "outlinewidth": 0,
             "ticks": ""
            },
            "type": "contourcarpet"
           }
          ],
          "heatmap": [
           {
            "colorbar": {
             "outlinewidth": 0,
             "ticks": ""
            },
            "colorscale": [
             [
              0,
              "#0d0887"
             ],
             [
              0.1111111111111111,
              "#46039f"
             ],
             [
              0.2222222222222222,
              "#7201a8"
             ],
             [
              0.3333333333333333,
              "#9c179e"
             ],
             [
              0.4444444444444444,
              "#bd3786"
             ],
             [
              0.5555555555555556,
              "#d8576b"
             ],
             [
              0.6666666666666666,
              "#ed7953"
             ],
             [
              0.7777777777777778,
              "#fb9f3a"
             ],
             [
              0.8888888888888888,
              "#fdca26"
             ],
             [
              1,
              "#f0f921"
             ]
            ],
            "type": "heatmap"
           }
          ],
          "heatmapgl": [
           {
            "colorbar": {
             "outlinewidth": 0,
             "ticks": ""
            },
            "colorscale": [
             [
              0,
              "#0d0887"
             ],
             [
              0.1111111111111111,
              "#46039f"
             ],
             [
              0.2222222222222222,
              "#7201a8"
             ],
             [
              0.3333333333333333,
              "#9c179e"
             ],
             [
              0.4444444444444444,
              "#bd3786"
             ],
             [
              0.5555555555555556,
              "#d8576b"
             ],
             [
              0.6666666666666666,
              "#ed7953"
             ],
             [
              0.7777777777777778,
              "#fb9f3a"
             ],
             [
              0.8888888888888888,
              "#fdca26"
             ],
             [
              1,
              "#f0f921"
             ]
            ],
            "type": "heatmapgl"
           }
          ],
          "histogram": [
           {
            "marker": {
             "pattern": {
              "fillmode": "overlay",
              "size": 10,
              "solidity": 0.2
             }
            },
            "type": "histogram"
           }
          ],
          "histogram2d": [
           {
            "colorbar": {
             "outlinewidth": 0,
             "ticks": ""
            },
            "colorscale": [
             [
              0,
              "#0d0887"
             ],
             [
              0.1111111111111111,
              "#46039f"
             ],
             [
              0.2222222222222222,
              "#7201a8"
             ],
             [
              0.3333333333333333,
              "#9c179e"
             ],
             [
              0.4444444444444444,
              "#bd3786"
             ],
             [
              0.5555555555555556,
              "#d8576b"
             ],
             [
              0.6666666666666666,
              "#ed7953"
             ],
             [
              0.7777777777777778,
              "#fb9f3a"
             ],
             [
              0.8888888888888888,
              "#fdca26"
             ],
             [
              1,
              "#f0f921"
             ]
            ],
            "type": "histogram2d"
           }
          ],
          "histogram2dcontour": [
           {
            "colorbar": {
             "outlinewidth": 0,
             "ticks": ""
            },
            "colorscale": [
             [
              0,
              "#0d0887"
             ],
             [
              0.1111111111111111,
              "#46039f"
             ],
             [
              0.2222222222222222,
              "#7201a8"
             ],
             [
              0.3333333333333333,
              "#9c179e"
             ],
             [
              0.4444444444444444,
              "#bd3786"
             ],
             [
              0.5555555555555556,
              "#d8576b"
             ],
             [
              0.6666666666666666,
              "#ed7953"
             ],
             [
              0.7777777777777778,
              "#fb9f3a"
             ],
             [
              0.8888888888888888,
              "#fdca26"
             ],
             [
              1,
              "#f0f921"
             ]
            ],
            "type": "histogram2dcontour"
           }
          ],
          "mesh3d": [
           {
            "colorbar": {
             "outlinewidth": 0,
             "ticks": ""
            },
            "type": "mesh3d"
           }
          ],
          "parcoords": [
           {
            "line": {
             "colorbar": {
              "outlinewidth": 0,
              "ticks": ""
             }
            },
            "type": "parcoords"
           }
          ],
          "pie": [
           {
            "automargin": true,
            "type": "pie"
           }
          ],
          "scatter": [
           {
            "fillpattern": {
             "fillmode": "overlay",
             "size": 10,
             "solidity": 0.2
            },
            "type": "scatter"
           }
          ],
          "scatter3d": [
           {
            "line": {
             "colorbar": {
              "outlinewidth": 0,
              "ticks": ""
             }
            },
            "marker": {
             "colorbar": {
              "outlinewidth": 0,
              "ticks": ""
             }
            },
            "type": "scatter3d"
           }
          ],
          "scattercarpet": [
           {
            "marker": {
             "colorbar": {
              "outlinewidth": 0,
              "ticks": ""
             }
            },
            "type": "scattercarpet"
           }
          ],
          "scattergeo": [
           {
            "marker": {
             "colorbar": {
              "outlinewidth": 0,
              "ticks": ""
             }
            },
            "type": "scattergeo"
           }
          ],
          "scattergl": [
           {
            "marker": {
             "colorbar": {
              "outlinewidth": 0,
              "ticks": ""
             }
            },
            "type": "scattergl"
           }
          ],
          "scattermapbox": [
           {
            "marker": {
             "colorbar": {
              "outlinewidth": 0,
              "ticks": ""
             }
            },
            "type": "scattermapbox"
           }
          ],
          "scatterpolar": [
           {
            "marker": {
             "colorbar": {
              "outlinewidth": 0,
              "ticks": ""
             }
            },
            "type": "scatterpolar"
           }
          ],
          "scatterpolargl": [
           {
            "marker": {
             "colorbar": {
              "outlinewidth": 0,
              "ticks": ""
             }
            },
            "type": "scatterpolargl"
           }
          ],
          "scatterternary": [
           {
            "marker": {
             "colorbar": {
              "outlinewidth": 0,
              "ticks": ""
             }
            },
            "type": "scatterternary"
           }
          ],
          "surface": [
           {
            "colorbar": {
             "outlinewidth": 0,
             "ticks": ""
            },
            "colorscale": [
             [
              0,
              "#0d0887"
             ],
             [
              0.1111111111111111,
              "#46039f"
             ],
             [
              0.2222222222222222,
              "#7201a8"
             ],
             [
              0.3333333333333333,
              "#9c179e"
             ],
             [
              0.4444444444444444,
              "#bd3786"
             ],
             [
              0.5555555555555556,
              "#d8576b"
             ],
             [
              0.6666666666666666,
              "#ed7953"
             ],
             [
              0.7777777777777778,
              "#fb9f3a"
             ],
             [
              0.8888888888888888,
              "#fdca26"
             ],
             [
              1,
              "#f0f921"
             ]
            ],
            "type": "surface"
           }
          ],
          "table": [
           {
            "cells": {
             "fill": {
              "color": "#EBF0F8"
             },
             "line": {
              "color": "white"
             }
            },
            "header": {
             "fill": {
              "color": "#C8D4E3"
             },
             "line": {
              "color": "white"
             }
            },
            "type": "table"
           }
          ]
         },
         "layout": {
          "annotationdefaults": {
           "arrowcolor": "#2a3f5f",
           "arrowhead": 0,
           "arrowwidth": 1
          },
          "autotypenumbers": "strict",
          "coloraxis": {
           "colorbar": {
            "outlinewidth": 0,
            "ticks": ""
           }
          },
          "colorscale": {
           "diverging": [
            [
             0,
             "#8e0152"
            ],
            [
             0.1,
             "#c51b7d"
            ],
            [
             0.2,
             "#de77ae"
            ],
            [
             0.3,
             "#f1b6da"
            ],
            [
             0.4,
             "#fde0ef"
            ],
            [
             0.5,
             "#f7f7f7"
            ],
            [
             0.6,
             "#e6f5d0"
            ],
            [
             0.7,
             "#b8e186"
            ],
            [
             0.8,
             "#7fbc41"
            ],
            [
             0.9,
             "#4d9221"
            ],
            [
             1,
             "#276419"
            ]
           ],
           "sequential": [
            [
             0,
             "#0d0887"
            ],
            [
             0.1111111111111111,
             "#46039f"
            ],
            [
             0.2222222222222222,
             "#7201a8"
            ],
            [
             0.3333333333333333,
             "#9c179e"
            ],
            [
             0.4444444444444444,
             "#bd3786"
            ],
            [
             0.5555555555555556,
             "#d8576b"
            ],
            [
             0.6666666666666666,
             "#ed7953"
            ],
            [
             0.7777777777777778,
             "#fb9f3a"
            ],
            [
             0.8888888888888888,
             "#fdca26"
            ],
            [
             1,
             "#f0f921"
            ]
           ],
           "sequentialminus": [
            [
             0,
             "#0d0887"
            ],
            [
             0.1111111111111111,
             "#46039f"
            ],
            [
             0.2222222222222222,
             "#7201a8"
            ],
            [
             0.3333333333333333,
             "#9c179e"
            ],
            [
             0.4444444444444444,
             "#bd3786"
            ],
            [
             0.5555555555555556,
             "#d8576b"
            ],
            [
             0.6666666666666666,
             "#ed7953"
            ],
            [
             0.7777777777777778,
             "#fb9f3a"
            ],
            [
             0.8888888888888888,
             "#fdca26"
            ],
            [
             1,
             "#f0f921"
            ]
           ]
          },
          "colorway": [
           "#636efa",
           "#EF553B",
           "#00cc96",
           "#ab63fa",
           "#FFA15A",
           "#19d3f3",
           "#FF6692",
           "#B6E880",
           "#FF97FF",
           "#FECB52"
          ],
          "font": {
           "color": "#2a3f5f"
          },
          "geo": {
           "bgcolor": "white",
           "lakecolor": "white",
           "landcolor": "#E5ECF6",
           "showlakes": true,
           "showland": true,
           "subunitcolor": "white"
          },
          "hoverlabel": {
           "align": "left"
          },
          "hovermode": "closest",
          "mapbox": {
           "style": "light"
          },
          "paper_bgcolor": "white",
          "plot_bgcolor": "#E5ECF6",
          "polar": {
           "angularaxis": {
            "gridcolor": "white",
            "linecolor": "white",
            "ticks": ""
           },
           "bgcolor": "#E5ECF6",
           "radialaxis": {
            "gridcolor": "white",
            "linecolor": "white",
            "ticks": ""
           }
          },
          "scene": {
           "xaxis": {
            "backgroundcolor": "#E5ECF6",
            "gridcolor": "white",
            "gridwidth": 2,
            "linecolor": "white",
            "showbackground": true,
            "ticks": "",
            "zerolinecolor": "white"
           },
           "yaxis": {
            "backgroundcolor": "#E5ECF6",
            "gridcolor": "white",
            "gridwidth": 2,
            "linecolor": "white",
            "showbackground": true,
            "ticks": "",
            "zerolinecolor": "white"
           },
           "zaxis": {
            "backgroundcolor": "#E5ECF6",
            "gridcolor": "white",
            "gridwidth": 2,
            "linecolor": "white",
            "showbackground": true,
            "ticks": "",
            "zerolinecolor": "white"
           }
          },
          "shapedefaults": {
           "line": {
            "color": "#2a3f5f"
           }
          },
          "ternary": {
           "aaxis": {
            "gridcolor": "white",
            "linecolor": "white",
            "ticks": ""
           },
           "baxis": {
            "gridcolor": "white",
            "linecolor": "white",
            "ticks": ""
           },
           "bgcolor": "#E5ECF6",
           "caxis": {
            "gridcolor": "white",
            "linecolor": "white",
            "ticks": ""
           }
          },
          "title": {
           "x": 0.05
          },
          "xaxis": {
           "automargin": true,
           "gridcolor": "white",
           "linecolor": "white",
           "ticks": "",
           "title": {
            "standoff": 15
           },
           "zerolinecolor": "white",
           "zerolinewidth": 2
          },
          "yaxis": {
           "automargin": true,
           "gridcolor": "white",
           "linecolor": "white",
           "ticks": "",
           "title": {
            "standoff": 15
           },
           "zerolinecolor": "white",
           "zerolinewidth": 2
          }
         }
        },
        "xaxis": {
         "anchor": "y",
         "domain": [
          0,
          1
         ],
         "title": {
          "text": "month"
         }
        },
        "yaxis": {
         "anchor": "x",
         "domain": [
          0,
          1
         ],
         "title": {
          "text": "passengers"
         }
        }
       }
      }
     },
     "metadata": {},
     "output_type": "display_data"
    }
   ],
   "source": [
    "px.line(df_agrupado_pelo_mes, x='month', y='passengers')"
   ]
  },
  {
   "cell_type": "code",
   "execution_count": 14,
   "metadata": {},
   "outputs": [
    {
     "data": {
      "text/html": [
       "<div>\n",
       "<style scoped>\n",
       "    .dataframe tbody tr th:only-of-type {\n",
       "        vertical-align: middle;\n",
       "    }\n",
       "\n",
       "    .dataframe tbody tr th {\n",
       "        vertical-align: top;\n",
       "    }\n",
       "\n",
       "    .dataframe thead th {\n",
       "        text-align: right;\n",
       "    }\n",
       "</style>\n",
       "<table border=\"1\" class=\"dataframe\">\n",
       "  <thead>\n",
       "    <tr style=\"text-align: right;\">\n",
       "      <th></th>\n",
       "      <th>year</th>\n",
       "      <th>month</th>\n",
       "      <th>passengers</th>\n",
       "    </tr>\n",
       "  </thead>\n",
       "  <tbody>\n",
       "    <tr>\n",
       "      <th>0</th>\n",
       "      <td>1949</td>\n",
       "      <td>January</td>\n",
       "      <td>112</td>\n",
       "    </tr>\n",
       "    <tr>\n",
       "      <th>1</th>\n",
       "      <td>1949</td>\n",
       "      <td>February</td>\n",
       "      <td>118</td>\n",
       "    </tr>\n",
       "    <tr>\n",
       "      <th>2</th>\n",
       "      <td>1949</td>\n",
       "      <td>March</td>\n",
       "      <td>132</td>\n",
       "    </tr>\n",
       "    <tr>\n",
       "      <th>3</th>\n",
       "      <td>1949</td>\n",
       "      <td>April</td>\n",
       "      <td>129</td>\n",
       "    </tr>\n",
       "    <tr>\n",
       "      <th>4</th>\n",
       "      <td>1949</td>\n",
       "      <td>May</td>\n",
       "      <td>121</td>\n",
       "    </tr>\n",
       "  </tbody>\n",
       "</table>\n",
       "</div>"
      ],
      "text/plain": [
       "   year     month  passengers\n",
       "0  1949   January         112\n",
       "1  1949  February         118\n",
       "2  1949     March         132\n",
       "3  1949     April         129\n",
       "4  1949       May         121"
      ]
     },
     "execution_count": 14,
     "metadata": {},
     "output_type": "execute_result"
    }
   ],
   "source": [
    "df.head()"
   ]
  },
  {
   "cell_type": "code",
   "execution_count": 15,
   "metadata": {},
   "outputs": [
    {
     "data": {
      "application/vnd.plotly.v1+json": {
       "config": {
        "plotlyServerURL": "https://plot.ly"
       },
       "data": [
        {
         "hovertemplate": "year=1949<br>month=%{x}<br>passengers=%{y}<extra></extra>",
         "legendgroup": "1949",
         "line": {
          "color": "#636efa",
          "dash": "solid"
         },
         "marker": {
          "symbol": "circle"
         },
         "mode": "lines",
         "name": "1949",
         "orientation": "v",
         "showlegend": true,
         "type": "scatter",
         "x": [
          "January",
          "February",
          "March",
          "April",
          "May",
          "June",
          "July",
          "August",
          "September",
          "October",
          "November",
          "December"
         ],
         "xaxis": "x",
         "y": [
          112,
          118,
          132,
          129,
          121,
          135,
          148,
          148,
          136,
          119,
          104,
          118
         ],
         "yaxis": "y"
        },
        {
         "hovertemplate": "year=1950<br>month=%{x}<br>passengers=%{y}<extra></extra>",
         "legendgroup": "1950",
         "line": {
          "color": "#EF553B",
          "dash": "solid"
         },
         "marker": {
          "symbol": "circle"
         },
         "mode": "lines",
         "name": "1950",
         "orientation": "v",
         "showlegend": true,
         "type": "scatter",
         "x": [
          "January",
          "February",
          "March",
          "April",
          "May",
          "June",
          "July",
          "August",
          "September",
          "October",
          "November",
          "December"
         ],
         "xaxis": "x",
         "y": [
          115,
          126,
          141,
          135,
          125,
          149,
          170,
          170,
          158,
          133,
          114,
          140
         ],
         "yaxis": "y"
        },
        {
         "hovertemplate": "year=1951<br>month=%{x}<br>passengers=%{y}<extra></extra>",
         "legendgroup": "1951",
         "line": {
          "color": "#00cc96",
          "dash": "solid"
         },
         "marker": {
          "symbol": "circle"
         },
         "mode": "lines",
         "name": "1951",
         "orientation": "v",
         "showlegend": true,
         "type": "scatter",
         "x": [
          "January",
          "February",
          "March",
          "April",
          "May",
          "June",
          "July",
          "August",
          "September",
          "October",
          "November",
          "December"
         ],
         "xaxis": "x",
         "y": [
          145,
          150,
          178,
          163,
          172,
          178,
          199,
          199,
          184,
          162,
          146,
          166
         ],
         "yaxis": "y"
        },
        {
         "hovertemplate": "year=1952<br>month=%{x}<br>passengers=%{y}<extra></extra>",
         "legendgroup": "1952",
         "line": {
          "color": "#ab63fa",
          "dash": "solid"
         },
         "marker": {
          "symbol": "circle"
         },
         "mode": "lines",
         "name": "1952",
         "orientation": "v",
         "showlegend": true,
         "type": "scatter",
         "x": [
          "January",
          "February",
          "March",
          "April",
          "May",
          "June",
          "July",
          "August",
          "September",
          "October",
          "November",
          "December"
         ],
         "xaxis": "x",
         "y": [
          171,
          180,
          193,
          181,
          183,
          218,
          230,
          242,
          209,
          191,
          172,
          194
         ],
         "yaxis": "y"
        },
        {
         "hovertemplate": "year=1953<br>month=%{x}<br>passengers=%{y}<extra></extra>",
         "legendgroup": "1953",
         "line": {
          "color": "#FFA15A",
          "dash": "solid"
         },
         "marker": {
          "symbol": "circle"
         },
         "mode": "lines",
         "name": "1953",
         "orientation": "v",
         "showlegend": true,
         "type": "scatter",
         "x": [
          "January",
          "February",
          "March",
          "April",
          "May",
          "June",
          "July",
          "August",
          "September",
          "October",
          "November",
          "December"
         ],
         "xaxis": "x",
         "y": [
          196,
          196,
          236,
          235,
          229,
          243,
          264,
          272,
          237,
          211,
          180,
          201
         ],
         "yaxis": "y"
        },
        {
         "hovertemplate": "year=1954<br>month=%{x}<br>passengers=%{y}<extra></extra>",
         "legendgroup": "1954",
         "line": {
          "color": "#19d3f3",
          "dash": "solid"
         },
         "marker": {
          "symbol": "circle"
         },
         "mode": "lines",
         "name": "1954",
         "orientation": "v",
         "showlegend": true,
         "type": "scatter",
         "x": [
          "January",
          "February",
          "March",
          "April",
          "May",
          "June",
          "July",
          "August",
          "September",
          "October",
          "November",
          "December"
         ],
         "xaxis": "x",
         "y": [
          204,
          188,
          235,
          227,
          234,
          264,
          302,
          293,
          259,
          229,
          203,
          229
         ],
         "yaxis": "y"
        },
        {
         "hovertemplate": "year=1955<br>month=%{x}<br>passengers=%{y}<extra></extra>",
         "legendgroup": "1955",
         "line": {
          "color": "#FF6692",
          "dash": "solid"
         },
         "marker": {
          "symbol": "circle"
         },
         "mode": "lines",
         "name": "1955",
         "orientation": "v",
         "showlegend": true,
         "type": "scatter",
         "x": [
          "January",
          "February",
          "March",
          "April",
          "May",
          "June",
          "July",
          "August",
          "September",
          "October",
          "November",
          "December"
         ],
         "xaxis": "x",
         "y": [
          242,
          233,
          267,
          269,
          270,
          315,
          364,
          347,
          312,
          274,
          237,
          278
         ],
         "yaxis": "y"
        },
        {
         "hovertemplate": "year=1956<br>month=%{x}<br>passengers=%{y}<extra></extra>",
         "legendgroup": "1956",
         "line": {
          "color": "#B6E880",
          "dash": "solid"
         },
         "marker": {
          "symbol": "circle"
         },
         "mode": "lines",
         "name": "1956",
         "orientation": "v",
         "showlegend": true,
         "type": "scatter",
         "x": [
          "January",
          "February",
          "March",
          "April",
          "May",
          "June",
          "July",
          "August",
          "September",
          "October",
          "November",
          "December"
         ],
         "xaxis": "x",
         "y": [
          284,
          277,
          317,
          313,
          318,
          374,
          413,
          405,
          355,
          306,
          271,
          306
         ],
         "yaxis": "y"
        },
        {
         "hovertemplate": "year=1957<br>month=%{x}<br>passengers=%{y}<extra></extra>",
         "legendgroup": "1957",
         "line": {
          "color": "#FF97FF",
          "dash": "solid"
         },
         "marker": {
          "symbol": "circle"
         },
         "mode": "lines",
         "name": "1957",
         "orientation": "v",
         "showlegend": true,
         "type": "scatter",
         "x": [
          "January",
          "February",
          "March",
          "April",
          "May",
          "June",
          "July",
          "August",
          "September",
          "October",
          "November",
          "December"
         ],
         "xaxis": "x",
         "y": [
          315,
          301,
          356,
          348,
          355,
          422,
          465,
          467,
          404,
          347,
          305,
          336
         ],
         "yaxis": "y"
        },
        {
         "hovertemplate": "year=1958<br>month=%{x}<br>passengers=%{y}<extra></extra>",
         "legendgroup": "1958",
         "line": {
          "color": "#FECB52",
          "dash": "solid"
         },
         "marker": {
          "symbol": "circle"
         },
         "mode": "lines",
         "name": "1958",
         "orientation": "v",
         "showlegend": true,
         "type": "scatter",
         "x": [
          "January",
          "February",
          "March",
          "April",
          "May",
          "June",
          "July",
          "August",
          "September",
          "October",
          "November",
          "December"
         ],
         "xaxis": "x",
         "y": [
          340,
          318,
          362,
          348,
          363,
          435,
          491,
          505,
          404,
          359,
          310,
          337
         ],
         "yaxis": "y"
        },
        {
         "hovertemplate": "year=1959<br>month=%{x}<br>passengers=%{y}<extra></extra>",
         "legendgroup": "1959",
         "line": {
          "color": "#636efa",
          "dash": "solid"
         },
         "marker": {
          "symbol": "circle"
         },
         "mode": "lines",
         "name": "1959",
         "orientation": "v",
         "showlegend": true,
         "type": "scatter",
         "x": [
          "January",
          "February",
          "March",
          "April",
          "May",
          "June",
          "July",
          "August",
          "September",
          "October",
          "November",
          "December"
         ],
         "xaxis": "x",
         "y": [
          360,
          342,
          406,
          396,
          420,
          472,
          548,
          559,
          463,
          407,
          362,
          405
         ],
         "yaxis": "y"
        },
        {
         "hovertemplate": "year=1960<br>month=%{x}<br>passengers=%{y}<extra></extra>",
         "legendgroup": "1960",
         "line": {
          "color": "#EF553B",
          "dash": "solid"
         },
         "marker": {
          "symbol": "circle"
         },
         "mode": "lines",
         "name": "1960",
         "orientation": "v",
         "showlegend": true,
         "type": "scatter",
         "x": [
          "January",
          "February",
          "March",
          "April",
          "May",
          "June",
          "July",
          "August",
          "September",
          "October",
          "November",
          "December"
         ],
         "xaxis": "x",
         "y": [
          417,
          391,
          419,
          461,
          472,
          535,
          622,
          606,
          508,
          461,
          390,
          432
         ],
         "yaxis": "y"
        }
       ],
       "layout": {
        "legend": {
         "title": {
          "text": "year"
         },
         "tracegroupgap": 0
        },
        "margin": {
         "t": 60
        },
        "template": {
         "data": {
          "bar": [
           {
            "error_x": {
             "color": "#2a3f5f"
            },
            "error_y": {
             "color": "#2a3f5f"
            },
            "marker": {
             "line": {
              "color": "#E5ECF6",
              "width": 0.5
             },
             "pattern": {
              "fillmode": "overlay",
              "size": 10,
              "solidity": 0.2
             }
            },
            "type": "bar"
           }
          ],
          "barpolar": [
           {
            "marker": {
             "line": {
              "color": "#E5ECF6",
              "width": 0.5
             },
             "pattern": {
              "fillmode": "overlay",
              "size": 10,
              "solidity": 0.2
             }
            },
            "type": "barpolar"
           }
          ],
          "carpet": [
           {
            "aaxis": {
             "endlinecolor": "#2a3f5f",
             "gridcolor": "white",
             "linecolor": "white",
             "minorgridcolor": "white",
             "startlinecolor": "#2a3f5f"
            },
            "baxis": {
             "endlinecolor": "#2a3f5f",
             "gridcolor": "white",
             "linecolor": "white",
             "minorgridcolor": "white",
             "startlinecolor": "#2a3f5f"
            },
            "type": "carpet"
           }
          ],
          "choropleth": [
           {
            "colorbar": {
             "outlinewidth": 0,
             "ticks": ""
            },
            "type": "choropleth"
           }
          ],
          "contour": [
           {
            "colorbar": {
             "outlinewidth": 0,
             "ticks": ""
            },
            "colorscale": [
             [
              0,
              "#0d0887"
             ],
             [
              0.1111111111111111,
              "#46039f"
             ],
             [
              0.2222222222222222,
              "#7201a8"
             ],
             [
              0.3333333333333333,
              "#9c179e"
             ],
             [
              0.4444444444444444,
              "#bd3786"
             ],
             [
              0.5555555555555556,
              "#d8576b"
             ],
             [
              0.6666666666666666,
              "#ed7953"
             ],
             [
              0.7777777777777778,
              "#fb9f3a"
             ],
             [
              0.8888888888888888,
              "#fdca26"
             ],
             [
              1,
              "#f0f921"
             ]
            ],
            "type": "contour"
           }
          ],
          "contourcarpet": [
           {
            "colorbar": {
             "outlinewidth": 0,
             "ticks": ""
            },
            "type": "contourcarpet"
           }
          ],
          "heatmap": [
           {
            "colorbar": {
             "outlinewidth": 0,
             "ticks": ""
            },
            "colorscale": [
             [
              0,
              "#0d0887"
             ],
             [
              0.1111111111111111,
              "#46039f"
             ],
             [
              0.2222222222222222,
              "#7201a8"
             ],
             [
              0.3333333333333333,
              "#9c179e"
             ],
             [
              0.4444444444444444,
              "#bd3786"
             ],
             [
              0.5555555555555556,
              "#d8576b"
             ],
             [
              0.6666666666666666,
              "#ed7953"
             ],
             [
              0.7777777777777778,
              "#fb9f3a"
             ],
             [
              0.8888888888888888,
              "#fdca26"
             ],
             [
              1,
              "#f0f921"
             ]
            ],
            "type": "heatmap"
           }
          ],
          "heatmapgl": [
           {
            "colorbar": {
             "outlinewidth": 0,
             "ticks": ""
            },
            "colorscale": [
             [
              0,
              "#0d0887"
             ],
             [
              0.1111111111111111,
              "#46039f"
             ],
             [
              0.2222222222222222,
              "#7201a8"
             ],
             [
              0.3333333333333333,
              "#9c179e"
             ],
             [
              0.4444444444444444,
              "#bd3786"
             ],
             [
              0.5555555555555556,
              "#d8576b"
             ],
             [
              0.6666666666666666,
              "#ed7953"
             ],
             [
              0.7777777777777778,
              "#fb9f3a"
             ],
             [
              0.8888888888888888,
              "#fdca26"
             ],
             [
              1,
              "#f0f921"
             ]
            ],
            "type": "heatmapgl"
           }
          ],
          "histogram": [
           {
            "marker": {
             "pattern": {
              "fillmode": "overlay",
              "size": 10,
              "solidity": 0.2
             }
            },
            "type": "histogram"
           }
          ],
          "histogram2d": [
           {
            "colorbar": {
             "outlinewidth": 0,
             "ticks": ""
            },
            "colorscale": [
             [
              0,
              "#0d0887"
             ],
             [
              0.1111111111111111,
              "#46039f"
             ],
             [
              0.2222222222222222,
              "#7201a8"
             ],
             [
              0.3333333333333333,
              "#9c179e"
             ],
             [
              0.4444444444444444,
              "#bd3786"
             ],
             [
              0.5555555555555556,
              "#d8576b"
             ],
             [
              0.6666666666666666,
              "#ed7953"
             ],
             [
              0.7777777777777778,
              "#fb9f3a"
             ],
             [
              0.8888888888888888,
              "#fdca26"
             ],
             [
              1,
              "#f0f921"
             ]
            ],
            "type": "histogram2d"
           }
          ],
          "histogram2dcontour": [
           {
            "colorbar": {
             "outlinewidth": 0,
             "ticks": ""
            },
            "colorscale": [
             [
              0,
              "#0d0887"
             ],
             [
              0.1111111111111111,
              "#46039f"
             ],
             [
              0.2222222222222222,
              "#7201a8"
             ],
             [
              0.3333333333333333,
              "#9c179e"
             ],
             [
              0.4444444444444444,
              "#bd3786"
             ],
             [
              0.5555555555555556,
              "#d8576b"
             ],
             [
              0.6666666666666666,
              "#ed7953"
             ],
             [
              0.7777777777777778,
              "#fb9f3a"
             ],
             [
              0.8888888888888888,
              "#fdca26"
             ],
             [
              1,
              "#f0f921"
             ]
            ],
            "type": "histogram2dcontour"
           }
          ],
          "mesh3d": [
           {
            "colorbar": {
             "outlinewidth": 0,
             "ticks": ""
            },
            "type": "mesh3d"
           }
          ],
          "parcoords": [
           {
            "line": {
             "colorbar": {
              "outlinewidth": 0,
              "ticks": ""
             }
            },
            "type": "parcoords"
           }
          ],
          "pie": [
           {
            "automargin": true,
            "type": "pie"
           }
          ],
          "scatter": [
           {
            "fillpattern": {
             "fillmode": "overlay",
             "size": 10,
             "solidity": 0.2
            },
            "type": "scatter"
           }
          ],
          "scatter3d": [
           {
            "line": {
             "colorbar": {
              "outlinewidth": 0,
              "ticks": ""
             }
            },
            "marker": {
             "colorbar": {
              "outlinewidth": 0,
              "ticks": ""
             }
            },
            "type": "scatter3d"
           }
          ],
          "scattercarpet": [
           {
            "marker": {
             "colorbar": {
              "outlinewidth": 0,
              "ticks": ""
             }
            },
            "type": "scattercarpet"
           }
          ],
          "scattergeo": [
           {
            "marker": {
             "colorbar": {
              "outlinewidth": 0,
              "ticks": ""
             }
            },
            "type": "scattergeo"
           }
          ],
          "scattergl": [
           {
            "marker": {
             "colorbar": {
              "outlinewidth": 0,
              "ticks": ""
             }
            },
            "type": "scattergl"
           }
          ],
          "scattermapbox": [
           {
            "marker": {
             "colorbar": {
              "outlinewidth": 0,
              "ticks": ""
             }
            },
            "type": "scattermapbox"
           }
          ],
          "scatterpolar": [
           {
            "marker": {
             "colorbar": {
              "outlinewidth": 0,
              "ticks": ""
             }
            },
            "type": "scatterpolar"
           }
          ],
          "scatterpolargl": [
           {
            "marker": {
             "colorbar": {
              "outlinewidth": 0,
              "ticks": ""
             }
            },
            "type": "scatterpolargl"
           }
          ],
          "scatterternary": [
           {
            "marker": {
             "colorbar": {
              "outlinewidth": 0,
              "ticks": ""
             }
            },
            "type": "scatterternary"
           }
          ],
          "surface": [
           {
            "colorbar": {
             "outlinewidth": 0,
             "ticks": ""
            },
            "colorscale": [
             [
              0,
              "#0d0887"
             ],
             [
              0.1111111111111111,
              "#46039f"
             ],
             [
              0.2222222222222222,
              "#7201a8"
             ],
             [
              0.3333333333333333,
              "#9c179e"
             ],
             [
              0.4444444444444444,
              "#bd3786"
             ],
             [
              0.5555555555555556,
              "#d8576b"
             ],
             [
              0.6666666666666666,
              "#ed7953"
             ],
             [
              0.7777777777777778,
              "#fb9f3a"
             ],
             [
              0.8888888888888888,
              "#fdca26"
             ],
             [
              1,
              "#f0f921"
             ]
            ],
            "type": "surface"
           }
          ],
          "table": [
           {
            "cells": {
             "fill": {
              "color": "#EBF0F8"
             },
             "line": {
              "color": "white"
             }
            },
            "header": {
             "fill": {
              "color": "#C8D4E3"
             },
             "line": {
              "color": "white"
             }
            },
            "type": "table"
           }
          ]
         },
         "layout": {
          "annotationdefaults": {
           "arrowcolor": "#2a3f5f",
           "arrowhead": 0,
           "arrowwidth": 1
          },
          "autotypenumbers": "strict",
          "coloraxis": {
           "colorbar": {
            "outlinewidth": 0,
            "ticks": ""
           }
          },
          "colorscale": {
           "diverging": [
            [
             0,
             "#8e0152"
            ],
            [
             0.1,
             "#c51b7d"
            ],
            [
             0.2,
             "#de77ae"
            ],
            [
             0.3,
             "#f1b6da"
            ],
            [
             0.4,
             "#fde0ef"
            ],
            [
             0.5,
             "#f7f7f7"
            ],
            [
             0.6,
             "#e6f5d0"
            ],
            [
             0.7,
             "#b8e186"
            ],
            [
             0.8,
             "#7fbc41"
            ],
            [
             0.9,
             "#4d9221"
            ],
            [
             1,
             "#276419"
            ]
           ],
           "sequential": [
            [
             0,
             "#0d0887"
            ],
            [
             0.1111111111111111,
             "#46039f"
            ],
            [
             0.2222222222222222,
             "#7201a8"
            ],
            [
             0.3333333333333333,
             "#9c179e"
            ],
            [
             0.4444444444444444,
             "#bd3786"
            ],
            [
             0.5555555555555556,
             "#d8576b"
            ],
            [
             0.6666666666666666,
             "#ed7953"
            ],
            [
             0.7777777777777778,
             "#fb9f3a"
            ],
            [
             0.8888888888888888,
             "#fdca26"
            ],
            [
             1,
             "#f0f921"
            ]
           ],
           "sequentialminus": [
            [
             0,
             "#0d0887"
            ],
            [
             0.1111111111111111,
             "#46039f"
            ],
            [
             0.2222222222222222,
             "#7201a8"
            ],
            [
             0.3333333333333333,
             "#9c179e"
            ],
            [
             0.4444444444444444,
             "#bd3786"
            ],
            [
             0.5555555555555556,
             "#d8576b"
            ],
            [
             0.6666666666666666,
             "#ed7953"
            ],
            [
             0.7777777777777778,
             "#fb9f3a"
            ],
            [
             0.8888888888888888,
             "#fdca26"
            ],
            [
             1,
             "#f0f921"
            ]
           ]
          },
          "colorway": [
           "#636efa",
           "#EF553B",
           "#00cc96",
           "#ab63fa",
           "#FFA15A",
           "#19d3f3",
           "#FF6692",
           "#B6E880",
           "#FF97FF",
           "#FECB52"
          ],
          "font": {
           "color": "#2a3f5f"
          },
          "geo": {
           "bgcolor": "white",
           "lakecolor": "white",
           "landcolor": "#E5ECF6",
           "showlakes": true,
           "showland": true,
           "subunitcolor": "white"
          },
          "hoverlabel": {
           "align": "left"
          },
          "hovermode": "closest",
          "mapbox": {
           "style": "light"
          },
          "paper_bgcolor": "white",
          "plot_bgcolor": "#E5ECF6",
          "polar": {
           "angularaxis": {
            "gridcolor": "white",
            "linecolor": "white",
            "ticks": ""
           },
           "bgcolor": "#E5ECF6",
           "radialaxis": {
            "gridcolor": "white",
            "linecolor": "white",
            "ticks": ""
           }
          },
          "scene": {
           "xaxis": {
            "backgroundcolor": "#E5ECF6",
            "gridcolor": "white",
            "gridwidth": 2,
            "linecolor": "white",
            "showbackground": true,
            "ticks": "",
            "zerolinecolor": "white"
           },
           "yaxis": {
            "backgroundcolor": "#E5ECF6",
            "gridcolor": "white",
            "gridwidth": 2,
            "linecolor": "white",
            "showbackground": true,
            "ticks": "",
            "zerolinecolor": "white"
           },
           "zaxis": {
            "backgroundcolor": "#E5ECF6",
            "gridcolor": "white",
            "gridwidth": 2,
            "linecolor": "white",
            "showbackground": true,
            "ticks": "",
            "zerolinecolor": "white"
           }
          },
          "shapedefaults": {
           "line": {
            "color": "#2a3f5f"
           }
          },
          "ternary": {
           "aaxis": {
            "gridcolor": "white",
            "linecolor": "white",
            "ticks": ""
           },
           "baxis": {
            "gridcolor": "white",
            "linecolor": "white",
            "ticks": ""
           },
           "bgcolor": "#E5ECF6",
           "caxis": {
            "gridcolor": "white",
            "linecolor": "white",
            "ticks": ""
           }
          },
          "title": {
           "x": 0.05
          },
          "xaxis": {
           "automargin": true,
           "gridcolor": "white",
           "linecolor": "white",
           "ticks": "",
           "title": {
            "standoff": 15
           },
           "zerolinecolor": "white",
           "zerolinewidth": 2
          },
          "yaxis": {
           "automargin": true,
           "gridcolor": "white",
           "linecolor": "white",
           "ticks": "",
           "title": {
            "standoff": 15
           },
           "zerolinecolor": "white",
           "zerolinewidth": 2
          }
         }
        },
        "xaxis": {
         "anchor": "y",
         "domain": [
          0,
          1
         ],
         "title": {
          "text": "month"
         }
        },
        "yaxis": {
         "anchor": "x",
         "domain": [
          0,
          1
         ],
         "title": {
          "text": "passengers"
         }
        }
       }
      }
     },
     "metadata": {},
     "output_type": "display_data"
    }
   ],
   "source": [
    "px.line(df, x='month', y='passengers', color='year')"
   ]
  },
  {
   "cell_type": "markdown",
   "metadata": {},
   "source": [
    "# Gráficos básicos"
   ]
  },
  {
   "cell_type": "code",
   "execution_count": 16,
   "metadata": {},
   "outputs": [],
   "source": [
    "df = pd.read_csv('https://raw.githubusercontent.com/mwaskom/seaborn-data/master/tips.csv')"
   ]
  },
  {
   "cell_type": "code",
   "execution_count": 17,
   "metadata": {},
   "outputs": [
    {
     "data": {
      "text/html": [
       "<div>\n",
       "<style scoped>\n",
       "    .dataframe tbody tr th:only-of-type {\n",
       "        vertical-align: middle;\n",
       "    }\n",
       "\n",
       "    .dataframe tbody tr th {\n",
       "        vertical-align: top;\n",
       "    }\n",
       "\n",
       "    .dataframe thead th {\n",
       "        text-align: right;\n",
       "    }\n",
       "</style>\n",
       "<table border=\"1\" class=\"dataframe\">\n",
       "  <thead>\n",
       "    <tr style=\"text-align: right;\">\n",
       "      <th></th>\n",
       "      <th>total_bill</th>\n",
       "      <th>tip</th>\n",
       "      <th>sex</th>\n",
       "      <th>smoker</th>\n",
       "      <th>day</th>\n",
       "      <th>time</th>\n",
       "      <th>size</th>\n",
       "    </tr>\n",
       "  </thead>\n",
       "  <tbody>\n",
       "    <tr>\n",
       "      <th>0</th>\n",
       "      <td>16.99</td>\n",
       "      <td>1.01</td>\n",
       "      <td>Female</td>\n",
       "      <td>No</td>\n",
       "      <td>Sun</td>\n",
       "      <td>Dinner</td>\n",
       "      <td>2</td>\n",
       "    </tr>\n",
       "    <tr>\n",
       "      <th>1</th>\n",
       "      <td>10.34</td>\n",
       "      <td>1.66</td>\n",
       "      <td>Male</td>\n",
       "      <td>No</td>\n",
       "      <td>Sun</td>\n",
       "      <td>Dinner</td>\n",
       "      <td>3</td>\n",
       "    </tr>\n",
       "    <tr>\n",
       "      <th>2</th>\n",
       "      <td>21.01</td>\n",
       "      <td>3.50</td>\n",
       "      <td>Male</td>\n",
       "      <td>No</td>\n",
       "      <td>Sun</td>\n",
       "      <td>Dinner</td>\n",
       "      <td>3</td>\n",
       "    </tr>\n",
       "    <tr>\n",
       "      <th>3</th>\n",
       "      <td>23.68</td>\n",
       "      <td>3.31</td>\n",
       "      <td>Male</td>\n",
       "      <td>No</td>\n",
       "      <td>Sun</td>\n",
       "      <td>Dinner</td>\n",
       "      <td>2</td>\n",
       "    </tr>\n",
       "    <tr>\n",
       "      <th>4</th>\n",
       "      <td>24.59</td>\n",
       "      <td>3.61</td>\n",
       "      <td>Female</td>\n",
       "      <td>No</td>\n",
       "      <td>Sun</td>\n",
       "      <td>Dinner</td>\n",
       "      <td>4</td>\n",
       "    </tr>\n",
       "  </tbody>\n",
       "</table>\n",
       "</div>"
      ],
      "text/plain": [
       "   total_bill   tip     sex smoker  day    time  size\n",
       "0       16.99  1.01  Female     No  Sun  Dinner     2\n",
       "1       10.34  1.66    Male     No  Sun  Dinner     3\n",
       "2       21.01  3.50    Male     No  Sun  Dinner     3\n",
       "3       23.68  3.31    Male     No  Sun  Dinner     2\n",
       "4       24.59  3.61  Female     No  Sun  Dinner     4"
      ]
     },
     "execution_count": 17,
     "metadata": {},
     "output_type": "execute_result"
    }
   ],
   "source": [
    "df.head()"
   ]
  },
  {
   "cell_type": "code",
   "execution_count": 18,
   "metadata": {},
   "outputs": [
    {
     "data": {
      "text/html": [
       "<div>\n",
       "<style scoped>\n",
       "    .dataframe tbody tr th:only-of-type {\n",
       "        vertical-align: middle;\n",
       "    }\n",
       "\n",
       "    .dataframe tbody tr th {\n",
       "        vertical-align: top;\n",
       "    }\n",
       "\n",
       "    .dataframe thead th {\n",
       "        text-align: right;\n",
       "    }\n",
       "</style>\n",
       "<table border=\"1\" class=\"dataframe\">\n",
       "  <thead>\n",
       "    <tr style=\"text-align: right;\">\n",
       "      <th></th>\n",
       "      <th>total_bill</th>\n",
       "      <th>tip</th>\n",
       "      <th>sex</th>\n",
       "      <th>smoker</th>\n",
       "      <th>day</th>\n",
       "      <th>time</th>\n",
       "      <th>size</th>\n",
       "    </tr>\n",
       "  </thead>\n",
       "  <tbody>\n",
       "    <tr>\n",
       "      <th>239</th>\n",
       "      <td>29.03</td>\n",
       "      <td>5.92</td>\n",
       "      <td>Male</td>\n",
       "      <td>No</td>\n",
       "      <td>Sat</td>\n",
       "      <td>Dinner</td>\n",
       "      <td>3</td>\n",
       "    </tr>\n",
       "    <tr>\n",
       "      <th>240</th>\n",
       "      <td>27.18</td>\n",
       "      <td>2.00</td>\n",
       "      <td>Female</td>\n",
       "      <td>Yes</td>\n",
       "      <td>Sat</td>\n",
       "      <td>Dinner</td>\n",
       "      <td>2</td>\n",
       "    </tr>\n",
       "    <tr>\n",
       "      <th>241</th>\n",
       "      <td>22.67</td>\n",
       "      <td>2.00</td>\n",
       "      <td>Male</td>\n",
       "      <td>Yes</td>\n",
       "      <td>Sat</td>\n",
       "      <td>Dinner</td>\n",
       "      <td>2</td>\n",
       "    </tr>\n",
       "    <tr>\n",
       "      <th>242</th>\n",
       "      <td>17.82</td>\n",
       "      <td>1.75</td>\n",
       "      <td>Male</td>\n",
       "      <td>No</td>\n",
       "      <td>Sat</td>\n",
       "      <td>Dinner</td>\n",
       "      <td>2</td>\n",
       "    </tr>\n",
       "    <tr>\n",
       "      <th>243</th>\n",
       "      <td>18.78</td>\n",
       "      <td>3.00</td>\n",
       "      <td>Female</td>\n",
       "      <td>No</td>\n",
       "      <td>Thur</td>\n",
       "      <td>Dinner</td>\n",
       "      <td>2</td>\n",
       "    </tr>\n",
       "  </tbody>\n",
       "</table>\n",
       "</div>"
      ],
      "text/plain": [
       "     total_bill   tip     sex smoker   day    time  size\n",
       "239       29.03  5.92    Male     No   Sat  Dinner     3\n",
       "240       27.18  2.00  Female    Yes   Sat  Dinner     2\n",
       "241       22.67  2.00    Male    Yes   Sat  Dinner     2\n",
       "242       17.82  1.75    Male     No   Sat  Dinner     2\n",
       "243       18.78  3.00  Female     No  Thur  Dinner     2"
      ]
     },
     "execution_count": 18,
     "metadata": {},
     "output_type": "execute_result"
    }
   ],
   "source": [
    "df.tail()"
   ]
  },
  {
   "cell_type": "markdown",
   "metadata": {},
   "source": [
    "## Gráfico de barras"
   ]
  },
  {
   "cell_type": "code",
   "execution_count": 19,
   "metadata": {},
   "outputs": [],
   "source": [
    "df_agrupado_pelo_dia = df.groupby('day', sort=False).agg({'total_bill': np.sum}).reset_index()"
   ]
  },
  {
   "cell_type": "code",
   "execution_count": 20,
   "metadata": {},
   "outputs": [
    {
     "data": {
      "text/html": [
       "<div>\n",
       "<style scoped>\n",
       "    .dataframe tbody tr th:only-of-type {\n",
       "        vertical-align: middle;\n",
       "    }\n",
       "\n",
       "    .dataframe tbody tr th {\n",
       "        vertical-align: top;\n",
       "    }\n",
       "\n",
       "    .dataframe thead th {\n",
       "        text-align: right;\n",
       "    }\n",
       "</style>\n",
       "<table border=\"1\" class=\"dataframe\">\n",
       "  <thead>\n",
       "    <tr style=\"text-align: right;\">\n",
       "      <th></th>\n",
       "      <th>day</th>\n",
       "      <th>total_bill</th>\n",
       "    </tr>\n",
       "  </thead>\n",
       "  <tbody>\n",
       "    <tr>\n",
       "      <th>0</th>\n",
       "      <td>Sun</td>\n",
       "      <td>1627.16</td>\n",
       "    </tr>\n",
       "    <tr>\n",
       "      <th>1</th>\n",
       "      <td>Sat</td>\n",
       "      <td>1778.40</td>\n",
       "    </tr>\n",
       "    <tr>\n",
       "      <th>2</th>\n",
       "      <td>Thur</td>\n",
       "      <td>1096.33</td>\n",
       "    </tr>\n",
       "    <tr>\n",
       "      <th>3</th>\n",
       "      <td>Fri</td>\n",
       "      <td>325.88</td>\n",
       "    </tr>\n",
       "  </tbody>\n",
       "</table>\n",
       "</div>"
      ],
      "text/plain": [
       "    day  total_bill\n",
       "0   Sun     1627.16\n",
       "1   Sat     1778.40\n",
       "2  Thur     1096.33\n",
       "3   Fri      325.88"
      ]
     },
     "execution_count": 20,
     "metadata": {},
     "output_type": "execute_result"
    }
   ],
   "source": [
    "df_agrupado_pelo_dia"
   ]
  },
  {
   "cell_type": "code",
   "execution_count": 21,
   "metadata": {},
   "outputs": [
    {
     "data": {
      "application/vnd.plotly.v1+json": {
       "config": {
        "plotlyServerURL": "https://plot.ly"
       },
       "data": [
        {
         "alignmentgroup": "True",
         "hovertemplate": "day=%{x}<br>total_bill=%{y}<extra></extra>",
         "legendgroup": "",
         "marker": {
          "color": "#636efa",
          "pattern": {
           "shape": ""
          }
         },
         "name": "",
         "offsetgroup": "",
         "orientation": "v",
         "showlegend": false,
         "textposition": "auto",
         "type": "bar",
         "x": [
          "Sun",
          "Sat",
          "Thur",
          "Fri"
         ],
         "xaxis": "x",
         "y": [
          1627.16,
          1778.4,
          1096.33,
          325.88
         ],
         "yaxis": "y"
        }
       ],
       "layout": {
        "barmode": "relative",
        "legend": {
         "tracegroupgap": 0
        },
        "margin": {
         "t": 60
        },
        "template": {
         "data": {
          "bar": [
           {
            "error_x": {
             "color": "#2a3f5f"
            },
            "error_y": {
             "color": "#2a3f5f"
            },
            "marker": {
             "line": {
              "color": "#E5ECF6",
              "width": 0.5
             },
             "pattern": {
              "fillmode": "overlay",
              "size": 10,
              "solidity": 0.2
             }
            },
            "type": "bar"
           }
          ],
          "barpolar": [
           {
            "marker": {
             "line": {
              "color": "#E5ECF6",
              "width": 0.5
             },
             "pattern": {
              "fillmode": "overlay",
              "size": 10,
              "solidity": 0.2
             }
            },
            "type": "barpolar"
           }
          ],
          "carpet": [
           {
            "aaxis": {
             "endlinecolor": "#2a3f5f",
             "gridcolor": "white",
             "linecolor": "white",
             "minorgridcolor": "white",
             "startlinecolor": "#2a3f5f"
            },
            "baxis": {
             "endlinecolor": "#2a3f5f",
             "gridcolor": "white",
             "linecolor": "white",
             "minorgridcolor": "white",
             "startlinecolor": "#2a3f5f"
            },
            "type": "carpet"
           }
          ],
          "choropleth": [
           {
            "colorbar": {
             "outlinewidth": 0,
             "ticks": ""
            },
            "type": "choropleth"
           }
          ],
          "contour": [
           {
            "colorbar": {
             "outlinewidth": 0,
             "ticks": ""
            },
            "colorscale": [
             [
              0,
              "#0d0887"
             ],
             [
              0.1111111111111111,
              "#46039f"
             ],
             [
              0.2222222222222222,
              "#7201a8"
             ],
             [
              0.3333333333333333,
              "#9c179e"
             ],
             [
              0.4444444444444444,
              "#bd3786"
             ],
             [
              0.5555555555555556,
              "#d8576b"
             ],
             [
              0.6666666666666666,
              "#ed7953"
             ],
             [
              0.7777777777777778,
              "#fb9f3a"
             ],
             [
              0.8888888888888888,
              "#fdca26"
             ],
             [
              1,
              "#f0f921"
             ]
            ],
            "type": "contour"
           }
          ],
          "contourcarpet": [
           {
            "colorbar": {
             "outlinewidth": 0,
             "ticks": ""
            },
            "type": "contourcarpet"
           }
          ],
          "heatmap": [
           {
            "colorbar": {
             "outlinewidth": 0,
             "ticks": ""
            },
            "colorscale": [
             [
              0,
              "#0d0887"
             ],
             [
              0.1111111111111111,
              "#46039f"
             ],
             [
              0.2222222222222222,
              "#7201a8"
             ],
             [
              0.3333333333333333,
              "#9c179e"
             ],
             [
              0.4444444444444444,
              "#bd3786"
             ],
             [
              0.5555555555555556,
              "#d8576b"
             ],
             [
              0.6666666666666666,
              "#ed7953"
             ],
             [
              0.7777777777777778,
              "#fb9f3a"
             ],
             [
              0.8888888888888888,
              "#fdca26"
             ],
             [
              1,
              "#f0f921"
             ]
            ],
            "type": "heatmap"
           }
          ],
          "heatmapgl": [
           {
            "colorbar": {
             "outlinewidth": 0,
             "ticks": ""
            },
            "colorscale": [
             [
              0,
              "#0d0887"
             ],
             [
              0.1111111111111111,
              "#46039f"
             ],
             [
              0.2222222222222222,
              "#7201a8"
             ],
             [
              0.3333333333333333,
              "#9c179e"
             ],
             [
              0.4444444444444444,
              "#bd3786"
             ],
             [
              0.5555555555555556,
              "#d8576b"
             ],
             [
              0.6666666666666666,
              "#ed7953"
             ],
             [
              0.7777777777777778,
              "#fb9f3a"
             ],
             [
              0.8888888888888888,
              "#fdca26"
             ],
             [
              1,
              "#f0f921"
             ]
            ],
            "type": "heatmapgl"
           }
          ],
          "histogram": [
           {
            "marker": {
             "pattern": {
              "fillmode": "overlay",
              "size": 10,
              "solidity": 0.2
             }
            },
            "type": "histogram"
           }
          ],
          "histogram2d": [
           {
            "colorbar": {
             "outlinewidth": 0,
             "ticks": ""
            },
            "colorscale": [
             [
              0,
              "#0d0887"
             ],
             [
              0.1111111111111111,
              "#46039f"
             ],
             [
              0.2222222222222222,
              "#7201a8"
             ],
             [
              0.3333333333333333,
              "#9c179e"
             ],
             [
              0.4444444444444444,
              "#bd3786"
             ],
             [
              0.5555555555555556,
              "#d8576b"
             ],
             [
              0.6666666666666666,
              "#ed7953"
             ],
             [
              0.7777777777777778,
              "#fb9f3a"
             ],
             [
              0.8888888888888888,
              "#fdca26"
             ],
             [
              1,
              "#f0f921"
             ]
            ],
            "type": "histogram2d"
           }
          ],
          "histogram2dcontour": [
           {
            "colorbar": {
             "outlinewidth": 0,
             "ticks": ""
            },
            "colorscale": [
             [
              0,
              "#0d0887"
             ],
             [
              0.1111111111111111,
              "#46039f"
             ],
             [
              0.2222222222222222,
              "#7201a8"
             ],
             [
              0.3333333333333333,
              "#9c179e"
             ],
             [
              0.4444444444444444,
              "#bd3786"
             ],
             [
              0.5555555555555556,
              "#d8576b"
             ],
             [
              0.6666666666666666,
              "#ed7953"
             ],
             [
              0.7777777777777778,
              "#fb9f3a"
             ],
             [
              0.8888888888888888,
              "#fdca26"
             ],
             [
              1,
              "#f0f921"
             ]
            ],
            "type": "histogram2dcontour"
           }
          ],
          "mesh3d": [
           {
            "colorbar": {
             "outlinewidth": 0,
             "ticks": ""
            },
            "type": "mesh3d"
           }
          ],
          "parcoords": [
           {
            "line": {
             "colorbar": {
              "outlinewidth": 0,
              "ticks": ""
             }
            },
            "type": "parcoords"
           }
          ],
          "pie": [
           {
            "automargin": true,
            "type": "pie"
           }
          ],
          "scatter": [
           {
            "fillpattern": {
             "fillmode": "overlay",
             "size": 10,
             "solidity": 0.2
            },
            "type": "scatter"
           }
          ],
          "scatter3d": [
           {
            "line": {
             "colorbar": {
              "outlinewidth": 0,
              "ticks": ""
             }
            },
            "marker": {
             "colorbar": {
              "outlinewidth": 0,
              "ticks": ""
             }
            },
            "type": "scatter3d"
           }
          ],
          "scattercarpet": [
           {
            "marker": {
             "colorbar": {
              "outlinewidth": 0,
              "ticks": ""
             }
            },
            "type": "scattercarpet"
           }
          ],
          "scattergeo": [
           {
            "marker": {
             "colorbar": {
              "outlinewidth": 0,
              "ticks": ""
             }
            },
            "type": "scattergeo"
           }
          ],
          "scattergl": [
           {
            "marker": {
             "colorbar": {
              "outlinewidth": 0,
              "ticks": ""
             }
            },
            "type": "scattergl"
           }
          ],
          "scattermapbox": [
           {
            "marker": {
             "colorbar": {
              "outlinewidth": 0,
              "ticks": ""
             }
            },
            "type": "scattermapbox"
           }
          ],
          "scatterpolar": [
           {
            "marker": {
             "colorbar": {
              "outlinewidth": 0,
              "ticks": ""
             }
            },
            "type": "scatterpolar"
           }
          ],
          "scatterpolargl": [
           {
            "marker": {
             "colorbar": {
              "outlinewidth": 0,
              "ticks": ""
             }
            },
            "type": "scatterpolargl"
           }
          ],
          "scatterternary": [
           {
            "marker": {
             "colorbar": {
              "outlinewidth": 0,
              "ticks": ""
             }
            },
            "type": "scatterternary"
           }
          ],
          "surface": [
           {
            "colorbar": {
             "outlinewidth": 0,
             "ticks": ""
            },
            "colorscale": [
             [
              0,
              "#0d0887"
             ],
             [
              0.1111111111111111,
              "#46039f"
             ],
             [
              0.2222222222222222,
              "#7201a8"
             ],
             [
              0.3333333333333333,
              "#9c179e"
             ],
             [
              0.4444444444444444,
              "#bd3786"
             ],
             [
              0.5555555555555556,
              "#d8576b"
             ],
             [
              0.6666666666666666,
              "#ed7953"
             ],
             [
              0.7777777777777778,
              "#fb9f3a"
             ],
             [
              0.8888888888888888,
              "#fdca26"
             ],
             [
              1,
              "#f0f921"
             ]
            ],
            "type": "surface"
           }
          ],
          "table": [
           {
            "cells": {
             "fill": {
              "color": "#EBF0F8"
             },
             "line": {
              "color": "white"
             }
            },
            "header": {
             "fill": {
              "color": "#C8D4E3"
             },
             "line": {
              "color": "white"
             }
            },
            "type": "table"
           }
          ]
         },
         "layout": {
          "annotationdefaults": {
           "arrowcolor": "#2a3f5f",
           "arrowhead": 0,
           "arrowwidth": 1
          },
          "autotypenumbers": "strict",
          "coloraxis": {
           "colorbar": {
            "outlinewidth": 0,
            "ticks": ""
           }
          },
          "colorscale": {
           "diverging": [
            [
             0,
             "#8e0152"
            ],
            [
             0.1,
             "#c51b7d"
            ],
            [
             0.2,
             "#de77ae"
            ],
            [
             0.3,
             "#f1b6da"
            ],
            [
             0.4,
             "#fde0ef"
            ],
            [
             0.5,
             "#f7f7f7"
            ],
            [
             0.6,
             "#e6f5d0"
            ],
            [
             0.7,
             "#b8e186"
            ],
            [
             0.8,
             "#7fbc41"
            ],
            [
             0.9,
             "#4d9221"
            ],
            [
             1,
             "#276419"
            ]
           ],
           "sequential": [
            [
             0,
             "#0d0887"
            ],
            [
             0.1111111111111111,
             "#46039f"
            ],
            [
             0.2222222222222222,
             "#7201a8"
            ],
            [
             0.3333333333333333,
             "#9c179e"
            ],
            [
             0.4444444444444444,
             "#bd3786"
            ],
            [
             0.5555555555555556,
             "#d8576b"
            ],
            [
             0.6666666666666666,
             "#ed7953"
            ],
            [
             0.7777777777777778,
             "#fb9f3a"
            ],
            [
             0.8888888888888888,
             "#fdca26"
            ],
            [
             1,
             "#f0f921"
            ]
           ],
           "sequentialminus": [
            [
             0,
             "#0d0887"
            ],
            [
             0.1111111111111111,
             "#46039f"
            ],
            [
             0.2222222222222222,
             "#7201a8"
            ],
            [
             0.3333333333333333,
             "#9c179e"
            ],
            [
             0.4444444444444444,
             "#bd3786"
            ],
            [
             0.5555555555555556,
             "#d8576b"
            ],
            [
             0.6666666666666666,
             "#ed7953"
            ],
            [
             0.7777777777777778,
             "#fb9f3a"
            ],
            [
             0.8888888888888888,
             "#fdca26"
            ],
            [
             1,
             "#f0f921"
            ]
           ]
          },
          "colorway": [
           "#636efa",
           "#EF553B",
           "#00cc96",
           "#ab63fa",
           "#FFA15A",
           "#19d3f3",
           "#FF6692",
           "#B6E880",
           "#FF97FF",
           "#FECB52"
          ],
          "font": {
           "color": "#2a3f5f"
          },
          "geo": {
           "bgcolor": "white",
           "lakecolor": "white",
           "landcolor": "#E5ECF6",
           "showlakes": true,
           "showland": true,
           "subunitcolor": "white"
          },
          "hoverlabel": {
           "align": "left"
          },
          "hovermode": "closest",
          "mapbox": {
           "style": "light"
          },
          "paper_bgcolor": "white",
          "plot_bgcolor": "#E5ECF6",
          "polar": {
           "angularaxis": {
            "gridcolor": "white",
            "linecolor": "white",
            "ticks": ""
           },
           "bgcolor": "#E5ECF6",
           "radialaxis": {
            "gridcolor": "white",
            "linecolor": "white",
            "ticks": ""
           }
          },
          "scene": {
           "xaxis": {
            "backgroundcolor": "#E5ECF6",
            "gridcolor": "white",
            "gridwidth": 2,
            "linecolor": "white",
            "showbackground": true,
            "ticks": "",
            "zerolinecolor": "white"
           },
           "yaxis": {
            "backgroundcolor": "#E5ECF6",
            "gridcolor": "white",
            "gridwidth": 2,
            "linecolor": "white",
            "showbackground": true,
            "ticks": "",
            "zerolinecolor": "white"
           },
           "zaxis": {
            "backgroundcolor": "#E5ECF6",
            "gridcolor": "white",
            "gridwidth": 2,
            "linecolor": "white",
            "showbackground": true,
            "ticks": "",
            "zerolinecolor": "white"
           }
          },
          "shapedefaults": {
           "line": {
            "color": "#2a3f5f"
           }
          },
          "ternary": {
           "aaxis": {
            "gridcolor": "white",
            "linecolor": "white",
            "ticks": ""
           },
           "baxis": {
            "gridcolor": "white",
            "linecolor": "white",
            "ticks": ""
           },
           "bgcolor": "#E5ECF6",
           "caxis": {
            "gridcolor": "white",
            "linecolor": "white",
            "ticks": ""
           }
          },
          "title": {
           "x": 0.05
          },
          "xaxis": {
           "automargin": true,
           "gridcolor": "white",
           "linecolor": "white",
           "ticks": "",
           "title": {
            "standoff": 15
           },
           "zerolinecolor": "white",
           "zerolinewidth": 2
          },
          "yaxis": {
           "automargin": true,
           "gridcolor": "white",
           "linecolor": "white",
           "ticks": "",
           "title": {
            "standoff": 15
           },
           "zerolinecolor": "white",
           "zerolinewidth": 2
          }
         }
        },
        "xaxis": {
         "anchor": "y",
         "domain": [
          0,
          1
         ],
         "title": {
          "text": "day"
         }
        },
        "yaxis": {
         "anchor": "x",
         "domain": [
          0,
          1
         ],
         "title": {
          "text": "total_bill"
         }
        }
       }
      }
     },
     "metadata": {},
     "output_type": "display_data"
    }
   ],
   "source": [
    "px.bar(df_agrupado_pelo_dia, x='day', y='total_bill')"
   ]
  },
  {
   "cell_type": "code",
   "execution_count": 22,
   "metadata": {},
   "outputs": [],
   "source": [
    "df_agrupado_pelo_dia_e_sexo = df.groupby(['day', 'sex'], sort=False).agg({'total_bill': np.sum}).reset_index()"
   ]
  },
  {
   "cell_type": "code",
   "execution_count": 23,
   "metadata": {},
   "outputs": [
    {
     "data": {
      "text/html": [
       "<div>\n",
       "<style scoped>\n",
       "    .dataframe tbody tr th:only-of-type {\n",
       "        vertical-align: middle;\n",
       "    }\n",
       "\n",
       "    .dataframe tbody tr th {\n",
       "        vertical-align: top;\n",
       "    }\n",
       "\n",
       "    .dataframe thead th {\n",
       "        text-align: right;\n",
       "    }\n",
       "</style>\n",
       "<table border=\"1\" class=\"dataframe\">\n",
       "  <thead>\n",
       "    <tr style=\"text-align: right;\">\n",
       "      <th></th>\n",
       "      <th>day</th>\n",
       "      <th>sex</th>\n",
       "      <th>total_bill</th>\n",
       "    </tr>\n",
       "  </thead>\n",
       "  <tbody>\n",
       "    <tr>\n",
       "      <th>0</th>\n",
       "      <td>Sun</td>\n",
       "      <td>Female</td>\n",
       "      <td>357.70</td>\n",
       "    </tr>\n",
       "    <tr>\n",
       "      <th>1</th>\n",
       "      <td>Sun</td>\n",
       "      <td>Male</td>\n",
       "      <td>1269.46</td>\n",
       "    </tr>\n",
       "    <tr>\n",
       "      <th>2</th>\n",
       "      <td>Sat</td>\n",
       "      <td>Male</td>\n",
       "      <td>1227.35</td>\n",
       "    </tr>\n",
       "    <tr>\n",
       "      <th>3</th>\n",
       "      <td>Sat</td>\n",
       "      <td>Female</td>\n",
       "      <td>551.05</td>\n",
       "    </tr>\n",
       "    <tr>\n",
       "      <th>4</th>\n",
       "      <td>Thur</td>\n",
       "      <td>Male</td>\n",
       "      <td>561.44</td>\n",
       "    </tr>\n",
       "    <tr>\n",
       "      <th>5</th>\n",
       "      <td>Thur</td>\n",
       "      <td>Female</td>\n",
       "      <td>534.89</td>\n",
       "    </tr>\n",
       "    <tr>\n",
       "      <th>6</th>\n",
       "      <td>Fri</td>\n",
       "      <td>Male</td>\n",
       "      <td>198.57</td>\n",
       "    </tr>\n",
       "    <tr>\n",
       "      <th>7</th>\n",
       "      <td>Fri</td>\n",
       "      <td>Female</td>\n",
       "      <td>127.31</td>\n",
       "    </tr>\n",
       "  </tbody>\n",
       "</table>\n",
       "</div>"
      ],
      "text/plain": [
       "    day     sex  total_bill\n",
       "0   Sun  Female      357.70\n",
       "1   Sun    Male     1269.46\n",
       "2   Sat    Male     1227.35\n",
       "3   Sat  Female      551.05\n",
       "4  Thur    Male      561.44\n",
       "5  Thur  Female      534.89\n",
       "6   Fri    Male      198.57\n",
       "7   Fri  Female      127.31"
      ]
     },
     "execution_count": 23,
     "metadata": {},
     "output_type": "execute_result"
    }
   ],
   "source": [
    "df_agrupado_pelo_dia_e_sexo"
   ]
  },
  {
   "cell_type": "code",
   "execution_count": 24,
   "metadata": {},
   "outputs": [
    {
     "data": {
      "application/vnd.plotly.v1+json": {
       "config": {
        "plotlyServerURL": "https://plot.ly"
       },
       "data": [
        {
         "alignmentgroup": "True",
         "hovertemplate": "sex=Female<br>day=%{x}<br>total_bill=%{y}<extra></extra>",
         "legendgroup": "Female",
         "marker": {
          "color": "#636efa",
          "pattern": {
           "shape": ""
          }
         },
         "name": "Female",
         "offsetgroup": "Female",
         "orientation": "v",
         "showlegend": true,
         "textposition": "auto",
         "type": "bar",
         "x": [
          "Sun",
          "Sat",
          "Thur",
          "Fri"
         ],
         "xaxis": "x",
         "y": [
          357.7,
          551.05,
          534.89,
          127.31
         ],
         "yaxis": "y"
        },
        {
         "alignmentgroup": "True",
         "hovertemplate": "sex=Male<br>day=%{x}<br>total_bill=%{y}<extra></extra>",
         "legendgroup": "Male",
         "marker": {
          "color": "#EF553B",
          "pattern": {
           "shape": ""
          }
         },
         "name": "Male",
         "offsetgroup": "Male",
         "orientation": "v",
         "showlegend": true,
         "textposition": "auto",
         "type": "bar",
         "x": [
          "Sun",
          "Sat",
          "Thur",
          "Fri"
         ],
         "xaxis": "x",
         "y": [
          1269.46,
          1227.35,
          561.4399999999999,
          198.57
         ],
         "yaxis": "y"
        }
       ],
       "layout": {
        "barmode": "group",
        "legend": {
         "title": {
          "text": "sex"
         },
         "tracegroupgap": 0
        },
        "margin": {
         "t": 60
        },
        "template": {
         "data": {
          "bar": [
           {
            "error_x": {
             "color": "#2a3f5f"
            },
            "error_y": {
             "color": "#2a3f5f"
            },
            "marker": {
             "line": {
              "color": "#E5ECF6",
              "width": 0.5
             },
             "pattern": {
              "fillmode": "overlay",
              "size": 10,
              "solidity": 0.2
             }
            },
            "type": "bar"
           }
          ],
          "barpolar": [
           {
            "marker": {
             "line": {
              "color": "#E5ECF6",
              "width": 0.5
             },
             "pattern": {
              "fillmode": "overlay",
              "size": 10,
              "solidity": 0.2
             }
            },
            "type": "barpolar"
           }
          ],
          "carpet": [
           {
            "aaxis": {
             "endlinecolor": "#2a3f5f",
             "gridcolor": "white",
             "linecolor": "white",
             "minorgridcolor": "white",
             "startlinecolor": "#2a3f5f"
            },
            "baxis": {
             "endlinecolor": "#2a3f5f",
             "gridcolor": "white",
             "linecolor": "white",
             "minorgridcolor": "white",
             "startlinecolor": "#2a3f5f"
            },
            "type": "carpet"
           }
          ],
          "choropleth": [
           {
            "colorbar": {
             "outlinewidth": 0,
             "ticks": ""
            },
            "type": "choropleth"
           }
          ],
          "contour": [
           {
            "colorbar": {
             "outlinewidth": 0,
             "ticks": ""
            },
            "colorscale": [
             [
              0,
              "#0d0887"
             ],
             [
              0.1111111111111111,
              "#46039f"
             ],
             [
              0.2222222222222222,
              "#7201a8"
             ],
             [
              0.3333333333333333,
              "#9c179e"
             ],
             [
              0.4444444444444444,
              "#bd3786"
             ],
             [
              0.5555555555555556,
              "#d8576b"
             ],
             [
              0.6666666666666666,
              "#ed7953"
             ],
             [
              0.7777777777777778,
              "#fb9f3a"
             ],
             [
              0.8888888888888888,
              "#fdca26"
             ],
             [
              1,
              "#f0f921"
             ]
            ],
            "type": "contour"
           }
          ],
          "contourcarpet": [
           {
            "colorbar": {
             "outlinewidth": 0,
             "ticks": ""
            },
            "type": "contourcarpet"
           }
          ],
          "heatmap": [
           {
            "colorbar": {
             "outlinewidth": 0,
             "ticks": ""
            },
            "colorscale": [
             [
              0,
              "#0d0887"
             ],
             [
              0.1111111111111111,
              "#46039f"
             ],
             [
              0.2222222222222222,
              "#7201a8"
             ],
             [
              0.3333333333333333,
              "#9c179e"
             ],
             [
              0.4444444444444444,
              "#bd3786"
             ],
             [
              0.5555555555555556,
              "#d8576b"
             ],
             [
              0.6666666666666666,
              "#ed7953"
             ],
             [
              0.7777777777777778,
              "#fb9f3a"
             ],
             [
              0.8888888888888888,
              "#fdca26"
             ],
             [
              1,
              "#f0f921"
             ]
            ],
            "type": "heatmap"
           }
          ],
          "heatmapgl": [
           {
            "colorbar": {
             "outlinewidth": 0,
             "ticks": ""
            },
            "colorscale": [
             [
              0,
              "#0d0887"
             ],
             [
              0.1111111111111111,
              "#46039f"
             ],
             [
              0.2222222222222222,
              "#7201a8"
             ],
             [
              0.3333333333333333,
              "#9c179e"
             ],
             [
              0.4444444444444444,
              "#bd3786"
             ],
             [
              0.5555555555555556,
              "#d8576b"
             ],
             [
              0.6666666666666666,
              "#ed7953"
             ],
             [
              0.7777777777777778,
              "#fb9f3a"
             ],
             [
              0.8888888888888888,
              "#fdca26"
             ],
             [
              1,
              "#f0f921"
             ]
            ],
            "type": "heatmapgl"
           }
          ],
          "histogram": [
           {
            "marker": {
             "pattern": {
              "fillmode": "overlay",
              "size": 10,
              "solidity": 0.2
             }
            },
            "type": "histogram"
           }
          ],
          "histogram2d": [
           {
            "colorbar": {
             "outlinewidth": 0,
             "ticks": ""
            },
            "colorscale": [
             [
              0,
              "#0d0887"
             ],
             [
              0.1111111111111111,
              "#46039f"
             ],
             [
              0.2222222222222222,
              "#7201a8"
             ],
             [
              0.3333333333333333,
              "#9c179e"
             ],
             [
              0.4444444444444444,
              "#bd3786"
             ],
             [
              0.5555555555555556,
              "#d8576b"
             ],
             [
              0.6666666666666666,
              "#ed7953"
             ],
             [
              0.7777777777777778,
              "#fb9f3a"
             ],
             [
              0.8888888888888888,
              "#fdca26"
             ],
             [
              1,
              "#f0f921"
             ]
            ],
            "type": "histogram2d"
           }
          ],
          "histogram2dcontour": [
           {
            "colorbar": {
             "outlinewidth": 0,
             "ticks": ""
            },
            "colorscale": [
             [
              0,
              "#0d0887"
             ],
             [
              0.1111111111111111,
              "#46039f"
             ],
             [
              0.2222222222222222,
              "#7201a8"
             ],
             [
              0.3333333333333333,
              "#9c179e"
             ],
             [
              0.4444444444444444,
              "#bd3786"
             ],
             [
              0.5555555555555556,
              "#d8576b"
             ],
             [
              0.6666666666666666,
              "#ed7953"
             ],
             [
              0.7777777777777778,
              "#fb9f3a"
             ],
             [
              0.8888888888888888,
              "#fdca26"
             ],
             [
              1,
              "#f0f921"
             ]
            ],
            "type": "histogram2dcontour"
           }
          ],
          "mesh3d": [
           {
            "colorbar": {
             "outlinewidth": 0,
             "ticks": ""
            },
            "type": "mesh3d"
           }
          ],
          "parcoords": [
           {
            "line": {
             "colorbar": {
              "outlinewidth": 0,
              "ticks": ""
             }
            },
            "type": "parcoords"
           }
          ],
          "pie": [
           {
            "automargin": true,
            "type": "pie"
           }
          ],
          "scatter": [
           {
            "fillpattern": {
             "fillmode": "overlay",
             "size": 10,
             "solidity": 0.2
            },
            "type": "scatter"
           }
          ],
          "scatter3d": [
           {
            "line": {
             "colorbar": {
              "outlinewidth": 0,
              "ticks": ""
             }
            },
            "marker": {
             "colorbar": {
              "outlinewidth": 0,
              "ticks": ""
             }
            },
            "type": "scatter3d"
           }
          ],
          "scattercarpet": [
           {
            "marker": {
             "colorbar": {
              "outlinewidth": 0,
              "ticks": ""
             }
            },
            "type": "scattercarpet"
           }
          ],
          "scattergeo": [
           {
            "marker": {
             "colorbar": {
              "outlinewidth": 0,
              "ticks": ""
             }
            },
            "type": "scattergeo"
           }
          ],
          "scattergl": [
           {
            "marker": {
             "colorbar": {
              "outlinewidth": 0,
              "ticks": ""
             }
            },
            "type": "scattergl"
           }
          ],
          "scattermapbox": [
           {
            "marker": {
             "colorbar": {
              "outlinewidth": 0,
              "ticks": ""
             }
            },
            "type": "scattermapbox"
           }
          ],
          "scatterpolar": [
           {
            "marker": {
             "colorbar": {
              "outlinewidth": 0,
              "ticks": ""
             }
            },
            "type": "scatterpolar"
           }
          ],
          "scatterpolargl": [
           {
            "marker": {
             "colorbar": {
              "outlinewidth": 0,
              "ticks": ""
             }
            },
            "type": "scatterpolargl"
           }
          ],
          "scatterternary": [
           {
            "marker": {
             "colorbar": {
              "outlinewidth": 0,
              "ticks": ""
             }
            },
            "type": "scatterternary"
           }
          ],
          "surface": [
           {
            "colorbar": {
             "outlinewidth": 0,
             "ticks": ""
            },
            "colorscale": [
             [
              0,
              "#0d0887"
             ],
             [
              0.1111111111111111,
              "#46039f"
             ],
             [
              0.2222222222222222,
              "#7201a8"
             ],
             [
              0.3333333333333333,
              "#9c179e"
             ],
             [
              0.4444444444444444,
              "#bd3786"
             ],
             [
              0.5555555555555556,
              "#d8576b"
             ],
             [
              0.6666666666666666,
              "#ed7953"
             ],
             [
              0.7777777777777778,
              "#fb9f3a"
             ],
             [
              0.8888888888888888,
              "#fdca26"
             ],
             [
              1,
              "#f0f921"
             ]
            ],
            "type": "surface"
           }
          ],
          "table": [
           {
            "cells": {
             "fill": {
              "color": "#EBF0F8"
             },
             "line": {
              "color": "white"
             }
            },
            "header": {
             "fill": {
              "color": "#C8D4E3"
             },
             "line": {
              "color": "white"
             }
            },
            "type": "table"
           }
          ]
         },
         "layout": {
          "annotationdefaults": {
           "arrowcolor": "#2a3f5f",
           "arrowhead": 0,
           "arrowwidth": 1
          },
          "autotypenumbers": "strict",
          "coloraxis": {
           "colorbar": {
            "outlinewidth": 0,
            "ticks": ""
           }
          },
          "colorscale": {
           "diverging": [
            [
             0,
             "#8e0152"
            ],
            [
             0.1,
             "#c51b7d"
            ],
            [
             0.2,
             "#de77ae"
            ],
            [
             0.3,
             "#f1b6da"
            ],
            [
             0.4,
             "#fde0ef"
            ],
            [
             0.5,
             "#f7f7f7"
            ],
            [
             0.6,
             "#e6f5d0"
            ],
            [
             0.7,
             "#b8e186"
            ],
            [
             0.8,
             "#7fbc41"
            ],
            [
             0.9,
             "#4d9221"
            ],
            [
             1,
             "#276419"
            ]
           ],
           "sequential": [
            [
             0,
             "#0d0887"
            ],
            [
             0.1111111111111111,
             "#46039f"
            ],
            [
             0.2222222222222222,
             "#7201a8"
            ],
            [
             0.3333333333333333,
             "#9c179e"
            ],
            [
             0.4444444444444444,
             "#bd3786"
            ],
            [
             0.5555555555555556,
             "#d8576b"
            ],
            [
             0.6666666666666666,
             "#ed7953"
            ],
            [
             0.7777777777777778,
             "#fb9f3a"
            ],
            [
             0.8888888888888888,
             "#fdca26"
            ],
            [
             1,
             "#f0f921"
            ]
           ],
           "sequentialminus": [
            [
             0,
             "#0d0887"
            ],
            [
             0.1111111111111111,
             "#46039f"
            ],
            [
             0.2222222222222222,
             "#7201a8"
            ],
            [
             0.3333333333333333,
             "#9c179e"
            ],
            [
             0.4444444444444444,
             "#bd3786"
            ],
            [
             0.5555555555555556,
             "#d8576b"
            ],
            [
             0.6666666666666666,
             "#ed7953"
            ],
            [
             0.7777777777777778,
             "#fb9f3a"
            ],
            [
             0.8888888888888888,
             "#fdca26"
            ],
            [
             1,
             "#f0f921"
            ]
           ]
          },
          "colorway": [
           "#636efa",
           "#EF553B",
           "#00cc96",
           "#ab63fa",
           "#FFA15A",
           "#19d3f3",
           "#FF6692",
           "#B6E880",
           "#FF97FF",
           "#FECB52"
          ],
          "font": {
           "color": "#2a3f5f"
          },
          "geo": {
           "bgcolor": "white",
           "lakecolor": "white",
           "landcolor": "#E5ECF6",
           "showlakes": true,
           "showland": true,
           "subunitcolor": "white"
          },
          "hoverlabel": {
           "align": "left"
          },
          "hovermode": "closest",
          "mapbox": {
           "style": "light"
          },
          "paper_bgcolor": "white",
          "plot_bgcolor": "#E5ECF6",
          "polar": {
           "angularaxis": {
            "gridcolor": "white",
            "linecolor": "white",
            "ticks": ""
           },
           "bgcolor": "#E5ECF6",
           "radialaxis": {
            "gridcolor": "white",
            "linecolor": "white",
            "ticks": ""
           }
          },
          "scene": {
           "xaxis": {
            "backgroundcolor": "#E5ECF6",
            "gridcolor": "white",
            "gridwidth": 2,
            "linecolor": "white",
            "showbackground": true,
            "ticks": "",
            "zerolinecolor": "white"
           },
           "yaxis": {
            "backgroundcolor": "#E5ECF6",
            "gridcolor": "white",
            "gridwidth": 2,
            "linecolor": "white",
            "showbackground": true,
            "ticks": "",
            "zerolinecolor": "white"
           },
           "zaxis": {
            "backgroundcolor": "#E5ECF6",
            "gridcolor": "white",
            "gridwidth": 2,
            "linecolor": "white",
            "showbackground": true,
            "ticks": "",
            "zerolinecolor": "white"
           }
          },
          "shapedefaults": {
           "line": {
            "color": "#2a3f5f"
           }
          },
          "ternary": {
           "aaxis": {
            "gridcolor": "white",
            "linecolor": "white",
            "ticks": ""
           },
           "baxis": {
            "gridcolor": "white",
            "linecolor": "white",
            "ticks": ""
           },
           "bgcolor": "#E5ECF6",
           "caxis": {
            "gridcolor": "white",
            "linecolor": "white",
            "ticks": ""
           }
          },
          "title": {
           "x": 0.05
          },
          "xaxis": {
           "automargin": true,
           "gridcolor": "white",
           "linecolor": "white",
           "ticks": "",
           "title": {
            "standoff": 15
           },
           "zerolinecolor": "white",
           "zerolinewidth": 2
          },
          "yaxis": {
           "automargin": true,
           "gridcolor": "white",
           "linecolor": "white",
           "ticks": "",
           "title": {
            "standoff": 15
           },
           "zerolinecolor": "white",
           "zerolinewidth": 2
          }
         }
        },
        "xaxis": {
         "anchor": "y",
         "domain": [
          0,
          1
         ],
         "title": {
          "text": "day"
         }
        },
        "yaxis": {
         "anchor": "x",
         "domain": [
          0,
          1
         ],
         "title": {
          "text": "total_bill"
         }
        }
       }
      }
     },
     "metadata": {},
     "output_type": "display_data"
    }
   ],
   "source": [
    "px.bar(df_agrupado_pelo_dia_e_sexo, x='day', y='total_bill', color='sex', barmode='group')"
   ]
  },
  {
   "cell_type": "code",
   "execution_count": 25,
   "metadata": {},
   "outputs": [
    {
     "data": {
      "application/vnd.plotly.v1+json": {
       "config": {
        "plotlyServerURL": "https://plot.ly"
       },
       "data": [
        {
         "alignmentgroup": "True",
         "hovertemplate": "sex=Female<br>total_bill=%{x}<br>day=%{y}<extra></extra>",
         "legendgroup": "Female",
         "marker": {
          "color": "#636efa",
          "pattern": {
           "shape": ""
          }
         },
         "name": "Female",
         "offsetgroup": "Female",
         "orientation": "h",
         "showlegend": true,
         "textposition": "auto",
         "type": "bar",
         "x": [
          357.7,
          551.05,
          534.89,
          127.31
         ],
         "xaxis": "x",
         "y": [
          "Sun",
          "Sat",
          "Thur",
          "Fri"
         ],
         "yaxis": "y"
        },
        {
         "alignmentgroup": "True",
         "hovertemplate": "sex=Male<br>total_bill=%{x}<br>day=%{y}<extra></extra>",
         "legendgroup": "Male",
         "marker": {
          "color": "#EF553B",
          "pattern": {
           "shape": ""
          }
         },
         "name": "Male",
         "offsetgroup": "Male",
         "orientation": "h",
         "showlegend": true,
         "textposition": "auto",
         "type": "bar",
         "x": [
          1269.46,
          1227.35,
          561.4399999999999,
          198.57
         ],
         "xaxis": "x",
         "y": [
          "Sun",
          "Sat",
          "Thur",
          "Fri"
         ],
         "yaxis": "y"
        }
       ],
       "layout": {
        "barmode": "group",
        "legend": {
         "title": {
          "text": "sex"
         },
         "tracegroupgap": 0
        },
        "margin": {
         "t": 60
        },
        "template": {
         "data": {
          "bar": [
           {
            "error_x": {
             "color": "#2a3f5f"
            },
            "error_y": {
             "color": "#2a3f5f"
            },
            "marker": {
             "line": {
              "color": "#E5ECF6",
              "width": 0.5
             },
             "pattern": {
              "fillmode": "overlay",
              "size": 10,
              "solidity": 0.2
             }
            },
            "type": "bar"
           }
          ],
          "barpolar": [
           {
            "marker": {
             "line": {
              "color": "#E5ECF6",
              "width": 0.5
             },
             "pattern": {
              "fillmode": "overlay",
              "size": 10,
              "solidity": 0.2
             }
            },
            "type": "barpolar"
           }
          ],
          "carpet": [
           {
            "aaxis": {
             "endlinecolor": "#2a3f5f",
             "gridcolor": "white",
             "linecolor": "white",
             "minorgridcolor": "white",
             "startlinecolor": "#2a3f5f"
            },
            "baxis": {
             "endlinecolor": "#2a3f5f",
             "gridcolor": "white",
             "linecolor": "white",
             "minorgridcolor": "white",
             "startlinecolor": "#2a3f5f"
            },
            "type": "carpet"
           }
          ],
          "choropleth": [
           {
            "colorbar": {
             "outlinewidth": 0,
             "ticks": ""
            },
            "type": "choropleth"
           }
          ],
          "contour": [
           {
            "colorbar": {
             "outlinewidth": 0,
             "ticks": ""
            },
            "colorscale": [
             [
              0,
              "#0d0887"
             ],
             [
              0.1111111111111111,
              "#46039f"
             ],
             [
              0.2222222222222222,
              "#7201a8"
             ],
             [
              0.3333333333333333,
              "#9c179e"
             ],
             [
              0.4444444444444444,
              "#bd3786"
             ],
             [
              0.5555555555555556,
              "#d8576b"
             ],
             [
              0.6666666666666666,
              "#ed7953"
             ],
             [
              0.7777777777777778,
              "#fb9f3a"
             ],
             [
              0.8888888888888888,
              "#fdca26"
             ],
             [
              1,
              "#f0f921"
             ]
            ],
            "type": "contour"
           }
          ],
          "contourcarpet": [
           {
            "colorbar": {
             "outlinewidth": 0,
             "ticks": ""
            },
            "type": "contourcarpet"
           }
          ],
          "heatmap": [
           {
            "colorbar": {
             "outlinewidth": 0,
             "ticks": ""
            },
            "colorscale": [
             [
              0,
              "#0d0887"
             ],
             [
              0.1111111111111111,
              "#46039f"
             ],
             [
              0.2222222222222222,
              "#7201a8"
             ],
             [
              0.3333333333333333,
              "#9c179e"
             ],
             [
              0.4444444444444444,
              "#bd3786"
             ],
             [
              0.5555555555555556,
              "#d8576b"
             ],
             [
              0.6666666666666666,
              "#ed7953"
             ],
             [
              0.7777777777777778,
              "#fb9f3a"
             ],
             [
              0.8888888888888888,
              "#fdca26"
             ],
             [
              1,
              "#f0f921"
             ]
            ],
            "type": "heatmap"
           }
          ],
          "heatmapgl": [
           {
            "colorbar": {
             "outlinewidth": 0,
             "ticks": ""
            },
            "colorscale": [
             [
              0,
              "#0d0887"
             ],
             [
              0.1111111111111111,
              "#46039f"
             ],
             [
              0.2222222222222222,
              "#7201a8"
             ],
             [
              0.3333333333333333,
              "#9c179e"
             ],
             [
              0.4444444444444444,
              "#bd3786"
             ],
             [
              0.5555555555555556,
              "#d8576b"
             ],
             [
              0.6666666666666666,
              "#ed7953"
             ],
             [
              0.7777777777777778,
              "#fb9f3a"
             ],
             [
              0.8888888888888888,
              "#fdca26"
             ],
             [
              1,
              "#f0f921"
             ]
            ],
            "type": "heatmapgl"
           }
          ],
          "histogram": [
           {
            "marker": {
             "pattern": {
              "fillmode": "overlay",
              "size": 10,
              "solidity": 0.2
             }
            },
            "type": "histogram"
           }
          ],
          "histogram2d": [
           {
            "colorbar": {
             "outlinewidth": 0,
             "ticks": ""
            },
            "colorscale": [
             [
              0,
              "#0d0887"
             ],
             [
              0.1111111111111111,
              "#46039f"
             ],
             [
              0.2222222222222222,
              "#7201a8"
             ],
             [
              0.3333333333333333,
              "#9c179e"
             ],
             [
              0.4444444444444444,
              "#bd3786"
             ],
             [
              0.5555555555555556,
              "#d8576b"
             ],
             [
              0.6666666666666666,
              "#ed7953"
             ],
             [
              0.7777777777777778,
              "#fb9f3a"
             ],
             [
              0.8888888888888888,
              "#fdca26"
             ],
             [
              1,
              "#f0f921"
             ]
            ],
            "type": "histogram2d"
           }
          ],
          "histogram2dcontour": [
           {
            "colorbar": {
             "outlinewidth": 0,
             "ticks": ""
            },
            "colorscale": [
             [
              0,
              "#0d0887"
             ],
             [
              0.1111111111111111,
              "#46039f"
             ],
             [
              0.2222222222222222,
              "#7201a8"
             ],
             [
              0.3333333333333333,
              "#9c179e"
             ],
             [
              0.4444444444444444,
              "#bd3786"
             ],
             [
              0.5555555555555556,
              "#d8576b"
             ],
             [
              0.6666666666666666,
              "#ed7953"
             ],
             [
              0.7777777777777778,
              "#fb9f3a"
             ],
             [
              0.8888888888888888,
              "#fdca26"
             ],
             [
              1,
              "#f0f921"
             ]
            ],
            "type": "histogram2dcontour"
           }
          ],
          "mesh3d": [
           {
            "colorbar": {
             "outlinewidth": 0,
             "ticks": ""
            },
            "type": "mesh3d"
           }
          ],
          "parcoords": [
           {
            "line": {
             "colorbar": {
              "outlinewidth": 0,
              "ticks": ""
             }
            },
            "type": "parcoords"
           }
          ],
          "pie": [
           {
            "automargin": true,
            "type": "pie"
           }
          ],
          "scatter": [
           {
            "fillpattern": {
             "fillmode": "overlay",
             "size": 10,
             "solidity": 0.2
            },
            "type": "scatter"
           }
          ],
          "scatter3d": [
           {
            "line": {
             "colorbar": {
              "outlinewidth": 0,
              "ticks": ""
             }
            },
            "marker": {
             "colorbar": {
              "outlinewidth": 0,
              "ticks": ""
             }
            },
            "type": "scatter3d"
           }
          ],
          "scattercarpet": [
           {
            "marker": {
             "colorbar": {
              "outlinewidth": 0,
              "ticks": ""
             }
            },
            "type": "scattercarpet"
           }
          ],
          "scattergeo": [
           {
            "marker": {
             "colorbar": {
              "outlinewidth": 0,
              "ticks": ""
             }
            },
            "type": "scattergeo"
           }
          ],
          "scattergl": [
           {
            "marker": {
             "colorbar": {
              "outlinewidth": 0,
              "ticks": ""
             }
            },
            "type": "scattergl"
           }
          ],
          "scattermapbox": [
           {
            "marker": {
             "colorbar": {
              "outlinewidth": 0,
              "ticks": ""
             }
            },
            "type": "scattermapbox"
           }
          ],
          "scatterpolar": [
           {
            "marker": {
             "colorbar": {
              "outlinewidth": 0,
              "ticks": ""
             }
            },
            "type": "scatterpolar"
           }
          ],
          "scatterpolargl": [
           {
            "marker": {
             "colorbar": {
              "outlinewidth": 0,
              "ticks": ""
             }
            },
            "type": "scatterpolargl"
           }
          ],
          "scatterternary": [
           {
            "marker": {
             "colorbar": {
              "outlinewidth": 0,
              "ticks": ""
             }
            },
            "type": "scatterternary"
           }
          ],
          "surface": [
           {
            "colorbar": {
             "outlinewidth": 0,
             "ticks": ""
            },
            "colorscale": [
             [
              0,
              "#0d0887"
             ],
             [
              0.1111111111111111,
              "#46039f"
             ],
             [
              0.2222222222222222,
              "#7201a8"
             ],
             [
              0.3333333333333333,
              "#9c179e"
             ],
             [
              0.4444444444444444,
              "#bd3786"
             ],
             [
              0.5555555555555556,
              "#d8576b"
             ],
             [
              0.6666666666666666,
              "#ed7953"
             ],
             [
              0.7777777777777778,
              "#fb9f3a"
             ],
             [
              0.8888888888888888,
              "#fdca26"
             ],
             [
              1,
              "#f0f921"
             ]
            ],
            "type": "surface"
           }
          ],
          "table": [
           {
            "cells": {
             "fill": {
              "color": "#EBF0F8"
             },
             "line": {
              "color": "white"
             }
            },
            "header": {
             "fill": {
              "color": "#C8D4E3"
             },
             "line": {
              "color": "white"
             }
            },
            "type": "table"
           }
          ]
         },
         "layout": {
          "annotationdefaults": {
           "arrowcolor": "#2a3f5f",
           "arrowhead": 0,
           "arrowwidth": 1
          },
          "autotypenumbers": "strict",
          "coloraxis": {
           "colorbar": {
            "outlinewidth": 0,
            "ticks": ""
           }
          },
          "colorscale": {
           "diverging": [
            [
             0,
             "#8e0152"
            ],
            [
             0.1,
             "#c51b7d"
            ],
            [
             0.2,
             "#de77ae"
            ],
            [
             0.3,
             "#f1b6da"
            ],
            [
             0.4,
             "#fde0ef"
            ],
            [
             0.5,
             "#f7f7f7"
            ],
            [
             0.6,
             "#e6f5d0"
            ],
            [
             0.7,
             "#b8e186"
            ],
            [
             0.8,
             "#7fbc41"
            ],
            [
             0.9,
             "#4d9221"
            ],
            [
             1,
             "#276419"
            ]
           ],
           "sequential": [
            [
             0,
             "#0d0887"
            ],
            [
             0.1111111111111111,
             "#46039f"
            ],
            [
             0.2222222222222222,
             "#7201a8"
            ],
            [
             0.3333333333333333,
             "#9c179e"
            ],
            [
             0.4444444444444444,
             "#bd3786"
            ],
            [
             0.5555555555555556,
             "#d8576b"
            ],
            [
             0.6666666666666666,
             "#ed7953"
            ],
            [
             0.7777777777777778,
             "#fb9f3a"
            ],
            [
             0.8888888888888888,
             "#fdca26"
            ],
            [
             1,
             "#f0f921"
            ]
           ],
           "sequentialminus": [
            [
             0,
             "#0d0887"
            ],
            [
             0.1111111111111111,
             "#46039f"
            ],
            [
             0.2222222222222222,
             "#7201a8"
            ],
            [
             0.3333333333333333,
             "#9c179e"
            ],
            [
             0.4444444444444444,
             "#bd3786"
            ],
            [
             0.5555555555555556,
             "#d8576b"
            ],
            [
             0.6666666666666666,
             "#ed7953"
            ],
            [
             0.7777777777777778,
             "#fb9f3a"
            ],
            [
             0.8888888888888888,
             "#fdca26"
            ],
            [
             1,
             "#f0f921"
            ]
           ]
          },
          "colorway": [
           "#636efa",
           "#EF553B",
           "#00cc96",
           "#ab63fa",
           "#FFA15A",
           "#19d3f3",
           "#FF6692",
           "#B6E880",
           "#FF97FF",
           "#FECB52"
          ],
          "font": {
           "color": "#2a3f5f"
          },
          "geo": {
           "bgcolor": "white",
           "lakecolor": "white",
           "landcolor": "#E5ECF6",
           "showlakes": true,
           "showland": true,
           "subunitcolor": "white"
          },
          "hoverlabel": {
           "align": "left"
          },
          "hovermode": "closest",
          "mapbox": {
           "style": "light"
          },
          "paper_bgcolor": "white",
          "plot_bgcolor": "#E5ECF6",
          "polar": {
           "angularaxis": {
            "gridcolor": "white",
            "linecolor": "white",
            "ticks": ""
           },
           "bgcolor": "#E5ECF6",
           "radialaxis": {
            "gridcolor": "white",
            "linecolor": "white",
            "ticks": ""
           }
          },
          "scene": {
           "xaxis": {
            "backgroundcolor": "#E5ECF6",
            "gridcolor": "white",
            "gridwidth": 2,
            "linecolor": "white",
            "showbackground": true,
            "ticks": "",
            "zerolinecolor": "white"
           },
           "yaxis": {
            "backgroundcolor": "#E5ECF6",
            "gridcolor": "white",
            "gridwidth": 2,
            "linecolor": "white",
            "showbackground": true,
            "ticks": "",
            "zerolinecolor": "white"
           },
           "zaxis": {
            "backgroundcolor": "#E5ECF6",
            "gridcolor": "white",
            "gridwidth": 2,
            "linecolor": "white",
            "showbackground": true,
            "ticks": "",
            "zerolinecolor": "white"
           }
          },
          "shapedefaults": {
           "line": {
            "color": "#2a3f5f"
           }
          },
          "ternary": {
           "aaxis": {
            "gridcolor": "white",
            "linecolor": "white",
            "ticks": ""
           },
           "baxis": {
            "gridcolor": "white",
            "linecolor": "white",
            "ticks": ""
           },
           "bgcolor": "#E5ECF6",
           "caxis": {
            "gridcolor": "white",
            "linecolor": "white",
            "ticks": ""
           }
          },
          "title": {
           "x": 0.05
          },
          "xaxis": {
           "automargin": true,
           "gridcolor": "white",
           "linecolor": "white",
           "ticks": "",
           "title": {
            "standoff": 15
           },
           "zerolinecolor": "white",
           "zerolinewidth": 2
          },
          "yaxis": {
           "automargin": true,
           "gridcolor": "white",
           "linecolor": "white",
           "ticks": "",
           "title": {
            "standoff": 15
           },
           "zerolinecolor": "white",
           "zerolinewidth": 2
          }
         }
        },
        "xaxis": {
         "anchor": "y",
         "domain": [
          0,
          1
         ],
         "title": {
          "text": "total_bill"
         }
        },
        "yaxis": {
         "anchor": "x",
         "domain": [
          0,
          1
         ],
         "title": {
          "text": "day"
         }
        }
       }
      }
     },
     "metadata": {},
     "output_type": "display_data"
    }
   ],
   "source": [
    "px.bar(df_agrupado_pelo_dia_e_sexo, x='total_bill', y='day', color='sex', barmode='group', orientation='h')"
   ]
  },
  {
   "cell_type": "markdown",
   "metadata": {},
   "source": [
    "## Gráfico de dispersão"
   ]
  },
  {
   "cell_type": "code",
   "execution_count": 26,
   "metadata": {},
   "outputs": [
    {
     "data": {
      "application/vnd.plotly.v1+json": {
       "config": {
        "plotlyServerURL": "https://plot.ly"
       },
       "data": [
        {
         "hovertemplate": "<b>%{hovertext}</b><br><br>day=Sun<br>total_bill=%{x}<br>tip=%{y}<extra></extra>",
         "hovertext": [
          "Dinner",
          "Dinner",
          "Dinner",
          "Dinner",
          "Dinner",
          "Dinner",
          "Dinner",
          "Dinner",
          "Dinner",
          "Dinner",
          "Dinner",
          "Dinner",
          "Dinner",
          "Dinner",
          "Dinner",
          "Dinner",
          "Dinner",
          "Dinner",
          "Dinner",
          "Dinner",
          "Dinner",
          "Dinner",
          "Dinner",
          "Dinner",
          "Dinner",
          "Dinner",
          "Dinner",
          "Dinner",
          "Dinner",
          "Dinner",
          "Dinner",
          "Dinner",
          "Dinner",
          "Dinner",
          "Dinner",
          "Dinner",
          "Dinner",
          "Dinner",
          "Dinner",
          "Dinner",
          "Dinner",
          "Dinner",
          "Dinner",
          "Dinner",
          "Dinner",
          "Dinner",
          "Dinner",
          "Dinner",
          "Dinner",
          "Dinner",
          "Dinner",
          "Dinner",
          "Dinner",
          "Dinner",
          "Dinner",
          "Dinner",
          "Dinner",
          "Dinner",
          "Dinner",
          "Dinner",
          "Dinner",
          "Dinner",
          "Dinner",
          "Dinner",
          "Dinner",
          "Dinner",
          "Dinner",
          "Dinner",
          "Dinner",
          "Dinner",
          "Dinner",
          "Dinner",
          "Dinner",
          "Dinner",
          "Dinner",
          "Dinner"
         ],
         "legendgroup": "Sun",
         "marker": {
          "color": "#636efa",
          "symbol": "circle"
         },
         "mode": "markers",
         "name": "Sun",
         "orientation": "v",
         "showlegend": true,
         "type": "scatter",
         "x": [
          16.99,
          10.34,
          21.01,
          23.68,
          24.59,
          25.29,
          8.77,
          26.88,
          15.04,
          14.78,
          10.27,
          35.26,
          15.42,
          18.43,
          14.83,
          21.58,
          10.33,
          16.29,
          16.97,
          17.46,
          13.94,
          9.68,
          30.4,
          18.29,
          22.23,
          32.4,
          28.55,
          18.04,
          12.54,
          10.29,
          34.81,
          9.94,
          25.56,
          19.49,
          38.07,
          23.95,
          25.71,
          17.31,
          29.93,
          14.07,
          13.13,
          17.26,
          24.55,
          19.77,
          29.85,
          48.17,
          25,
          13.39,
          16.49,
          21.5,
          12.66,
          16.21,
          13.81,
          17.51,
          24.52,
          20.76,
          31.71,
          7.25,
          31.85,
          16.82,
          32.9,
          17.89,
          14.48,
          9.6,
          34.63,
          34.65,
          23.33,
          45.35,
          23.17,
          40.55,
          20.69,
          20.9,
          30.46,
          18.15,
          23.1,
          15.69
         ],
         "xaxis": "x",
         "y": [
          1.01,
          1.66,
          3.5,
          3.31,
          3.61,
          4.71,
          2,
          3.12,
          1.96,
          3.23,
          1.71,
          5,
          1.57,
          3,
          3.02,
          3.92,
          1.67,
          3.71,
          3.5,
          2.54,
          3.06,
          1.32,
          5.6,
          3,
          5,
          6,
          2.05,
          3,
          2.5,
          2.6,
          5.2,
          1.56,
          4.34,
          3.51,
          4,
          2.55,
          4,
          3.5,
          5.07,
          2.5,
          2,
          2.74,
          2,
          2,
          5.14,
          5,
          3.75,
          2.61,
          2,
          3.5,
          2.5,
          2,
          2,
          3,
          3.48,
          2.24,
          4.5,
          5.15,
          3.18,
          4,
          3.11,
          2,
          2,
          4,
          3.55,
          3.68,
          5.65,
          3.5,
          6.5,
          3,
          5,
          3.5,
          2,
          3.5,
          4,
          1.5
         ],
         "yaxis": "y"
        },
        {
         "hovertemplate": "<b>%{hovertext}</b><br><br>day=Sat<br>total_bill=%{x}<br>tip=%{y}<extra></extra>",
         "hovertext": [
          "Dinner",
          "Dinner",
          "Dinner",
          "Dinner",
          "Dinner",
          "Dinner",
          "Dinner",
          "Dinner",
          "Dinner",
          "Dinner",
          "Dinner",
          "Dinner",
          "Dinner",
          "Dinner",
          "Dinner",
          "Dinner",
          "Dinner",
          "Dinner",
          "Dinner",
          "Dinner",
          "Dinner",
          "Dinner",
          "Dinner",
          "Dinner",
          "Dinner",
          "Dinner",
          "Dinner",
          "Dinner",
          "Dinner",
          "Dinner",
          "Dinner",
          "Dinner",
          "Dinner",
          "Dinner",
          "Dinner",
          "Dinner",
          "Dinner",
          "Dinner",
          "Dinner",
          "Dinner",
          "Dinner",
          "Dinner",
          "Dinner",
          "Dinner",
          "Dinner",
          "Dinner",
          "Dinner",
          "Dinner",
          "Dinner",
          "Dinner",
          "Dinner",
          "Dinner",
          "Dinner",
          "Dinner",
          "Dinner",
          "Dinner",
          "Dinner",
          "Dinner",
          "Dinner",
          "Dinner",
          "Dinner",
          "Dinner",
          "Dinner",
          "Dinner",
          "Dinner",
          "Dinner",
          "Dinner",
          "Dinner",
          "Dinner",
          "Dinner",
          "Dinner",
          "Dinner",
          "Dinner",
          "Dinner",
          "Dinner",
          "Dinner",
          "Dinner",
          "Dinner",
          "Dinner",
          "Dinner",
          "Dinner",
          "Dinner",
          "Dinner",
          "Dinner",
          "Dinner",
          "Dinner",
          "Dinner"
         ],
         "legendgroup": "Sat",
         "marker": {
          "color": "#EF553B",
          "symbol": "circle"
         },
         "mode": "markers",
         "name": "Sat",
         "orientation": "v",
         "showlegend": true,
         "type": "scatter",
         "x": [
          20.65,
          17.92,
          20.29,
          15.77,
          39.42,
          19.82,
          17.81,
          13.37,
          12.69,
          21.7,
          19.65,
          9.55,
          18.35,
          15.06,
          20.69,
          17.78,
          24.06,
          16.31,
          16.93,
          18.69,
          31.27,
          16.04,
          38.01,
          26.41,
          11.24,
          48.27,
          20.29,
          13.81,
          11.02,
          18.29,
          17.59,
          20.08,
          16.45,
          3.07,
          20.23,
          15.01,
          12.02,
          17.07,
          26.86,
          25.28,
          14.73,
          10.51,
          17.92,
          44.3,
          22.42,
          20.92,
          15.36,
          20.49,
          25.21,
          18.24,
          14.31,
          14,
          7.25,
          10.59,
          10.63,
          50.81,
          15.81,
          26.59,
          38.73,
          24.27,
          12.76,
          30.06,
          25.89,
          48.33,
          13.27,
          28.17,
          12.9,
          28.15,
          11.59,
          7.74,
          30.14,
          20.45,
          13.28,
          22.12,
          24.01,
          15.69,
          11.61,
          10.77,
          15.53,
          10.07,
          12.6,
          32.83,
          35.83,
          29.03,
          27.18,
          22.67,
          17.82
         ],
         "xaxis": "x",
         "y": [
          3.35,
          4.08,
          2.75,
          2.23,
          7.58,
          3.18,
          2.34,
          2,
          2,
          4.3,
          3,
          1.45,
          2.5,
          3,
          2.45,
          3.27,
          3.6,
          2,
          3.07,
          2.31,
          5,
          2.24,
          3,
          1.5,
          1.76,
          6.73,
          3.21,
          2,
          1.98,
          3.76,
          2.64,
          3.15,
          2.47,
          1,
          2.01,
          2.09,
          1.97,
          3,
          3.14,
          5,
          2.2,
          1.25,
          3.08,
          2.5,
          3.48,
          4.08,
          1.64,
          4.06,
          4.29,
          3.76,
          4,
          3,
          1,
          1.61,
          2,
          10,
          3.16,
          3.41,
          3,
          2.03,
          2.23,
          2,
          5.16,
          9,
          2.5,
          6.5,
          1.1,
          3,
          1.5,
          1.44,
          3.09,
          3,
          2.72,
          2.88,
          2,
          3,
          3.39,
          1.47,
          3,
          1.25,
          1,
          1.17,
          4.67,
          5.92,
          2,
          2,
          1.75
         ],
         "yaxis": "y"
        },
        {
         "hovertemplate": "<b>%{hovertext}</b><br><br>day=Thur<br>total_bill=%{x}<br>tip=%{y}<extra></extra>",
         "hovertext": [
          "Lunch",
          "Lunch",
          "Lunch",
          "Lunch",
          "Lunch",
          "Lunch",
          "Lunch",
          "Lunch",
          "Lunch",
          "Lunch",
          "Lunch",
          "Lunch",
          "Lunch",
          "Lunch",
          "Lunch",
          "Lunch",
          "Lunch",
          "Lunch",
          "Lunch",
          "Lunch",
          "Lunch",
          "Lunch",
          "Lunch",
          "Lunch",
          "Lunch",
          "Lunch",
          "Lunch",
          "Lunch",
          "Lunch",
          "Lunch",
          "Lunch",
          "Lunch",
          "Lunch",
          "Lunch",
          "Lunch",
          "Lunch",
          "Lunch",
          "Lunch",
          "Lunch",
          "Lunch",
          "Lunch",
          "Lunch",
          "Lunch",
          "Lunch",
          "Lunch",
          "Lunch",
          "Lunch",
          "Lunch",
          "Lunch",
          "Lunch",
          "Lunch",
          "Lunch",
          "Lunch",
          "Lunch",
          "Lunch",
          "Lunch",
          "Lunch",
          "Lunch",
          "Lunch",
          "Lunch",
          "Lunch",
          "Dinner"
         ],
         "legendgroup": "Thur",
         "marker": {
          "color": "#00cc96",
          "symbol": "circle"
         },
         "mode": "markers",
         "name": "Thur",
         "orientation": "v",
         "showlegend": true,
         "type": "scatter",
         "x": [
          27.2,
          22.76,
          17.29,
          19.44,
          16.66,
          10.07,
          32.68,
          15.98,
          34.83,
          13.03,
          18.28,
          24.71,
          21.16,
          10.65,
          12.43,
          24.08,
          11.69,
          13.42,
          14.26,
          15.95,
          12.48,
          29.8,
          8.52,
          14.52,
          11.38,
          22.82,
          19.08,
          20.27,
          11.17,
          12.26,
          18.26,
          8.51,
          10.33,
          14.15,
          16,
          13.16,
          17.47,
          34.3,
          41.19,
          27.05,
          16.43,
          8.35,
          18.64,
          11.87,
          9.78,
          7.51,
          19.81,
          28.44,
          15.48,
          16.58,
          7.56,
          10.34,
          43.11,
          13,
          13.51,
          18.71,
          12.74,
          13,
          16.4,
          20.53,
          16.47,
          18.78
         ],
         "xaxis": "x",
         "y": [
          4,
          3,
          2.71,
          3,
          3.4,
          1.83,
          5,
          2.03,
          5.17,
          2,
          4,
          5.85,
          3,
          1.5,
          1.8,
          2.92,
          2.31,
          1.68,
          2.5,
          2,
          2.52,
          4.2,
          1.48,
          2,
          2,
          2.18,
          1.5,
          2.83,
          1.5,
          2,
          3.25,
          1.25,
          2,
          2,
          2,
          2.75,
          3.5,
          6.7,
          5,
          5,
          2.3,
          1.5,
          1.36,
          1.63,
          1.73,
          2,
          4.19,
          2.56,
          2.02,
          4,
          1.44,
          2,
          5,
          2,
          2,
          4,
          2.01,
          2,
          2.5,
          4,
          3.23,
          3
         ],
         "yaxis": "y"
        },
        {
         "hovertemplate": "<b>%{hovertext}</b><br><br>day=Fri<br>total_bill=%{x}<br>tip=%{y}<extra></extra>",
         "hovertext": [
          "Dinner",
          "Dinner",
          "Dinner",
          "Dinner",
          "Dinner",
          "Dinner",
          "Dinner",
          "Dinner",
          "Dinner",
          "Dinner",
          "Dinner",
          "Dinner",
          "Lunch",
          "Lunch",
          "Lunch",
          "Lunch",
          "Lunch",
          "Lunch",
          "Lunch"
         ],
         "legendgroup": "Fri",
         "marker": {
          "color": "#ab63fa",
          "symbol": "circle"
         },
         "mode": "markers",
         "name": "Fri",
         "orientation": "v",
         "showlegend": true,
         "type": "scatter",
         "x": [
          28.97,
          22.49,
          5.75,
          16.32,
          22.75,
          40.17,
          27.28,
          12.03,
          21.01,
          12.46,
          11.35,
          15.38,
          12.16,
          13.42,
          8.58,
          15.98,
          13.42,
          16.27,
          10.09
         ],
         "xaxis": "x",
         "y": [
          3,
          3.5,
          1,
          4.3,
          3.25,
          4.73,
          4,
          1.5,
          3,
          1.5,
          2.5,
          3,
          2.2,
          3.48,
          1.92,
          3,
          1.58,
          2.5,
          2
         ],
         "yaxis": "y"
        }
       ],
       "layout": {
        "legend": {
         "title": {
          "text": "day"
         },
         "tracegroupgap": 0
        },
        "margin": {
         "t": 60
        },
        "template": {
         "data": {
          "bar": [
           {
            "error_x": {
             "color": "#2a3f5f"
            },
            "error_y": {
             "color": "#2a3f5f"
            },
            "marker": {
             "line": {
              "color": "#E5ECF6",
              "width": 0.5
             },
             "pattern": {
              "fillmode": "overlay",
              "size": 10,
              "solidity": 0.2
             }
            },
            "type": "bar"
           }
          ],
          "barpolar": [
           {
            "marker": {
             "line": {
              "color": "#E5ECF6",
              "width": 0.5
             },
             "pattern": {
              "fillmode": "overlay",
              "size": 10,
              "solidity": 0.2
             }
            },
            "type": "barpolar"
           }
          ],
          "carpet": [
           {
            "aaxis": {
             "endlinecolor": "#2a3f5f",
             "gridcolor": "white",
             "linecolor": "white",
             "minorgridcolor": "white",
             "startlinecolor": "#2a3f5f"
            },
            "baxis": {
             "endlinecolor": "#2a3f5f",
             "gridcolor": "white",
             "linecolor": "white",
             "minorgridcolor": "white",
             "startlinecolor": "#2a3f5f"
            },
            "type": "carpet"
           }
          ],
          "choropleth": [
           {
            "colorbar": {
             "outlinewidth": 0,
             "ticks": ""
            },
            "type": "choropleth"
           }
          ],
          "contour": [
           {
            "colorbar": {
             "outlinewidth": 0,
             "ticks": ""
            },
            "colorscale": [
             [
              0,
              "#0d0887"
             ],
             [
              0.1111111111111111,
              "#46039f"
             ],
             [
              0.2222222222222222,
              "#7201a8"
             ],
             [
              0.3333333333333333,
              "#9c179e"
             ],
             [
              0.4444444444444444,
              "#bd3786"
             ],
             [
              0.5555555555555556,
              "#d8576b"
             ],
             [
              0.6666666666666666,
              "#ed7953"
             ],
             [
              0.7777777777777778,
              "#fb9f3a"
             ],
             [
              0.8888888888888888,
              "#fdca26"
             ],
             [
              1,
              "#f0f921"
             ]
            ],
            "type": "contour"
           }
          ],
          "contourcarpet": [
           {
            "colorbar": {
             "outlinewidth": 0,
             "ticks": ""
            },
            "type": "contourcarpet"
           }
          ],
          "heatmap": [
           {
            "colorbar": {
             "outlinewidth": 0,
             "ticks": ""
            },
            "colorscale": [
             [
              0,
              "#0d0887"
             ],
             [
              0.1111111111111111,
              "#46039f"
             ],
             [
              0.2222222222222222,
              "#7201a8"
             ],
             [
              0.3333333333333333,
              "#9c179e"
             ],
             [
              0.4444444444444444,
              "#bd3786"
             ],
             [
              0.5555555555555556,
              "#d8576b"
             ],
             [
              0.6666666666666666,
              "#ed7953"
             ],
             [
              0.7777777777777778,
              "#fb9f3a"
             ],
             [
              0.8888888888888888,
              "#fdca26"
             ],
             [
              1,
              "#f0f921"
             ]
            ],
            "type": "heatmap"
           }
          ],
          "heatmapgl": [
           {
            "colorbar": {
             "outlinewidth": 0,
             "ticks": ""
            },
            "colorscale": [
             [
              0,
              "#0d0887"
             ],
             [
              0.1111111111111111,
              "#46039f"
             ],
             [
              0.2222222222222222,
              "#7201a8"
             ],
             [
              0.3333333333333333,
              "#9c179e"
             ],
             [
              0.4444444444444444,
              "#bd3786"
             ],
             [
              0.5555555555555556,
              "#d8576b"
             ],
             [
              0.6666666666666666,
              "#ed7953"
             ],
             [
              0.7777777777777778,
              "#fb9f3a"
             ],
             [
              0.8888888888888888,
              "#fdca26"
             ],
             [
              1,
              "#f0f921"
             ]
            ],
            "type": "heatmapgl"
           }
          ],
          "histogram": [
           {
            "marker": {
             "pattern": {
              "fillmode": "overlay",
              "size": 10,
              "solidity": 0.2
             }
            },
            "type": "histogram"
           }
          ],
          "histogram2d": [
           {
            "colorbar": {
             "outlinewidth": 0,
             "ticks": ""
            },
            "colorscale": [
             [
              0,
              "#0d0887"
             ],
             [
              0.1111111111111111,
              "#46039f"
             ],
             [
              0.2222222222222222,
              "#7201a8"
             ],
             [
              0.3333333333333333,
              "#9c179e"
             ],
             [
              0.4444444444444444,
              "#bd3786"
             ],
             [
              0.5555555555555556,
              "#d8576b"
             ],
             [
              0.6666666666666666,
              "#ed7953"
             ],
             [
              0.7777777777777778,
              "#fb9f3a"
             ],
             [
              0.8888888888888888,
              "#fdca26"
             ],
             [
              1,
              "#f0f921"
             ]
            ],
            "type": "histogram2d"
           }
          ],
          "histogram2dcontour": [
           {
            "colorbar": {
             "outlinewidth": 0,
             "ticks": ""
            },
            "colorscale": [
             [
              0,
              "#0d0887"
             ],
             [
              0.1111111111111111,
              "#46039f"
             ],
             [
              0.2222222222222222,
              "#7201a8"
             ],
             [
              0.3333333333333333,
              "#9c179e"
             ],
             [
              0.4444444444444444,
              "#bd3786"
             ],
             [
              0.5555555555555556,
              "#d8576b"
             ],
             [
              0.6666666666666666,
              "#ed7953"
             ],
             [
              0.7777777777777778,
              "#fb9f3a"
             ],
             [
              0.8888888888888888,
              "#fdca26"
             ],
             [
              1,
              "#f0f921"
             ]
            ],
            "type": "histogram2dcontour"
           }
          ],
          "mesh3d": [
           {
            "colorbar": {
             "outlinewidth": 0,
             "ticks": ""
            },
            "type": "mesh3d"
           }
          ],
          "parcoords": [
           {
            "line": {
             "colorbar": {
              "outlinewidth": 0,
              "ticks": ""
             }
            },
            "type": "parcoords"
           }
          ],
          "pie": [
           {
            "automargin": true,
            "type": "pie"
           }
          ],
          "scatter": [
           {
            "fillpattern": {
             "fillmode": "overlay",
             "size": 10,
             "solidity": 0.2
            },
            "type": "scatter"
           }
          ],
          "scatter3d": [
           {
            "line": {
             "colorbar": {
              "outlinewidth": 0,
              "ticks": ""
             }
            },
            "marker": {
             "colorbar": {
              "outlinewidth": 0,
              "ticks": ""
             }
            },
            "type": "scatter3d"
           }
          ],
          "scattercarpet": [
           {
            "marker": {
             "colorbar": {
              "outlinewidth": 0,
              "ticks": ""
             }
            },
            "type": "scattercarpet"
           }
          ],
          "scattergeo": [
           {
            "marker": {
             "colorbar": {
              "outlinewidth": 0,
              "ticks": ""
             }
            },
            "type": "scattergeo"
           }
          ],
          "scattergl": [
           {
            "marker": {
             "colorbar": {
              "outlinewidth": 0,
              "ticks": ""
             }
            },
            "type": "scattergl"
           }
          ],
          "scattermapbox": [
           {
            "marker": {
             "colorbar": {
              "outlinewidth": 0,
              "ticks": ""
             }
            },
            "type": "scattermapbox"
           }
          ],
          "scatterpolar": [
           {
            "marker": {
             "colorbar": {
              "outlinewidth": 0,
              "ticks": ""
             }
            },
            "type": "scatterpolar"
           }
          ],
          "scatterpolargl": [
           {
            "marker": {
             "colorbar": {
              "outlinewidth": 0,
              "ticks": ""
             }
            },
            "type": "scatterpolargl"
           }
          ],
          "scatterternary": [
           {
            "marker": {
             "colorbar": {
              "outlinewidth": 0,
              "ticks": ""
             }
            },
            "type": "scatterternary"
           }
          ],
          "surface": [
           {
            "colorbar": {
             "outlinewidth": 0,
             "ticks": ""
            },
            "colorscale": [
             [
              0,
              "#0d0887"
             ],
             [
              0.1111111111111111,
              "#46039f"
             ],
             [
              0.2222222222222222,
              "#7201a8"
             ],
             [
              0.3333333333333333,
              "#9c179e"
             ],
             [
              0.4444444444444444,
              "#bd3786"
             ],
             [
              0.5555555555555556,
              "#d8576b"
             ],
             [
              0.6666666666666666,
              "#ed7953"
             ],
             [
              0.7777777777777778,
              "#fb9f3a"
             ],
             [
              0.8888888888888888,
              "#fdca26"
             ],
             [
              1,
              "#f0f921"
             ]
            ],
            "type": "surface"
           }
          ],
          "table": [
           {
            "cells": {
             "fill": {
              "color": "#EBF0F8"
             },
             "line": {
              "color": "white"
             }
            },
            "header": {
             "fill": {
              "color": "#C8D4E3"
             },
             "line": {
              "color": "white"
             }
            },
            "type": "table"
           }
          ]
         },
         "layout": {
          "annotationdefaults": {
           "arrowcolor": "#2a3f5f",
           "arrowhead": 0,
           "arrowwidth": 1
          },
          "autotypenumbers": "strict",
          "coloraxis": {
           "colorbar": {
            "outlinewidth": 0,
            "ticks": ""
           }
          },
          "colorscale": {
           "diverging": [
            [
             0,
             "#8e0152"
            ],
            [
             0.1,
             "#c51b7d"
            ],
            [
             0.2,
             "#de77ae"
            ],
            [
             0.3,
             "#f1b6da"
            ],
            [
             0.4,
             "#fde0ef"
            ],
            [
             0.5,
             "#f7f7f7"
            ],
            [
             0.6,
             "#e6f5d0"
            ],
            [
             0.7,
             "#b8e186"
            ],
            [
             0.8,
             "#7fbc41"
            ],
            [
             0.9,
             "#4d9221"
            ],
            [
             1,
             "#276419"
            ]
           ],
           "sequential": [
            [
             0,
             "#0d0887"
            ],
            [
             0.1111111111111111,
             "#46039f"
            ],
            [
             0.2222222222222222,
             "#7201a8"
            ],
            [
             0.3333333333333333,
             "#9c179e"
            ],
            [
             0.4444444444444444,
             "#bd3786"
            ],
            [
             0.5555555555555556,
             "#d8576b"
            ],
            [
             0.6666666666666666,
             "#ed7953"
            ],
            [
             0.7777777777777778,
             "#fb9f3a"
            ],
            [
             0.8888888888888888,
             "#fdca26"
            ],
            [
             1,
             "#f0f921"
            ]
           ],
           "sequentialminus": [
            [
             0,
             "#0d0887"
            ],
            [
             0.1111111111111111,
             "#46039f"
            ],
            [
             0.2222222222222222,
             "#7201a8"
            ],
            [
             0.3333333333333333,
             "#9c179e"
            ],
            [
             0.4444444444444444,
             "#bd3786"
            ],
            [
             0.5555555555555556,
             "#d8576b"
            ],
            [
             0.6666666666666666,
             "#ed7953"
            ],
            [
             0.7777777777777778,
             "#fb9f3a"
            ],
            [
             0.8888888888888888,
             "#fdca26"
            ],
            [
             1,
             "#f0f921"
            ]
           ]
          },
          "colorway": [
           "#636efa",
           "#EF553B",
           "#00cc96",
           "#ab63fa",
           "#FFA15A",
           "#19d3f3",
           "#FF6692",
           "#B6E880",
           "#FF97FF",
           "#FECB52"
          ],
          "font": {
           "color": "#2a3f5f"
          },
          "geo": {
           "bgcolor": "white",
           "lakecolor": "white",
           "landcolor": "#E5ECF6",
           "showlakes": true,
           "showland": true,
           "subunitcolor": "white"
          },
          "hoverlabel": {
           "align": "left"
          },
          "hovermode": "closest",
          "mapbox": {
           "style": "light"
          },
          "paper_bgcolor": "white",
          "plot_bgcolor": "#E5ECF6",
          "polar": {
           "angularaxis": {
            "gridcolor": "white",
            "linecolor": "white",
            "ticks": ""
           },
           "bgcolor": "#E5ECF6",
           "radialaxis": {
            "gridcolor": "white",
            "linecolor": "white",
            "ticks": ""
           }
          },
          "scene": {
           "xaxis": {
            "backgroundcolor": "#E5ECF6",
            "gridcolor": "white",
            "gridwidth": 2,
            "linecolor": "white",
            "showbackground": true,
            "ticks": "",
            "zerolinecolor": "white"
           },
           "yaxis": {
            "backgroundcolor": "#E5ECF6",
            "gridcolor": "white",
            "gridwidth": 2,
            "linecolor": "white",
            "showbackground": true,
            "ticks": "",
            "zerolinecolor": "white"
           },
           "zaxis": {
            "backgroundcolor": "#E5ECF6",
            "gridcolor": "white",
            "gridwidth": 2,
            "linecolor": "white",
            "showbackground": true,
            "ticks": "",
            "zerolinecolor": "white"
           }
          },
          "shapedefaults": {
           "line": {
            "color": "#2a3f5f"
           }
          },
          "ternary": {
           "aaxis": {
            "gridcolor": "white",
            "linecolor": "white",
            "ticks": ""
           },
           "baxis": {
            "gridcolor": "white",
            "linecolor": "white",
            "ticks": ""
           },
           "bgcolor": "#E5ECF6",
           "caxis": {
            "gridcolor": "white",
            "linecolor": "white",
            "ticks": ""
           }
          },
          "title": {
           "x": 0.05
          },
          "xaxis": {
           "automargin": true,
           "gridcolor": "white",
           "linecolor": "white",
           "ticks": "",
           "title": {
            "standoff": 15
           },
           "zerolinecolor": "white",
           "zerolinewidth": 2
          },
          "yaxis": {
           "automargin": true,
           "gridcolor": "white",
           "linecolor": "white",
           "ticks": "",
           "title": {
            "standoff": 15
           },
           "zerolinecolor": "white",
           "zerolinewidth": 2
          }
         }
        },
        "xaxis": {
         "anchor": "y",
         "domain": [
          0,
          1
         ],
         "title": {
          "text": "total_bill"
         }
        },
        "yaxis": {
         "anchor": "x",
         "domain": [
          0,
          1
         ],
         "title": {
          "text": "tip"
         }
        }
       }
      }
     },
     "metadata": {},
     "output_type": "display_data"
    }
   ],
   "source": [
    "px.scatter(df, x='total_bill', y='tip', color='day', hover_name='time')"
   ]
  },
  {
   "cell_type": "markdown",
   "metadata": {},
   "source": [
    "## Gráfico de pizza"
   ]
  },
  {
   "cell_type": "code",
   "execution_count": 27,
   "metadata": {},
   "outputs": [],
   "source": [
    "qtde_pedidos_por_dia = df['day'].value_counts()"
   ]
  },
  {
   "cell_type": "code",
   "execution_count": 28,
   "metadata": {},
   "outputs": [
    {
     "data": {
      "text/plain": [
       "day\n",
       "Sat     87\n",
       "Sun     76\n",
       "Thur    62\n",
       "Fri     19\n",
       "Name: count, dtype: int64"
      ]
     },
     "execution_count": 28,
     "metadata": {},
     "output_type": "execute_result"
    }
   ],
   "source": [
    "qtde_pedidos_por_dia"
   ]
  },
  {
   "cell_type": "code",
   "execution_count": 29,
   "metadata": {},
   "outputs": [
    {
     "data": {
      "text/plain": [
       "Index(['Sat', 'Sun', 'Thur', 'Fri'], dtype='object', name='day')"
      ]
     },
     "execution_count": 29,
     "metadata": {},
     "output_type": "execute_result"
    }
   ],
   "source": [
    "qtde_pedidos_por_dia.index"
   ]
  },
  {
   "cell_type": "code",
   "execution_count": 30,
   "metadata": {},
   "outputs": [
    {
     "data": {
      "text/plain": [
       "array([87, 76, 62, 19], dtype=int64)"
      ]
     },
     "execution_count": 30,
     "metadata": {},
     "output_type": "execute_result"
    }
   ],
   "source": [
    "qtde_pedidos_por_dia.values"
   ]
  },
  {
   "cell_type": "code",
   "execution_count": 31,
   "metadata": {},
   "outputs": [
    {
     "data": {
      "application/vnd.plotly.v1+json": {
       "config": {
        "plotlyServerURL": "https://plot.ly"
       },
       "data": [
        {
         "domain": {
          "x": [
           0,
           1
          ],
          "y": [
           0,
           1
          ]
         },
         "hovertemplate": "day=%{label}<br>value=%{value}<extra></extra>",
         "labels": [
          "Sat",
          "Sun",
          "Thur",
          "Fri"
         ],
         "legendgroup": "",
         "name": "",
         "showlegend": true,
         "type": "pie",
         "values": [
          87,
          76,
          62,
          19
         ]
        }
       ],
       "layout": {
        "legend": {
         "tracegroupgap": 0
        },
        "margin": {
         "t": 60
        },
        "template": {
         "data": {
          "bar": [
           {
            "error_x": {
             "color": "#2a3f5f"
            },
            "error_y": {
             "color": "#2a3f5f"
            },
            "marker": {
             "line": {
              "color": "#E5ECF6",
              "width": 0.5
             },
             "pattern": {
              "fillmode": "overlay",
              "size": 10,
              "solidity": 0.2
             }
            },
            "type": "bar"
           }
          ],
          "barpolar": [
           {
            "marker": {
             "line": {
              "color": "#E5ECF6",
              "width": 0.5
             },
             "pattern": {
              "fillmode": "overlay",
              "size": 10,
              "solidity": 0.2
             }
            },
            "type": "barpolar"
           }
          ],
          "carpet": [
           {
            "aaxis": {
             "endlinecolor": "#2a3f5f",
             "gridcolor": "white",
             "linecolor": "white",
             "minorgridcolor": "white",
             "startlinecolor": "#2a3f5f"
            },
            "baxis": {
             "endlinecolor": "#2a3f5f",
             "gridcolor": "white",
             "linecolor": "white",
             "minorgridcolor": "white",
             "startlinecolor": "#2a3f5f"
            },
            "type": "carpet"
           }
          ],
          "choropleth": [
           {
            "colorbar": {
             "outlinewidth": 0,
             "ticks": ""
            },
            "type": "choropleth"
           }
          ],
          "contour": [
           {
            "colorbar": {
             "outlinewidth": 0,
             "ticks": ""
            },
            "colorscale": [
             [
              0,
              "#0d0887"
             ],
             [
              0.1111111111111111,
              "#46039f"
             ],
             [
              0.2222222222222222,
              "#7201a8"
             ],
             [
              0.3333333333333333,
              "#9c179e"
             ],
             [
              0.4444444444444444,
              "#bd3786"
             ],
             [
              0.5555555555555556,
              "#d8576b"
             ],
             [
              0.6666666666666666,
              "#ed7953"
             ],
             [
              0.7777777777777778,
              "#fb9f3a"
             ],
             [
              0.8888888888888888,
              "#fdca26"
             ],
             [
              1,
              "#f0f921"
             ]
            ],
            "type": "contour"
           }
          ],
          "contourcarpet": [
           {
            "colorbar": {
             "outlinewidth": 0,
             "ticks": ""
            },
            "type": "contourcarpet"
           }
          ],
          "heatmap": [
           {
            "colorbar": {
             "outlinewidth": 0,
             "ticks": ""
            },
            "colorscale": [
             [
              0,
              "#0d0887"
             ],
             [
              0.1111111111111111,
              "#46039f"
             ],
             [
              0.2222222222222222,
              "#7201a8"
             ],
             [
              0.3333333333333333,
              "#9c179e"
             ],
             [
              0.4444444444444444,
              "#bd3786"
             ],
             [
              0.5555555555555556,
              "#d8576b"
             ],
             [
              0.6666666666666666,
              "#ed7953"
             ],
             [
              0.7777777777777778,
              "#fb9f3a"
             ],
             [
              0.8888888888888888,
              "#fdca26"
             ],
             [
              1,
              "#f0f921"
             ]
            ],
            "type": "heatmap"
           }
          ],
          "heatmapgl": [
           {
            "colorbar": {
             "outlinewidth": 0,
             "ticks": ""
            },
            "colorscale": [
             [
              0,
              "#0d0887"
             ],
             [
              0.1111111111111111,
              "#46039f"
             ],
             [
              0.2222222222222222,
              "#7201a8"
             ],
             [
              0.3333333333333333,
              "#9c179e"
             ],
             [
              0.4444444444444444,
              "#bd3786"
             ],
             [
              0.5555555555555556,
              "#d8576b"
             ],
             [
              0.6666666666666666,
              "#ed7953"
             ],
             [
              0.7777777777777778,
              "#fb9f3a"
             ],
             [
              0.8888888888888888,
              "#fdca26"
             ],
             [
              1,
              "#f0f921"
             ]
            ],
            "type": "heatmapgl"
           }
          ],
          "histogram": [
           {
            "marker": {
             "pattern": {
              "fillmode": "overlay",
              "size": 10,
              "solidity": 0.2
             }
            },
            "type": "histogram"
           }
          ],
          "histogram2d": [
           {
            "colorbar": {
             "outlinewidth": 0,
             "ticks": ""
            },
            "colorscale": [
             [
              0,
              "#0d0887"
             ],
             [
              0.1111111111111111,
              "#46039f"
             ],
             [
              0.2222222222222222,
              "#7201a8"
             ],
             [
              0.3333333333333333,
              "#9c179e"
             ],
             [
              0.4444444444444444,
              "#bd3786"
             ],
             [
              0.5555555555555556,
              "#d8576b"
             ],
             [
              0.6666666666666666,
              "#ed7953"
             ],
             [
              0.7777777777777778,
              "#fb9f3a"
             ],
             [
              0.8888888888888888,
              "#fdca26"
             ],
             [
              1,
              "#f0f921"
             ]
            ],
            "type": "histogram2d"
           }
          ],
          "histogram2dcontour": [
           {
            "colorbar": {
             "outlinewidth": 0,
             "ticks": ""
            },
            "colorscale": [
             [
              0,
              "#0d0887"
             ],
             [
              0.1111111111111111,
              "#46039f"
             ],
             [
              0.2222222222222222,
              "#7201a8"
             ],
             [
              0.3333333333333333,
              "#9c179e"
             ],
             [
              0.4444444444444444,
              "#bd3786"
             ],
             [
              0.5555555555555556,
              "#d8576b"
             ],
             [
              0.6666666666666666,
              "#ed7953"
             ],
             [
              0.7777777777777778,
              "#fb9f3a"
             ],
             [
              0.8888888888888888,
              "#fdca26"
             ],
             [
              1,
              "#f0f921"
             ]
            ],
            "type": "histogram2dcontour"
           }
          ],
          "mesh3d": [
           {
            "colorbar": {
             "outlinewidth": 0,
             "ticks": ""
            },
            "type": "mesh3d"
           }
          ],
          "parcoords": [
           {
            "line": {
             "colorbar": {
              "outlinewidth": 0,
              "ticks": ""
             }
            },
            "type": "parcoords"
           }
          ],
          "pie": [
           {
            "automargin": true,
            "type": "pie"
           }
          ],
          "scatter": [
           {
            "fillpattern": {
             "fillmode": "overlay",
             "size": 10,
             "solidity": 0.2
            },
            "type": "scatter"
           }
          ],
          "scatter3d": [
           {
            "line": {
             "colorbar": {
              "outlinewidth": 0,
              "ticks": ""
             }
            },
            "marker": {
             "colorbar": {
              "outlinewidth": 0,
              "ticks": ""
             }
            },
            "type": "scatter3d"
           }
          ],
          "scattercarpet": [
           {
            "marker": {
             "colorbar": {
              "outlinewidth": 0,
              "ticks": ""
             }
            },
            "type": "scattercarpet"
           }
          ],
          "scattergeo": [
           {
            "marker": {
             "colorbar": {
              "outlinewidth": 0,
              "ticks": ""
             }
            },
            "type": "scattergeo"
           }
          ],
          "scattergl": [
           {
            "marker": {
             "colorbar": {
              "outlinewidth": 0,
              "ticks": ""
             }
            },
            "type": "scattergl"
           }
          ],
          "scattermapbox": [
           {
            "marker": {
             "colorbar": {
              "outlinewidth": 0,
              "ticks": ""
             }
            },
            "type": "scattermapbox"
           }
          ],
          "scatterpolar": [
           {
            "marker": {
             "colorbar": {
              "outlinewidth": 0,
              "ticks": ""
             }
            },
            "type": "scatterpolar"
           }
          ],
          "scatterpolargl": [
           {
            "marker": {
             "colorbar": {
              "outlinewidth": 0,
              "ticks": ""
             }
            },
            "type": "scatterpolargl"
           }
          ],
          "scatterternary": [
           {
            "marker": {
             "colorbar": {
              "outlinewidth": 0,
              "ticks": ""
             }
            },
            "type": "scatterternary"
           }
          ],
          "surface": [
           {
            "colorbar": {
             "outlinewidth": 0,
             "ticks": ""
            },
            "colorscale": [
             [
              0,
              "#0d0887"
             ],
             [
              0.1111111111111111,
              "#46039f"
             ],
             [
              0.2222222222222222,
              "#7201a8"
             ],
             [
              0.3333333333333333,
              "#9c179e"
             ],
             [
              0.4444444444444444,
              "#bd3786"
             ],
             [
              0.5555555555555556,
              "#d8576b"
             ],
             [
              0.6666666666666666,
              "#ed7953"
             ],
             [
              0.7777777777777778,
              "#fb9f3a"
             ],
             [
              0.8888888888888888,
              "#fdca26"
             ],
             [
              1,
              "#f0f921"
             ]
            ],
            "type": "surface"
           }
          ],
          "table": [
           {
            "cells": {
             "fill": {
              "color": "#EBF0F8"
             },
             "line": {
              "color": "white"
             }
            },
            "header": {
             "fill": {
              "color": "#C8D4E3"
             },
             "line": {
              "color": "white"
             }
            },
            "type": "table"
           }
          ]
         },
         "layout": {
          "annotationdefaults": {
           "arrowcolor": "#2a3f5f",
           "arrowhead": 0,
           "arrowwidth": 1
          },
          "autotypenumbers": "strict",
          "coloraxis": {
           "colorbar": {
            "outlinewidth": 0,
            "ticks": ""
           }
          },
          "colorscale": {
           "diverging": [
            [
             0,
             "#8e0152"
            ],
            [
             0.1,
             "#c51b7d"
            ],
            [
             0.2,
             "#de77ae"
            ],
            [
             0.3,
             "#f1b6da"
            ],
            [
             0.4,
             "#fde0ef"
            ],
            [
             0.5,
             "#f7f7f7"
            ],
            [
             0.6,
             "#e6f5d0"
            ],
            [
             0.7,
             "#b8e186"
            ],
            [
             0.8,
             "#7fbc41"
            ],
            [
             0.9,
             "#4d9221"
            ],
            [
             1,
             "#276419"
            ]
           ],
           "sequential": [
            [
             0,
             "#0d0887"
            ],
            [
             0.1111111111111111,
             "#46039f"
            ],
            [
             0.2222222222222222,
             "#7201a8"
            ],
            [
             0.3333333333333333,
             "#9c179e"
            ],
            [
             0.4444444444444444,
             "#bd3786"
            ],
            [
             0.5555555555555556,
             "#d8576b"
            ],
            [
             0.6666666666666666,
             "#ed7953"
            ],
            [
             0.7777777777777778,
             "#fb9f3a"
            ],
            [
             0.8888888888888888,
             "#fdca26"
            ],
            [
             1,
             "#f0f921"
            ]
           ],
           "sequentialminus": [
            [
             0,
             "#0d0887"
            ],
            [
             0.1111111111111111,
             "#46039f"
            ],
            [
             0.2222222222222222,
             "#7201a8"
            ],
            [
             0.3333333333333333,
             "#9c179e"
            ],
            [
             0.4444444444444444,
             "#bd3786"
            ],
            [
             0.5555555555555556,
             "#d8576b"
            ],
            [
             0.6666666666666666,
             "#ed7953"
            ],
            [
             0.7777777777777778,
             "#fb9f3a"
            ],
            [
             0.8888888888888888,
             "#fdca26"
            ],
            [
             1,
             "#f0f921"
            ]
           ]
          },
          "colorway": [
           "#636efa",
           "#EF553B",
           "#00cc96",
           "#ab63fa",
           "#FFA15A",
           "#19d3f3",
           "#FF6692",
           "#B6E880",
           "#FF97FF",
           "#FECB52"
          ],
          "font": {
           "color": "#2a3f5f"
          },
          "geo": {
           "bgcolor": "white",
           "lakecolor": "white",
           "landcolor": "#E5ECF6",
           "showlakes": true,
           "showland": true,
           "subunitcolor": "white"
          },
          "hoverlabel": {
           "align": "left"
          },
          "hovermode": "closest",
          "mapbox": {
           "style": "light"
          },
          "paper_bgcolor": "white",
          "plot_bgcolor": "#E5ECF6",
          "polar": {
           "angularaxis": {
            "gridcolor": "white",
            "linecolor": "white",
            "ticks": ""
           },
           "bgcolor": "#E5ECF6",
           "radialaxis": {
            "gridcolor": "white",
            "linecolor": "white",
            "ticks": ""
           }
          },
          "scene": {
           "xaxis": {
            "backgroundcolor": "#E5ECF6",
            "gridcolor": "white",
            "gridwidth": 2,
            "linecolor": "white",
            "showbackground": true,
            "ticks": "",
            "zerolinecolor": "white"
           },
           "yaxis": {
            "backgroundcolor": "#E5ECF6",
            "gridcolor": "white",
            "gridwidth": 2,
            "linecolor": "white",
            "showbackground": true,
            "ticks": "",
            "zerolinecolor": "white"
           },
           "zaxis": {
            "backgroundcolor": "#E5ECF6",
            "gridcolor": "white",
            "gridwidth": 2,
            "linecolor": "white",
            "showbackground": true,
            "ticks": "",
            "zerolinecolor": "white"
           }
          },
          "shapedefaults": {
           "line": {
            "color": "#2a3f5f"
           }
          },
          "ternary": {
           "aaxis": {
            "gridcolor": "white",
            "linecolor": "white",
            "ticks": ""
           },
           "baxis": {
            "gridcolor": "white",
            "linecolor": "white",
            "ticks": ""
           },
           "bgcolor": "#E5ECF6",
           "caxis": {
            "gridcolor": "white",
            "linecolor": "white",
            "ticks": ""
           }
          },
          "title": {
           "x": 0.05
          },
          "xaxis": {
           "automargin": true,
           "gridcolor": "white",
           "linecolor": "white",
           "ticks": "",
           "title": {
            "standoff": 15
           },
           "zerolinecolor": "white",
           "zerolinewidth": 2
          },
          "yaxis": {
           "automargin": true,
           "gridcolor": "white",
           "linecolor": "white",
           "ticks": "",
           "title": {
            "standoff": 15
           },
           "zerolinecolor": "white",
           "zerolinewidth": 2
          }
         }
        }
       }
      }
     },
     "metadata": {},
     "output_type": "display_data"
    }
   ],
   "source": [
    "px.pie(qtde_pedidos_por_dia, names=qtde_pedidos_por_dia.index, values=qtde_pedidos_por_dia.values)"
   ]
  },
  {
   "cell_type": "markdown",
   "metadata": {},
   "source": [
    "# Gráficos Estatísticos"
   ]
  },
  {
   "cell_type": "code",
   "execution_count": 11,
   "metadata": {},
   "outputs": [],
   "source": [
    "df = pd.read_csv('https://raw.githubusercontent.com/mwaskom/seaborn-data/master/tips.csv')"
   ]
  },
  {
   "cell_type": "code",
   "execution_count": 12,
   "metadata": {},
   "outputs": [
    {
     "data": {
      "text/html": [
       "<div>\n",
       "<style scoped>\n",
       "    .dataframe tbody tr th:only-of-type {\n",
       "        vertical-align: middle;\n",
       "    }\n",
       "\n",
       "    .dataframe tbody tr th {\n",
       "        vertical-align: top;\n",
       "    }\n",
       "\n",
       "    .dataframe thead th {\n",
       "        text-align: right;\n",
       "    }\n",
       "</style>\n",
       "<table border=\"1\" class=\"dataframe\">\n",
       "  <thead>\n",
       "    <tr style=\"text-align: right;\">\n",
       "      <th></th>\n",
       "      <th>total_bill</th>\n",
       "      <th>tip</th>\n",
       "      <th>sex</th>\n",
       "      <th>smoker</th>\n",
       "      <th>day</th>\n",
       "      <th>time</th>\n",
       "      <th>size</th>\n",
       "    </tr>\n",
       "  </thead>\n",
       "  <tbody>\n",
       "    <tr>\n",
       "      <th>0</th>\n",
       "      <td>16.99</td>\n",
       "      <td>1.01</td>\n",
       "      <td>Female</td>\n",
       "      <td>No</td>\n",
       "      <td>Sun</td>\n",
       "      <td>Dinner</td>\n",
       "      <td>2</td>\n",
       "    </tr>\n",
       "    <tr>\n",
       "      <th>1</th>\n",
       "      <td>10.34</td>\n",
       "      <td>1.66</td>\n",
       "      <td>Male</td>\n",
       "      <td>No</td>\n",
       "      <td>Sun</td>\n",
       "      <td>Dinner</td>\n",
       "      <td>3</td>\n",
       "    </tr>\n",
       "    <tr>\n",
       "      <th>2</th>\n",
       "      <td>21.01</td>\n",
       "      <td>3.50</td>\n",
       "      <td>Male</td>\n",
       "      <td>No</td>\n",
       "      <td>Sun</td>\n",
       "      <td>Dinner</td>\n",
       "      <td>3</td>\n",
       "    </tr>\n",
       "    <tr>\n",
       "      <th>3</th>\n",
       "      <td>23.68</td>\n",
       "      <td>3.31</td>\n",
       "      <td>Male</td>\n",
       "      <td>No</td>\n",
       "      <td>Sun</td>\n",
       "      <td>Dinner</td>\n",
       "      <td>2</td>\n",
       "    </tr>\n",
       "    <tr>\n",
       "      <th>4</th>\n",
       "      <td>24.59</td>\n",
       "      <td>3.61</td>\n",
       "      <td>Female</td>\n",
       "      <td>No</td>\n",
       "      <td>Sun</td>\n",
       "      <td>Dinner</td>\n",
       "      <td>4</td>\n",
       "    </tr>\n",
       "  </tbody>\n",
       "</table>\n",
       "</div>"
      ],
      "text/plain": [
       "   total_bill   tip     sex smoker  day    time  size\n",
       "0       16.99  1.01  Female     No  Sun  Dinner     2\n",
       "1       10.34  1.66    Male     No  Sun  Dinner     3\n",
       "2       21.01  3.50    Male     No  Sun  Dinner     3\n",
       "3       23.68  3.31    Male     No  Sun  Dinner     2\n",
       "4       24.59  3.61  Female     No  Sun  Dinner     4"
      ]
     },
     "execution_count": 12,
     "metadata": {},
     "output_type": "execute_result"
    }
   ],
   "source": [
    "df.head()"
   ]
  },
  {
   "cell_type": "markdown",
   "metadata": {},
   "source": [
    "## Gráfico de histograma"
   ]
  },
  {
   "cell_type": "code",
   "execution_count": 11,
   "metadata": {},
   "outputs": [
    {
     "data": {
      "application/vnd.plotly.v1+json": {
       "config": {
        "plotlyServerURL": "https://plot.ly"
       },
       "data": [
        {
         "alignmentgroup": "True",
         "bingroup": "x",
         "histnorm": "probability density",
         "hovertemplate": "day=Sun<br>total_bill=%{x}<br>probability density=%{y}<extra></extra>",
         "legendgroup": "Sun",
         "marker": {
          "color": "#636efa",
          "pattern": {
           "shape": ""
          }
         },
         "name": "Sun",
         "nbinsx": 40,
         "offsetgroup": "Sun",
         "orientation": "v",
         "showlegend": true,
         "type": "histogram",
         "x": [
          16.99,
          10.34,
          21.01,
          23.68,
          24.59,
          25.29,
          8.77,
          26.88,
          15.04,
          14.78,
          10.27,
          35.26,
          15.42,
          18.43,
          14.83,
          21.58,
          10.33,
          16.29,
          16.97,
          17.46,
          13.94,
          9.68,
          30.4,
          18.29,
          22.23,
          32.4,
          28.55,
          18.04,
          12.54,
          10.29,
          34.81,
          9.94,
          25.56,
          19.49,
          38.07,
          23.95,
          25.71,
          17.31,
          29.93,
          14.07,
          13.13,
          17.26,
          24.55,
          19.77,
          29.85,
          48.17,
          25,
          13.39,
          16.49,
          21.5,
          12.66,
          16.21,
          13.81,
          17.51,
          24.52,
          20.76,
          31.71,
          7.25,
          31.85,
          16.82,
          32.9,
          17.89,
          14.48,
          9.6,
          34.63,
          34.65,
          23.33,
          45.35,
          23.17,
          40.55,
          20.69,
          20.9,
          30.46,
          18.15,
          23.1,
          15.69
         ],
         "xaxis": "x",
         "yaxis": "y"
        },
        {
         "alignmentgroup": "True",
         "hovertemplate": "day=Sun<br>total_bill=%{x}<extra></extra>",
         "legendgroup": "Sun",
         "marker": {
          "color": "#636efa"
         },
         "name": "Sun",
         "notched": true,
         "offsetgroup": "Sun",
         "showlegend": false,
         "type": "box",
         "x": [
          16.99,
          10.34,
          21.01,
          23.68,
          24.59,
          25.29,
          8.77,
          26.88,
          15.04,
          14.78,
          10.27,
          35.26,
          15.42,
          18.43,
          14.83,
          21.58,
          10.33,
          16.29,
          16.97,
          17.46,
          13.94,
          9.68,
          30.4,
          18.29,
          22.23,
          32.4,
          28.55,
          18.04,
          12.54,
          10.29,
          34.81,
          9.94,
          25.56,
          19.49,
          38.07,
          23.95,
          25.71,
          17.31,
          29.93,
          14.07,
          13.13,
          17.26,
          24.55,
          19.77,
          29.85,
          48.17,
          25,
          13.39,
          16.49,
          21.5,
          12.66,
          16.21,
          13.81,
          17.51,
          24.52,
          20.76,
          31.71,
          7.25,
          31.85,
          16.82,
          32.9,
          17.89,
          14.48,
          9.6,
          34.63,
          34.65,
          23.33,
          45.35,
          23.17,
          40.55,
          20.69,
          20.9,
          30.46,
          18.15,
          23.1,
          15.69
         ],
         "xaxis": "x2",
         "yaxis": "y2"
        },
        {
         "alignmentgroup": "True",
         "bingroup": "x",
         "histnorm": "probability density",
         "hovertemplate": "day=Sat<br>total_bill=%{x}<br>probability density=%{y}<extra></extra>",
         "legendgroup": "Sat",
         "marker": {
          "color": "#EF553B",
          "pattern": {
           "shape": ""
          }
         },
         "name": "Sat",
         "nbinsx": 40,
         "offsetgroup": "Sat",
         "orientation": "v",
         "showlegend": true,
         "type": "histogram",
         "x": [
          20.65,
          17.92,
          20.29,
          15.77,
          39.42,
          19.82,
          17.81,
          13.37,
          12.69,
          21.7,
          19.65,
          9.55,
          18.35,
          15.06,
          20.69,
          17.78,
          24.06,
          16.31,
          16.93,
          18.69,
          31.27,
          16.04,
          38.01,
          26.41,
          11.24,
          48.27,
          20.29,
          13.81,
          11.02,
          18.29,
          17.59,
          20.08,
          16.45,
          3.07,
          20.23,
          15.01,
          12.02,
          17.07,
          26.86,
          25.28,
          14.73,
          10.51,
          17.92,
          44.3,
          22.42,
          20.92,
          15.36,
          20.49,
          25.21,
          18.24,
          14.31,
          14,
          7.25,
          10.59,
          10.63,
          50.81,
          15.81,
          26.59,
          38.73,
          24.27,
          12.76,
          30.06,
          25.89,
          48.33,
          13.27,
          28.17,
          12.9,
          28.15,
          11.59,
          7.74,
          30.14,
          20.45,
          13.28,
          22.12,
          24.01,
          15.69,
          11.61,
          10.77,
          15.53,
          10.07,
          12.6,
          32.83,
          35.83,
          29.03,
          27.18,
          22.67,
          17.82
         ],
         "xaxis": "x",
         "yaxis": "y"
        },
        {
         "alignmentgroup": "True",
         "hovertemplate": "day=Sat<br>total_bill=%{x}<extra></extra>",
         "legendgroup": "Sat",
         "marker": {
          "color": "#EF553B"
         },
         "name": "Sat",
         "notched": true,
         "offsetgroup": "Sat",
         "showlegend": false,
         "type": "box",
         "x": [
          20.65,
          17.92,
          20.29,
          15.77,
          39.42,
          19.82,
          17.81,
          13.37,
          12.69,
          21.7,
          19.65,
          9.55,
          18.35,
          15.06,
          20.69,
          17.78,
          24.06,
          16.31,
          16.93,
          18.69,
          31.27,
          16.04,
          38.01,
          26.41,
          11.24,
          48.27,
          20.29,
          13.81,
          11.02,
          18.29,
          17.59,
          20.08,
          16.45,
          3.07,
          20.23,
          15.01,
          12.02,
          17.07,
          26.86,
          25.28,
          14.73,
          10.51,
          17.92,
          44.3,
          22.42,
          20.92,
          15.36,
          20.49,
          25.21,
          18.24,
          14.31,
          14,
          7.25,
          10.59,
          10.63,
          50.81,
          15.81,
          26.59,
          38.73,
          24.27,
          12.76,
          30.06,
          25.89,
          48.33,
          13.27,
          28.17,
          12.9,
          28.15,
          11.59,
          7.74,
          30.14,
          20.45,
          13.28,
          22.12,
          24.01,
          15.69,
          11.61,
          10.77,
          15.53,
          10.07,
          12.6,
          32.83,
          35.83,
          29.03,
          27.18,
          22.67,
          17.82
         ],
         "xaxis": "x2",
         "yaxis": "y2"
        },
        {
         "alignmentgroup": "True",
         "bingroup": "x",
         "histnorm": "probability density",
         "hovertemplate": "day=Thur<br>total_bill=%{x}<br>probability density=%{y}<extra></extra>",
         "legendgroup": "Thur",
         "marker": {
          "color": "#00cc96",
          "pattern": {
           "shape": ""
          }
         },
         "name": "Thur",
         "nbinsx": 40,
         "offsetgroup": "Thur",
         "orientation": "v",
         "showlegend": true,
         "type": "histogram",
         "x": [
          27.2,
          22.76,
          17.29,
          19.44,
          16.66,
          10.07,
          32.68,
          15.98,
          34.83,
          13.03,
          18.28,
          24.71,
          21.16,
          10.65,
          12.43,
          24.08,
          11.69,
          13.42,
          14.26,
          15.95,
          12.48,
          29.8,
          8.52,
          14.52,
          11.38,
          22.82,
          19.08,
          20.27,
          11.17,
          12.26,
          18.26,
          8.51,
          10.33,
          14.15,
          16,
          13.16,
          17.47,
          34.3,
          41.19,
          27.05,
          16.43,
          8.35,
          18.64,
          11.87,
          9.78,
          7.51,
          19.81,
          28.44,
          15.48,
          16.58,
          7.56,
          10.34,
          43.11,
          13,
          13.51,
          18.71,
          12.74,
          13,
          16.4,
          20.53,
          16.47,
          18.78
         ],
         "xaxis": "x",
         "yaxis": "y"
        },
        {
         "alignmentgroup": "True",
         "hovertemplate": "day=Thur<br>total_bill=%{x}<extra></extra>",
         "legendgroup": "Thur",
         "marker": {
          "color": "#00cc96"
         },
         "name": "Thur",
         "notched": true,
         "offsetgroup": "Thur",
         "showlegend": false,
         "type": "box",
         "x": [
          27.2,
          22.76,
          17.29,
          19.44,
          16.66,
          10.07,
          32.68,
          15.98,
          34.83,
          13.03,
          18.28,
          24.71,
          21.16,
          10.65,
          12.43,
          24.08,
          11.69,
          13.42,
          14.26,
          15.95,
          12.48,
          29.8,
          8.52,
          14.52,
          11.38,
          22.82,
          19.08,
          20.27,
          11.17,
          12.26,
          18.26,
          8.51,
          10.33,
          14.15,
          16,
          13.16,
          17.47,
          34.3,
          41.19,
          27.05,
          16.43,
          8.35,
          18.64,
          11.87,
          9.78,
          7.51,
          19.81,
          28.44,
          15.48,
          16.58,
          7.56,
          10.34,
          43.11,
          13,
          13.51,
          18.71,
          12.74,
          13,
          16.4,
          20.53,
          16.47,
          18.78
         ],
         "xaxis": "x2",
         "yaxis": "y2"
        },
        {
         "alignmentgroup": "True",
         "bingroup": "x",
         "histnorm": "probability density",
         "hovertemplate": "day=Fri<br>total_bill=%{x}<br>probability density=%{y}<extra></extra>",
         "legendgroup": "Fri",
         "marker": {
          "color": "#ab63fa",
          "pattern": {
           "shape": ""
          }
         },
         "name": "Fri",
         "nbinsx": 40,
         "offsetgroup": "Fri",
         "orientation": "v",
         "showlegend": true,
         "type": "histogram",
         "x": [
          28.97,
          22.49,
          5.75,
          16.32,
          22.75,
          40.17,
          27.28,
          12.03,
          21.01,
          12.46,
          11.35,
          15.38,
          12.16,
          13.42,
          8.58,
          15.98,
          13.42,
          16.27,
          10.09
         ],
         "xaxis": "x",
         "yaxis": "y"
        },
        {
         "alignmentgroup": "True",
         "hovertemplate": "day=Fri<br>total_bill=%{x}<extra></extra>",
         "legendgroup": "Fri",
         "marker": {
          "color": "#ab63fa"
         },
         "name": "Fri",
         "notched": true,
         "offsetgroup": "Fri",
         "showlegend": false,
         "type": "box",
         "x": [
          28.97,
          22.49,
          5.75,
          16.32,
          22.75,
          40.17,
          27.28,
          12.03,
          21.01,
          12.46,
          11.35,
          15.38,
          12.16,
          13.42,
          8.58,
          15.98,
          13.42,
          16.27,
          10.09
         ],
         "xaxis": "x2",
         "yaxis": "y2"
        }
       ],
       "layout": {
        "barmode": "relative",
        "legend": {
         "title": {
          "text": "day"
         },
         "tracegroupgap": 0
        },
        "margin": {
         "t": 60
        },
        "template": {
         "data": {
          "bar": [
           {
            "error_x": {
             "color": "#2a3f5f"
            },
            "error_y": {
             "color": "#2a3f5f"
            },
            "marker": {
             "line": {
              "color": "#E5ECF6",
              "width": 0.5
             },
             "pattern": {
              "fillmode": "overlay",
              "size": 10,
              "solidity": 0.2
             }
            },
            "type": "bar"
           }
          ],
          "barpolar": [
           {
            "marker": {
             "line": {
              "color": "#E5ECF6",
              "width": 0.5
             },
             "pattern": {
              "fillmode": "overlay",
              "size": 10,
              "solidity": 0.2
             }
            },
            "type": "barpolar"
           }
          ],
          "carpet": [
           {
            "aaxis": {
             "endlinecolor": "#2a3f5f",
             "gridcolor": "white",
             "linecolor": "white",
             "minorgridcolor": "white",
             "startlinecolor": "#2a3f5f"
            },
            "baxis": {
             "endlinecolor": "#2a3f5f",
             "gridcolor": "white",
             "linecolor": "white",
             "minorgridcolor": "white",
             "startlinecolor": "#2a3f5f"
            },
            "type": "carpet"
           }
          ],
          "choropleth": [
           {
            "colorbar": {
             "outlinewidth": 0,
             "ticks": ""
            },
            "type": "choropleth"
           }
          ],
          "contour": [
           {
            "colorbar": {
             "outlinewidth": 0,
             "ticks": ""
            },
            "colorscale": [
             [
              0,
              "#0d0887"
             ],
             [
              0.1111111111111111,
              "#46039f"
             ],
             [
              0.2222222222222222,
              "#7201a8"
             ],
             [
              0.3333333333333333,
              "#9c179e"
             ],
             [
              0.4444444444444444,
              "#bd3786"
             ],
             [
              0.5555555555555556,
              "#d8576b"
             ],
             [
              0.6666666666666666,
              "#ed7953"
             ],
             [
              0.7777777777777778,
              "#fb9f3a"
             ],
             [
              0.8888888888888888,
              "#fdca26"
             ],
             [
              1,
              "#f0f921"
             ]
            ],
            "type": "contour"
           }
          ],
          "contourcarpet": [
           {
            "colorbar": {
             "outlinewidth": 0,
             "ticks": ""
            },
            "type": "contourcarpet"
           }
          ],
          "heatmap": [
           {
            "colorbar": {
             "outlinewidth": 0,
             "ticks": ""
            },
            "colorscale": [
             [
              0,
              "#0d0887"
             ],
             [
              0.1111111111111111,
              "#46039f"
             ],
             [
              0.2222222222222222,
              "#7201a8"
             ],
             [
              0.3333333333333333,
              "#9c179e"
             ],
             [
              0.4444444444444444,
              "#bd3786"
             ],
             [
              0.5555555555555556,
              "#d8576b"
             ],
             [
              0.6666666666666666,
              "#ed7953"
             ],
             [
              0.7777777777777778,
              "#fb9f3a"
             ],
             [
              0.8888888888888888,
              "#fdca26"
             ],
             [
              1,
              "#f0f921"
             ]
            ],
            "type": "heatmap"
           }
          ],
          "heatmapgl": [
           {
            "colorbar": {
             "outlinewidth": 0,
             "ticks": ""
            },
            "colorscale": [
             [
              0,
              "#0d0887"
             ],
             [
              0.1111111111111111,
              "#46039f"
             ],
             [
              0.2222222222222222,
              "#7201a8"
             ],
             [
              0.3333333333333333,
              "#9c179e"
             ],
             [
              0.4444444444444444,
              "#bd3786"
             ],
             [
              0.5555555555555556,
              "#d8576b"
             ],
             [
              0.6666666666666666,
              "#ed7953"
             ],
             [
              0.7777777777777778,
              "#fb9f3a"
             ],
             [
              0.8888888888888888,
              "#fdca26"
             ],
             [
              1,
              "#f0f921"
             ]
            ],
            "type": "heatmapgl"
           }
          ],
          "histogram": [
           {
            "marker": {
             "pattern": {
              "fillmode": "overlay",
              "size": 10,
              "solidity": 0.2
             }
            },
            "type": "histogram"
           }
          ],
          "histogram2d": [
           {
            "colorbar": {
             "outlinewidth": 0,
             "ticks": ""
            },
            "colorscale": [
             [
              0,
              "#0d0887"
             ],
             [
              0.1111111111111111,
              "#46039f"
             ],
             [
              0.2222222222222222,
              "#7201a8"
             ],
             [
              0.3333333333333333,
              "#9c179e"
             ],
             [
              0.4444444444444444,
              "#bd3786"
             ],
             [
              0.5555555555555556,
              "#d8576b"
             ],
             [
              0.6666666666666666,
              "#ed7953"
             ],
             [
              0.7777777777777778,
              "#fb9f3a"
             ],
             [
              0.8888888888888888,
              "#fdca26"
             ],
             [
              1,
              "#f0f921"
             ]
            ],
            "type": "histogram2d"
           }
          ],
          "histogram2dcontour": [
           {
            "colorbar": {
             "outlinewidth": 0,
             "ticks": ""
            },
            "colorscale": [
             [
              0,
              "#0d0887"
             ],
             [
              0.1111111111111111,
              "#46039f"
             ],
             [
              0.2222222222222222,
              "#7201a8"
             ],
             [
              0.3333333333333333,
              "#9c179e"
             ],
             [
              0.4444444444444444,
              "#bd3786"
             ],
             [
              0.5555555555555556,
              "#d8576b"
             ],
             [
              0.6666666666666666,
              "#ed7953"
             ],
             [
              0.7777777777777778,
              "#fb9f3a"
             ],
             [
              0.8888888888888888,
              "#fdca26"
             ],
             [
              1,
              "#f0f921"
             ]
            ],
            "type": "histogram2dcontour"
           }
          ],
          "mesh3d": [
           {
            "colorbar": {
             "outlinewidth": 0,
             "ticks": ""
            },
            "type": "mesh3d"
           }
          ],
          "parcoords": [
           {
            "line": {
             "colorbar": {
              "outlinewidth": 0,
              "ticks": ""
             }
            },
            "type": "parcoords"
           }
          ],
          "pie": [
           {
            "automargin": true,
            "type": "pie"
           }
          ],
          "scatter": [
           {
            "fillpattern": {
             "fillmode": "overlay",
             "size": 10,
             "solidity": 0.2
            },
            "type": "scatter"
           }
          ],
          "scatter3d": [
           {
            "line": {
             "colorbar": {
              "outlinewidth": 0,
              "ticks": ""
             }
            },
            "marker": {
             "colorbar": {
              "outlinewidth": 0,
              "ticks": ""
             }
            },
            "type": "scatter3d"
           }
          ],
          "scattercarpet": [
           {
            "marker": {
             "colorbar": {
              "outlinewidth": 0,
              "ticks": ""
             }
            },
            "type": "scattercarpet"
           }
          ],
          "scattergeo": [
           {
            "marker": {
             "colorbar": {
              "outlinewidth": 0,
              "ticks": ""
             }
            },
            "type": "scattergeo"
           }
          ],
          "scattergl": [
           {
            "marker": {
             "colorbar": {
              "outlinewidth": 0,
              "ticks": ""
             }
            },
            "type": "scattergl"
           }
          ],
          "scattermapbox": [
           {
            "marker": {
             "colorbar": {
              "outlinewidth": 0,
              "ticks": ""
             }
            },
            "type": "scattermapbox"
           }
          ],
          "scatterpolar": [
           {
            "marker": {
             "colorbar": {
              "outlinewidth": 0,
              "ticks": ""
             }
            },
            "type": "scatterpolar"
           }
          ],
          "scatterpolargl": [
           {
            "marker": {
             "colorbar": {
              "outlinewidth": 0,
              "ticks": ""
             }
            },
            "type": "scatterpolargl"
           }
          ],
          "scatterternary": [
           {
            "marker": {
             "colorbar": {
              "outlinewidth": 0,
              "ticks": ""
             }
            },
            "type": "scatterternary"
           }
          ],
          "surface": [
           {
            "colorbar": {
             "outlinewidth": 0,
             "ticks": ""
            },
            "colorscale": [
             [
              0,
              "#0d0887"
             ],
             [
              0.1111111111111111,
              "#46039f"
             ],
             [
              0.2222222222222222,
              "#7201a8"
             ],
             [
              0.3333333333333333,
              "#9c179e"
             ],
             [
              0.4444444444444444,
              "#bd3786"
             ],
             [
              0.5555555555555556,
              "#d8576b"
             ],
             [
              0.6666666666666666,
              "#ed7953"
             ],
             [
              0.7777777777777778,
              "#fb9f3a"
             ],
             [
              0.8888888888888888,
              "#fdca26"
             ],
             [
              1,
              "#f0f921"
             ]
            ],
            "type": "surface"
           }
          ],
          "table": [
           {
            "cells": {
             "fill": {
              "color": "#EBF0F8"
             },
             "line": {
              "color": "white"
             }
            },
            "header": {
             "fill": {
              "color": "#C8D4E3"
             },
             "line": {
              "color": "white"
             }
            },
            "type": "table"
           }
          ]
         },
         "layout": {
          "annotationdefaults": {
           "arrowcolor": "#2a3f5f",
           "arrowhead": 0,
           "arrowwidth": 1
          },
          "autotypenumbers": "strict",
          "coloraxis": {
           "colorbar": {
            "outlinewidth": 0,
            "ticks": ""
           }
          },
          "colorscale": {
           "diverging": [
            [
             0,
             "#8e0152"
            ],
            [
             0.1,
             "#c51b7d"
            ],
            [
             0.2,
             "#de77ae"
            ],
            [
             0.3,
             "#f1b6da"
            ],
            [
             0.4,
             "#fde0ef"
            ],
            [
             0.5,
             "#f7f7f7"
            ],
            [
             0.6,
             "#e6f5d0"
            ],
            [
             0.7,
             "#b8e186"
            ],
            [
             0.8,
             "#7fbc41"
            ],
            [
             0.9,
             "#4d9221"
            ],
            [
             1,
             "#276419"
            ]
           ],
           "sequential": [
            [
             0,
             "#0d0887"
            ],
            [
             0.1111111111111111,
             "#46039f"
            ],
            [
             0.2222222222222222,
             "#7201a8"
            ],
            [
             0.3333333333333333,
             "#9c179e"
            ],
            [
             0.4444444444444444,
             "#bd3786"
            ],
            [
             0.5555555555555556,
             "#d8576b"
            ],
            [
             0.6666666666666666,
             "#ed7953"
            ],
            [
             0.7777777777777778,
             "#fb9f3a"
            ],
            [
             0.8888888888888888,
             "#fdca26"
            ],
            [
             1,
             "#f0f921"
            ]
           ],
           "sequentialminus": [
            [
             0,
             "#0d0887"
            ],
            [
             0.1111111111111111,
             "#46039f"
            ],
            [
             0.2222222222222222,
             "#7201a8"
            ],
            [
             0.3333333333333333,
             "#9c179e"
            ],
            [
             0.4444444444444444,
             "#bd3786"
            ],
            [
             0.5555555555555556,
             "#d8576b"
            ],
            [
             0.6666666666666666,
             "#ed7953"
            ],
            [
             0.7777777777777778,
             "#fb9f3a"
            ],
            [
             0.8888888888888888,
             "#fdca26"
            ],
            [
             1,
             "#f0f921"
            ]
           ]
          },
          "colorway": [
           "#636efa",
           "#EF553B",
           "#00cc96",
           "#ab63fa",
           "#FFA15A",
           "#19d3f3",
           "#FF6692",
           "#B6E880",
           "#FF97FF",
           "#FECB52"
          ],
          "font": {
           "color": "#2a3f5f"
          },
          "geo": {
           "bgcolor": "white",
           "lakecolor": "white",
           "landcolor": "#E5ECF6",
           "showlakes": true,
           "showland": true,
           "subunitcolor": "white"
          },
          "hoverlabel": {
           "align": "left"
          },
          "hovermode": "closest",
          "mapbox": {
           "style": "light"
          },
          "paper_bgcolor": "white",
          "plot_bgcolor": "#E5ECF6",
          "polar": {
           "angularaxis": {
            "gridcolor": "white",
            "linecolor": "white",
            "ticks": ""
           },
           "bgcolor": "#E5ECF6",
           "radialaxis": {
            "gridcolor": "white",
            "linecolor": "white",
            "ticks": ""
           }
          },
          "scene": {
           "xaxis": {
            "backgroundcolor": "#E5ECF6",
            "gridcolor": "white",
            "gridwidth": 2,
            "linecolor": "white",
            "showbackground": true,
            "ticks": "",
            "zerolinecolor": "white"
           },
           "yaxis": {
            "backgroundcolor": "#E5ECF6",
            "gridcolor": "white",
            "gridwidth": 2,
            "linecolor": "white",
            "showbackground": true,
            "ticks": "",
            "zerolinecolor": "white"
           },
           "zaxis": {
            "backgroundcolor": "#E5ECF6",
            "gridcolor": "white",
            "gridwidth": 2,
            "linecolor": "white",
            "showbackground": true,
            "ticks": "",
            "zerolinecolor": "white"
           }
          },
          "shapedefaults": {
           "line": {
            "color": "#2a3f5f"
           }
          },
          "ternary": {
           "aaxis": {
            "gridcolor": "white",
            "linecolor": "white",
            "ticks": ""
           },
           "baxis": {
            "gridcolor": "white",
            "linecolor": "white",
            "ticks": ""
           },
           "bgcolor": "#E5ECF6",
           "caxis": {
            "gridcolor": "white",
            "linecolor": "white",
            "ticks": ""
           }
          },
          "title": {
           "x": 0.05
          },
          "xaxis": {
           "automargin": true,
           "gridcolor": "white",
           "linecolor": "white",
           "ticks": "",
           "title": {
            "standoff": 15
           },
           "zerolinecolor": "white",
           "zerolinewidth": 2
          },
          "yaxis": {
           "automargin": true,
           "gridcolor": "white",
           "linecolor": "white",
           "ticks": "",
           "title": {
            "standoff": 15
           },
           "zerolinecolor": "white",
           "zerolinewidth": 2
          }
         }
        },
        "xaxis": {
         "anchor": "y",
         "domain": [
          0,
          1
         ],
         "title": {
          "text": "total_bill"
         }
        },
        "xaxis2": {
         "anchor": "y2",
         "domain": [
          0,
          1
         ],
         "matches": "x",
         "showgrid": true,
         "showticklabels": false
        },
        "yaxis": {
         "anchor": "x",
         "domain": [
          0,
          0.7326
         ],
         "title": {
          "text": "probability density"
         }
        },
        "yaxis2": {
         "anchor": "x2",
         "domain": [
          0.7426,
          1
         ],
         "matches": "y2",
         "showgrid": false,
         "showline": false,
         "showticklabels": false,
         "ticks": ""
        }
       }
      }
     },
     "metadata": {},
     "output_type": "display_data"
    }
   ],
   "source": [
    "px.histogram(df, x='total_bill', color='day', nbins=40, histnorm='probability density', marginal='box')"
   ]
  },
  {
   "cell_type": "markdown",
   "metadata": {},
   "source": [
    "## Gráfico de distribuição"
   ]
  },
  {
   "cell_type": "code",
   "execution_count": 2,
   "metadata": {},
   "outputs": [],
   "source": [
    "import plotly.figure_factory as ff\n",
    "import numpy as np"
   ]
  },
  {
   "cell_type": "code",
   "execution_count": 5,
   "metadata": {},
   "outputs": [],
   "source": [
    "x1 = np.random.randn(1000)\n",
    "x2 = np.random.randn(1000) + 5"
   ]
  },
  {
   "cell_type": "code",
   "execution_count": 6,
   "metadata": {},
   "outputs": [
    {
     "data": {
      "application/vnd.plotly.v1+json": {
       "config": {
        "plotlyServerURL": "https://plot.ly"
       },
       "data": [
        {
         "autobinx": false,
         "histnorm": "probability density",
         "legendgroup": "Normal1",
         "marker": {
          "color": "rgb(31, 119, 180)"
         },
         "name": "Normal1",
         "opacity": 0.7,
         "type": "histogram",
         "x": [
          0.07116188939789655,
          1.6376407822926446,
          0.11149769394295589,
          -0.7744601943515079,
          0.7908182279744979,
          -0.6327727390149178,
          -0.7317906993513257,
          0.8450446585787519,
          1.7259225938527027,
          1.33201556335329,
          -1.8620805794566235,
          -0.49738021281635025,
          1.0386675029663972,
          -1.0316581865696406,
          0.07485763441105946,
          -1.1106956026540518,
          -1.2343980958465206,
          0.1805581323841363,
          -1.485486748564627,
          0.4233263097058015,
          0.08068782978724577,
          0.1810060198572623,
          0.9293878235730602,
          -0.4634888692390979,
          -0.09933451472790267,
          1.025103621430033,
          -0.3988111101273812,
          2.6083029311347907,
          -0.33733212224071524,
          -0.2778282533860194,
          -0.4620024212631262,
          0.14708046837146785,
          -1.045927267535257,
          1.9596953389130818,
          -1.4740273646363222,
          0.46850172602209644,
          -0.020933250127777598,
          -0.8385811335178933,
          -0.7474342799438696,
          -1.714606773248128,
          0.2984235808315648,
          -0.5218721060475094,
          -0.04117189953259966,
          1.1833243802926057,
          -1.1159529087931566,
          -0.046179352236308785,
          0.5889190479178211,
          1.4199673102448491,
          -0.21514356470161786,
          1.5738346959814276,
          -1.4387007185412943,
          1.2426149295695976,
          0.024695911729292763,
          0.6158265686071343,
          0.3253455634358996,
          -1.4164289036191262,
          -3.126956362388291,
          -0.43122454785784664,
          1.1236658942614872,
          0.6918656219429973,
          1.5471801206057958,
          1.6706892396412314,
          -1.7238642986126425,
          1.8005974193465895,
          1.0157060159401776,
          -1.0241967618309706,
          0.5842326180132257,
          0.8100672218099669,
          0.5806998734462098,
          0.1274225083939295,
          -1.3351115038086072,
          1.3754245664552323,
          0.6075641778212273,
          -0.35286955087865013,
          0.3404721394015016,
          -0.6055086206704079,
          -0.4111364434078975,
          -0.7366396166985536,
          -0.6357527247260657,
          -0.5795250086440431,
          0.3077239516640436,
          -0.5730979011442727,
          -0.9728336810330082,
          -0.5371861836318187,
          -0.5749285103864668,
          0.14688672886017864,
          0.2601630123433721,
          -0.03969515800220438,
          -0.029846728344262736,
          -0.7387106641513517,
          -0.310390138095793,
          1.3976022658534515,
          0.6356793957662491,
          0.013771618036158397,
          0.2189744300880471,
          1.3423627978699029,
          0.6393060399833884,
          0.371861944073106,
          -1.8404080842773436,
          -2.5388831350331693,
          0.148620317162581,
          -0.9809736768441607,
          1.2778880085948923,
          -0.3234026085919448,
          -0.001999238371677739,
          -0.1485169482877409,
          0.7937879456957209,
          -2.247670948415281,
          0.03371708504399714,
          -1.128194581362378,
          0.8461076262219871,
          1.231928281042966,
          0.29067104786254866,
          -0.4534657658567434,
          0.014492710902113447,
          1.2567530175550363,
          0.2726833681840986,
          -0.44802608551123013,
          -0.14053922609301317,
          0.801604523570942,
          1.9998044885030704,
          -0.9866474984234338,
          -0.6703121669173369,
          1.4159854156839213,
          -0.18089980264050584,
          -1.4265725420190625,
          0.2166915511308133,
          1.1660730938008583,
          0.30373517075922707,
          -1.9337222090246997,
          0.17327908688996688,
          0.6857978684455869,
          -1.1773254198280025,
          1.5722650538832819,
          -0.0017324452966156695,
          -0.511857244112444,
          -0.3581549576609879,
          0.21706287399481808,
          -0.5339158014255354,
          -0.2238323543638074,
          -0.24736018148387537,
          2.093990635116714,
          1.7927299429394024,
          -1.1192246328385445,
          -1.8710968890075712,
          -0.18753910679368746,
          0.6679757193755367,
          -0.35073081549069635,
          -0.5361374261482862,
          -1.0337916507922134,
          0.7043444600510451,
          -1.0224229747455387,
          -0.09065420574998596,
          1.1087158236628392,
          0.5642383439624935,
          -0.3893271574437897,
          -1.8162444039341525,
          -0.8560915429269095,
          -0.451285909793764,
          -0.17126659656035959,
          0.5376559962955298,
          1.8517687038795418,
          0.8814976588289652,
          1.3981448362327031,
          0.5597587532631234,
          0.5679088470193275,
          0.6075459192714849,
          -0.11041431945674123,
          0.7858075079826107,
          0.09758781079594177,
          0.9861137413878706,
          -0.3144508429889564,
          1.381220400230322,
          -0.6076650071714764,
          -0.36962624583657605,
          0.12307781514998764,
          -0.01316596244090473,
          -0.027696166699041857,
          -0.5125225699577539,
          -0.9391528408727751,
          -0.48766677122154073,
          0.39365331423098643,
          0.47923177885695184,
          1.5158212187053062,
          1.9307076499649662,
          0.4940990307780601,
          1.1145306788114222,
          1.0049671903241837,
          0.3220058606640596,
          -0.3312628496887742,
          0.013352922484070235,
          -0.44956400282832343,
          -1.4295551326740263,
          -0.9063553408287284,
          0.07533076827761734,
          -0.032495123208820066,
          3.153917033788675,
          1.4217159303340507,
          -0.7901726016946001,
          -0.3790068967109559,
          -0.6159467241443072,
          -0.21982680075454566,
          -0.33800286174241406,
          -2.140597092477301,
          -0.7140841731871983,
          0.5416228993077293,
          0.4450121547025889,
          0.7745641242015162,
          0.4284020840409291,
          -0.03289083442928025,
          0.5707624964576016,
          1.4409227734879757,
          0.05886340158056999,
          -0.37209424992411694,
          0.09322338075473077,
          0.6122514634902503,
          -0.7421949893589056,
          0.5760269206650527,
          0.5998721267902927,
          -0.7352047328150334,
          -1.332119257569984,
          0.6779573119256874,
          -0.11307493767020854,
          -1.058906187093549,
          1.6629435818723979,
          0.5150344198477214,
          1.4487055293227793,
          -1.0290150933053348,
          -0.024000715726841006,
          -0.001803784319585458,
          1.3750598022476472,
          1.6250821927563435,
          -0.8089826399040875,
          -1.038108907358138,
          -1.2218717761956708,
          0.7370211347312909,
          0.1234914208701732,
          0.9697337756100446,
          0.39946585958417535,
          -0.46237981931606803,
          -0.7863361736444827,
          0.24043264455761915,
          0.9882456385430544,
          0.9454814397050438,
          -1.1801272748714169,
          0.07535476997291296,
          0.5495446277905207,
          -1.5214354384482434,
          -1.5401243854520423,
          0.2932355828316636,
          0.8666777166336914,
          0.5045260011520428,
          -1.9173707502825281,
          -0.1899522260915361,
          -0.20289162687723972,
          0.9380137194205066,
          0.8003664542826882,
          0.1870413342617679,
          0.1900196018728904,
          1.76413580008443,
          -0.9081563057117764,
          0.1386752631972432,
          0.37629412860723954,
          -0.9401425774093111,
          -0.2831928703531319,
          0.3849960911661135,
          0.41280361199237325,
          -1.034550001015352,
          -1.448969370593633,
          -0.012186547803107422,
          1.7597919974250222,
          0.12924904356497885,
          1.5980526060400888,
          -0.5108047797176364,
          -0.2065258892529319,
          -1.4054319997064895,
          -0.941680911381004,
          0.06810134783733167,
          -0.5524583162213996,
          1.0140071171714997,
          -0.09222306121703423,
          1.4659987107417387,
          -1.7650294440331686,
          1.9848296712155509,
          -0.36324155068485353,
          0.46941688005204,
          1.0303059230558378,
          0.30470083138692583,
          0.38816345945989184,
          0.1473833533886175,
          -0.26502816097186277,
          -1.65357499767075,
          0.07424933976898265,
          -1.7080942601784477,
          -0.45433692410207327,
          -0.3204362605256656,
          -1.1186636370928773,
          0.7603872944479712,
          -1.3440049154320532,
          -1.527964110545372,
          0.19578749887958655,
          0.9122360543475203,
          -0.2653930061500246,
          0.2125795279820893,
          1.7947272274445425,
          -0.6418523378323144,
          -1.449443963532282,
          -0.4517547359823654,
          0.6120691873007772,
          1.2860867252645336,
          2.5903752884102613,
          -0.19436361259928336,
          -0.9914591564168231,
          0.3158207086430868,
          0.6333463919346841,
          0.5544808995822382,
          -0.6815517374374271,
          -0.9871009421851162,
          0.35349244076424463,
          -0.6237492872553995,
          -0.3665713368304888,
          -0.39784775511667475,
          -2.123283088517256,
          -0.6313099383743531,
          -0.22843271083011316,
          0.987697086085439,
          0.4284808315774353,
          0.322875550662486,
          -0.6374117300670119,
          -0.13875857231962715,
          1.0074123020880663,
          -1.7953203719365123,
          -0.9522053039943987,
          -0.24467098281045604,
          -0.8067111306454176,
          -0.07281128047376602,
          0.1572621049467704,
          0.7473357938069769,
          0.29875703156844663,
          -0.3029026274477181,
          -1.2355210763401765,
          -0.9007369896965893,
          0.29548427166368707,
          -0.15686829241400446,
          -0.13957489302924658,
          0.9897463962192623,
          0.8220812860686966,
          -0.75385065705338,
          -0.14067985780439107,
          -0.5108062670599303,
          -0.048189917767410835,
          -0.7332742871322887,
          0.6264191587342538,
          -0.9849314795093447,
          -1.1545679298721625,
          -0.23256773601996683,
          -1.7848175949511467,
          1.5320781670147712,
          1.0469293034645684,
          0.06781174071195854,
          0.30053627988763415,
          0.6178136677449106,
          -0.5416154731292088,
          0.7139119388449113,
          -0.8538595576081036,
          0.512692277913563,
          -1.7379001677829664,
          -0.321661573266974,
          1.5854104362126116,
          0.5282552727443536,
          1.3652309522345198,
          -1.4964208569063122,
          2.7724631304551184,
          -0.44654161387995833,
          1.2550454787898908,
          -0.8151865674129292,
          0.8893037541850067,
          -0.9908832203922174,
          2.006857178568256,
          0.773915606022653,
          0.6404438636332028,
          0.5531495948838147,
          -0.038117997975113005,
          -1.037809721599208,
          -0.6922070784369385,
          -1.1104074881073422,
          0.6249924380832977,
          0.14703597026528742,
          -2.3174778048302596,
          0.852784713318336,
          -0.9568340060903798,
          -1.0671506340280665,
          0.164690522016598,
          -0.32806064951495045,
          -0.03530592081935535,
          -1.4179388216470579,
          1.0675107576051759,
          -1.0627820768302634,
          1.3820753673848956,
          -0.7114317672178184,
          -2.1075822747974557,
          1.378217065654871,
          0.041991422737361325,
          -1.3813889864416333,
          -0.8437451618202128,
          -0.6111105454013839,
          -0.13292031751683417,
          -0.624685120263048,
          0.21184833802953565,
          -0.6608278884068689,
          -1.530161339108868,
          -0.5267709035253494,
          0.652587425626002,
          0.7659866314857703,
          -0.07821794142858873,
          -0.11319086622275149,
          -1.3917972835456032,
          -0.8576291638109376,
          -0.2833783258113544,
          2.3474886396073416,
          -0.10875617442225038,
          -0.3938238740375403,
          1.3594737602812885,
          -1.4920724842689366,
          -0.1352692467955088,
          -1.192261345007357,
          -0.9757376535443273,
          2.0842359031709266,
          0.46039759960760146,
          -0.6258542904880386,
          -0.4194953517089207,
          -1.01601081173342,
          -0.3429688153386799,
          0.21172642873402236,
          0.6680310120671028,
          0.6721666677172798,
          0.20097811079281572,
          -0.04766261753143084,
          -0.33603953766824546,
          0.24069921573137523,
          -0.03144407008739032,
          -1.5875350680449423,
          -1.4224206277941132,
          0.2837604200614254,
          1.2317969233003672,
          1.5807253497146248,
          -3.008741080967514,
          -1.5057419813727668,
          0.07375027058304587,
          -0.5315390489493321,
          -2.475986481755547,
          1.0797714690117732,
          0.9163131407026535,
          -0.516030392269394,
          -0.271942492333011,
          -1.5073826055395108,
          -0.6816242920311483,
          -0.10454440080306286,
          -0.37309494833621326,
          -1.2693090676868741,
          1.7131363768970669,
          -0.6137749166902509,
          -1.423887373145139,
          0.6163350405509452,
          -0.9737449452760988,
          -0.8737746282647182,
          1.0844680585077764,
          0.010354160688167599,
          0.47577728674825637,
          0.7046326273539778,
          0.35465184853972015,
          -1.165714142566011,
          0.1802528527245087,
          0.7019122177908357,
          -0.4317344212736559,
          -0.47255434414230035,
          0.09244686912389036,
          0.36560890468242296,
          0.5852013509940025,
          -0.8051598301378987,
          -1.0430583283290762,
          0.44449698443771096,
          -0.6667049384351623,
          -1.6045298052104076,
          -1.5830436568260484,
          0.625355592497064,
          -1.2144330662500749,
          -0.10514169271256765,
          -0.8447941831617052,
          -0.6450055371829053,
          1.6490902938885477,
          -1.300238088826565,
          0.30947585859732235,
          -1.0399109498105907,
          0.8075593231100466,
          0.6367997349658823,
          -0.5988955420766651,
          0.0793445617702995,
          0.622733205504039,
          0.15954306104727267,
          0.742367034366451,
          0.09227978963862134,
          -0.0929300245055159,
          -0.42831531274399814,
          -1.1509686540752009,
          0.2679060893360087,
          0.7382410722538539,
          -1.2139313019440667,
          -0.1557977063614401,
          0.2118704482410244,
          -0.7365638565924049,
          1.8163666891616077,
          -0.400676628197468,
          -0.5096568028616041,
          0.2744216423239731,
          -0.5106485948030682,
          -0.6716995415626095,
          2.5149095597965405,
          -1.237580860141264,
          0.8302909110244242,
          1.8205658696027174,
          -0.4620712859564048,
          -0.6000952283340498,
          1.2615724381264743,
          -0.06848054774323016,
          0.29947728606150453,
          -1.5655838742564174,
          -1.6527074792918373,
          0.1357919241696525,
          -0.9003430681766209,
          -0.6946705381285956,
          -0.4757549106305475,
          1.5420787371319102,
          -0.09693101702924806,
          0.320548600228111,
          -0.22069210039243897,
          -1.1976130571765777,
          1.6960963958006392,
          1.3894610744279101,
          -2.3887437060579435,
          0.46985047486588183,
          -0.43271192902023736,
          0.04644468473571467,
          -0.09223918299404,
          1.5184396097060922,
          1.041185204422807,
          -1.061186822890998,
          1.7954647074248662,
          0.666741445596782,
          -0.07624959413903964,
          -0.4808187867363758,
          -1.0010439446024113,
          0.3424643179120155,
          -0.9482781867428162,
          0.3148510829244093,
          -0.05158200113960113,
          1.4837310761989917,
          -1.9140580904309636,
          -1.047969285474634,
          0.8475023577672203,
          -0.7435500261207859,
          -1.2292501180571958,
          0.03280956746132678,
          -0.661462137016788,
          -0.5983543207190374,
          -0.42033964433755716,
          -1.4510621203218452,
          1.6509552193859414,
          0.2937698673414923,
          -0.5091279068450472,
          -0.6558537577637571,
          0.15753322776495973,
          0.9994926116776766,
          0.2507202879653379,
          -0.6794704213000015,
          0.6477355560044683,
          -0.03545956269364154,
          -0.3822182822789506,
          -1.08734850306624,
          0.713078980437974,
          -0.7095046955040821,
          -0.18836040229443624,
          -0.4088883711826637,
          -0.13819057079566088,
          0.17965007997707155,
          0.11003635471822489,
          1.4449236020635143,
          -0.4310900407481433,
          -1.1058646822471472,
          0.5772057408817335,
          0.9358411147130103,
          -0.8918518082388085,
          1.2045721320952225,
          0.1329430532253595,
          -1.254194541478417,
          -0.8476125030560595,
          0.6334677879907593,
          -0.34495768734725557,
          0.38367773184498055,
          0.10666450090366653,
          -1.1358858837637207,
          0.02059622250224272,
          0.14690779715289784,
          2.0671305766849994,
          2.184643418368056,
          1.0991360364560503,
          0.25431337518485675,
          0.46656477046501516,
          -1.8798371592818581,
          -0.9803277707620922,
          0.10023145428242171,
          -0.020101481552226894,
          1.163435965292992,
          -1.0872043434420473,
          -1.9061329757344014,
          0.7849723271225835,
          0.3250160673653486,
          -0.7816484455271417,
          0.8248592950221295,
          -1.7289762878967054,
          -0.01811613064629068,
          0.09264258892704154,
          0.35527843199710885,
          -1.4449941975613088,
          -2.217917633967248,
          0.8404224287123925,
          -0.741036689483811,
          0.7563268795657533,
          -0.16822454135915174,
          -1.1742092574928868,
          -1.0672164712192693,
          0.46445654121210367,
          -0.6249615671537043,
          0.7888707628912505,
          1.4858989372906828,
          -0.2179366125426141,
          0.29378354277086643,
          0.7474114076420391,
          0.0014292553575678511,
          -1.569398334482807,
          -0.8560037452627914,
          0.16676169237298077,
          1.2056308590619953,
          -2.1319394520241515,
          0.21541337339092073,
          -0.27057160553052145,
          0.8047636160264,
          -0.26403630168181125,
          -1.2610562800276368,
          0.12501585919289718,
          -1.388085553400817,
          -0.19400737850163613,
          -0.8870326584223227,
          0.5020940279282334,
          0.22318025332466404,
          0.010963243553134836,
          -0.1338253025066979,
          1.7754825860606287,
          -0.9716359286823183,
          0.5113072238118525,
          -1.5400976401402398,
          2.2445711950631777,
          -0.05390918041492758,
          1.3077497713986364,
          -0.22872382632036212,
          0.4072177094657691,
          -0.09941020500949851,
          0.268743453120594,
          0.308725965496409,
          1.7743790638113701,
          1.1540493609182203,
          0.7279057965175273,
          2.326522676658959,
          0.5699091683920583,
          -0.7081563454557845,
          0.9367310141409736,
          -1.1143131281358645,
          1.3658149413201837,
          1.108186120852711,
          0.23276738920607778,
          0.41765328998728,
          0.6323601389391369,
          0.13603721330881371,
          0.6743548790539385,
          2.8220848442058113,
          -1.7698738048595573,
          -0.8074478549237072,
          1.695828021813878,
          -1.154277180011523,
          -0.09745812609155005,
          0.7288594748679664,
          -0.3876037298121002,
          0.49619989557051225,
          -0.458049884327497,
          -1.2066789082077085,
          -1.1896549471527456,
          -2.0438275414974334,
          0.2671610463181977,
          0.3002061333071009,
          -0.17728291963711487,
          0.25566170903887836,
          -1.0512243771804555,
          -0.54684918994331,
          0.13657499422688132,
          1.4455580637904977,
          1.4250310111998128,
          0.19388214701346995,
          0.24534664432415482,
          0.955563460275174,
          0.21987281619094587,
          -0.29363327819291235,
          -1.7273486032704668,
          -0.14112188356454894,
          -0.18313675325241005,
          -1.069454007230961,
          -0.5776709621560411,
          1.9303008677589846,
          -0.9506017214627548,
          0.15475832354855262,
          -0.36431058366813657,
          0.5490124153255237,
          -2.5023885017427414,
          -0.6957928659807571,
          -1.0738347821816026,
          -0.7326299044471005,
          0.020738837512201944,
          -0.029687841986679217,
          0.01787889072553679,
          0.16543721238898448,
          1.172830820552014,
          0.5677673185382669,
          0.06399032059642314,
          0.8278872173149031,
          -1.0696173660894543,
          0.9831833875470432,
          -1.2334494221464958,
          1.2532603965654634,
          0.24544514297101788,
          1.9977490944486689,
          -0.9235833331467238,
          0.7155552955235926,
          0.027642208211387114,
          0.9407861528472236,
          0.7042222420484365,
          -0.38515879260481856,
          0.9473291644005378,
          -0.5025394053665154,
          -0.5815075087044074,
          -0.06368269383184803,
          -0.8289237634305366,
          -0.35718133660187673,
          -1.0275956333270382,
          0.6905990026554906,
          -0.5145214780072657,
          -0.17782501580623003,
          -1.9417015848193777,
          0.16903016512634275,
          0.4451322276079188,
          1.4764923185347618,
          1.0462420785186506,
          -0.7731993204843557,
          1.828571785601023,
          1.121566967749087,
          -0.1302613748321495,
          1.6820394703793187,
          0.17351227556558244,
          -0.847037092859372,
          -1.527963910959224,
          -0.8843288441491497,
          0.22631613824100658,
          0.5760690852992615,
          -0.4677332289565085,
          -0.3869367250120247,
          -0.025951832900409554,
          1.1134981077663368,
          -1.1379556194134801,
          1.8309261464289637,
          -1.7836657686414585,
          2.3480977262512495,
          -0.49869144869639337,
          -2.068472787609376,
          1.2006909379616233,
          -1.0069329421045938,
          -0.07326401946446111,
          -1.1164748566275298,
          -0.8317062405780764,
          0.6656397572339715,
          0.550931437768367,
          -0.7708261555795526,
          0.3725514472117102,
          0.11251995872493992,
          0.13436087256739426,
          -0.23288323544088982,
          -1.1344394084847742,
          1.497602483098426,
          0.5720801124765903,
          -0.381981873208296,
          1.7726828817198887,
          0.2156624980362923,
          0.46529163698916115,
          1.380307117721597,
          -0.07727565534097645,
          -0.7263977252832488,
          0.8729344863306481,
          0.17086033386813018,
          0.04381266085556833,
          -2.913783665392819,
          -1.6690976928988484,
          -0.4394920708040148,
          -0.3209155703941972,
          -0.32045693433078787,
          -0.6834319270275416,
          1.7424440303994848,
          -0.7689349438845136,
          -0.048471221833578694,
          -1.3567828372955568,
          2.2380463308071414,
          -0.7336228271312734,
          -1.210134894896935,
          0.4041730705922201,
          2.359227560002257,
          -0.9059628351141523,
          -0.32450654767758386,
          -1.9468793936483522,
          1.4916129252940544,
          -1.3262578519527488,
          -1.7532701550815961,
          -0.24912659737536147,
          -0.2665411114313221,
          -0.5805747176596595,
          -0.09744896045397518,
          -0.3423175707819679,
          -0.05831120969633171,
          1.0775693364105645,
          -1.7276485664496493,
          -0.5627886940555709,
          0.038337688771493204,
          0.4326401526938845,
          -1.1154774541467054,
          0.21173417776289666,
          -0.11766163136211416,
          -0.6253377551166092,
          -0.26346192595789275,
          1.1689009227837366,
          1.0708593828587762,
          0.6991474768310959,
          -0.45643030735334117,
          -1.3105155285250751,
          1.427539754052629,
          0.8576559860305671,
          1.1142155448569384,
          -0.7758872871070931,
          0.5219152358301684,
          -0.9471442400242632,
          -1.8588457190917727,
          -0.15863858173378537,
          1.2623743248187032,
          1.4197942215225976,
          1.903375023741625,
          1.357458416977133,
          0.6745482953360267,
          -0.3281474284563631,
          0.10259242486470374,
          -0.2592820580044352,
          -1.1793069640672837,
          -0.21295425042809518,
          0.8566063839499433,
          0.4933753048595518,
          -0.615433470325055,
          -0.04052821759306313,
          -0.43506463447108373,
          1.6287561387752472,
          0.2858108376928824,
          0.10913617798827745,
          -0.12451321364744676,
          0.7807705060826142,
          0.564777298202092,
          -1.016026169375446,
          1.9474431843036215,
          -1.6786012150561993,
          0.21135747770706476,
          2.506715190043083,
          -1.1329843437949392,
          1.6610438451231297,
          0.7504233915827414,
          0.7734171817159963,
          -1.121525922279884,
          0.07779674518343839,
          0.567436128073275,
          0.40056106840273736,
          -0.33044742798643834,
          1.5950152177017463,
          1.9809838975004284,
          -1.5684753422381257,
          2.1741475898296607,
          -0.14172957957301924,
          -1.1020115511166677,
          -0.9469551735784317,
          0.7864225236251948,
          -1.3559237629326861,
          -0.5811162430108192,
          0.0683312159796405,
          -0.9094780306436533,
          0.9040349849372376,
          0.6942824743631022,
          0.2815404538444884,
          1.0646323157199729,
          0.24287858611363264,
          -0.9511759774057515,
          -0.12789517562858616,
          -0.2301663596075706,
          0.37367867469197363,
          -0.39179314611763794,
          0.1702350392572669,
          -0.08916691705905151,
          -1.292928618758976,
          0.32755886883334817,
          0.6164972907620947,
          -2.3766306376572297,
          -0.6751993868742974,
          -0.5044022814980923,
          -1.490105776809904,
          0.39396361771212757,
          0.44230787205694766,
          1.6070397247921944,
          2.0182235921735594,
          -1.842200824073207,
          0.5879183924733382,
          0.510322991086726,
          0.5307185995474407,
          0.49317416867816516,
          0.5585653759667935,
          -0.7409608389807264,
          -1.34461529947974,
          -1.9089291206242487,
          0.890720606032959,
          0.5386591325582081,
          0.6874007492024504,
          -0.6340886940958962,
          0.1091621822042441,
          -0.9096872056791266,
          0.7156083658853286,
          0.5995490190883703,
          -1.2340651015048312,
          -0.09838870959005716,
          -0.6556785998432053,
          0.2678817783794716,
          0.30481407299029756,
          -0.3892695282195298,
          -0.2005790057692653,
          0.678406365990084,
          1.011119323993956,
          0.25805491163238536,
          0.3561553567769584,
          -2.2532144577699627,
          -1.7169863150993696,
          -1.0786109341579455,
          -0.06783544806817708,
          -0.022207494793843353,
          -1.129643763148061,
          -0.09449863332932276,
          0.5273444798354034,
          0.441577181133869,
          1.5910135928290152,
          1.7856925378958404,
          -0.061727834057133245,
          -1.8128775491081786,
          -0.5820668213934076,
          0.25171907767822904,
          0.5711817348728505,
          -0.10119462849098189,
          0.6218808028997992,
          0.8230619195409712,
          -0.9681445462022793,
          -0.12181933609018972,
          0.3770742602902985,
          0.8895291512740517,
          1.78765091397893,
          1.2054558231906518,
          0.5214435011224373,
          0.6512337365277894,
          0.5591537051806029,
          -1.1298169291591438,
          0.23049898940287455,
          -0.7397300696789857,
          0.31142330044296673,
          -0.35829528557538,
          0.36341262337219715,
          0.6355269033212332,
          -0.5040076036861127,
          1.7018927071900964,
          -0.17830995999572055,
          0.24281686275362832,
          0.9966808459061509,
          -0.9580690418589559,
          -1.3331720442016708,
          1.3215787838727078,
          -0.12500793921282774,
          1.18195662773037,
          -1.093624055226463
         ],
         "xaxis": "x",
         "xbins": {
          "end": 3.153917033788675,
          "size": 1,
          "start": -3.126956362388291
         },
         "yaxis": "y"
        },
        {
         "autobinx": false,
         "histnorm": "probability density",
         "legendgroup": "Normal 2",
         "marker": {
          "color": "rgb(255, 127, 14)"
         },
         "name": "Normal 2",
         "opacity": 0.7,
         "type": "histogram",
         "x": [
          5.3143255022607985,
          4.781094538770163,
          3.0707712217190593,
          5.872963204297495,
          6.161839974498033,
          5.339162016021428,
          3.7926391978695446,
          4.852220041703615,
          4.726302494049118,
          5.738597656643716,
          3.009681694195863,
          4.544904295084725,
          4.242047708949483,
          5.901303159976056,
          5.406329385820604,
          6.505885606703533,
          3.573640089445457,
          4.186922301657853,
          6.023719636089993,
          4.411464978129091,
          5.041587767776211,
          4.214555375456345,
          5.733396157110096,
          4.09855770475574,
          5.717356085333674,
          5.863678500992991,
          4.930801061617748,
          5.375713563114044,
          4.857048611978704,
          3.742848207638264,
          4.245683551395605,
          5.792190405853677,
          4.791188524966217,
          3.5926701755540664,
          5.977529392615994,
          5.258203785137223,
          4.9543461607831905,
          4.105347155208318,
          3.5741808298770024,
          5.209352782723885,
          7.4153732160343795,
          4.5718692801077125,
          4.727152951456493,
          7.18858120842539,
          5.356815230144087,
          5.208897730347073,
          4.953083845553607,
          4.7926360047839465,
          5.035988366163565,
          6.224547878852613,
          5.966976228583193,
          4.610359773538257,
          4.595856295463349,
          5.895686261100535,
          5.0792684111935085,
          3.610126363403351,
          5.072863703204496,
          5.682755533715199,
          7.07541797061395,
          5.380430696644757,
          4.57555495261254,
          7.185977234450975,
          4.705543179297854,
          4.043308343792729,
          4.137644054879065,
          5.237693752986572,
          5.2805029975759625,
          3.1527742372380887,
          6.033853609753865,
          3.055457870652009,
          2.775613283844651,
          6.93445578474495,
          4.290100251429483,
          4.044369718151392,
          4.548268552449771,
          6.689846452876506,
          4.584856755006078,
          4.516650767795318,
          4.908622760597841,
          6.952265846053205,
          6.60748425812157,
          4.48516165479893,
          3.3269005287033178,
          4.872355666111178,
          6.067610157574091,
          2.730366803168422,
          5.628366362481673,
          5.6370534383117095,
          5.807377503800779,
          4.151372664148058,
          3.6851377467801614,
          5.604872517536107,
          4.493566723122571,
          4.803264358325489,
          4.103864358659187,
          7.42586709965979,
          5.062695277128046,
          2.9588978399694748,
          4.778332702825074,
          4.862178382771463,
          3.549080431068074,
          4.457721870252238,
          4.530874632206068,
          3.7441197911032016,
          6.511940609695252,
          4.4933708636175425,
          7.625924923760246,
          5.3993724397322564,
          5.979311804369374,
          5.1066145360457815,
          3.4002336828290316,
          4.397967736054396,
          6.364484338409095,
          4.683906124218472,
          4.680582986069663,
          5.054429017183736,
          5.171719771619112,
          4.295347886560298,
          3.392582567123064,
          4.5833082032054255,
          4.199084948637909,
          4.696473701342779,
          4.870336669402108,
          4.00591656870913,
          4.331977600559936,
          5.644322819784234,
          4.438057244677198,
          4.597828370868792,
          3.907238279186023,
          4.864592596766002,
          5.994566125000437,
          4.758981260301892,
          4.047028429919434,
          5.980383196547826,
          3.7608868693968738,
          5.021096086051173,
          5.970995124755265,
          6.963045366971652,
          3.865984527636826,
          3.6552674235247347,
          5.588408021613623,
          4.050678864806708,
          4.761205020924696,
          6.7536361615625,
          2.9278099676622173,
          5.699015665428761,
          4.849009564984569,
          4.234800955558706,
          4.311734588163741,
          3.106879314313222,
          4.006963981168851,
          5.566493883457369,
          4.432506432234055,
          4.722252994953853,
          4.272987087540123,
          3.886956001140261,
          4.858013210355272,
          3.1688418951288595,
          6.348811399017589,
          4.659772542141847,
          4.850477302218826,
          4.6030682686624065,
          3.007582448010781,
          4.402681142224759,
          4.517057569172471,
          5.6339299517044426,
          4.881887709076194,
          4.559365366004232,
          7.32642933745442,
          5.085907745333828,
          3.732344404447318,
          5.058105020959206,
          5.301826599949082,
          5.342971147023132,
          4.235140926010838,
          4.707146476229298,
          5.667487676211163,
          5.991134683670409,
          5.471818719746375,
          4.464358474898176,
          4.576210282918552,
          5.209030236431345,
          3.3208223262303704,
          6.0059379915963,
          5.805623364166612,
          4.790783541681045,
          3.0599191228808293,
          5.9652843280426415,
          4.075641721713027,
          5.657328870606947,
          6.073861097070871,
          4.948613323947679,
          5.910006951611399,
          5.905306965082287,
          4.647919318384547,
          5.232646345189363,
          5.289958907339271,
          5.2770138711390056,
          5.666128864177945,
          3.3746305398612915,
          4.252799888124254,
          4.169086622422203,
          4.349698418330944,
          5.753839868371133,
          5.468820861476689,
          4.369285448188193,
          5.486773524027897,
          6.372793558769196,
          3.611452804593457,
          3.4465271300819564,
          6.63505645113557,
          4.7700940403894325,
          4.249612861568109,
          6.3701343482957675,
          3.5662189842247,
          4.61662984511702,
          5.237968093655434,
          4.621585985999811,
          5.453024227925388,
          3.7146036406306626,
          4.095235418646679,
          4.848579301151512,
          3.525302312523137,
          4.769929434925072,
          5.7174715308204265,
          4.00896338870303,
          5.843831454723015,
          4.529559314979106,
          5.389680968817955,
          7.175134083335136,
          4.647701025454785,
          4.602876913584347,
          5.0365431135820335,
          6.492784613209128,
          4.98329746217175,
          6.102691308490599,
          5.323556774620684,
          5.747948876993376,
          6.067636208711271,
          5.184022375330553,
          4.636670460221861,
          3.596307907616509,
          5.4273153689029145,
          4.982753642357776,
          5.0814882561919665,
          5.239117687542891,
          5.748167509781057,
          5.036876686360842,
          5.032100616162393,
          4.253463022246749,
          6.518048125150502,
          4.1474395244823,
          3.932933280772036,
          4.9976805126117005,
          5.460795542990297,
          5.147777941799008,
          2.7004763939397147,
          6.19826902557365,
          4.486731337089805,
          6.246017961461045,
          2.5516692292571572,
          6.178218902551153,
          3.9353978164349663,
          5.187726700158245,
          4.876127984908316,
          2.8394990051672573,
          4.408560763734099,
          4.120891731025251,
          4.912645524909751,
          4.229134617812295,
          4.090361093801981,
          4.085501503594507,
          4.125962870348509,
          4.569299653722363,
          4.7476308552521616,
          5.447803962135889,
          4.805240911692484,
          4.029167729849746,
          6.269707520190006,
          5.965617714503611,
          5.381144703799163,
          5.914060473157638,
          7.344494950472315,
          3.710133343184245,
          5.337192975908501,
          4.216568919024516,
          5.208419178469314,
          6.488780975021991,
          5.226911068610643,
          5.1905021898264545,
          5.374248605936025,
          4.22126435942508,
          4.525040806401238,
          5.835449156061113,
          3.3858625815251093,
          5.646222380436512,
          3.6382373932552867,
          4.867024116902962,
          3.3993122801246307,
          5.9402641069915205,
          6.067898476094607,
          4.86506101753546,
          3.678864336840493,
          4.768508241872254,
          4.106662004221313,
          4.455703106494408,
          6.004466755698637,
          5.301406571889238,
          5.478282285204325,
          4.411417478988232,
          4.875498674166013,
          5.1150041980652885,
          5.162889473949264,
          4.612696071266227,
          5.545005310897363,
          5.424424974933949,
          6.526245966263735,
          5.0153339709048765,
          3.2281003587085957,
          6.119045229571254,
          5.880746994523576,
          3.7837786573355743,
          4.028543394084119,
          3.0806921083061973,
          5.399387126417341,
          4.2729237395987685,
          4.525267132255732,
          6.6193589056873705,
          4.078803468029649,
          4.913705013963489,
          5.683756725261334,
          4.6843439378854494,
          5.4390289336349165,
          4.804821843141493,
          3.893507345470744,
          5.286379121408465,
          4.814521615623392,
          6.244551157889367,
          3.1923467538224006,
          5.7581391243549644,
          3.6064304545975405,
          5.024504460272256,
          6.516386171836745,
          4.182672095997192,
          4.686261113462579,
          4.698523021947334,
          5.823969564058684,
          5.5052861387123295,
          4.132667723392146,
          2.500158255785339,
          4.22445690495609,
          5.477467264714966,
          5.536347344427716,
          3.5575041072672287,
          4.814500627533268,
          5.1186076257840405,
          3.2041145490525853,
          8.375013190863351,
          4.711408183163892,
          6.321636454043763,
          5.721452569591371,
          5.951584207246633,
          5.793813605691264,
          5.78059479263367,
          4.007615803808652,
          4.200134765982154,
          5.992236217576738,
          5.806478739848546,
          4.856017557385519,
          5.798797235951239,
          5.3432244519313326,
          3.8982704317099817,
          5.07972892199625,
          4.768827793271845,
          5.317010833136723,
          3.746062418641519,
          3.377845593183752,
          5.320644316833418,
          4.917668202548138,
          5.563722439395623,
          5.197004540343198,
          4.538753936527103,
          2.7544166255159106,
          5.933351911892407,
          3.8799228955620677,
          7.5182751895976025,
          4.847166153034787,
          4.305432142306556,
          5.29723750161588,
          5.226823893290581,
          5.967589288475134,
          3.527836213173847,
          4.3837164250174485,
          4.887484136588401,
          4.430033726851471,
          6.546380418828051,
          6.534910904906,
          4.601518505409248,
          3.654888521981726,
          6.198286280135276,
          5.905419044247807,
          5.560581408019929,
          4.363492904081481,
          2.8477776717520142,
          4.66334124602928,
          4.833130252630646,
          5.533451265458293,
          5.698708081538023,
          4.524786386100807,
          4.500529003288152,
          6.014962052398386,
          6.617873879903814,
          5.454401688355763,
          6.763639855068767,
          4.880467928441351,
          3.732732793491844,
          4.173719700145377,
          6.038886579271648,
          7.675094600724334,
          4.904711616123111,
          4.902448404518665,
          4.150737775921254,
          4.191631088210908,
          5.275712286990206,
          5.682339035539118,
          6.240125188360775,
          3.4964677402320046,
          5.162215846418564,
          4.743490645466018,
          3.669916135150859,
          3.7982097793391585,
          6.197495358468254,
          5.144025600781536,
          6.707197825640647,
          3.317767485680353,
          4.640945919546274,
          3.842636058993303,
          4.302176517558543,
          5.290498091671095,
          5.65203529597232,
          5.056646590608231,
          3.1472534164909702,
          5.993140382294737,
          7.179689125911776,
          6.272994573660204,
          6.077951490859335,
          6.587814005441658,
          4.35675536667468,
          4.877712068958995,
          5.03901931632132,
          3.3238219531375277,
          3.352186736595309,
          5.687483959290636,
          3.8972792516416472,
          6.173565017017416,
          4.478371643494473,
          3.2358944701731307,
          4.942132686640559,
          5.313268169277928,
          6.098219159134982,
          5.439428292874827,
          4.472269144688969,
          4.7069878632117685,
          5.91436983923285,
          4.951369092876959,
          5.474120433087392,
          2.232009847025722,
          6.8970642485560685,
          5.010993922822421,
          4.781860458107085,
          5.365568307436356,
          6.066849353176508,
          4.798745149897491,
          4.171282406455053,
          4.83298581636136,
          5.699929184433175,
          3.8823388182008216,
          3.315161375220444,
          5.0886219020162535,
          6.291748756683471,
          5.861335669374279,
          6.0805363648192845,
          5.105208619983664,
          4.282176935375074,
          5.993321850147814,
          4.705880438355606,
          3.338532402743485,
          4.583278806394095,
          5.256858311809396,
          5.388267109664468,
          3.752469121171348,
          5.244841375624217,
          5.753666404294181,
          5.592251433531183,
          6.529728102391967,
          4.084258478305875,
          3.071654983463347,
          6.203864402699781,
          4.198957706969075,
          4.982400482864209,
          4.854141551398519,
          4.819321385695959,
          3.770453786666132,
          3.6893996027612834,
          5.389422533026665,
          4.078274921005531,
          5.407606907079583,
          3.7310711205367495,
          4.552829627829275,
          7.022700305550082,
          5.382709918275415,
          3.597843721769962,
          5.559546552509922,
          5.878954632428097,
          3.3399631706573754,
          5.830328933084873,
          5.690235490265079,
          6.554260213304665,
          4.800178993324806,
          3.614968490194105,
          4.307090342898884,
          5.706274905091848,
          5.190900359192621,
          5.119138109932297,
          5.61019176909709,
          5.55570346820222,
          5.4774170807815965,
          5.395919073566961,
          3.6911467173190844,
          2.7438397435963227,
          5.311507755951323,
          4.834682209133727,
          4.300879538562994,
          6.8362798011480725,
          4.148041863809694,
          5.9407011604750535,
          3.3457470871974353,
          3.0236208146188424,
          3.4595705952675377,
          3.7032191354253903,
          6.291113958911396,
          5.56495658093948,
          4.1913702367408225,
          3.7056722440358967,
          5.343318712062844,
          4.089260621789387,
          4.68812984222218,
          4.435145173650935,
          5.967022969896985,
          5.126399544666273,
          5.184309791651863,
          4.331660540660848,
          5.750479031373961,
          5.12579336045703,
          5.797361356770525,
          4.583315352829363,
          6.294867320290254,
          4.9999442214449346,
          6.41887594028222,
          5.228725372778246,
          6.774076247060185,
          4.940517448888488,
          5.711107715654677,
          4.0899711220199215,
          5.829890064437998,
          6.966610022124286,
          4.759891031745948,
          6.123379521476654,
          1.4893827470776846,
          5.3409630948613005,
          4.466960834266633,
          5.203681985364471,
          6.820242548115888,
          4.546669494356376,
          3.9426236996027915,
          5.435242901467082,
          6.68008196409709,
          4.226656514538787,
          5.542534738464814,
          3.8033461515261147,
          3.1519481143165287,
          7.118221726707873,
          5.841977520374355,
          5.432594699691329,
          5.944224354042979,
          7.069956471105833,
          4.206053033084813,
          5.293941848735175,
          4.034883309828917,
          6.294287044035533,
          6.155598766122305,
          6.0374244703479585,
          7.080603444393228,
          4.811323503086543,
          5.4526958115996145,
          6.835097927201206,
          5.081154665380812,
          5.598459934868784,
          4.21775441117113,
          7.50540457304796,
          4.477488398696066,
          2.792052444464516,
          5.164684237621367,
          4.010159612245732,
          6.331860820403108,
          3.188769193714168,
          6.071543665627819,
          3.053928827836722,
          4.7645305224502,
          4.307998469769522,
          4.766154894176233,
          4.5801477076229755,
          4.866755717447144,
          6.348380139760517,
          5.048335053184589,
          3.147220915758148,
          4.597212976365572,
          4.932326340441256,
          5.554658060732322,
          5.614552584153525,
          5.550230672798692,
          5.477621848669285,
          5.410675374990199,
          7.739087585803132,
          6.368224432702445,
          4.345525659168196,
          7.189723436203796,
          5.969961587916135,
          5.6642051803576186,
          5.0643798055609235,
          4.790902603428662,
          7.157002842624337,
          6.427586378968122,
          5.16908995825484,
          4.255796570235438,
          5.445025928843057,
          5.27489105855547,
          5.644766322110534,
          3.854272873035523,
          5.3187276955042035,
          4.883746453638355,
          5.226844122690023,
          4.2676162499805415,
          6.09179994069874,
          4.809621006188195,
          4.718788490911026,
          5.066974037806209,
          4.060310024700694,
          5.5503631117888865,
          4.974923116134798,
          5.286111148767215,
          5.372296614845892,
          3.9036520138738555,
          5.076812406551974,
          6.295692208990088,
          5.351772150574636,
          5.151419838589058,
          6.3917323751646204,
          3.6729737769151027,
          4.9879015103625965,
          5.095554616197832,
          6.035953913741587,
          4.30177287135006,
          7.951828330602509,
          5.5662814313200375,
          4.058917611360982,
          5.292902248999746,
          5.610032651024067,
          4.077656374933759,
          6.41091460962446,
          3.7657245223671167,
          6.639595220945504,
          3.0544669189111318,
          4.430289285050463,
          6.019213288726509,
          5.5226300037824,
          4.375536114150402,
          4.461318956113997,
          5.300204366449313,
          4.862123031788503,
          3.3727744486371702,
          6.070876234376174,
          5.390524984872182,
          3.543448733541124,
          5.428264266035049,
          5.267690483420384,
          5.0093458499916785,
          4.4557106094388494,
          6.147262544453768,
          4.86195950031409,
          4.832715833685869,
          6.041317965744451,
          4.655262697942605,
          5.486368514043031,
          4.665499473250646,
          4.807626330893028,
          5.428997970683932,
          4.960676759962838,
          5.0887940898313895,
          4.347483685569238,
          5.891533594832515,
          6.501905116992771,
          5.342553723374142,
          5.9487381260531675,
          4.280745026994754,
          4.821153039335951,
          4.362171404538056,
          4.936557940740232,
          6.234307688507595,
          4.065505789658927,
          5.107507561555875,
          3.871935990467676,
          5.731284457545437,
          5.95060293330045,
          5.6661518527559975,
          4.471172985826568,
          5.949710433955115,
          5.892147714578035,
          4.082056665334539,
          4.676064769737781,
          5.894076859155731,
          6.197450981760639,
          4.396811690348096,
          6.03177863445167,
          4.847752610468733,
          7.128379965750855,
          3.496272465978018,
          6.1754981695167865,
          6.84239546728793,
          5.978059162425835,
          5.7900592491304055,
          5.795897948610023,
          5.7656941884934865,
          5.769884510132093,
          5.310777060903933,
          4.766541941950067,
          3.2493017392900647,
          5.258358515034995,
          2.556386885665767,
          6.330275092799401,
          4.658235884319266,
          5.4324201820903815,
          6.938767612323323,
          5.716879513283907,
          3.748806859482043,
          4.77391283418415,
          5.3329979988558245,
          6.2924314675562645,
          4.863930986007096,
          5.321672507437684,
          3.923680611808889,
          6.03772229160195,
          4.846369788891254,
          3.263305831339445,
          6.643545620666319,
          3.7596902294226653,
          6.009383788447878,
          3.9465201924751803,
          4.421539548299594,
          3.770120493319702,
          5.0318075297670415,
          4.249942699115746,
          4.640554240403954,
          4.537160157130127,
          6.770711012708572,
          6.044547840947068,
          4.098941132841442,
          4.055690947711186,
          5.5512283362424215,
          4.917343834842102,
          6.0782901116821675,
          5.430549035974712,
          3.7751902442211316,
          4.964179576190248,
          3.517100254229476,
          5.496368314991559,
          4.23278508797788,
          3.339615656146936,
          5.346587738527755,
          5.381087675976576,
          4.593585730272738,
          5.008605377980614,
          6.66166285512967,
          7.352930547201554,
          4.111433128546043,
          5.43576259856078,
          5.464773444619108,
          4.558538647797536,
          4.9404619610493485,
          5.72462134393779,
          5.66663779790317,
          4.495885023480388,
          6.245277443164661,
          4.805865670879834,
          5.428144532510537,
          4.477867467139144,
          3.593931837044897,
          6.107814520283081,
          4.181215895291744,
          2.9129262182300137,
          5.048296091241939,
          6.499037689803975,
          5.2783454203969455,
          5.44246283758422,
          5.251220650481302,
          5.553553940511836,
          5.351260478638432,
          5.561784969254776,
          4.335806069515226,
          5.814889180804283,
          3.3728666291369778,
          4.854159490691197,
          5.016965352253151,
          6.889562555123073,
          6.0318565595333835,
          3.594128486857774,
          3.179045040428836,
          4.816304451114029,
          7.651450552314445,
          7.060303446696552,
          5.478041194325685,
          3.95106821100239,
          4.143411747828273,
          4.14585223006496,
          6.244441734240524,
          5.432950815684758,
          5.217352541467166,
          5.2978633826891395,
          4.874004363055037,
          5.719462486452169,
          5.2122814474204535,
          3.491269821654617,
          5.373814328432601,
          5.026036020734947,
          4.820440088862142,
          4.311786016274984,
          5.343072191267945,
          4.291106634809828,
          5.763151249589956,
          3.4628564563092423,
          5.7799200041702745,
          4.051435930575866,
          5.164007877193815,
          5.668849809891695,
          4.737738396270189,
          5.0991687721314065,
          5.990605319730658,
          4.023592410615846,
          4.780010920083564,
          5.61818201942728,
          3.4129945404308635,
          5.500540823545949,
          4.541565121632178,
          4.85539591356133,
          5.658922979322668,
          3.842673647990959,
          4.45828203161454,
          4.555810341503433,
          6.274293643386412,
          3.784017970513446,
          6.8798194935379655,
          5.06895626865766,
          5.333272260420884,
          5.391785098849159,
          4.910808247975169,
          6.180090940787428,
          4.319063843267456,
          5.480139414192673,
          5.821903008003712,
          4.495533753373316,
          6.432025797089128,
          4.6083864918723,
          3.2328019269396586,
          5.425643071364075,
          5.499444484540401,
          4.415505289283264,
          2.7142792411867753,
          4.292448589574144,
          6.721900366731669,
          5.441261154837905,
          4.6793498766647,
          6.025373160307393,
          5.183695729537621,
          3.667761281987395,
          3.256272572457812,
          5.283239288893207,
          5.676347722483531,
          4.780944862909606,
          6.978309410636514,
          5.784191216395202,
          5.349641672312162,
          5.600098848548902,
          5.65881729304841,
          4.91827240638722,
          5.97005456249078,
          6.540372564790678,
          6.564702749623414,
          4.852413954186259,
          5.661221589734807,
          6.957608364366255,
          6.076797932332659,
          5.040548916136812,
          4.5190536560265855,
          5.359578227947286,
          5.135491454592254,
          4.728061397800711,
          5.045083738477967,
          4.819283146799456,
          2.4337382031914983,
          3.7139746824892965,
          5.673190528846041,
          6.076426586859038,
          4.033683315614266,
          4.612316432087735,
          3.5386225001223957,
          6.581139454291161,
          6.348262101956792,
          4.447353775276344,
          5.335175948104554,
          6.968087817614196,
          3.852733553467008,
          3.775715140026074,
          4.929657184415207,
          5.739891415918278,
          6.445920724422605,
          3.906198307131679,
          5.6365821229303705,
          4.6825823219150395,
          3.979757846410392,
          5.60933933128217,
          3.302716639626468,
          6.271100626164875,
          3.9512077952957503,
          5.837976439095869,
          6.854982637701735,
          5.023420925116991,
          5.937526458471256,
          3.6875794638120385,
          5.448094986529067,
          5.184784183676577,
          5.1830478608513335,
          5.238942219209449,
          5.4319485279974415,
          6.526410049226445,
          4.966929320418983,
          5.323887735913397,
          4.521088436300992,
          5.126275935170382,
          5.673826685629715,
          4.973287689957831,
          5.320808214373898,
          4.981094413276766,
          4.166488948051571,
          6.162816601220728,
          6.961005021746721,
          4.9506393158066055,
          6.421081590355264,
          4.542039516323374,
          5.9546188210114455,
          5.827601568062736,
          3.609367126447573,
          5.394784810285579,
          6.325956692507372,
          4.616920138061039,
          5.059770770793084,
          4.709500892740996,
          6.927545822117951,
          6.482616933663349,
          6.4763596680157915,
          5.364309558303159,
          7.260624330384162,
          5.696821240244004,
          5.053042915284832,
          5.847761496702903,
          3.8219087574929507,
          3.910949531353452,
          4.493702905026957,
          5.706434006693836,
          5.530587709217169,
          4.612413340217878,
          6.326911834864381,
          4.516922357707328,
          5.617140544001425,
          5.771951201794604,
          4.387625471469656,
          4.950953242366329,
          5.911857971004059,
          6.435338007017379,
          3.9609925372974577,
          4.186608128711202,
          5.587633694296702,
          5.074680705607404,
          5.342806401865416,
          3.95300388088038,
          1.8437608331179614,
          4.075496074707562,
          3.7049987447616406,
          5.559942234263481,
          3.4170127935688015,
          5.522850526607162
         ],
         "xaxis": "x",
         "xbins": {
          "end": 8.375013190863351,
          "size": 1,
          "start": 1.4893827470776846
         },
         "yaxis": "y"
        },
        {
         "legendgroup": "Normal1",
         "marker": {
          "color": "rgb(31, 119, 180)"
         },
         "mode": "lines",
         "name": "Normal1",
         "showlegend": false,
         "type": "scatter",
         "x": [
          -3.126956362388291,
          -3.114394615595937,
          -3.101832868803583,
          -3.089271122011229,
          -3.0767093752188757,
          -3.0641476284265217,
          -3.0515858816341677,
          -3.0390241348418137,
          -3.0264623880494597,
          -3.0139006412571057,
          -3.001338894464752,
          -2.988777147672398,
          -2.976215400880044,
          -2.96365365408769,
          -2.951091907295336,
          -2.938530160502982,
          -2.925968413710628,
          -2.9134066669182745,
          -2.9008449201259205,
          -2.8882831733335665,
          -2.8757214265412125,
          -2.8631596797488585,
          -2.8505979329565045,
          -2.8380361861641505,
          -2.825474439371797,
          -2.812912692579443,
          -2.800350945787089,
          -2.787789198994735,
          -2.775227452202381,
          -2.762665705410027,
          -2.7501039586176734,
          -2.7375422118253194,
          -2.7249804650329654,
          -2.7124187182406114,
          -2.6998569714482574,
          -2.6872952246559034,
          -2.6747334778635494,
          -2.662171731071196,
          -2.649609984278842,
          -2.637048237486488,
          -2.624486490694134,
          -2.61192474390178,
          -2.599362997109426,
          -2.5868012503170723,
          -2.5742395035247183,
          -2.5616777567323643,
          -2.5491160099400103,
          -2.5365542631476563,
          -2.5239925163553023,
          -2.5114307695629483,
          -2.4988690227705943,
          -2.4863072759782407,
          -2.4737455291858867,
          -2.4611837823935327,
          -2.4486220356011787,
          -2.4360602888088247,
          -2.423498542016471,
          -2.410936795224117,
          -2.398375048431763,
          -2.385813301639409,
          -2.373251554847055,
          -2.360689808054701,
          -2.348128061262347,
          -2.335566314469993,
          -2.3230045676776396,
          -2.3104428208852856,
          -2.2978810740929316,
          -2.2853193273005776,
          -2.2727575805082236,
          -2.26019583371587,
          -2.247634086923516,
          -2.235072340131162,
          -2.222510593338808,
          -2.209948846546454,
          -2.1973870997541,
          -2.184825352961746,
          -2.172263606169392,
          -2.1597018593770385,
          -2.1471401125846845,
          -2.1345783657923305,
          -2.122016618999977,
          -2.1094548722076225,
          -2.096893125415269,
          -2.084331378622915,
          -2.071769631830561,
          -2.059207885038207,
          -2.046646138245853,
          -2.034084391453499,
          -2.021522644661145,
          -2.008960897868791,
          -1.9963991510764372,
          -1.9838374042840834,
          -1.9712756574917294,
          -1.9587139106993756,
          -1.9461521639070216,
          -1.9335904171146676,
          -1.9210286703223136,
          -1.9084669235299596,
          -1.8959051767376056,
          -1.8833434299452518,
          -1.8707816831528978,
          -1.858219936360544,
          -1.84565818956819,
          -1.833096442775836,
          -1.8205346959834823,
          -1.8079729491911283,
          -1.7954112023987745,
          -1.7828494556064205,
          -1.7702877088140665,
          -1.7577259620217125,
          -1.7451642152293585,
          -1.7326024684370045,
          -1.7200407216446507,
          -1.7074789748522967,
          -1.694917228059943,
          -1.682355481267589,
          -1.669793734475235,
          -1.6572319876828812,
          -1.6446702408905272,
          -1.6321084940981732,
          -1.6195467473058194,
          -1.6069850005134654,
          -1.5944232537211114,
          -1.5818615069287574,
          -1.5692997601364034,
          -1.5567380133440496,
          -1.5441762665516956,
          -1.5316145197593418,
          -1.5190527729669878,
          -1.5064910261746338,
          -1.49392927938228,
          -1.481367532589926,
          -1.468805785797572,
          -1.4562440390052183,
          -1.4436822922128643,
          -1.4311205454205103,
          -1.4185587986281563,
          -1.4059970518358023,
          -1.3934353050434485,
          -1.3808735582510945,
          -1.3683118114587405,
          -1.3557500646663867,
          -1.3431883178740327,
          -1.330626571081679,
          -1.318064824289325,
          -1.305503077496971,
          -1.2929413307046171,
          -1.2803795839122631,
          -1.2678178371199091,
          -1.2552560903275551,
          -1.2426943435352011,
          -1.2301325967428474,
          -1.2175708499504934,
          -1.2050091031581394,
          -1.1924473563657856,
          -1.1798856095734316,
          -1.1673238627810778,
          -1.1547621159887238,
          -1.1422003691963698,
          -1.129638622404016,
          -1.1170768756116622,
          -1.1045151288193078,
          -1.0919533820269538,
          -1.0793916352346002,
          -1.0668298884422462,
          -1.0542681416498927,
          -1.0417063948575387,
          -1.0291446480651842,
          -1.0165829012728302,
          -1.0040211544804762,
          -0.9914594076881222,
          -0.9788976608957687,
          -0.9663359141034147,
          -0.9537741673110607,
          -0.9412124205187067,
          -0.9286506737263527,
          -0.9160889269339991,
          -0.9035271801416451,
          -0.8909654333492911,
          -0.8784036865569371,
          -0.8658419397645831,
          -0.8532801929722296,
          -0.8407184461798756,
          -0.8281566993875216,
          -0.8155949525951676,
          -0.8030332058028136,
          -0.79047145901046,
          -0.777909712218106,
          -0.765347965425752,
          -0.752786218633398,
          -0.740224471841044,
          -0.7276627250486905,
          -0.715100978256336,
          -0.702539231463982,
          -0.689977484671628,
          -0.677415737879274,
          -0.66485399108692,
          -0.6522922442945664,
          -0.6397304975022124,
          -0.6271687507098584,
          -0.6146070039175044,
          -0.6020452571251504,
          -0.5894835103327969,
          -0.5769217635404429,
          -0.5643600167480889,
          -0.5517982699557349,
          -0.5392365231633809,
          -0.5266747763710273,
          -0.5141130295786733,
          -0.5015512827863193,
          -0.48898953599396533,
          -0.47642778920161133,
          -0.4638660424092578,
          -0.4513042956169038,
          -0.43874254882454977,
          -0.42618080203219577,
          -0.41361905523984177,
          -0.40105730844748777,
          -0.38849556165513377,
          -0.37593381486277977,
          -0.36337206807042577,
          -0.35081032127807177,
          -0.33824857448571777,
          -0.3256868276933642,
          -0.3131250809010102,
          -0.3005633341086562,
          -0.2880015873163022,
          -0.2754398405239482,
          -0.26287809373159465,
          -0.25031634693924065,
          -0.23775460014688665,
          -0.22519285335453265,
          -0.21263110656217865,
          -0.2000693597698251,
          -0.1875076129774711,
          -0.1749458661851171,
          -0.1623841193927631,
          -0.1498223726004091,
          -0.1372606258080551,
          -0.12469887901570154,
          -0.11213713222334754,
          -0.09957538543099353,
          -0.08701363863863953,
          -0.07445189184628553,
          -0.06189014505393153,
          -0.04932839826157753,
          -0.03676665146922353,
          -0.024204904676869532,
          -0.011643157884515531,
          0.0009185889078380249,
          0.013480335700192025,
          0.026042082492546026,
          0.038603829284900026,
          0.05116557607725403,
          0.06372732286960758,
          0.07628906966196158,
          0.08885081645431558,
          0.10141256324666958,
          0.11397431003902359,
          0.12653605683137759,
          0.13909780362373114,
          0.15165955041608514,
          0.16422129720843914,
          0.17678304400079314,
          0.18934479079314714,
          0.2019065375855007,
          0.2144682843778547,
          0.2270300311702087,
          0.2395917779625627,
          0.25215352475491715,
          0.2647152715472707,
          0.2772770183396247,
          0.2898387651319787,
          0.3024005119243327,
          0.3149622587166867,
          0.32752400550904026,
          0.34008575230139426,
          0.35264749909374826,
          0.36520924588610226,
          0.37777099267845626,
          0.39033273947081026,
          0.4028944862631638,
          0.4154562330555178,
          0.4280179798478718,
          0.4405797266402258,
          0.4531414734325798,
          0.4657032202249334,
          0.4782649670172874,
          0.4908267138096414,
          0.5033884606019954,
          0.5159502073943494,
          0.5285119541867029,
          0.5410737009790569,
          0.5536354477714109,
          0.5661971945637649,
          0.5787589413561194,
          0.5913206881484729,
          0.6038824349408269,
          0.6164441817331809,
          0.6290059285255349,
          0.6415676753178889,
          0.6541294221102425,
          0.6666911689025965,
          0.6792529156949505,
          0.6918146624873045,
          0.7043764092796585,
          0.7169381560720125,
          0.7294999028643661,
          0.7420616496567201,
          0.7546233964490741,
          0.7671851432414281,
          0.7797468900337821,
          0.7923086368261356,
          0.8048703836184896,
          0.8174321304108436,
          0.8299938772031976,
          0.8425556239955516,
          0.8551173707879052,
          0.8676791175802592,
          0.8802408643726136,
          0.8928026111649667,
          0.9053643579573216,
          0.9179261047496756,
          0.9304878515420296,
          0.9430495983343836,
          0.9556113451267367,
          0.9681730919190907,
          0.9807348387114447,
          0.9932965855037987,
          1.0058583322961527,
          1.0184200790885058,
          1.0309818258808598,
          1.0435435726732138,
          1.0561053194655687,
          1.0686670662579227,
          1.0812288130502767,
          1.0937905598426307,
          1.1063523066349847,
          1.1189140534273387,
          1.1314758002196927,
          1.1440375470120467,
          1.1565992938043999,
          1.1691610405967539,
          1.1817227873891079,
          1.1942845341814619,
          1.2068462809738159,
          1.2194080277661699,
          1.2319697745585239,
          1.2445315213508779,
          1.2570932681432319,
          1.2696550149355859,
          1.282216761727939,
          1.294778508520293,
          1.307340255312647,
          1.319902002105001,
          1.332463748897355,
          1.345025495689709,
          1.357587242482063,
          1.370148989274417,
          1.382710736066771,
          1.395272482859125,
          1.407834229651479,
          1.420395976443832,
          1.432957723236186,
          1.44551947002854,
          1.458081216820894,
          1.470642963613248,
          1.483204710405602,
          1.495766457197956,
          1.50832820399031,
          1.520889950782664,
          1.533451697575018,
          1.5460134443673712,
          1.5585751911597252,
          1.5711369379520792,
          1.5836986847444332,
          1.5962604315367872,
          1.6088221783291412,
          1.6213839251214952,
          1.6339456719138492,
          1.6465074187062032,
          1.6590691654985572,
          1.6716309122909103,
          1.6841926590832643,
          1.6967544058756192,
          1.7093161526679732,
          1.7218778994603272,
          1.7344396462526812,
          1.7470013930450352,
          1.7595631398373892,
          1.7721248866297432,
          1.7846866334220972,
          1.7972483802144512,
          1.8098101270068043,
          1.8223718737991583,
          1.8349336205915123,
          1.8474953673838663,
          1.8600571141762203,
          1.8726188609685743,
          1.8851806077609283,
          1.8977423545532823,
          1.9103041013456363,
          1.9228658481379903,
          1.9354275949303443,
          1.9479893417226974,
          1.9605510885150514,
          1.9731128353074054,
          1.9856745820997594,
          1.9982363288921134,
          2.0107980756844674,
          2.0233598224768214,
          2.0359215692691754,
          2.0484833160615294,
          2.0610450628538834,
          2.0736068096462366,
          2.0861685564385906,
          2.0987303032309446,
          2.1112920500232986,
          2.1238537968156526,
          2.1364155436080066,
          2.1489772904003606,
          2.1615390371927146,
          2.1741007839850686,
          2.1866625307774226,
          2.1992242775697757,
          2.2117860243621297,
          2.2243477711544837,
          2.2369095179468377,
          2.2494712647391917,
          2.2620330115315457,
          2.2745947583238997,
          2.2871565051162537,
          2.2997182519086077,
          2.3122799987009617,
          2.3248417454933157,
          2.337403492285669,
          2.3499652390780237,
          2.3625269858703777,
          2.3750887326627317,
          2.3876504794550857,
          2.4002122262474397,
          2.4127739730397937,
          2.4253357198321477,
          2.4378974666245017,
          2.4504592134168557,
          2.463020960209209,
          2.475582707001563,
          2.488144453793917,
          2.500706200586271,
          2.513267947378625,
          2.525829694170979,
          2.538391440963333,
          2.550953187755687,
          2.563514934548041,
          2.576076681340395,
          2.588638428132749,
          2.601200174925102,
          2.613761921717456,
          2.62632366850981,
          2.638885415302164,
          2.651447162094518,
          2.664008908886872,
          2.676570655679226,
          2.68913240247158,
          2.701694149263934,
          2.714255896056288,
          2.726817642848641,
          2.739379389640995,
          2.751941136433349,
          2.764502883225703,
          2.777064630018057,
          2.789626376810411,
          2.802188123602765,
          2.814749870395119,
          2.827311617187473,
          2.839873363979827,
          2.852435110772181,
          2.864996857564534,
          2.877558604356888,
          2.890120351149242,
          2.902682097941596,
          2.91524384473395,
          2.927805591526304,
          2.940367338318658,
          2.952929085111012,
          2.965490831903366,
          2.97805257869572,
          2.990614325488074,
          3.003176072280428,
          3.015737819072782,
          3.028299565865136,
          3.04086131265749,
          3.053423059449844,
          3.065984806242198,
          3.078546553034552,
          3.091108299826906,
          3.10367004661926,
          3.116231793411614,
          3.1287935402039673,
          3.1413552869963213
         ],
         "xaxis": "x",
         "y": [
          0.004416926617589061,
          0.004533637235433209,
          0.004646811822763156,
          0.004756419949311219,
          0.004862503146454639,
          0.004965178273455787,
          0.005064640052904015,
          0.005161162707642992,
          0.005255100643688446,
          0.005346888137340096,
          0.005437037999665438,
          0.005526139207542645,
          0.005614853507228298,
          0.005703911013669148,
          0.005794104846191621,
          0.005886284858451325,
          0.005981350537271533,
          0.00608024316091012,
          0.006183937322038416,
          0.0062934319339800525,
          0.0064097408502489525,
          0.00653388323687831,
          0.006666873844217443,
          0.006809713329599966,
          0.0069633787844123355,
          0.007128814618520612,
          0.007306923951703808,
          0.007498560655707413,
          0.007704522181835148,
          0.007925543297764081,
          0.008162290843667043,
          0.008415359601979784,
          0.008685269357520549,
          0.00897246320546016,
          0.00927730714418435,
          0.00960009096874565,
          0.009941030458744466,
          0.01030027083249298,
          0.010677891417584634,
          0.011073911466895717,
          0.011488297028947438,
          0.011920968762799295,
          0.012371810570543453,
          0.01284067890530886,
          0.01332741259971073,
          0.013831843049102045,
          0.014353804575968153,
          0.014893144796476179,
          0.015449734807630447,
          0.016023479013737307,
          0.01661432441394621,
          0.01722226917847766,
          0.017847370349699798,
          0.018489750515374534,
          0.019149603315030194,
          0.019827197656371302,
          0.020522880536728957,
          0.021237078384579066,
          0.021970296857884864,
          0.022723119059209464,
          0.02349620215192473,
          0.02429027238712579,
          0.02510611857674202,
          0.025944584074482305,
          0.026806557352321993,
          0.02769296128585932,
          0.028604741286657645,
          0.02954285244324631,
          0.030508245854364204,
          0.03150185435787782,
          0.03252457787617437,
          0.033577268613303006,
          0.03466071635032801,
          0.035775634092891445,
          0.036922644328540956,
          0.03810226615067518,
          0.03931490350078794,
          0.04056083477090787,
          0.04184020399368493,
          0.04315301382849969,
          0.04449912052842607,
          0.045878231045097376,
          0.047289902396878844,
          0.04873354339071168,
          0.05020841875012291,
          0.051713655661871256,
          0.0532482527122643,
          0.05481109114215229,
          0.05640094830783447,
          0.058016513194498055,
          0.059656403790216445,
          0.061319186092830914,
          0.06300339449002221,
          0.06470755322528049,
          0.06643019863991344,
          0.06816990186421566,
          0.0699252916197905,
          0.07169507679000396,
          0.07347806841668188,
          0.07527320078833082,
          0.0770795512980896,
          0.07889635876786696,
          0.08072303995814115,
          0.08255920400999132,
          0.08440466459635898,
          0.08625944959244657,
          0.08812380810972027,
          0.08999821477333378,
          0.09188337115812402,
          0.09378020433291824,
          0.09568986249607377,
          0.09761370771646037,
          0.09955330582307277,
          0.10151041351295167,
          0.1034869627709733,
          0.10548504271647928,
          0.10750687901085264,
          0.1095548109773726,
          0.11163126660045991,
          0.11373873558626679,
          0.11587974068103365,
          0.11805680745829031,
          0.12027243280130552,
          0.12252905232362529,
          0.12482900698838255,
          0.12717450920643977,
          0.12956760871432424,
          0.13201015855507692,
          0.13450378150813674,
          0.137049837337543,
          0.13964939125022763,
          0.1423031839769546,
          0.14501160390635937,
          0.147774661716289,
          0.15059196795490296,
          0.15346271402542336,
          0.15638565702178953,
          0.1593591088465583,
          0.16238093001632692,
          0.1654485285228978,
          0.1685588640700414,
          0.17170845794584275,
          0.17489340871957051,
          0.17810941387044724,
          0.18135179736463508,
          0.1846155430977148,
          0.1878953340146788,
          0.19118559661018297,
          0.19448055040093848,
          0.1977742618523334,
          0.20106070213545574,
          0.20433380799154763,
          0.2075875448913783,
          0.21081597159982926,
          0.2140133051936813,
          0.2171739855354191,
          0.22029273817969566,
          0.22336463468337703,
          0.2263851493057087,
          0.22935021112260523,
          0.2322562506380394,
          0.23510024005540994,
          0.23787972647113306,
          0.24059285736979866,
          0.24323839793255922,
          0.2458157398153105,
          0.24832490120740913,
          0.25076651814172846,
          0.2531418271891748,
          0.25545263983159905,
          0.25770130896263993,
          0.25989068811285,
          0.26202408413007466,
          0.2641052041654031,
          0.26613809791641047,
          0.2681270961605894,
          0.2700767466711429,
          0.27199174864344544,
          0.2738768867729075,
          0.2757369661136527,
          0.27757674881287236,
          0.2794008937590367,
          0.2812139001049287,
          0.28302005553072157,
          0.28482339000051965,
          0.28662763564060034,
          0.28843619323214154,
          0.29025210566847154,
          0.2920780385802703,
          0.29391626818471966,
          0.29576867626968845,
          0.297636752084499,
          0.2995216007776021,
          0.3014239579010494,
          0.3033442093942585,
          0.3052824163671333,
          0.3072383439266158,
          0.3092114932323562,
          0.31120113592716747,
          0.31320635006650405,
          0.3152260566685051,
          0.3172590560215484,
          0.3193040629191703,
          0.3213597400414107,
          0.32342472876583406,
          0.32549767676894964,
          0.3275772618677103,
          0.3296622116491201,
          0.33175131854159173,
          0.33384345009226596,
          0.3359375543277557,
          0.3380326601893419,
          0.34012787314526827,
          0.3422223661902357,
          0.3443153665433896,
          0.3464061384490884,
          0.3484939625677977,
          0.3505781125160501,
          0.35265782917328614,
          0.3547322934185796,
          0.3568005979909739,
          0.35886171918320375,
          0.36091448907969254,
          0.3629575690362731,
          0.3649894250715958,
          0.3670083057995025,
          0.3690122234788044,
          0.3709989386933878,
          0.3729659491027247,
          0.3749104826225479,
          0.37682949530932464,
          0.3787196741321949,
          0.38057744472401894,
          0.3823989841109895,
          0.3841802383296507,
          0.38591694475277794,
          0.38760465886283857,
          0.38923878513508015,
          0.390814611622635,
          0.39232734777437495,
          0.3937721649631776,
          0.3951442391582913,
          0.39643879514071695,
          0.39765115163520137,
          0.398776766716225,
          0.3998112828382887,
          0.4007505708422713,
          0.401590772299458,
          0.40232833957252434,
          0.40296007299778047,
          0.40348315462512035,
          0.4038951779908059,
          0.4041941734431759,
          0.4043786285923888,
          0.40444750351191355,
          0.40440024038165495,
          0.4042367673299419,
          0.4039574963038436,
          0.4035633148742369,
          0.4030555719629692,
          0.4024360575642666,
          0.401706976620007,
          0.40087091729818686,
          0.3999308140145124,
          0.39888990562739546,
          0.3977516893252802,
          0.3965198708105242,
          0.3951983114641934,
          0.3937909732492849,
          0.3923018621740747,
          0.3907349711904863,
          0.3890942234427993,
          0.38738341680781624,
          0.3856061706772022,
          0.38376587592492295,
          0.38186564897646547,
          0.3799082908513456,
          0.3778962519862527,
          0.3758316035633517,
          0.37371601596776594,
          0.3715507448815335,
          0.36933662539023626,
          0.36707407433555916,
          0.3647631009950666,
          0.3624033260125942,
          0.3599940083425352,
          0.3575340798123706,
          0.35502218675403635,
          0.35245673800967503,
          0.3498359584847199,
          0.3471579473043373,
          0.34442073953106006,
          0.341622370324541,
          0.3387609403706711,
          0.33583468137843425,
          0.3328420204393953,
          0.3297816420670093,
          0.3266525467801842,
          0.32345410516682804,
          0.32018610645632856,
          0.3168488007429508,
          0.3134429341318949,
          0.3099697762230898,
          0.30643113950102197,
          0.30282939035830486,
          0.29916745164230735,
          0.2954487967742403,
          0.29167743564480614,
          0.28785789263651174,
          0.28399517725674744,
          0.2800947479851305,
          0.2761624700410828,
          0.27220456786149033,
          0.2682275731423345,
          0.2642382693419637,
          0.26024363356693436,
          0.2562507767648755,
          0.2522668831333961,
          0.2482991496213158,
          0.2443547263501969,
          0.24044065872247275,
          0.23656383190980101,
          0.23273091833412363,
          0.2289483286668452,
          0.2252221667811347,
          0.22155818900102234,
          0.21796176790096622,
          0.21443786082301322,
          0.21099098319719467,
          0.20762518667602053,
          0.20434404202677303,
          0.20115062666669442,
          0.1980475166764319,
          0.1950367830863852,
          0.19211999219874049,
          0.18929820968445593,
          0.18657200817866262,
          0.18394147808900707,
          0.18140624132841052,
          0.1789654676855554,
          0.17661789355204252,
          0.17436184273360703,
          0.17219524908305062,
          0.1701156807038172,
          0.16812036548466333,
          0.16620621773709565,
          0.1643698657177606,
          0.16260767982750204,
          0.1609158012872916,
          0.15929017109869734,
          0.15772655910319333,
          0.1562205929606868,
          0.1547677868734678,
          0.15336356988779914,
          0.15200331361190084,
          0.1506823591965492,
          0.1493960434332063,
          0.14813972383478974,
          0.14690880257601877,
          0.14569874918383574,
          0.14450512188359899,
          0.14332358752345095,
          0.1421499400172074,
          0.14098011726493268,
          0.1398102165296183,
          0.13863650826758508,
          0.13745544842886365,
          0.13626368926130028,
          0.13505808866802424,
          0.1338357181816558,
          0.1325938696298808,
          0.1313300605753798,
          0.13004203861840236,
          0.12872778465236567,
          0.12738551516176194,
          0.12601368364748503,
          0.12461098125769636,
          0.12317633669288405,
          0.12170891544225279,
          0.12020811839557863,
          0.11867357986070308,
          0.11710516500255984,
          0.11550296670563975,
          0.11386730184870456,
          0.11219870696891947,
          0.1104979332829104,
          0.10876594102496898,
          0.10700389305809359,
          0.10521314771196318,
          0.10339525080345396,
          0.10155192679990103,
          0.09968506909289344,
          0.09779672936076464,
          0.09588910601077531,
          0.09396453170692234,
          0.0920254600058666,
          0.09007445114115298,
          0.08811415701416546,
          0.0861473054685542,
          0.08417668394264906,
          0.08220512261109489,
          0.08023547714214403,
          0.0782706112102481,
          0.07631337891445757,
          0.07436660726135301,
          0.07243307887655669,
          0.07051551511119193,
          0.06861655970887488,
          0.06673876319498903,
          0.06488456814317742,
          0.06305629546437143,
          0.061256131851471184,
          0.059486118498300544,
          0.057748141194982325,
          0.05604392188379818,
          0.054375011740276355,
          0.05274278582410612,
          0.05114843932388729,
          0.04959298539911168,
          0.04807725460249409,
          0.04660189584620662,
          0.04516737885704512,
          0.043773998048370184,
          0.042421877721083114,
          0.041110978492140106,
          0.039841104837347846,
          0.03861191362555767,
          0.03742292351396325,
          0.03627352506905056,
          0.035162991474842115,
          0.03409048968936833,
          0.03305509191170432,
          0.03205578722529828,
          0.031091493288532647,
          0.030161067950313637,
          0.02926332067676684,
          0.028397023684596637,
          0.02756092268710778,
          0.026753747170028798,
          0.025974220125886124,
          0.02522106718748967,
          0.024493025112882524,
          0.02378884958565259,
          0.023107322305598522,
          0.022447257355210092,
          0.02180750683710957,
          0.021186965786381504,
          0.020584576369503324,
          0.01999933138831234,
          0.019430277113083,
          0.018876515473336474,
          0.01833720563849853,
          0.017811565023013863,
          0.017298869752101494,
          0.01679845462509275,
          0.01630971261334873,
          0.015832093929237442,
          0.015365104701692205,
          0.01490830529261171,
          0.014461308286927233,
          0.014023776187681747,
          0.01359541884605011,
          0.013175990654976363,
          0.012765287534094219,
          0.01236314373288631,
          0.01196942847866349,
          0.011584042495918684,
          0.01120691442392026,
          0.010837997160024575,
          0.010477264157049455,
          0.010124705704091118,
          0.009780325221295438,
          0.009444135600212055,
          0.009116155622360813,
          0.008796406489412508,
          0.008484908498824034,
          0.008181677898767878,
          0.007886723955668357,
          0.0076000462665245724,
          0.007321632346406634,
          0.00705145551902089,
          0.006789473135040618,
          0.006535625139005549,
          0.0062898330010456435,
          0.006051999024549625,
          0.005822006035264887,
          0.0055997174512982355,
          0.005384977727214242,
          0.005177613159049551,
          0.004977433030732154,
          0.004784231076277013,
          0.0045977872263870765,
          0.004417869602876759,
          0.004244236719801603,
          0.004076639846452272,
          0.003914825484564098,
          0.0037585379102913134,
          0.00360752173075616,
          0.003461524405336534,
          0.0033202986833004793
         ],
         "yaxis": "y"
        },
        {
         "legendgroup": "Normal 2",
         "marker": {
          "color": "rgb(255, 127, 14)"
         },
         "mode": "lines",
         "name": "Normal 2",
         "showlegend": false,
         "type": "scatter",
         "x": [
          1.4893827470776846,
          1.503154007965256,
          1.5169252688528272,
          1.5306965297403985,
          1.54446779062797,
          1.5582390515155413,
          1.5720103124031126,
          1.585781573290684,
          1.5995528341782552,
          1.6133240950658265,
          1.6270953559533978,
          1.6408666168409693,
          1.6546378777285407,
          1.668409138616112,
          1.6821803995036833,
          1.6959516603912546,
          1.7097229212788259,
          1.7234941821663972,
          1.7372654430539685,
          1.75103670394154,
          1.7648079648291113,
          1.7785792257166826,
          1.792350486604254,
          1.8061217474918252,
          1.8198930083793967,
          1.833664269266968,
          1.8474355301545393,
          1.8612067910421106,
          1.874978051929682,
          1.8887493128172532,
          1.9025205737048245,
          1.9162918345923958,
          1.9300630954799671,
          1.9438343563675387,
          1.95760561725511,
          1.9713768781426813,
          1.9851481390302526,
          1.998919399917824,
          2.0126906608053954,
          2.0264619216929667,
          2.040233182580538,
          2.0540044434681093,
          2.0677757043556806,
          2.081546965243252,
          2.095318226130823,
          2.1090894870183945,
          2.122860747905966,
          2.136632008793537,
          2.1504032696811084,
          2.1641745305686797,
          2.1779457914562514,
          2.1917170523438227,
          2.205488313231394,
          2.2192595741189654,
          2.2330308350065367,
          2.246802095894108,
          2.2605733567816793,
          2.2743446176692506,
          2.288115878556822,
          2.301887139444393,
          2.3156584003319645,
          2.329429661219536,
          2.3432009221071075,
          2.356972182994679,
          2.37074344388225,
          2.3845147047698214,
          2.3982859656573927,
          2.412057226544964,
          2.4258284874325353,
          2.4395997483201066,
          2.453371009207678,
          2.4671422700952492,
          2.4809135309828205,
          2.494684791870392,
          2.508456052757963,
          2.5222273136455344,
          2.5359985745331057,
          2.549769835420677,
          2.5635410963082483,
          2.5773123571958196,
          2.591083618083391,
          2.6048548789709622,
          2.6186261398585335,
          2.632397400746105,
          2.646168661633677,
          2.6599399225212483,
          2.6737111834088196,
          2.687482444296391,
          2.7012537051839622,
          2.7150249660715335,
          2.728796226959105,
          2.742567487846676,
          2.7563387487342474,
          2.7701100096218187,
          2.78388127050939,
          2.7976525313969614,
          2.8114237922845327,
          2.825195053172104,
          2.8389663140596753,
          2.8527375749472466,
          2.866508835834818,
          2.880280096722389,
          2.8940513576099605,
          2.9078226184975318,
          2.921593879385103,
          2.9353651402726744,
          2.9491364011602457,
          2.962907662047817,
          2.9766789229353883,
          2.99045018382296,
          3.0042214447105313,
          3.0179927055981026,
          3.031763966485674,
          3.0455352273732452,
          3.059306488260817,
          3.0730777491483883,
          3.0868490100359596,
          3.100620270923531,
          3.114391531811102,
          3.1281627926986735,
          3.141934053586245,
          3.155705314473816,
          3.1694765753613874,
          3.1832478362489587,
          3.19701909713653,
          3.2107903580241013,
          3.2245616189116726,
          3.238332879799244,
          3.252104140686815,
          3.2658754015743865,
          3.279646662461958,
          3.293417923349529,
          3.3071891842371004,
          3.3209604451246717,
          3.334731706012243,
          3.3485029668998147,
          3.362274227787386,
          3.3760454886749574,
          3.3898167495625287,
          3.4035880104501,
          3.4173592713376713,
          3.4311305322252426,
          3.444901793112814,
          3.458673054000385,
          3.4724443148879565,
          3.486215575775528,
          3.499986836663099,
          3.5137580975506704,
          3.527529358438242,
          3.5413006193258134,
          3.5550718802133847,
          3.568843141100956,
          3.5826144019885273,
          3.5963856628760986,
          3.61015692376367,
          3.6239281846512412,
          3.6376994455388125,
          3.651470706426384,
          3.665241967313955,
          3.6790132282015264,
          3.6927844890890977,
          3.706555749976669,
          3.7203270108642403,
          3.7340982717518116,
          3.747869532639383,
          3.7616407935269542,
          3.7754120544145255,
          3.7891833153020977,
          3.802954576189669,
          3.8167258370772403,
          3.8304970979648116,
          3.844268358852383,
          3.8580396197399542,
          3.8718108806275255,
          3.885582141515097,
          3.899353402402668,
          3.9131246632902394,
          3.9268959241778107,
          3.940667185065382,
          3.9544384459529534,
          3.9682097068405247,
          3.981980967728096,
          3.9957522286156673,
          4.009523489503239,
          4.02329475039081,
          4.037066011278381,
          4.0508372721659525,
          4.064608533053524,
          4.078379793941095,
          4.092151054828666,
          4.105922315716238,
          4.119693576603809,
          4.133464837491381,
          4.1472360983789525,
          4.161007359266524,
          4.174778620154095,
          4.188549881041666,
          4.202321141929238,
          4.216092402816809,
          4.22986366370438,
          4.243634924591952,
          4.257406185479523,
          4.271177446367094,
          4.2849487072546655,
          4.298719968142237,
          4.312491229029808,
          4.326262489917379,
          4.340033750804951,
          4.353805011692522,
          4.367576272580093,
          4.381347533467665,
          4.395118794355236,
          4.408890055242807,
          4.4226613161303785,
          4.43643257701795,
          4.450203837905521,
          4.463975098793092,
          4.477746359680664,
          4.491517620568235,
          4.505288881455806,
          4.519060142343378,
          4.532831403230949,
          4.54660266411852,
          4.5603739250060915,
          4.574145185893663,
          4.587916446781234,
          4.601687707668805,
          4.615458968556377,
          4.629230229443949,
          4.64300149033152,
          4.6567727512190915,
          4.670544012106663,
          4.684315272994234,
          4.698086533881805,
          4.711857794769377,
          4.725629055656948,
          4.739400316544519,
          4.753171577432091,
          4.766942838319662,
          4.780714099207233,
          4.7944853600948045,
          4.808256620982376,
          4.822027881869947,
          4.835799142757518,
          4.849570403645091,
          4.863341664532662,
          4.877112925420233,
          4.8908841863078045,
          4.904655447195376,
          4.918426708082947,
          4.932197968970518,
          4.94596922985809,
          4.959740490745661,
          4.973511751633232,
          4.987283012520804,
          5.001054273408375,
          5.014825534295946,
          5.0285967951835175,
          5.042368056071089,
          5.05613931695866,
          5.0699105778462314,
          5.083681838733803,
          5.097453099621374,
          5.111224360508945,
          5.124995621396517,
          5.138766882284088,
          5.152538143171659,
          5.166309404059231,
          5.180080664946802,
          5.193851925834373,
          5.2076231867219445,
          5.221394447609516,
          5.235165708497087,
          5.248936969384658,
          5.26270823027223,
          5.276479491159801,
          5.290250752047372,
          5.304022012934944,
          5.317793273822515,
          5.331564534710086,
          5.3453357955976575,
          5.359107056485229,
          5.3728783173728,
          5.386649578260371,
          5.400420839147943,
          5.414192100035514,
          5.427963360923085,
          5.441734621810657,
          5.455505882698228,
          5.4692771435858,
          5.483048404473371,
          5.496819665360942,
          5.510590926248513,
          5.524362187136084,
          5.538133448023656,
          5.551904708911229,
          5.5656759697988,
          5.579447230686371,
          5.593218491573943,
          5.606989752461512,
          5.620761013349085,
          5.634532274236655,
          5.648303535124228,
          5.662074796011797,
          5.6758460568993705,
          5.689617317786942,
          5.703388578674513,
          5.717159839562084,
          5.730931100449656,
          5.744702361337227,
          5.758473622224798,
          5.77224488311237,
          5.786016143999941,
          5.799787404887512,
          5.8135586657750835,
          5.827329926662655,
          5.841101187550226,
          5.854872448437797,
          5.868643709325369,
          5.88241497021294,
          5.896186231100511,
          5.909957491988083,
          5.923728752875654,
          5.937500013763225,
          5.9512712746507965,
          5.965042535538368,
          5.978813796425939,
          5.99258505731351,
          6.006356318201082,
          6.020127579088653,
          6.033898839976224,
          6.047670100863796,
          6.061441361751367,
          6.075212622638938,
          6.088983883526511,
          6.102755144414081,
          6.116526405301654,
          6.1302976661892234,
          6.1440689270767965,
          6.157840187964366,
          6.171611448851939,
          6.185382709739509,
          6.199153970627082,
          6.212925231514651,
          6.226696492402224,
          6.240467753289794,
          6.254239014177367,
          6.2680102750649365,
          6.2817815359525095,
          6.295552796840079,
          6.309324057727652,
          6.323095318615222,
          6.336866579502795,
          6.350637840390364,
          6.364409101277937,
          6.378180362165507,
          6.39195162305308,
          6.4057228839406495,
          6.419494144828223,
          6.433265405715794,
          6.447036666603365,
          6.4608079274909365,
          6.474579188378508,
          6.488350449266079,
          6.50212171015365,
          6.515892971041222,
          6.529664231928793,
          6.543435492816364,
          6.557206753703936,
          6.570978014591507,
          6.584749275479078,
          6.5985205363666495,
          6.612291797254221,
          6.626063058141792,
          6.639834319029363,
          6.653605579916935,
          6.667376840804506,
          6.681148101692077,
          6.694919362579649,
          6.70869062346722,
          6.722461884354791,
          6.7362331452423625,
          6.750004406129934,
          6.763775667017505,
          6.777546927905076,
          6.791318188792648,
          6.805089449680219,
          6.81886071056779,
          6.832631971455362,
          6.846403232342933,
          6.860174493230504,
          6.8739457541180755,
          6.887717015005647,
          6.901488275893218,
          6.915259536780789,
          6.929030797668361,
          6.942802058555934,
          6.956573319443503,
          6.970344580331076,
          6.984115841218646,
          6.997887102106219,
          7.0116583629937885,
          7.025429623881362,
          7.039200884768931,
          7.052972145656504,
          7.066743406544074,
          7.080514667431647,
          7.094285928319216,
          7.108057189206789,
          7.121828450094359,
          7.135599710981932,
          7.149370971869503,
          7.163142232757075,
          7.176913493644646,
          7.190684754532217,
          7.2044560154197885,
          7.21822727630736,
          7.231998537194931,
          7.245769798082502,
          7.259541058970074,
          7.273312319857645,
          7.287083580745216,
          7.300854841632788,
          7.314626102520359,
          7.32839736340793,
          7.3421686242955015,
          7.355939885183073,
          7.369711146070644,
          7.3834824069582154,
          7.397253667845787,
          7.411024928733358,
          7.424796189620929,
          7.438567450508501,
          7.452338711396072,
          7.466109972283643,
          7.479881233171215,
          7.493652494058786,
          7.507423754946357,
          7.5211950158339285,
          7.5349662767215,
          7.548737537609071,
          7.562508798496642,
          7.576280059384214,
          7.590051320271785,
          7.603822581159356,
          7.617593842046928,
          7.631365102934499,
          7.64513636382207,
          7.6589076247096415,
          7.672678885597213,
          7.686450146484784,
          7.700221407372355,
          7.713992668259927,
          7.727763929147498,
          7.741535190035069,
          7.755306450922641,
          7.769077711810214,
          7.782848972697783,
          7.796620233585356,
          7.810391494472926,
          7.824162755360499,
          7.83793401624807,
          7.8517052771356415,
          7.865476538023213,
          7.879247798910784,
          7.893019059798355,
          7.906790320685927,
          7.920561581573498,
          7.934332842461069,
          7.948104103348641,
          7.961875364236212,
          7.975646625123783,
          7.9894178860113545,
          8.003189146898926,
          8.016960407786497,
          8.030731668674068,
          8.04450292956164,
          8.058274190449211,
          8.072045451336782,
          8.085816712224354,
          8.099587973111925,
          8.113359233999496,
          8.127130494887068,
          8.140901755774639,
          8.15467301666221,
          8.168444277549781,
          8.182215538437353,
          8.195986799324924,
          8.209758060212495,
          8.223529321100067,
          8.237300581987638,
          8.25107184287521,
          8.26484310376278,
          8.278614364650352,
          8.292385625537923,
          8.306156886425494,
          8.319928147313066,
          8.333699408200637,
          8.347470669088208,
          8.36124192997578
         ],
         "xaxis": "x",
         "y": [
          0.002180582265371974,
          0.0022281403696888537,
          0.0022733633350503508,
          0.002316225061443019,
          0.002356722684805514,
          0.002394876493458207,
          0.002430729707751516,
          0.00246434815860171,
          0.0024958199016317352,
          0.0025252548032293726,
          0.002552784132997705,
          0.0025785601938808234,
          0.002602756016831904,
          0.0026255651414299865,
          0.0026472014975656524,
          0.0026678993964561453,
          0.0026879136320905822,
          0.0027075196870293117,
          0.002727014029570726,
          0.0027467144829229884,
          0.0027669606414229176,
          0.002788114304240873,
          0.002810559893568651,
          0.002834704822127746,
          0.0028609797740261895,
          0.0028898388635469683,
          0.002921759638329419,
          0.0029572428965157138,
          0.002996812291640154,
          0.0030410137041637173,
          0.0030904143643937713,
          0.0031456017178527773,
          0.0032071820307330487,
          0.003275778739661686,
          0.0033520305563743682,
          0.0034365893438539044,
          0.0035301177858510033,
          0.003633286876328206,
          0.0037467732591490712,
          0.003871256451211422,
          0.004007415984176138,
          0.004155928500992053,
          0.004317464843622023,
          0.004492687167823897,
          0.004682246119651198,
          0.004886778106642612,
          0.005106902694613403,
          0.005343220158687304,
          0.005596309214854398,
          0.005866724956028804,
          0.00615499701441246,
          0.006461627970019043,
          0.006787092023518591,
          0.007131833950133805,
          0.007496268350128174,
          0.007880779210411604,
          0.008285719790859616,
          0.008711412847979836,
          0.009158151207425387,
          0.009626198695399098,
          0.010115791437057105,
          0.010627139527456447,
          0.011160429077257575,
          0.011715824631177863,
          0.01229347195200649,
          0.01289350115679682,
          0.013516030184647166,
          0.014161168567320501,
          0.01482902146494928,
          0.015519693919389154,
          0.01623329526765192,
          0.01696994364754057,
          0.017729770517456337,
          0.018512925102720672,
          0.01931957867204859,
          0.02014992854045088,
          0.02100420168924365,
          0.021882657890431187,
          0.022785592221871005,
          0.023713336861679517,
          0.024666262055565737,
          0.02564477615938778,
          0.026649324671318978,
          0.02768038818359037,
          0.02873847920272787,
          0.02982413780928963,
          0.030937926152977867,
          0.032080421806165035,
          0.033252210027748356,
          0.034453875019129054,
          0.03568599028422525,
          0.036949108234917344,
          0.038243749211301026,
          0.039570390111682396,
          0.04092945284949137,
          0.042321292872368535,
          0.04374618799181818,
          0.045204327779338964,
          0.046695803786308006,
          0.04822060083970614,
          0.04977858965382269,
          0.05136952097933961,
          0.052993021485846246,
          0.054648591542243705,
          0.05633560502225264,
          0.05805331122009146,
          0.05980083891530515,
          0.061577202576768506,
          0.06338131064530701,
          0.065211975783483,
          0.06706792693125287,
          0.06894782295883711,
          0.0708502676646123,
          0.07277382582749936,
          0.0747170399913756,
          0.07667844763460167,
          0.07865659836175613,
          0.0806500707478009,
          0.08265748846769652,
          0.0846775353571428,
          0.08670896907263281,
          0.08875063305104763,
          0.09080146650999311,
          0.0928605122791201,
          0.09492692230860686,
          0.09699996076246732,
          0.09907900466973378,
          0.10116354217408707,
          0.10325316849023078,
          0.10534757974121857,
          0.10744656491298543,
          0.10954999621851132,
          0.11165781821239451,
          0.11377003603538317,
          0.11588670319605757,
          0.11800790931206684,
          0.12013376823521847,
          0.12226440697269737,
          0.12439995579067611,
          0.12654053984687166,
          0.12868627264602672,
          0.13083725154810696,
          0.132993555484936,
          0.13515524495915612,
          0.1373223643123442,
          0.13949494615957633,
          0.14167301779879504,
          0.14385660931806427,
          0.14604576304542016,
          0.14824054391753322,
          0.15044105028770052,
          0.15264742465324516,
          0.1548598637594071,
          0.1570786275327297,
          0.1593040463128577,
          0.1615365258877914,
          0.16377654989362048,
          0.1660246792144485,
          0.16828154810975823,
          0.170547856902362,
          0.17282436117713768,
          0.17511185756539221,
          0.177411166317743,
          0.17972311099563415,
          0.182048495733394,
          0.18438808063478862,
          0.18674255596593878,
          0.18911251588641784,
          0.19149843251889107,
          0.19390063119201842,
          0.19631926769950606,
          0.1987543083989841,
          0.20120551392754327,
          0.20367242723695297,
          0.2061543665524191,
          0.20865042373673634,
          0.21115946840017571,
          0.2136801579394907,
          0.21621095352165798,
          0.21875014185453456,
          0.2212958624127855,
          0.22384613961877722,
          0.2263989193198597,
          0.22895210876073896,
          0.23150361912701237,
          0.2340514096373986,
          0.23659353209094738,
          0.23912817473398845,
          0.241653704301115,
          0.24416870510561667,
          0.2466720141068912,
          0.2491627509640107,
          0.2516403421933937,
          0.25410453868122596,
          0.2565554259540643,
          0.2589934267794808,
          0.2614192958479292,
          0.2638341064722095,
          0.2662392294269584,
          0.2686363042326002,
          0.27102720336149877,
          0.2734139900044999,
          0.2757988701799463,
          0.27818414009150233,
          0.28057212974352963,
          0.2829651439014697,
          0.28536540153901896,
          0.2877749749434782,
          0.2901957296560531,
          0.29262926640603865,
          0.295076866158321,
          0.29753943933432964,
          0.30001748018965085,
          0.30251102723937007,
          0.3050196305172096,
          0.3075423263391238,
          0.31007762011846046,
          0.3126234776502508,
          0.3151773251485962,
          0.31773605818514616,
          0.3202960595398624,
          0.32285322583887444,
          0.3254030027193876,
          0.3279404281293865,
          0.330460183241117,
          0.3329566503331269,
          0.3354239768769383,
          0.3378561449523745,
          0.3402470450115284,
          0.3425905529167468,
          0.3448806090945697,
          0.34711129857710876,
          0.3492769306469471,
          0.3513721167632733,
          0.35339184542786284,
          0.3553315526516158,
          0.35718718670747013,
          0.35895526590531546,
          0.360632928199931,
          0.36221797154481455,
          0.36370888403285306,
          0.3651048630185111,
          0.366405822594005,
          0.36761238899166804,
          0.36872588370306053,
          0.36974829433876544,
          0.3706822334963781,
          0.37153088615294844,
          0.3722979463461812,
          0.3729875441500705,
          0.3736041641789796,
          0.3741525570632926,
          0.3746376455234949,
          0.3750644268222655,
          0.37543787349085117,
          0.3757628343022139,
          0.37604393749606535,
          0.37628549824749763,
          0.37649143231059884,
          0.3766651776613598,
          0.3768096258119693,
          0.37692706427404815,
          0.3770191314157093,
          0.37708678469169266,
          0.37713028293367895,
          0.3771491830762238,
          0.3771423513705339,
          0.3771079888116715,
          0.37704367018319124,
          0.3769463958150893,
          0.3768126548642368,
          0.3766384986687889,
          0.37641962250603633,
          0.376151453902548,
          0.3758292455108384,
          0.3754481704813796,
          0.37500341822456323,
          0.3744902884745225,
          0.3739042816347097,
          0.37324118350126295,
          0.37249714262097894,
          0.3716687387411424,
          0.3707530410427655,
          0.3697476551102867,
          0.36865075787218504,
          0.36746112004059717,
          0.36617811587622273,
          0.3648017203997347,
          0.36333249445536697,
          0.36177155829937896,
          0.3601205546296486,
          0.35838160218738135,
          0.3565572412435832,
          0.35465037242816033,
          0.35266419046626524,
          0.35060211445345824,
          0.34846771632861534,
          0.3462646491920494,
          0.34399657706797715,
          0.34166710762794494,
          0.3392797292783749,
          0.33683775387502146,
          0.33434426616401414,
          0.33180208086795954,
          0.32921370814089973,
          0.3265813279125617,
          0.32390677343485574,
          0.3211915241364654,
          0.3184367076887703,
          0.3156431109921588,
          0.3128111996095125,
          0.30994114500635744,
          0.3070328588076664,
          0.30408603315172594,
          0.3011001861138475,
          0.29807471108827105,
          0.2950089289565972,
          0.2919021418358675,
          0.2887536871893826,
          0.2855629910981424,
          0.2823296195298446,
          0.27905332650468,
          0.2757340981412163,
          0.27237219166976046,
          0.2689681686224552,
          0.2655229215465074,
          0.2620376937365028,
          0.2585140916405532,
          0.2549540897596963,
          0.2513600280269298,
          0.24773460181784684,
          0.244080844905373,
          0.2404021058228738,
          0.23670201823951498,
          0.23298446607583911,
          0.22925354419327135,
          0.2255135155760948,
          0.22176876598640513,
          0.21802375711016395,
          0.21428297922500947,
          0.21055090440763574,
          0.20683194126097726,
          0.20313039208015637,
          0.1994504132930767,
          0.19579597990894823,
          0.19217085458894018,
          0.18857856182078417,
          0.18502236753735318,
          0.1815052643717316,
          0.17802996259240544,
          0.17459888661566708,
          0.17121417685242735,
          0.16787769651675,
          0.16459104290724413,
          0.16135556257266614,
          0.15817236969234685,
          0.15504236694205323,
          0.15196626807804742,
          0.1489446214568161,
          0.14597783371537112,
          0.1430661928662388,
          0.14020989011116777,
          0.13740903974613375,
          0.13466369661514388,
          0.131973870668798,
          0.12933953829241632,
          0.12676065018444904,
          0.12423713568529869,
          0.12176890357612011,
          0.11935583948311795,
          0.11699780013206142,
          0.11469460479714468,
          0.11244602437525654,
          0.11025176858891252,
          0.10811147187676029,
          0.10602467856840926,
          0.10399082795962412,
          0.10200923990449669,
          0.10007910152340758,
          0.09819945559033166,
          0.09636919111167955,
          0.09458703654323335,
          0.09285155601399972,
          0.09116114883844403,
          0.08951405250430004,
          0.08790834922476884,
          0.08634197604433373,
          0.08481273838942112,
          0.0833183268614626,
          0.08185633698304945,
          0.08042429153005536,
          0.0790196650157532,
          0.07763990983860096,
          0.076282483564653,
          0.07494487678919802,
          0.07362464101049973,
          0.07231941595131387,
          0.07102695578064455,
          0.06974515371808278,
          0.06847206454487108,
          0.06720592459801487,
          0.06594516888470417,
          0.06468844502206318,
          0.06343462377996821,
          0.06218280608028048,
          0.06093232638245237,
          0.05968275246111946,
          0.05843388165429044,
          0.057185733729413164,
          0.05593854057760182,
          0.05469273300237524,
          0.05344892491753085,
          0.05220789530845267,
          0.05097056834185707,
          0.04973799203042899,
          0.04851131587103756,
          0.04729176787845625,
          0.04608063143113798,
          0.04487922233220845,
          0.04368886646812534,
          0.04251087842023718,
          0.04134654135167389,
          0.040197088454546774,
          0.039063686201352046,
          0.03794741960072417,
          0.03684927961229321,
          0.03577015282929294,
          0.034710813491670565,
          0.033671917847611435,
          0.03265400083838546,
          0.03165747504095793,
          0.030682631765494666,
          0.029729644171255284,
          0.028798572234849135,
          0.027889369379752303,
          0.027001890555610277,
          0.026135901540315965,
          0.025291089227222768,
          0.024467072654096474,
          0.023663414529406727,
          0.022879633015118396,
          0.022115213532984897,
          0.021369620373139425,
          0.02064230789911105,
          0.019932731161819848,
          0.01924035575612157,
          0.018564666776553083,
          0.017905176753526937,
          0.017261432476768927,
          0.01663302063874239,
          0.016019572256601253,
          0.01542076585635864,
          0.014836329426963099,
          0.014266041174416481,
          0.013709729126574468,
          0.013167269657536352,
          0.012638585016316057,
          0.012123639957633995,
          0.011622437583082281,
          0.011135014508588446,
          0.010661435479071458,
          0.010201787553587824,
          0.00975617398424833,
          0.009324707909992722,
          0.008907505982170707,
          0.008504682033086155,
          0.008116340891498382,
          0.007742572440836483,
          0.007383446006849626,
          0.007039005151853954,
          0.006709262942880062,
          0.0063941977510820255,
          0.006093749629904338,
          0.005807817309849198,
          0.005536255838332995,
          0.005278874884124911,
          0.005035437717245034,
          0.004805660866963508,
          0.004589214452665192,
          0.0043857231747933545,
          0.004194767945825687,
          0.004015888134234607,
          0.003848584387618825,
          0.0036923219946615776,
          0.003546534739286365,
          0.003410629194384844,
          0.003283989396845907,
          0.0031659818404072616,
          0.0030559607181881317,
          0.00295327334276658,
          0.002857265668470693,
          0.002767287838293963,
          0.0026826996766537064,
          0.0026028760492032947,
          0.002527212012182929,
          0.0024551276764171433,
          0.002386072715077056,
          0.0023195304497161335,
          0.002255021455815047,
          0.0021921066370449048
         ],
         "yaxis": "y"
        },
        {
         "legendgroup": "Normal1",
         "marker": {
          "color": "rgb(31, 119, 180)",
          "symbol": "line-ns-open"
         },
         "mode": "markers",
         "name": "Normal1",
         "showlegend": false,
         "type": "scatter",
         "x": [
          0.07116188939789655,
          1.6376407822926446,
          0.11149769394295589,
          -0.7744601943515079,
          0.7908182279744979,
          -0.6327727390149178,
          -0.7317906993513257,
          0.8450446585787519,
          1.7259225938527027,
          1.33201556335329,
          -1.8620805794566235,
          -0.49738021281635025,
          1.0386675029663972,
          -1.0316581865696406,
          0.07485763441105946,
          -1.1106956026540518,
          -1.2343980958465206,
          0.1805581323841363,
          -1.485486748564627,
          0.4233263097058015,
          0.08068782978724577,
          0.1810060198572623,
          0.9293878235730602,
          -0.4634888692390979,
          -0.09933451472790267,
          1.025103621430033,
          -0.3988111101273812,
          2.6083029311347907,
          -0.33733212224071524,
          -0.2778282533860194,
          -0.4620024212631262,
          0.14708046837146785,
          -1.045927267535257,
          1.9596953389130818,
          -1.4740273646363222,
          0.46850172602209644,
          -0.020933250127777598,
          -0.8385811335178933,
          -0.7474342799438696,
          -1.714606773248128,
          0.2984235808315648,
          -0.5218721060475094,
          -0.04117189953259966,
          1.1833243802926057,
          -1.1159529087931566,
          -0.046179352236308785,
          0.5889190479178211,
          1.4199673102448491,
          -0.21514356470161786,
          1.5738346959814276,
          -1.4387007185412943,
          1.2426149295695976,
          0.024695911729292763,
          0.6158265686071343,
          0.3253455634358996,
          -1.4164289036191262,
          -3.126956362388291,
          -0.43122454785784664,
          1.1236658942614872,
          0.6918656219429973,
          1.5471801206057958,
          1.6706892396412314,
          -1.7238642986126425,
          1.8005974193465895,
          1.0157060159401776,
          -1.0241967618309706,
          0.5842326180132257,
          0.8100672218099669,
          0.5806998734462098,
          0.1274225083939295,
          -1.3351115038086072,
          1.3754245664552323,
          0.6075641778212273,
          -0.35286955087865013,
          0.3404721394015016,
          -0.6055086206704079,
          -0.4111364434078975,
          -0.7366396166985536,
          -0.6357527247260657,
          -0.5795250086440431,
          0.3077239516640436,
          -0.5730979011442727,
          -0.9728336810330082,
          -0.5371861836318187,
          -0.5749285103864668,
          0.14688672886017864,
          0.2601630123433721,
          -0.03969515800220438,
          -0.029846728344262736,
          -0.7387106641513517,
          -0.310390138095793,
          1.3976022658534515,
          0.6356793957662491,
          0.013771618036158397,
          0.2189744300880471,
          1.3423627978699029,
          0.6393060399833884,
          0.371861944073106,
          -1.8404080842773436,
          -2.5388831350331693,
          0.148620317162581,
          -0.9809736768441607,
          1.2778880085948923,
          -0.3234026085919448,
          -0.001999238371677739,
          -0.1485169482877409,
          0.7937879456957209,
          -2.247670948415281,
          0.03371708504399714,
          -1.128194581362378,
          0.8461076262219871,
          1.231928281042966,
          0.29067104786254866,
          -0.4534657658567434,
          0.014492710902113447,
          1.2567530175550363,
          0.2726833681840986,
          -0.44802608551123013,
          -0.14053922609301317,
          0.801604523570942,
          1.9998044885030704,
          -0.9866474984234338,
          -0.6703121669173369,
          1.4159854156839213,
          -0.18089980264050584,
          -1.4265725420190625,
          0.2166915511308133,
          1.1660730938008583,
          0.30373517075922707,
          -1.9337222090246997,
          0.17327908688996688,
          0.6857978684455869,
          -1.1773254198280025,
          1.5722650538832819,
          -0.0017324452966156695,
          -0.511857244112444,
          -0.3581549576609879,
          0.21706287399481808,
          -0.5339158014255354,
          -0.2238323543638074,
          -0.24736018148387537,
          2.093990635116714,
          1.7927299429394024,
          -1.1192246328385445,
          -1.8710968890075712,
          -0.18753910679368746,
          0.6679757193755367,
          -0.35073081549069635,
          -0.5361374261482862,
          -1.0337916507922134,
          0.7043444600510451,
          -1.0224229747455387,
          -0.09065420574998596,
          1.1087158236628392,
          0.5642383439624935,
          -0.3893271574437897,
          -1.8162444039341525,
          -0.8560915429269095,
          -0.451285909793764,
          -0.17126659656035959,
          0.5376559962955298,
          1.8517687038795418,
          0.8814976588289652,
          1.3981448362327031,
          0.5597587532631234,
          0.5679088470193275,
          0.6075459192714849,
          -0.11041431945674123,
          0.7858075079826107,
          0.09758781079594177,
          0.9861137413878706,
          -0.3144508429889564,
          1.381220400230322,
          -0.6076650071714764,
          -0.36962624583657605,
          0.12307781514998764,
          -0.01316596244090473,
          -0.027696166699041857,
          -0.5125225699577539,
          -0.9391528408727751,
          -0.48766677122154073,
          0.39365331423098643,
          0.47923177885695184,
          1.5158212187053062,
          1.9307076499649662,
          0.4940990307780601,
          1.1145306788114222,
          1.0049671903241837,
          0.3220058606640596,
          -0.3312628496887742,
          0.013352922484070235,
          -0.44956400282832343,
          -1.4295551326740263,
          -0.9063553408287284,
          0.07533076827761734,
          -0.032495123208820066,
          3.153917033788675,
          1.4217159303340507,
          -0.7901726016946001,
          -0.3790068967109559,
          -0.6159467241443072,
          -0.21982680075454566,
          -0.33800286174241406,
          -2.140597092477301,
          -0.7140841731871983,
          0.5416228993077293,
          0.4450121547025889,
          0.7745641242015162,
          0.4284020840409291,
          -0.03289083442928025,
          0.5707624964576016,
          1.4409227734879757,
          0.05886340158056999,
          -0.37209424992411694,
          0.09322338075473077,
          0.6122514634902503,
          -0.7421949893589056,
          0.5760269206650527,
          0.5998721267902927,
          -0.7352047328150334,
          -1.332119257569984,
          0.6779573119256874,
          -0.11307493767020854,
          -1.058906187093549,
          1.6629435818723979,
          0.5150344198477214,
          1.4487055293227793,
          -1.0290150933053348,
          -0.024000715726841006,
          -0.001803784319585458,
          1.3750598022476472,
          1.6250821927563435,
          -0.8089826399040875,
          -1.038108907358138,
          -1.2218717761956708,
          0.7370211347312909,
          0.1234914208701732,
          0.9697337756100446,
          0.39946585958417535,
          -0.46237981931606803,
          -0.7863361736444827,
          0.24043264455761915,
          0.9882456385430544,
          0.9454814397050438,
          -1.1801272748714169,
          0.07535476997291296,
          0.5495446277905207,
          -1.5214354384482434,
          -1.5401243854520423,
          0.2932355828316636,
          0.8666777166336914,
          0.5045260011520428,
          -1.9173707502825281,
          -0.1899522260915361,
          -0.20289162687723972,
          0.9380137194205066,
          0.8003664542826882,
          0.1870413342617679,
          0.1900196018728904,
          1.76413580008443,
          -0.9081563057117764,
          0.1386752631972432,
          0.37629412860723954,
          -0.9401425774093111,
          -0.2831928703531319,
          0.3849960911661135,
          0.41280361199237325,
          -1.034550001015352,
          -1.448969370593633,
          -0.012186547803107422,
          1.7597919974250222,
          0.12924904356497885,
          1.5980526060400888,
          -0.5108047797176364,
          -0.2065258892529319,
          -1.4054319997064895,
          -0.941680911381004,
          0.06810134783733167,
          -0.5524583162213996,
          1.0140071171714997,
          -0.09222306121703423,
          1.4659987107417387,
          -1.7650294440331686,
          1.9848296712155509,
          -0.36324155068485353,
          0.46941688005204,
          1.0303059230558378,
          0.30470083138692583,
          0.38816345945989184,
          0.1473833533886175,
          -0.26502816097186277,
          -1.65357499767075,
          0.07424933976898265,
          -1.7080942601784477,
          -0.45433692410207327,
          -0.3204362605256656,
          -1.1186636370928773,
          0.7603872944479712,
          -1.3440049154320532,
          -1.527964110545372,
          0.19578749887958655,
          0.9122360543475203,
          -0.2653930061500246,
          0.2125795279820893,
          1.7947272274445425,
          -0.6418523378323144,
          -1.449443963532282,
          -0.4517547359823654,
          0.6120691873007772,
          1.2860867252645336,
          2.5903752884102613,
          -0.19436361259928336,
          -0.9914591564168231,
          0.3158207086430868,
          0.6333463919346841,
          0.5544808995822382,
          -0.6815517374374271,
          -0.9871009421851162,
          0.35349244076424463,
          -0.6237492872553995,
          -0.3665713368304888,
          -0.39784775511667475,
          -2.123283088517256,
          -0.6313099383743531,
          -0.22843271083011316,
          0.987697086085439,
          0.4284808315774353,
          0.322875550662486,
          -0.6374117300670119,
          -0.13875857231962715,
          1.0074123020880663,
          -1.7953203719365123,
          -0.9522053039943987,
          -0.24467098281045604,
          -0.8067111306454176,
          -0.07281128047376602,
          0.1572621049467704,
          0.7473357938069769,
          0.29875703156844663,
          -0.3029026274477181,
          -1.2355210763401765,
          -0.9007369896965893,
          0.29548427166368707,
          -0.15686829241400446,
          -0.13957489302924658,
          0.9897463962192623,
          0.8220812860686966,
          -0.75385065705338,
          -0.14067985780439107,
          -0.5108062670599303,
          -0.048189917767410835,
          -0.7332742871322887,
          0.6264191587342538,
          -0.9849314795093447,
          -1.1545679298721625,
          -0.23256773601996683,
          -1.7848175949511467,
          1.5320781670147712,
          1.0469293034645684,
          0.06781174071195854,
          0.30053627988763415,
          0.6178136677449106,
          -0.5416154731292088,
          0.7139119388449113,
          -0.8538595576081036,
          0.512692277913563,
          -1.7379001677829664,
          -0.321661573266974,
          1.5854104362126116,
          0.5282552727443536,
          1.3652309522345198,
          -1.4964208569063122,
          2.7724631304551184,
          -0.44654161387995833,
          1.2550454787898908,
          -0.8151865674129292,
          0.8893037541850067,
          -0.9908832203922174,
          2.006857178568256,
          0.773915606022653,
          0.6404438636332028,
          0.5531495948838147,
          -0.038117997975113005,
          -1.037809721599208,
          -0.6922070784369385,
          -1.1104074881073422,
          0.6249924380832977,
          0.14703597026528742,
          -2.3174778048302596,
          0.852784713318336,
          -0.9568340060903798,
          -1.0671506340280665,
          0.164690522016598,
          -0.32806064951495045,
          -0.03530592081935535,
          -1.4179388216470579,
          1.0675107576051759,
          -1.0627820768302634,
          1.3820753673848956,
          -0.7114317672178184,
          -2.1075822747974557,
          1.378217065654871,
          0.041991422737361325,
          -1.3813889864416333,
          -0.8437451618202128,
          -0.6111105454013839,
          -0.13292031751683417,
          -0.624685120263048,
          0.21184833802953565,
          -0.6608278884068689,
          -1.530161339108868,
          -0.5267709035253494,
          0.652587425626002,
          0.7659866314857703,
          -0.07821794142858873,
          -0.11319086622275149,
          -1.3917972835456032,
          -0.8576291638109376,
          -0.2833783258113544,
          2.3474886396073416,
          -0.10875617442225038,
          -0.3938238740375403,
          1.3594737602812885,
          -1.4920724842689366,
          -0.1352692467955088,
          -1.192261345007357,
          -0.9757376535443273,
          2.0842359031709266,
          0.46039759960760146,
          -0.6258542904880386,
          -0.4194953517089207,
          -1.01601081173342,
          -0.3429688153386799,
          0.21172642873402236,
          0.6680310120671028,
          0.6721666677172798,
          0.20097811079281572,
          -0.04766261753143084,
          -0.33603953766824546,
          0.24069921573137523,
          -0.03144407008739032,
          -1.5875350680449423,
          -1.4224206277941132,
          0.2837604200614254,
          1.2317969233003672,
          1.5807253497146248,
          -3.008741080967514,
          -1.5057419813727668,
          0.07375027058304587,
          -0.5315390489493321,
          -2.475986481755547,
          1.0797714690117732,
          0.9163131407026535,
          -0.516030392269394,
          -0.271942492333011,
          -1.5073826055395108,
          -0.6816242920311483,
          -0.10454440080306286,
          -0.37309494833621326,
          -1.2693090676868741,
          1.7131363768970669,
          -0.6137749166902509,
          -1.423887373145139,
          0.6163350405509452,
          -0.9737449452760988,
          -0.8737746282647182,
          1.0844680585077764,
          0.010354160688167599,
          0.47577728674825637,
          0.7046326273539778,
          0.35465184853972015,
          -1.165714142566011,
          0.1802528527245087,
          0.7019122177908357,
          -0.4317344212736559,
          -0.47255434414230035,
          0.09244686912389036,
          0.36560890468242296,
          0.5852013509940025,
          -0.8051598301378987,
          -1.0430583283290762,
          0.44449698443771096,
          -0.6667049384351623,
          -1.6045298052104076,
          -1.5830436568260484,
          0.625355592497064,
          -1.2144330662500749,
          -0.10514169271256765,
          -0.8447941831617052,
          -0.6450055371829053,
          1.6490902938885477,
          -1.300238088826565,
          0.30947585859732235,
          -1.0399109498105907,
          0.8075593231100466,
          0.6367997349658823,
          -0.5988955420766651,
          0.0793445617702995,
          0.622733205504039,
          0.15954306104727267,
          0.742367034366451,
          0.09227978963862134,
          -0.0929300245055159,
          -0.42831531274399814,
          -1.1509686540752009,
          0.2679060893360087,
          0.7382410722538539,
          -1.2139313019440667,
          -0.1557977063614401,
          0.2118704482410244,
          -0.7365638565924049,
          1.8163666891616077,
          -0.400676628197468,
          -0.5096568028616041,
          0.2744216423239731,
          -0.5106485948030682,
          -0.6716995415626095,
          2.5149095597965405,
          -1.237580860141264,
          0.8302909110244242,
          1.8205658696027174,
          -0.4620712859564048,
          -0.6000952283340498,
          1.2615724381264743,
          -0.06848054774323016,
          0.29947728606150453,
          -1.5655838742564174,
          -1.6527074792918373,
          0.1357919241696525,
          -0.9003430681766209,
          -0.6946705381285956,
          -0.4757549106305475,
          1.5420787371319102,
          -0.09693101702924806,
          0.320548600228111,
          -0.22069210039243897,
          -1.1976130571765777,
          1.6960963958006392,
          1.3894610744279101,
          -2.3887437060579435,
          0.46985047486588183,
          -0.43271192902023736,
          0.04644468473571467,
          -0.09223918299404,
          1.5184396097060922,
          1.041185204422807,
          -1.061186822890998,
          1.7954647074248662,
          0.666741445596782,
          -0.07624959413903964,
          -0.4808187867363758,
          -1.0010439446024113,
          0.3424643179120155,
          -0.9482781867428162,
          0.3148510829244093,
          -0.05158200113960113,
          1.4837310761989917,
          -1.9140580904309636,
          -1.047969285474634,
          0.8475023577672203,
          -0.7435500261207859,
          -1.2292501180571958,
          0.03280956746132678,
          -0.661462137016788,
          -0.5983543207190374,
          -0.42033964433755716,
          -1.4510621203218452,
          1.6509552193859414,
          0.2937698673414923,
          -0.5091279068450472,
          -0.6558537577637571,
          0.15753322776495973,
          0.9994926116776766,
          0.2507202879653379,
          -0.6794704213000015,
          0.6477355560044683,
          -0.03545956269364154,
          -0.3822182822789506,
          -1.08734850306624,
          0.713078980437974,
          -0.7095046955040821,
          -0.18836040229443624,
          -0.4088883711826637,
          -0.13819057079566088,
          0.17965007997707155,
          0.11003635471822489,
          1.4449236020635143,
          -0.4310900407481433,
          -1.1058646822471472,
          0.5772057408817335,
          0.9358411147130103,
          -0.8918518082388085,
          1.2045721320952225,
          0.1329430532253595,
          -1.254194541478417,
          -0.8476125030560595,
          0.6334677879907593,
          -0.34495768734725557,
          0.38367773184498055,
          0.10666450090366653,
          -1.1358858837637207,
          0.02059622250224272,
          0.14690779715289784,
          2.0671305766849994,
          2.184643418368056,
          1.0991360364560503,
          0.25431337518485675,
          0.46656477046501516,
          -1.8798371592818581,
          -0.9803277707620922,
          0.10023145428242171,
          -0.020101481552226894,
          1.163435965292992,
          -1.0872043434420473,
          -1.9061329757344014,
          0.7849723271225835,
          0.3250160673653486,
          -0.7816484455271417,
          0.8248592950221295,
          -1.7289762878967054,
          -0.01811613064629068,
          0.09264258892704154,
          0.35527843199710885,
          -1.4449941975613088,
          -2.217917633967248,
          0.8404224287123925,
          -0.741036689483811,
          0.7563268795657533,
          -0.16822454135915174,
          -1.1742092574928868,
          -1.0672164712192693,
          0.46445654121210367,
          -0.6249615671537043,
          0.7888707628912505,
          1.4858989372906828,
          -0.2179366125426141,
          0.29378354277086643,
          0.7474114076420391,
          0.0014292553575678511,
          -1.569398334482807,
          -0.8560037452627914,
          0.16676169237298077,
          1.2056308590619953,
          -2.1319394520241515,
          0.21541337339092073,
          -0.27057160553052145,
          0.8047636160264,
          -0.26403630168181125,
          -1.2610562800276368,
          0.12501585919289718,
          -1.388085553400817,
          -0.19400737850163613,
          -0.8870326584223227,
          0.5020940279282334,
          0.22318025332466404,
          0.010963243553134836,
          -0.1338253025066979,
          1.7754825860606287,
          -0.9716359286823183,
          0.5113072238118525,
          -1.5400976401402398,
          2.2445711950631777,
          -0.05390918041492758,
          1.3077497713986364,
          -0.22872382632036212,
          0.4072177094657691,
          -0.09941020500949851,
          0.268743453120594,
          0.308725965496409,
          1.7743790638113701,
          1.1540493609182203,
          0.7279057965175273,
          2.326522676658959,
          0.5699091683920583,
          -0.7081563454557845,
          0.9367310141409736,
          -1.1143131281358645,
          1.3658149413201837,
          1.108186120852711,
          0.23276738920607778,
          0.41765328998728,
          0.6323601389391369,
          0.13603721330881371,
          0.6743548790539385,
          2.8220848442058113,
          -1.7698738048595573,
          -0.8074478549237072,
          1.695828021813878,
          -1.154277180011523,
          -0.09745812609155005,
          0.7288594748679664,
          -0.3876037298121002,
          0.49619989557051225,
          -0.458049884327497,
          -1.2066789082077085,
          -1.1896549471527456,
          -2.0438275414974334,
          0.2671610463181977,
          0.3002061333071009,
          -0.17728291963711487,
          0.25566170903887836,
          -1.0512243771804555,
          -0.54684918994331,
          0.13657499422688132,
          1.4455580637904977,
          1.4250310111998128,
          0.19388214701346995,
          0.24534664432415482,
          0.955563460275174,
          0.21987281619094587,
          -0.29363327819291235,
          -1.7273486032704668,
          -0.14112188356454894,
          -0.18313675325241005,
          -1.069454007230961,
          -0.5776709621560411,
          1.9303008677589846,
          -0.9506017214627548,
          0.15475832354855262,
          -0.36431058366813657,
          0.5490124153255237,
          -2.5023885017427414,
          -0.6957928659807571,
          -1.0738347821816026,
          -0.7326299044471005,
          0.020738837512201944,
          -0.029687841986679217,
          0.01787889072553679,
          0.16543721238898448,
          1.172830820552014,
          0.5677673185382669,
          0.06399032059642314,
          0.8278872173149031,
          -1.0696173660894543,
          0.9831833875470432,
          -1.2334494221464958,
          1.2532603965654634,
          0.24544514297101788,
          1.9977490944486689,
          -0.9235833331467238,
          0.7155552955235926,
          0.027642208211387114,
          0.9407861528472236,
          0.7042222420484365,
          -0.38515879260481856,
          0.9473291644005378,
          -0.5025394053665154,
          -0.5815075087044074,
          -0.06368269383184803,
          -0.8289237634305366,
          -0.35718133660187673,
          -1.0275956333270382,
          0.6905990026554906,
          -0.5145214780072657,
          -0.17782501580623003,
          -1.9417015848193777,
          0.16903016512634275,
          0.4451322276079188,
          1.4764923185347618,
          1.0462420785186506,
          -0.7731993204843557,
          1.828571785601023,
          1.121566967749087,
          -0.1302613748321495,
          1.6820394703793187,
          0.17351227556558244,
          -0.847037092859372,
          -1.527963910959224,
          -0.8843288441491497,
          0.22631613824100658,
          0.5760690852992615,
          -0.4677332289565085,
          -0.3869367250120247,
          -0.025951832900409554,
          1.1134981077663368,
          -1.1379556194134801,
          1.8309261464289637,
          -1.7836657686414585,
          2.3480977262512495,
          -0.49869144869639337,
          -2.068472787609376,
          1.2006909379616233,
          -1.0069329421045938,
          -0.07326401946446111,
          -1.1164748566275298,
          -0.8317062405780764,
          0.6656397572339715,
          0.550931437768367,
          -0.7708261555795526,
          0.3725514472117102,
          0.11251995872493992,
          0.13436087256739426,
          -0.23288323544088982,
          -1.1344394084847742,
          1.497602483098426,
          0.5720801124765903,
          -0.381981873208296,
          1.7726828817198887,
          0.2156624980362923,
          0.46529163698916115,
          1.380307117721597,
          -0.07727565534097645,
          -0.7263977252832488,
          0.8729344863306481,
          0.17086033386813018,
          0.04381266085556833,
          -2.913783665392819,
          -1.6690976928988484,
          -0.4394920708040148,
          -0.3209155703941972,
          -0.32045693433078787,
          -0.6834319270275416,
          1.7424440303994848,
          -0.7689349438845136,
          -0.048471221833578694,
          -1.3567828372955568,
          2.2380463308071414,
          -0.7336228271312734,
          -1.210134894896935,
          0.4041730705922201,
          2.359227560002257,
          -0.9059628351141523,
          -0.32450654767758386,
          -1.9468793936483522,
          1.4916129252940544,
          -1.3262578519527488,
          -1.7532701550815961,
          -0.24912659737536147,
          -0.2665411114313221,
          -0.5805747176596595,
          -0.09744896045397518,
          -0.3423175707819679,
          -0.05831120969633171,
          1.0775693364105645,
          -1.7276485664496493,
          -0.5627886940555709,
          0.038337688771493204,
          0.4326401526938845,
          -1.1154774541467054,
          0.21173417776289666,
          -0.11766163136211416,
          -0.6253377551166092,
          -0.26346192595789275,
          1.1689009227837366,
          1.0708593828587762,
          0.6991474768310959,
          -0.45643030735334117,
          -1.3105155285250751,
          1.427539754052629,
          0.8576559860305671,
          1.1142155448569384,
          -0.7758872871070931,
          0.5219152358301684,
          -0.9471442400242632,
          -1.8588457190917727,
          -0.15863858173378537,
          1.2623743248187032,
          1.4197942215225976,
          1.903375023741625,
          1.357458416977133,
          0.6745482953360267,
          -0.3281474284563631,
          0.10259242486470374,
          -0.2592820580044352,
          -1.1793069640672837,
          -0.21295425042809518,
          0.8566063839499433,
          0.4933753048595518,
          -0.615433470325055,
          -0.04052821759306313,
          -0.43506463447108373,
          1.6287561387752472,
          0.2858108376928824,
          0.10913617798827745,
          -0.12451321364744676,
          0.7807705060826142,
          0.564777298202092,
          -1.016026169375446,
          1.9474431843036215,
          -1.6786012150561993,
          0.21135747770706476,
          2.506715190043083,
          -1.1329843437949392,
          1.6610438451231297,
          0.7504233915827414,
          0.7734171817159963,
          -1.121525922279884,
          0.07779674518343839,
          0.567436128073275,
          0.40056106840273736,
          -0.33044742798643834,
          1.5950152177017463,
          1.9809838975004284,
          -1.5684753422381257,
          2.1741475898296607,
          -0.14172957957301924,
          -1.1020115511166677,
          -0.9469551735784317,
          0.7864225236251948,
          -1.3559237629326861,
          -0.5811162430108192,
          0.0683312159796405,
          -0.9094780306436533,
          0.9040349849372376,
          0.6942824743631022,
          0.2815404538444884,
          1.0646323157199729,
          0.24287858611363264,
          -0.9511759774057515,
          -0.12789517562858616,
          -0.2301663596075706,
          0.37367867469197363,
          -0.39179314611763794,
          0.1702350392572669,
          -0.08916691705905151,
          -1.292928618758976,
          0.32755886883334817,
          0.6164972907620947,
          -2.3766306376572297,
          -0.6751993868742974,
          -0.5044022814980923,
          -1.490105776809904,
          0.39396361771212757,
          0.44230787205694766,
          1.6070397247921944,
          2.0182235921735594,
          -1.842200824073207,
          0.5879183924733382,
          0.510322991086726,
          0.5307185995474407,
          0.49317416867816516,
          0.5585653759667935,
          -0.7409608389807264,
          -1.34461529947974,
          -1.9089291206242487,
          0.890720606032959,
          0.5386591325582081,
          0.6874007492024504,
          -0.6340886940958962,
          0.1091621822042441,
          -0.9096872056791266,
          0.7156083658853286,
          0.5995490190883703,
          -1.2340651015048312,
          -0.09838870959005716,
          -0.6556785998432053,
          0.2678817783794716,
          0.30481407299029756,
          -0.3892695282195298,
          -0.2005790057692653,
          0.678406365990084,
          1.011119323993956,
          0.25805491163238536,
          0.3561553567769584,
          -2.2532144577699627,
          -1.7169863150993696,
          -1.0786109341579455,
          -0.06783544806817708,
          -0.022207494793843353,
          -1.129643763148061,
          -0.09449863332932276,
          0.5273444798354034,
          0.441577181133869,
          1.5910135928290152,
          1.7856925378958404,
          -0.061727834057133245,
          -1.8128775491081786,
          -0.5820668213934076,
          0.25171907767822904,
          0.5711817348728505,
          -0.10119462849098189,
          0.6218808028997992,
          0.8230619195409712,
          -0.9681445462022793,
          -0.12181933609018972,
          0.3770742602902985,
          0.8895291512740517,
          1.78765091397893,
          1.2054558231906518,
          0.5214435011224373,
          0.6512337365277894,
          0.5591537051806029,
          -1.1298169291591438,
          0.23049898940287455,
          -0.7397300696789857,
          0.31142330044296673,
          -0.35829528557538,
          0.36341262337219715,
          0.6355269033212332,
          -0.5040076036861127,
          1.7018927071900964,
          -0.17830995999572055,
          0.24281686275362832,
          0.9966808459061509,
          -0.9580690418589559,
          -1.3331720442016708,
          1.3215787838727078,
          -0.12500793921282774,
          1.18195662773037,
          -1.093624055226463
         ],
         "xaxis": "x",
         "y": [
          "Normal1",
          "Normal1",
          "Normal1",
          "Normal1",
          "Normal1",
          "Normal1",
          "Normal1",
          "Normal1",
          "Normal1",
          "Normal1",
          "Normal1",
          "Normal1",
          "Normal1",
          "Normal1",
          "Normal1",
          "Normal1",
          "Normal1",
          "Normal1",
          "Normal1",
          "Normal1",
          "Normal1",
          "Normal1",
          "Normal1",
          "Normal1",
          "Normal1",
          "Normal1",
          "Normal1",
          "Normal1",
          "Normal1",
          "Normal1",
          "Normal1",
          "Normal1",
          "Normal1",
          "Normal1",
          "Normal1",
          "Normal1",
          "Normal1",
          "Normal1",
          "Normal1",
          "Normal1",
          "Normal1",
          "Normal1",
          "Normal1",
          "Normal1",
          "Normal1",
          "Normal1",
          "Normal1",
          "Normal1",
          "Normal1",
          "Normal1",
          "Normal1",
          "Normal1",
          "Normal1",
          "Normal1",
          "Normal1",
          "Normal1",
          "Normal1",
          "Normal1",
          "Normal1",
          "Normal1",
          "Normal1",
          "Normal1",
          "Normal1",
          "Normal1",
          "Normal1",
          "Normal1",
          "Normal1",
          "Normal1",
          "Normal1",
          "Normal1",
          "Normal1",
          "Normal1",
          "Normal1",
          "Normal1",
          "Normal1",
          "Normal1",
          "Normal1",
          "Normal1",
          "Normal1",
          "Normal1",
          "Normal1",
          "Normal1",
          "Normal1",
          "Normal1",
          "Normal1",
          "Normal1",
          "Normal1",
          "Normal1",
          "Normal1",
          "Normal1",
          "Normal1",
          "Normal1",
          "Normal1",
          "Normal1",
          "Normal1",
          "Normal1",
          "Normal1",
          "Normal1",
          "Normal1",
          "Normal1",
          "Normal1",
          "Normal1",
          "Normal1",
          "Normal1",
          "Normal1",
          "Normal1",
          "Normal1",
          "Normal1",
          "Normal1",
          "Normal1",
          "Normal1",
          "Normal1",
          "Normal1",
          "Normal1",
          "Normal1",
          "Normal1",
          "Normal1",
          "Normal1",
          "Normal1",
          "Normal1",
          "Normal1",
          "Normal1",
          "Normal1",
          "Normal1",
          "Normal1",
          "Normal1",
          "Normal1",
          "Normal1",
          "Normal1",
          "Normal1",
          "Normal1",
          "Normal1",
          "Normal1",
          "Normal1",
          "Normal1",
          "Normal1",
          "Normal1",
          "Normal1",
          "Normal1",
          "Normal1",
          "Normal1",
          "Normal1",
          "Normal1",
          "Normal1",
          "Normal1",
          "Normal1",
          "Normal1",
          "Normal1",
          "Normal1",
          "Normal1",
          "Normal1",
          "Normal1",
          "Normal1",
          "Normal1",
          "Normal1",
          "Normal1",
          "Normal1",
          "Normal1",
          "Normal1",
          "Normal1",
          "Normal1",
          "Normal1",
          "Normal1",
          "Normal1",
          "Normal1",
          "Normal1",
          "Normal1",
          "Normal1",
          "Normal1",
          "Normal1",
          "Normal1",
          "Normal1",
          "Normal1",
          "Normal1",
          "Normal1",
          "Normal1",
          "Normal1",
          "Normal1",
          "Normal1",
          "Normal1",
          "Normal1",
          "Normal1",
          "Normal1",
          "Normal1",
          "Normal1",
          "Normal1",
          "Normal1",
          "Normal1",
          "Normal1",
          "Normal1",
          "Normal1",
          "Normal1",
          "Normal1",
          "Normal1",
          "Normal1",
          "Normal1",
          "Normal1",
          "Normal1",
          "Normal1",
          "Normal1",
          "Normal1",
          "Normal1",
          "Normal1",
          "Normal1",
          "Normal1",
          "Normal1",
          "Normal1",
          "Normal1",
          "Normal1",
          "Normal1",
          "Normal1",
          "Normal1",
          "Normal1",
          "Normal1",
          "Normal1",
          "Normal1",
          "Normal1",
          "Normal1",
          "Normal1",
          "Normal1",
          "Normal1",
          "Normal1",
          "Normal1",
          "Normal1",
          "Normal1",
          "Normal1",
          "Normal1",
          "Normal1",
          "Normal1",
          "Normal1",
          "Normal1",
          "Normal1",
          "Normal1",
          "Normal1",
          "Normal1",
          "Normal1",
          "Normal1",
          "Normal1",
          "Normal1",
          "Normal1",
          "Normal1",
          "Normal1",
          "Normal1",
          "Normal1",
          "Normal1",
          "Normal1",
          "Normal1",
          "Normal1",
          "Normal1",
          "Normal1",
          "Normal1",
          "Normal1",
          "Normal1",
          "Normal1",
          "Normal1",
          "Normal1",
          "Normal1",
          "Normal1",
          "Normal1",
          "Normal1",
          "Normal1",
          "Normal1",
          "Normal1",
          "Normal1",
          "Normal1",
          "Normal1",
          "Normal1",
          "Normal1",
          "Normal1",
          "Normal1",
          "Normal1",
          "Normal1",
          "Normal1",
          "Normal1",
          "Normal1",
          "Normal1",
          "Normal1",
          "Normal1",
          "Normal1",
          "Normal1",
          "Normal1",
          "Normal1",
          "Normal1",
          "Normal1",
          "Normal1",
          "Normal1",
          "Normal1",
          "Normal1",
          "Normal1",
          "Normal1",
          "Normal1",
          "Normal1",
          "Normal1",
          "Normal1",
          "Normal1",
          "Normal1",
          "Normal1",
          "Normal1",
          "Normal1",
          "Normal1",
          "Normal1",
          "Normal1",
          "Normal1",
          "Normal1",
          "Normal1",
          "Normal1",
          "Normal1",
          "Normal1",
          "Normal1",
          "Normal1",
          "Normal1",
          "Normal1",
          "Normal1",
          "Normal1",
          "Normal1",
          "Normal1",
          "Normal1",
          "Normal1",
          "Normal1",
          "Normal1",
          "Normal1",
          "Normal1",
          "Normal1",
          "Normal1",
          "Normal1",
          "Normal1",
          "Normal1",
          "Normal1",
          "Normal1",
          "Normal1",
          "Normal1",
          "Normal1",
          "Normal1",
          "Normal1",
          "Normal1",
          "Normal1",
          "Normal1",
          "Normal1",
          "Normal1",
          "Normal1",
          "Normal1",
          "Normal1",
          "Normal1",
          "Normal1",
          "Normal1",
          "Normal1",
          "Normal1",
          "Normal1",
          "Normal1",
          "Normal1",
          "Normal1",
          "Normal1",
          "Normal1",
          "Normal1",
          "Normal1",
          "Normal1",
          "Normal1",
          "Normal1",
          "Normal1",
          "Normal1",
          "Normal1",
          "Normal1",
          "Normal1",
          "Normal1",
          "Normal1",
          "Normal1",
          "Normal1",
          "Normal1",
          "Normal1",
          "Normal1",
          "Normal1",
          "Normal1",
          "Normal1",
          "Normal1",
          "Normal1",
          "Normal1",
          "Normal1",
          "Normal1",
          "Normal1",
          "Normal1",
          "Normal1",
          "Normal1",
          "Normal1",
          "Normal1",
          "Normal1",
          "Normal1",
          "Normal1",
          "Normal1",
          "Normal1",
          "Normal1",
          "Normal1",
          "Normal1",
          "Normal1",
          "Normal1",
          "Normal1",
          "Normal1",
          "Normal1",
          "Normal1",
          "Normal1",
          "Normal1",
          "Normal1",
          "Normal1",
          "Normal1",
          "Normal1",
          "Normal1",
          "Normal1",
          "Normal1",
          "Normal1",
          "Normal1",
          "Normal1",
          "Normal1",
          "Normal1",
          "Normal1",
          "Normal1",
          "Normal1",
          "Normal1",
          "Normal1",
          "Normal1",
          "Normal1",
          "Normal1",
          "Normal1",
          "Normal1",
          "Normal1",
          "Normal1",
          "Normal1",
          "Normal1",
          "Normal1",
          "Normal1",
          "Normal1",
          "Normal1",
          "Normal1",
          "Normal1",
          "Normal1",
          "Normal1",
          "Normal1",
          "Normal1",
          "Normal1",
          "Normal1",
          "Normal1",
          "Normal1",
          "Normal1",
          "Normal1",
          "Normal1",
          "Normal1",
          "Normal1",
          "Normal1",
          "Normal1",
          "Normal1",
          "Normal1",
          "Normal1",
          "Normal1",
          "Normal1",
          "Normal1",
          "Normal1",
          "Normal1",
          "Normal1",
          "Normal1",
          "Normal1",
          "Normal1",
          "Normal1",
          "Normal1",
          "Normal1",
          "Normal1",
          "Normal1",
          "Normal1",
          "Normal1",
          "Normal1",
          "Normal1",
          "Normal1",
          "Normal1",
          "Normal1",
          "Normal1",
          "Normal1",
          "Normal1",
          "Normal1",
          "Normal1",
          "Normal1",
          "Normal1",
          "Normal1",
          "Normal1",
          "Normal1",
          "Normal1",
          "Normal1",
          "Normal1",
          "Normal1",
          "Normal1",
          "Normal1",
          "Normal1",
          "Normal1",
          "Normal1",
          "Normal1",
          "Normal1",
          "Normal1",
          "Normal1",
          "Normal1",
          "Normal1",
          "Normal1",
          "Normal1",
          "Normal1",
          "Normal1",
          "Normal1",
          "Normal1",
          "Normal1",
          "Normal1",
          "Normal1",
          "Normal1",
          "Normal1",
          "Normal1",
          "Normal1",
          "Normal1",
          "Normal1",
          "Normal1",
          "Normal1",
          "Normal1",
          "Normal1",
          "Normal1",
          "Normal1",
          "Normal1",
          "Normal1",
          "Normal1",
          "Normal1",
          "Normal1",
          "Normal1",
          "Normal1",
          "Normal1",
          "Normal1",
          "Normal1",
          "Normal1",
          "Normal1",
          "Normal1",
          "Normal1",
          "Normal1",
          "Normal1",
          "Normal1",
          "Normal1",
          "Normal1",
          "Normal1",
          "Normal1",
          "Normal1",
          "Normal1",
          "Normal1",
          "Normal1",
          "Normal1",
          "Normal1",
          "Normal1",
          "Normal1",
          "Normal1",
          "Normal1",
          "Normal1",
          "Normal1",
          "Normal1",
          "Normal1",
          "Normal1",
          "Normal1",
          "Normal1",
          "Normal1",
          "Normal1",
          "Normal1",
          "Normal1",
          "Normal1",
          "Normal1",
          "Normal1",
          "Normal1",
          "Normal1",
          "Normal1",
          "Normal1",
          "Normal1",
          "Normal1",
          "Normal1",
          "Normal1",
          "Normal1",
          "Normal1",
          "Normal1",
          "Normal1",
          "Normal1",
          "Normal1",
          "Normal1",
          "Normal1",
          "Normal1",
          "Normal1",
          "Normal1",
          "Normal1",
          "Normal1",
          "Normal1",
          "Normal1",
          "Normal1",
          "Normal1",
          "Normal1",
          "Normal1",
          "Normal1",
          "Normal1",
          "Normal1",
          "Normal1",
          "Normal1",
          "Normal1",
          "Normal1",
          "Normal1",
          "Normal1",
          "Normal1",
          "Normal1",
          "Normal1",
          "Normal1",
          "Normal1",
          "Normal1",
          "Normal1",
          "Normal1",
          "Normal1",
          "Normal1",
          "Normal1",
          "Normal1",
          "Normal1",
          "Normal1",
          "Normal1",
          "Normal1",
          "Normal1",
          "Normal1",
          "Normal1",
          "Normal1",
          "Normal1",
          "Normal1",
          "Normal1",
          "Normal1",
          "Normal1",
          "Normal1",
          "Normal1",
          "Normal1",
          "Normal1",
          "Normal1",
          "Normal1",
          "Normal1",
          "Normal1",
          "Normal1",
          "Normal1",
          "Normal1",
          "Normal1",
          "Normal1",
          "Normal1",
          "Normal1",
          "Normal1",
          "Normal1",
          "Normal1",
          "Normal1",
          "Normal1",
          "Normal1",
          "Normal1",
          "Normal1",
          "Normal1",
          "Normal1",
          "Normal1",
          "Normal1",
          "Normal1",
          "Normal1",
          "Normal1",
          "Normal1",
          "Normal1",
          "Normal1",
          "Normal1",
          "Normal1",
          "Normal1",
          "Normal1",
          "Normal1",
          "Normal1",
          "Normal1",
          "Normal1",
          "Normal1",
          "Normal1",
          "Normal1",
          "Normal1",
          "Normal1",
          "Normal1",
          "Normal1",
          "Normal1",
          "Normal1",
          "Normal1",
          "Normal1",
          "Normal1",
          "Normal1",
          "Normal1",
          "Normal1",
          "Normal1",
          "Normal1",
          "Normal1",
          "Normal1",
          "Normal1",
          "Normal1",
          "Normal1",
          "Normal1",
          "Normal1",
          "Normal1",
          "Normal1",
          "Normal1",
          "Normal1",
          "Normal1",
          "Normal1",
          "Normal1",
          "Normal1",
          "Normal1",
          "Normal1",
          "Normal1",
          "Normal1",
          "Normal1",
          "Normal1",
          "Normal1",
          "Normal1",
          "Normal1",
          "Normal1",
          "Normal1",
          "Normal1",
          "Normal1",
          "Normal1",
          "Normal1",
          "Normal1",
          "Normal1",
          "Normal1",
          "Normal1",
          "Normal1",
          "Normal1",
          "Normal1",
          "Normal1",
          "Normal1",
          "Normal1",
          "Normal1",
          "Normal1",
          "Normal1",
          "Normal1",
          "Normal1",
          "Normal1",
          "Normal1",
          "Normal1",
          "Normal1",
          "Normal1",
          "Normal1",
          "Normal1",
          "Normal1",
          "Normal1",
          "Normal1",
          "Normal1",
          "Normal1",
          "Normal1",
          "Normal1",
          "Normal1",
          "Normal1",
          "Normal1",
          "Normal1",
          "Normal1",
          "Normal1",
          "Normal1",
          "Normal1",
          "Normal1",
          "Normal1",
          "Normal1",
          "Normal1",
          "Normal1",
          "Normal1",
          "Normal1",
          "Normal1",
          "Normal1",
          "Normal1",
          "Normal1",
          "Normal1",
          "Normal1",
          "Normal1",
          "Normal1",
          "Normal1",
          "Normal1",
          "Normal1",
          "Normal1",
          "Normal1",
          "Normal1",
          "Normal1",
          "Normal1",
          "Normal1",
          "Normal1",
          "Normal1",
          "Normal1",
          "Normal1",
          "Normal1",
          "Normal1",
          "Normal1",
          "Normal1",
          "Normal1",
          "Normal1",
          "Normal1",
          "Normal1",
          "Normal1",
          "Normal1",
          "Normal1",
          "Normal1",
          "Normal1",
          "Normal1",
          "Normal1",
          "Normal1",
          "Normal1",
          "Normal1",
          "Normal1",
          "Normal1",
          "Normal1",
          "Normal1",
          "Normal1",
          "Normal1",
          "Normal1",
          "Normal1",
          "Normal1",
          "Normal1",
          "Normal1",
          "Normal1",
          "Normal1",
          "Normal1",
          "Normal1",
          "Normal1",
          "Normal1",
          "Normal1",
          "Normal1",
          "Normal1",
          "Normal1",
          "Normal1",
          "Normal1",
          "Normal1",
          "Normal1",
          "Normal1",
          "Normal1",
          "Normal1",
          "Normal1",
          "Normal1",
          "Normal1",
          "Normal1",
          "Normal1",
          "Normal1",
          "Normal1",
          "Normal1",
          "Normal1",
          "Normal1",
          "Normal1",
          "Normal1",
          "Normal1",
          "Normal1",
          "Normal1",
          "Normal1",
          "Normal1",
          "Normal1",
          "Normal1",
          "Normal1",
          "Normal1",
          "Normal1",
          "Normal1",
          "Normal1",
          "Normal1",
          "Normal1",
          "Normal1",
          "Normal1",
          "Normal1",
          "Normal1",
          "Normal1",
          "Normal1",
          "Normal1",
          "Normal1",
          "Normal1",
          "Normal1",
          "Normal1",
          "Normal1",
          "Normal1",
          "Normal1",
          "Normal1",
          "Normal1",
          "Normal1",
          "Normal1",
          "Normal1",
          "Normal1",
          "Normal1",
          "Normal1",
          "Normal1",
          "Normal1",
          "Normal1",
          "Normal1",
          "Normal1",
          "Normal1",
          "Normal1",
          "Normal1",
          "Normal1",
          "Normal1",
          "Normal1",
          "Normal1",
          "Normal1",
          "Normal1",
          "Normal1",
          "Normal1",
          "Normal1",
          "Normal1",
          "Normal1",
          "Normal1",
          "Normal1",
          "Normal1",
          "Normal1",
          "Normal1",
          "Normal1",
          "Normal1",
          "Normal1",
          "Normal1",
          "Normal1",
          "Normal1",
          "Normal1",
          "Normal1",
          "Normal1",
          "Normal1",
          "Normal1",
          "Normal1",
          "Normal1",
          "Normal1",
          "Normal1",
          "Normal1",
          "Normal1",
          "Normal1",
          "Normal1",
          "Normal1",
          "Normal1",
          "Normal1",
          "Normal1",
          "Normal1",
          "Normal1",
          "Normal1",
          "Normal1",
          "Normal1",
          "Normal1",
          "Normal1",
          "Normal1",
          "Normal1",
          "Normal1",
          "Normal1",
          "Normal1",
          "Normal1",
          "Normal1",
          "Normal1",
          "Normal1",
          "Normal1",
          "Normal1",
          "Normal1",
          "Normal1",
          "Normal1",
          "Normal1",
          "Normal1",
          "Normal1",
          "Normal1",
          "Normal1",
          "Normal1",
          "Normal1",
          "Normal1",
          "Normal1",
          "Normal1",
          "Normal1",
          "Normal1",
          "Normal1",
          "Normal1",
          "Normal1",
          "Normal1",
          "Normal1",
          "Normal1",
          "Normal1",
          "Normal1",
          "Normal1",
          "Normal1",
          "Normal1",
          "Normal1",
          "Normal1",
          "Normal1",
          "Normal1",
          "Normal1",
          "Normal1",
          "Normal1",
          "Normal1",
          "Normal1",
          "Normal1",
          "Normal1",
          "Normal1",
          "Normal1",
          "Normal1",
          "Normal1",
          "Normal1",
          "Normal1",
          "Normal1",
          "Normal1",
          "Normal1",
          "Normal1",
          "Normal1",
          "Normal1",
          "Normal1",
          "Normal1",
          "Normal1",
          "Normal1",
          "Normal1",
          "Normal1",
          "Normal1",
          "Normal1",
          "Normal1",
          "Normal1",
          "Normal1",
          "Normal1",
          "Normal1",
          "Normal1",
          "Normal1",
          "Normal1"
         ],
         "yaxis": "y2"
        },
        {
         "legendgroup": "Normal 2",
         "marker": {
          "color": "rgb(255, 127, 14)",
          "symbol": "line-ns-open"
         },
         "mode": "markers",
         "name": "Normal 2",
         "showlegend": false,
         "type": "scatter",
         "x": [
          5.3143255022607985,
          4.781094538770163,
          3.0707712217190593,
          5.872963204297495,
          6.161839974498033,
          5.339162016021428,
          3.7926391978695446,
          4.852220041703615,
          4.726302494049118,
          5.738597656643716,
          3.009681694195863,
          4.544904295084725,
          4.242047708949483,
          5.901303159976056,
          5.406329385820604,
          6.505885606703533,
          3.573640089445457,
          4.186922301657853,
          6.023719636089993,
          4.411464978129091,
          5.041587767776211,
          4.214555375456345,
          5.733396157110096,
          4.09855770475574,
          5.717356085333674,
          5.863678500992991,
          4.930801061617748,
          5.375713563114044,
          4.857048611978704,
          3.742848207638264,
          4.245683551395605,
          5.792190405853677,
          4.791188524966217,
          3.5926701755540664,
          5.977529392615994,
          5.258203785137223,
          4.9543461607831905,
          4.105347155208318,
          3.5741808298770024,
          5.209352782723885,
          7.4153732160343795,
          4.5718692801077125,
          4.727152951456493,
          7.18858120842539,
          5.356815230144087,
          5.208897730347073,
          4.953083845553607,
          4.7926360047839465,
          5.035988366163565,
          6.224547878852613,
          5.966976228583193,
          4.610359773538257,
          4.595856295463349,
          5.895686261100535,
          5.0792684111935085,
          3.610126363403351,
          5.072863703204496,
          5.682755533715199,
          7.07541797061395,
          5.380430696644757,
          4.57555495261254,
          7.185977234450975,
          4.705543179297854,
          4.043308343792729,
          4.137644054879065,
          5.237693752986572,
          5.2805029975759625,
          3.1527742372380887,
          6.033853609753865,
          3.055457870652009,
          2.775613283844651,
          6.93445578474495,
          4.290100251429483,
          4.044369718151392,
          4.548268552449771,
          6.689846452876506,
          4.584856755006078,
          4.516650767795318,
          4.908622760597841,
          6.952265846053205,
          6.60748425812157,
          4.48516165479893,
          3.3269005287033178,
          4.872355666111178,
          6.067610157574091,
          2.730366803168422,
          5.628366362481673,
          5.6370534383117095,
          5.807377503800779,
          4.151372664148058,
          3.6851377467801614,
          5.604872517536107,
          4.493566723122571,
          4.803264358325489,
          4.103864358659187,
          7.42586709965979,
          5.062695277128046,
          2.9588978399694748,
          4.778332702825074,
          4.862178382771463,
          3.549080431068074,
          4.457721870252238,
          4.530874632206068,
          3.7441197911032016,
          6.511940609695252,
          4.4933708636175425,
          7.625924923760246,
          5.3993724397322564,
          5.979311804369374,
          5.1066145360457815,
          3.4002336828290316,
          4.397967736054396,
          6.364484338409095,
          4.683906124218472,
          4.680582986069663,
          5.054429017183736,
          5.171719771619112,
          4.295347886560298,
          3.392582567123064,
          4.5833082032054255,
          4.199084948637909,
          4.696473701342779,
          4.870336669402108,
          4.00591656870913,
          4.331977600559936,
          5.644322819784234,
          4.438057244677198,
          4.597828370868792,
          3.907238279186023,
          4.864592596766002,
          5.994566125000437,
          4.758981260301892,
          4.047028429919434,
          5.980383196547826,
          3.7608868693968738,
          5.021096086051173,
          5.970995124755265,
          6.963045366971652,
          3.865984527636826,
          3.6552674235247347,
          5.588408021613623,
          4.050678864806708,
          4.761205020924696,
          6.7536361615625,
          2.9278099676622173,
          5.699015665428761,
          4.849009564984569,
          4.234800955558706,
          4.311734588163741,
          3.106879314313222,
          4.006963981168851,
          5.566493883457369,
          4.432506432234055,
          4.722252994953853,
          4.272987087540123,
          3.886956001140261,
          4.858013210355272,
          3.1688418951288595,
          6.348811399017589,
          4.659772542141847,
          4.850477302218826,
          4.6030682686624065,
          3.007582448010781,
          4.402681142224759,
          4.517057569172471,
          5.6339299517044426,
          4.881887709076194,
          4.559365366004232,
          7.32642933745442,
          5.085907745333828,
          3.732344404447318,
          5.058105020959206,
          5.301826599949082,
          5.342971147023132,
          4.235140926010838,
          4.707146476229298,
          5.667487676211163,
          5.991134683670409,
          5.471818719746375,
          4.464358474898176,
          4.576210282918552,
          5.209030236431345,
          3.3208223262303704,
          6.0059379915963,
          5.805623364166612,
          4.790783541681045,
          3.0599191228808293,
          5.9652843280426415,
          4.075641721713027,
          5.657328870606947,
          6.073861097070871,
          4.948613323947679,
          5.910006951611399,
          5.905306965082287,
          4.647919318384547,
          5.232646345189363,
          5.289958907339271,
          5.2770138711390056,
          5.666128864177945,
          3.3746305398612915,
          4.252799888124254,
          4.169086622422203,
          4.349698418330944,
          5.753839868371133,
          5.468820861476689,
          4.369285448188193,
          5.486773524027897,
          6.372793558769196,
          3.611452804593457,
          3.4465271300819564,
          6.63505645113557,
          4.7700940403894325,
          4.249612861568109,
          6.3701343482957675,
          3.5662189842247,
          4.61662984511702,
          5.237968093655434,
          4.621585985999811,
          5.453024227925388,
          3.7146036406306626,
          4.095235418646679,
          4.848579301151512,
          3.525302312523137,
          4.769929434925072,
          5.7174715308204265,
          4.00896338870303,
          5.843831454723015,
          4.529559314979106,
          5.389680968817955,
          7.175134083335136,
          4.647701025454785,
          4.602876913584347,
          5.0365431135820335,
          6.492784613209128,
          4.98329746217175,
          6.102691308490599,
          5.323556774620684,
          5.747948876993376,
          6.067636208711271,
          5.184022375330553,
          4.636670460221861,
          3.596307907616509,
          5.4273153689029145,
          4.982753642357776,
          5.0814882561919665,
          5.239117687542891,
          5.748167509781057,
          5.036876686360842,
          5.032100616162393,
          4.253463022246749,
          6.518048125150502,
          4.1474395244823,
          3.932933280772036,
          4.9976805126117005,
          5.460795542990297,
          5.147777941799008,
          2.7004763939397147,
          6.19826902557365,
          4.486731337089805,
          6.246017961461045,
          2.5516692292571572,
          6.178218902551153,
          3.9353978164349663,
          5.187726700158245,
          4.876127984908316,
          2.8394990051672573,
          4.408560763734099,
          4.120891731025251,
          4.912645524909751,
          4.229134617812295,
          4.090361093801981,
          4.085501503594507,
          4.125962870348509,
          4.569299653722363,
          4.7476308552521616,
          5.447803962135889,
          4.805240911692484,
          4.029167729849746,
          6.269707520190006,
          5.965617714503611,
          5.381144703799163,
          5.914060473157638,
          7.344494950472315,
          3.710133343184245,
          5.337192975908501,
          4.216568919024516,
          5.208419178469314,
          6.488780975021991,
          5.226911068610643,
          5.1905021898264545,
          5.374248605936025,
          4.22126435942508,
          4.525040806401238,
          5.835449156061113,
          3.3858625815251093,
          5.646222380436512,
          3.6382373932552867,
          4.867024116902962,
          3.3993122801246307,
          5.9402641069915205,
          6.067898476094607,
          4.86506101753546,
          3.678864336840493,
          4.768508241872254,
          4.106662004221313,
          4.455703106494408,
          6.004466755698637,
          5.301406571889238,
          5.478282285204325,
          4.411417478988232,
          4.875498674166013,
          5.1150041980652885,
          5.162889473949264,
          4.612696071266227,
          5.545005310897363,
          5.424424974933949,
          6.526245966263735,
          5.0153339709048765,
          3.2281003587085957,
          6.119045229571254,
          5.880746994523576,
          3.7837786573355743,
          4.028543394084119,
          3.0806921083061973,
          5.399387126417341,
          4.2729237395987685,
          4.525267132255732,
          6.6193589056873705,
          4.078803468029649,
          4.913705013963489,
          5.683756725261334,
          4.6843439378854494,
          5.4390289336349165,
          4.804821843141493,
          3.893507345470744,
          5.286379121408465,
          4.814521615623392,
          6.244551157889367,
          3.1923467538224006,
          5.7581391243549644,
          3.6064304545975405,
          5.024504460272256,
          6.516386171836745,
          4.182672095997192,
          4.686261113462579,
          4.698523021947334,
          5.823969564058684,
          5.5052861387123295,
          4.132667723392146,
          2.500158255785339,
          4.22445690495609,
          5.477467264714966,
          5.536347344427716,
          3.5575041072672287,
          4.814500627533268,
          5.1186076257840405,
          3.2041145490525853,
          8.375013190863351,
          4.711408183163892,
          6.321636454043763,
          5.721452569591371,
          5.951584207246633,
          5.793813605691264,
          5.78059479263367,
          4.007615803808652,
          4.200134765982154,
          5.992236217576738,
          5.806478739848546,
          4.856017557385519,
          5.798797235951239,
          5.3432244519313326,
          3.8982704317099817,
          5.07972892199625,
          4.768827793271845,
          5.317010833136723,
          3.746062418641519,
          3.377845593183752,
          5.320644316833418,
          4.917668202548138,
          5.563722439395623,
          5.197004540343198,
          4.538753936527103,
          2.7544166255159106,
          5.933351911892407,
          3.8799228955620677,
          7.5182751895976025,
          4.847166153034787,
          4.305432142306556,
          5.29723750161588,
          5.226823893290581,
          5.967589288475134,
          3.527836213173847,
          4.3837164250174485,
          4.887484136588401,
          4.430033726851471,
          6.546380418828051,
          6.534910904906,
          4.601518505409248,
          3.654888521981726,
          6.198286280135276,
          5.905419044247807,
          5.560581408019929,
          4.363492904081481,
          2.8477776717520142,
          4.66334124602928,
          4.833130252630646,
          5.533451265458293,
          5.698708081538023,
          4.524786386100807,
          4.500529003288152,
          6.014962052398386,
          6.617873879903814,
          5.454401688355763,
          6.763639855068767,
          4.880467928441351,
          3.732732793491844,
          4.173719700145377,
          6.038886579271648,
          7.675094600724334,
          4.904711616123111,
          4.902448404518665,
          4.150737775921254,
          4.191631088210908,
          5.275712286990206,
          5.682339035539118,
          6.240125188360775,
          3.4964677402320046,
          5.162215846418564,
          4.743490645466018,
          3.669916135150859,
          3.7982097793391585,
          6.197495358468254,
          5.144025600781536,
          6.707197825640647,
          3.317767485680353,
          4.640945919546274,
          3.842636058993303,
          4.302176517558543,
          5.290498091671095,
          5.65203529597232,
          5.056646590608231,
          3.1472534164909702,
          5.993140382294737,
          7.179689125911776,
          6.272994573660204,
          6.077951490859335,
          6.587814005441658,
          4.35675536667468,
          4.877712068958995,
          5.03901931632132,
          3.3238219531375277,
          3.352186736595309,
          5.687483959290636,
          3.8972792516416472,
          6.173565017017416,
          4.478371643494473,
          3.2358944701731307,
          4.942132686640559,
          5.313268169277928,
          6.098219159134982,
          5.439428292874827,
          4.472269144688969,
          4.7069878632117685,
          5.91436983923285,
          4.951369092876959,
          5.474120433087392,
          2.232009847025722,
          6.8970642485560685,
          5.010993922822421,
          4.781860458107085,
          5.365568307436356,
          6.066849353176508,
          4.798745149897491,
          4.171282406455053,
          4.83298581636136,
          5.699929184433175,
          3.8823388182008216,
          3.315161375220444,
          5.0886219020162535,
          6.291748756683471,
          5.861335669374279,
          6.0805363648192845,
          5.105208619983664,
          4.282176935375074,
          5.993321850147814,
          4.705880438355606,
          3.338532402743485,
          4.583278806394095,
          5.256858311809396,
          5.388267109664468,
          3.752469121171348,
          5.244841375624217,
          5.753666404294181,
          5.592251433531183,
          6.529728102391967,
          4.084258478305875,
          3.071654983463347,
          6.203864402699781,
          4.198957706969075,
          4.982400482864209,
          4.854141551398519,
          4.819321385695959,
          3.770453786666132,
          3.6893996027612834,
          5.389422533026665,
          4.078274921005531,
          5.407606907079583,
          3.7310711205367495,
          4.552829627829275,
          7.022700305550082,
          5.382709918275415,
          3.597843721769962,
          5.559546552509922,
          5.878954632428097,
          3.3399631706573754,
          5.830328933084873,
          5.690235490265079,
          6.554260213304665,
          4.800178993324806,
          3.614968490194105,
          4.307090342898884,
          5.706274905091848,
          5.190900359192621,
          5.119138109932297,
          5.61019176909709,
          5.55570346820222,
          5.4774170807815965,
          5.395919073566961,
          3.6911467173190844,
          2.7438397435963227,
          5.311507755951323,
          4.834682209133727,
          4.300879538562994,
          6.8362798011480725,
          4.148041863809694,
          5.9407011604750535,
          3.3457470871974353,
          3.0236208146188424,
          3.4595705952675377,
          3.7032191354253903,
          6.291113958911396,
          5.56495658093948,
          4.1913702367408225,
          3.7056722440358967,
          5.343318712062844,
          4.089260621789387,
          4.68812984222218,
          4.435145173650935,
          5.967022969896985,
          5.126399544666273,
          5.184309791651863,
          4.331660540660848,
          5.750479031373961,
          5.12579336045703,
          5.797361356770525,
          4.583315352829363,
          6.294867320290254,
          4.9999442214449346,
          6.41887594028222,
          5.228725372778246,
          6.774076247060185,
          4.940517448888488,
          5.711107715654677,
          4.0899711220199215,
          5.829890064437998,
          6.966610022124286,
          4.759891031745948,
          6.123379521476654,
          1.4893827470776846,
          5.3409630948613005,
          4.466960834266633,
          5.203681985364471,
          6.820242548115888,
          4.546669494356376,
          3.9426236996027915,
          5.435242901467082,
          6.68008196409709,
          4.226656514538787,
          5.542534738464814,
          3.8033461515261147,
          3.1519481143165287,
          7.118221726707873,
          5.841977520374355,
          5.432594699691329,
          5.944224354042979,
          7.069956471105833,
          4.206053033084813,
          5.293941848735175,
          4.034883309828917,
          6.294287044035533,
          6.155598766122305,
          6.0374244703479585,
          7.080603444393228,
          4.811323503086543,
          5.4526958115996145,
          6.835097927201206,
          5.081154665380812,
          5.598459934868784,
          4.21775441117113,
          7.50540457304796,
          4.477488398696066,
          2.792052444464516,
          5.164684237621367,
          4.010159612245732,
          6.331860820403108,
          3.188769193714168,
          6.071543665627819,
          3.053928827836722,
          4.7645305224502,
          4.307998469769522,
          4.766154894176233,
          4.5801477076229755,
          4.866755717447144,
          6.348380139760517,
          5.048335053184589,
          3.147220915758148,
          4.597212976365572,
          4.932326340441256,
          5.554658060732322,
          5.614552584153525,
          5.550230672798692,
          5.477621848669285,
          5.410675374990199,
          7.739087585803132,
          6.368224432702445,
          4.345525659168196,
          7.189723436203796,
          5.969961587916135,
          5.6642051803576186,
          5.0643798055609235,
          4.790902603428662,
          7.157002842624337,
          6.427586378968122,
          5.16908995825484,
          4.255796570235438,
          5.445025928843057,
          5.27489105855547,
          5.644766322110534,
          3.854272873035523,
          5.3187276955042035,
          4.883746453638355,
          5.226844122690023,
          4.2676162499805415,
          6.09179994069874,
          4.809621006188195,
          4.718788490911026,
          5.066974037806209,
          4.060310024700694,
          5.5503631117888865,
          4.974923116134798,
          5.286111148767215,
          5.372296614845892,
          3.9036520138738555,
          5.076812406551974,
          6.295692208990088,
          5.351772150574636,
          5.151419838589058,
          6.3917323751646204,
          3.6729737769151027,
          4.9879015103625965,
          5.095554616197832,
          6.035953913741587,
          4.30177287135006,
          7.951828330602509,
          5.5662814313200375,
          4.058917611360982,
          5.292902248999746,
          5.610032651024067,
          4.077656374933759,
          6.41091460962446,
          3.7657245223671167,
          6.639595220945504,
          3.0544669189111318,
          4.430289285050463,
          6.019213288726509,
          5.5226300037824,
          4.375536114150402,
          4.461318956113997,
          5.300204366449313,
          4.862123031788503,
          3.3727744486371702,
          6.070876234376174,
          5.390524984872182,
          3.543448733541124,
          5.428264266035049,
          5.267690483420384,
          5.0093458499916785,
          4.4557106094388494,
          6.147262544453768,
          4.86195950031409,
          4.832715833685869,
          6.041317965744451,
          4.655262697942605,
          5.486368514043031,
          4.665499473250646,
          4.807626330893028,
          5.428997970683932,
          4.960676759962838,
          5.0887940898313895,
          4.347483685569238,
          5.891533594832515,
          6.501905116992771,
          5.342553723374142,
          5.9487381260531675,
          4.280745026994754,
          4.821153039335951,
          4.362171404538056,
          4.936557940740232,
          6.234307688507595,
          4.065505789658927,
          5.107507561555875,
          3.871935990467676,
          5.731284457545437,
          5.95060293330045,
          5.6661518527559975,
          4.471172985826568,
          5.949710433955115,
          5.892147714578035,
          4.082056665334539,
          4.676064769737781,
          5.894076859155731,
          6.197450981760639,
          4.396811690348096,
          6.03177863445167,
          4.847752610468733,
          7.128379965750855,
          3.496272465978018,
          6.1754981695167865,
          6.84239546728793,
          5.978059162425835,
          5.7900592491304055,
          5.795897948610023,
          5.7656941884934865,
          5.769884510132093,
          5.310777060903933,
          4.766541941950067,
          3.2493017392900647,
          5.258358515034995,
          2.556386885665767,
          6.330275092799401,
          4.658235884319266,
          5.4324201820903815,
          6.938767612323323,
          5.716879513283907,
          3.748806859482043,
          4.77391283418415,
          5.3329979988558245,
          6.2924314675562645,
          4.863930986007096,
          5.321672507437684,
          3.923680611808889,
          6.03772229160195,
          4.846369788891254,
          3.263305831339445,
          6.643545620666319,
          3.7596902294226653,
          6.009383788447878,
          3.9465201924751803,
          4.421539548299594,
          3.770120493319702,
          5.0318075297670415,
          4.249942699115746,
          4.640554240403954,
          4.537160157130127,
          6.770711012708572,
          6.044547840947068,
          4.098941132841442,
          4.055690947711186,
          5.5512283362424215,
          4.917343834842102,
          6.0782901116821675,
          5.430549035974712,
          3.7751902442211316,
          4.964179576190248,
          3.517100254229476,
          5.496368314991559,
          4.23278508797788,
          3.339615656146936,
          5.346587738527755,
          5.381087675976576,
          4.593585730272738,
          5.008605377980614,
          6.66166285512967,
          7.352930547201554,
          4.111433128546043,
          5.43576259856078,
          5.464773444619108,
          4.558538647797536,
          4.9404619610493485,
          5.72462134393779,
          5.66663779790317,
          4.495885023480388,
          6.245277443164661,
          4.805865670879834,
          5.428144532510537,
          4.477867467139144,
          3.593931837044897,
          6.107814520283081,
          4.181215895291744,
          2.9129262182300137,
          5.048296091241939,
          6.499037689803975,
          5.2783454203969455,
          5.44246283758422,
          5.251220650481302,
          5.553553940511836,
          5.351260478638432,
          5.561784969254776,
          4.335806069515226,
          5.814889180804283,
          3.3728666291369778,
          4.854159490691197,
          5.016965352253151,
          6.889562555123073,
          6.0318565595333835,
          3.594128486857774,
          3.179045040428836,
          4.816304451114029,
          7.651450552314445,
          7.060303446696552,
          5.478041194325685,
          3.95106821100239,
          4.143411747828273,
          4.14585223006496,
          6.244441734240524,
          5.432950815684758,
          5.217352541467166,
          5.2978633826891395,
          4.874004363055037,
          5.719462486452169,
          5.2122814474204535,
          3.491269821654617,
          5.373814328432601,
          5.026036020734947,
          4.820440088862142,
          4.311786016274984,
          5.343072191267945,
          4.291106634809828,
          5.763151249589956,
          3.4628564563092423,
          5.7799200041702745,
          4.051435930575866,
          5.164007877193815,
          5.668849809891695,
          4.737738396270189,
          5.0991687721314065,
          5.990605319730658,
          4.023592410615846,
          4.780010920083564,
          5.61818201942728,
          3.4129945404308635,
          5.500540823545949,
          4.541565121632178,
          4.85539591356133,
          5.658922979322668,
          3.842673647990959,
          4.45828203161454,
          4.555810341503433,
          6.274293643386412,
          3.784017970513446,
          6.8798194935379655,
          5.06895626865766,
          5.333272260420884,
          5.391785098849159,
          4.910808247975169,
          6.180090940787428,
          4.319063843267456,
          5.480139414192673,
          5.821903008003712,
          4.495533753373316,
          6.432025797089128,
          4.6083864918723,
          3.2328019269396586,
          5.425643071364075,
          5.499444484540401,
          4.415505289283264,
          2.7142792411867753,
          4.292448589574144,
          6.721900366731669,
          5.441261154837905,
          4.6793498766647,
          6.025373160307393,
          5.183695729537621,
          3.667761281987395,
          3.256272572457812,
          5.283239288893207,
          5.676347722483531,
          4.780944862909606,
          6.978309410636514,
          5.784191216395202,
          5.349641672312162,
          5.600098848548902,
          5.65881729304841,
          4.91827240638722,
          5.97005456249078,
          6.540372564790678,
          6.564702749623414,
          4.852413954186259,
          5.661221589734807,
          6.957608364366255,
          6.076797932332659,
          5.040548916136812,
          4.5190536560265855,
          5.359578227947286,
          5.135491454592254,
          4.728061397800711,
          5.045083738477967,
          4.819283146799456,
          2.4337382031914983,
          3.7139746824892965,
          5.673190528846041,
          6.076426586859038,
          4.033683315614266,
          4.612316432087735,
          3.5386225001223957,
          6.581139454291161,
          6.348262101956792,
          4.447353775276344,
          5.335175948104554,
          6.968087817614196,
          3.852733553467008,
          3.775715140026074,
          4.929657184415207,
          5.739891415918278,
          6.445920724422605,
          3.906198307131679,
          5.6365821229303705,
          4.6825823219150395,
          3.979757846410392,
          5.60933933128217,
          3.302716639626468,
          6.271100626164875,
          3.9512077952957503,
          5.837976439095869,
          6.854982637701735,
          5.023420925116991,
          5.937526458471256,
          3.6875794638120385,
          5.448094986529067,
          5.184784183676577,
          5.1830478608513335,
          5.238942219209449,
          5.4319485279974415,
          6.526410049226445,
          4.966929320418983,
          5.323887735913397,
          4.521088436300992,
          5.126275935170382,
          5.673826685629715,
          4.973287689957831,
          5.320808214373898,
          4.981094413276766,
          4.166488948051571,
          6.162816601220728,
          6.961005021746721,
          4.9506393158066055,
          6.421081590355264,
          4.542039516323374,
          5.9546188210114455,
          5.827601568062736,
          3.609367126447573,
          5.394784810285579,
          6.325956692507372,
          4.616920138061039,
          5.059770770793084,
          4.709500892740996,
          6.927545822117951,
          6.482616933663349,
          6.4763596680157915,
          5.364309558303159,
          7.260624330384162,
          5.696821240244004,
          5.053042915284832,
          5.847761496702903,
          3.8219087574929507,
          3.910949531353452,
          4.493702905026957,
          5.706434006693836,
          5.530587709217169,
          4.612413340217878,
          6.326911834864381,
          4.516922357707328,
          5.617140544001425,
          5.771951201794604,
          4.387625471469656,
          4.950953242366329,
          5.911857971004059,
          6.435338007017379,
          3.9609925372974577,
          4.186608128711202,
          5.587633694296702,
          5.074680705607404,
          5.342806401865416,
          3.95300388088038,
          1.8437608331179614,
          4.075496074707562,
          3.7049987447616406,
          5.559942234263481,
          3.4170127935688015,
          5.522850526607162
         ],
         "xaxis": "x",
         "y": [
          "Normal 2",
          "Normal 2",
          "Normal 2",
          "Normal 2",
          "Normal 2",
          "Normal 2",
          "Normal 2",
          "Normal 2",
          "Normal 2",
          "Normal 2",
          "Normal 2",
          "Normal 2",
          "Normal 2",
          "Normal 2",
          "Normal 2",
          "Normal 2",
          "Normal 2",
          "Normal 2",
          "Normal 2",
          "Normal 2",
          "Normal 2",
          "Normal 2",
          "Normal 2",
          "Normal 2",
          "Normal 2",
          "Normal 2",
          "Normal 2",
          "Normal 2",
          "Normal 2",
          "Normal 2",
          "Normal 2",
          "Normal 2",
          "Normal 2",
          "Normal 2",
          "Normal 2",
          "Normal 2",
          "Normal 2",
          "Normal 2",
          "Normal 2",
          "Normal 2",
          "Normal 2",
          "Normal 2",
          "Normal 2",
          "Normal 2",
          "Normal 2",
          "Normal 2",
          "Normal 2",
          "Normal 2",
          "Normal 2",
          "Normal 2",
          "Normal 2",
          "Normal 2",
          "Normal 2",
          "Normal 2",
          "Normal 2",
          "Normal 2",
          "Normal 2",
          "Normal 2",
          "Normal 2",
          "Normal 2",
          "Normal 2",
          "Normal 2",
          "Normal 2",
          "Normal 2",
          "Normal 2",
          "Normal 2",
          "Normal 2",
          "Normal 2",
          "Normal 2",
          "Normal 2",
          "Normal 2",
          "Normal 2",
          "Normal 2",
          "Normal 2",
          "Normal 2",
          "Normal 2",
          "Normal 2",
          "Normal 2",
          "Normal 2",
          "Normal 2",
          "Normal 2",
          "Normal 2",
          "Normal 2",
          "Normal 2",
          "Normal 2",
          "Normal 2",
          "Normal 2",
          "Normal 2",
          "Normal 2",
          "Normal 2",
          "Normal 2",
          "Normal 2",
          "Normal 2",
          "Normal 2",
          "Normal 2",
          "Normal 2",
          "Normal 2",
          "Normal 2",
          "Normal 2",
          "Normal 2",
          "Normal 2",
          "Normal 2",
          "Normal 2",
          "Normal 2",
          "Normal 2",
          "Normal 2",
          "Normal 2",
          "Normal 2",
          "Normal 2",
          "Normal 2",
          "Normal 2",
          "Normal 2",
          "Normal 2",
          "Normal 2",
          "Normal 2",
          "Normal 2",
          "Normal 2",
          "Normal 2",
          "Normal 2",
          "Normal 2",
          "Normal 2",
          "Normal 2",
          "Normal 2",
          "Normal 2",
          "Normal 2",
          "Normal 2",
          "Normal 2",
          "Normal 2",
          "Normal 2",
          "Normal 2",
          "Normal 2",
          "Normal 2",
          "Normal 2",
          "Normal 2",
          "Normal 2",
          "Normal 2",
          "Normal 2",
          "Normal 2",
          "Normal 2",
          "Normal 2",
          "Normal 2",
          "Normal 2",
          "Normal 2",
          "Normal 2",
          "Normal 2",
          "Normal 2",
          "Normal 2",
          "Normal 2",
          "Normal 2",
          "Normal 2",
          "Normal 2",
          "Normal 2",
          "Normal 2",
          "Normal 2",
          "Normal 2",
          "Normal 2",
          "Normal 2",
          "Normal 2",
          "Normal 2",
          "Normal 2",
          "Normal 2",
          "Normal 2",
          "Normal 2",
          "Normal 2",
          "Normal 2",
          "Normal 2",
          "Normal 2",
          "Normal 2",
          "Normal 2",
          "Normal 2",
          "Normal 2",
          "Normal 2",
          "Normal 2",
          "Normal 2",
          "Normal 2",
          "Normal 2",
          "Normal 2",
          "Normal 2",
          "Normal 2",
          "Normal 2",
          "Normal 2",
          "Normal 2",
          "Normal 2",
          "Normal 2",
          "Normal 2",
          "Normal 2",
          "Normal 2",
          "Normal 2",
          "Normal 2",
          "Normal 2",
          "Normal 2",
          "Normal 2",
          "Normal 2",
          "Normal 2",
          "Normal 2",
          "Normal 2",
          "Normal 2",
          "Normal 2",
          "Normal 2",
          "Normal 2",
          "Normal 2",
          "Normal 2",
          "Normal 2",
          "Normal 2",
          "Normal 2",
          "Normal 2",
          "Normal 2",
          "Normal 2",
          "Normal 2",
          "Normal 2",
          "Normal 2",
          "Normal 2",
          "Normal 2",
          "Normal 2",
          "Normal 2",
          "Normal 2",
          "Normal 2",
          "Normal 2",
          "Normal 2",
          "Normal 2",
          "Normal 2",
          "Normal 2",
          "Normal 2",
          "Normal 2",
          "Normal 2",
          "Normal 2",
          "Normal 2",
          "Normal 2",
          "Normal 2",
          "Normal 2",
          "Normal 2",
          "Normal 2",
          "Normal 2",
          "Normal 2",
          "Normal 2",
          "Normal 2",
          "Normal 2",
          "Normal 2",
          "Normal 2",
          "Normal 2",
          "Normal 2",
          "Normal 2",
          "Normal 2",
          "Normal 2",
          "Normal 2",
          "Normal 2",
          "Normal 2",
          "Normal 2",
          "Normal 2",
          "Normal 2",
          "Normal 2",
          "Normal 2",
          "Normal 2",
          "Normal 2",
          "Normal 2",
          "Normal 2",
          "Normal 2",
          "Normal 2",
          "Normal 2",
          "Normal 2",
          "Normal 2",
          "Normal 2",
          "Normal 2",
          "Normal 2",
          "Normal 2",
          "Normal 2",
          "Normal 2",
          "Normal 2",
          "Normal 2",
          "Normal 2",
          "Normal 2",
          "Normal 2",
          "Normal 2",
          "Normal 2",
          "Normal 2",
          "Normal 2",
          "Normal 2",
          "Normal 2",
          "Normal 2",
          "Normal 2",
          "Normal 2",
          "Normal 2",
          "Normal 2",
          "Normal 2",
          "Normal 2",
          "Normal 2",
          "Normal 2",
          "Normal 2",
          "Normal 2",
          "Normal 2",
          "Normal 2",
          "Normal 2",
          "Normal 2",
          "Normal 2",
          "Normal 2",
          "Normal 2",
          "Normal 2",
          "Normal 2",
          "Normal 2",
          "Normal 2",
          "Normal 2",
          "Normal 2",
          "Normal 2",
          "Normal 2",
          "Normal 2",
          "Normal 2",
          "Normal 2",
          "Normal 2",
          "Normal 2",
          "Normal 2",
          "Normal 2",
          "Normal 2",
          "Normal 2",
          "Normal 2",
          "Normal 2",
          "Normal 2",
          "Normal 2",
          "Normal 2",
          "Normal 2",
          "Normal 2",
          "Normal 2",
          "Normal 2",
          "Normal 2",
          "Normal 2",
          "Normal 2",
          "Normal 2",
          "Normal 2",
          "Normal 2",
          "Normal 2",
          "Normal 2",
          "Normal 2",
          "Normal 2",
          "Normal 2",
          "Normal 2",
          "Normal 2",
          "Normal 2",
          "Normal 2",
          "Normal 2",
          "Normal 2",
          "Normal 2",
          "Normal 2",
          "Normal 2",
          "Normal 2",
          "Normal 2",
          "Normal 2",
          "Normal 2",
          "Normal 2",
          "Normal 2",
          "Normal 2",
          "Normal 2",
          "Normal 2",
          "Normal 2",
          "Normal 2",
          "Normal 2",
          "Normal 2",
          "Normal 2",
          "Normal 2",
          "Normal 2",
          "Normal 2",
          "Normal 2",
          "Normal 2",
          "Normal 2",
          "Normal 2",
          "Normal 2",
          "Normal 2",
          "Normal 2",
          "Normal 2",
          "Normal 2",
          "Normal 2",
          "Normal 2",
          "Normal 2",
          "Normal 2",
          "Normal 2",
          "Normal 2",
          "Normal 2",
          "Normal 2",
          "Normal 2",
          "Normal 2",
          "Normal 2",
          "Normal 2",
          "Normal 2",
          "Normal 2",
          "Normal 2",
          "Normal 2",
          "Normal 2",
          "Normal 2",
          "Normal 2",
          "Normal 2",
          "Normal 2",
          "Normal 2",
          "Normal 2",
          "Normal 2",
          "Normal 2",
          "Normal 2",
          "Normal 2",
          "Normal 2",
          "Normal 2",
          "Normal 2",
          "Normal 2",
          "Normal 2",
          "Normal 2",
          "Normal 2",
          "Normal 2",
          "Normal 2",
          "Normal 2",
          "Normal 2",
          "Normal 2",
          "Normal 2",
          "Normal 2",
          "Normal 2",
          "Normal 2",
          "Normal 2",
          "Normal 2",
          "Normal 2",
          "Normal 2",
          "Normal 2",
          "Normal 2",
          "Normal 2",
          "Normal 2",
          "Normal 2",
          "Normal 2",
          "Normal 2",
          "Normal 2",
          "Normal 2",
          "Normal 2",
          "Normal 2",
          "Normal 2",
          "Normal 2",
          "Normal 2",
          "Normal 2",
          "Normal 2",
          "Normal 2",
          "Normal 2",
          "Normal 2",
          "Normal 2",
          "Normal 2",
          "Normal 2",
          "Normal 2",
          "Normal 2",
          "Normal 2",
          "Normal 2",
          "Normal 2",
          "Normal 2",
          "Normal 2",
          "Normal 2",
          "Normal 2",
          "Normal 2",
          "Normal 2",
          "Normal 2",
          "Normal 2",
          "Normal 2",
          "Normal 2",
          "Normal 2",
          "Normal 2",
          "Normal 2",
          "Normal 2",
          "Normal 2",
          "Normal 2",
          "Normal 2",
          "Normal 2",
          "Normal 2",
          "Normal 2",
          "Normal 2",
          "Normal 2",
          "Normal 2",
          "Normal 2",
          "Normal 2",
          "Normal 2",
          "Normal 2",
          "Normal 2",
          "Normal 2",
          "Normal 2",
          "Normal 2",
          "Normal 2",
          "Normal 2",
          "Normal 2",
          "Normal 2",
          "Normal 2",
          "Normal 2",
          "Normal 2",
          "Normal 2",
          "Normal 2",
          "Normal 2",
          "Normal 2",
          "Normal 2",
          "Normal 2",
          "Normal 2",
          "Normal 2",
          "Normal 2",
          "Normal 2",
          "Normal 2",
          "Normal 2",
          "Normal 2",
          "Normal 2",
          "Normal 2",
          "Normal 2",
          "Normal 2",
          "Normal 2",
          "Normal 2",
          "Normal 2",
          "Normal 2",
          "Normal 2",
          "Normal 2",
          "Normal 2",
          "Normal 2",
          "Normal 2",
          "Normal 2",
          "Normal 2",
          "Normal 2",
          "Normal 2",
          "Normal 2",
          "Normal 2",
          "Normal 2",
          "Normal 2",
          "Normal 2",
          "Normal 2",
          "Normal 2",
          "Normal 2",
          "Normal 2",
          "Normal 2",
          "Normal 2",
          "Normal 2",
          "Normal 2",
          "Normal 2",
          "Normal 2",
          "Normal 2",
          "Normal 2",
          "Normal 2",
          "Normal 2",
          "Normal 2",
          "Normal 2",
          "Normal 2",
          "Normal 2",
          "Normal 2",
          "Normal 2",
          "Normal 2",
          "Normal 2",
          "Normal 2",
          "Normal 2",
          "Normal 2",
          "Normal 2",
          "Normal 2",
          "Normal 2",
          "Normal 2",
          "Normal 2",
          "Normal 2",
          "Normal 2",
          "Normal 2",
          "Normal 2",
          "Normal 2",
          "Normal 2",
          "Normal 2",
          "Normal 2",
          "Normal 2",
          "Normal 2",
          "Normal 2",
          "Normal 2",
          "Normal 2",
          "Normal 2",
          "Normal 2",
          "Normal 2",
          "Normal 2",
          "Normal 2",
          "Normal 2",
          "Normal 2",
          "Normal 2",
          "Normal 2",
          "Normal 2",
          "Normal 2",
          "Normal 2",
          "Normal 2",
          "Normal 2",
          "Normal 2",
          "Normal 2",
          "Normal 2",
          "Normal 2",
          "Normal 2",
          "Normal 2",
          "Normal 2",
          "Normal 2",
          "Normal 2",
          "Normal 2",
          "Normal 2",
          "Normal 2",
          "Normal 2",
          "Normal 2",
          "Normal 2",
          "Normal 2",
          "Normal 2",
          "Normal 2",
          "Normal 2",
          "Normal 2",
          "Normal 2",
          "Normal 2",
          "Normal 2",
          "Normal 2",
          "Normal 2",
          "Normal 2",
          "Normal 2",
          "Normal 2",
          "Normal 2",
          "Normal 2",
          "Normal 2",
          "Normal 2",
          "Normal 2",
          "Normal 2",
          "Normal 2",
          "Normal 2",
          "Normal 2",
          "Normal 2",
          "Normal 2",
          "Normal 2",
          "Normal 2",
          "Normal 2",
          "Normal 2",
          "Normal 2",
          "Normal 2",
          "Normal 2",
          "Normal 2",
          "Normal 2",
          "Normal 2",
          "Normal 2",
          "Normal 2",
          "Normal 2",
          "Normal 2",
          "Normal 2",
          "Normal 2",
          "Normal 2",
          "Normal 2",
          "Normal 2",
          "Normal 2",
          "Normal 2",
          "Normal 2",
          "Normal 2",
          "Normal 2",
          "Normal 2",
          "Normal 2",
          "Normal 2",
          "Normal 2",
          "Normal 2",
          "Normal 2",
          "Normal 2",
          "Normal 2",
          "Normal 2",
          "Normal 2",
          "Normal 2",
          "Normal 2",
          "Normal 2",
          "Normal 2",
          "Normal 2",
          "Normal 2",
          "Normal 2",
          "Normal 2",
          "Normal 2",
          "Normal 2",
          "Normal 2",
          "Normal 2",
          "Normal 2",
          "Normal 2",
          "Normal 2",
          "Normal 2",
          "Normal 2",
          "Normal 2",
          "Normal 2",
          "Normal 2",
          "Normal 2",
          "Normal 2",
          "Normal 2",
          "Normal 2",
          "Normal 2",
          "Normal 2",
          "Normal 2",
          "Normal 2",
          "Normal 2",
          "Normal 2",
          "Normal 2",
          "Normal 2",
          "Normal 2",
          "Normal 2",
          "Normal 2",
          "Normal 2",
          "Normal 2",
          "Normal 2",
          "Normal 2",
          "Normal 2",
          "Normal 2",
          "Normal 2",
          "Normal 2",
          "Normal 2",
          "Normal 2",
          "Normal 2",
          "Normal 2",
          "Normal 2",
          "Normal 2",
          "Normal 2",
          "Normal 2",
          "Normal 2",
          "Normal 2",
          "Normal 2",
          "Normal 2",
          "Normal 2",
          "Normal 2",
          "Normal 2",
          "Normal 2",
          "Normal 2",
          "Normal 2",
          "Normal 2",
          "Normal 2",
          "Normal 2",
          "Normal 2",
          "Normal 2",
          "Normal 2",
          "Normal 2",
          "Normal 2",
          "Normal 2",
          "Normal 2",
          "Normal 2",
          "Normal 2",
          "Normal 2",
          "Normal 2",
          "Normal 2",
          "Normal 2",
          "Normal 2",
          "Normal 2",
          "Normal 2",
          "Normal 2",
          "Normal 2",
          "Normal 2",
          "Normal 2",
          "Normal 2",
          "Normal 2",
          "Normal 2",
          "Normal 2",
          "Normal 2",
          "Normal 2",
          "Normal 2",
          "Normal 2",
          "Normal 2",
          "Normal 2",
          "Normal 2",
          "Normal 2",
          "Normal 2",
          "Normal 2",
          "Normal 2",
          "Normal 2",
          "Normal 2",
          "Normal 2",
          "Normal 2",
          "Normal 2",
          "Normal 2",
          "Normal 2",
          "Normal 2",
          "Normal 2",
          "Normal 2",
          "Normal 2",
          "Normal 2",
          "Normal 2",
          "Normal 2",
          "Normal 2",
          "Normal 2",
          "Normal 2",
          "Normal 2",
          "Normal 2",
          "Normal 2",
          "Normal 2",
          "Normal 2",
          "Normal 2",
          "Normal 2",
          "Normal 2",
          "Normal 2",
          "Normal 2",
          "Normal 2",
          "Normal 2",
          "Normal 2",
          "Normal 2",
          "Normal 2",
          "Normal 2",
          "Normal 2",
          "Normal 2",
          "Normal 2",
          "Normal 2",
          "Normal 2",
          "Normal 2",
          "Normal 2",
          "Normal 2",
          "Normal 2",
          "Normal 2",
          "Normal 2",
          "Normal 2",
          "Normal 2",
          "Normal 2",
          "Normal 2",
          "Normal 2",
          "Normal 2",
          "Normal 2",
          "Normal 2",
          "Normal 2",
          "Normal 2",
          "Normal 2",
          "Normal 2",
          "Normal 2",
          "Normal 2",
          "Normal 2",
          "Normal 2",
          "Normal 2",
          "Normal 2",
          "Normal 2",
          "Normal 2",
          "Normal 2",
          "Normal 2",
          "Normal 2",
          "Normal 2",
          "Normal 2",
          "Normal 2",
          "Normal 2",
          "Normal 2",
          "Normal 2",
          "Normal 2",
          "Normal 2",
          "Normal 2",
          "Normal 2",
          "Normal 2",
          "Normal 2",
          "Normal 2",
          "Normal 2",
          "Normal 2",
          "Normal 2",
          "Normal 2",
          "Normal 2",
          "Normal 2",
          "Normal 2",
          "Normal 2",
          "Normal 2",
          "Normal 2",
          "Normal 2",
          "Normal 2",
          "Normal 2",
          "Normal 2",
          "Normal 2",
          "Normal 2",
          "Normal 2",
          "Normal 2",
          "Normal 2",
          "Normal 2",
          "Normal 2",
          "Normal 2",
          "Normal 2",
          "Normal 2",
          "Normal 2",
          "Normal 2",
          "Normal 2",
          "Normal 2",
          "Normal 2",
          "Normal 2",
          "Normal 2",
          "Normal 2",
          "Normal 2",
          "Normal 2",
          "Normal 2",
          "Normal 2",
          "Normal 2",
          "Normal 2",
          "Normal 2",
          "Normal 2",
          "Normal 2",
          "Normal 2",
          "Normal 2",
          "Normal 2",
          "Normal 2",
          "Normal 2",
          "Normal 2",
          "Normal 2",
          "Normal 2",
          "Normal 2",
          "Normal 2",
          "Normal 2",
          "Normal 2",
          "Normal 2",
          "Normal 2",
          "Normal 2",
          "Normal 2",
          "Normal 2",
          "Normal 2",
          "Normal 2",
          "Normal 2",
          "Normal 2",
          "Normal 2",
          "Normal 2",
          "Normal 2",
          "Normal 2",
          "Normal 2",
          "Normal 2",
          "Normal 2",
          "Normal 2",
          "Normal 2",
          "Normal 2",
          "Normal 2",
          "Normal 2",
          "Normal 2",
          "Normal 2",
          "Normal 2",
          "Normal 2",
          "Normal 2",
          "Normal 2",
          "Normal 2",
          "Normal 2",
          "Normal 2",
          "Normal 2",
          "Normal 2",
          "Normal 2",
          "Normal 2",
          "Normal 2",
          "Normal 2",
          "Normal 2",
          "Normal 2",
          "Normal 2",
          "Normal 2",
          "Normal 2",
          "Normal 2",
          "Normal 2",
          "Normal 2",
          "Normal 2",
          "Normal 2",
          "Normal 2",
          "Normal 2",
          "Normal 2",
          "Normal 2",
          "Normal 2",
          "Normal 2",
          "Normal 2",
          "Normal 2",
          "Normal 2",
          "Normal 2",
          "Normal 2",
          "Normal 2",
          "Normal 2",
          "Normal 2",
          "Normal 2",
          "Normal 2",
          "Normal 2",
          "Normal 2",
          "Normal 2",
          "Normal 2",
          "Normal 2",
          "Normal 2",
          "Normal 2",
          "Normal 2",
          "Normal 2",
          "Normal 2",
          "Normal 2",
          "Normal 2",
          "Normal 2",
          "Normal 2",
          "Normal 2",
          "Normal 2",
          "Normal 2",
          "Normal 2",
          "Normal 2",
          "Normal 2",
          "Normal 2",
          "Normal 2",
          "Normal 2",
          "Normal 2",
          "Normal 2",
          "Normal 2",
          "Normal 2",
          "Normal 2",
          "Normal 2",
          "Normal 2",
          "Normal 2",
          "Normal 2",
          "Normal 2",
          "Normal 2",
          "Normal 2",
          "Normal 2",
          "Normal 2",
          "Normal 2",
          "Normal 2",
          "Normal 2",
          "Normal 2",
          "Normal 2",
          "Normal 2",
          "Normal 2",
          "Normal 2",
          "Normal 2",
          "Normal 2",
          "Normal 2",
          "Normal 2",
          "Normal 2",
          "Normal 2",
          "Normal 2",
          "Normal 2",
          "Normal 2",
          "Normal 2",
          "Normal 2",
          "Normal 2",
          "Normal 2",
          "Normal 2",
          "Normal 2",
          "Normal 2"
         ],
         "yaxis": "y2"
        }
       ],
       "layout": {
        "barmode": "overlay",
        "hovermode": "closest",
        "legend": {
         "traceorder": "reversed"
        },
        "template": {
         "data": {
          "bar": [
           {
            "error_x": {
             "color": "#2a3f5f"
            },
            "error_y": {
             "color": "#2a3f5f"
            },
            "marker": {
             "line": {
              "color": "#E5ECF6",
              "width": 0.5
             },
             "pattern": {
              "fillmode": "overlay",
              "size": 10,
              "solidity": 0.2
             }
            },
            "type": "bar"
           }
          ],
          "barpolar": [
           {
            "marker": {
             "line": {
              "color": "#E5ECF6",
              "width": 0.5
             },
             "pattern": {
              "fillmode": "overlay",
              "size": 10,
              "solidity": 0.2
             }
            },
            "type": "barpolar"
           }
          ],
          "carpet": [
           {
            "aaxis": {
             "endlinecolor": "#2a3f5f",
             "gridcolor": "white",
             "linecolor": "white",
             "minorgridcolor": "white",
             "startlinecolor": "#2a3f5f"
            },
            "baxis": {
             "endlinecolor": "#2a3f5f",
             "gridcolor": "white",
             "linecolor": "white",
             "minorgridcolor": "white",
             "startlinecolor": "#2a3f5f"
            },
            "type": "carpet"
           }
          ],
          "choropleth": [
           {
            "colorbar": {
             "outlinewidth": 0,
             "ticks": ""
            },
            "type": "choropleth"
           }
          ],
          "contour": [
           {
            "colorbar": {
             "outlinewidth": 0,
             "ticks": ""
            },
            "colorscale": [
             [
              0,
              "#0d0887"
             ],
             [
              0.1111111111111111,
              "#46039f"
             ],
             [
              0.2222222222222222,
              "#7201a8"
             ],
             [
              0.3333333333333333,
              "#9c179e"
             ],
             [
              0.4444444444444444,
              "#bd3786"
             ],
             [
              0.5555555555555556,
              "#d8576b"
             ],
             [
              0.6666666666666666,
              "#ed7953"
             ],
             [
              0.7777777777777778,
              "#fb9f3a"
             ],
             [
              0.8888888888888888,
              "#fdca26"
             ],
             [
              1,
              "#f0f921"
             ]
            ],
            "type": "contour"
           }
          ],
          "contourcarpet": [
           {
            "colorbar": {
             "outlinewidth": 0,
             "ticks": ""
            },
            "type": "contourcarpet"
           }
          ],
          "heatmap": [
           {
            "colorbar": {
             "outlinewidth": 0,
             "ticks": ""
            },
            "colorscale": [
             [
              0,
              "#0d0887"
             ],
             [
              0.1111111111111111,
              "#46039f"
             ],
             [
              0.2222222222222222,
              "#7201a8"
             ],
             [
              0.3333333333333333,
              "#9c179e"
             ],
             [
              0.4444444444444444,
              "#bd3786"
             ],
             [
              0.5555555555555556,
              "#d8576b"
             ],
             [
              0.6666666666666666,
              "#ed7953"
             ],
             [
              0.7777777777777778,
              "#fb9f3a"
             ],
             [
              0.8888888888888888,
              "#fdca26"
             ],
             [
              1,
              "#f0f921"
             ]
            ],
            "type": "heatmap"
           }
          ],
          "heatmapgl": [
           {
            "colorbar": {
             "outlinewidth": 0,
             "ticks": ""
            },
            "colorscale": [
             [
              0,
              "#0d0887"
             ],
             [
              0.1111111111111111,
              "#46039f"
             ],
             [
              0.2222222222222222,
              "#7201a8"
             ],
             [
              0.3333333333333333,
              "#9c179e"
             ],
             [
              0.4444444444444444,
              "#bd3786"
             ],
             [
              0.5555555555555556,
              "#d8576b"
             ],
             [
              0.6666666666666666,
              "#ed7953"
             ],
             [
              0.7777777777777778,
              "#fb9f3a"
             ],
             [
              0.8888888888888888,
              "#fdca26"
             ],
             [
              1,
              "#f0f921"
             ]
            ],
            "type": "heatmapgl"
           }
          ],
          "histogram": [
           {
            "marker": {
             "pattern": {
              "fillmode": "overlay",
              "size": 10,
              "solidity": 0.2
             }
            },
            "type": "histogram"
           }
          ],
          "histogram2d": [
           {
            "colorbar": {
             "outlinewidth": 0,
             "ticks": ""
            },
            "colorscale": [
             [
              0,
              "#0d0887"
             ],
             [
              0.1111111111111111,
              "#46039f"
             ],
             [
              0.2222222222222222,
              "#7201a8"
             ],
             [
              0.3333333333333333,
              "#9c179e"
             ],
             [
              0.4444444444444444,
              "#bd3786"
             ],
             [
              0.5555555555555556,
              "#d8576b"
             ],
             [
              0.6666666666666666,
              "#ed7953"
             ],
             [
              0.7777777777777778,
              "#fb9f3a"
             ],
             [
              0.8888888888888888,
              "#fdca26"
             ],
             [
              1,
              "#f0f921"
             ]
            ],
            "type": "histogram2d"
           }
          ],
          "histogram2dcontour": [
           {
            "colorbar": {
             "outlinewidth": 0,
             "ticks": ""
            },
            "colorscale": [
             [
              0,
              "#0d0887"
             ],
             [
              0.1111111111111111,
              "#46039f"
             ],
             [
              0.2222222222222222,
              "#7201a8"
             ],
             [
              0.3333333333333333,
              "#9c179e"
             ],
             [
              0.4444444444444444,
              "#bd3786"
             ],
             [
              0.5555555555555556,
              "#d8576b"
             ],
             [
              0.6666666666666666,
              "#ed7953"
             ],
             [
              0.7777777777777778,
              "#fb9f3a"
             ],
             [
              0.8888888888888888,
              "#fdca26"
             ],
             [
              1,
              "#f0f921"
             ]
            ],
            "type": "histogram2dcontour"
           }
          ],
          "mesh3d": [
           {
            "colorbar": {
             "outlinewidth": 0,
             "ticks": ""
            },
            "type": "mesh3d"
           }
          ],
          "parcoords": [
           {
            "line": {
             "colorbar": {
              "outlinewidth": 0,
              "ticks": ""
             }
            },
            "type": "parcoords"
           }
          ],
          "pie": [
           {
            "automargin": true,
            "type": "pie"
           }
          ],
          "scatter": [
           {
            "fillpattern": {
             "fillmode": "overlay",
             "size": 10,
             "solidity": 0.2
            },
            "type": "scatter"
           }
          ],
          "scatter3d": [
           {
            "line": {
             "colorbar": {
              "outlinewidth": 0,
              "ticks": ""
             }
            },
            "marker": {
             "colorbar": {
              "outlinewidth": 0,
              "ticks": ""
             }
            },
            "type": "scatter3d"
           }
          ],
          "scattercarpet": [
           {
            "marker": {
             "colorbar": {
              "outlinewidth": 0,
              "ticks": ""
             }
            },
            "type": "scattercarpet"
           }
          ],
          "scattergeo": [
           {
            "marker": {
             "colorbar": {
              "outlinewidth": 0,
              "ticks": ""
             }
            },
            "type": "scattergeo"
           }
          ],
          "scattergl": [
           {
            "marker": {
             "colorbar": {
              "outlinewidth": 0,
              "ticks": ""
             }
            },
            "type": "scattergl"
           }
          ],
          "scattermapbox": [
           {
            "marker": {
             "colorbar": {
              "outlinewidth": 0,
              "ticks": ""
             }
            },
            "type": "scattermapbox"
           }
          ],
          "scatterpolar": [
           {
            "marker": {
             "colorbar": {
              "outlinewidth": 0,
              "ticks": ""
             }
            },
            "type": "scatterpolar"
           }
          ],
          "scatterpolargl": [
           {
            "marker": {
             "colorbar": {
              "outlinewidth": 0,
              "ticks": ""
             }
            },
            "type": "scatterpolargl"
           }
          ],
          "scatterternary": [
           {
            "marker": {
             "colorbar": {
              "outlinewidth": 0,
              "ticks": ""
             }
            },
            "type": "scatterternary"
           }
          ],
          "surface": [
           {
            "colorbar": {
             "outlinewidth": 0,
             "ticks": ""
            },
            "colorscale": [
             [
              0,
              "#0d0887"
             ],
             [
              0.1111111111111111,
              "#46039f"
             ],
             [
              0.2222222222222222,
              "#7201a8"
             ],
             [
              0.3333333333333333,
              "#9c179e"
             ],
             [
              0.4444444444444444,
              "#bd3786"
             ],
             [
              0.5555555555555556,
              "#d8576b"
             ],
             [
              0.6666666666666666,
              "#ed7953"
             ],
             [
              0.7777777777777778,
              "#fb9f3a"
             ],
             [
              0.8888888888888888,
              "#fdca26"
             ],
             [
              1,
              "#f0f921"
             ]
            ],
            "type": "surface"
           }
          ],
          "table": [
           {
            "cells": {
             "fill": {
              "color": "#EBF0F8"
             },
             "line": {
              "color": "white"
             }
            },
            "header": {
             "fill": {
              "color": "#C8D4E3"
             },
             "line": {
              "color": "white"
             }
            },
            "type": "table"
           }
          ]
         },
         "layout": {
          "annotationdefaults": {
           "arrowcolor": "#2a3f5f",
           "arrowhead": 0,
           "arrowwidth": 1
          },
          "autotypenumbers": "strict",
          "coloraxis": {
           "colorbar": {
            "outlinewidth": 0,
            "ticks": ""
           }
          },
          "colorscale": {
           "diverging": [
            [
             0,
             "#8e0152"
            ],
            [
             0.1,
             "#c51b7d"
            ],
            [
             0.2,
             "#de77ae"
            ],
            [
             0.3,
             "#f1b6da"
            ],
            [
             0.4,
             "#fde0ef"
            ],
            [
             0.5,
             "#f7f7f7"
            ],
            [
             0.6,
             "#e6f5d0"
            ],
            [
             0.7,
             "#b8e186"
            ],
            [
             0.8,
             "#7fbc41"
            ],
            [
             0.9,
             "#4d9221"
            ],
            [
             1,
             "#276419"
            ]
           ],
           "sequential": [
            [
             0,
             "#0d0887"
            ],
            [
             0.1111111111111111,
             "#46039f"
            ],
            [
             0.2222222222222222,
             "#7201a8"
            ],
            [
             0.3333333333333333,
             "#9c179e"
            ],
            [
             0.4444444444444444,
             "#bd3786"
            ],
            [
             0.5555555555555556,
             "#d8576b"
            ],
            [
             0.6666666666666666,
             "#ed7953"
            ],
            [
             0.7777777777777778,
             "#fb9f3a"
            ],
            [
             0.8888888888888888,
             "#fdca26"
            ],
            [
             1,
             "#f0f921"
            ]
           ],
           "sequentialminus": [
            [
             0,
             "#0d0887"
            ],
            [
             0.1111111111111111,
             "#46039f"
            ],
            [
             0.2222222222222222,
             "#7201a8"
            ],
            [
             0.3333333333333333,
             "#9c179e"
            ],
            [
             0.4444444444444444,
             "#bd3786"
            ],
            [
             0.5555555555555556,
             "#d8576b"
            ],
            [
             0.6666666666666666,
             "#ed7953"
            ],
            [
             0.7777777777777778,
             "#fb9f3a"
            ],
            [
             0.8888888888888888,
             "#fdca26"
            ],
            [
             1,
             "#f0f921"
            ]
           ]
          },
          "colorway": [
           "#636efa",
           "#EF553B",
           "#00cc96",
           "#ab63fa",
           "#FFA15A",
           "#19d3f3",
           "#FF6692",
           "#B6E880",
           "#FF97FF",
           "#FECB52"
          ],
          "font": {
           "color": "#2a3f5f"
          },
          "geo": {
           "bgcolor": "white",
           "lakecolor": "white",
           "landcolor": "#E5ECF6",
           "showlakes": true,
           "showland": true,
           "subunitcolor": "white"
          },
          "hoverlabel": {
           "align": "left"
          },
          "hovermode": "closest",
          "mapbox": {
           "style": "light"
          },
          "paper_bgcolor": "white",
          "plot_bgcolor": "#E5ECF6",
          "polar": {
           "angularaxis": {
            "gridcolor": "white",
            "linecolor": "white",
            "ticks": ""
           },
           "bgcolor": "#E5ECF6",
           "radialaxis": {
            "gridcolor": "white",
            "linecolor": "white",
            "ticks": ""
           }
          },
          "scene": {
           "xaxis": {
            "backgroundcolor": "#E5ECF6",
            "gridcolor": "white",
            "gridwidth": 2,
            "linecolor": "white",
            "showbackground": true,
            "ticks": "",
            "zerolinecolor": "white"
           },
           "yaxis": {
            "backgroundcolor": "#E5ECF6",
            "gridcolor": "white",
            "gridwidth": 2,
            "linecolor": "white",
            "showbackground": true,
            "ticks": "",
            "zerolinecolor": "white"
           },
           "zaxis": {
            "backgroundcolor": "#E5ECF6",
            "gridcolor": "white",
            "gridwidth": 2,
            "linecolor": "white",
            "showbackground": true,
            "ticks": "",
            "zerolinecolor": "white"
           }
          },
          "shapedefaults": {
           "line": {
            "color": "#2a3f5f"
           }
          },
          "ternary": {
           "aaxis": {
            "gridcolor": "white",
            "linecolor": "white",
            "ticks": ""
           },
           "baxis": {
            "gridcolor": "white",
            "linecolor": "white",
            "ticks": ""
           },
           "bgcolor": "#E5ECF6",
           "caxis": {
            "gridcolor": "white",
            "linecolor": "white",
            "ticks": ""
           }
          },
          "title": {
           "x": 0.05
          },
          "xaxis": {
           "automargin": true,
           "gridcolor": "white",
           "linecolor": "white",
           "ticks": "",
           "title": {
            "standoff": 15
           },
           "zerolinecolor": "white",
           "zerolinewidth": 2
          },
          "yaxis": {
           "automargin": true,
           "gridcolor": "white",
           "linecolor": "white",
           "ticks": "",
           "title": {
            "standoff": 15
           },
           "zerolinecolor": "white",
           "zerolinewidth": 2
          }
         }
        },
        "xaxis": {
         "anchor": "y2",
         "domain": [
          0,
          1
         ],
         "zeroline": false
        },
        "yaxis": {
         "anchor": "free",
         "domain": [
          0.35,
          1
         ],
         "position": 0
        },
        "yaxis2": {
         "anchor": "x",
         "domain": [
          0,
          0.25
         ],
         "dtick": 1,
         "showticklabels": false
        }
       }
      }
     },
     "metadata": {},
     "output_type": "display_data"
    }
   ],
   "source": [
    "ff.create_distplot([x1, x2], group_labels=['Normal1', 'Normal 2'])"
   ]
  },
  {
   "cell_type": "code",
   "execution_count": 13,
   "metadata": {},
   "outputs": [
    {
     "data": {
      "text/html": [
       "<div>\n",
       "<style scoped>\n",
       "    .dataframe tbody tr th:only-of-type {\n",
       "        vertical-align: middle;\n",
       "    }\n",
       "\n",
       "    .dataframe tbody tr th {\n",
       "        vertical-align: top;\n",
       "    }\n",
       "\n",
       "    .dataframe thead th {\n",
       "        text-align: right;\n",
       "    }\n",
       "</style>\n",
       "<table border=\"1\" class=\"dataframe\">\n",
       "  <thead>\n",
       "    <tr style=\"text-align: right;\">\n",
       "      <th></th>\n",
       "      <th>total_bill</th>\n",
       "      <th>tip</th>\n",
       "      <th>sex</th>\n",
       "      <th>smoker</th>\n",
       "      <th>day</th>\n",
       "      <th>time</th>\n",
       "      <th>size</th>\n",
       "    </tr>\n",
       "  </thead>\n",
       "  <tbody>\n",
       "    <tr>\n",
       "      <th>0</th>\n",
       "      <td>16.99</td>\n",
       "      <td>1.01</td>\n",
       "      <td>Female</td>\n",
       "      <td>No</td>\n",
       "      <td>Sun</td>\n",
       "      <td>Dinner</td>\n",
       "      <td>2</td>\n",
       "    </tr>\n",
       "    <tr>\n",
       "      <th>1</th>\n",
       "      <td>10.34</td>\n",
       "      <td>1.66</td>\n",
       "      <td>Male</td>\n",
       "      <td>No</td>\n",
       "      <td>Sun</td>\n",
       "      <td>Dinner</td>\n",
       "      <td>3</td>\n",
       "    </tr>\n",
       "    <tr>\n",
       "      <th>2</th>\n",
       "      <td>21.01</td>\n",
       "      <td>3.50</td>\n",
       "      <td>Male</td>\n",
       "      <td>No</td>\n",
       "      <td>Sun</td>\n",
       "      <td>Dinner</td>\n",
       "      <td>3</td>\n",
       "    </tr>\n",
       "    <tr>\n",
       "      <th>3</th>\n",
       "      <td>23.68</td>\n",
       "      <td>3.31</td>\n",
       "      <td>Male</td>\n",
       "      <td>No</td>\n",
       "      <td>Sun</td>\n",
       "      <td>Dinner</td>\n",
       "      <td>2</td>\n",
       "    </tr>\n",
       "    <tr>\n",
       "      <th>4</th>\n",
       "      <td>24.59</td>\n",
       "      <td>3.61</td>\n",
       "      <td>Female</td>\n",
       "      <td>No</td>\n",
       "      <td>Sun</td>\n",
       "      <td>Dinner</td>\n",
       "      <td>4</td>\n",
       "    </tr>\n",
       "  </tbody>\n",
       "</table>\n",
       "</div>"
      ],
      "text/plain": [
       "   total_bill   tip     sex smoker  day    time  size\n",
       "0       16.99  1.01  Female     No  Sun  Dinner     2\n",
       "1       10.34  1.66    Male     No  Sun  Dinner     3\n",
       "2       21.01  3.50    Male     No  Sun  Dinner     3\n",
       "3       23.68  3.31    Male     No  Sun  Dinner     2\n",
       "4       24.59  3.61  Female     No  Sun  Dinner     4"
      ]
     },
     "execution_count": 13,
     "metadata": {},
     "output_type": "execute_result"
    }
   ],
   "source": [
    "df.head()"
   ]
  },
  {
   "cell_type": "code",
   "execution_count": 22,
   "metadata": {},
   "outputs": [
    {
     "data": {
      "application/vnd.plotly.v1+json": {
       "config": {
        "plotlyServerURL": "https://plot.ly"
       },
       "data": [
        {
         "autobinx": false,
         "histnorm": "probability density",
         "legendgroup": "Total bill",
         "marker": {
          "color": "rgb(31, 119, 180)"
         },
         "name": "Total bill",
         "opacity": 0.7,
         "type": "histogram",
         "x": [
          16.99,
          10.34,
          21.01,
          23.68,
          24.59,
          25.29,
          8.77,
          26.88,
          15.04,
          14.78,
          10.27,
          35.26,
          15.42,
          18.43,
          14.83,
          21.58,
          10.33,
          16.29,
          16.97,
          20.65,
          17.92,
          20.29,
          15.77,
          39.42,
          19.82,
          17.81,
          13.37,
          12.69,
          21.7,
          19.65,
          9.55,
          18.35,
          15.06,
          20.69,
          17.78,
          24.06,
          16.31,
          16.93,
          18.69,
          31.27,
          16.04,
          17.46,
          13.94,
          9.68,
          30.4,
          18.29,
          22.23,
          32.4,
          28.55,
          18.04,
          12.54,
          10.29,
          34.81,
          9.94,
          25.56,
          19.49,
          38.01,
          26.41,
          11.24,
          48.27,
          20.29,
          13.81,
          11.02,
          18.29,
          17.59,
          20.08,
          16.45,
          3.07,
          20.23,
          15.01,
          12.02,
          17.07,
          26.86,
          25.28,
          14.73,
          10.51,
          17.92,
          27.2,
          22.76,
          17.29,
          19.44,
          16.66,
          10.07,
          32.68,
          15.98,
          34.83,
          13.03,
          18.28,
          24.71,
          21.16,
          28.97,
          22.49,
          5.75,
          16.32,
          22.75,
          40.17,
          27.28,
          12.03,
          21.01,
          12.46,
          11.35,
          15.38,
          44.3,
          22.42,
          20.92,
          15.36,
          20.49,
          25.21,
          18.24,
          14.31,
          14,
          7.25,
          38.07,
          23.95,
          25.71,
          17.31,
          29.93,
          10.65,
          12.43,
          24.08,
          11.69,
          13.42,
          14.26,
          15.95,
          12.48,
          29.8,
          8.52,
          14.52,
          11.38,
          22.82,
          19.08,
          20.27,
          11.17,
          12.26,
          18.26,
          8.51,
          10.33,
          14.15,
          16,
          13.16,
          17.47,
          34.3,
          41.19,
          27.05,
          16.43,
          8.35,
          18.64,
          11.87,
          9.78,
          7.51,
          14.07,
          13.13,
          17.26,
          24.55,
          19.77,
          29.85,
          48.17,
          25,
          13.39,
          16.49,
          21.5,
          12.66,
          16.21,
          13.81,
          17.51,
          24.52,
          20.76,
          31.71,
          10.59,
          10.63,
          50.81,
          15.81,
          7.25,
          31.85,
          16.82,
          32.9,
          17.89,
          14.48,
          9.6,
          34.63,
          34.65,
          23.33,
          45.35,
          23.17,
          40.55,
          20.69,
          20.9,
          30.46,
          18.15,
          23.1,
          15.69,
          19.81,
          28.44,
          15.48,
          16.58,
          7.56,
          10.34,
          43.11,
          13,
          13.51,
          18.71,
          12.74,
          13,
          16.4,
          20.53,
          16.47,
          26.59,
          38.73,
          24.27,
          12.76,
          30.06,
          25.89,
          48.33,
          13.27,
          28.17,
          12.9,
          28.15,
          11.59,
          7.74,
          30.14,
          12.16,
          13.42,
          8.58,
          15.98,
          13.42,
          16.27,
          10.09,
          20.45,
          13.28,
          22.12,
          24.01,
          15.69,
          11.61,
          10.77,
          15.53,
          10.07,
          12.6,
          32.83,
          35.83,
          29.03,
          27.18,
          22.67,
          17.82,
          18.78
         ],
         "xaxis": "x",
         "xbins": {
          "end": 50.81,
          "size": 1,
          "start": 3.07
         },
         "yaxis": "y"
        },
        {
         "autobinx": false,
         "histnorm": "probability density",
         "legendgroup": "Tips",
         "marker": {
          "color": "rgb(255, 127, 14)"
         },
         "name": "Tips",
         "opacity": 0.7,
         "type": "histogram",
         "x": [
          1.01,
          1.66,
          3.5,
          3.31,
          3.61,
          4.71,
          2,
          3.12,
          1.96,
          3.23,
          1.71,
          5,
          1.57,
          3,
          3.02,
          3.92,
          1.67,
          3.71,
          3.5,
          3.35,
          4.08,
          2.75,
          2.23,
          7.58,
          3.18,
          2.34,
          2,
          2,
          4.3,
          3,
          1.45,
          2.5,
          3,
          2.45,
          3.27,
          3.6,
          2,
          3.07,
          2.31,
          5,
          2.24,
          2.54,
          3.06,
          1.32,
          5.6,
          3,
          5,
          6,
          2.05,
          3,
          2.5,
          2.6,
          5.2,
          1.56,
          4.34,
          3.51,
          3,
          1.5,
          1.76,
          6.73,
          3.21,
          2,
          1.98,
          3.76,
          2.64,
          3.15,
          2.47,
          1,
          2.01,
          2.09,
          1.97,
          3,
          3.14,
          5,
          2.2,
          1.25,
          3.08,
          4,
          3,
          2.71,
          3,
          3.4,
          1.83,
          5,
          2.03,
          5.17,
          2,
          4,
          5.85,
          3,
          3,
          3.5,
          1,
          4.3,
          3.25,
          4.73,
          4,
          1.5,
          3,
          1.5,
          2.5,
          3,
          2.5,
          3.48,
          4.08,
          1.64,
          4.06,
          4.29,
          3.76,
          4,
          3,
          1,
          4,
          2.55,
          4,
          3.5,
          5.07,
          1.5,
          1.8,
          2.92,
          2.31,
          1.68,
          2.5,
          2,
          2.52,
          4.2,
          1.48,
          2,
          2,
          2.18,
          1.5,
          2.83,
          1.5,
          2,
          3.25,
          1.25,
          2,
          2,
          2,
          2.75,
          3.5,
          6.7,
          5,
          5,
          2.3,
          1.5,
          1.36,
          1.63,
          1.73,
          2,
          2.5,
          2,
          2.74,
          2,
          2,
          5.14,
          5,
          3.75,
          2.61,
          2,
          3.5,
          2.5,
          2,
          2,
          3,
          3.48,
          2.24,
          4.5,
          1.61,
          2,
          10,
          3.16,
          5.15,
          3.18,
          4,
          3.11,
          2,
          2,
          4,
          3.55,
          3.68,
          5.65,
          3.5,
          6.5,
          3,
          5,
          3.5,
          2,
          3.5,
          4,
          1.5,
          4.19,
          2.56,
          2.02,
          4,
          1.44,
          2,
          5,
          2,
          2,
          4,
          2.01,
          2,
          2.5,
          4,
          3.23,
          3.41,
          3,
          2.03,
          2.23,
          2,
          5.16,
          9,
          2.5,
          6.5,
          1.1,
          3,
          1.5,
          1.44,
          3.09,
          2.2,
          3.48,
          1.92,
          3,
          1.58,
          2.5,
          2,
          3,
          2.72,
          2.88,
          2,
          3,
          3.39,
          1.47,
          3,
          1.25,
          1,
          1.17,
          4.67,
          5.92,
          2,
          2,
          1.75,
          3
         ],
         "xaxis": "x",
         "xbins": {
          "end": 10,
          "size": 1,
          "start": 1
         },
         "yaxis": "y"
        },
        {
         "legendgroup": "Total bill",
         "marker": {
          "color": "rgb(31, 119, 180)"
         },
         "mode": "lines",
         "name": "Total bill",
         "showlegend": false,
         "type": "scatter",
         "x": [
          3.07,
          3.1654799999999996,
          3.26096,
          3.3564399999999996,
          3.45192,
          3.5473999999999997,
          3.64288,
          3.73836,
          3.83384,
          3.9293199999999997,
          4.0248,
          4.120279999999999,
          4.2157599999999995,
          4.31124,
          4.40672,
          4.5022,
          4.59768,
          4.69316,
          4.78864,
          4.88412,
          4.9796,
          5.07508,
          5.17056,
          5.26604,
          5.36152,
          5.457,
          5.552479999999999,
          5.647959999999999,
          5.74344,
          5.83892,
          5.9344,
          6.02988,
          6.125360000000001,
          6.22084,
          6.31632,
          6.4117999999999995,
          6.50728,
          6.60276,
          6.69824,
          6.79372,
          6.889200000000001,
          6.98468,
          7.080159999999999,
          7.17564,
          7.27112,
          7.3666,
          7.46208,
          7.5575600000000005,
          7.653039999999999,
          7.748520000000001,
          7.843999999999999,
          7.93948,
          8.03496,
          8.13044,
          8.22592,
          8.3214,
          8.41688,
          8.512360000000001,
          8.60784,
          8.70332,
          8.7988,
          8.89428,
          8.98976,
          9.08524,
          9.18072,
          9.2762,
          9.37168,
          9.46716,
          9.56264,
          9.65812,
          9.7536,
          9.849079999999999,
          9.944560000000001,
          10.04004,
          10.13552,
          10.231,
          10.32648,
          10.42196,
          10.51744,
          10.61292,
          10.708400000000001,
          10.80388,
          10.89936,
          10.99484,
          11.09032,
          11.1858,
          11.28128,
          11.37676,
          11.47224,
          11.567720000000001,
          11.663200000000002,
          11.75868,
          11.85416,
          11.949640000000002,
          12.04512,
          12.140600000000001,
          12.23608,
          12.33156,
          12.427040000000002,
          12.52252,
          12.618,
          12.71348,
          12.80896,
          12.904440000000001,
          12.99992,
          13.0954,
          13.190880000000002,
          13.28636,
          13.38184,
          13.47732,
          13.5728,
          13.668280000000001,
          13.763760000000001,
          13.85924,
          13.954720000000002,
          14.0502,
          14.14568,
          14.24116,
          14.336640000000001,
          14.432120000000001,
          14.527600000000001,
          14.62308,
          14.718560000000002,
          14.81404,
          14.90952,
          15.005,
          15.100480000000001,
          15.195960000000001,
          15.291440000000001,
          15.38692,
          15.4824,
          15.577880000000002,
          15.67336,
          15.76884,
          15.86432,
          15.959800000000001,
          16.05528,
          16.15076,
          16.24624,
          16.341720000000002,
          16.4372,
          16.53268,
          16.628159999999998,
          16.72364,
          16.81912,
          16.9146,
          17.01008,
          17.10556,
          17.20104,
          17.29652,
          17.392,
          17.48748,
          17.58296,
          17.67844,
          17.77392,
          17.869400000000002,
          17.96488,
          18.06036,
          18.15584,
          18.25132,
          18.3468,
          18.44228,
          18.53776,
          18.63324,
          18.72872,
          18.8242,
          18.91968,
          19.015159999999998,
          19.11064,
          19.206120000000002,
          19.3016,
          19.39708,
          19.49256,
          19.58804,
          19.68352,
          19.779,
          19.87448,
          19.96996,
          20.065440000000002,
          20.16092,
          20.256400000000003,
          20.35188,
          20.44736,
          20.54284,
          20.63832,
          20.7338,
          20.829280000000004,
          20.924760000000003,
          21.02024,
          21.115720000000003,
          21.2112,
          21.30668,
          21.40216,
          21.49764,
          21.59312,
          21.6886,
          21.784080000000003,
          21.87956,
          21.97504,
          22.070520000000002,
          22.166,
          22.26148,
          22.35696,
          22.452440000000003,
          22.54792,
          22.643400000000003,
          22.73888,
          22.83436,
          22.92984,
          23.02532,
          23.1208,
          23.21628,
          23.311760000000003,
          23.40724,
          23.50272,
          23.598200000000002,
          23.69368,
          23.78916,
          23.88464,
          23.980120000000003,
          24.0756,
          24.171080000000003,
          24.266560000000002,
          24.36204,
          24.457520000000002,
          24.553,
          24.64848,
          24.743959999999998,
          24.839440000000003,
          24.93492,
          25.0304,
          25.125880000000002,
          25.22136,
          25.31684,
          25.41232,
          25.5078,
          25.60328,
          25.698760000000004,
          25.794240000000002,
          25.88972,
          25.985200000000003,
          26.08068,
          26.17616,
          26.27164,
          26.367120000000003,
          26.462600000000002,
          26.55808,
          26.653560000000002,
          26.74904,
          26.84452,
          26.94,
          27.03548,
          27.13096,
          27.226440000000004,
          27.321920000000002,
          27.4174,
          27.512880000000003,
          27.60836,
          27.70384,
          27.79932,
          27.8948,
          27.990280000000002,
          28.085760000000004,
          28.181240000000003,
          28.27672,
          28.3722,
          28.46768,
          28.56316,
          28.65864,
          28.754120000000004,
          28.849600000000002,
          28.94508,
          29.040560000000003,
          29.13604,
          29.23152,
          29.327,
          29.42248,
          29.517960000000002,
          29.613440000000004,
          29.708920000000003,
          29.8044,
          29.89988,
          29.99536,
          30.09084,
          30.18632,
          30.281800000000004,
          30.377280000000003,
          30.47276,
          30.568240000000003,
          30.66372,
          30.7592,
          30.854680000000002,
          30.95016,
          31.04564,
          31.141120000000004,
          31.236600000000003,
          31.33208,
          31.427560000000003,
          31.52304,
          31.61852,
          31.714,
          31.80948,
          31.904960000000003,
          32.00044,
          32.09592,
          32.1914,
          32.28688,
          32.38236,
          32.47784,
          32.573319999999995,
          32.668800000000005,
          32.76428,
          32.85976,
          32.95524,
          33.05072,
          33.1462,
          33.24168,
          33.33716,
          33.43264,
          33.52812,
          33.6236,
          33.71908,
          33.81456,
          33.91004,
          34.00552,
          34.101,
          34.19648,
          34.29196,
          34.38744,
          34.48292,
          34.5784,
          34.67388,
          34.76936,
          34.86484,
          34.960319999999996,
          35.055800000000005,
          35.15128,
          35.24676,
          35.342240000000004,
          35.43772,
          35.5332,
          35.62868,
          35.72416,
          35.81964000000001,
          35.91512,
          36.0106,
          36.10608,
          36.20156000000001,
          36.29704,
          36.392520000000005,
          36.488,
          36.58348,
          36.67896,
          36.774440000000006,
          36.86992,
          36.9654,
          37.060880000000004,
          37.15636,
          37.25184,
          37.34732,
          37.442800000000005,
          37.53828,
          37.63376,
          37.72924,
          37.82472,
          37.9202,
          38.01568,
          38.111160000000005,
          38.20664,
          38.30212,
          38.3976,
          38.49308,
          38.58856000000001,
          38.68404,
          38.779520000000005,
          38.875,
          38.97048,
          39.06596,
          39.161440000000006,
          39.25692,
          39.3524,
          39.447880000000005,
          39.54336,
          39.63884,
          39.73432,
          39.829800000000006,
          39.92528,
          40.02076,
          40.11624,
          40.21172,
          40.3072,
          40.402680000000004,
          40.498160000000006,
          40.59364,
          40.68912,
          40.7846,
          40.88008,
          40.97556000000001,
          41.07104,
          41.166520000000006,
          41.262,
          41.35748,
          41.45296,
          41.54844,
          41.64392,
          41.7394,
          41.834880000000005,
          41.93036,
          42.02584,
          42.12132,
          42.216800000000006,
          42.31228,
          42.40776,
          42.503240000000005,
          42.59872,
          42.6942,
          42.78968,
          42.885160000000006,
          42.98064,
          43.07612,
          43.1716,
          43.26708,
          43.36256,
          43.458040000000004,
          43.553520000000006,
          43.649,
          43.74448,
          43.83996,
          43.93544,
          44.03092,
          44.126400000000004,
          44.221880000000006,
          44.31736,
          44.41284,
          44.50832,
          44.6038,
          44.69928,
          44.794760000000004,
          44.890240000000006,
          44.98572,
          45.0812,
          45.17668,
          45.27216000000001,
          45.36764,
          45.46312,
          45.5586,
          45.65408,
          45.74956,
          45.845040000000004,
          45.94052000000001,
          46.036,
          46.13148,
          46.22696,
          46.32244,
          46.417919999999995,
          46.513400000000004,
          46.608880000000006,
          46.70436,
          46.79984,
          46.89532,
          46.9908,
          47.08628,
          47.181760000000004,
          47.277240000000006,
          47.37272,
          47.4682,
          47.56368,
          47.65916000000001,
          47.75464,
          47.850120000000004,
          47.9456,
          48.04108,
          48.13656,
          48.23204,
          48.32752000000001,
          48.423,
          48.518480000000004,
          48.61396,
          48.70944,
          48.80492,
          48.900400000000005,
          48.99588000000001,
          49.09136,
          49.186840000000004,
          49.28232,
          49.3778,
          49.47328,
          49.568760000000005,
          49.66424000000001,
          49.75972,
          49.8552,
          49.95068,
          50.04616,
          50.14164,
          50.237120000000004,
          50.3326,
          50.42808,
          50.52356,
          50.61904,
          50.71452000000001
         ],
         "xaxis": "x",
         "y": [
          0.003118844344212389,
          0.0032691424479530263,
          0.003425748782301345,
          0.00358885502208896,
          0.003758652480277107,
          0.003935331599716789,
          0.004119081423794357,
          0.004310089047371787,
          0.004508539049576961,
          0.004714612910140355,
          0.004928488411110007,
          0.005150339025905103,
          0.005380333297790076,
          0.005618634209963662,
          0.005865398549561512,
          0.006120776267965019,
          0.006384909839892853,
          0.006657933623824754,
          0.006939973226368366,
          0.007231144873229745,
          0.0075315547894855665,
          0.00784129859187962,
          0.008160460695878174,
          0.008489113740218003,
          0.008827318031665999,
          0.009175121012682133,
          0.009532556754636526,
          0.009899645479176959,
          0.010276393110276059,
          0.010662790859406732,
          0.011058814846200861,
          0.011464425756840528,
          0.011879568542311883,
          0.012304172158521866,
          0.01273814935013482,
          0.013181396479832717,
          0.013633793404538049,
          0.014095203399962815,
          0.014565473134662875,
          0.015044432694582097,
          0.015531895658867801,
          0.0160276592275288,
          0.01653150440128839,
          0.017043196213760714,
          0.017562484015848763,
          0.0180891018120273,
          0.018622768647935346,
          0.01916318904846239,
          0.019710053505268346,
          0.020263039012435157,
          0.020821809648704025,
          0.021386017204512678,
          0.02195530185180769,
          0.02252929285437556,
          0.0231076093162074,
          0.023689860965193127,
          0.024275648969229326,
          0.02486456678162401,
          0.02545620101249208,
          0.026050132322659753,
          0.02664593633643355,
          0.027243184569445356,
          0.027841445367656825,
          0.028440284853496933,
          0.029039267875019262,
          0.029637958953897717,
          0.03023592322803522,
          0.030832727384540435,
          0.03142794057883059,
          0.032021135335649875,
          0.0326118884278483,
          0.03319978172884949,
          0.033784403034845444,
          0.03436534685289515,
          0.03494221515126736,
          0.03551461806856022,
          0.03608217457834879,
          0.036644513106355074,
          0.037201272097404245,
          0.037752100529723005,
          0.0382966583744505,
          0.03883461699856699,
          0.0393656595097991,
          0.039889481042431035,
          0.04040578898333281,
          0.04091430313791464,
          0.041414755836118235,
          0.04190689197896604,
          0.042390469026601645,
          0.042865256929165,
          0.04333103800225443,
          0.043787606749125345,
          0.044234769632165216,
          0.04467234479655804,
          0.04510016174940656,
          0.04551806099791594,
          0.04592589365055049,
          0.046323520985358156,
          0.0467108139899059,
          0.047087652877486515,
          0.04745392658443634,
          0.04780953225354488,
          0.048154374708636115,
          0.04848836592545945,
          0.048811424504041204,
          0.04912347514761711,
          0.04942444815318831,
          0.0497142789186228,
          0.04999290747105795,
          0.05026027802114802,
          0.050516338547448913,
          0.05076104041493735,
          0.05099433803133034,
          0.0512161885445019,
          0.05142655158389319,
          0.05162538904838112,
          0.0518126649426168,
          0.051988345263365515,
          0.052152397936887876,
          0.052304792807895226,
          0.05244550168009889,
          0.05257449840785811,
          0.05269175903791735,
          0.05279726199972064,
          0.052890988342297274,
          0.05297292201524046,
          0.05304305019084828,
          0.053101363624073535,
          0.05314785704653752,
          0.05318252959050333,
          0.05320538523839268,
          0.05321643329314955,
          0.053215688864531194,
          0.05320317336621953,
          0.0531789150185189,
          0.05314294935132165,
          0.05309531970199465,
          0.05303607770285882,
          0.052965283753009004,
          0.05288300746934113,
          0.05278932811182472,
          0.05268433497827693,
          0.05256812776415306,
          0.052440816883171135,
          0.0523025237449264,
          0.05215338098602498,
          0.05199353265166531,
          0.051823134325026006,
          0.05164235320226389,
          0.0514513681113899,
          0.051250369473764136,
          0.05103955920743286,
          0.050819150572009135,
          0.050589367955278804,
          0.050350446602181874,
          0.05010263228727668,
          0.049846180932235085,
          0.0495813581703348,
          0.04930843886031349,
          0.04902770655231423,
          0.04873945290899125,
          0.04844397708515073,
          0.04814158506957024,
          0.04783258899287699,
          0.04751730640556029,
          0.04719605953035474,
          0.046869174493350874,
          0.0465369805382729,
          0.046199809228409945,
          0.04585799364069589,
          0.045511867556406106,
          0.04516176465288169,
          0.044808017700597676,
          0.044450957769773085,
          0.04409091345056889,
          0.04372821009074981,
          0.04336316905448538,
          0.042996107005752696,
          0.0426273352195681,
          0.04225715892402801,
          0.04188587667587755,
          0.041513779772058994,
          0.041141151699414215,
          0.04076826762443489,
          0.040395393924674144,
          0.04002278776314824,
          0.039650696706778496,
          0.03927935838964751,
          0.03890900022157123,
          0.03853983914222713,
          0.038172081420821014,
          0.03780592250103058,
          0.03744154689072781,
          0.037079128095757294,
          0.03671882859683591,
          0.03636079986843957,
          0.036005182438354454,
          0.035652105986397196,
          0.03530168948064849,
          0.0349540413493958,
          0.034609259686851045,
          0.03426743249058626,
          0.03392863792852692,
          0.033592944633250944,
          0.03326041202126187,
          0.03293109063484118,
          0.032605022504034416,
          0.032282241526287114,
          0.03196277386122381,
          0.03164663833805208,
          0.031333846873076485,
          0.031024404894822395,
          0.030718311774299123,
          0.030415561257971797,
          0.03011614190106609,
          0.029820037498895464,
          0.029527227513978405,
          0.029237687496802695,
          0.028951389498193647,
          0.028668302471355864,
          0.028388392661776608,
          0.028111623983311934,
          0.027837958378913497,
          0.02756735616460249,
          0.027299776355448516,
          0.027035176972472888,
          0.02677351532955758,
          0.02651474829961021,
          0.026258832559404328,
          0.02600572481268568,
          0.02575538199130533,
          0.025507761434310283,
          0.025262821045087366,
          0.02502051942681873,
          0.024780815996662695,
          0.02454367107922339,
          0.02430904598001264,
          0.024076903039739698,
          0.02384720567038477,
          0.023619918374121078,
          0.02339500674624792,
          0.023172437463379648,
          0.022952178258204975,
          0.022734197882186884,
          0.0225184660576132,
          0.022304953420432608,
          0.022093631455322976,
          0.021884472424433518,
          0.021677449291223363,
          0.021472535640787514,
          0.021269705598015387,
          0.021068933744867364,
          0.02087019503798724,
          0.0206734647277871,
          0.02047871828005241,
          0.020285931301018027,
          0.020095079466762474,
          0.019906138457659456,
          0.01971908389851357,
          0.019533891304893063,
          0.019350536036058765,
          0.019168993254774534,
          0.01898923789417397,
          0.01881124463175187,
          0.01863498787044624,
          0.01846044172668318,
          0.018287580025168424,
          0.018116376300130882,
          0.017946803802654274,
          0.01777883551367369,
          0.017612444162164842,
          0.01744760224801649,
          0.01728428206905002,
          0.017122455751634298,
          0.016962095284339715,
          0.01680317255408135,
          0.016645659384217217,
          0.016489527574093308,
          0.016334748939560672,
          0.016181295354031976,
          0.01602913878969291,
          0.015878251358537248,
          0.01572860535295224,
          0.015580173285641288,
          0.015432927928732776,
          0.015286842351986385,
          0.015141889960068442,
          0.01499804452892658,
          0.014855280241348275,
          0.014713571721837576,
          0.01457289407098731,
          0.014433222899560668,
          0.014294534362524754,
          0.01415680519329742,
          0.014020012738480645,
          0.01388413499335367,
          0.01374915063839059,
          0.013615039077048802,
          0.013481780475046053,
          0.013349355801306487,
          0.013217746870709682,
          0.013086936388722263,
          0.012956907997930173,
          0.012827646326421147,
          0.012699137037894924,
          0.012571366883301233,
          0.012444323753726566,
          0.012317996734170434,
          0.012192376157772631,
          0.012067453659974168,
          0.011943222232021936,
          0.011819676273157031,
          0.01169681164076456,
          0.011574625697709005,
          0.01145311735603325,
          0.011332287116165452,
          0.01121213710075535,
          0.011092671082250373,
          0.010973894503325829,
          0.01085581448929993,
          0.010738439851695054,
          0.010621781082152486,
          0.010505850335967145,
          0.010390661404582386,
          0.010276229676471706,
          0.01016257208593398,
          0.01004970704944003,
          0.009937654389290135,
          0.009826435244473184,
          0.009716071968757074,
          0.009606588016184602,
          0.009498007814298413,
          0.009390356625569675,
          0.009283660397657581,
          0.00917794560327647,
          0.009073239070594036,
          0.008969567805225322,
          0.008866958805019712,
          0.008765438868962049,
          0.0086650344016208,
          0.008565771214674944,
          0.008467674327135207,
          0.00837076776594304,
          0.008275074368681086,
          0.008180615590160872,
          0.008087411314665994,
          0.007995479675622587,
          0.007904836884441647,
          0.00781549707023091,
          0.007727472132007424,
          0.007640771604956394,
          0.007555402542176766,
          0.007471369413232893,
          0.007388674020693034,
          0.007307315435682682,
          0.007227289953314043,
          0.007148591068676353,
          0.007071209473883698,
          0.0069951330764833385,
          0.00692034703932806,
          0.006846833841813536,
          0.006774573362179051,
          0.00670354298036892,
          0.006633717700754633,
          0.006565070293827214,
          0.006497571455786929,
          0.006431189984785597,
          0.006365892972417314,
          0.006301646008908286,
          0.006238413400326748,
          0.006176158396021688,
          0.00611484342440479,
          0.006054430335115359,
          0.005994880645552577,
          0.0059361557897249515,
          0.005878217367352781,
          0.005821027391165429,
          0.005764548530362179,
          0.005708744348251105,
          0.005653579532146221,
          0.005599020113685373,
          0.0055450336778319976,
          0.00549158955893863,
          0.0054386590223792835,
          0.005386215430399754,
          0.005334234390986215,
          0.005282693888714096,
          0.005231574396705896,
          0.005180858968999828,
          0.005130533312806007,
          0.005080585840303504,
          0.005031007699807124,
          0.004981792786305404,
          0.0049329377315399615,
          0.004884441873958296,
          0.004836307209027297,
          0.004788538320540223,
          0.00474114229368582,
          0.004694128610772737,
          0.004647509030614878,
          0.00460129745268331,
          0.004555509767216582,
          0.004510163692554846,
          0.004465278601021986,
          0.004420875334726278,
          0.004376976012681787,
          0.004333603830672456,
          0.004290782855287005,
          0.004248537813547828,
          0.004206893879540223,
          0.004165876459421702,
          0.004125510976154784,
          0.0040858226552618225,
          0.0040468363128488985,
          0.004008576147086865,
          0.003971065534274603,
          0.003934326830541698,
          0.0038983811801769313,
          0.0038632483314963106,
          0.00382894646109018,
          0.003795492007214942,
          0.003762899513020941,
          0.0037311814802358854,
          0.0037003482338523602,
          0.003670407798299917,
          0.0036413657855167594,
          0.0036132252952736275,
          0.003585986828043614,
          0.00355964821065576,
          0.0035342045349181493,
          0.0035096481093471904,
          0.0034859684240938662,
          0.0034631521291147937,
          0.0034411830255954867,
          0.003420042070595013,
          0.0033997073948448427,
          0.00338015433359976,
          0.0033613554704046197,
          0.0033432806936073657,
          0.0033258972654153242,
          0.0033091699032582905,
          0.0032930608731877044,
          0.0032775300950061027,
          0.0032625352587849032,
          0.0032480319523908855,
          0.0032339737996028507,
          0.0032203126083593632,
          0.0032069985286366553,
          0.003193980219412498,
          0.0031812050241275635,
          0.0031686191540106464,
          0.0031561678785884946,
          0.0031437957226553804,
          0.0031314466689322342,
          0.003119064365601017,
          0.003106592337857146,
          0.0030939742025823695,
          0.0030811538852026075,
          0.003068075837760914,
          0.0030546852572055218,
          0.003040928302867239,
          0.0030267523120801687,
          0.0030121060128853122,
          0.002996939732748488,
          0.0029812056022226825,
          0.0029648577524909337,
          0.002947852505739228,
          0.002930148557330028,
          0.002911707148776071,
          0.002892492230551015,
          0.0028724706138181393,
          0.0028516121102108816,
          0.0028298896588587114,
          0.002807279439918794,
          0.0027837609739474623,
          0.002759317206525201,
          0.0027339345776338266,
          0.0027076030753747653,
          0.0026803162737110064,
          0.002652071354012877,
          0.0026228691102871803,
          0.0025927139380706103,
          0.0025616138070700557,
          0.0025295802177339433,
          0.0024966281420390818,
          0.002462775948875599,
          0.002428045314507893,
          0.0023924611186807053,
          0.0023560513270263726,
          0.002318846860510573,
          0.002280881452729233,
          0.0022421914959380525,
          0.0022028158767574135,
          0.0021627958025494105,
          0.002122174619509587,
          0.002080997623553367,
          0.002039311865106332,
          0.001997165948927915,
          0.001954609830109948,
          0.0019116946073947487
         ],
         "yaxis": "y"
        },
        {
         "legendgroup": "Tips",
         "marker": {
          "color": "rgb(255, 127, 14)"
         },
         "mode": "lines",
         "name": "Tips",
         "showlegend": false,
         "type": "scatter",
         "x": [
          1,
          1.018,
          1.036,
          1.054,
          1.072,
          1.09,
          1.108,
          1.126,
          1.144,
          1.162,
          1.18,
          1.198,
          1.216,
          1.234,
          1.252,
          1.27,
          1.288,
          1.306,
          1.324,
          1.342,
          1.3599999999999999,
          1.3780000000000001,
          1.396,
          1.414,
          1.432,
          1.45,
          1.468,
          1.486,
          1.504,
          1.522,
          1.54,
          1.558,
          1.576,
          1.5939999999999999,
          1.612,
          1.63,
          1.6480000000000001,
          1.666,
          1.6840000000000002,
          1.702,
          1.72,
          1.738,
          1.756,
          1.774,
          1.792,
          1.81,
          1.8279999999999998,
          1.846,
          1.8639999999999999,
          1.8820000000000001,
          1.9,
          1.9180000000000001,
          1.936,
          1.954,
          1.972,
          1.99,
          2.008,
          2.026,
          2.044,
          2.0620000000000003,
          2.08,
          2.098,
          2.116,
          2.134,
          2.152,
          2.17,
          2.1879999999999997,
          2.206,
          2.224,
          2.242,
          2.26,
          2.278,
          2.2960000000000003,
          2.314,
          2.332,
          2.35,
          2.3680000000000003,
          2.386,
          2.404,
          2.4219999999999997,
          2.44,
          2.458,
          2.476,
          2.4939999999999998,
          2.512,
          2.5300000000000002,
          2.548,
          2.566,
          2.584,
          2.6020000000000003,
          2.62,
          2.638,
          2.6559999999999997,
          2.674,
          2.692,
          2.71,
          2.7279999999999998,
          2.746,
          2.7640000000000002,
          2.782,
          2.8,
          2.818,
          2.8360000000000003,
          2.854,
          2.872,
          2.8899999999999997,
          2.908,
          2.926,
          2.944,
          2.9619999999999997,
          2.98,
          2.998,
          3.016,
          3.034,
          3.052,
          3.07,
          3.088,
          3.106,
          3.124,
          3.142,
          3.16,
          3.178,
          3.196,
          3.214,
          3.232,
          3.25,
          3.268,
          3.286,
          3.304,
          3.322,
          3.34,
          3.358,
          3.376,
          3.394,
          3.412,
          3.43,
          3.448,
          3.466,
          3.484,
          3.502,
          3.52,
          3.538,
          3.556,
          3.574,
          3.592,
          3.61,
          3.628,
          3.646,
          3.664,
          3.682,
          3.7,
          3.718,
          3.736,
          3.754,
          3.772,
          3.79,
          3.808,
          3.826,
          3.844,
          3.862,
          3.88,
          3.898,
          3.916,
          3.934,
          3.952,
          3.97,
          3.988,
          4.006,
          4.024,
          4.042,
          4.0600000000000005,
          4.077999999999999,
          4.096,
          4.114,
          4.132,
          4.15,
          4.168,
          4.186,
          4.204000000000001,
          4.2219999999999995,
          4.24,
          4.258,
          4.276,
          4.2940000000000005,
          4.311999999999999,
          4.33,
          4.348,
          4.366,
          4.384,
          4.402,
          4.42,
          4.438000000000001,
          4.4559999999999995,
          4.474,
          4.492,
          4.51,
          4.5280000000000005,
          4.545999999999999,
          4.564,
          4.582,
          4.6,
          4.618,
          4.636,
          4.654,
          4.672000000000001,
          4.6899999999999995,
          4.708,
          4.726,
          4.744,
          4.7620000000000005,
          4.779999999999999,
          4.798,
          4.816,
          4.834,
          4.852,
          4.87,
          4.888,
          4.906000000000001,
          4.9239999999999995,
          4.942,
          4.96,
          4.978,
          4.996,
          5.014,
          5.032,
          5.05,
          5.068,
          5.086,
          5.104,
          5.122,
          5.14,
          5.158,
          5.176,
          5.194,
          5.212,
          5.23,
          5.248,
          5.266,
          5.284,
          5.302,
          5.32,
          5.338,
          5.356,
          5.374,
          5.392,
          5.41,
          5.428,
          5.446,
          5.464,
          5.482,
          5.5,
          5.518,
          5.536,
          5.554,
          5.572,
          5.59,
          5.608,
          5.626,
          5.644,
          5.662,
          5.68,
          5.698,
          5.716,
          5.734,
          5.752,
          5.77,
          5.788,
          5.806,
          5.824,
          5.842,
          5.86,
          5.878,
          5.896,
          5.914,
          5.932,
          5.95,
          5.968,
          5.986,
          6.004,
          6.022,
          6.04,
          6.058,
          6.076,
          6.094,
          6.112,
          6.13,
          6.148,
          6.166,
          6.184,
          6.202,
          6.22,
          6.238,
          6.256,
          6.274,
          6.292,
          6.31,
          6.328,
          6.346,
          6.364,
          6.382,
          6.4,
          6.418,
          6.436,
          6.454,
          6.472,
          6.49,
          6.508,
          6.526,
          6.544,
          6.562,
          6.58,
          6.598,
          6.616,
          6.634,
          6.652,
          6.67,
          6.688,
          6.706,
          6.724,
          6.742,
          6.76,
          6.778,
          6.796,
          6.814,
          6.832,
          6.85,
          6.868,
          6.886,
          6.904,
          6.922,
          6.94,
          6.958,
          6.976,
          6.994,
          7.012,
          7.03,
          7.048,
          7.066,
          7.084,
          7.102,
          7.12,
          7.138,
          7.156,
          7.174,
          7.192,
          7.21,
          7.228,
          7.246,
          7.264,
          7.282,
          7.3,
          7.318,
          7.336,
          7.354,
          7.372,
          7.39,
          7.408,
          7.426,
          7.444,
          7.462,
          7.48,
          7.498,
          7.516,
          7.534,
          7.552,
          7.57,
          7.588,
          7.606,
          7.624,
          7.642,
          7.66,
          7.678,
          7.696,
          7.714,
          7.732,
          7.75,
          7.768,
          7.786,
          7.804,
          7.822,
          7.84,
          7.858,
          7.876,
          7.894,
          7.912,
          7.93,
          7.948,
          7.966,
          7.984,
          8.001999999999999,
          8.02,
          8.038,
          8.056000000000001,
          8.074,
          8.091999999999999,
          8.11,
          8.128,
          8.146,
          8.164,
          8.182,
          8.2,
          8.218,
          8.236,
          8.254,
          8.272,
          8.29,
          8.308,
          8.326,
          8.344000000000001,
          8.362,
          8.379999999999999,
          8.398,
          8.416,
          8.434000000000001,
          8.452,
          8.469999999999999,
          8.488,
          8.506,
          8.524000000000001,
          8.542,
          8.559999999999999,
          8.578,
          8.596,
          8.614,
          8.632,
          8.65,
          8.668,
          8.686,
          8.704,
          8.722000000000001,
          8.74,
          8.758,
          8.776,
          8.794,
          8.812000000000001,
          8.83,
          8.847999999999999,
          8.866,
          8.884,
          8.902000000000001,
          8.92,
          8.937999999999999,
          8.956,
          8.974,
          8.992,
          9.01,
          9.028,
          9.046,
          9.064,
          9.082,
          9.1,
          9.118,
          9.136,
          9.154,
          9.172,
          9.19,
          9.208,
          9.226,
          9.244,
          9.262,
          9.28,
          9.298,
          9.316,
          9.334,
          9.352,
          9.37,
          9.388,
          9.406,
          9.424,
          9.442,
          9.46,
          9.478,
          9.496,
          9.514,
          9.532,
          9.55,
          9.568,
          9.586,
          9.604,
          9.622,
          9.64,
          9.658,
          9.676,
          9.694,
          9.712,
          9.73,
          9.748,
          9.766,
          9.784,
          9.802,
          9.82,
          9.838,
          9.856,
          9.874,
          9.892,
          9.91,
          9.928,
          9.946,
          9.964,
          9.982
         ],
         "xaxis": "x",
         "y": [
          0.10212911182065688,
          0.10619315681894548,
          0.11033743731954594,
          0.11455964158218422,
          0.11885724473702497,
          0.12322750453984048,
          0.12766745728618495,
          0.13217391394146744,
          0.13674345655277167,
          0.14137243501720342,
          0.146056964290246,
          0.15079292212592274,
          0.15557594744828412,
          0.16040143946070276,
          0.1652645576054127,
          0.1701602224905225,
          0.17508311790513387,
          0.18002769404502647,
          0.18498817207143553,
          0.18995855012360774,
          0.1949326109018866,
          0.1999039309319684,
          0.204865891612559,
          0.20981169213789588,
          0.21473436437346288,
          0.21962678974768943,
          0.22448171820460067,
          0.2292917892423139,
          0.23404955504011427,
          0.23874750565280542,
          0.2433780962253003,
          0.24793377615329015,
          0.2524070200876471,
          0.2567903606512875,
          0.2610764227079547,
          0.265257958993212,
          0.2693278868892851,
          0.2732793260977038,
          0.2771056369375005,
          0.2808004589723787,
          0.2843577496483946,
          0.2877718226045602,
          0.2910373853029883,
          0.29414957561297367,
          0.29710399697526363,
          0.2998967517688693,
          0.3025244725034595,
          0.3049843504658018,
          0.307274161459003,
          0.3093922882885085,
          0.3113377396689112,
          0.31311016525051677,
          0.3147098664941127,
          0.3161378031562655,
          0.317395595185392,
          0.3184855198704006,
          0.31941050412848254,
          0.32017411186605726,
          0.3207805263964302,
          0.3212345279487763,
          0.3215414663549995,
          0.3217072290531183,
          0.32173820459748154,
          0.32164124191660415,
          0.3214236056080658,
          0.3210929276060789,
          0.320657155600389,
          0.3201244986245368,
          0.31950337026661524,
          0.3188023299860595,
          0.3180300230452293,
          0.3171951195842899,
          0.3163062533818449,
          0.3153719608517126,
          0.31440062082808956,
          0.31340039568699113,
          0.31237917434142576,
          0.31134451763127297,
          0.31030360660654943,
          0.30926319417490816,
          0.30822956055116935,
          0.30720847290877934,
          0.3062051495909089,
          0.30522422919279163,
          0.30426974477753393,
          0.30334510343558646,
          0.3024530713438559,
          0.3015957644248569,
          0.3007746446498675,
          0.29999052197350035,
          0.2992435618310069,
          0.2985332980747162,
          0.29785865117277754,
          0.2972179514425448,
          0.2966089670429124,
          0.29602893640533684,
          0.2954746047425422,
          0.29494226423743114,
          0.2944277974829192,
          0.29392672371650175,
          0.29343424737169715,
          0.29294530845212696,
          0.29245463422319856,
          0.2919567917109807,
          0.2914462404980892,
          0.29091738531204203,
          0.2903646279124991,
          0.28978241779985275,
          0.2891653012886015,
          0.2885079685143908,
          0.2878052979733332,
          0.28705239822570955,
          0.28624464643305464,
          0.28537772343741724,
          0.2844476451338064,
          0.28345078993096523,
          0.28238392214110103,
          0.28124421118554177,
          0.28002924654994593,
          0.27873704846907355,
          0.2773660743668252,
          0.27591522112161565,
          0.2743838232698515,
          0.27277164730072234,
          0.27107888223338505,
          0.2693061267024792,
          0.2674543728094109,
          0.2655249870247493,
          0.263519688451029,
          0.26144052477518626,
          0.25928984625547946,
          0.25707027809909333,
          0.25478469159351325,
          0.25243617435735066,
          0.2500280000744831,
          0.24756359806939007,
          0.24504652307150582,
          0.24248042550242868,
          0.23986902260230186,
          0.2372160706906846,
          0.23452533883328244,
          0.23180058415917268,
          0.2290455290441374,
          0.22626384034471442,
          0.22345911083498715,
          0.2206348429645197,
          0.2177944350213862,
          0.21494116974959576,
          0.21207820543571543,
          0.20920856944550256,
          0.2063351541583857,
          0.20346071521604311,
          0.20058787197143366,
          0.19771910999686992,
          0.19485678548435992,
          0.19200313134878508,
          0.18916026482478443,
          0.18633019633169473,
          0.18351483936775176,
          0.18071602118508834,
          0.1779354939910035,
          0.1751749464185585,
          0.17243601501077274,
          0.1697202954675269,
          0.16702935341263342,
          0.16436473445026983,
          0.16172797329492836,
          0.15912060177698947,
          0.15654415554673837,
          0.15400017932279633,
          0.15149023055624766,
          0.14901588140882138,
          0.14657871897199168,
          0.14418034368337906,
          0.1418223659269537,
          0.13950640083387686,
          0.13723406133089502,
          0.13500694951265796,
          0.1328266464427066,
          0.13069470051480717,
          0.1286126145313865,
          0.126581831678723,
          0.12460372059888886,
          0.12267955977600689,
          0.12081052146883044,
          0.11899765543284946,
          0.11724187268282389,
          0.11554392955079543,
          0.11390441229509252,
          0.11232372251265664,
          0.11080206360016007,
          0.10933942849898168,
          0.10793558894525943,
          0.10659008642914354,
          0.10530222504724103,
          0.10407106640937983,
          0.10289542673549225,
          0.10177387625099943,
          0.10070474095995567,
          0.09968610684475206,
          0.09871582650984435,
          0.09779152825517233,
          0.09691062753313537,
          0.09607034071161073,
          0.09526770103501105,
          0.09449957664617961,
          0.09376269050443907,
          0.09305364200972978,
          0.09236893011983673,
          0.09170497772755343,
          0.09105815704752519,
          0.09042481574870355,
          0.08980130355800775,
          0.08918399905407523,
          0.08856933636696507,
          0.08795383150038985,
          0.08733410799748682,
          0.08670692167918319,
          0.08606918419578366,
          0.08541798514727607,
          0.08475061254583734,
          0.0840645714148153,
          0.08335760034176948,
          0.08262768582863234,
          0.08187307430931158,
          0.08109228173370676,
          0.08028410064674875,
          0.07944760472124252,
          0.0785821507335946,
          0.07768737800149994,
          0.07676320533193484,
          0.07580982555594304,
          0.07482769775335864,
          0.0738175372953998,
          0.07278030385569985,
          0.0717171875605309,
          0.07062959346647694,
          0.06951912456844794,
          0.06838756355254481,
          0.0672368535167832,
          0.06606907788804324,
          0.0648864397657974,
          0.06369124092227219,
          0.06248586068479276,
          0.06127273491930114,
          0.06005433532460551,
          0.05883314923503688,
          0.05761166011511287,
          0.05639232891380917,
          0.055177576428441365,
          0.05396976680925243,
          0.052771192315947825,
          0.051584059416927154,
          0.05041047630118095,
          0.049252441852072275,
          0.04811183611181996,
          0.04699041224574945,
          0.04588978999653968,
          0.04481145060103773,
          0.04375673312594221,
          0.04272683216397458,
          0.041722796819204475,
          0.040745530899104376,
          0.03979579422174892,
          0.03887420493940124,
          0.03798124277454109,
          0.03711725306116937,
          0.03628245148290882,
          0.03547692939991576,
          0.034700659658814303,
          0.033953502783606544,
          0.0332352134506491,
          0.03254544715712477,
          0.03188376699978712,
          0.031249650488918264,
          0.030642496331193154,
          0.030061631124292224,
          0.02950631591543371,
          0.028975752585310616,
          0.028469090028029304,
          0.027985430106377576,
          0.027523833369948528,
          0.02708332453116837,
          0.02666289770100682,
          0.026261521391991453,
          0.025878143301030745,
          0.025511694888426542,
          0.02516109577230015,
          0.02482525795946647,
          0.02450308993459098,
          0.02419350062929232,
          0.023895403291778923,
          0.02360771927570045,
          0.023329381764258743,
          0.0230593394423578,
          0.022796560125798913,
          0.022540034352368243,
          0.022288778935250317,
          0.022041840474657282,
          0.02179829881902797,
          0.02155727046273652,
          0.021317911863086878,
          0.021079422655560433,
          0.020841048742930104,
          0.020602085231045102,
          0.020361879181895158,
          0.02011983215304451,
          0.01987540249172201,
          0.019628107351794665,
          0.019377524402545115,
          0.019123293199613426,
          0.018865116190628386,
          0.018602759330906018,
          0.018336052288082345,
          0.01806488821861083,
          0.017789223103616,
          0.017509074636574997,
          0.017224520660597896,
          0.016935697158610243,
          0.01664279580539524,
          0.016346061096135824,
          0.0160457870716998,
          0.01574231366633851,
          0.0154360227086234,
          0.015127333611236886,
          0.014816698789579674,
          0.014504598852983611,
          0.01419153761556218,
          0.013878036976336444,
          0.013564631720200816,
          0.013251864292510648,
          0.012940279600563747,
          0.01263041989500707,
          0.012322819783233538,
          0.012018001425160813,
          0.011716469959436222,
          0.011418709205127676,
          0.011125177680391188,
          0.01083630497551138,
          0.010552488513154682,
          0.010274090723732355,
          0.010001436658516152,
          0.00973481205766439,
          0.009474461884683677,
          0.009220589333153173,
          0.008973355305857212,
          0.008732878360888053,
          0.008499235113869989,
          0.008272461080291968,
          0.008052551937084212,
          0.007839465178096517,
          0.007633122134084106,
          0.007433410324226971,
          0.00724018610313855,
          0.007053277564785799,
          0.006872487662767207,
          0.006697597504987332,
          0.006528369779928786,
          0.006364552271448655,
          0.006205881419302565,
          0.00605208588340186,
          0.005902890071111818,
          0.005758017588663148,
          0.005617194579936496,
          0.005480152918444527,
          0.005346633221228221,
          0.005216387656553399,
          0.005089182520683779,
          0.004964800562565928,
          0.004843043038932159,
          0.004723731486056846,
          0.004606709198137666,
          0.004491842405964624,
          0.004379021153140584,
          0.004268159870584391,
          0.004159197653340928,
          0.004052098246809781,
          0.003946849752354275,
          0.00384346406484226,
          0.0037419760569810216,
          0.0036424425273265137,
          0.0035449409305648195,
          0.0034495679100783857,
          0.0033564376539218545,
          0.0032656800961510125,
          0.0031774389859820307,
          0.0030918698475221325,
          0.00300913785282491,
          0.002929415630802707,
          0.0028528810340981816,
          0.0027797148854001,
          0.0027100987239095094,
          0.0026442125717463954,
          0.00258223273905839,
          0.002524329685475921,
          0.0024706659543749674,
          0.002421394195180577,
          0.0023766552876903417,
          0.0023365765811345653,
          0.0023012702594325573,
          0.0022708318428651315,
          0.002245338835170464,
          0.002224849523891207,
          0.002209401940658718,
          0.0021990129869975433,
          0.0021936777301690426,
          0.002193368872544819,
          0.002198036397004466,
          0.002207607389882252,
          0.0022219860420378042,
          0.002241053827689193,
          0.002264669859716356,
          0.0022926714192115063,
          0.002324874656114764,
          0.0023610754568224508,
          0.0024010504736883954,
          0.0024445583103525704,
          0.0024913408558259304,
          0.0025411247592367,
          0.002593623036104935,
          0.00264853679596467,
          0.0027055570801038783,
          0.002764366797151869,
          0.002824642743223213,
          0.002886057692340267,
          0.002948282541918254,
          0.003010988497223342,
          0.0030738492779231333,
          0.003136543329157035,
          0.003198756018980165,
          0.0032601818035947745,
          0.0033205263414955127,
          0.003379508537533846,
          0.0034368624979669435,
          0.003492339377809089,
          0.0035457091022585607,
          0.0035967619446371345,
          0.0036453099441563553,
          0.0036911881479156305,
          0.0037342556628389163,
          0.0037743965047634075,
          0.0038115202335954794,
          0.0038455623653329387,
          0.0038764845538020285,
          0.0039042745371526888,
          0.003928945846473596,
          0.003950537276304086,
          0.003969112119305245,
          0.003984757169877567,
          0.003997581504046016,
          0.004007715045443079,
          0.004015306929672936,
          0.004020523681702581,
          0.0040235472231657824,
          0.004024572728551494,
          0.004023806351149723,
          0.004021462841316665,
          0.00401776308107136,
          0.004012931560225523,
          0.0040071938201566406,
          0.004000773891946274,
          0.0039938917559082425,
          0.003986760849517221,
          0.00397958565041325,
          0.0039725593605025025,
          0.003965861716204106,
          0.003959656948616279,
          0.003954091915806102,
          0.003949294427583301,
          0.003945371781021153,
          0.003942409522661985,
          0.003940470450818845,
          0.003939593868690151,
          0.003939795096173709,
          0.0039410652453360385,
          0.003943371261499457,
          0.003946656228890402,
          0.003950839936786762,
          0.003955819699147207,
          0.00396147141783958,
          0.003967650876844381,
          0.003974195252228029,
          0.0039809248202912935,
          0.003987644844131014,
          0.003994147616934622,
          0.004000214638680599,
          0.004005618901563237,
          0.004010127258413034,
          0.004013502847655551,
          0.004015507547949315,
          0.004015904435569491,
          0.004014460217857088,
          0.00401094761662694,
          0.004005147676311229,
          0.003996851972794106,
          0.003985864700348517,
          0.003972004615796546,
          0.003955106820953858,
          0.003935024366559186,
          0.003911629663200393
         ],
         "yaxis": "y"
        },
        {
         "legendgroup": "Total bill",
         "marker": {
          "color": "rgb(31, 119, 180)",
          "symbol": "line-ns-open"
         },
         "mode": "markers",
         "name": "Total bill",
         "showlegend": false,
         "type": "scatter",
         "x": [
          16.99,
          10.34,
          21.01,
          23.68,
          24.59,
          25.29,
          8.77,
          26.88,
          15.04,
          14.78,
          10.27,
          35.26,
          15.42,
          18.43,
          14.83,
          21.58,
          10.33,
          16.29,
          16.97,
          20.65,
          17.92,
          20.29,
          15.77,
          39.42,
          19.82,
          17.81,
          13.37,
          12.69,
          21.7,
          19.65,
          9.55,
          18.35,
          15.06,
          20.69,
          17.78,
          24.06,
          16.31,
          16.93,
          18.69,
          31.27,
          16.04,
          17.46,
          13.94,
          9.68,
          30.4,
          18.29,
          22.23,
          32.4,
          28.55,
          18.04,
          12.54,
          10.29,
          34.81,
          9.94,
          25.56,
          19.49,
          38.01,
          26.41,
          11.24,
          48.27,
          20.29,
          13.81,
          11.02,
          18.29,
          17.59,
          20.08,
          16.45,
          3.07,
          20.23,
          15.01,
          12.02,
          17.07,
          26.86,
          25.28,
          14.73,
          10.51,
          17.92,
          27.2,
          22.76,
          17.29,
          19.44,
          16.66,
          10.07,
          32.68,
          15.98,
          34.83,
          13.03,
          18.28,
          24.71,
          21.16,
          28.97,
          22.49,
          5.75,
          16.32,
          22.75,
          40.17,
          27.28,
          12.03,
          21.01,
          12.46,
          11.35,
          15.38,
          44.3,
          22.42,
          20.92,
          15.36,
          20.49,
          25.21,
          18.24,
          14.31,
          14,
          7.25,
          38.07,
          23.95,
          25.71,
          17.31,
          29.93,
          10.65,
          12.43,
          24.08,
          11.69,
          13.42,
          14.26,
          15.95,
          12.48,
          29.8,
          8.52,
          14.52,
          11.38,
          22.82,
          19.08,
          20.27,
          11.17,
          12.26,
          18.26,
          8.51,
          10.33,
          14.15,
          16,
          13.16,
          17.47,
          34.3,
          41.19,
          27.05,
          16.43,
          8.35,
          18.64,
          11.87,
          9.78,
          7.51,
          14.07,
          13.13,
          17.26,
          24.55,
          19.77,
          29.85,
          48.17,
          25,
          13.39,
          16.49,
          21.5,
          12.66,
          16.21,
          13.81,
          17.51,
          24.52,
          20.76,
          31.71,
          10.59,
          10.63,
          50.81,
          15.81,
          7.25,
          31.85,
          16.82,
          32.9,
          17.89,
          14.48,
          9.6,
          34.63,
          34.65,
          23.33,
          45.35,
          23.17,
          40.55,
          20.69,
          20.9,
          30.46,
          18.15,
          23.1,
          15.69,
          19.81,
          28.44,
          15.48,
          16.58,
          7.56,
          10.34,
          43.11,
          13,
          13.51,
          18.71,
          12.74,
          13,
          16.4,
          20.53,
          16.47,
          26.59,
          38.73,
          24.27,
          12.76,
          30.06,
          25.89,
          48.33,
          13.27,
          28.17,
          12.9,
          28.15,
          11.59,
          7.74,
          30.14,
          12.16,
          13.42,
          8.58,
          15.98,
          13.42,
          16.27,
          10.09,
          20.45,
          13.28,
          22.12,
          24.01,
          15.69,
          11.61,
          10.77,
          15.53,
          10.07,
          12.6,
          32.83,
          35.83,
          29.03,
          27.18,
          22.67,
          17.82,
          18.78
         ],
         "xaxis": "x",
         "y": [
          "Total bill",
          "Total bill",
          "Total bill",
          "Total bill",
          "Total bill",
          "Total bill",
          "Total bill",
          "Total bill",
          "Total bill",
          "Total bill",
          "Total bill",
          "Total bill",
          "Total bill",
          "Total bill",
          "Total bill",
          "Total bill",
          "Total bill",
          "Total bill",
          "Total bill",
          "Total bill",
          "Total bill",
          "Total bill",
          "Total bill",
          "Total bill",
          "Total bill",
          "Total bill",
          "Total bill",
          "Total bill",
          "Total bill",
          "Total bill",
          "Total bill",
          "Total bill",
          "Total bill",
          "Total bill",
          "Total bill",
          "Total bill",
          "Total bill",
          "Total bill",
          "Total bill",
          "Total bill",
          "Total bill",
          "Total bill",
          "Total bill",
          "Total bill",
          "Total bill",
          "Total bill",
          "Total bill",
          "Total bill",
          "Total bill",
          "Total bill",
          "Total bill",
          "Total bill",
          "Total bill",
          "Total bill",
          "Total bill",
          "Total bill",
          "Total bill",
          "Total bill",
          "Total bill",
          "Total bill",
          "Total bill",
          "Total bill",
          "Total bill",
          "Total bill",
          "Total bill",
          "Total bill",
          "Total bill",
          "Total bill",
          "Total bill",
          "Total bill",
          "Total bill",
          "Total bill",
          "Total bill",
          "Total bill",
          "Total bill",
          "Total bill",
          "Total bill",
          "Total bill",
          "Total bill",
          "Total bill",
          "Total bill",
          "Total bill",
          "Total bill",
          "Total bill",
          "Total bill",
          "Total bill",
          "Total bill",
          "Total bill",
          "Total bill",
          "Total bill",
          "Total bill",
          "Total bill",
          "Total bill",
          "Total bill",
          "Total bill",
          "Total bill",
          "Total bill",
          "Total bill",
          "Total bill",
          "Total bill",
          "Total bill",
          "Total bill",
          "Total bill",
          "Total bill",
          "Total bill",
          "Total bill",
          "Total bill",
          "Total bill",
          "Total bill",
          "Total bill",
          "Total bill",
          "Total bill",
          "Total bill",
          "Total bill",
          "Total bill",
          "Total bill",
          "Total bill",
          "Total bill",
          "Total bill",
          "Total bill",
          "Total bill",
          "Total bill",
          "Total bill",
          "Total bill",
          "Total bill",
          "Total bill",
          "Total bill",
          "Total bill",
          "Total bill",
          "Total bill",
          "Total bill",
          "Total bill",
          "Total bill",
          "Total bill",
          "Total bill",
          "Total bill",
          "Total bill",
          "Total bill",
          "Total bill",
          "Total bill",
          "Total bill",
          "Total bill",
          "Total bill",
          "Total bill",
          "Total bill",
          "Total bill",
          "Total bill",
          "Total bill",
          "Total bill",
          "Total bill",
          "Total bill",
          "Total bill",
          "Total bill",
          "Total bill",
          "Total bill",
          "Total bill",
          "Total bill",
          "Total bill",
          "Total bill",
          "Total bill",
          "Total bill",
          "Total bill",
          "Total bill",
          "Total bill",
          "Total bill",
          "Total bill",
          "Total bill",
          "Total bill",
          "Total bill",
          "Total bill",
          "Total bill",
          "Total bill",
          "Total bill",
          "Total bill",
          "Total bill",
          "Total bill",
          "Total bill",
          "Total bill",
          "Total bill",
          "Total bill",
          "Total bill",
          "Total bill",
          "Total bill",
          "Total bill",
          "Total bill",
          "Total bill",
          "Total bill",
          "Total bill",
          "Total bill",
          "Total bill",
          "Total bill",
          "Total bill",
          "Total bill",
          "Total bill",
          "Total bill",
          "Total bill",
          "Total bill",
          "Total bill",
          "Total bill",
          "Total bill",
          "Total bill",
          "Total bill",
          "Total bill",
          "Total bill",
          "Total bill",
          "Total bill",
          "Total bill",
          "Total bill",
          "Total bill",
          "Total bill",
          "Total bill",
          "Total bill",
          "Total bill",
          "Total bill",
          "Total bill",
          "Total bill",
          "Total bill",
          "Total bill",
          "Total bill",
          "Total bill",
          "Total bill",
          "Total bill",
          "Total bill",
          "Total bill",
          "Total bill",
          "Total bill",
          "Total bill",
          "Total bill",
          "Total bill",
          "Total bill",
          "Total bill",
          "Total bill",
          "Total bill",
          "Total bill",
          "Total bill",
          "Total bill",
          "Total bill",
          "Total bill",
          "Total bill",
          "Total bill",
          "Total bill",
          "Total bill",
          "Total bill",
          "Total bill"
         ],
         "yaxis": "y2"
        },
        {
         "legendgroup": "Tips",
         "marker": {
          "color": "rgb(255, 127, 14)",
          "symbol": "line-ns-open"
         },
         "mode": "markers",
         "name": "Tips",
         "showlegend": false,
         "type": "scatter",
         "x": [
          1.01,
          1.66,
          3.5,
          3.31,
          3.61,
          4.71,
          2,
          3.12,
          1.96,
          3.23,
          1.71,
          5,
          1.57,
          3,
          3.02,
          3.92,
          1.67,
          3.71,
          3.5,
          3.35,
          4.08,
          2.75,
          2.23,
          7.58,
          3.18,
          2.34,
          2,
          2,
          4.3,
          3,
          1.45,
          2.5,
          3,
          2.45,
          3.27,
          3.6,
          2,
          3.07,
          2.31,
          5,
          2.24,
          2.54,
          3.06,
          1.32,
          5.6,
          3,
          5,
          6,
          2.05,
          3,
          2.5,
          2.6,
          5.2,
          1.56,
          4.34,
          3.51,
          3,
          1.5,
          1.76,
          6.73,
          3.21,
          2,
          1.98,
          3.76,
          2.64,
          3.15,
          2.47,
          1,
          2.01,
          2.09,
          1.97,
          3,
          3.14,
          5,
          2.2,
          1.25,
          3.08,
          4,
          3,
          2.71,
          3,
          3.4,
          1.83,
          5,
          2.03,
          5.17,
          2,
          4,
          5.85,
          3,
          3,
          3.5,
          1,
          4.3,
          3.25,
          4.73,
          4,
          1.5,
          3,
          1.5,
          2.5,
          3,
          2.5,
          3.48,
          4.08,
          1.64,
          4.06,
          4.29,
          3.76,
          4,
          3,
          1,
          4,
          2.55,
          4,
          3.5,
          5.07,
          1.5,
          1.8,
          2.92,
          2.31,
          1.68,
          2.5,
          2,
          2.52,
          4.2,
          1.48,
          2,
          2,
          2.18,
          1.5,
          2.83,
          1.5,
          2,
          3.25,
          1.25,
          2,
          2,
          2,
          2.75,
          3.5,
          6.7,
          5,
          5,
          2.3,
          1.5,
          1.36,
          1.63,
          1.73,
          2,
          2.5,
          2,
          2.74,
          2,
          2,
          5.14,
          5,
          3.75,
          2.61,
          2,
          3.5,
          2.5,
          2,
          2,
          3,
          3.48,
          2.24,
          4.5,
          1.61,
          2,
          10,
          3.16,
          5.15,
          3.18,
          4,
          3.11,
          2,
          2,
          4,
          3.55,
          3.68,
          5.65,
          3.5,
          6.5,
          3,
          5,
          3.5,
          2,
          3.5,
          4,
          1.5,
          4.19,
          2.56,
          2.02,
          4,
          1.44,
          2,
          5,
          2,
          2,
          4,
          2.01,
          2,
          2.5,
          4,
          3.23,
          3.41,
          3,
          2.03,
          2.23,
          2,
          5.16,
          9,
          2.5,
          6.5,
          1.1,
          3,
          1.5,
          1.44,
          3.09,
          2.2,
          3.48,
          1.92,
          3,
          1.58,
          2.5,
          2,
          3,
          2.72,
          2.88,
          2,
          3,
          3.39,
          1.47,
          3,
          1.25,
          1,
          1.17,
          4.67,
          5.92,
          2,
          2,
          1.75,
          3
         ],
         "xaxis": "x",
         "y": [
          "Tips",
          "Tips",
          "Tips",
          "Tips",
          "Tips",
          "Tips",
          "Tips",
          "Tips",
          "Tips",
          "Tips",
          "Tips",
          "Tips",
          "Tips",
          "Tips",
          "Tips",
          "Tips",
          "Tips",
          "Tips",
          "Tips",
          "Tips",
          "Tips",
          "Tips",
          "Tips",
          "Tips",
          "Tips",
          "Tips",
          "Tips",
          "Tips",
          "Tips",
          "Tips",
          "Tips",
          "Tips",
          "Tips",
          "Tips",
          "Tips",
          "Tips",
          "Tips",
          "Tips",
          "Tips",
          "Tips",
          "Tips",
          "Tips",
          "Tips",
          "Tips",
          "Tips",
          "Tips",
          "Tips",
          "Tips",
          "Tips",
          "Tips",
          "Tips",
          "Tips",
          "Tips",
          "Tips",
          "Tips",
          "Tips",
          "Tips",
          "Tips",
          "Tips",
          "Tips",
          "Tips",
          "Tips",
          "Tips",
          "Tips",
          "Tips",
          "Tips",
          "Tips",
          "Tips",
          "Tips",
          "Tips",
          "Tips",
          "Tips",
          "Tips",
          "Tips",
          "Tips",
          "Tips",
          "Tips",
          "Tips",
          "Tips",
          "Tips",
          "Tips",
          "Tips",
          "Tips",
          "Tips",
          "Tips",
          "Tips",
          "Tips",
          "Tips",
          "Tips",
          "Tips",
          "Tips",
          "Tips",
          "Tips",
          "Tips",
          "Tips",
          "Tips",
          "Tips",
          "Tips",
          "Tips",
          "Tips",
          "Tips",
          "Tips",
          "Tips",
          "Tips",
          "Tips",
          "Tips",
          "Tips",
          "Tips",
          "Tips",
          "Tips",
          "Tips",
          "Tips",
          "Tips",
          "Tips",
          "Tips",
          "Tips",
          "Tips",
          "Tips",
          "Tips",
          "Tips",
          "Tips",
          "Tips",
          "Tips",
          "Tips",
          "Tips",
          "Tips",
          "Tips",
          "Tips",
          "Tips",
          "Tips",
          "Tips",
          "Tips",
          "Tips",
          "Tips",
          "Tips",
          "Tips",
          "Tips",
          "Tips",
          "Tips",
          "Tips",
          "Tips",
          "Tips",
          "Tips",
          "Tips",
          "Tips",
          "Tips",
          "Tips",
          "Tips",
          "Tips",
          "Tips",
          "Tips",
          "Tips",
          "Tips",
          "Tips",
          "Tips",
          "Tips",
          "Tips",
          "Tips",
          "Tips",
          "Tips",
          "Tips",
          "Tips",
          "Tips",
          "Tips",
          "Tips",
          "Tips",
          "Tips",
          "Tips",
          "Tips",
          "Tips",
          "Tips",
          "Tips",
          "Tips",
          "Tips",
          "Tips",
          "Tips",
          "Tips",
          "Tips",
          "Tips",
          "Tips",
          "Tips",
          "Tips",
          "Tips",
          "Tips",
          "Tips",
          "Tips",
          "Tips",
          "Tips",
          "Tips",
          "Tips",
          "Tips",
          "Tips",
          "Tips",
          "Tips",
          "Tips",
          "Tips",
          "Tips",
          "Tips",
          "Tips",
          "Tips",
          "Tips",
          "Tips",
          "Tips",
          "Tips",
          "Tips",
          "Tips",
          "Tips",
          "Tips",
          "Tips",
          "Tips",
          "Tips",
          "Tips",
          "Tips",
          "Tips",
          "Tips",
          "Tips",
          "Tips",
          "Tips",
          "Tips",
          "Tips",
          "Tips",
          "Tips",
          "Tips",
          "Tips",
          "Tips",
          "Tips",
          "Tips",
          "Tips",
          "Tips",
          "Tips",
          "Tips",
          "Tips",
          "Tips",
          "Tips",
          "Tips",
          "Tips",
          "Tips",
          "Tips",
          "Tips",
          "Tips",
          "Tips",
          "Tips",
          "Tips",
          "Tips"
         ],
         "yaxis": "y2"
        }
       ],
       "layout": {
        "barmode": "overlay",
        "hovermode": "closest",
        "legend": {
         "traceorder": "reversed"
        },
        "template": {
         "data": {
          "bar": [
           {
            "error_x": {
             "color": "#2a3f5f"
            },
            "error_y": {
             "color": "#2a3f5f"
            },
            "marker": {
             "line": {
              "color": "#E5ECF6",
              "width": 0.5
             },
             "pattern": {
              "fillmode": "overlay",
              "size": 10,
              "solidity": 0.2
             }
            },
            "type": "bar"
           }
          ],
          "barpolar": [
           {
            "marker": {
             "line": {
              "color": "#E5ECF6",
              "width": 0.5
             },
             "pattern": {
              "fillmode": "overlay",
              "size": 10,
              "solidity": 0.2
             }
            },
            "type": "barpolar"
           }
          ],
          "carpet": [
           {
            "aaxis": {
             "endlinecolor": "#2a3f5f",
             "gridcolor": "white",
             "linecolor": "white",
             "minorgridcolor": "white",
             "startlinecolor": "#2a3f5f"
            },
            "baxis": {
             "endlinecolor": "#2a3f5f",
             "gridcolor": "white",
             "linecolor": "white",
             "minorgridcolor": "white",
             "startlinecolor": "#2a3f5f"
            },
            "type": "carpet"
           }
          ],
          "choropleth": [
           {
            "colorbar": {
             "outlinewidth": 0,
             "ticks": ""
            },
            "type": "choropleth"
           }
          ],
          "contour": [
           {
            "colorbar": {
             "outlinewidth": 0,
             "ticks": ""
            },
            "colorscale": [
             [
              0,
              "#0d0887"
             ],
             [
              0.1111111111111111,
              "#46039f"
             ],
             [
              0.2222222222222222,
              "#7201a8"
             ],
             [
              0.3333333333333333,
              "#9c179e"
             ],
             [
              0.4444444444444444,
              "#bd3786"
             ],
             [
              0.5555555555555556,
              "#d8576b"
             ],
             [
              0.6666666666666666,
              "#ed7953"
             ],
             [
              0.7777777777777778,
              "#fb9f3a"
             ],
             [
              0.8888888888888888,
              "#fdca26"
             ],
             [
              1,
              "#f0f921"
             ]
            ],
            "type": "contour"
           }
          ],
          "contourcarpet": [
           {
            "colorbar": {
             "outlinewidth": 0,
             "ticks": ""
            },
            "type": "contourcarpet"
           }
          ],
          "heatmap": [
           {
            "colorbar": {
             "outlinewidth": 0,
             "ticks": ""
            },
            "colorscale": [
             [
              0,
              "#0d0887"
             ],
             [
              0.1111111111111111,
              "#46039f"
             ],
             [
              0.2222222222222222,
              "#7201a8"
             ],
             [
              0.3333333333333333,
              "#9c179e"
             ],
             [
              0.4444444444444444,
              "#bd3786"
             ],
             [
              0.5555555555555556,
              "#d8576b"
             ],
             [
              0.6666666666666666,
              "#ed7953"
             ],
             [
              0.7777777777777778,
              "#fb9f3a"
             ],
             [
              0.8888888888888888,
              "#fdca26"
             ],
             [
              1,
              "#f0f921"
             ]
            ],
            "type": "heatmap"
           }
          ],
          "heatmapgl": [
           {
            "colorbar": {
             "outlinewidth": 0,
             "ticks": ""
            },
            "colorscale": [
             [
              0,
              "#0d0887"
             ],
             [
              0.1111111111111111,
              "#46039f"
             ],
             [
              0.2222222222222222,
              "#7201a8"
             ],
             [
              0.3333333333333333,
              "#9c179e"
             ],
             [
              0.4444444444444444,
              "#bd3786"
             ],
             [
              0.5555555555555556,
              "#d8576b"
             ],
             [
              0.6666666666666666,
              "#ed7953"
             ],
             [
              0.7777777777777778,
              "#fb9f3a"
             ],
             [
              0.8888888888888888,
              "#fdca26"
             ],
             [
              1,
              "#f0f921"
             ]
            ],
            "type": "heatmapgl"
           }
          ],
          "histogram": [
           {
            "marker": {
             "pattern": {
              "fillmode": "overlay",
              "size": 10,
              "solidity": 0.2
             }
            },
            "type": "histogram"
           }
          ],
          "histogram2d": [
           {
            "colorbar": {
             "outlinewidth": 0,
             "ticks": ""
            },
            "colorscale": [
             [
              0,
              "#0d0887"
             ],
             [
              0.1111111111111111,
              "#46039f"
             ],
             [
              0.2222222222222222,
              "#7201a8"
             ],
             [
              0.3333333333333333,
              "#9c179e"
             ],
             [
              0.4444444444444444,
              "#bd3786"
             ],
             [
              0.5555555555555556,
              "#d8576b"
             ],
             [
              0.6666666666666666,
              "#ed7953"
             ],
             [
              0.7777777777777778,
              "#fb9f3a"
             ],
             [
              0.8888888888888888,
              "#fdca26"
             ],
             [
              1,
              "#f0f921"
             ]
            ],
            "type": "histogram2d"
           }
          ],
          "histogram2dcontour": [
           {
            "colorbar": {
             "outlinewidth": 0,
             "ticks": ""
            },
            "colorscale": [
             [
              0,
              "#0d0887"
             ],
             [
              0.1111111111111111,
              "#46039f"
             ],
             [
              0.2222222222222222,
              "#7201a8"
             ],
             [
              0.3333333333333333,
              "#9c179e"
             ],
             [
              0.4444444444444444,
              "#bd3786"
             ],
             [
              0.5555555555555556,
              "#d8576b"
             ],
             [
              0.6666666666666666,
              "#ed7953"
             ],
             [
              0.7777777777777778,
              "#fb9f3a"
             ],
             [
              0.8888888888888888,
              "#fdca26"
             ],
             [
              1,
              "#f0f921"
             ]
            ],
            "type": "histogram2dcontour"
           }
          ],
          "mesh3d": [
           {
            "colorbar": {
             "outlinewidth": 0,
             "ticks": ""
            },
            "type": "mesh3d"
           }
          ],
          "parcoords": [
           {
            "line": {
             "colorbar": {
              "outlinewidth": 0,
              "ticks": ""
             }
            },
            "type": "parcoords"
           }
          ],
          "pie": [
           {
            "automargin": true,
            "type": "pie"
           }
          ],
          "scatter": [
           {
            "fillpattern": {
             "fillmode": "overlay",
             "size": 10,
             "solidity": 0.2
            },
            "type": "scatter"
           }
          ],
          "scatter3d": [
           {
            "line": {
             "colorbar": {
              "outlinewidth": 0,
              "ticks": ""
             }
            },
            "marker": {
             "colorbar": {
              "outlinewidth": 0,
              "ticks": ""
             }
            },
            "type": "scatter3d"
           }
          ],
          "scattercarpet": [
           {
            "marker": {
             "colorbar": {
              "outlinewidth": 0,
              "ticks": ""
             }
            },
            "type": "scattercarpet"
           }
          ],
          "scattergeo": [
           {
            "marker": {
             "colorbar": {
              "outlinewidth": 0,
              "ticks": ""
             }
            },
            "type": "scattergeo"
           }
          ],
          "scattergl": [
           {
            "marker": {
             "colorbar": {
              "outlinewidth": 0,
              "ticks": ""
             }
            },
            "type": "scattergl"
           }
          ],
          "scattermapbox": [
           {
            "marker": {
             "colorbar": {
              "outlinewidth": 0,
              "ticks": ""
             }
            },
            "type": "scattermapbox"
           }
          ],
          "scatterpolar": [
           {
            "marker": {
             "colorbar": {
              "outlinewidth": 0,
              "ticks": ""
             }
            },
            "type": "scatterpolar"
           }
          ],
          "scatterpolargl": [
           {
            "marker": {
             "colorbar": {
              "outlinewidth": 0,
              "ticks": ""
             }
            },
            "type": "scatterpolargl"
           }
          ],
          "scatterternary": [
           {
            "marker": {
             "colorbar": {
              "outlinewidth": 0,
              "ticks": ""
             }
            },
            "type": "scatterternary"
           }
          ],
          "surface": [
           {
            "colorbar": {
             "outlinewidth": 0,
             "ticks": ""
            },
            "colorscale": [
             [
              0,
              "#0d0887"
             ],
             [
              0.1111111111111111,
              "#46039f"
             ],
             [
              0.2222222222222222,
              "#7201a8"
             ],
             [
              0.3333333333333333,
              "#9c179e"
             ],
             [
              0.4444444444444444,
              "#bd3786"
             ],
             [
              0.5555555555555556,
              "#d8576b"
             ],
             [
              0.6666666666666666,
              "#ed7953"
             ],
             [
              0.7777777777777778,
              "#fb9f3a"
             ],
             [
              0.8888888888888888,
              "#fdca26"
             ],
             [
              1,
              "#f0f921"
             ]
            ],
            "type": "surface"
           }
          ],
          "table": [
           {
            "cells": {
             "fill": {
              "color": "#EBF0F8"
             },
             "line": {
              "color": "white"
             }
            },
            "header": {
             "fill": {
              "color": "#C8D4E3"
             },
             "line": {
              "color": "white"
             }
            },
            "type": "table"
           }
          ]
         },
         "layout": {
          "annotationdefaults": {
           "arrowcolor": "#2a3f5f",
           "arrowhead": 0,
           "arrowwidth": 1
          },
          "autotypenumbers": "strict",
          "coloraxis": {
           "colorbar": {
            "outlinewidth": 0,
            "ticks": ""
           }
          },
          "colorscale": {
           "diverging": [
            [
             0,
             "#8e0152"
            ],
            [
             0.1,
             "#c51b7d"
            ],
            [
             0.2,
             "#de77ae"
            ],
            [
             0.3,
             "#f1b6da"
            ],
            [
             0.4,
             "#fde0ef"
            ],
            [
             0.5,
             "#f7f7f7"
            ],
            [
             0.6,
             "#e6f5d0"
            ],
            [
             0.7,
             "#b8e186"
            ],
            [
             0.8,
             "#7fbc41"
            ],
            [
             0.9,
             "#4d9221"
            ],
            [
             1,
             "#276419"
            ]
           ],
           "sequential": [
            [
             0,
             "#0d0887"
            ],
            [
             0.1111111111111111,
             "#46039f"
            ],
            [
             0.2222222222222222,
             "#7201a8"
            ],
            [
             0.3333333333333333,
             "#9c179e"
            ],
            [
             0.4444444444444444,
             "#bd3786"
            ],
            [
             0.5555555555555556,
             "#d8576b"
            ],
            [
             0.6666666666666666,
             "#ed7953"
            ],
            [
             0.7777777777777778,
             "#fb9f3a"
            ],
            [
             0.8888888888888888,
             "#fdca26"
            ],
            [
             1,
             "#f0f921"
            ]
           ],
           "sequentialminus": [
            [
             0,
             "#0d0887"
            ],
            [
             0.1111111111111111,
             "#46039f"
            ],
            [
             0.2222222222222222,
             "#7201a8"
            ],
            [
             0.3333333333333333,
             "#9c179e"
            ],
            [
             0.4444444444444444,
             "#bd3786"
            ],
            [
             0.5555555555555556,
             "#d8576b"
            ],
            [
             0.6666666666666666,
             "#ed7953"
            ],
            [
             0.7777777777777778,
             "#fb9f3a"
            ],
            [
             0.8888888888888888,
             "#fdca26"
            ],
            [
             1,
             "#f0f921"
            ]
           ]
          },
          "colorway": [
           "#636efa",
           "#EF553B",
           "#00cc96",
           "#ab63fa",
           "#FFA15A",
           "#19d3f3",
           "#FF6692",
           "#B6E880",
           "#FF97FF",
           "#FECB52"
          ],
          "font": {
           "color": "#2a3f5f"
          },
          "geo": {
           "bgcolor": "white",
           "lakecolor": "white",
           "landcolor": "#E5ECF6",
           "showlakes": true,
           "showland": true,
           "subunitcolor": "white"
          },
          "hoverlabel": {
           "align": "left"
          },
          "hovermode": "closest",
          "mapbox": {
           "style": "light"
          },
          "paper_bgcolor": "white",
          "plot_bgcolor": "#E5ECF6",
          "polar": {
           "angularaxis": {
            "gridcolor": "white",
            "linecolor": "white",
            "ticks": ""
           },
           "bgcolor": "#E5ECF6",
           "radialaxis": {
            "gridcolor": "white",
            "linecolor": "white",
            "ticks": ""
           }
          },
          "scene": {
           "xaxis": {
            "backgroundcolor": "#E5ECF6",
            "gridcolor": "white",
            "gridwidth": 2,
            "linecolor": "white",
            "showbackground": true,
            "ticks": "",
            "zerolinecolor": "white"
           },
           "yaxis": {
            "backgroundcolor": "#E5ECF6",
            "gridcolor": "white",
            "gridwidth": 2,
            "linecolor": "white",
            "showbackground": true,
            "ticks": "",
            "zerolinecolor": "white"
           },
           "zaxis": {
            "backgroundcolor": "#E5ECF6",
            "gridcolor": "white",
            "gridwidth": 2,
            "linecolor": "white",
            "showbackground": true,
            "ticks": "",
            "zerolinecolor": "white"
           }
          },
          "shapedefaults": {
           "line": {
            "color": "#2a3f5f"
           }
          },
          "ternary": {
           "aaxis": {
            "gridcolor": "white",
            "linecolor": "white",
            "ticks": ""
           },
           "baxis": {
            "gridcolor": "white",
            "linecolor": "white",
            "ticks": ""
           },
           "bgcolor": "#E5ECF6",
           "caxis": {
            "gridcolor": "white",
            "linecolor": "white",
            "ticks": ""
           }
          },
          "title": {
           "x": 0.05
          },
          "xaxis": {
           "automargin": true,
           "gridcolor": "white",
           "linecolor": "white",
           "ticks": "",
           "title": {
            "standoff": 15
           },
           "zerolinecolor": "white",
           "zerolinewidth": 2
          },
          "yaxis": {
           "automargin": true,
           "gridcolor": "white",
           "linecolor": "white",
           "ticks": "",
           "title": {
            "standoff": 15
           },
           "zerolinecolor": "white",
           "zerolinewidth": 2
          }
         }
        },
        "xaxis": {
         "anchor": "y2",
         "domain": [
          0,
          1
         ],
         "zeroline": false
        },
        "yaxis": {
         "anchor": "free",
         "domain": [
          0.35,
          1
         ],
         "position": 0
        },
        "yaxis2": {
         "anchor": "x",
         "domain": [
          0,
          0.25
         ],
         "dtick": 1,
         "showticklabels": false
        }
       }
      }
     },
     "metadata": {},
     "output_type": "display_data"
    }
   ],
   "source": [
    "ff.create_distplot([ df['total_bill'], df['tip'] ],\n",
    "                   group_labels=['Total bill', 'Tips'])"
   ]
  },
  {
   "cell_type": "markdown",
   "metadata": {},
   "source": [
    "## Boxplot"
   ]
  },
  {
   "cell_type": "markdown",
   "metadata": {},
   "source": [
    "O boxplot ou diagrama de caixa é uma ferramenta gráfica que permite visualizar a distribuição e valores discrepantes (outliers) dos dados, fornecendo assim um\n",
    "meio complementar para desenvolver uma perspectiva sobre o caráter dos dados. Além disso, o boxplot também é uma disposição gráfica comparativa.\n",
    "Ele é composto por algumas medidas de estatísticas descritivas como o mínimo, máximo, primeiro quartil, segundo quartil (ou mediana) e o terceiro quartil."
   ]
  },
  {
   "cell_type": "code",
   "execution_count": 24,
   "metadata": {},
   "outputs": [],
   "source": [
    "df = pd.read_csv('https://raw.githubusercontent.com/mwaskom/seaborn-data/master/tips.csv')"
   ]
  },
  {
   "cell_type": "code",
   "execution_count": 25,
   "metadata": {},
   "outputs": [
    {
     "data": {
      "text/html": [
       "<div>\n",
       "<style scoped>\n",
       "    .dataframe tbody tr th:only-of-type {\n",
       "        vertical-align: middle;\n",
       "    }\n",
       "\n",
       "    .dataframe tbody tr th {\n",
       "        vertical-align: top;\n",
       "    }\n",
       "\n",
       "    .dataframe thead th {\n",
       "        text-align: right;\n",
       "    }\n",
       "</style>\n",
       "<table border=\"1\" class=\"dataframe\">\n",
       "  <thead>\n",
       "    <tr style=\"text-align: right;\">\n",
       "      <th></th>\n",
       "      <th>total_bill</th>\n",
       "      <th>tip</th>\n",
       "      <th>sex</th>\n",
       "      <th>smoker</th>\n",
       "      <th>day</th>\n",
       "      <th>time</th>\n",
       "      <th>size</th>\n",
       "    </tr>\n",
       "  </thead>\n",
       "  <tbody>\n",
       "    <tr>\n",
       "      <th>0</th>\n",
       "      <td>16.99</td>\n",
       "      <td>1.01</td>\n",
       "      <td>Female</td>\n",
       "      <td>No</td>\n",
       "      <td>Sun</td>\n",
       "      <td>Dinner</td>\n",
       "      <td>2</td>\n",
       "    </tr>\n",
       "    <tr>\n",
       "      <th>1</th>\n",
       "      <td>10.34</td>\n",
       "      <td>1.66</td>\n",
       "      <td>Male</td>\n",
       "      <td>No</td>\n",
       "      <td>Sun</td>\n",
       "      <td>Dinner</td>\n",
       "      <td>3</td>\n",
       "    </tr>\n",
       "    <tr>\n",
       "      <th>2</th>\n",
       "      <td>21.01</td>\n",
       "      <td>3.50</td>\n",
       "      <td>Male</td>\n",
       "      <td>No</td>\n",
       "      <td>Sun</td>\n",
       "      <td>Dinner</td>\n",
       "      <td>3</td>\n",
       "    </tr>\n",
       "    <tr>\n",
       "      <th>3</th>\n",
       "      <td>23.68</td>\n",
       "      <td>3.31</td>\n",
       "      <td>Male</td>\n",
       "      <td>No</td>\n",
       "      <td>Sun</td>\n",
       "      <td>Dinner</td>\n",
       "      <td>2</td>\n",
       "    </tr>\n",
       "    <tr>\n",
       "      <th>4</th>\n",
       "      <td>24.59</td>\n",
       "      <td>3.61</td>\n",
       "      <td>Female</td>\n",
       "      <td>No</td>\n",
       "      <td>Sun</td>\n",
       "      <td>Dinner</td>\n",
       "      <td>4</td>\n",
       "    </tr>\n",
       "  </tbody>\n",
       "</table>\n",
       "</div>"
      ],
      "text/plain": [
       "   total_bill   tip     sex smoker  day    time  size\n",
       "0       16.99  1.01  Female     No  Sun  Dinner     2\n",
       "1       10.34  1.66    Male     No  Sun  Dinner     3\n",
       "2       21.01  3.50    Male     No  Sun  Dinner     3\n",
       "3       23.68  3.31    Male     No  Sun  Dinner     2\n",
       "4       24.59  3.61  Female     No  Sun  Dinner     4"
      ]
     },
     "execution_count": 25,
     "metadata": {},
     "output_type": "execute_result"
    }
   ],
   "source": [
    "df.head()"
   ]
  },
  {
   "cell_type": "code",
   "execution_count": 26,
   "metadata": {},
   "outputs": [
    {
     "data": {
      "text/plain": [
       "count    244.000000\n",
       "mean      19.785943\n",
       "std        8.902412\n",
       "min        3.070000\n",
       "25%       13.347500\n",
       "50%       17.795000\n",
       "75%       24.127500\n",
       "max       50.810000\n",
       "Name: total_bill, dtype: float64"
      ]
     },
     "execution_count": 26,
     "metadata": {},
     "output_type": "execute_result"
    }
   ],
   "source": [
    "df['total_bill'].describe() # Estatística descritiva"
   ]
  },
  {
   "cell_type": "code",
   "execution_count": 27,
   "metadata": {},
   "outputs": [
    {
     "data": {
      "application/vnd.plotly.v1+json": {
       "config": {
        "plotlyServerURL": "https://plot.ly"
       },
       "data": [
        {
         "alignmentgroup": "True",
         "hovertemplate": "total_bill=%{x}<extra></extra>",
         "legendgroup": "",
         "marker": {
          "color": "#636efa"
         },
         "name": "",
         "notched": false,
         "offsetgroup": "",
         "orientation": "h",
         "showlegend": false,
         "type": "box",
         "x": [
          16.99,
          10.34,
          21.01,
          23.68,
          24.59,
          25.29,
          8.77,
          26.88,
          15.04,
          14.78,
          10.27,
          35.26,
          15.42,
          18.43,
          14.83,
          21.58,
          10.33,
          16.29,
          16.97,
          20.65,
          17.92,
          20.29,
          15.77,
          39.42,
          19.82,
          17.81,
          13.37,
          12.69,
          21.7,
          19.65,
          9.55,
          18.35,
          15.06,
          20.69,
          17.78,
          24.06,
          16.31,
          16.93,
          18.69,
          31.27,
          16.04,
          17.46,
          13.94,
          9.68,
          30.4,
          18.29,
          22.23,
          32.4,
          28.55,
          18.04,
          12.54,
          10.29,
          34.81,
          9.94,
          25.56,
          19.49,
          38.01,
          26.41,
          11.24,
          48.27,
          20.29,
          13.81,
          11.02,
          18.29,
          17.59,
          20.08,
          16.45,
          3.07,
          20.23,
          15.01,
          12.02,
          17.07,
          26.86,
          25.28,
          14.73,
          10.51,
          17.92,
          27.2,
          22.76,
          17.29,
          19.44,
          16.66,
          10.07,
          32.68,
          15.98,
          34.83,
          13.03,
          18.28,
          24.71,
          21.16,
          28.97,
          22.49,
          5.75,
          16.32,
          22.75,
          40.17,
          27.28,
          12.03,
          21.01,
          12.46,
          11.35,
          15.38,
          44.3,
          22.42,
          20.92,
          15.36,
          20.49,
          25.21,
          18.24,
          14.31,
          14,
          7.25,
          38.07,
          23.95,
          25.71,
          17.31,
          29.93,
          10.65,
          12.43,
          24.08,
          11.69,
          13.42,
          14.26,
          15.95,
          12.48,
          29.8,
          8.52,
          14.52,
          11.38,
          22.82,
          19.08,
          20.27,
          11.17,
          12.26,
          18.26,
          8.51,
          10.33,
          14.15,
          16,
          13.16,
          17.47,
          34.3,
          41.19,
          27.05,
          16.43,
          8.35,
          18.64,
          11.87,
          9.78,
          7.51,
          14.07,
          13.13,
          17.26,
          24.55,
          19.77,
          29.85,
          48.17,
          25,
          13.39,
          16.49,
          21.5,
          12.66,
          16.21,
          13.81,
          17.51,
          24.52,
          20.76,
          31.71,
          10.59,
          10.63,
          50.81,
          15.81,
          7.25,
          31.85,
          16.82,
          32.9,
          17.89,
          14.48,
          9.6,
          34.63,
          34.65,
          23.33,
          45.35,
          23.17,
          40.55,
          20.69,
          20.9,
          30.46,
          18.15,
          23.1,
          15.69,
          19.81,
          28.44,
          15.48,
          16.58,
          7.56,
          10.34,
          43.11,
          13,
          13.51,
          18.71,
          12.74,
          13,
          16.4,
          20.53,
          16.47,
          26.59,
          38.73,
          24.27,
          12.76,
          30.06,
          25.89,
          48.33,
          13.27,
          28.17,
          12.9,
          28.15,
          11.59,
          7.74,
          30.14,
          12.16,
          13.42,
          8.58,
          15.98,
          13.42,
          16.27,
          10.09,
          20.45,
          13.28,
          22.12,
          24.01,
          15.69,
          11.61,
          10.77,
          15.53,
          10.07,
          12.6,
          32.83,
          35.83,
          29.03,
          27.18,
          22.67,
          17.82,
          18.78
         ],
         "x0": " ",
         "xaxis": "x",
         "y0": " ",
         "yaxis": "y"
        }
       ],
       "layout": {
        "boxmode": "group",
        "legend": {
         "tracegroupgap": 0
        },
        "margin": {
         "t": 60
        },
        "template": {
         "data": {
          "bar": [
           {
            "error_x": {
             "color": "#2a3f5f"
            },
            "error_y": {
             "color": "#2a3f5f"
            },
            "marker": {
             "line": {
              "color": "#E5ECF6",
              "width": 0.5
             },
             "pattern": {
              "fillmode": "overlay",
              "size": 10,
              "solidity": 0.2
             }
            },
            "type": "bar"
           }
          ],
          "barpolar": [
           {
            "marker": {
             "line": {
              "color": "#E5ECF6",
              "width": 0.5
             },
             "pattern": {
              "fillmode": "overlay",
              "size": 10,
              "solidity": 0.2
             }
            },
            "type": "barpolar"
           }
          ],
          "carpet": [
           {
            "aaxis": {
             "endlinecolor": "#2a3f5f",
             "gridcolor": "white",
             "linecolor": "white",
             "minorgridcolor": "white",
             "startlinecolor": "#2a3f5f"
            },
            "baxis": {
             "endlinecolor": "#2a3f5f",
             "gridcolor": "white",
             "linecolor": "white",
             "minorgridcolor": "white",
             "startlinecolor": "#2a3f5f"
            },
            "type": "carpet"
           }
          ],
          "choropleth": [
           {
            "colorbar": {
             "outlinewidth": 0,
             "ticks": ""
            },
            "type": "choropleth"
           }
          ],
          "contour": [
           {
            "colorbar": {
             "outlinewidth": 0,
             "ticks": ""
            },
            "colorscale": [
             [
              0,
              "#0d0887"
             ],
             [
              0.1111111111111111,
              "#46039f"
             ],
             [
              0.2222222222222222,
              "#7201a8"
             ],
             [
              0.3333333333333333,
              "#9c179e"
             ],
             [
              0.4444444444444444,
              "#bd3786"
             ],
             [
              0.5555555555555556,
              "#d8576b"
             ],
             [
              0.6666666666666666,
              "#ed7953"
             ],
             [
              0.7777777777777778,
              "#fb9f3a"
             ],
             [
              0.8888888888888888,
              "#fdca26"
             ],
             [
              1,
              "#f0f921"
             ]
            ],
            "type": "contour"
           }
          ],
          "contourcarpet": [
           {
            "colorbar": {
             "outlinewidth": 0,
             "ticks": ""
            },
            "type": "contourcarpet"
           }
          ],
          "heatmap": [
           {
            "colorbar": {
             "outlinewidth": 0,
             "ticks": ""
            },
            "colorscale": [
             [
              0,
              "#0d0887"
             ],
             [
              0.1111111111111111,
              "#46039f"
             ],
             [
              0.2222222222222222,
              "#7201a8"
             ],
             [
              0.3333333333333333,
              "#9c179e"
             ],
             [
              0.4444444444444444,
              "#bd3786"
             ],
             [
              0.5555555555555556,
              "#d8576b"
             ],
             [
              0.6666666666666666,
              "#ed7953"
             ],
             [
              0.7777777777777778,
              "#fb9f3a"
             ],
             [
              0.8888888888888888,
              "#fdca26"
             ],
             [
              1,
              "#f0f921"
             ]
            ],
            "type": "heatmap"
           }
          ],
          "heatmapgl": [
           {
            "colorbar": {
             "outlinewidth": 0,
             "ticks": ""
            },
            "colorscale": [
             [
              0,
              "#0d0887"
             ],
             [
              0.1111111111111111,
              "#46039f"
             ],
             [
              0.2222222222222222,
              "#7201a8"
             ],
             [
              0.3333333333333333,
              "#9c179e"
             ],
             [
              0.4444444444444444,
              "#bd3786"
             ],
             [
              0.5555555555555556,
              "#d8576b"
             ],
             [
              0.6666666666666666,
              "#ed7953"
             ],
             [
              0.7777777777777778,
              "#fb9f3a"
             ],
             [
              0.8888888888888888,
              "#fdca26"
             ],
             [
              1,
              "#f0f921"
             ]
            ],
            "type": "heatmapgl"
           }
          ],
          "histogram": [
           {
            "marker": {
             "pattern": {
              "fillmode": "overlay",
              "size": 10,
              "solidity": 0.2
             }
            },
            "type": "histogram"
           }
          ],
          "histogram2d": [
           {
            "colorbar": {
             "outlinewidth": 0,
             "ticks": ""
            },
            "colorscale": [
             [
              0,
              "#0d0887"
             ],
             [
              0.1111111111111111,
              "#46039f"
             ],
             [
              0.2222222222222222,
              "#7201a8"
             ],
             [
              0.3333333333333333,
              "#9c179e"
             ],
             [
              0.4444444444444444,
              "#bd3786"
             ],
             [
              0.5555555555555556,
              "#d8576b"
             ],
             [
              0.6666666666666666,
              "#ed7953"
             ],
             [
              0.7777777777777778,
              "#fb9f3a"
             ],
             [
              0.8888888888888888,
              "#fdca26"
             ],
             [
              1,
              "#f0f921"
             ]
            ],
            "type": "histogram2d"
           }
          ],
          "histogram2dcontour": [
           {
            "colorbar": {
             "outlinewidth": 0,
             "ticks": ""
            },
            "colorscale": [
             [
              0,
              "#0d0887"
             ],
             [
              0.1111111111111111,
              "#46039f"
             ],
             [
              0.2222222222222222,
              "#7201a8"
             ],
             [
              0.3333333333333333,
              "#9c179e"
             ],
             [
              0.4444444444444444,
              "#bd3786"
             ],
             [
              0.5555555555555556,
              "#d8576b"
             ],
             [
              0.6666666666666666,
              "#ed7953"
             ],
             [
              0.7777777777777778,
              "#fb9f3a"
             ],
             [
              0.8888888888888888,
              "#fdca26"
             ],
             [
              1,
              "#f0f921"
             ]
            ],
            "type": "histogram2dcontour"
           }
          ],
          "mesh3d": [
           {
            "colorbar": {
             "outlinewidth": 0,
             "ticks": ""
            },
            "type": "mesh3d"
           }
          ],
          "parcoords": [
           {
            "line": {
             "colorbar": {
              "outlinewidth": 0,
              "ticks": ""
             }
            },
            "type": "parcoords"
           }
          ],
          "pie": [
           {
            "automargin": true,
            "type": "pie"
           }
          ],
          "scatter": [
           {
            "fillpattern": {
             "fillmode": "overlay",
             "size": 10,
             "solidity": 0.2
            },
            "type": "scatter"
           }
          ],
          "scatter3d": [
           {
            "line": {
             "colorbar": {
              "outlinewidth": 0,
              "ticks": ""
             }
            },
            "marker": {
             "colorbar": {
              "outlinewidth": 0,
              "ticks": ""
             }
            },
            "type": "scatter3d"
           }
          ],
          "scattercarpet": [
           {
            "marker": {
             "colorbar": {
              "outlinewidth": 0,
              "ticks": ""
             }
            },
            "type": "scattercarpet"
           }
          ],
          "scattergeo": [
           {
            "marker": {
             "colorbar": {
              "outlinewidth": 0,
              "ticks": ""
             }
            },
            "type": "scattergeo"
           }
          ],
          "scattergl": [
           {
            "marker": {
             "colorbar": {
              "outlinewidth": 0,
              "ticks": ""
             }
            },
            "type": "scattergl"
           }
          ],
          "scattermapbox": [
           {
            "marker": {
             "colorbar": {
              "outlinewidth": 0,
              "ticks": ""
             }
            },
            "type": "scattermapbox"
           }
          ],
          "scatterpolar": [
           {
            "marker": {
             "colorbar": {
              "outlinewidth": 0,
              "ticks": ""
             }
            },
            "type": "scatterpolar"
           }
          ],
          "scatterpolargl": [
           {
            "marker": {
             "colorbar": {
              "outlinewidth": 0,
              "ticks": ""
             }
            },
            "type": "scatterpolargl"
           }
          ],
          "scatterternary": [
           {
            "marker": {
             "colorbar": {
              "outlinewidth": 0,
              "ticks": ""
             }
            },
            "type": "scatterternary"
           }
          ],
          "surface": [
           {
            "colorbar": {
             "outlinewidth": 0,
             "ticks": ""
            },
            "colorscale": [
             [
              0,
              "#0d0887"
             ],
             [
              0.1111111111111111,
              "#46039f"
             ],
             [
              0.2222222222222222,
              "#7201a8"
             ],
             [
              0.3333333333333333,
              "#9c179e"
             ],
             [
              0.4444444444444444,
              "#bd3786"
             ],
             [
              0.5555555555555556,
              "#d8576b"
             ],
             [
              0.6666666666666666,
              "#ed7953"
             ],
             [
              0.7777777777777778,
              "#fb9f3a"
             ],
             [
              0.8888888888888888,
              "#fdca26"
             ],
             [
              1,
              "#f0f921"
             ]
            ],
            "type": "surface"
           }
          ],
          "table": [
           {
            "cells": {
             "fill": {
              "color": "#EBF0F8"
             },
             "line": {
              "color": "white"
             }
            },
            "header": {
             "fill": {
              "color": "#C8D4E3"
             },
             "line": {
              "color": "white"
             }
            },
            "type": "table"
           }
          ]
         },
         "layout": {
          "annotationdefaults": {
           "arrowcolor": "#2a3f5f",
           "arrowhead": 0,
           "arrowwidth": 1
          },
          "autotypenumbers": "strict",
          "coloraxis": {
           "colorbar": {
            "outlinewidth": 0,
            "ticks": ""
           }
          },
          "colorscale": {
           "diverging": [
            [
             0,
             "#8e0152"
            ],
            [
             0.1,
             "#c51b7d"
            ],
            [
             0.2,
             "#de77ae"
            ],
            [
             0.3,
             "#f1b6da"
            ],
            [
             0.4,
             "#fde0ef"
            ],
            [
             0.5,
             "#f7f7f7"
            ],
            [
             0.6,
             "#e6f5d0"
            ],
            [
             0.7,
             "#b8e186"
            ],
            [
             0.8,
             "#7fbc41"
            ],
            [
             0.9,
             "#4d9221"
            ],
            [
             1,
             "#276419"
            ]
           ],
           "sequential": [
            [
             0,
             "#0d0887"
            ],
            [
             0.1111111111111111,
             "#46039f"
            ],
            [
             0.2222222222222222,
             "#7201a8"
            ],
            [
             0.3333333333333333,
             "#9c179e"
            ],
            [
             0.4444444444444444,
             "#bd3786"
            ],
            [
             0.5555555555555556,
             "#d8576b"
            ],
            [
             0.6666666666666666,
             "#ed7953"
            ],
            [
             0.7777777777777778,
             "#fb9f3a"
            ],
            [
             0.8888888888888888,
             "#fdca26"
            ],
            [
             1,
             "#f0f921"
            ]
           ],
           "sequentialminus": [
            [
             0,
             "#0d0887"
            ],
            [
             0.1111111111111111,
             "#46039f"
            ],
            [
             0.2222222222222222,
             "#7201a8"
            ],
            [
             0.3333333333333333,
             "#9c179e"
            ],
            [
             0.4444444444444444,
             "#bd3786"
            ],
            [
             0.5555555555555556,
             "#d8576b"
            ],
            [
             0.6666666666666666,
             "#ed7953"
            ],
            [
             0.7777777777777778,
             "#fb9f3a"
            ],
            [
             0.8888888888888888,
             "#fdca26"
            ],
            [
             1,
             "#f0f921"
            ]
           ]
          },
          "colorway": [
           "#636efa",
           "#EF553B",
           "#00cc96",
           "#ab63fa",
           "#FFA15A",
           "#19d3f3",
           "#FF6692",
           "#B6E880",
           "#FF97FF",
           "#FECB52"
          ],
          "font": {
           "color": "#2a3f5f"
          },
          "geo": {
           "bgcolor": "white",
           "lakecolor": "white",
           "landcolor": "#E5ECF6",
           "showlakes": true,
           "showland": true,
           "subunitcolor": "white"
          },
          "hoverlabel": {
           "align": "left"
          },
          "hovermode": "closest",
          "mapbox": {
           "style": "light"
          },
          "paper_bgcolor": "white",
          "plot_bgcolor": "#E5ECF6",
          "polar": {
           "angularaxis": {
            "gridcolor": "white",
            "linecolor": "white",
            "ticks": ""
           },
           "bgcolor": "#E5ECF6",
           "radialaxis": {
            "gridcolor": "white",
            "linecolor": "white",
            "ticks": ""
           }
          },
          "scene": {
           "xaxis": {
            "backgroundcolor": "#E5ECF6",
            "gridcolor": "white",
            "gridwidth": 2,
            "linecolor": "white",
            "showbackground": true,
            "ticks": "",
            "zerolinecolor": "white"
           },
           "yaxis": {
            "backgroundcolor": "#E5ECF6",
            "gridcolor": "white",
            "gridwidth": 2,
            "linecolor": "white",
            "showbackground": true,
            "ticks": "",
            "zerolinecolor": "white"
           },
           "zaxis": {
            "backgroundcolor": "#E5ECF6",
            "gridcolor": "white",
            "gridwidth": 2,
            "linecolor": "white",
            "showbackground": true,
            "ticks": "",
            "zerolinecolor": "white"
           }
          },
          "shapedefaults": {
           "line": {
            "color": "#2a3f5f"
           }
          },
          "ternary": {
           "aaxis": {
            "gridcolor": "white",
            "linecolor": "white",
            "ticks": ""
           },
           "baxis": {
            "gridcolor": "white",
            "linecolor": "white",
            "ticks": ""
           },
           "bgcolor": "#E5ECF6",
           "caxis": {
            "gridcolor": "white",
            "linecolor": "white",
            "ticks": ""
           }
          },
          "title": {
           "x": 0.05
          },
          "xaxis": {
           "automargin": true,
           "gridcolor": "white",
           "linecolor": "white",
           "ticks": "",
           "title": {
            "standoff": 15
           },
           "zerolinecolor": "white",
           "zerolinewidth": 2
          },
          "yaxis": {
           "automargin": true,
           "gridcolor": "white",
           "linecolor": "white",
           "ticks": "",
           "title": {
            "standoff": 15
           },
           "zerolinecolor": "white",
           "zerolinewidth": 2
          }
         }
        },
        "xaxis": {
         "anchor": "y",
         "domain": [
          0,
          1
         ],
         "title": {
          "text": "total_bill"
         }
        },
        "yaxis": {
         "anchor": "x",
         "domain": [
          0,
          1
         ]
        }
       }
      }
     },
     "metadata": {},
     "output_type": "display_data"
    }
   ],
   "source": [
    "px.box(df, x='total_bill')"
   ]
  },
  {
   "cell_type": "code",
   "execution_count": 28,
   "metadata": {},
   "outputs": [
    {
     "data": {
      "application/vnd.plotly.v1+json": {
       "config": {
        "plotlyServerURL": "https://plot.ly"
       },
       "data": [
        {
         "alignmentgroup": "True",
         "hovertemplate": "total_bill=%{x}<br>day=%{y}<extra></extra>",
         "legendgroup": "",
         "marker": {
          "color": "#636efa"
         },
         "name": "",
         "notched": false,
         "offsetgroup": "",
         "orientation": "h",
         "showlegend": false,
         "type": "box",
         "x": [
          16.99,
          10.34,
          21.01,
          23.68,
          24.59,
          25.29,
          8.77,
          26.88,
          15.04,
          14.78,
          10.27,
          35.26,
          15.42,
          18.43,
          14.83,
          21.58,
          10.33,
          16.29,
          16.97,
          20.65,
          17.92,
          20.29,
          15.77,
          39.42,
          19.82,
          17.81,
          13.37,
          12.69,
          21.7,
          19.65,
          9.55,
          18.35,
          15.06,
          20.69,
          17.78,
          24.06,
          16.31,
          16.93,
          18.69,
          31.27,
          16.04,
          17.46,
          13.94,
          9.68,
          30.4,
          18.29,
          22.23,
          32.4,
          28.55,
          18.04,
          12.54,
          10.29,
          34.81,
          9.94,
          25.56,
          19.49,
          38.01,
          26.41,
          11.24,
          48.27,
          20.29,
          13.81,
          11.02,
          18.29,
          17.59,
          20.08,
          16.45,
          3.07,
          20.23,
          15.01,
          12.02,
          17.07,
          26.86,
          25.28,
          14.73,
          10.51,
          17.92,
          27.2,
          22.76,
          17.29,
          19.44,
          16.66,
          10.07,
          32.68,
          15.98,
          34.83,
          13.03,
          18.28,
          24.71,
          21.16,
          28.97,
          22.49,
          5.75,
          16.32,
          22.75,
          40.17,
          27.28,
          12.03,
          21.01,
          12.46,
          11.35,
          15.38,
          44.3,
          22.42,
          20.92,
          15.36,
          20.49,
          25.21,
          18.24,
          14.31,
          14,
          7.25,
          38.07,
          23.95,
          25.71,
          17.31,
          29.93,
          10.65,
          12.43,
          24.08,
          11.69,
          13.42,
          14.26,
          15.95,
          12.48,
          29.8,
          8.52,
          14.52,
          11.38,
          22.82,
          19.08,
          20.27,
          11.17,
          12.26,
          18.26,
          8.51,
          10.33,
          14.15,
          16,
          13.16,
          17.47,
          34.3,
          41.19,
          27.05,
          16.43,
          8.35,
          18.64,
          11.87,
          9.78,
          7.51,
          14.07,
          13.13,
          17.26,
          24.55,
          19.77,
          29.85,
          48.17,
          25,
          13.39,
          16.49,
          21.5,
          12.66,
          16.21,
          13.81,
          17.51,
          24.52,
          20.76,
          31.71,
          10.59,
          10.63,
          50.81,
          15.81,
          7.25,
          31.85,
          16.82,
          32.9,
          17.89,
          14.48,
          9.6,
          34.63,
          34.65,
          23.33,
          45.35,
          23.17,
          40.55,
          20.69,
          20.9,
          30.46,
          18.15,
          23.1,
          15.69,
          19.81,
          28.44,
          15.48,
          16.58,
          7.56,
          10.34,
          43.11,
          13,
          13.51,
          18.71,
          12.74,
          13,
          16.4,
          20.53,
          16.47,
          26.59,
          38.73,
          24.27,
          12.76,
          30.06,
          25.89,
          48.33,
          13.27,
          28.17,
          12.9,
          28.15,
          11.59,
          7.74,
          30.14,
          12.16,
          13.42,
          8.58,
          15.98,
          13.42,
          16.27,
          10.09,
          20.45,
          13.28,
          22.12,
          24.01,
          15.69,
          11.61,
          10.77,
          15.53,
          10.07,
          12.6,
          32.83,
          35.83,
          29.03,
          27.18,
          22.67,
          17.82,
          18.78
         ],
         "x0": " ",
         "xaxis": "x",
         "y": [
          "Sun",
          "Sun",
          "Sun",
          "Sun",
          "Sun",
          "Sun",
          "Sun",
          "Sun",
          "Sun",
          "Sun",
          "Sun",
          "Sun",
          "Sun",
          "Sun",
          "Sun",
          "Sun",
          "Sun",
          "Sun",
          "Sun",
          "Sat",
          "Sat",
          "Sat",
          "Sat",
          "Sat",
          "Sat",
          "Sat",
          "Sat",
          "Sat",
          "Sat",
          "Sat",
          "Sat",
          "Sat",
          "Sat",
          "Sat",
          "Sat",
          "Sat",
          "Sat",
          "Sat",
          "Sat",
          "Sat",
          "Sat",
          "Sun",
          "Sun",
          "Sun",
          "Sun",
          "Sun",
          "Sun",
          "Sun",
          "Sun",
          "Sun",
          "Sun",
          "Sun",
          "Sun",
          "Sun",
          "Sun",
          "Sun",
          "Sat",
          "Sat",
          "Sat",
          "Sat",
          "Sat",
          "Sat",
          "Sat",
          "Sat",
          "Sat",
          "Sat",
          "Sat",
          "Sat",
          "Sat",
          "Sat",
          "Sat",
          "Sat",
          "Sat",
          "Sat",
          "Sat",
          "Sat",
          "Sat",
          "Thur",
          "Thur",
          "Thur",
          "Thur",
          "Thur",
          "Thur",
          "Thur",
          "Thur",
          "Thur",
          "Thur",
          "Thur",
          "Thur",
          "Thur",
          "Fri",
          "Fri",
          "Fri",
          "Fri",
          "Fri",
          "Fri",
          "Fri",
          "Fri",
          "Fri",
          "Fri",
          "Fri",
          "Fri",
          "Sat",
          "Sat",
          "Sat",
          "Sat",
          "Sat",
          "Sat",
          "Sat",
          "Sat",
          "Sat",
          "Sat",
          "Sun",
          "Sun",
          "Sun",
          "Sun",
          "Sun",
          "Thur",
          "Thur",
          "Thur",
          "Thur",
          "Thur",
          "Thur",
          "Thur",
          "Thur",
          "Thur",
          "Thur",
          "Thur",
          "Thur",
          "Thur",
          "Thur",
          "Thur",
          "Thur",
          "Thur",
          "Thur",
          "Thur",
          "Thur",
          "Thur",
          "Thur",
          "Thur",
          "Thur",
          "Thur",
          "Thur",
          "Thur",
          "Thur",
          "Thur",
          "Thur",
          "Thur",
          "Thur",
          "Thur",
          "Sun",
          "Sun",
          "Sun",
          "Sun",
          "Sun",
          "Sun",
          "Sun",
          "Sun",
          "Sun",
          "Sun",
          "Sun",
          "Sun",
          "Sun",
          "Sun",
          "Sun",
          "Sun",
          "Sun",
          "Sun",
          "Sat",
          "Sat",
          "Sat",
          "Sat",
          "Sun",
          "Sun",
          "Sun",
          "Sun",
          "Sun",
          "Sun",
          "Sun",
          "Sun",
          "Sun",
          "Sun",
          "Sun",
          "Sun",
          "Sun",
          "Sun",
          "Sun",
          "Sun",
          "Sun",
          "Sun",
          "Sun",
          "Thur",
          "Thur",
          "Thur",
          "Thur",
          "Thur",
          "Thur",
          "Thur",
          "Thur",
          "Thur",
          "Thur",
          "Thur",
          "Thur",
          "Thur",
          "Thur",
          "Thur",
          "Sat",
          "Sat",
          "Sat",
          "Sat",
          "Sat",
          "Sat",
          "Sat",
          "Sat",
          "Sat",
          "Sat",
          "Sat",
          "Sat",
          "Sat",
          "Sat",
          "Fri",
          "Fri",
          "Fri",
          "Fri",
          "Fri",
          "Fri",
          "Fri",
          "Sat",
          "Sat",
          "Sat",
          "Sat",
          "Sat",
          "Sat",
          "Sat",
          "Sat",
          "Sat",
          "Sat",
          "Sat",
          "Sat",
          "Sat",
          "Sat",
          "Sat",
          "Sat",
          "Thur"
         ],
         "y0": " ",
         "yaxis": "y"
        }
       ],
       "layout": {
        "boxmode": "group",
        "legend": {
         "tracegroupgap": 0
        },
        "margin": {
         "t": 60
        },
        "template": {
         "data": {
          "bar": [
           {
            "error_x": {
             "color": "#2a3f5f"
            },
            "error_y": {
             "color": "#2a3f5f"
            },
            "marker": {
             "line": {
              "color": "#E5ECF6",
              "width": 0.5
             },
             "pattern": {
              "fillmode": "overlay",
              "size": 10,
              "solidity": 0.2
             }
            },
            "type": "bar"
           }
          ],
          "barpolar": [
           {
            "marker": {
             "line": {
              "color": "#E5ECF6",
              "width": 0.5
             },
             "pattern": {
              "fillmode": "overlay",
              "size": 10,
              "solidity": 0.2
             }
            },
            "type": "barpolar"
           }
          ],
          "carpet": [
           {
            "aaxis": {
             "endlinecolor": "#2a3f5f",
             "gridcolor": "white",
             "linecolor": "white",
             "minorgridcolor": "white",
             "startlinecolor": "#2a3f5f"
            },
            "baxis": {
             "endlinecolor": "#2a3f5f",
             "gridcolor": "white",
             "linecolor": "white",
             "minorgridcolor": "white",
             "startlinecolor": "#2a3f5f"
            },
            "type": "carpet"
           }
          ],
          "choropleth": [
           {
            "colorbar": {
             "outlinewidth": 0,
             "ticks": ""
            },
            "type": "choropleth"
           }
          ],
          "contour": [
           {
            "colorbar": {
             "outlinewidth": 0,
             "ticks": ""
            },
            "colorscale": [
             [
              0,
              "#0d0887"
             ],
             [
              0.1111111111111111,
              "#46039f"
             ],
             [
              0.2222222222222222,
              "#7201a8"
             ],
             [
              0.3333333333333333,
              "#9c179e"
             ],
             [
              0.4444444444444444,
              "#bd3786"
             ],
             [
              0.5555555555555556,
              "#d8576b"
             ],
             [
              0.6666666666666666,
              "#ed7953"
             ],
             [
              0.7777777777777778,
              "#fb9f3a"
             ],
             [
              0.8888888888888888,
              "#fdca26"
             ],
             [
              1,
              "#f0f921"
             ]
            ],
            "type": "contour"
           }
          ],
          "contourcarpet": [
           {
            "colorbar": {
             "outlinewidth": 0,
             "ticks": ""
            },
            "type": "contourcarpet"
           }
          ],
          "heatmap": [
           {
            "colorbar": {
             "outlinewidth": 0,
             "ticks": ""
            },
            "colorscale": [
             [
              0,
              "#0d0887"
             ],
             [
              0.1111111111111111,
              "#46039f"
             ],
             [
              0.2222222222222222,
              "#7201a8"
             ],
             [
              0.3333333333333333,
              "#9c179e"
             ],
             [
              0.4444444444444444,
              "#bd3786"
             ],
             [
              0.5555555555555556,
              "#d8576b"
             ],
             [
              0.6666666666666666,
              "#ed7953"
             ],
             [
              0.7777777777777778,
              "#fb9f3a"
             ],
             [
              0.8888888888888888,
              "#fdca26"
             ],
             [
              1,
              "#f0f921"
             ]
            ],
            "type": "heatmap"
           }
          ],
          "heatmapgl": [
           {
            "colorbar": {
             "outlinewidth": 0,
             "ticks": ""
            },
            "colorscale": [
             [
              0,
              "#0d0887"
             ],
             [
              0.1111111111111111,
              "#46039f"
             ],
             [
              0.2222222222222222,
              "#7201a8"
             ],
             [
              0.3333333333333333,
              "#9c179e"
             ],
             [
              0.4444444444444444,
              "#bd3786"
             ],
             [
              0.5555555555555556,
              "#d8576b"
             ],
             [
              0.6666666666666666,
              "#ed7953"
             ],
             [
              0.7777777777777778,
              "#fb9f3a"
             ],
             [
              0.8888888888888888,
              "#fdca26"
             ],
             [
              1,
              "#f0f921"
             ]
            ],
            "type": "heatmapgl"
           }
          ],
          "histogram": [
           {
            "marker": {
             "pattern": {
              "fillmode": "overlay",
              "size": 10,
              "solidity": 0.2
             }
            },
            "type": "histogram"
           }
          ],
          "histogram2d": [
           {
            "colorbar": {
             "outlinewidth": 0,
             "ticks": ""
            },
            "colorscale": [
             [
              0,
              "#0d0887"
             ],
             [
              0.1111111111111111,
              "#46039f"
             ],
             [
              0.2222222222222222,
              "#7201a8"
             ],
             [
              0.3333333333333333,
              "#9c179e"
             ],
             [
              0.4444444444444444,
              "#bd3786"
             ],
             [
              0.5555555555555556,
              "#d8576b"
             ],
             [
              0.6666666666666666,
              "#ed7953"
             ],
             [
              0.7777777777777778,
              "#fb9f3a"
             ],
             [
              0.8888888888888888,
              "#fdca26"
             ],
             [
              1,
              "#f0f921"
             ]
            ],
            "type": "histogram2d"
           }
          ],
          "histogram2dcontour": [
           {
            "colorbar": {
             "outlinewidth": 0,
             "ticks": ""
            },
            "colorscale": [
             [
              0,
              "#0d0887"
             ],
             [
              0.1111111111111111,
              "#46039f"
             ],
             [
              0.2222222222222222,
              "#7201a8"
             ],
             [
              0.3333333333333333,
              "#9c179e"
             ],
             [
              0.4444444444444444,
              "#bd3786"
             ],
             [
              0.5555555555555556,
              "#d8576b"
             ],
             [
              0.6666666666666666,
              "#ed7953"
             ],
             [
              0.7777777777777778,
              "#fb9f3a"
             ],
             [
              0.8888888888888888,
              "#fdca26"
             ],
             [
              1,
              "#f0f921"
             ]
            ],
            "type": "histogram2dcontour"
           }
          ],
          "mesh3d": [
           {
            "colorbar": {
             "outlinewidth": 0,
             "ticks": ""
            },
            "type": "mesh3d"
           }
          ],
          "parcoords": [
           {
            "line": {
             "colorbar": {
              "outlinewidth": 0,
              "ticks": ""
             }
            },
            "type": "parcoords"
           }
          ],
          "pie": [
           {
            "automargin": true,
            "type": "pie"
           }
          ],
          "scatter": [
           {
            "fillpattern": {
             "fillmode": "overlay",
             "size": 10,
             "solidity": 0.2
            },
            "type": "scatter"
           }
          ],
          "scatter3d": [
           {
            "line": {
             "colorbar": {
              "outlinewidth": 0,
              "ticks": ""
             }
            },
            "marker": {
             "colorbar": {
              "outlinewidth": 0,
              "ticks": ""
             }
            },
            "type": "scatter3d"
           }
          ],
          "scattercarpet": [
           {
            "marker": {
             "colorbar": {
              "outlinewidth": 0,
              "ticks": ""
             }
            },
            "type": "scattercarpet"
           }
          ],
          "scattergeo": [
           {
            "marker": {
             "colorbar": {
              "outlinewidth": 0,
              "ticks": ""
             }
            },
            "type": "scattergeo"
           }
          ],
          "scattergl": [
           {
            "marker": {
             "colorbar": {
              "outlinewidth": 0,
              "ticks": ""
             }
            },
            "type": "scattergl"
           }
          ],
          "scattermapbox": [
           {
            "marker": {
             "colorbar": {
              "outlinewidth": 0,
              "ticks": ""
             }
            },
            "type": "scattermapbox"
           }
          ],
          "scatterpolar": [
           {
            "marker": {
             "colorbar": {
              "outlinewidth": 0,
              "ticks": ""
             }
            },
            "type": "scatterpolar"
           }
          ],
          "scatterpolargl": [
           {
            "marker": {
             "colorbar": {
              "outlinewidth": 0,
              "ticks": ""
             }
            },
            "type": "scatterpolargl"
           }
          ],
          "scatterternary": [
           {
            "marker": {
             "colorbar": {
              "outlinewidth": 0,
              "ticks": ""
             }
            },
            "type": "scatterternary"
           }
          ],
          "surface": [
           {
            "colorbar": {
             "outlinewidth": 0,
             "ticks": ""
            },
            "colorscale": [
             [
              0,
              "#0d0887"
             ],
             [
              0.1111111111111111,
              "#46039f"
             ],
             [
              0.2222222222222222,
              "#7201a8"
             ],
             [
              0.3333333333333333,
              "#9c179e"
             ],
             [
              0.4444444444444444,
              "#bd3786"
             ],
             [
              0.5555555555555556,
              "#d8576b"
             ],
             [
              0.6666666666666666,
              "#ed7953"
             ],
             [
              0.7777777777777778,
              "#fb9f3a"
             ],
             [
              0.8888888888888888,
              "#fdca26"
             ],
             [
              1,
              "#f0f921"
             ]
            ],
            "type": "surface"
           }
          ],
          "table": [
           {
            "cells": {
             "fill": {
              "color": "#EBF0F8"
             },
             "line": {
              "color": "white"
             }
            },
            "header": {
             "fill": {
              "color": "#C8D4E3"
             },
             "line": {
              "color": "white"
             }
            },
            "type": "table"
           }
          ]
         },
         "layout": {
          "annotationdefaults": {
           "arrowcolor": "#2a3f5f",
           "arrowhead": 0,
           "arrowwidth": 1
          },
          "autotypenumbers": "strict",
          "coloraxis": {
           "colorbar": {
            "outlinewidth": 0,
            "ticks": ""
           }
          },
          "colorscale": {
           "diverging": [
            [
             0,
             "#8e0152"
            ],
            [
             0.1,
             "#c51b7d"
            ],
            [
             0.2,
             "#de77ae"
            ],
            [
             0.3,
             "#f1b6da"
            ],
            [
             0.4,
             "#fde0ef"
            ],
            [
             0.5,
             "#f7f7f7"
            ],
            [
             0.6,
             "#e6f5d0"
            ],
            [
             0.7,
             "#b8e186"
            ],
            [
             0.8,
             "#7fbc41"
            ],
            [
             0.9,
             "#4d9221"
            ],
            [
             1,
             "#276419"
            ]
           ],
           "sequential": [
            [
             0,
             "#0d0887"
            ],
            [
             0.1111111111111111,
             "#46039f"
            ],
            [
             0.2222222222222222,
             "#7201a8"
            ],
            [
             0.3333333333333333,
             "#9c179e"
            ],
            [
             0.4444444444444444,
             "#bd3786"
            ],
            [
             0.5555555555555556,
             "#d8576b"
            ],
            [
             0.6666666666666666,
             "#ed7953"
            ],
            [
             0.7777777777777778,
             "#fb9f3a"
            ],
            [
             0.8888888888888888,
             "#fdca26"
            ],
            [
             1,
             "#f0f921"
            ]
           ],
           "sequentialminus": [
            [
             0,
             "#0d0887"
            ],
            [
             0.1111111111111111,
             "#46039f"
            ],
            [
             0.2222222222222222,
             "#7201a8"
            ],
            [
             0.3333333333333333,
             "#9c179e"
            ],
            [
             0.4444444444444444,
             "#bd3786"
            ],
            [
             0.5555555555555556,
             "#d8576b"
            ],
            [
             0.6666666666666666,
             "#ed7953"
            ],
            [
             0.7777777777777778,
             "#fb9f3a"
            ],
            [
             0.8888888888888888,
             "#fdca26"
            ],
            [
             1,
             "#f0f921"
            ]
           ]
          },
          "colorway": [
           "#636efa",
           "#EF553B",
           "#00cc96",
           "#ab63fa",
           "#FFA15A",
           "#19d3f3",
           "#FF6692",
           "#B6E880",
           "#FF97FF",
           "#FECB52"
          ],
          "font": {
           "color": "#2a3f5f"
          },
          "geo": {
           "bgcolor": "white",
           "lakecolor": "white",
           "landcolor": "#E5ECF6",
           "showlakes": true,
           "showland": true,
           "subunitcolor": "white"
          },
          "hoverlabel": {
           "align": "left"
          },
          "hovermode": "closest",
          "mapbox": {
           "style": "light"
          },
          "paper_bgcolor": "white",
          "plot_bgcolor": "#E5ECF6",
          "polar": {
           "angularaxis": {
            "gridcolor": "white",
            "linecolor": "white",
            "ticks": ""
           },
           "bgcolor": "#E5ECF6",
           "radialaxis": {
            "gridcolor": "white",
            "linecolor": "white",
            "ticks": ""
           }
          },
          "scene": {
           "xaxis": {
            "backgroundcolor": "#E5ECF6",
            "gridcolor": "white",
            "gridwidth": 2,
            "linecolor": "white",
            "showbackground": true,
            "ticks": "",
            "zerolinecolor": "white"
           },
           "yaxis": {
            "backgroundcolor": "#E5ECF6",
            "gridcolor": "white",
            "gridwidth": 2,
            "linecolor": "white",
            "showbackground": true,
            "ticks": "",
            "zerolinecolor": "white"
           },
           "zaxis": {
            "backgroundcolor": "#E5ECF6",
            "gridcolor": "white",
            "gridwidth": 2,
            "linecolor": "white",
            "showbackground": true,
            "ticks": "",
            "zerolinecolor": "white"
           }
          },
          "shapedefaults": {
           "line": {
            "color": "#2a3f5f"
           }
          },
          "ternary": {
           "aaxis": {
            "gridcolor": "white",
            "linecolor": "white",
            "ticks": ""
           },
           "baxis": {
            "gridcolor": "white",
            "linecolor": "white",
            "ticks": ""
           },
           "bgcolor": "#E5ECF6",
           "caxis": {
            "gridcolor": "white",
            "linecolor": "white",
            "ticks": ""
           }
          },
          "title": {
           "x": 0.05
          },
          "xaxis": {
           "automargin": true,
           "gridcolor": "white",
           "linecolor": "white",
           "ticks": "",
           "title": {
            "standoff": 15
           },
           "zerolinecolor": "white",
           "zerolinewidth": 2
          },
          "yaxis": {
           "automargin": true,
           "gridcolor": "white",
           "linecolor": "white",
           "ticks": "",
           "title": {
            "standoff": 15
           },
           "zerolinecolor": "white",
           "zerolinewidth": 2
          }
         }
        },
        "xaxis": {
         "anchor": "y",
         "domain": [
          0,
          1
         ],
         "title": {
          "text": "total_bill"
         }
        },
        "yaxis": {
         "anchor": "x",
         "domain": [
          0,
          1
         ],
         "title": {
          "text": "day"
         }
        }
       }
      }
     },
     "metadata": {},
     "output_type": "display_data"
    }
   ],
   "source": [
    "# Se na posição x, for plotado uma variavel numerica, é recomendado que no\n",
    "# no eixo y use uma variavel categorica\n",
    "px.box(df, x='total_bill', y='day')"
   ]
  },
  {
   "cell_type": "code",
   "execution_count": 29,
   "metadata": {},
   "outputs": [
    {
     "data": {
      "application/vnd.plotly.v1+json": {
       "config": {
        "plotlyServerURL": "https://plot.ly"
       },
       "data": [
        {
         "alignmentgroup": "True",
         "hovertemplate": "sex=Female<br>total_bill=%{x}<br>day=%{y}<extra></extra>",
         "legendgroup": "Female",
         "marker": {
          "color": "#636efa"
         },
         "name": "Female",
         "notched": false,
         "offsetgroup": "Female",
         "orientation": "h",
         "showlegend": true,
         "type": "box",
         "x": [
          16.99,
          24.59,
          35.26,
          14.83,
          10.33,
          16.97,
          20.29,
          15.77,
          19.65,
          15.06,
          20.69,
          16.93,
          10.29,
          34.81,
          26.41,
          16.45,
          3.07,
          17.07,
          26.86,
          25.28,
          14.73,
          10.07,
          34.83,
          5.75,
          16.32,
          22.75,
          11.35,
          15.38,
          44.3,
          22.42,
          20.92,
          14.31,
          7.25,
          25.71,
          17.31,
          10.65,
          12.43,
          24.08,
          13.42,
          12.48,
          29.8,
          14.52,
          11.38,
          20.27,
          11.17,
          12.26,
          18.26,
          8.51,
          10.33,
          14.15,
          13.16,
          17.47,
          27.05,
          16.43,
          8.35,
          18.64,
          11.87,
          29.85,
          25,
          13.39,
          16.21,
          17.51,
          10.59,
          10.63,
          9.6,
          20.9,
          18.15,
          19.81,
          43.11,
          13,
          12.74,
          13,
          16.4,
          16.47,
          12.76,
          13.27,
          28.17,
          12.9,
          30.14,
          13.42,
          15.98,
          16.27,
          10.09,
          22.12,
          35.83,
          27.18,
          18.78
         ],
         "x0": " ",
         "xaxis": "x",
         "y": [
          "Sun",
          "Sun",
          "Sun",
          "Sun",
          "Sun",
          "Sun",
          "Sat",
          "Sat",
          "Sat",
          "Sat",
          "Sat",
          "Sat",
          "Sun",
          "Sun",
          "Sat",
          "Sat",
          "Sat",
          "Sat",
          "Sat",
          "Sat",
          "Sat",
          "Thur",
          "Thur",
          "Fri",
          "Fri",
          "Fri",
          "Fri",
          "Fri",
          "Sat",
          "Sat",
          "Sat",
          "Sat",
          "Sat",
          "Sun",
          "Sun",
          "Thur",
          "Thur",
          "Thur",
          "Thur",
          "Thur",
          "Thur",
          "Thur",
          "Thur",
          "Thur",
          "Thur",
          "Thur",
          "Thur",
          "Thur",
          "Thur",
          "Thur",
          "Thur",
          "Thur",
          "Thur",
          "Thur",
          "Thur",
          "Thur",
          "Thur",
          "Sun",
          "Sun",
          "Sun",
          "Sun",
          "Sun",
          "Sat",
          "Sat",
          "Sun",
          "Sun",
          "Sun",
          "Thur",
          "Thur",
          "Thur",
          "Thur",
          "Thur",
          "Thur",
          "Thur",
          "Sat",
          "Sat",
          "Sat",
          "Sat",
          "Sat",
          "Fri",
          "Fri",
          "Fri",
          "Fri",
          "Sat",
          "Sat",
          "Sat",
          "Thur"
         ],
         "y0": " ",
         "yaxis": "y"
        },
        {
         "alignmentgroup": "True",
         "hovertemplate": "sex=Male<br>total_bill=%{x}<br>day=%{y}<extra></extra>",
         "legendgroup": "Male",
         "marker": {
          "color": "#EF553B"
         },
         "name": "Male",
         "notched": false,
         "offsetgroup": "Male",
         "orientation": "h",
         "showlegend": true,
         "type": "box",
         "x": [
          10.34,
          21.01,
          23.68,
          25.29,
          8.77,
          26.88,
          15.04,
          14.78,
          10.27,
          15.42,
          18.43,
          21.58,
          16.29,
          20.65,
          17.92,
          39.42,
          19.82,
          17.81,
          13.37,
          12.69,
          21.7,
          9.55,
          18.35,
          17.78,
          24.06,
          16.31,
          18.69,
          31.27,
          16.04,
          17.46,
          13.94,
          9.68,
          30.4,
          18.29,
          22.23,
          32.4,
          28.55,
          18.04,
          12.54,
          9.94,
          25.56,
          19.49,
          38.01,
          11.24,
          48.27,
          20.29,
          13.81,
          11.02,
          18.29,
          17.59,
          20.08,
          20.23,
          15.01,
          12.02,
          10.51,
          17.92,
          27.2,
          22.76,
          17.29,
          19.44,
          16.66,
          32.68,
          15.98,
          13.03,
          18.28,
          24.71,
          21.16,
          28.97,
          22.49,
          40.17,
          27.28,
          12.03,
          21.01,
          12.46,
          15.36,
          20.49,
          25.21,
          18.24,
          14,
          38.07,
          23.95,
          29.93,
          11.69,
          14.26,
          15.95,
          8.52,
          22.82,
          19.08,
          16,
          34.3,
          41.19,
          9.78,
          7.51,
          14.07,
          13.13,
          17.26,
          24.55,
          19.77,
          48.17,
          16.49,
          21.5,
          12.66,
          13.81,
          24.52,
          20.76,
          31.71,
          50.81,
          15.81,
          7.25,
          31.85,
          16.82,
          32.9,
          17.89,
          14.48,
          34.63,
          34.65,
          23.33,
          45.35,
          23.17,
          40.55,
          20.69,
          30.46,
          23.1,
          15.69,
          28.44,
          15.48,
          16.58,
          7.56,
          10.34,
          13.51,
          18.71,
          20.53,
          26.59,
          38.73,
          24.27,
          30.06,
          25.89,
          48.33,
          28.15,
          11.59,
          7.74,
          12.16,
          8.58,
          13.42,
          20.45,
          13.28,
          24.01,
          15.69,
          11.61,
          10.77,
          15.53,
          10.07,
          12.6,
          32.83,
          29.03,
          22.67,
          17.82
         ],
         "x0": " ",
         "xaxis": "x",
         "y": [
          "Sun",
          "Sun",
          "Sun",
          "Sun",
          "Sun",
          "Sun",
          "Sun",
          "Sun",
          "Sun",
          "Sun",
          "Sun",
          "Sun",
          "Sun",
          "Sat",
          "Sat",
          "Sat",
          "Sat",
          "Sat",
          "Sat",
          "Sat",
          "Sat",
          "Sat",
          "Sat",
          "Sat",
          "Sat",
          "Sat",
          "Sat",
          "Sat",
          "Sat",
          "Sun",
          "Sun",
          "Sun",
          "Sun",
          "Sun",
          "Sun",
          "Sun",
          "Sun",
          "Sun",
          "Sun",
          "Sun",
          "Sun",
          "Sun",
          "Sat",
          "Sat",
          "Sat",
          "Sat",
          "Sat",
          "Sat",
          "Sat",
          "Sat",
          "Sat",
          "Sat",
          "Sat",
          "Sat",
          "Sat",
          "Sat",
          "Thur",
          "Thur",
          "Thur",
          "Thur",
          "Thur",
          "Thur",
          "Thur",
          "Thur",
          "Thur",
          "Thur",
          "Thur",
          "Fri",
          "Fri",
          "Fri",
          "Fri",
          "Fri",
          "Fri",
          "Fri",
          "Sat",
          "Sat",
          "Sat",
          "Sat",
          "Sat",
          "Sun",
          "Sun",
          "Sun",
          "Thur",
          "Thur",
          "Thur",
          "Thur",
          "Thur",
          "Thur",
          "Thur",
          "Thur",
          "Thur",
          "Thur",
          "Thur",
          "Sun",
          "Sun",
          "Sun",
          "Sun",
          "Sun",
          "Sun",
          "Sun",
          "Sun",
          "Sun",
          "Sun",
          "Sun",
          "Sun",
          "Sun",
          "Sat",
          "Sat",
          "Sun",
          "Sun",
          "Sun",
          "Sun",
          "Sun",
          "Sun",
          "Sun",
          "Sun",
          "Sun",
          "Sun",
          "Sun",
          "Sun",
          "Sun",
          "Sun",
          "Sun",
          "Sun",
          "Thur",
          "Thur",
          "Thur",
          "Thur",
          "Thur",
          "Thur",
          "Thur",
          "Thur",
          "Sat",
          "Sat",
          "Sat",
          "Sat",
          "Sat",
          "Sat",
          "Sat",
          "Sat",
          "Sat",
          "Fri",
          "Fri",
          "Fri",
          "Sat",
          "Sat",
          "Sat",
          "Sat",
          "Sat",
          "Sat",
          "Sat",
          "Sat",
          "Sat",
          "Sat",
          "Sat",
          "Sat",
          "Sat"
         ],
         "y0": " ",
         "yaxis": "y"
        }
       ],
       "layout": {
        "boxmode": "group",
        "legend": {
         "title": {
          "text": "sex"
         },
         "tracegroupgap": 0
        },
        "margin": {
         "t": 60
        },
        "template": {
         "data": {
          "bar": [
           {
            "error_x": {
             "color": "#2a3f5f"
            },
            "error_y": {
             "color": "#2a3f5f"
            },
            "marker": {
             "line": {
              "color": "#E5ECF6",
              "width": 0.5
             },
             "pattern": {
              "fillmode": "overlay",
              "size": 10,
              "solidity": 0.2
             }
            },
            "type": "bar"
           }
          ],
          "barpolar": [
           {
            "marker": {
             "line": {
              "color": "#E5ECF6",
              "width": 0.5
             },
             "pattern": {
              "fillmode": "overlay",
              "size": 10,
              "solidity": 0.2
             }
            },
            "type": "barpolar"
           }
          ],
          "carpet": [
           {
            "aaxis": {
             "endlinecolor": "#2a3f5f",
             "gridcolor": "white",
             "linecolor": "white",
             "minorgridcolor": "white",
             "startlinecolor": "#2a3f5f"
            },
            "baxis": {
             "endlinecolor": "#2a3f5f",
             "gridcolor": "white",
             "linecolor": "white",
             "minorgridcolor": "white",
             "startlinecolor": "#2a3f5f"
            },
            "type": "carpet"
           }
          ],
          "choropleth": [
           {
            "colorbar": {
             "outlinewidth": 0,
             "ticks": ""
            },
            "type": "choropleth"
           }
          ],
          "contour": [
           {
            "colorbar": {
             "outlinewidth": 0,
             "ticks": ""
            },
            "colorscale": [
             [
              0,
              "#0d0887"
             ],
             [
              0.1111111111111111,
              "#46039f"
             ],
             [
              0.2222222222222222,
              "#7201a8"
             ],
             [
              0.3333333333333333,
              "#9c179e"
             ],
             [
              0.4444444444444444,
              "#bd3786"
             ],
             [
              0.5555555555555556,
              "#d8576b"
             ],
             [
              0.6666666666666666,
              "#ed7953"
             ],
             [
              0.7777777777777778,
              "#fb9f3a"
             ],
             [
              0.8888888888888888,
              "#fdca26"
             ],
             [
              1,
              "#f0f921"
             ]
            ],
            "type": "contour"
           }
          ],
          "contourcarpet": [
           {
            "colorbar": {
             "outlinewidth": 0,
             "ticks": ""
            },
            "type": "contourcarpet"
           }
          ],
          "heatmap": [
           {
            "colorbar": {
             "outlinewidth": 0,
             "ticks": ""
            },
            "colorscale": [
             [
              0,
              "#0d0887"
             ],
             [
              0.1111111111111111,
              "#46039f"
             ],
             [
              0.2222222222222222,
              "#7201a8"
             ],
             [
              0.3333333333333333,
              "#9c179e"
             ],
             [
              0.4444444444444444,
              "#bd3786"
             ],
             [
              0.5555555555555556,
              "#d8576b"
             ],
             [
              0.6666666666666666,
              "#ed7953"
             ],
             [
              0.7777777777777778,
              "#fb9f3a"
             ],
             [
              0.8888888888888888,
              "#fdca26"
             ],
             [
              1,
              "#f0f921"
             ]
            ],
            "type": "heatmap"
           }
          ],
          "heatmapgl": [
           {
            "colorbar": {
             "outlinewidth": 0,
             "ticks": ""
            },
            "colorscale": [
             [
              0,
              "#0d0887"
             ],
             [
              0.1111111111111111,
              "#46039f"
             ],
             [
              0.2222222222222222,
              "#7201a8"
             ],
             [
              0.3333333333333333,
              "#9c179e"
             ],
             [
              0.4444444444444444,
              "#bd3786"
             ],
             [
              0.5555555555555556,
              "#d8576b"
             ],
             [
              0.6666666666666666,
              "#ed7953"
             ],
             [
              0.7777777777777778,
              "#fb9f3a"
             ],
             [
              0.8888888888888888,
              "#fdca26"
             ],
             [
              1,
              "#f0f921"
             ]
            ],
            "type": "heatmapgl"
           }
          ],
          "histogram": [
           {
            "marker": {
             "pattern": {
              "fillmode": "overlay",
              "size": 10,
              "solidity": 0.2
             }
            },
            "type": "histogram"
           }
          ],
          "histogram2d": [
           {
            "colorbar": {
             "outlinewidth": 0,
             "ticks": ""
            },
            "colorscale": [
             [
              0,
              "#0d0887"
             ],
             [
              0.1111111111111111,
              "#46039f"
             ],
             [
              0.2222222222222222,
              "#7201a8"
             ],
             [
              0.3333333333333333,
              "#9c179e"
             ],
             [
              0.4444444444444444,
              "#bd3786"
             ],
             [
              0.5555555555555556,
              "#d8576b"
             ],
             [
              0.6666666666666666,
              "#ed7953"
             ],
             [
              0.7777777777777778,
              "#fb9f3a"
             ],
             [
              0.8888888888888888,
              "#fdca26"
             ],
             [
              1,
              "#f0f921"
             ]
            ],
            "type": "histogram2d"
           }
          ],
          "histogram2dcontour": [
           {
            "colorbar": {
             "outlinewidth": 0,
             "ticks": ""
            },
            "colorscale": [
             [
              0,
              "#0d0887"
             ],
             [
              0.1111111111111111,
              "#46039f"
             ],
             [
              0.2222222222222222,
              "#7201a8"
             ],
             [
              0.3333333333333333,
              "#9c179e"
             ],
             [
              0.4444444444444444,
              "#bd3786"
             ],
             [
              0.5555555555555556,
              "#d8576b"
             ],
             [
              0.6666666666666666,
              "#ed7953"
             ],
             [
              0.7777777777777778,
              "#fb9f3a"
             ],
             [
              0.8888888888888888,
              "#fdca26"
             ],
             [
              1,
              "#f0f921"
             ]
            ],
            "type": "histogram2dcontour"
           }
          ],
          "mesh3d": [
           {
            "colorbar": {
             "outlinewidth": 0,
             "ticks": ""
            },
            "type": "mesh3d"
           }
          ],
          "parcoords": [
           {
            "line": {
             "colorbar": {
              "outlinewidth": 0,
              "ticks": ""
             }
            },
            "type": "parcoords"
           }
          ],
          "pie": [
           {
            "automargin": true,
            "type": "pie"
           }
          ],
          "scatter": [
           {
            "fillpattern": {
             "fillmode": "overlay",
             "size": 10,
             "solidity": 0.2
            },
            "type": "scatter"
           }
          ],
          "scatter3d": [
           {
            "line": {
             "colorbar": {
              "outlinewidth": 0,
              "ticks": ""
             }
            },
            "marker": {
             "colorbar": {
              "outlinewidth": 0,
              "ticks": ""
             }
            },
            "type": "scatter3d"
           }
          ],
          "scattercarpet": [
           {
            "marker": {
             "colorbar": {
              "outlinewidth": 0,
              "ticks": ""
             }
            },
            "type": "scattercarpet"
           }
          ],
          "scattergeo": [
           {
            "marker": {
             "colorbar": {
              "outlinewidth": 0,
              "ticks": ""
             }
            },
            "type": "scattergeo"
           }
          ],
          "scattergl": [
           {
            "marker": {
             "colorbar": {
              "outlinewidth": 0,
              "ticks": ""
             }
            },
            "type": "scattergl"
           }
          ],
          "scattermapbox": [
           {
            "marker": {
             "colorbar": {
              "outlinewidth": 0,
              "ticks": ""
             }
            },
            "type": "scattermapbox"
           }
          ],
          "scatterpolar": [
           {
            "marker": {
             "colorbar": {
              "outlinewidth": 0,
              "ticks": ""
             }
            },
            "type": "scatterpolar"
           }
          ],
          "scatterpolargl": [
           {
            "marker": {
             "colorbar": {
              "outlinewidth": 0,
              "ticks": ""
             }
            },
            "type": "scatterpolargl"
           }
          ],
          "scatterternary": [
           {
            "marker": {
             "colorbar": {
              "outlinewidth": 0,
              "ticks": ""
             }
            },
            "type": "scatterternary"
           }
          ],
          "surface": [
           {
            "colorbar": {
             "outlinewidth": 0,
             "ticks": ""
            },
            "colorscale": [
             [
              0,
              "#0d0887"
             ],
             [
              0.1111111111111111,
              "#46039f"
             ],
             [
              0.2222222222222222,
              "#7201a8"
             ],
             [
              0.3333333333333333,
              "#9c179e"
             ],
             [
              0.4444444444444444,
              "#bd3786"
             ],
             [
              0.5555555555555556,
              "#d8576b"
             ],
             [
              0.6666666666666666,
              "#ed7953"
             ],
             [
              0.7777777777777778,
              "#fb9f3a"
             ],
             [
              0.8888888888888888,
              "#fdca26"
             ],
             [
              1,
              "#f0f921"
             ]
            ],
            "type": "surface"
           }
          ],
          "table": [
           {
            "cells": {
             "fill": {
              "color": "#EBF0F8"
             },
             "line": {
              "color": "white"
             }
            },
            "header": {
             "fill": {
              "color": "#C8D4E3"
             },
             "line": {
              "color": "white"
             }
            },
            "type": "table"
           }
          ]
         },
         "layout": {
          "annotationdefaults": {
           "arrowcolor": "#2a3f5f",
           "arrowhead": 0,
           "arrowwidth": 1
          },
          "autotypenumbers": "strict",
          "coloraxis": {
           "colorbar": {
            "outlinewidth": 0,
            "ticks": ""
           }
          },
          "colorscale": {
           "diverging": [
            [
             0,
             "#8e0152"
            ],
            [
             0.1,
             "#c51b7d"
            ],
            [
             0.2,
             "#de77ae"
            ],
            [
             0.3,
             "#f1b6da"
            ],
            [
             0.4,
             "#fde0ef"
            ],
            [
             0.5,
             "#f7f7f7"
            ],
            [
             0.6,
             "#e6f5d0"
            ],
            [
             0.7,
             "#b8e186"
            ],
            [
             0.8,
             "#7fbc41"
            ],
            [
             0.9,
             "#4d9221"
            ],
            [
             1,
             "#276419"
            ]
           ],
           "sequential": [
            [
             0,
             "#0d0887"
            ],
            [
             0.1111111111111111,
             "#46039f"
            ],
            [
             0.2222222222222222,
             "#7201a8"
            ],
            [
             0.3333333333333333,
             "#9c179e"
            ],
            [
             0.4444444444444444,
             "#bd3786"
            ],
            [
             0.5555555555555556,
             "#d8576b"
            ],
            [
             0.6666666666666666,
             "#ed7953"
            ],
            [
             0.7777777777777778,
             "#fb9f3a"
            ],
            [
             0.8888888888888888,
             "#fdca26"
            ],
            [
             1,
             "#f0f921"
            ]
           ],
           "sequentialminus": [
            [
             0,
             "#0d0887"
            ],
            [
             0.1111111111111111,
             "#46039f"
            ],
            [
             0.2222222222222222,
             "#7201a8"
            ],
            [
             0.3333333333333333,
             "#9c179e"
            ],
            [
             0.4444444444444444,
             "#bd3786"
            ],
            [
             0.5555555555555556,
             "#d8576b"
            ],
            [
             0.6666666666666666,
             "#ed7953"
            ],
            [
             0.7777777777777778,
             "#fb9f3a"
            ],
            [
             0.8888888888888888,
             "#fdca26"
            ],
            [
             1,
             "#f0f921"
            ]
           ]
          },
          "colorway": [
           "#636efa",
           "#EF553B",
           "#00cc96",
           "#ab63fa",
           "#FFA15A",
           "#19d3f3",
           "#FF6692",
           "#B6E880",
           "#FF97FF",
           "#FECB52"
          ],
          "font": {
           "color": "#2a3f5f"
          },
          "geo": {
           "bgcolor": "white",
           "lakecolor": "white",
           "landcolor": "#E5ECF6",
           "showlakes": true,
           "showland": true,
           "subunitcolor": "white"
          },
          "hoverlabel": {
           "align": "left"
          },
          "hovermode": "closest",
          "mapbox": {
           "style": "light"
          },
          "paper_bgcolor": "white",
          "plot_bgcolor": "#E5ECF6",
          "polar": {
           "angularaxis": {
            "gridcolor": "white",
            "linecolor": "white",
            "ticks": ""
           },
           "bgcolor": "#E5ECF6",
           "radialaxis": {
            "gridcolor": "white",
            "linecolor": "white",
            "ticks": ""
           }
          },
          "scene": {
           "xaxis": {
            "backgroundcolor": "#E5ECF6",
            "gridcolor": "white",
            "gridwidth": 2,
            "linecolor": "white",
            "showbackground": true,
            "ticks": "",
            "zerolinecolor": "white"
           },
           "yaxis": {
            "backgroundcolor": "#E5ECF6",
            "gridcolor": "white",
            "gridwidth": 2,
            "linecolor": "white",
            "showbackground": true,
            "ticks": "",
            "zerolinecolor": "white"
           },
           "zaxis": {
            "backgroundcolor": "#E5ECF6",
            "gridcolor": "white",
            "gridwidth": 2,
            "linecolor": "white",
            "showbackground": true,
            "ticks": "",
            "zerolinecolor": "white"
           }
          },
          "shapedefaults": {
           "line": {
            "color": "#2a3f5f"
           }
          },
          "ternary": {
           "aaxis": {
            "gridcolor": "white",
            "linecolor": "white",
            "ticks": ""
           },
           "baxis": {
            "gridcolor": "white",
            "linecolor": "white",
            "ticks": ""
           },
           "bgcolor": "#E5ECF6",
           "caxis": {
            "gridcolor": "white",
            "linecolor": "white",
            "ticks": ""
           }
          },
          "title": {
           "x": 0.05
          },
          "xaxis": {
           "automargin": true,
           "gridcolor": "white",
           "linecolor": "white",
           "ticks": "",
           "title": {
            "standoff": 15
           },
           "zerolinecolor": "white",
           "zerolinewidth": 2
          },
          "yaxis": {
           "automargin": true,
           "gridcolor": "white",
           "linecolor": "white",
           "ticks": "",
           "title": {
            "standoff": 15
           },
           "zerolinecolor": "white",
           "zerolinewidth": 2
          }
         }
        },
        "xaxis": {
         "anchor": "y",
         "domain": [
          0,
          1
         ],
         "title": {
          "text": "total_bill"
         }
        },
        "yaxis": {
         "anchor": "x",
         "domain": [
          0,
          1
         ],
         "title": {
          "text": "day"
         }
        }
       }
      }
     },
     "metadata": {},
     "output_type": "display_data"
    }
   ],
   "source": [
    "px.box(df, x='total_bill', y='day', color='sex')"
   ]
  },
  {
   "cell_type": "code",
   "execution_count": 30,
   "metadata": {},
   "outputs": [
    {
     "data": {
      "application/vnd.plotly.v1+json": {
       "config": {
        "plotlyServerURL": "https://plot.ly"
       },
       "data": [
        {
         "alignmentgroup": "True",
         "boxpoints": "all",
         "hovertemplate": "total_bill=%{x}<extra></extra>",
         "legendgroup": "",
         "marker": {
          "color": "#636efa"
         },
         "name": "",
         "notched": false,
         "offsetgroup": "",
         "orientation": "h",
         "showlegend": false,
         "type": "box",
         "x": [
          16.99,
          10.34,
          21.01,
          23.68,
          24.59,
          25.29,
          8.77,
          26.88,
          15.04,
          14.78,
          10.27,
          35.26,
          15.42,
          18.43,
          14.83,
          21.58,
          10.33,
          16.29,
          16.97,
          20.65,
          17.92,
          20.29,
          15.77,
          39.42,
          19.82,
          17.81,
          13.37,
          12.69,
          21.7,
          19.65,
          9.55,
          18.35,
          15.06,
          20.69,
          17.78,
          24.06,
          16.31,
          16.93,
          18.69,
          31.27,
          16.04,
          17.46,
          13.94,
          9.68,
          30.4,
          18.29,
          22.23,
          32.4,
          28.55,
          18.04,
          12.54,
          10.29,
          34.81,
          9.94,
          25.56,
          19.49,
          38.01,
          26.41,
          11.24,
          48.27,
          20.29,
          13.81,
          11.02,
          18.29,
          17.59,
          20.08,
          16.45,
          3.07,
          20.23,
          15.01,
          12.02,
          17.07,
          26.86,
          25.28,
          14.73,
          10.51,
          17.92,
          27.2,
          22.76,
          17.29,
          19.44,
          16.66,
          10.07,
          32.68,
          15.98,
          34.83,
          13.03,
          18.28,
          24.71,
          21.16,
          28.97,
          22.49,
          5.75,
          16.32,
          22.75,
          40.17,
          27.28,
          12.03,
          21.01,
          12.46,
          11.35,
          15.38,
          44.3,
          22.42,
          20.92,
          15.36,
          20.49,
          25.21,
          18.24,
          14.31,
          14,
          7.25,
          38.07,
          23.95,
          25.71,
          17.31,
          29.93,
          10.65,
          12.43,
          24.08,
          11.69,
          13.42,
          14.26,
          15.95,
          12.48,
          29.8,
          8.52,
          14.52,
          11.38,
          22.82,
          19.08,
          20.27,
          11.17,
          12.26,
          18.26,
          8.51,
          10.33,
          14.15,
          16,
          13.16,
          17.47,
          34.3,
          41.19,
          27.05,
          16.43,
          8.35,
          18.64,
          11.87,
          9.78,
          7.51,
          14.07,
          13.13,
          17.26,
          24.55,
          19.77,
          29.85,
          48.17,
          25,
          13.39,
          16.49,
          21.5,
          12.66,
          16.21,
          13.81,
          17.51,
          24.52,
          20.76,
          31.71,
          10.59,
          10.63,
          50.81,
          15.81,
          7.25,
          31.85,
          16.82,
          32.9,
          17.89,
          14.48,
          9.6,
          34.63,
          34.65,
          23.33,
          45.35,
          23.17,
          40.55,
          20.69,
          20.9,
          30.46,
          18.15,
          23.1,
          15.69,
          19.81,
          28.44,
          15.48,
          16.58,
          7.56,
          10.34,
          43.11,
          13,
          13.51,
          18.71,
          12.74,
          13,
          16.4,
          20.53,
          16.47,
          26.59,
          38.73,
          24.27,
          12.76,
          30.06,
          25.89,
          48.33,
          13.27,
          28.17,
          12.9,
          28.15,
          11.59,
          7.74,
          30.14,
          12.16,
          13.42,
          8.58,
          15.98,
          13.42,
          16.27,
          10.09,
          20.45,
          13.28,
          22.12,
          24.01,
          15.69,
          11.61,
          10.77,
          15.53,
          10.07,
          12.6,
          32.83,
          35.83,
          29.03,
          27.18,
          22.67,
          17.82,
          18.78
         ],
         "x0": " ",
         "xaxis": "x",
         "y0": " ",
         "yaxis": "y"
        }
       ],
       "layout": {
        "boxmode": "group",
        "legend": {
         "tracegroupgap": 0
        },
        "margin": {
         "t": 60
        },
        "template": {
         "data": {
          "bar": [
           {
            "error_x": {
             "color": "#2a3f5f"
            },
            "error_y": {
             "color": "#2a3f5f"
            },
            "marker": {
             "line": {
              "color": "#E5ECF6",
              "width": 0.5
             },
             "pattern": {
              "fillmode": "overlay",
              "size": 10,
              "solidity": 0.2
             }
            },
            "type": "bar"
           }
          ],
          "barpolar": [
           {
            "marker": {
             "line": {
              "color": "#E5ECF6",
              "width": 0.5
             },
             "pattern": {
              "fillmode": "overlay",
              "size": 10,
              "solidity": 0.2
             }
            },
            "type": "barpolar"
           }
          ],
          "carpet": [
           {
            "aaxis": {
             "endlinecolor": "#2a3f5f",
             "gridcolor": "white",
             "linecolor": "white",
             "minorgridcolor": "white",
             "startlinecolor": "#2a3f5f"
            },
            "baxis": {
             "endlinecolor": "#2a3f5f",
             "gridcolor": "white",
             "linecolor": "white",
             "minorgridcolor": "white",
             "startlinecolor": "#2a3f5f"
            },
            "type": "carpet"
           }
          ],
          "choropleth": [
           {
            "colorbar": {
             "outlinewidth": 0,
             "ticks": ""
            },
            "type": "choropleth"
           }
          ],
          "contour": [
           {
            "colorbar": {
             "outlinewidth": 0,
             "ticks": ""
            },
            "colorscale": [
             [
              0,
              "#0d0887"
             ],
             [
              0.1111111111111111,
              "#46039f"
             ],
             [
              0.2222222222222222,
              "#7201a8"
             ],
             [
              0.3333333333333333,
              "#9c179e"
             ],
             [
              0.4444444444444444,
              "#bd3786"
             ],
             [
              0.5555555555555556,
              "#d8576b"
             ],
             [
              0.6666666666666666,
              "#ed7953"
             ],
             [
              0.7777777777777778,
              "#fb9f3a"
             ],
             [
              0.8888888888888888,
              "#fdca26"
             ],
             [
              1,
              "#f0f921"
             ]
            ],
            "type": "contour"
           }
          ],
          "contourcarpet": [
           {
            "colorbar": {
             "outlinewidth": 0,
             "ticks": ""
            },
            "type": "contourcarpet"
           }
          ],
          "heatmap": [
           {
            "colorbar": {
             "outlinewidth": 0,
             "ticks": ""
            },
            "colorscale": [
             [
              0,
              "#0d0887"
             ],
             [
              0.1111111111111111,
              "#46039f"
             ],
             [
              0.2222222222222222,
              "#7201a8"
             ],
             [
              0.3333333333333333,
              "#9c179e"
             ],
             [
              0.4444444444444444,
              "#bd3786"
             ],
             [
              0.5555555555555556,
              "#d8576b"
             ],
             [
              0.6666666666666666,
              "#ed7953"
             ],
             [
              0.7777777777777778,
              "#fb9f3a"
             ],
             [
              0.8888888888888888,
              "#fdca26"
             ],
             [
              1,
              "#f0f921"
             ]
            ],
            "type": "heatmap"
           }
          ],
          "heatmapgl": [
           {
            "colorbar": {
             "outlinewidth": 0,
             "ticks": ""
            },
            "colorscale": [
             [
              0,
              "#0d0887"
             ],
             [
              0.1111111111111111,
              "#46039f"
             ],
             [
              0.2222222222222222,
              "#7201a8"
             ],
             [
              0.3333333333333333,
              "#9c179e"
             ],
             [
              0.4444444444444444,
              "#bd3786"
             ],
             [
              0.5555555555555556,
              "#d8576b"
             ],
             [
              0.6666666666666666,
              "#ed7953"
             ],
             [
              0.7777777777777778,
              "#fb9f3a"
             ],
             [
              0.8888888888888888,
              "#fdca26"
             ],
             [
              1,
              "#f0f921"
             ]
            ],
            "type": "heatmapgl"
           }
          ],
          "histogram": [
           {
            "marker": {
             "pattern": {
              "fillmode": "overlay",
              "size": 10,
              "solidity": 0.2
             }
            },
            "type": "histogram"
           }
          ],
          "histogram2d": [
           {
            "colorbar": {
             "outlinewidth": 0,
             "ticks": ""
            },
            "colorscale": [
             [
              0,
              "#0d0887"
             ],
             [
              0.1111111111111111,
              "#46039f"
             ],
             [
              0.2222222222222222,
              "#7201a8"
             ],
             [
              0.3333333333333333,
              "#9c179e"
             ],
             [
              0.4444444444444444,
              "#bd3786"
             ],
             [
              0.5555555555555556,
              "#d8576b"
             ],
             [
              0.6666666666666666,
              "#ed7953"
             ],
             [
              0.7777777777777778,
              "#fb9f3a"
             ],
             [
              0.8888888888888888,
              "#fdca26"
             ],
             [
              1,
              "#f0f921"
             ]
            ],
            "type": "histogram2d"
           }
          ],
          "histogram2dcontour": [
           {
            "colorbar": {
             "outlinewidth": 0,
             "ticks": ""
            },
            "colorscale": [
             [
              0,
              "#0d0887"
             ],
             [
              0.1111111111111111,
              "#46039f"
             ],
             [
              0.2222222222222222,
              "#7201a8"
             ],
             [
              0.3333333333333333,
              "#9c179e"
             ],
             [
              0.4444444444444444,
              "#bd3786"
             ],
             [
              0.5555555555555556,
              "#d8576b"
             ],
             [
              0.6666666666666666,
              "#ed7953"
             ],
             [
              0.7777777777777778,
              "#fb9f3a"
             ],
             [
              0.8888888888888888,
              "#fdca26"
             ],
             [
              1,
              "#f0f921"
             ]
            ],
            "type": "histogram2dcontour"
           }
          ],
          "mesh3d": [
           {
            "colorbar": {
             "outlinewidth": 0,
             "ticks": ""
            },
            "type": "mesh3d"
           }
          ],
          "parcoords": [
           {
            "line": {
             "colorbar": {
              "outlinewidth": 0,
              "ticks": ""
             }
            },
            "type": "parcoords"
           }
          ],
          "pie": [
           {
            "automargin": true,
            "type": "pie"
           }
          ],
          "scatter": [
           {
            "fillpattern": {
             "fillmode": "overlay",
             "size": 10,
             "solidity": 0.2
            },
            "type": "scatter"
           }
          ],
          "scatter3d": [
           {
            "line": {
             "colorbar": {
              "outlinewidth": 0,
              "ticks": ""
             }
            },
            "marker": {
             "colorbar": {
              "outlinewidth": 0,
              "ticks": ""
             }
            },
            "type": "scatter3d"
           }
          ],
          "scattercarpet": [
           {
            "marker": {
             "colorbar": {
              "outlinewidth": 0,
              "ticks": ""
             }
            },
            "type": "scattercarpet"
           }
          ],
          "scattergeo": [
           {
            "marker": {
             "colorbar": {
              "outlinewidth": 0,
              "ticks": ""
             }
            },
            "type": "scattergeo"
           }
          ],
          "scattergl": [
           {
            "marker": {
             "colorbar": {
              "outlinewidth": 0,
              "ticks": ""
             }
            },
            "type": "scattergl"
           }
          ],
          "scattermapbox": [
           {
            "marker": {
             "colorbar": {
              "outlinewidth": 0,
              "ticks": ""
             }
            },
            "type": "scattermapbox"
           }
          ],
          "scatterpolar": [
           {
            "marker": {
             "colorbar": {
              "outlinewidth": 0,
              "ticks": ""
             }
            },
            "type": "scatterpolar"
           }
          ],
          "scatterpolargl": [
           {
            "marker": {
             "colorbar": {
              "outlinewidth": 0,
              "ticks": ""
             }
            },
            "type": "scatterpolargl"
           }
          ],
          "scatterternary": [
           {
            "marker": {
             "colorbar": {
              "outlinewidth": 0,
              "ticks": ""
             }
            },
            "type": "scatterternary"
           }
          ],
          "surface": [
           {
            "colorbar": {
             "outlinewidth": 0,
             "ticks": ""
            },
            "colorscale": [
             [
              0,
              "#0d0887"
             ],
             [
              0.1111111111111111,
              "#46039f"
             ],
             [
              0.2222222222222222,
              "#7201a8"
             ],
             [
              0.3333333333333333,
              "#9c179e"
             ],
             [
              0.4444444444444444,
              "#bd3786"
             ],
             [
              0.5555555555555556,
              "#d8576b"
             ],
             [
              0.6666666666666666,
              "#ed7953"
             ],
             [
              0.7777777777777778,
              "#fb9f3a"
             ],
             [
              0.8888888888888888,
              "#fdca26"
             ],
             [
              1,
              "#f0f921"
             ]
            ],
            "type": "surface"
           }
          ],
          "table": [
           {
            "cells": {
             "fill": {
              "color": "#EBF0F8"
             },
             "line": {
              "color": "white"
             }
            },
            "header": {
             "fill": {
              "color": "#C8D4E3"
             },
             "line": {
              "color": "white"
             }
            },
            "type": "table"
           }
          ]
         },
         "layout": {
          "annotationdefaults": {
           "arrowcolor": "#2a3f5f",
           "arrowhead": 0,
           "arrowwidth": 1
          },
          "autotypenumbers": "strict",
          "coloraxis": {
           "colorbar": {
            "outlinewidth": 0,
            "ticks": ""
           }
          },
          "colorscale": {
           "diverging": [
            [
             0,
             "#8e0152"
            ],
            [
             0.1,
             "#c51b7d"
            ],
            [
             0.2,
             "#de77ae"
            ],
            [
             0.3,
             "#f1b6da"
            ],
            [
             0.4,
             "#fde0ef"
            ],
            [
             0.5,
             "#f7f7f7"
            ],
            [
             0.6,
             "#e6f5d0"
            ],
            [
             0.7,
             "#b8e186"
            ],
            [
             0.8,
             "#7fbc41"
            ],
            [
             0.9,
             "#4d9221"
            ],
            [
             1,
             "#276419"
            ]
           ],
           "sequential": [
            [
             0,
             "#0d0887"
            ],
            [
             0.1111111111111111,
             "#46039f"
            ],
            [
             0.2222222222222222,
             "#7201a8"
            ],
            [
             0.3333333333333333,
             "#9c179e"
            ],
            [
             0.4444444444444444,
             "#bd3786"
            ],
            [
             0.5555555555555556,
             "#d8576b"
            ],
            [
             0.6666666666666666,
             "#ed7953"
            ],
            [
             0.7777777777777778,
             "#fb9f3a"
            ],
            [
             0.8888888888888888,
             "#fdca26"
            ],
            [
             1,
             "#f0f921"
            ]
           ],
           "sequentialminus": [
            [
             0,
             "#0d0887"
            ],
            [
             0.1111111111111111,
             "#46039f"
            ],
            [
             0.2222222222222222,
             "#7201a8"
            ],
            [
             0.3333333333333333,
             "#9c179e"
            ],
            [
             0.4444444444444444,
             "#bd3786"
            ],
            [
             0.5555555555555556,
             "#d8576b"
            ],
            [
             0.6666666666666666,
             "#ed7953"
            ],
            [
             0.7777777777777778,
             "#fb9f3a"
            ],
            [
             0.8888888888888888,
             "#fdca26"
            ],
            [
             1,
             "#f0f921"
            ]
           ]
          },
          "colorway": [
           "#636efa",
           "#EF553B",
           "#00cc96",
           "#ab63fa",
           "#FFA15A",
           "#19d3f3",
           "#FF6692",
           "#B6E880",
           "#FF97FF",
           "#FECB52"
          ],
          "font": {
           "color": "#2a3f5f"
          },
          "geo": {
           "bgcolor": "white",
           "lakecolor": "white",
           "landcolor": "#E5ECF6",
           "showlakes": true,
           "showland": true,
           "subunitcolor": "white"
          },
          "hoverlabel": {
           "align": "left"
          },
          "hovermode": "closest",
          "mapbox": {
           "style": "light"
          },
          "paper_bgcolor": "white",
          "plot_bgcolor": "#E5ECF6",
          "polar": {
           "angularaxis": {
            "gridcolor": "white",
            "linecolor": "white",
            "ticks": ""
           },
           "bgcolor": "#E5ECF6",
           "radialaxis": {
            "gridcolor": "white",
            "linecolor": "white",
            "ticks": ""
           }
          },
          "scene": {
           "xaxis": {
            "backgroundcolor": "#E5ECF6",
            "gridcolor": "white",
            "gridwidth": 2,
            "linecolor": "white",
            "showbackground": true,
            "ticks": "",
            "zerolinecolor": "white"
           },
           "yaxis": {
            "backgroundcolor": "#E5ECF6",
            "gridcolor": "white",
            "gridwidth": 2,
            "linecolor": "white",
            "showbackground": true,
            "ticks": "",
            "zerolinecolor": "white"
           },
           "zaxis": {
            "backgroundcolor": "#E5ECF6",
            "gridcolor": "white",
            "gridwidth": 2,
            "linecolor": "white",
            "showbackground": true,
            "ticks": "",
            "zerolinecolor": "white"
           }
          },
          "shapedefaults": {
           "line": {
            "color": "#2a3f5f"
           }
          },
          "ternary": {
           "aaxis": {
            "gridcolor": "white",
            "linecolor": "white",
            "ticks": ""
           },
           "baxis": {
            "gridcolor": "white",
            "linecolor": "white",
            "ticks": ""
           },
           "bgcolor": "#E5ECF6",
           "caxis": {
            "gridcolor": "white",
            "linecolor": "white",
            "ticks": ""
           }
          },
          "title": {
           "x": 0.05
          },
          "xaxis": {
           "automargin": true,
           "gridcolor": "white",
           "linecolor": "white",
           "ticks": "",
           "title": {
            "standoff": 15
           },
           "zerolinecolor": "white",
           "zerolinewidth": 2
          },
          "yaxis": {
           "automargin": true,
           "gridcolor": "white",
           "linecolor": "white",
           "ticks": "",
           "title": {
            "standoff": 15
           },
           "zerolinecolor": "white",
           "zerolinewidth": 2
          }
         }
        },
        "xaxis": {
         "anchor": "y",
         "domain": [
          0,
          1
         ],
         "title": {
          "text": "total_bill"
         }
        },
        "yaxis": {
         "anchor": "x",
         "domain": [
          0,
          1
         ]
        }
       }
      }
     },
     "metadata": {},
     "output_type": "display_data"
    }
   ],
   "source": [
    "px.box(df, x='total_bill', points='all')"
   ]
  },
  {
   "cell_type": "markdown",
   "metadata": {},
   "source": [
    "## Histograma 2D (Heatmap)"
   ]
  },
  {
   "cell_type": "code",
   "execution_count": 32,
   "metadata": {},
   "outputs": [
    {
     "data": {
      "application/vnd.plotly.v1+json": {
       "config": {
        "plotlyServerURL": "https://plot.ly"
       },
       "data": [
        {
         "coloraxis": "coloraxis",
         "histfunc": "sum",
         "hovertemplate": "day=%{x}<br>sex=%{y}<br>sum of total_bill=%{z}<extra></extra>",
         "name": "",
         "type": "histogram2d",
         "x": [
          "Sun",
          "Sun",
          "Sun",
          "Sun",
          "Sun",
          "Sun",
          "Sun",
          "Sun",
          "Sun",
          "Sun",
          "Sun",
          "Sun",
          "Sun",
          "Sun",
          "Sun",
          "Sun",
          "Sun",
          "Sun",
          "Sun",
          "Sat",
          "Sat",
          "Sat",
          "Sat",
          "Sat",
          "Sat",
          "Sat",
          "Sat",
          "Sat",
          "Sat",
          "Sat",
          "Sat",
          "Sat",
          "Sat",
          "Sat",
          "Sat",
          "Sat",
          "Sat",
          "Sat",
          "Sat",
          "Sat",
          "Sat",
          "Sun",
          "Sun",
          "Sun",
          "Sun",
          "Sun",
          "Sun",
          "Sun",
          "Sun",
          "Sun",
          "Sun",
          "Sun",
          "Sun",
          "Sun",
          "Sun",
          "Sun",
          "Sat",
          "Sat",
          "Sat",
          "Sat",
          "Sat",
          "Sat",
          "Sat",
          "Sat",
          "Sat",
          "Sat",
          "Sat",
          "Sat",
          "Sat",
          "Sat",
          "Sat",
          "Sat",
          "Sat",
          "Sat",
          "Sat",
          "Sat",
          "Sat",
          "Thur",
          "Thur",
          "Thur",
          "Thur",
          "Thur",
          "Thur",
          "Thur",
          "Thur",
          "Thur",
          "Thur",
          "Thur",
          "Thur",
          "Thur",
          "Fri",
          "Fri",
          "Fri",
          "Fri",
          "Fri",
          "Fri",
          "Fri",
          "Fri",
          "Fri",
          "Fri",
          "Fri",
          "Fri",
          "Sat",
          "Sat",
          "Sat",
          "Sat",
          "Sat",
          "Sat",
          "Sat",
          "Sat",
          "Sat",
          "Sat",
          "Sun",
          "Sun",
          "Sun",
          "Sun",
          "Sun",
          "Thur",
          "Thur",
          "Thur",
          "Thur",
          "Thur",
          "Thur",
          "Thur",
          "Thur",
          "Thur",
          "Thur",
          "Thur",
          "Thur",
          "Thur",
          "Thur",
          "Thur",
          "Thur",
          "Thur",
          "Thur",
          "Thur",
          "Thur",
          "Thur",
          "Thur",
          "Thur",
          "Thur",
          "Thur",
          "Thur",
          "Thur",
          "Thur",
          "Thur",
          "Thur",
          "Thur",
          "Thur",
          "Thur",
          "Sun",
          "Sun",
          "Sun",
          "Sun",
          "Sun",
          "Sun",
          "Sun",
          "Sun",
          "Sun",
          "Sun",
          "Sun",
          "Sun",
          "Sun",
          "Sun",
          "Sun",
          "Sun",
          "Sun",
          "Sun",
          "Sat",
          "Sat",
          "Sat",
          "Sat",
          "Sun",
          "Sun",
          "Sun",
          "Sun",
          "Sun",
          "Sun",
          "Sun",
          "Sun",
          "Sun",
          "Sun",
          "Sun",
          "Sun",
          "Sun",
          "Sun",
          "Sun",
          "Sun",
          "Sun",
          "Sun",
          "Sun",
          "Thur",
          "Thur",
          "Thur",
          "Thur",
          "Thur",
          "Thur",
          "Thur",
          "Thur",
          "Thur",
          "Thur",
          "Thur",
          "Thur",
          "Thur",
          "Thur",
          "Thur",
          "Sat",
          "Sat",
          "Sat",
          "Sat",
          "Sat",
          "Sat",
          "Sat",
          "Sat",
          "Sat",
          "Sat",
          "Sat",
          "Sat",
          "Sat",
          "Sat",
          "Fri",
          "Fri",
          "Fri",
          "Fri",
          "Fri",
          "Fri",
          "Fri",
          "Sat",
          "Sat",
          "Sat",
          "Sat",
          "Sat",
          "Sat",
          "Sat",
          "Sat",
          "Sat",
          "Sat",
          "Sat",
          "Sat",
          "Sat",
          "Sat",
          "Sat",
          "Sat",
          "Thur"
         ],
         "xaxis": "x",
         "xbingroup": "x",
         "y": [
          "Female",
          "Male",
          "Male",
          "Male",
          "Female",
          "Male",
          "Male",
          "Male",
          "Male",
          "Male",
          "Male",
          "Female",
          "Male",
          "Male",
          "Female",
          "Male",
          "Female",
          "Male",
          "Female",
          "Male",
          "Male",
          "Female",
          "Female",
          "Male",
          "Male",
          "Male",
          "Male",
          "Male",
          "Male",
          "Female",
          "Male",
          "Male",
          "Female",
          "Female",
          "Male",
          "Male",
          "Male",
          "Female",
          "Male",
          "Male",
          "Male",
          "Male",
          "Male",
          "Male",
          "Male",
          "Male",
          "Male",
          "Male",
          "Male",
          "Male",
          "Male",
          "Female",
          "Female",
          "Male",
          "Male",
          "Male",
          "Male",
          "Female",
          "Male",
          "Male",
          "Male",
          "Male",
          "Male",
          "Male",
          "Male",
          "Male",
          "Female",
          "Female",
          "Male",
          "Male",
          "Male",
          "Female",
          "Female",
          "Female",
          "Female",
          "Male",
          "Male",
          "Male",
          "Male",
          "Male",
          "Male",
          "Male",
          "Female",
          "Male",
          "Male",
          "Female",
          "Male",
          "Male",
          "Male",
          "Male",
          "Male",
          "Male",
          "Female",
          "Female",
          "Female",
          "Male",
          "Male",
          "Male",
          "Male",
          "Male",
          "Female",
          "Female",
          "Female",
          "Female",
          "Female",
          "Male",
          "Male",
          "Male",
          "Male",
          "Female",
          "Male",
          "Female",
          "Male",
          "Male",
          "Female",
          "Female",
          "Male",
          "Female",
          "Female",
          "Female",
          "Male",
          "Female",
          "Male",
          "Male",
          "Female",
          "Female",
          "Male",
          "Female",
          "Female",
          "Male",
          "Male",
          "Female",
          "Female",
          "Female",
          "Female",
          "Female",
          "Female",
          "Female",
          "Male",
          "Female",
          "Female",
          "Male",
          "Male",
          "Female",
          "Female",
          "Female",
          "Female",
          "Female",
          "Male",
          "Male",
          "Male",
          "Male",
          "Male",
          "Male",
          "Male",
          "Female",
          "Male",
          "Female",
          "Female",
          "Male",
          "Male",
          "Male",
          "Female",
          "Male",
          "Female",
          "Male",
          "Male",
          "Male",
          "Female",
          "Female",
          "Male",
          "Male",
          "Male",
          "Male",
          "Male",
          "Male",
          "Male",
          "Male",
          "Female",
          "Male",
          "Male",
          "Male",
          "Male",
          "Male",
          "Male",
          "Male",
          "Female",
          "Male",
          "Female",
          "Male",
          "Male",
          "Female",
          "Male",
          "Male",
          "Male",
          "Male",
          "Male",
          "Female",
          "Female",
          "Male",
          "Male",
          "Female",
          "Female",
          "Female",
          "Male",
          "Female",
          "Male",
          "Male",
          "Male",
          "Female",
          "Male",
          "Male",
          "Male",
          "Female",
          "Female",
          "Female",
          "Male",
          "Male",
          "Male",
          "Female",
          "Male",
          "Female",
          "Male",
          "Female",
          "Male",
          "Female",
          "Female",
          "Male",
          "Male",
          "Female",
          "Male",
          "Male",
          "Male",
          "Male",
          "Male",
          "Male",
          "Male",
          "Male",
          "Female",
          "Male",
          "Female",
          "Male",
          "Male",
          "Female"
         ],
         "yaxis": "y",
         "ybingroup": "y",
         "z": [
          16.99,
          10.34,
          21.01,
          23.68,
          24.59,
          25.29,
          8.77,
          26.88,
          15.04,
          14.78,
          10.27,
          35.26,
          15.42,
          18.43,
          14.83,
          21.58,
          10.33,
          16.29,
          16.97,
          20.65,
          17.92,
          20.29,
          15.77,
          39.42,
          19.82,
          17.81,
          13.37,
          12.69,
          21.7,
          19.65,
          9.55,
          18.35,
          15.06,
          20.69,
          17.78,
          24.06,
          16.31,
          16.93,
          18.69,
          31.27,
          16.04,
          17.46,
          13.94,
          9.68,
          30.4,
          18.29,
          22.23,
          32.4,
          28.55,
          18.04,
          12.54,
          10.29,
          34.81,
          9.94,
          25.56,
          19.49,
          38.01,
          26.41,
          11.24,
          48.27,
          20.29,
          13.81,
          11.02,
          18.29,
          17.59,
          20.08,
          16.45,
          3.07,
          20.23,
          15.01,
          12.02,
          17.07,
          26.86,
          25.28,
          14.73,
          10.51,
          17.92,
          27.2,
          22.76,
          17.29,
          19.44,
          16.66,
          10.07,
          32.68,
          15.98,
          34.83,
          13.03,
          18.28,
          24.71,
          21.16,
          28.97,
          22.49,
          5.75,
          16.32,
          22.75,
          40.17,
          27.28,
          12.03,
          21.01,
          12.46,
          11.35,
          15.38,
          44.3,
          22.42,
          20.92,
          15.36,
          20.49,
          25.21,
          18.24,
          14.31,
          14,
          7.25,
          38.07,
          23.95,
          25.71,
          17.31,
          29.93,
          10.65,
          12.43,
          24.08,
          11.69,
          13.42,
          14.26,
          15.95,
          12.48,
          29.8,
          8.52,
          14.52,
          11.38,
          22.82,
          19.08,
          20.27,
          11.17,
          12.26,
          18.26,
          8.51,
          10.33,
          14.15,
          16,
          13.16,
          17.47,
          34.3,
          41.19,
          27.05,
          16.43,
          8.35,
          18.64,
          11.87,
          9.78,
          7.51,
          14.07,
          13.13,
          17.26,
          24.55,
          19.77,
          29.85,
          48.17,
          25,
          13.39,
          16.49,
          21.5,
          12.66,
          16.21,
          13.81,
          17.51,
          24.52,
          20.76,
          31.71,
          10.59,
          10.63,
          50.81,
          15.81,
          7.25,
          31.85,
          16.82,
          32.9,
          17.89,
          14.48,
          9.6,
          34.63,
          34.65,
          23.33,
          45.35,
          23.17,
          40.55,
          20.69,
          20.9,
          30.46,
          18.15,
          23.1,
          15.69,
          19.81,
          28.44,
          15.48,
          16.58,
          7.56,
          10.34,
          43.11,
          13,
          13.51,
          18.71,
          12.74,
          13,
          16.4,
          20.53,
          16.47,
          26.59,
          38.73,
          24.27,
          12.76,
          30.06,
          25.89,
          48.33,
          13.27,
          28.17,
          12.9,
          28.15,
          11.59,
          7.74,
          30.14,
          12.16,
          13.42,
          8.58,
          15.98,
          13.42,
          16.27,
          10.09,
          20.45,
          13.28,
          22.12,
          24.01,
          15.69,
          11.61,
          10.77,
          15.53,
          10.07,
          12.6,
          32.83,
          35.83,
          29.03,
          27.18,
          22.67,
          17.82,
          18.78
         ]
        }
       ],
       "layout": {
        "coloraxis": {
         "colorbar": {
          "title": {
           "text": "sum of total_bill"
          }
         },
         "colorscale": [
          [
           0,
           "#0d0887"
          ],
          [
           0.1111111111111111,
           "#46039f"
          ],
          [
           0.2222222222222222,
           "#7201a8"
          ],
          [
           0.3333333333333333,
           "#9c179e"
          ],
          [
           0.4444444444444444,
           "#bd3786"
          ],
          [
           0.5555555555555556,
           "#d8576b"
          ],
          [
           0.6666666666666666,
           "#ed7953"
          ],
          [
           0.7777777777777778,
           "#fb9f3a"
          ],
          [
           0.8888888888888888,
           "#fdca26"
          ],
          [
           1,
           "#f0f921"
          ]
         ]
        },
        "legend": {
         "tracegroupgap": 0
        },
        "margin": {
         "t": 60
        },
        "template": {
         "data": {
          "bar": [
           {
            "error_x": {
             "color": "#2a3f5f"
            },
            "error_y": {
             "color": "#2a3f5f"
            },
            "marker": {
             "line": {
              "color": "#E5ECF6",
              "width": 0.5
             },
             "pattern": {
              "fillmode": "overlay",
              "size": 10,
              "solidity": 0.2
             }
            },
            "type": "bar"
           }
          ],
          "barpolar": [
           {
            "marker": {
             "line": {
              "color": "#E5ECF6",
              "width": 0.5
             },
             "pattern": {
              "fillmode": "overlay",
              "size": 10,
              "solidity": 0.2
             }
            },
            "type": "barpolar"
           }
          ],
          "carpet": [
           {
            "aaxis": {
             "endlinecolor": "#2a3f5f",
             "gridcolor": "white",
             "linecolor": "white",
             "minorgridcolor": "white",
             "startlinecolor": "#2a3f5f"
            },
            "baxis": {
             "endlinecolor": "#2a3f5f",
             "gridcolor": "white",
             "linecolor": "white",
             "minorgridcolor": "white",
             "startlinecolor": "#2a3f5f"
            },
            "type": "carpet"
           }
          ],
          "choropleth": [
           {
            "colorbar": {
             "outlinewidth": 0,
             "ticks": ""
            },
            "type": "choropleth"
           }
          ],
          "contour": [
           {
            "colorbar": {
             "outlinewidth": 0,
             "ticks": ""
            },
            "colorscale": [
             [
              0,
              "#0d0887"
             ],
             [
              0.1111111111111111,
              "#46039f"
             ],
             [
              0.2222222222222222,
              "#7201a8"
             ],
             [
              0.3333333333333333,
              "#9c179e"
             ],
             [
              0.4444444444444444,
              "#bd3786"
             ],
             [
              0.5555555555555556,
              "#d8576b"
             ],
             [
              0.6666666666666666,
              "#ed7953"
             ],
             [
              0.7777777777777778,
              "#fb9f3a"
             ],
             [
              0.8888888888888888,
              "#fdca26"
             ],
             [
              1,
              "#f0f921"
             ]
            ],
            "type": "contour"
           }
          ],
          "contourcarpet": [
           {
            "colorbar": {
             "outlinewidth": 0,
             "ticks": ""
            },
            "type": "contourcarpet"
           }
          ],
          "heatmap": [
           {
            "colorbar": {
             "outlinewidth": 0,
             "ticks": ""
            },
            "colorscale": [
             [
              0,
              "#0d0887"
             ],
             [
              0.1111111111111111,
              "#46039f"
             ],
             [
              0.2222222222222222,
              "#7201a8"
             ],
             [
              0.3333333333333333,
              "#9c179e"
             ],
             [
              0.4444444444444444,
              "#bd3786"
             ],
             [
              0.5555555555555556,
              "#d8576b"
             ],
             [
              0.6666666666666666,
              "#ed7953"
             ],
             [
              0.7777777777777778,
              "#fb9f3a"
             ],
             [
              0.8888888888888888,
              "#fdca26"
             ],
             [
              1,
              "#f0f921"
             ]
            ],
            "type": "heatmap"
           }
          ],
          "heatmapgl": [
           {
            "colorbar": {
             "outlinewidth": 0,
             "ticks": ""
            },
            "colorscale": [
             [
              0,
              "#0d0887"
             ],
             [
              0.1111111111111111,
              "#46039f"
             ],
             [
              0.2222222222222222,
              "#7201a8"
             ],
             [
              0.3333333333333333,
              "#9c179e"
             ],
             [
              0.4444444444444444,
              "#bd3786"
             ],
             [
              0.5555555555555556,
              "#d8576b"
             ],
             [
              0.6666666666666666,
              "#ed7953"
             ],
             [
              0.7777777777777778,
              "#fb9f3a"
             ],
             [
              0.8888888888888888,
              "#fdca26"
             ],
             [
              1,
              "#f0f921"
             ]
            ],
            "type": "heatmapgl"
           }
          ],
          "histogram": [
           {
            "marker": {
             "pattern": {
              "fillmode": "overlay",
              "size": 10,
              "solidity": 0.2
             }
            },
            "type": "histogram"
           }
          ],
          "histogram2d": [
           {
            "colorbar": {
             "outlinewidth": 0,
             "ticks": ""
            },
            "colorscale": [
             [
              0,
              "#0d0887"
             ],
             [
              0.1111111111111111,
              "#46039f"
             ],
             [
              0.2222222222222222,
              "#7201a8"
             ],
             [
              0.3333333333333333,
              "#9c179e"
             ],
             [
              0.4444444444444444,
              "#bd3786"
             ],
             [
              0.5555555555555556,
              "#d8576b"
             ],
             [
              0.6666666666666666,
              "#ed7953"
             ],
             [
              0.7777777777777778,
              "#fb9f3a"
             ],
             [
              0.8888888888888888,
              "#fdca26"
             ],
             [
              1,
              "#f0f921"
             ]
            ],
            "type": "histogram2d"
           }
          ],
          "histogram2dcontour": [
           {
            "colorbar": {
             "outlinewidth": 0,
             "ticks": ""
            },
            "colorscale": [
             [
              0,
              "#0d0887"
             ],
             [
              0.1111111111111111,
              "#46039f"
             ],
             [
              0.2222222222222222,
              "#7201a8"
             ],
             [
              0.3333333333333333,
              "#9c179e"
             ],
             [
              0.4444444444444444,
              "#bd3786"
             ],
             [
              0.5555555555555556,
              "#d8576b"
             ],
             [
              0.6666666666666666,
              "#ed7953"
             ],
             [
              0.7777777777777778,
              "#fb9f3a"
             ],
             [
              0.8888888888888888,
              "#fdca26"
             ],
             [
              1,
              "#f0f921"
             ]
            ],
            "type": "histogram2dcontour"
           }
          ],
          "mesh3d": [
           {
            "colorbar": {
             "outlinewidth": 0,
             "ticks": ""
            },
            "type": "mesh3d"
           }
          ],
          "parcoords": [
           {
            "line": {
             "colorbar": {
              "outlinewidth": 0,
              "ticks": ""
             }
            },
            "type": "parcoords"
           }
          ],
          "pie": [
           {
            "automargin": true,
            "type": "pie"
           }
          ],
          "scatter": [
           {
            "fillpattern": {
             "fillmode": "overlay",
             "size": 10,
             "solidity": 0.2
            },
            "type": "scatter"
           }
          ],
          "scatter3d": [
           {
            "line": {
             "colorbar": {
              "outlinewidth": 0,
              "ticks": ""
             }
            },
            "marker": {
             "colorbar": {
              "outlinewidth": 0,
              "ticks": ""
             }
            },
            "type": "scatter3d"
           }
          ],
          "scattercarpet": [
           {
            "marker": {
             "colorbar": {
              "outlinewidth": 0,
              "ticks": ""
             }
            },
            "type": "scattercarpet"
           }
          ],
          "scattergeo": [
           {
            "marker": {
             "colorbar": {
              "outlinewidth": 0,
              "ticks": ""
             }
            },
            "type": "scattergeo"
           }
          ],
          "scattergl": [
           {
            "marker": {
             "colorbar": {
              "outlinewidth": 0,
              "ticks": ""
             }
            },
            "type": "scattergl"
           }
          ],
          "scattermapbox": [
           {
            "marker": {
             "colorbar": {
              "outlinewidth": 0,
              "ticks": ""
             }
            },
            "type": "scattermapbox"
           }
          ],
          "scatterpolar": [
           {
            "marker": {
             "colorbar": {
              "outlinewidth": 0,
              "ticks": ""
             }
            },
            "type": "scatterpolar"
           }
          ],
          "scatterpolargl": [
           {
            "marker": {
             "colorbar": {
              "outlinewidth": 0,
              "ticks": ""
             }
            },
            "type": "scatterpolargl"
           }
          ],
          "scatterternary": [
           {
            "marker": {
             "colorbar": {
              "outlinewidth": 0,
              "ticks": ""
             }
            },
            "type": "scatterternary"
           }
          ],
          "surface": [
           {
            "colorbar": {
             "outlinewidth": 0,
             "ticks": ""
            },
            "colorscale": [
             [
              0,
              "#0d0887"
             ],
             [
              0.1111111111111111,
              "#46039f"
             ],
             [
              0.2222222222222222,
              "#7201a8"
             ],
             [
              0.3333333333333333,
              "#9c179e"
             ],
             [
              0.4444444444444444,
              "#bd3786"
             ],
             [
              0.5555555555555556,
              "#d8576b"
             ],
             [
              0.6666666666666666,
              "#ed7953"
             ],
             [
              0.7777777777777778,
              "#fb9f3a"
             ],
             [
              0.8888888888888888,
              "#fdca26"
             ],
             [
              1,
              "#f0f921"
             ]
            ],
            "type": "surface"
           }
          ],
          "table": [
           {
            "cells": {
             "fill": {
              "color": "#EBF0F8"
             },
             "line": {
              "color": "white"
             }
            },
            "header": {
             "fill": {
              "color": "#C8D4E3"
             },
             "line": {
              "color": "white"
             }
            },
            "type": "table"
           }
          ]
         },
         "layout": {
          "annotationdefaults": {
           "arrowcolor": "#2a3f5f",
           "arrowhead": 0,
           "arrowwidth": 1
          },
          "autotypenumbers": "strict",
          "coloraxis": {
           "colorbar": {
            "outlinewidth": 0,
            "ticks": ""
           }
          },
          "colorscale": {
           "diverging": [
            [
             0,
             "#8e0152"
            ],
            [
             0.1,
             "#c51b7d"
            ],
            [
             0.2,
             "#de77ae"
            ],
            [
             0.3,
             "#f1b6da"
            ],
            [
             0.4,
             "#fde0ef"
            ],
            [
             0.5,
             "#f7f7f7"
            ],
            [
             0.6,
             "#e6f5d0"
            ],
            [
             0.7,
             "#b8e186"
            ],
            [
             0.8,
             "#7fbc41"
            ],
            [
             0.9,
             "#4d9221"
            ],
            [
             1,
             "#276419"
            ]
           ],
           "sequential": [
            [
             0,
             "#0d0887"
            ],
            [
             0.1111111111111111,
             "#46039f"
            ],
            [
             0.2222222222222222,
             "#7201a8"
            ],
            [
             0.3333333333333333,
             "#9c179e"
            ],
            [
             0.4444444444444444,
             "#bd3786"
            ],
            [
             0.5555555555555556,
             "#d8576b"
            ],
            [
             0.6666666666666666,
             "#ed7953"
            ],
            [
             0.7777777777777778,
             "#fb9f3a"
            ],
            [
             0.8888888888888888,
             "#fdca26"
            ],
            [
             1,
             "#f0f921"
            ]
           ],
           "sequentialminus": [
            [
             0,
             "#0d0887"
            ],
            [
             0.1111111111111111,
             "#46039f"
            ],
            [
             0.2222222222222222,
             "#7201a8"
            ],
            [
             0.3333333333333333,
             "#9c179e"
            ],
            [
             0.4444444444444444,
             "#bd3786"
            ],
            [
             0.5555555555555556,
             "#d8576b"
            ],
            [
             0.6666666666666666,
             "#ed7953"
            ],
            [
             0.7777777777777778,
             "#fb9f3a"
            ],
            [
             0.8888888888888888,
             "#fdca26"
            ],
            [
             1,
             "#f0f921"
            ]
           ]
          },
          "colorway": [
           "#636efa",
           "#EF553B",
           "#00cc96",
           "#ab63fa",
           "#FFA15A",
           "#19d3f3",
           "#FF6692",
           "#B6E880",
           "#FF97FF",
           "#FECB52"
          ],
          "font": {
           "color": "#2a3f5f"
          },
          "geo": {
           "bgcolor": "white",
           "lakecolor": "white",
           "landcolor": "#E5ECF6",
           "showlakes": true,
           "showland": true,
           "subunitcolor": "white"
          },
          "hoverlabel": {
           "align": "left"
          },
          "hovermode": "closest",
          "mapbox": {
           "style": "light"
          },
          "paper_bgcolor": "white",
          "plot_bgcolor": "#E5ECF6",
          "polar": {
           "angularaxis": {
            "gridcolor": "white",
            "linecolor": "white",
            "ticks": ""
           },
           "bgcolor": "#E5ECF6",
           "radialaxis": {
            "gridcolor": "white",
            "linecolor": "white",
            "ticks": ""
           }
          },
          "scene": {
           "xaxis": {
            "backgroundcolor": "#E5ECF6",
            "gridcolor": "white",
            "gridwidth": 2,
            "linecolor": "white",
            "showbackground": true,
            "ticks": "",
            "zerolinecolor": "white"
           },
           "yaxis": {
            "backgroundcolor": "#E5ECF6",
            "gridcolor": "white",
            "gridwidth": 2,
            "linecolor": "white",
            "showbackground": true,
            "ticks": "",
            "zerolinecolor": "white"
           },
           "zaxis": {
            "backgroundcolor": "#E5ECF6",
            "gridcolor": "white",
            "gridwidth": 2,
            "linecolor": "white",
            "showbackground": true,
            "ticks": "",
            "zerolinecolor": "white"
           }
          },
          "shapedefaults": {
           "line": {
            "color": "#2a3f5f"
           }
          },
          "ternary": {
           "aaxis": {
            "gridcolor": "white",
            "linecolor": "white",
            "ticks": ""
           },
           "baxis": {
            "gridcolor": "white",
            "linecolor": "white",
            "ticks": ""
           },
           "bgcolor": "#E5ECF6",
           "caxis": {
            "gridcolor": "white",
            "linecolor": "white",
            "ticks": ""
           }
          },
          "title": {
           "x": 0.05
          },
          "xaxis": {
           "automargin": true,
           "gridcolor": "white",
           "linecolor": "white",
           "ticks": "",
           "title": {
            "standoff": 15
           },
           "zerolinecolor": "white",
           "zerolinewidth": 2
          },
          "yaxis": {
           "automargin": true,
           "gridcolor": "white",
           "linecolor": "white",
           "ticks": "",
           "title": {
            "standoff": 15
           },
           "zerolinecolor": "white",
           "zerolinewidth": 2
          }
         }
        },
        "xaxis": {
         "anchor": "y",
         "domain": [
          0,
          1
         ],
         "title": {
          "text": "day"
         }
        },
        "yaxis": {
         "anchor": "x",
         "domain": [
          0,
          1
         ],
         "title": {
          "text": "sex"
         }
        }
       }
      }
     },
     "metadata": {},
     "output_type": "display_data"
    }
   ],
   "source": [
    "px.density_heatmap(df, x='day', y='sex', z='total_bill')"
   ]
  },
  {
   "cell_type": "code",
   "execution_count": 33,
   "metadata": {},
   "outputs": [
    {
     "data": {
      "application/vnd.plotly.v1+json": {
       "config": {
        "plotlyServerURL": "https://plot.ly"
       },
       "data": [
        {
         "coloraxis": "coloraxis",
         "histfunc": "avg",
         "hovertemplate": "day=%{x}<br>sex=%{y}<br>avg of total_bill=%{z}<extra></extra>",
         "name": "",
         "type": "histogram2d",
         "x": [
          "Sun",
          "Sun",
          "Sun",
          "Sun",
          "Sun",
          "Sun",
          "Sun",
          "Sun",
          "Sun",
          "Sun",
          "Sun",
          "Sun",
          "Sun",
          "Sun",
          "Sun",
          "Sun",
          "Sun",
          "Sun",
          "Sun",
          "Sat",
          "Sat",
          "Sat",
          "Sat",
          "Sat",
          "Sat",
          "Sat",
          "Sat",
          "Sat",
          "Sat",
          "Sat",
          "Sat",
          "Sat",
          "Sat",
          "Sat",
          "Sat",
          "Sat",
          "Sat",
          "Sat",
          "Sat",
          "Sat",
          "Sat",
          "Sun",
          "Sun",
          "Sun",
          "Sun",
          "Sun",
          "Sun",
          "Sun",
          "Sun",
          "Sun",
          "Sun",
          "Sun",
          "Sun",
          "Sun",
          "Sun",
          "Sun",
          "Sat",
          "Sat",
          "Sat",
          "Sat",
          "Sat",
          "Sat",
          "Sat",
          "Sat",
          "Sat",
          "Sat",
          "Sat",
          "Sat",
          "Sat",
          "Sat",
          "Sat",
          "Sat",
          "Sat",
          "Sat",
          "Sat",
          "Sat",
          "Sat",
          "Thur",
          "Thur",
          "Thur",
          "Thur",
          "Thur",
          "Thur",
          "Thur",
          "Thur",
          "Thur",
          "Thur",
          "Thur",
          "Thur",
          "Thur",
          "Fri",
          "Fri",
          "Fri",
          "Fri",
          "Fri",
          "Fri",
          "Fri",
          "Fri",
          "Fri",
          "Fri",
          "Fri",
          "Fri",
          "Sat",
          "Sat",
          "Sat",
          "Sat",
          "Sat",
          "Sat",
          "Sat",
          "Sat",
          "Sat",
          "Sat",
          "Sun",
          "Sun",
          "Sun",
          "Sun",
          "Sun",
          "Thur",
          "Thur",
          "Thur",
          "Thur",
          "Thur",
          "Thur",
          "Thur",
          "Thur",
          "Thur",
          "Thur",
          "Thur",
          "Thur",
          "Thur",
          "Thur",
          "Thur",
          "Thur",
          "Thur",
          "Thur",
          "Thur",
          "Thur",
          "Thur",
          "Thur",
          "Thur",
          "Thur",
          "Thur",
          "Thur",
          "Thur",
          "Thur",
          "Thur",
          "Thur",
          "Thur",
          "Thur",
          "Thur",
          "Sun",
          "Sun",
          "Sun",
          "Sun",
          "Sun",
          "Sun",
          "Sun",
          "Sun",
          "Sun",
          "Sun",
          "Sun",
          "Sun",
          "Sun",
          "Sun",
          "Sun",
          "Sun",
          "Sun",
          "Sun",
          "Sat",
          "Sat",
          "Sat",
          "Sat",
          "Sun",
          "Sun",
          "Sun",
          "Sun",
          "Sun",
          "Sun",
          "Sun",
          "Sun",
          "Sun",
          "Sun",
          "Sun",
          "Sun",
          "Sun",
          "Sun",
          "Sun",
          "Sun",
          "Sun",
          "Sun",
          "Sun",
          "Thur",
          "Thur",
          "Thur",
          "Thur",
          "Thur",
          "Thur",
          "Thur",
          "Thur",
          "Thur",
          "Thur",
          "Thur",
          "Thur",
          "Thur",
          "Thur",
          "Thur",
          "Sat",
          "Sat",
          "Sat",
          "Sat",
          "Sat",
          "Sat",
          "Sat",
          "Sat",
          "Sat",
          "Sat",
          "Sat",
          "Sat",
          "Sat",
          "Sat",
          "Fri",
          "Fri",
          "Fri",
          "Fri",
          "Fri",
          "Fri",
          "Fri",
          "Sat",
          "Sat",
          "Sat",
          "Sat",
          "Sat",
          "Sat",
          "Sat",
          "Sat",
          "Sat",
          "Sat",
          "Sat",
          "Sat",
          "Sat",
          "Sat",
          "Sat",
          "Sat",
          "Thur"
         ],
         "xaxis": "x",
         "xbingroup": "x",
         "y": [
          "Female",
          "Male",
          "Male",
          "Male",
          "Female",
          "Male",
          "Male",
          "Male",
          "Male",
          "Male",
          "Male",
          "Female",
          "Male",
          "Male",
          "Female",
          "Male",
          "Female",
          "Male",
          "Female",
          "Male",
          "Male",
          "Female",
          "Female",
          "Male",
          "Male",
          "Male",
          "Male",
          "Male",
          "Male",
          "Female",
          "Male",
          "Male",
          "Female",
          "Female",
          "Male",
          "Male",
          "Male",
          "Female",
          "Male",
          "Male",
          "Male",
          "Male",
          "Male",
          "Male",
          "Male",
          "Male",
          "Male",
          "Male",
          "Male",
          "Male",
          "Male",
          "Female",
          "Female",
          "Male",
          "Male",
          "Male",
          "Male",
          "Female",
          "Male",
          "Male",
          "Male",
          "Male",
          "Male",
          "Male",
          "Male",
          "Male",
          "Female",
          "Female",
          "Male",
          "Male",
          "Male",
          "Female",
          "Female",
          "Female",
          "Female",
          "Male",
          "Male",
          "Male",
          "Male",
          "Male",
          "Male",
          "Male",
          "Female",
          "Male",
          "Male",
          "Female",
          "Male",
          "Male",
          "Male",
          "Male",
          "Male",
          "Male",
          "Female",
          "Female",
          "Female",
          "Male",
          "Male",
          "Male",
          "Male",
          "Male",
          "Female",
          "Female",
          "Female",
          "Female",
          "Female",
          "Male",
          "Male",
          "Male",
          "Male",
          "Female",
          "Male",
          "Female",
          "Male",
          "Male",
          "Female",
          "Female",
          "Male",
          "Female",
          "Female",
          "Female",
          "Male",
          "Female",
          "Male",
          "Male",
          "Female",
          "Female",
          "Male",
          "Female",
          "Female",
          "Male",
          "Male",
          "Female",
          "Female",
          "Female",
          "Female",
          "Female",
          "Female",
          "Female",
          "Male",
          "Female",
          "Female",
          "Male",
          "Male",
          "Female",
          "Female",
          "Female",
          "Female",
          "Female",
          "Male",
          "Male",
          "Male",
          "Male",
          "Male",
          "Male",
          "Male",
          "Female",
          "Male",
          "Female",
          "Female",
          "Male",
          "Male",
          "Male",
          "Female",
          "Male",
          "Female",
          "Male",
          "Male",
          "Male",
          "Female",
          "Female",
          "Male",
          "Male",
          "Male",
          "Male",
          "Male",
          "Male",
          "Male",
          "Male",
          "Female",
          "Male",
          "Male",
          "Male",
          "Male",
          "Male",
          "Male",
          "Male",
          "Female",
          "Male",
          "Female",
          "Male",
          "Male",
          "Female",
          "Male",
          "Male",
          "Male",
          "Male",
          "Male",
          "Female",
          "Female",
          "Male",
          "Male",
          "Female",
          "Female",
          "Female",
          "Male",
          "Female",
          "Male",
          "Male",
          "Male",
          "Female",
          "Male",
          "Male",
          "Male",
          "Female",
          "Female",
          "Female",
          "Male",
          "Male",
          "Male",
          "Female",
          "Male",
          "Female",
          "Male",
          "Female",
          "Male",
          "Female",
          "Female",
          "Male",
          "Male",
          "Female",
          "Male",
          "Male",
          "Male",
          "Male",
          "Male",
          "Male",
          "Male",
          "Male",
          "Female",
          "Male",
          "Female",
          "Male",
          "Male",
          "Female"
         ],
         "yaxis": "y",
         "ybingroup": "y",
         "z": [
          16.99,
          10.34,
          21.01,
          23.68,
          24.59,
          25.29,
          8.77,
          26.88,
          15.04,
          14.78,
          10.27,
          35.26,
          15.42,
          18.43,
          14.83,
          21.58,
          10.33,
          16.29,
          16.97,
          20.65,
          17.92,
          20.29,
          15.77,
          39.42,
          19.82,
          17.81,
          13.37,
          12.69,
          21.7,
          19.65,
          9.55,
          18.35,
          15.06,
          20.69,
          17.78,
          24.06,
          16.31,
          16.93,
          18.69,
          31.27,
          16.04,
          17.46,
          13.94,
          9.68,
          30.4,
          18.29,
          22.23,
          32.4,
          28.55,
          18.04,
          12.54,
          10.29,
          34.81,
          9.94,
          25.56,
          19.49,
          38.01,
          26.41,
          11.24,
          48.27,
          20.29,
          13.81,
          11.02,
          18.29,
          17.59,
          20.08,
          16.45,
          3.07,
          20.23,
          15.01,
          12.02,
          17.07,
          26.86,
          25.28,
          14.73,
          10.51,
          17.92,
          27.2,
          22.76,
          17.29,
          19.44,
          16.66,
          10.07,
          32.68,
          15.98,
          34.83,
          13.03,
          18.28,
          24.71,
          21.16,
          28.97,
          22.49,
          5.75,
          16.32,
          22.75,
          40.17,
          27.28,
          12.03,
          21.01,
          12.46,
          11.35,
          15.38,
          44.3,
          22.42,
          20.92,
          15.36,
          20.49,
          25.21,
          18.24,
          14.31,
          14,
          7.25,
          38.07,
          23.95,
          25.71,
          17.31,
          29.93,
          10.65,
          12.43,
          24.08,
          11.69,
          13.42,
          14.26,
          15.95,
          12.48,
          29.8,
          8.52,
          14.52,
          11.38,
          22.82,
          19.08,
          20.27,
          11.17,
          12.26,
          18.26,
          8.51,
          10.33,
          14.15,
          16,
          13.16,
          17.47,
          34.3,
          41.19,
          27.05,
          16.43,
          8.35,
          18.64,
          11.87,
          9.78,
          7.51,
          14.07,
          13.13,
          17.26,
          24.55,
          19.77,
          29.85,
          48.17,
          25,
          13.39,
          16.49,
          21.5,
          12.66,
          16.21,
          13.81,
          17.51,
          24.52,
          20.76,
          31.71,
          10.59,
          10.63,
          50.81,
          15.81,
          7.25,
          31.85,
          16.82,
          32.9,
          17.89,
          14.48,
          9.6,
          34.63,
          34.65,
          23.33,
          45.35,
          23.17,
          40.55,
          20.69,
          20.9,
          30.46,
          18.15,
          23.1,
          15.69,
          19.81,
          28.44,
          15.48,
          16.58,
          7.56,
          10.34,
          43.11,
          13,
          13.51,
          18.71,
          12.74,
          13,
          16.4,
          20.53,
          16.47,
          26.59,
          38.73,
          24.27,
          12.76,
          30.06,
          25.89,
          48.33,
          13.27,
          28.17,
          12.9,
          28.15,
          11.59,
          7.74,
          30.14,
          12.16,
          13.42,
          8.58,
          15.98,
          13.42,
          16.27,
          10.09,
          20.45,
          13.28,
          22.12,
          24.01,
          15.69,
          11.61,
          10.77,
          15.53,
          10.07,
          12.6,
          32.83,
          35.83,
          29.03,
          27.18,
          22.67,
          17.82,
          18.78
         ]
        }
       ],
       "layout": {
        "coloraxis": {
         "colorbar": {
          "title": {
           "text": "avg of total_bill"
          }
         },
         "colorscale": [
          [
           0,
           "#0d0887"
          ],
          [
           0.1111111111111111,
           "#46039f"
          ],
          [
           0.2222222222222222,
           "#7201a8"
          ],
          [
           0.3333333333333333,
           "#9c179e"
          ],
          [
           0.4444444444444444,
           "#bd3786"
          ],
          [
           0.5555555555555556,
           "#d8576b"
          ],
          [
           0.6666666666666666,
           "#ed7953"
          ],
          [
           0.7777777777777778,
           "#fb9f3a"
          ],
          [
           0.8888888888888888,
           "#fdca26"
          ],
          [
           1,
           "#f0f921"
          ]
         ]
        },
        "legend": {
         "tracegroupgap": 0
        },
        "margin": {
         "t": 60
        },
        "template": {
         "data": {
          "bar": [
           {
            "error_x": {
             "color": "#2a3f5f"
            },
            "error_y": {
             "color": "#2a3f5f"
            },
            "marker": {
             "line": {
              "color": "#E5ECF6",
              "width": 0.5
             },
             "pattern": {
              "fillmode": "overlay",
              "size": 10,
              "solidity": 0.2
             }
            },
            "type": "bar"
           }
          ],
          "barpolar": [
           {
            "marker": {
             "line": {
              "color": "#E5ECF6",
              "width": 0.5
             },
             "pattern": {
              "fillmode": "overlay",
              "size": 10,
              "solidity": 0.2
             }
            },
            "type": "barpolar"
           }
          ],
          "carpet": [
           {
            "aaxis": {
             "endlinecolor": "#2a3f5f",
             "gridcolor": "white",
             "linecolor": "white",
             "minorgridcolor": "white",
             "startlinecolor": "#2a3f5f"
            },
            "baxis": {
             "endlinecolor": "#2a3f5f",
             "gridcolor": "white",
             "linecolor": "white",
             "minorgridcolor": "white",
             "startlinecolor": "#2a3f5f"
            },
            "type": "carpet"
           }
          ],
          "choropleth": [
           {
            "colorbar": {
             "outlinewidth": 0,
             "ticks": ""
            },
            "type": "choropleth"
           }
          ],
          "contour": [
           {
            "colorbar": {
             "outlinewidth": 0,
             "ticks": ""
            },
            "colorscale": [
             [
              0,
              "#0d0887"
             ],
             [
              0.1111111111111111,
              "#46039f"
             ],
             [
              0.2222222222222222,
              "#7201a8"
             ],
             [
              0.3333333333333333,
              "#9c179e"
             ],
             [
              0.4444444444444444,
              "#bd3786"
             ],
             [
              0.5555555555555556,
              "#d8576b"
             ],
             [
              0.6666666666666666,
              "#ed7953"
             ],
             [
              0.7777777777777778,
              "#fb9f3a"
             ],
             [
              0.8888888888888888,
              "#fdca26"
             ],
             [
              1,
              "#f0f921"
             ]
            ],
            "type": "contour"
           }
          ],
          "contourcarpet": [
           {
            "colorbar": {
             "outlinewidth": 0,
             "ticks": ""
            },
            "type": "contourcarpet"
           }
          ],
          "heatmap": [
           {
            "colorbar": {
             "outlinewidth": 0,
             "ticks": ""
            },
            "colorscale": [
             [
              0,
              "#0d0887"
             ],
             [
              0.1111111111111111,
              "#46039f"
             ],
             [
              0.2222222222222222,
              "#7201a8"
             ],
             [
              0.3333333333333333,
              "#9c179e"
             ],
             [
              0.4444444444444444,
              "#bd3786"
             ],
             [
              0.5555555555555556,
              "#d8576b"
             ],
             [
              0.6666666666666666,
              "#ed7953"
             ],
             [
              0.7777777777777778,
              "#fb9f3a"
             ],
             [
              0.8888888888888888,
              "#fdca26"
             ],
             [
              1,
              "#f0f921"
             ]
            ],
            "type": "heatmap"
           }
          ],
          "heatmapgl": [
           {
            "colorbar": {
             "outlinewidth": 0,
             "ticks": ""
            },
            "colorscale": [
             [
              0,
              "#0d0887"
             ],
             [
              0.1111111111111111,
              "#46039f"
             ],
             [
              0.2222222222222222,
              "#7201a8"
             ],
             [
              0.3333333333333333,
              "#9c179e"
             ],
             [
              0.4444444444444444,
              "#bd3786"
             ],
             [
              0.5555555555555556,
              "#d8576b"
             ],
             [
              0.6666666666666666,
              "#ed7953"
             ],
             [
              0.7777777777777778,
              "#fb9f3a"
             ],
             [
              0.8888888888888888,
              "#fdca26"
             ],
             [
              1,
              "#f0f921"
             ]
            ],
            "type": "heatmapgl"
           }
          ],
          "histogram": [
           {
            "marker": {
             "pattern": {
              "fillmode": "overlay",
              "size": 10,
              "solidity": 0.2
             }
            },
            "type": "histogram"
           }
          ],
          "histogram2d": [
           {
            "colorbar": {
             "outlinewidth": 0,
             "ticks": ""
            },
            "colorscale": [
             [
              0,
              "#0d0887"
             ],
             [
              0.1111111111111111,
              "#46039f"
             ],
             [
              0.2222222222222222,
              "#7201a8"
             ],
             [
              0.3333333333333333,
              "#9c179e"
             ],
             [
              0.4444444444444444,
              "#bd3786"
             ],
             [
              0.5555555555555556,
              "#d8576b"
             ],
             [
              0.6666666666666666,
              "#ed7953"
             ],
             [
              0.7777777777777778,
              "#fb9f3a"
             ],
             [
              0.8888888888888888,
              "#fdca26"
             ],
             [
              1,
              "#f0f921"
             ]
            ],
            "type": "histogram2d"
           }
          ],
          "histogram2dcontour": [
           {
            "colorbar": {
             "outlinewidth": 0,
             "ticks": ""
            },
            "colorscale": [
             [
              0,
              "#0d0887"
             ],
             [
              0.1111111111111111,
              "#46039f"
             ],
             [
              0.2222222222222222,
              "#7201a8"
             ],
             [
              0.3333333333333333,
              "#9c179e"
             ],
             [
              0.4444444444444444,
              "#bd3786"
             ],
             [
              0.5555555555555556,
              "#d8576b"
             ],
             [
              0.6666666666666666,
              "#ed7953"
             ],
             [
              0.7777777777777778,
              "#fb9f3a"
             ],
             [
              0.8888888888888888,
              "#fdca26"
             ],
             [
              1,
              "#f0f921"
             ]
            ],
            "type": "histogram2dcontour"
           }
          ],
          "mesh3d": [
           {
            "colorbar": {
             "outlinewidth": 0,
             "ticks": ""
            },
            "type": "mesh3d"
           }
          ],
          "parcoords": [
           {
            "line": {
             "colorbar": {
              "outlinewidth": 0,
              "ticks": ""
             }
            },
            "type": "parcoords"
           }
          ],
          "pie": [
           {
            "automargin": true,
            "type": "pie"
           }
          ],
          "scatter": [
           {
            "fillpattern": {
             "fillmode": "overlay",
             "size": 10,
             "solidity": 0.2
            },
            "type": "scatter"
           }
          ],
          "scatter3d": [
           {
            "line": {
             "colorbar": {
              "outlinewidth": 0,
              "ticks": ""
             }
            },
            "marker": {
             "colorbar": {
              "outlinewidth": 0,
              "ticks": ""
             }
            },
            "type": "scatter3d"
           }
          ],
          "scattercarpet": [
           {
            "marker": {
             "colorbar": {
              "outlinewidth": 0,
              "ticks": ""
             }
            },
            "type": "scattercarpet"
           }
          ],
          "scattergeo": [
           {
            "marker": {
             "colorbar": {
              "outlinewidth": 0,
              "ticks": ""
             }
            },
            "type": "scattergeo"
           }
          ],
          "scattergl": [
           {
            "marker": {
             "colorbar": {
              "outlinewidth": 0,
              "ticks": ""
             }
            },
            "type": "scattergl"
           }
          ],
          "scattermapbox": [
           {
            "marker": {
             "colorbar": {
              "outlinewidth": 0,
              "ticks": ""
             }
            },
            "type": "scattermapbox"
           }
          ],
          "scatterpolar": [
           {
            "marker": {
             "colorbar": {
              "outlinewidth": 0,
              "ticks": ""
             }
            },
            "type": "scatterpolar"
           }
          ],
          "scatterpolargl": [
           {
            "marker": {
             "colorbar": {
              "outlinewidth": 0,
              "ticks": ""
             }
            },
            "type": "scatterpolargl"
           }
          ],
          "scatterternary": [
           {
            "marker": {
             "colorbar": {
              "outlinewidth": 0,
              "ticks": ""
             }
            },
            "type": "scatterternary"
           }
          ],
          "surface": [
           {
            "colorbar": {
             "outlinewidth": 0,
             "ticks": ""
            },
            "colorscale": [
             [
              0,
              "#0d0887"
             ],
             [
              0.1111111111111111,
              "#46039f"
             ],
             [
              0.2222222222222222,
              "#7201a8"
             ],
             [
              0.3333333333333333,
              "#9c179e"
             ],
             [
              0.4444444444444444,
              "#bd3786"
             ],
             [
              0.5555555555555556,
              "#d8576b"
             ],
             [
              0.6666666666666666,
              "#ed7953"
             ],
             [
              0.7777777777777778,
              "#fb9f3a"
             ],
             [
              0.8888888888888888,
              "#fdca26"
             ],
             [
              1,
              "#f0f921"
             ]
            ],
            "type": "surface"
           }
          ],
          "table": [
           {
            "cells": {
             "fill": {
              "color": "#EBF0F8"
             },
             "line": {
              "color": "white"
             }
            },
            "header": {
             "fill": {
              "color": "#C8D4E3"
             },
             "line": {
              "color": "white"
             }
            },
            "type": "table"
           }
          ]
         },
         "layout": {
          "annotationdefaults": {
           "arrowcolor": "#2a3f5f",
           "arrowhead": 0,
           "arrowwidth": 1
          },
          "autotypenumbers": "strict",
          "coloraxis": {
           "colorbar": {
            "outlinewidth": 0,
            "ticks": ""
           }
          },
          "colorscale": {
           "diverging": [
            [
             0,
             "#8e0152"
            ],
            [
             0.1,
             "#c51b7d"
            ],
            [
             0.2,
             "#de77ae"
            ],
            [
             0.3,
             "#f1b6da"
            ],
            [
             0.4,
             "#fde0ef"
            ],
            [
             0.5,
             "#f7f7f7"
            ],
            [
             0.6,
             "#e6f5d0"
            ],
            [
             0.7,
             "#b8e186"
            ],
            [
             0.8,
             "#7fbc41"
            ],
            [
             0.9,
             "#4d9221"
            ],
            [
             1,
             "#276419"
            ]
           ],
           "sequential": [
            [
             0,
             "#0d0887"
            ],
            [
             0.1111111111111111,
             "#46039f"
            ],
            [
             0.2222222222222222,
             "#7201a8"
            ],
            [
             0.3333333333333333,
             "#9c179e"
            ],
            [
             0.4444444444444444,
             "#bd3786"
            ],
            [
             0.5555555555555556,
             "#d8576b"
            ],
            [
             0.6666666666666666,
             "#ed7953"
            ],
            [
             0.7777777777777778,
             "#fb9f3a"
            ],
            [
             0.8888888888888888,
             "#fdca26"
            ],
            [
             1,
             "#f0f921"
            ]
           ],
           "sequentialminus": [
            [
             0,
             "#0d0887"
            ],
            [
             0.1111111111111111,
             "#46039f"
            ],
            [
             0.2222222222222222,
             "#7201a8"
            ],
            [
             0.3333333333333333,
             "#9c179e"
            ],
            [
             0.4444444444444444,
             "#bd3786"
            ],
            [
             0.5555555555555556,
             "#d8576b"
            ],
            [
             0.6666666666666666,
             "#ed7953"
            ],
            [
             0.7777777777777778,
             "#fb9f3a"
            ],
            [
             0.8888888888888888,
             "#fdca26"
            ],
            [
             1,
             "#f0f921"
            ]
           ]
          },
          "colorway": [
           "#636efa",
           "#EF553B",
           "#00cc96",
           "#ab63fa",
           "#FFA15A",
           "#19d3f3",
           "#FF6692",
           "#B6E880",
           "#FF97FF",
           "#FECB52"
          ],
          "font": {
           "color": "#2a3f5f"
          },
          "geo": {
           "bgcolor": "white",
           "lakecolor": "white",
           "landcolor": "#E5ECF6",
           "showlakes": true,
           "showland": true,
           "subunitcolor": "white"
          },
          "hoverlabel": {
           "align": "left"
          },
          "hovermode": "closest",
          "mapbox": {
           "style": "light"
          },
          "paper_bgcolor": "white",
          "plot_bgcolor": "#E5ECF6",
          "polar": {
           "angularaxis": {
            "gridcolor": "white",
            "linecolor": "white",
            "ticks": ""
           },
           "bgcolor": "#E5ECF6",
           "radialaxis": {
            "gridcolor": "white",
            "linecolor": "white",
            "ticks": ""
           }
          },
          "scene": {
           "xaxis": {
            "backgroundcolor": "#E5ECF6",
            "gridcolor": "white",
            "gridwidth": 2,
            "linecolor": "white",
            "showbackground": true,
            "ticks": "",
            "zerolinecolor": "white"
           },
           "yaxis": {
            "backgroundcolor": "#E5ECF6",
            "gridcolor": "white",
            "gridwidth": 2,
            "linecolor": "white",
            "showbackground": true,
            "ticks": "",
            "zerolinecolor": "white"
           },
           "zaxis": {
            "backgroundcolor": "#E5ECF6",
            "gridcolor": "white",
            "gridwidth": 2,
            "linecolor": "white",
            "showbackground": true,
            "ticks": "",
            "zerolinecolor": "white"
           }
          },
          "shapedefaults": {
           "line": {
            "color": "#2a3f5f"
           }
          },
          "ternary": {
           "aaxis": {
            "gridcolor": "white",
            "linecolor": "white",
            "ticks": ""
           },
           "baxis": {
            "gridcolor": "white",
            "linecolor": "white",
            "ticks": ""
           },
           "bgcolor": "#E5ECF6",
           "caxis": {
            "gridcolor": "white",
            "linecolor": "white",
            "ticks": ""
           }
          },
          "title": {
           "x": 0.05
          },
          "xaxis": {
           "automargin": true,
           "gridcolor": "white",
           "linecolor": "white",
           "ticks": "",
           "title": {
            "standoff": 15
           },
           "zerolinecolor": "white",
           "zerolinewidth": 2
          },
          "yaxis": {
           "automargin": true,
           "gridcolor": "white",
           "linecolor": "white",
           "ticks": "",
           "title": {
            "standoff": 15
           },
           "zerolinecolor": "white",
           "zerolinewidth": 2
          }
         }
        },
        "xaxis": {
         "anchor": "y",
         "domain": [
          0,
          1
         ],
         "title": {
          "text": "day"
         }
        },
        "yaxis": {
         "anchor": "x",
         "domain": [
          0,
          1
         ],
         "title": {
          "text": "sex"
         }
        }
       }
      }
     },
     "metadata": {},
     "output_type": "display_data"
    }
   ],
   "source": [
    "px.density_heatmap(df, x='day', y='sex', z='total_bill', histfunc='avg')"
   ]
  },
  {
   "cell_type": "code",
   "execution_count": 37,
   "metadata": {},
   "outputs": [
    {
     "data": {
      "application/vnd.plotly.v1+json": {
       "config": {
        "plotlyServerURL": "https://plot.ly"
       },
       "data": [
        {
         "coloraxis": "coloraxis",
         "hovertemplate": "total_bill=%{x}<br>tip=%{y}<br>count=%{z}<extra></extra>",
         "name": "",
         "type": "histogram2d",
         "x": [
          16.99,
          10.34,
          21.01,
          23.68,
          24.59,
          25.29,
          8.77,
          26.88,
          15.04,
          14.78,
          10.27,
          35.26,
          15.42,
          18.43,
          14.83,
          21.58,
          10.33,
          16.29,
          16.97,
          20.65,
          17.92,
          20.29,
          15.77,
          39.42,
          19.82,
          17.81,
          13.37,
          12.69,
          21.7,
          19.65,
          9.55,
          18.35,
          15.06,
          20.69,
          17.78,
          24.06,
          16.31,
          16.93,
          18.69,
          31.27,
          16.04,
          17.46,
          13.94,
          9.68,
          30.4,
          18.29,
          22.23,
          32.4,
          28.55,
          18.04,
          12.54,
          10.29,
          34.81,
          9.94,
          25.56,
          19.49,
          38.01,
          26.41,
          11.24,
          48.27,
          20.29,
          13.81,
          11.02,
          18.29,
          17.59,
          20.08,
          16.45,
          3.07,
          20.23,
          15.01,
          12.02,
          17.07,
          26.86,
          25.28,
          14.73,
          10.51,
          17.92,
          27.2,
          22.76,
          17.29,
          19.44,
          16.66,
          10.07,
          32.68,
          15.98,
          34.83,
          13.03,
          18.28,
          24.71,
          21.16,
          28.97,
          22.49,
          5.75,
          16.32,
          22.75,
          40.17,
          27.28,
          12.03,
          21.01,
          12.46,
          11.35,
          15.38,
          44.3,
          22.42,
          20.92,
          15.36,
          20.49,
          25.21,
          18.24,
          14.31,
          14,
          7.25,
          38.07,
          23.95,
          25.71,
          17.31,
          29.93,
          10.65,
          12.43,
          24.08,
          11.69,
          13.42,
          14.26,
          15.95,
          12.48,
          29.8,
          8.52,
          14.52,
          11.38,
          22.82,
          19.08,
          20.27,
          11.17,
          12.26,
          18.26,
          8.51,
          10.33,
          14.15,
          16,
          13.16,
          17.47,
          34.3,
          41.19,
          27.05,
          16.43,
          8.35,
          18.64,
          11.87,
          9.78,
          7.51,
          14.07,
          13.13,
          17.26,
          24.55,
          19.77,
          29.85,
          48.17,
          25,
          13.39,
          16.49,
          21.5,
          12.66,
          16.21,
          13.81,
          17.51,
          24.52,
          20.76,
          31.71,
          10.59,
          10.63,
          50.81,
          15.81,
          7.25,
          31.85,
          16.82,
          32.9,
          17.89,
          14.48,
          9.6,
          34.63,
          34.65,
          23.33,
          45.35,
          23.17,
          40.55,
          20.69,
          20.9,
          30.46,
          18.15,
          23.1,
          15.69,
          19.81,
          28.44,
          15.48,
          16.58,
          7.56,
          10.34,
          43.11,
          13,
          13.51,
          18.71,
          12.74,
          13,
          16.4,
          20.53,
          16.47,
          26.59,
          38.73,
          24.27,
          12.76,
          30.06,
          25.89,
          48.33,
          13.27,
          28.17,
          12.9,
          28.15,
          11.59,
          7.74,
          30.14,
          12.16,
          13.42,
          8.58,
          15.98,
          13.42,
          16.27,
          10.09,
          20.45,
          13.28,
          22.12,
          24.01,
          15.69,
          11.61,
          10.77,
          15.53,
          10.07,
          12.6,
          32.83,
          35.83,
          29.03,
          27.18,
          22.67,
          17.82,
          18.78
         ],
         "xaxis": "x",
         "xbingroup": "x",
         "y": [
          1.01,
          1.66,
          3.5,
          3.31,
          3.61,
          4.71,
          2,
          3.12,
          1.96,
          3.23,
          1.71,
          5,
          1.57,
          3,
          3.02,
          3.92,
          1.67,
          3.71,
          3.5,
          3.35,
          4.08,
          2.75,
          2.23,
          7.58,
          3.18,
          2.34,
          2,
          2,
          4.3,
          3,
          1.45,
          2.5,
          3,
          2.45,
          3.27,
          3.6,
          2,
          3.07,
          2.31,
          5,
          2.24,
          2.54,
          3.06,
          1.32,
          5.6,
          3,
          5,
          6,
          2.05,
          3,
          2.5,
          2.6,
          5.2,
          1.56,
          4.34,
          3.51,
          3,
          1.5,
          1.76,
          6.73,
          3.21,
          2,
          1.98,
          3.76,
          2.64,
          3.15,
          2.47,
          1,
          2.01,
          2.09,
          1.97,
          3,
          3.14,
          5,
          2.2,
          1.25,
          3.08,
          4,
          3,
          2.71,
          3,
          3.4,
          1.83,
          5,
          2.03,
          5.17,
          2,
          4,
          5.85,
          3,
          3,
          3.5,
          1,
          4.3,
          3.25,
          4.73,
          4,
          1.5,
          3,
          1.5,
          2.5,
          3,
          2.5,
          3.48,
          4.08,
          1.64,
          4.06,
          4.29,
          3.76,
          4,
          3,
          1,
          4,
          2.55,
          4,
          3.5,
          5.07,
          1.5,
          1.8,
          2.92,
          2.31,
          1.68,
          2.5,
          2,
          2.52,
          4.2,
          1.48,
          2,
          2,
          2.18,
          1.5,
          2.83,
          1.5,
          2,
          3.25,
          1.25,
          2,
          2,
          2,
          2.75,
          3.5,
          6.7,
          5,
          5,
          2.3,
          1.5,
          1.36,
          1.63,
          1.73,
          2,
          2.5,
          2,
          2.74,
          2,
          2,
          5.14,
          5,
          3.75,
          2.61,
          2,
          3.5,
          2.5,
          2,
          2,
          3,
          3.48,
          2.24,
          4.5,
          1.61,
          2,
          10,
          3.16,
          5.15,
          3.18,
          4,
          3.11,
          2,
          2,
          4,
          3.55,
          3.68,
          5.65,
          3.5,
          6.5,
          3,
          5,
          3.5,
          2,
          3.5,
          4,
          1.5,
          4.19,
          2.56,
          2.02,
          4,
          1.44,
          2,
          5,
          2,
          2,
          4,
          2.01,
          2,
          2.5,
          4,
          3.23,
          3.41,
          3,
          2.03,
          2.23,
          2,
          5.16,
          9,
          2.5,
          6.5,
          1.1,
          3,
          1.5,
          1.44,
          3.09,
          2.2,
          3.48,
          1.92,
          3,
          1.58,
          2.5,
          2,
          3,
          2.72,
          2.88,
          2,
          3,
          3.39,
          1.47,
          3,
          1.25,
          1,
          1.17,
          4.67,
          5.92,
          2,
          2,
          1.75,
          3
         ],
         "yaxis": "y",
         "ybingroup": "y"
        },
        {
         "alignmentgroup": "True",
         "bingroup": "x",
         "hovertemplate": "total_bill=%{x}<br>count=%{y}<extra></extra>",
         "legendgroup": "",
         "marker": {
          "color": "#0d0887"
         },
         "name": "",
         "offsetgroup": "",
         "opacity": 0.5,
         "showlegend": false,
         "type": "histogram",
         "x": [
          16.99,
          10.34,
          21.01,
          23.68,
          24.59,
          25.29,
          8.77,
          26.88,
          15.04,
          14.78,
          10.27,
          35.26,
          15.42,
          18.43,
          14.83,
          21.58,
          10.33,
          16.29,
          16.97,
          20.65,
          17.92,
          20.29,
          15.77,
          39.42,
          19.82,
          17.81,
          13.37,
          12.69,
          21.7,
          19.65,
          9.55,
          18.35,
          15.06,
          20.69,
          17.78,
          24.06,
          16.31,
          16.93,
          18.69,
          31.27,
          16.04,
          17.46,
          13.94,
          9.68,
          30.4,
          18.29,
          22.23,
          32.4,
          28.55,
          18.04,
          12.54,
          10.29,
          34.81,
          9.94,
          25.56,
          19.49,
          38.01,
          26.41,
          11.24,
          48.27,
          20.29,
          13.81,
          11.02,
          18.29,
          17.59,
          20.08,
          16.45,
          3.07,
          20.23,
          15.01,
          12.02,
          17.07,
          26.86,
          25.28,
          14.73,
          10.51,
          17.92,
          27.2,
          22.76,
          17.29,
          19.44,
          16.66,
          10.07,
          32.68,
          15.98,
          34.83,
          13.03,
          18.28,
          24.71,
          21.16,
          28.97,
          22.49,
          5.75,
          16.32,
          22.75,
          40.17,
          27.28,
          12.03,
          21.01,
          12.46,
          11.35,
          15.38,
          44.3,
          22.42,
          20.92,
          15.36,
          20.49,
          25.21,
          18.24,
          14.31,
          14,
          7.25,
          38.07,
          23.95,
          25.71,
          17.31,
          29.93,
          10.65,
          12.43,
          24.08,
          11.69,
          13.42,
          14.26,
          15.95,
          12.48,
          29.8,
          8.52,
          14.52,
          11.38,
          22.82,
          19.08,
          20.27,
          11.17,
          12.26,
          18.26,
          8.51,
          10.33,
          14.15,
          16,
          13.16,
          17.47,
          34.3,
          41.19,
          27.05,
          16.43,
          8.35,
          18.64,
          11.87,
          9.78,
          7.51,
          14.07,
          13.13,
          17.26,
          24.55,
          19.77,
          29.85,
          48.17,
          25,
          13.39,
          16.49,
          21.5,
          12.66,
          16.21,
          13.81,
          17.51,
          24.52,
          20.76,
          31.71,
          10.59,
          10.63,
          50.81,
          15.81,
          7.25,
          31.85,
          16.82,
          32.9,
          17.89,
          14.48,
          9.6,
          34.63,
          34.65,
          23.33,
          45.35,
          23.17,
          40.55,
          20.69,
          20.9,
          30.46,
          18.15,
          23.1,
          15.69,
          19.81,
          28.44,
          15.48,
          16.58,
          7.56,
          10.34,
          43.11,
          13,
          13.51,
          18.71,
          12.74,
          13,
          16.4,
          20.53,
          16.47,
          26.59,
          38.73,
          24.27,
          12.76,
          30.06,
          25.89,
          48.33,
          13.27,
          28.17,
          12.9,
          28.15,
          11.59,
          7.74,
          30.14,
          12.16,
          13.42,
          8.58,
          15.98,
          13.42,
          16.27,
          10.09,
          20.45,
          13.28,
          22.12,
          24.01,
          15.69,
          11.61,
          10.77,
          15.53,
          10.07,
          12.6,
          32.83,
          35.83,
          29.03,
          27.18,
          22.67,
          17.82,
          18.78
         ],
         "xaxis": "x3",
         "yaxis": "y3"
        },
        {
         "alignmentgroup": "True",
         "hovertemplate": "tip=%{y}<extra></extra>",
         "legendgroup": "",
         "marker": {
          "color": "#0d0887"
         },
         "name": "",
         "notched": true,
         "offsetgroup": "",
         "showlegend": false,
         "type": "box",
         "xaxis": "x2",
         "y": [
          1.01,
          1.66,
          3.5,
          3.31,
          3.61,
          4.71,
          2,
          3.12,
          1.96,
          3.23,
          1.71,
          5,
          1.57,
          3,
          3.02,
          3.92,
          1.67,
          3.71,
          3.5,
          3.35,
          4.08,
          2.75,
          2.23,
          7.58,
          3.18,
          2.34,
          2,
          2,
          4.3,
          3,
          1.45,
          2.5,
          3,
          2.45,
          3.27,
          3.6,
          2,
          3.07,
          2.31,
          5,
          2.24,
          2.54,
          3.06,
          1.32,
          5.6,
          3,
          5,
          6,
          2.05,
          3,
          2.5,
          2.6,
          5.2,
          1.56,
          4.34,
          3.51,
          3,
          1.5,
          1.76,
          6.73,
          3.21,
          2,
          1.98,
          3.76,
          2.64,
          3.15,
          2.47,
          1,
          2.01,
          2.09,
          1.97,
          3,
          3.14,
          5,
          2.2,
          1.25,
          3.08,
          4,
          3,
          2.71,
          3,
          3.4,
          1.83,
          5,
          2.03,
          5.17,
          2,
          4,
          5.85,
          3,
          3,
          3.5,
          1,
          4.3,
          3.25,
          4.73,
          4,
          1.5,
          3,
          1.5,
          2.5,
          3,
          2.5,
          3.48,
          4.08,
          1.64,
          4.06,
          4.29,
          3.76,
          4,
          3,
          1,
          4,
          2.55,
          4,
          3.5,
          5.07,
          1.5,
          1.8,
          2.92,
          2.31,
          1.68,
          2.5,
          2,
          2.52,
          4.2,
          1.48,
          2,
          2,
          2.18,
          1.5,
          2.83,
          1.5,
          2,
          3.25,
          1.25,
          2,
          2,
          2,
          2.75,
          3.5,
          6.7,
          5,
          5,
          2.3,
          1.5,
          1.36,
          1.63,
          1.73,
          2,
          2.5,
          2,
          2.74,
          2,
          2,
          5.14,
          5,
          3.75,
          2.61,
          2,
          3.5,
          2.5,
          2,
          2,
          3,
          3.48,
          2.24,
          4.5,
          1.61,
          2,
          10,
          3.16,
          5.15,
          3.18,
          4,
          3.11,
          2,
          2,
          4,
          3.55,
          3.68,
          5.65,
          3.5,
          6.5,
          3,
          5,
          3.5,
          2,
          3.5,
          4,
          1.5,
          4.19,
          2.56,
          2.02,
          4,
          1.44,
          2,
          5,
          2,
          2,
          4,
          2.01,
          2,
          2.5,
          4,
          3.23,
          3.41,
          3,
          2.03,
          2.23,
          2,
          5.16,
          9,
          2.5,
          6.5,
          1.1,
          3,
          1.5,
          1.44,
          3.09,
          2.2,
          3.48,
          1.92,
          3,
          1.58,
          2.5,
          2,
          3,
          2.72,
          2.88,
          2,
          3,
          3.39,
          1.47,
          3,
          1.25,
          1,
          1.17,
          4.67,
          5.92,
          2,
          2,
          1.75,
          3
         ],
         "yaxis": "y2"
        }
       ],
       "layout": {
        "barmode": "overlay",
        "coloraxis": {
         "colorbar": {
          "title": {
           "text": "count"
          }
         },
         "colorscale": [
          [
           0,
           "#0d0887"
          ],
          [
           0.1111111111111111,
           "#46039f"
          ],
          [
           0.2222222222222222,
           "#7201a8"
          ],
          [
           0.3333333333333333,
           "#9c179e"
          ],
          [
           0.4444444444444444,
           "#bd3786"
          ],
          [
           0.5555555555555556,
           "#d8576b"
          ],
          [
           0.6666666666666666,
           "#ed7953"
          ],
          [
           0.7777777777777778,
           "#fb9f3a"
          ],
          [
           0.8888888888888888,
           "#fdca26"
          ],
          [
           1,
           "#f0f921"
          ]
         ]
        },
        "height": 600,
        "legend": {
         "tracegroupgap": 0
        },
        "margin": {
         "t": 60
        },
        "template": {
         "data": {
          "bar": [
           {
            "error_x": {
             "color": "#2a3f5f"
            },
            "error_y": {
             "color": "#2a3f5f"
            },
            "marker": {
             "line": {
              "color": "#E5ECF6",
              "width": 0.5
             },
             "pattern": {
              "fillmode": "overlay",
              "size": 10,
              "solidity": 0.2
             }
            },
            "type": "bar"
           }
          ],
          "barpolar": [
           {
            "marker": {
             "line": {
              "color": "#E5ECF6",
              "width": 0.5
             },
             "pattern": {
              "fillmode": "overlay",
              "size": 10,
              "solidity": 0.2
             }
            },
            "type": "barpolar"
           }
          ],
          "carpet": [
           {
            "aaxis": {
             "endlinecolor": "#2a3f5f",
             "gridcolor": "white",
             "linecolor": "white",
             "minorgridcolor": "white",
             "startlinecolor": "#2a3f5f"
            },
            "baxis": {
             "endlinecolor": "#2a3f5f",
             "gridcolor": "white",
             "linecolor": "white",
             "minorgridcolor": "white",
             "startlinecolor": "#2a3f5f"
            },
            "type": "carpet"
           }
          ],
          "choropleth": [
           {
            "colorbar": {
             "outlinewidth": 0,
             "ticks": ""
            },
            "type": "choropleth"
           }
          ],
          "contour": [
           {
            "colorbar": {
             "outlinewidth": 0,
             "ticks": ""
            },
            "colorscale": [
             [
              0,
              "#0d0887"
             ],
             [
              0.1111111111111111,
              "#46039f"
             ],
             [
              0.2222222222222222,
              "#7201a8"
             ],
             [
              0.3333333333333333,
              "#9c179e"
             ],
             [
              0.4444444444444444,
              "#bd3786"
             ],
             [
              0.5555555555555556,
              "#d8576b"
             ],
             [
              0.6666666666666666,
              "#ed7953"
             ],
             [
              0.7777777777777778,
              "#fb9f3a"
             ],
             [
              0.8888888888888888,
              "#fdca26"
             ],
             [
              1,
              "#f0f921"
             ]
            ],
            "type": "contour"
           }
          ],
          "contourcarpet": [
           {
            "colorbar": {
             "outlinewidth": 0,
             "ticks": ""
            },
            "type": "contourcarpet"
           }
          ],
          "heatmap": [
           {
            "colorbar": {
             "outlinewidth": 0,
             "ticks": ""
            },
            "colorscale": [
             [
              0,
              "#0d0887"
             ],
             [
              0.1111111111111111,
              "#46039f"
             ],
             [
              0.2222222222222222,
              "#7201a8"
             ],
             [
              0.3333333333333333,
              "#9c179e"
             ],
             [
              0.4444444444444444,
              "#bd3786"
             ],
             [
              0.5555555555555556,
              "#d8576b"
             ],
             [
              0.6666666666666666,
              "#ed7953"
             ],
             [
              0.7777777777777778,
              "#fb9f3a"
             ],
             [
              0.8888888888888888,
              "#fdca26"
             ],
             [
              1,
              "#f0f921"
             ]
            ],
            "type": "heatmap"
           }
          ],
          "heatmapgl": [
           {
            "colorbar": {
             "outlinewidth": 0,
             "ticks": ""
            },
            "colorscale": [
             [
              0,
              "#0d0887"
             ],
             [
              0.1111111111111111,
              "#46039f"
             ],
             [
              0.2222222222222222,
              "#7201a8"
             ],
             [
              0.3333333333333333,
              "#9c179e"
             ],
             [
              0.4444444444444444,
              "#bd3786"
             ],
             [
              0.5555555555555556,
              "#d8576b"
             ],
             [
              0.6666666666666666,
              "#ed7953"
             ],
             [
              0.7777777777777778,
              "#fb9f3a"
             ],
             [
              0.8888888888888888,
              "#fdca26"
             ],
             [
              1,
              "#f0f921"
             ]
            ],
            "type": "heatmapgl"
           }
          ],
          "histogram": [
           {
            "marker": {
             "pattern": {
              "fillmode": "overlay",
              "size": 10,
              "solidity": 0.2
             }
            },
            "type": "histogram"
           }
          ],
          "histogram2d": [
           {
            "colorbar": {
             "outlinewidth": 0,
             "ticks": ""
            },
            "colorscale": [
             [
              0,
              "#0d0887"
             ],
             [
              0.1111111111111111,
              "#46039f"
             ],
             [
              0.2222222222222222,
              "#7201a8"
             ],
             [
              0.3333333333333333,
              "#9c179e"
             ],
             [
              0.4444444444444444,
              "#bd3786"
             ],
             [
              0.5555555555555556,
              "#d8576b"
             ],
             [
              0.6666666666666666,
              "#ed7953"
             ],
             [
              0.7777777777777778,
              "#fb9f3a"
             ],
             [
              0.8888888888888888,
              "#fdca26"
             ],
             [
              1,
              "#f0f921"
             ]
            ],
            "type": "histogram2d"
           }
          ],
          "histogram2dcontour": [
           {
            "colorbar": {
             "outlinewidth": 0,
             "ticks": ""
            },
            "colorscale": [
             [
              0,
              "#0d0887"
             ],
             [
              0.1111111111111111,
              "#46039f"
             ],
             [
              0.2222222222222222,
              "#7201a8"
             ],
             [
              0.3333333333333333,
              "#9c179e"
             ],
             [
              0.4444444444444444,
              "#bd3786"
             ],
             [
              0.5555555555555556,
              "#d8576b"
             ],
             [
              0.6666666666666666,
              "#ed7953"
             ],
             [
              0.7777777777777778,
              "#fb9f3a"
             ],
             [
              0.8888888888888888,
              "#fdca26"
             ],
             [
              1,
              "#f0f921"
             ]
            ],
            "type": "histogram2dcontour"
           }
          ],
          "mesh3d": [
           {
            "colorbar": {
             "outlinewidth": 0,
             "ticks": ""
            },
            "type": "mesh3d"
           }
          ],
          "parcoords": [
           {
            "line": {
             "colorbar": {
              "outlinewidth": 0,
              "ticks": ""
             }
            },
            "type": "parcoords"
           }
          ],
          "pie": [
           {
            "automargin": true,
            "type": "pie"
           }
          ],
          "scatter": [
           {
            "fillpattern": {
             "fillmode": "overlay",
             "size": 10,
             "solidity": 0.2
            },
            "type": "scatter"
           }
          ],
          "scatter3d": [
           {
            "line": {
             "colorbar": {
              "outlinewidth": 0,
              "ticks": ""
             }
            },
            "marker": {
             "colorbar": {
              "outlinewidth": 0,
              "ticks": ""
             }
            },
            "type": "scatter3d"
           }
          ],
          "scattercarpet": [
           {
            "marker": {
             "colorbar": {
              "outlinewidth": 0,
              "ticks": ""
             }
            },
            "type": "scattercarpet"
           }
          ],
          "scattergeo": [
           {
            "marker": {
             "colorbar": {
              "outlinewidth": 0,
              "ticks": ""
             }
            },
            "type": "scattergeo"
           }
          ],
          "scattergl": [
           {
            "marker": {
             "colorbar": {
              "outlinewidth": 0,
              "ticks": ""
             }
            },
            "type": "scattergl"
           }
          ],
          "scattermapbox": [
           {
            "marker": {
             "colorbar": {
              "outlinewidth": 0,
              "ticks": ""
             }
            },
            "type": "scattermapbox"
           }
          ],
          "scatterpolar": [
           {
            "marker": {
             "colorbar": {
              "outlinewidth": 0,
              "ticks": ""
             }
            },
            "type": "scatterpolar"
           }
          ],
          "scatterpolargl": [
           {
            "marker": {
             "colorbar": {
              "outlinewidth": 0,
              "ticks": ""
             }
            },
            "type": "scatterpolargl"
           }
          ],
          "scatterternary": [
           {
            "marker": {
             "colorbar": {
              "outlinewidth": 0,
              "ticks": ""
             }
            },
            "type": "scatterternary"
           }
          ],
          "surface": [
           {
            "colorbar": {
             "outlinewidth": 0,
             "ticks": ""
            },
            "colorscale": [
             [
              0,
              "#0d0887"
             ],
             [
              0.1111111111111111,
              "#46039f"
             ],
             [
              0.2222222222222222,
              "#7201a8"
             ],
             [
              0.3333333333333333,
              "#9c179e"
             ],
             [
              0.4444444444444444,
              "#bd3786"
             ],
             [
              0.5555555555555556,
              "#d8576b"
             ],
             [
              0.6666666666666666,
              "#ed7953"
             ],
             [
              0.7777777777777778,
              "#fb9f3a"
             ],
             [
              0.8888888888888888,
              "#fdca26"
             ],
             [
              1,
              "#f0f921"
             ]
            ],
            "type": "surface"
           }
          ],
          "table": [
           {
            "cells": {
             "fill": {
              "color": "#EBF0F8"
             },
             "line": {
              "color": "white"
             }
            },
            "header": {
             "fill": {
              "color": "#C8D4E3"
             },
             "line": {
              "color": "white"
             }
            },
            "type": "table"
           }
          ]
         },
         "layout": {
          "annotationdefaults": {
           "arrowcolor": "#2a3f5f",
           "arrowhead": 0,
           "arrowwidth": 1
          },
          "autotypenumbers": "strict",
          "coloraxis": {
           "colorbar": {
            "outlinewidth": 0,
            "ticks": ""
           }
          },
          "colorscale": {
           "diverging": [
            [
             0,
             "#8e0152"
            ],
            [
             0.1,
             "#c51b7d"
            ],
            [
             0.2,
             "#de77ae"
            ],
            [
             0.3,
             "#f1b6da"
            ],
            [
             0.4,
             "#fde0ef"
            ],
            [
             0.5,
             "#f7f7f7"
            ],
            [
             0.6,
             "#e6f5d0"
            ],
            [
             0.7,
             "#b8e186"
            ],
            [
             0.8,
             "#7fbc41"
            ],
            [
             0.9,
             "#4d9221"
            ],
            [
             1,
             "#276419"
            ]
           ],
           "sequential": [
            [
             0,
             "#0d0887"
            ],
            [
             0.1111111111111111,
             "#46039f"
            ],
            [
             0.2222222222222222,
             "#7201a8"
            ],
            [
             0.3333333333333333,
             "#9c179e"
            ],
            [
             0.4444444444444444,
             "#bd3786"
            ],
            [
             0.5555555555555556,
             "#d8576b"
            ],
            [
             0.6666666666666666,
             "#ed7953"
            ],
            [
             0.7777777777777778,
             "#fb9f3a"
            ],
            [
             0.8888888888888888,
             "#fdca26"
            ],
            [
             1,
             "#f0f921"
            ]
           ],
           "sequentialminus": [
            [
             0,
             "#0d0887"
            ],
            [
             0.1111111111111111,
             "#46039f"
            ],
            [
             0.2222222222222222,
             "#7201a8"
            ],
            [
             0.3333333333333333,
             "#9c179e"
            ],
            [
             0.4444444444444444,
             "#bd3786"
            ],
            [
             0.5555555555555556,
             "#d8576b"
            ],
            [
             0.6666666666666666,
             "#ed7953"
            ],
            [
             0.7777777777777778,
             "#fb9f3a"
            ],
            [
             0.8888888888888888,
             "#fdca26"
            ],
            [
             1,
             "#f0f921"
            ]
           ]
          },
          "colorway": [
           "#636efa",
           "#EF553B",
           "#00cc96",
           "#ab63fa",
           "#FFA15A",
           "#19d3f3",
           "#FF6692",
           "#B6E880",
           "#FF97FF",
           "#FECB52"
          ],
          "font": {
           "color": "#2a3f5f"
          },
          "geo": {
           "bgcolor": "white",
           "lakecolor": "white",
           "landcolor": "#E5ECF6",
           "showlakes": true,
           "showland": true,
           "subunitcolor": "white"
          },
          "hoverlabel": {
           "align": "left"
          },
          "hovermode": "closest",
          "mapbox": {
           "style": "light"
          },
          "paper_bgcolor": "white",
          "plot_bgcolor": "#E5ECF6",
          "polar": {
           "angularaxis": {
            "gridcolor": "white",
            "linecolor": "white",
            "ticks": ""
           },
           "bgcolor": "#E5ECF6",
           "radialaxis": {
            "gridcolor": "white",
            "linecolor": "white",
            "ticks": ""
           }
          },
          "scene": {
           "xaxis": {
            "backgroundcolor": "#E5ECF6",
            "gridcolor": "white",
            "gridwidth": 2,
            "linecolor": "white",
            "showbackground": true,
            "ticks": "",
            "zerolinecolor": "white"
           },
           "yaxis": {
            "backgroundcolor": "#E5ECF6",
            "gridcolor": "white",
            "gridwidth": 2,
            "linecolor": "white",
            "showbackground": true,
            "ticks": "",
            "zerolinecolor": "white"
           },
           "zaxis": {
            "backgroundcolor": "#E5ECF6",
            "gridcolor": "white",
            "gridwidth": 2,
            "linecolor": "white",
            "showbackground": true,
            "ticks": "",
            "zerolinecolor": "white"
           }
          },
          "shapedefaults": {
           "line": {
            "color": "#2a3f5f"
           }
          },
          "ternary": {
           "aaxis": {
            "gridcolor": "white",
            "linecolor": "white",
            "ticks": ""
           },
           "baxis": {
            "gridcolor": "white",
            "linecolor": "white",
            "ticks": ""
           },
           "bgcolor": "#E5ECF6",
           "caxis": {
            "gridcolor": "white",
            "linecolor": "white",
            "ticks": ""
           }
          },
          "title": {
           "x": 0.05
          },
          "xaxis": {
           "automargin": true,
           "gridcolor": "white",
           "linecolor": "white",
           "ticks": "",
           "title": {
            "standoff": 15
           },
           "zerolinecolor": "white",
           "zerolinewidth": 2
          },
          "yaxis": {
           "automargin": true,
           "gridcolor": "white",
           "linecolor": "white",
           "ticks": "",
           "title": {
            "standoff": 15
           },
           "zerolinecolor": "white",
           "zerolinewidth": 2
          }
         }
        },
        "xaxis": {
         "anchor": "y",
         "domain": [
          0,
          0.8358
         ],
         "title": {
          "text": "total_bill"
         }
        },
        "xaxis2": {
         "anchor": "y2",
         "domain": [
          0.8408,
          1
         ],
         "matches": "x2",
         "showgrid": false,
         "showline": false,
         "showticklabels": false,
         "ticks": ""
        },
        "xaxis3": {
         "anchor": "y3",
         "domain": [
          0,
          0.8358
         ],
         "matches": "x",
         "showgrid": true,
         "showticklabels": false
        },
        "xaxis4": {
         "anchor": "y4",
         "domain": [
          0.8408,
          1
         ],
         "matches": "x2",
         "showgrid": false,
         "showline": false,
         "showticklabels": false,
         "ticks": ""
        },
        "yaxis": {
         "anchor": "x",
         "domain": [
          0,
          0.7326
         ],
         "title": {
          "text": "tip"
         }
        },
        "yaxis2": {
         "anchor": "x2",
         "domain": [
          0,
          0.7326
         ],
         "matches": "y",
         "showgrid": true,
         "showticklabels": false
        },
        "yaxis3": {
         "anchor": "x3",
         "domain": [
          0.7426,
          1
         ],
         "matches": "y3",
         "showgrid": true,
         "showline": false,
         "showticklabels": false,
         "ticks": ""
        },
        "yaxis4": {
         "anchor": "x4",
         "domain": [
          0.7426,
          1
         ],
         "matches": "y3",
         "showgrid": true,
         "showline": false,
         "showticklabels": false,
         "ticks": ""
        }
       }
      }
     },
     "metadata": {},
     "output_type": "display_data"
    }
   ],
   "source": [
    "px.density_heatmap(df, x='total_bill', y='tip', marginal_x='histogram', marginal_y='box', height=600)"
   ]
  }
 ],
 "metadata": {
  "kernelspec": {
   "display_name": "Python 3",
   "language": "python",
   "name": "python3"
  },
  "language_info": {
   "codemirror_mode": {
    "name": "ipython",
    "version": 3
   },
   "file_extension": ".py",
   "mimetype": "text/x-python",
   "name": "python",
   "nbconvert_exporter": "python",
   "pygments_lexer": "ipython3",
   "version": "3.10.11"
  }
 },
 "nbformat": 4,
 "nbformat_minor": 2
}
