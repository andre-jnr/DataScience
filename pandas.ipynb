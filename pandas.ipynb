{
  "nbformat": 4,
  "nbformat_minor": 0,
  "metadata": {
    "colab": {
      "provenance": [],
      "authorship_tag": "ABX9TyM5YySmRfFlz/mEYRNhRN1Q"
    },
    "kernelspec": {
      "name": "python3",
      "display_name": "Python 3"
    },
    "language_info": {
      "name": "python"
    }
  },
  "cells": [
    {
      "cell_type": "markdown",
      "source": [
        "# Pandas"
      ],
      "metadata": {
        "id": "REm2DCZQVKok"
      }
    },
    {
      "cell_type": "markdown",
      "source": [
        "- O Pandas é uma biblioteca do Python que fornece ferramentas de análise de dados e estruturas de dados de alta performance e fáceis de usar.\n",
        "- Por ser a principal e mais completa biblioteca para estes objetivos, o Pandas é fundamental para Análise de Dados.\n",
        "- É muito comum que os dados que analisamos estejam dispostos em formato de tabelas, sobretudo, quando falamos em análise estatística de dados.\n",
        "- Esses dados, no formato de tabela, podem apresentar, por exemplo, colunas que trazem diferentes atributos do dado, e linhas que trazem um conjunto de observações.\n",
        "- Para exemplificar, [veja esse dataset](https://en.wikipedia.org/wiki/Iris_flower_data_set).\n",
        "\n",
        "Para nos ajudar a lidar com esses dados em formato de tabelas, o Pandas nos fornece um objeto, chamado DataFrame, que é capaz de armazenar e manipular esse tipo de dado de uma forma equivalente às planilhas de Excel."
      ],
      "metadata": {
        "id": "UDBbKXaNVgT9"
      }
    },
    {
      "cell_type": "code",
      "execution_count": 1,
      "metadata": {
        "id": "7CTB_QjiVAjy"
      },
      "outputs": [],
      "source": [
        "# Importação das bibliotecas\n",
        "import numpy as np\n",
        "import pandas as pd"
      ]
    },
    {
      "cell_type": "markdown",
      "source": [
        "# Series"
      ],
      "metadata": {
        "id": "nGuYgJHcXT8w"
      }
    },
    {
      "cell_type": "markdown",
      "source": [
        "A `Series` é como uma coluna ou uma linha do nosso DataFrame (tabela). Embora possa parecer que esse objeto é idêntico a um Numpy array, ele possui atributos distintos, os quais vamos estudar agora."
      ],
      "metadata": {
        "id": "DgiFbLzsXW5L"
      }
    },
    {
      "cell_type": "code",
      "source": [
        "# Um exemplo usando os passos que eu dei na semana\n",
        "steps = pd.Series([4126, 3867, 7934, 4180, 5344])"
      ],
      "metadata": {
        "id": "fxvyNrJXX7kq"
      },
      "execution_count": 2,
      "outputs": []
    },
    {
      "cell_type": "code",
      "source": [
        "steps"
      ],
      "metadata": {
        "colab": {
          "base_uri": "https://localhost:8080/"
        },
        "id": "rmbfZCHDYQ1n",
        "outputId": "5ca774d8-4000-48e8-f6b2-f48cfb74ed73"
      },
      "execution_count": 3,
      "outputs": [
        {
          "output_type": "execute_result",
          "data": {
            "text/plain": [
              "0    4126\n",
              "1    3867\n",
              "2    7934\n",
              "3    4180\n",
              "4    5344\n",
              "dtype: int64"
            ]
          },
          "metadata": {},
          "execution_count": 3
        }
      ]
    },
    {
      "cell_type": "code",
      "source": [
        "type(steps)"
      ],
      "metadata": {
        "colab": {
          "base_uri": "https://localhost:8080/"
        },
        "id": "QFal1OWtYcOm",
        "outputId": "9617c786-448b-4154-f206-09237fc0473f"
      },
      "execution_count": 4,
      "outputs": [
        {
          "output_type": "execute_result",
          "data": {
            "text/plain": [
              "pandas.core.series.Series"
            ]
          },
          "metadata": {},
          "execution_count": 4
        }
      ]
    },
    {
      "cell_type": "markdown",
      "source": [
        "## Como retornar os valores da série"
      ],
      "metadata": {
        "id": "w-eih_IfYphJ"
      }
    },
    {
      "cell_type": "code",
      "source": [
        "steps.values"
      ],
      "metadata": {
        "colab": {
          "base_uri": "https://localhost:8080/"
        },
        "id": "iAx0TFdSYygF",
        "outputId": "032b216d-7199-411b-cb72-4eb808d6c58c"
      },
      "execution_count": 5,
      "outputs": [
        {
          "output_type": "execute_result",
          "data": {
            "text/plain": [
              "array([4126, 3867, 7934, 4180, 5344])"
            ]
          },
          "metadata": {},
          "execution_count": 5
        }
      ]
    },
    {
      "cell_type": "markdown",
      "source": [
        "## Como retorna os indices do série"
      ],
      "metadata": {
        "id": "_v0gqgLYY5fm"
      }
    },
    {
      "cell_type": "code",
      "source": [
        "# range de 0 a 5 com passo 1\n",
        "steps.index"
      ],
      "metadata": {
        "colab": {
          "base_uri": "https://localhost:8080/"
        },
        "id": "yVKTviuFY90A",
        "outputId": "5e6bd1b9-86a1-4906-aefe-545e07a07889"
      },
      "execution_count": 7,
      "outputs": [
        {
          "output_type": "execute_result",
          "data": {
            "text/plain": [
              "RangeIndex(start=0, stop=5, step=1)"
            ]
          },
          "metadata": {},
          "execution_count": 7
        }
      ]
    },
    {
      "cell_type": "markdown",
      "source": [
        "## Como nomear cada índice"
      ],
      "metadata": {
        "id": "upCz3hXhZeom"
      }
    },
    {
      "cell_type": "code",
      "source": [
        "steps = pd.Series(data=[4126, 3867, 7934, 4180, 5344], index=['seg', 'ter', 'qua', 'qui', 'sex'])"
      ],
      "metadata": {
        "id": "6zQqD92ZZnlk"
      },
      "execution_count": 9,
      "outputs": []
    },
    {
      "cell_type": "code",
      "source": [
        "steps"
      ],
      "metadata": {
        "colab": {
          "base_uri": "https://localhost:8080/"
        },
        "id": "cGWveeJpZ-ZT",
        "outputId": "b674fbdc-2281-4135-fe03-6f9ea7d5a6f4"
      },
      "execution_count": 10,
      "outputs": [
        {
          "output_type": "execute_result",
          "data": {
            "text/plain": [
              "seg    4126\n",
              "ter    3867\n",
              "qua    7934\n",
              "qui    4180\n",
              "sex    5344\n",
              "dtype: int64"
            ]
          },
          "metadata": {},
          "execution_count": 10
        }
      ]
    },
    {
      "cell_type": "code",
      "source": [
        "steps.index"
      ],
      "metadata": {
        "colab": {
          "base_uri": "https://localhost:8080/"
        },
        "id": "rcGoO5hPaHG6",
        "outputId": "793cbc96-c20b-4b7b-affc-8961e2547744"
      },
      "execution_count": 11,
      "outputs": [
        {
          "output_type": "execute_result",
          "data": {
            "text/plain": [
              "Index(['seg', 'ter', 'qua', 'qui', 'sex'], dtype='object')"
            ]
          },
          "metadata": {},
          "execution_count": 11
        }
      ]
    },
    {
      "cell_type": "markdown",
      "source": [
        "## Funções do Numpy"
      ],
      "metadata": {
        "id": "iifizzYAaTw3"
      }
    },
    {
      "cell_type": "markdown",
      "source": [
        "> Lembrando que o valor de uma Serie é retornado em forma de array, ou seja, é possível utilizar as funções do Numpy."
      ],
      "metadata": {
        "id": "6X1ZMXO_asoL"
      }
    },
    {
      "cell_type": "code",
      "source": [
        "steps.min()"
      ],
      "metadata": {
        "colab": {
          "base_uri": "https://localhost:8080/"
        },
        "id": "3af9eck2aaeS",
        "outputId": "7c688d66-be42-47c6-e2a0-e5bdba5e4d46"
      },
      "execution_count": 12,
      "outputs": [
        {
          "output_type": "execute_result",
          "data": {
            "text/plain": [
              "3867"
            ]
          },
          "metadata": {},
          "execution_count": 12
        }
      ]
    },
    {
      "cell_type": "code",
      "source": [
        "steps.max()"
      ],
      "metadata": {
        "colab": {
          "base_uri": "https://localhost:8080/"
        },
        "id": "Sl54qWeMag7C",
        "outputId": "e545f3ca-c80f-4229-9854-b965990d3b34"
      },
      "execution_count": 13,
      "outputs": [
        {
          "output_type": "execute_result",
          "data": {
            "text/plain": [
              "7934"
            ]
          },
          "metadata": {},
          "execution_count": 13
        }
      ]
    },
    {
      "cell_type": "code",
      "source": [
        "steps.mean()"
      ],
      "metadata": {
        "colab": {
          "base_uri": "https://localhost:8080/"
        },
        "id": "_uI6kba4akT_",
        "outputId": "b2930550-4466-4670-8519-23152e5fbb15"
      },
      "execution_count": 14,
      "outputs": [
        {
          "output_type": "execute_result",
          "data": {
            "text/plain": [
              "5090.2"
            ]
          },
          "metadata": {},
          "execution_count": 14
        }
      ]
    },
    {
      "cell_type": "code",
      "source": [
        "steps.sum()"
      ],
      "metadata": {
        "colab": {
          "base_uri": "https://localhost:8080/"
        },
        "id": "EO-n3Qdlao87",
        "outputId": "dccb4228-23c9-4603-8f62-22e0970a157a"
      },
      "execution_count": 15,
      "outputs": [
        {
          "output_type": "execute_result",
          "data": {
            "text/plain": [
              "25451"
            ]
          },
          "metadata": {},
          "execution_count": 15
        }
      ]
    },
    {
      "cell_type": "markdown",
      "source": [
        "## Para visualizar um conjunto de informações"
      ],
      "metadata": {
        "id": "MiaCN5EPbBQB"
      }
    },
    {
      "cell_type": "code",
      "source": [
        "steps.describe()"
      ],
      "metadata": {
        "colab": {
          "base_uri": "https://localhost:8080/"
        },
        "id": "fWxLkBWybHGu",
        "outputId": "3d0486df-6969-4b4c-d3e6-45c8eea8bf70"
      },
      "execution_count": 16,
      "outputs": [
        {
          "output_type": "execute_result",
          "data": {
            "text/plain": [
              "count       5.000000\n",
              "mean     5090.200000\n",
              "std      1688.636787\n",
              "min      3867.000000\n",
              "25%      4126.000000\n",
              "50%      4180.000000\n",
              "75%      5344.000000\n",
              "max      7934.000000\n",
              "dtype: float64"
            ]
          },
          "metadata": {},
          "execution_count": 16
        }
      ]
    },
    {
      "cell_type": "markdown",
      "source": [
        "Essa estrutura é bem flexível. Veja alguns exemplos do que você pode fazer com ela:"
      ],
      "metadata": {
        "id": "miTf2bzibc02"
      }
    },
    {
      "cell_type": "code",
      "source": [
        "steps * 2"
      ],
      "metadata": {
        "colab": {
          "base_uri": "https://localhost:8080/"
        },
        "id": "tPfUVcCjbhQa",
        "outputId": "3604414b-40eb-4fcd-f0b2-6400664ae975"
      },
      "execution_count": 17,
      "outputs": [
        {
          "output_type": "execute_result",
          "data": {
            "text/plain": [
              "seg     8252\n",
              "ter     7734\n",
              "qua    15868\n",
              "qui     8360\n",
              "sex    10688\n",
              "dtype: int64"
            ]
          },
          "metadata": {},
          "execution_count": 17
        }
      ]
    },
    {
      "cell_type": "code",
      "source": [
        "np.sqrt(steps)"
      ],
      "metadata": {
        "colab": {
          "base_uri": "https://localhost:8080/"
        },
        "id": "hjosH-bsbn-M",
        "outputId": "1c699b20-6849-4e71-f7f5-d3c031782120"
      },
      "execution_count": 18,
      "outputs": [
        {
          "output_type": "execute_result",
          "data": {
            "text/plain": [
              "seg    64.233947\n",
              "ter    62.185207\n",
              "qua    89.073004\n",
              "qui    64.652920\n",
              "sex    73.102668\n",
              "dtype: float64"
            ]
          },
          "metadata": {},
          "execution_count": 18
        }
      ]
    }
  ]
}