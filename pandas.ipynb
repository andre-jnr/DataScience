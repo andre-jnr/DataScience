{
  "nbformat": 4,
  "nbformat_minor": 0,
  "metadata": {
    "colab": {
      "provenance": [],
      "authorship_tag": "ABX9TyMIFALRzCVPCdQTnnhCdJRK"
    },
    "kernelspec": {
      "name": "python3",
      "display_name": "Python 3"
    },
    "language_info": {
      "name": "python"
    }
  },
  "cells": [
    {
      "cell_type": "markdown",
      "source": [
        "# Pandas"
      ],
      "metadata": {
        "id": "REm2DCZQVKok"
      }
    },
    {
      "cell_type": "markdown",
      "source": [
        "- O Pandas é uma biblioteca do Python que fornece ferramentas de análise de dados e estruturas de dados de alta performance e fáceis de usar.\n",
        "- Por ser a principal e mais completa biblioteca para estes objetivos, o Pandas é fundamental para Análise de Dados.\n",
        "- É muito comum que os dados que analisamos estejam dispostos em formato de tabelas, sobretudo, quando falamos em análise estatística de dados.\n",
        "- Esses dados, no formato de tabela, podem apresentar, por exemplo, colunas que trazem diferentes atributos do dado, e linhas que trazem um conjunto de observações.\n",
        "- Para exemplificar, [veja esse dataset](https://en.wikipedia.org/wiki/Iris_flower_data_set).\n",
        "\n",
        "Para nos ajudar a lidar com esses dados em formato de tabelas, o Pandas nos fornece um objeto, chamado DataFrame, que é capaz de armazenar e manipular esse tipo de dado de uma forma equivalente às planilhas de Excel."
      ],
      "metadata": {
        "id": "UDBbKXaNVgT9"
      }
    },
    {
      "cell_type": "code",
      "execution_count": 2,
      "metadata": {
        "id": "7CTB_QjiVAjy"
      },
      "outputs": [],
      "source": [
        "# Importação das bibliotecas\n",
        "import numpy as np\n",
        "import pandas as pd"
      ]
    },
    {
      "cell_type": "markdown",
      "source": [
        "# Series"
      ],
      "metadata": {
        "id": "nGuYgJHcXT8w"
      }
    },
    {
      "cell_type": "markdown",
      "source": [
        "A `Series` é como uma coluna ou uma linha do nosso DataFrame (tabela). Embora possa parecer que esse objeto é idêntico a um Numpy array, ele possui atributos distintos, os quais vamos estudar agora."
      ],
      "metadata": {
        "id": "DgiFbLzsXW5L"
      }
    },
    {
      "cell_type": "code",
      "source": [
        "# Um exemplo usando os passos que eu dei na semana\n",
        "steps = pd.Series([4126, 3867, 7934, 4180, 5344])"
      ],
      "metadata": {
        "id": "fxvyNrJXX7kq"
      },
      "execution_count": null,
      "outputs": []
    },
    {
      "cell_type": "code",
      "source": [
        "steps"
      ],
      "metadata": {
        "colab": {
          "base_uri": "https://localhost:8080/"
        },
        "id": "rmbfZCHDYQ1n",
        "outputId": "5ca774d8-4000-48e8-f6b2-f48cfb74ed73"
      },
      "execution_count": null,
      "outputs": [
        {
          "output_type": "execute_result",
          "data": {
            "text/plain": [
              "0    4126\n",
              "1    3867\n",
              "2    7934\n",
              "3    4180\n",
              "4    5344\n",
              "dtype: int64"
            ]
          },
          "metadata": {},
          "execution_count": 3
        }
      ]
    },
    {
      "cell_type": "code",
      "source": [
        "type(steps)"
      ],
      "metadata": {
        "colab": {
          "base_uri": "https://localhost:8080/"
        },
        "id": "QFal1OWtYcOm",
        "outputId": "9617c786-448b-4154-f206-09237fc0473f"
      },
      "execution_count": null,
      "outputs": [
        {
          "output_type": "execute_result",
          "data": {
            "text/plain": [
              "pandas.core.series.Series"
            ]
          },
          "metadata": {},
          "execution_count": 4
        }
      ]
    },
    {
      "cell_type": "markdown",
      "source": [
        "## Como retornar os valores da série"
      ],
      "metadata": {
        "id": "w-eih_IfYphJ"
      }
    },
    {
      "cell_type": "code",
      "source": [
        "steps.values"
      ],
      "metadata": {
        "colab": {
          "base_uri": "https://localhost:8080/"
        },
        "id": "iAx0TFdSYygF",
        "outputId": "032b216d-7199-411b-cb72-4eb808d6c58c"
      },
      "execution_count": null,
      "outputs": [
        {
          "output_type": "execute_result",
          "data": {
            "text/plain": [
              "array([4126, 3867, 7934, 4180, 5344])"
            ]
          },
          "metadata": {},
          "execution_count": 5
        }
      ]
    },
    {
      "cell_type": "markdown",
      "source": [
        "## Como retorna os indices do série"
      ],
      "metadata": {
        "id": "_v0gqgLYY5fm"
      }
    },
    {
      "cell_type": "code",
      "source": [
        "# range de 0 a 5 com passo 1\n",
        "steps.index"
      ],
      "metadata": {
        "colab": {
          "base_uri": "https://localhost:8080/"
        },
        "id": "yVKTviuFY90A",
        "outputId": "5e6bd1b9-86a1-4906-aefe-545e07a07889"
      },
      "execution_count": null,
      "outputs": [
        {
          "output_type": "execute_result",
          "data": {
            "text/plain": [
              "RangeIndex(start=0, stop=5, step=1)"
            ]
          },
          "metadata": {},
          "execution_count": 7
        }
      ]
    },
    {
      "cell_type": "markdown",
      "source": [
        "## Como nomear cada índice"
      ],
      "metadata": {
        "id": "upCz3hXhZeom"
      }
    },
    {
      "cell_type": "code",
      "source": [
        "steps = pd.Series(data=[4126, 3867, 7934, 4180, 5344], index=['seg', 'ter', 'qua', 'qui', 'sex'])"
      ],
      "metadata": {
        "id": "6zQqD92ZZnlk"
      },
      "execution_count": null,
      "outputs": []
    },
    {
      "cell_type": "code",
      "source": [
        "steps"
      ],
      "metadata": {
        "colab": {
          "base_uri": "https://localhost:8080/"
        },
        "id": "cGWveeJpZ-ZT",
        "outputId": "b674fbdc-2281-4135-fe03-6f9ea7d5a6f4"
      },
      "execution_count": null,
      "outputs": [
        {
          "output_type": "execute_result",
          "data": {
            "text/plain": [
              "seg    4126\n",
              "ter    3867\n",
              "qua    7934\n",
              "qui    4180\n",
              "sex    5344\n",
              "dtype: int64"
            ]
          },
          "metadata": {},
          "execution_count": 10
        }
      ]
    },
    {
      "cell_type": "code",
      "source": [
        "steps.index"
      ],
      "metadata": {
        "colab": {
          "base_uri": "https://localhost:8080/"
        },
        "id": "rcGoO5hPaHG6",
        "outputId": "793cbc96-c20b-4b7b-affc-8961e2547744"
      },
      "execution_count": null,
      "outputs": [
        {
          "output_type": "execute_result",
          "data": {
            "text/plain": [
              "Index(['seg', 'ter', 'qua', 'qui', 'sex'], dtype='object')"
            ]
          },
          "metadata": {},
          "execution_count": 11
        }
      ]
    },
    {
      "cell_type": "markdown",
      "source": [
        "## Funções do Numpy"
      ],
      "metadata": {
        "id": "iifizzYAaTw3"
      }
    },
    {
      "cell_type": "markdown",
      "source": [
        "> Lembrando que o valor de uma Serie é retornado em forma de array, ou seja, é possível utilizar as funções do Numpy."
      ],
      "metadata": {
        "id": "6X1ZMXO_asoL"
      }
    },
    {
      "cell_type": "code",
      "source": [
        "steps.min()"
      ],
      "metadata": {
        "colab": {
          "base_uri": "https://localhost:8080/"
        },
        "id": "3af9eck2aaeS",
        "outputId": "7c688d66-be42-47c6-e2a0-e5bdba5e4d46"
      },
      "execution_count": null,
      "outputs": [
        {
          "output_type": "execute_result",
          "data": {
            "text/plain": [
              "3867"
            ]
          },
          "metadata": {},
          "execution_count": 12
        }
      ]
    },
    {
      "cell_type": "code",
      "source": [
        "steps.max()"
      ],
      "metadata": {
        "colab": {
          "base_uri": "https://localhost:8080/"
        },
        "id": "Sl54qWeMag7C",
        "outputId": "e545f3ca-c80f-4229-9854-b965990d3b34"
      },
      "execution_count": null,
      "outputs": [
        {
          "output_type": "execute_result",
          "data": {
            "text/plain": [
              "7934"
            ]
          },
          "metadata": {},
          "execution_count": 13
        }
      ]
    },
    {
      "cell_type": "code",
      "source": [
        "steps.mean()"
      ],
      "metadata": {
        "colab": {
          "base_uri": "https://localhost:8080/"
        },
        "id": "_uI6kba4akT_",
        "outputId": "b2930550-4466-4670-8519-23152e5fbb15"
      },
      "execution_count": null,
      "outputs": [
        {
          "output_type": "execute_result",
          "data": {
            "text/plain": [
              "5090.2"
            ]
          },
          "metadata": {},
          "execution_count": 14
        }
      ]
    },
    {
      "cell_type": "code",
      "source": [
        "steps.sum()"
      ],
      "metadata": {
        "colab": {
          "base_uri": "https://localhost:8080/"
        },
        "id": "EO-n3Qdlao87",
        "outputId": "dccb4228-23c9-4603-8f62-22e0970a157a"
      },
      "execution_count": null,
      "outputs": [
        {
          "output_type": "execute_result",
          "data": {
            "text/plain": [
              "25451"
            ]
          },
          "metadata": {},
          "execution_count": 15
        }
      ]
    },
    {
      "cell_type": "markdown",
      "source": [
        "## Para visualizar um conjunto de informações"
      ],
      "metadata": {
        "id": "MiaCN5EPbBQB"
      }
    },
    {
      "cell_type": "code",
      "source": [
        "steps.describe()"
      ],
      "metadata": {
        "colab": {
          "base_uri": "https://localhost:8080/"
        },
        "id": "fWxLkBWybHGu",
        "outputId": "3d0486df-6969-4b4c-d3e6-45c8eea8bf70"
      },
      "execution_count": null,
      "outputs": [
        {
          "output_type": "execute_result",
          "data": {
            "text/plain": [
              "count       5.000000\n",
              "mean     5090.200000\n",
              "std      1688.636787\n",
              "min      3867.000000\n",
              "25%      4126.000000\n",
              "50%      4180.000000\n",
              "75%      5344.000000\n",
              "max      7934.000000\n",
              "dtype: float64"
            ]
          },
          "metadata": {},
          "execution_count": 16
        }
      ]
    },
    {
      "cell_type": "markdown",
      "source": [
        "Essa estrutura é bem flexível. Veja alguns exemplos do que você pode fazer com ela:"
      ],
      "metadata": {
        "id": "miTf2bzibc02"
      }
    },
    {
      "cell_type": "code",
      "source": [
        "steps * 2"
      ],
      "metadata": {
        "colab": {
          "base_uri": "https://localhost:8080/"
        },
        "id": "tPfUVcCjbhQa",
        "outputId": "3604414b-40eb-4fcd-f0b2-6400664ae975"
      },
      "execution_count": null,
      "outputs": [
        {
          "output_type": "execute_result",
          "data": {
            "text/plain": [
              "seg     8252\n",
              "ter     7734\n",
              "qua    15868\n",
              "qui     8360\n",
              "sex    10688\n",
              "dtype: int64"
            ]
          },
          "metadata": {},
          "execution_count": 17
        }
      ]
    },
    {
      "cell_type": "code",
      "source": [
        "np.sqrt(steps)"
      ],
      "metadata": {
        "colab": {
          "base_uri": "https://localhost:8080/"
        },
        "id": "hjosH-bsbn-M",
        "outputId": "1c699b20-6849-4e71-f7f5-d3c031782120"
      },
      "execution_count": null,
      "outputs": [
        {
          "output_type": "execute_result",
          "data": {
            "text/plain": [
              "seg    64.233947\n",
              "ter    62.185207\n",
              "qua    89.073004\n",
              "qui    64.652920\n",
              "sex    73.102668\n",
              "dtype: float64"
            ]
          },
          "metadata": {},
          "execution_count": 18
        }
      ]
    },
    {
      "cell_type": "markdown",
      "source": [
        "## Criando uma series com dicionários"
      ],
      "metadata": {
        "id": "OGLyfPHZq_Bo"
      }
    },
    {
      "cell_type": "code",
      "source": [
        "dic = {'python': 10, 'javascript': 9, 'matlab':7}"
      ],
      "metadata": {
        "id": "DuJdnD_jrFI4"
      },
      "execution_count": null,
      "outputs": []
    },
    {
      "cell_type": "code",
      "source": [
        "series = pd.Series(dic)"
      ],
      "metadata": {
        "id": "kzjjy9dqrY9y"
      },
      "execution_count": null,
      "outputs": []
    },
    {
      "cell_type": "code",
      "source": [
        "series"
      ],
      "metadata": {
        "colab": {
          "base_uri": "https://localhost:8080/"
        },
        "id": "Cd1GRWgprdSo",
        "outputId": "55cb915d-d76d-41a3-b4e5-cf6493fbc55d"
      },
      "execution_count": null,
      "outputs": [
        {
          "output_type": "execute_result",
          "data": {
            "text/plain": [
              "python        10\n",
              "javascript     9\n",
              "matlab         7\n",
              "dtype: int64"
            ]
          },
          "metadata": {},
          "execution_count": 21
        }
      ]
    },
    {
      "cell_type": "markdown",
      "source": [
        "## Indexação"
      ],
      "metadata": {
        "id": "iw7ZN7Pfroy-"
      }
    },
    {
      "cell_type": "code",
      "source": [
        "s = pd.Series(data=np.random.randint(1, 5, 10), index=['A B C D E F G H I J'.split()])"
      ],
      "metadata": {
        "id": "IINhpgJar0aI"
      },
      "execution_count": null,
      "outputs": []
    },
    {
      "cell_type": "code",
      "source": [
        "s"
      ],
      "metadata": {
        "colab": {
          "base_uri": "https://localhost:8080/"
        },
        "id": "nPXviJoLsXP6",
        "outputId": "154ac9b7-4721-4848-9966-24294034b0f8"
      },
      "execution_count": null,
      "outputs": [
        {
          "output_type": "execute_result",
          "data": {
            "text/plain": [
              "A    3\n",
              "B    4\n",
              "C    2\n",
              "D    4\n",
              "E    3\n",
              "F    4\n",
              "G    2\n",
              "H    1\n",
              "I    1\n",
              "J    3\n",
              "dtype: int64"
            ]
          },
          "metadata": {},
          "execution_count": 24
        }
      ]
    },
    {
      "cell_type": "code",
      "source": [
        "s[0]"
      ],
      "metadata": {
        "colab": {
          "base_uri": "https://localhost:8080/"
        },
        "id": "xjnedXsgsrGV",
        "outputId": "ab117cf9-5ecf-43af-8265-1b4a57d1d0b7"
      },
      "execution_count": null,
      "outputs": [
        {
          "output_type": "execute_result",
          "data": {
            "text/plain": [
              "3"
            ]
          },
          "metadata": {},
          "execution_count": 25
        }
      ]
    },
    {
      "cell_type": "code",
      "source": [
        "s['A']"
      ],
      "metadata": {
        "colab": {
          "base_uri": "https://localhost:8080/"
        },
        "id": "jgtjRIafsxDi",
        "outputId": "8010e368-4e8e-4982-9a60-263321436607"
      },
      "execution_count": null,
      "outputs": [
        {
          "output_type": "execute_result",
          "data": {
            "text/plain": [
              "3"
            ]
          },
          "metadata": {},
          "execution_count": 26
        }
      ]
    },
    {
      "cell_type": "code",
      "source": [
        "s[2:4]"
      ],
      "metadata": {
        "colab": {
          "base_uri": "https://localhost:8080/"
        },
        "id": "0y5NQ2HOs4AR",
        "outputId": "e66b133c-4b4f-4681-e5c1-caa313a4d925"
      },
      "execution_count": null,
      "outputs": [
        {
          "output_type": "execute_result",
          "data": {
            "text/plain": [
              "C    2\n",
              "D    4\n",
              "dtype: int64"
            ]
          },
          "metadata": {},
          "execution_count": 27
        }
      ]
    },
    {
      "cell_type": "code",
      "source": [
        "s['C':'D']"
      ],
      "metadata": {
        "colab": {
          "base_uri": "https://localhost:8080/"
        },
        "id": "lBVQroqjtCMk",
        "outputId": "2a38f4d4-a9c5-48e3-8221-4b99c7401ea4"
      },
      "execution_count": null,
      "outputs": [
        {
          "output_type": "execute_result",
          "data": {
            "text/plain": [
              "C    2\n",
              "D    4\n",
              "dtype: int64"
            ]
          },
          "metadata": {},
          "execution_count": 28
        }
      ]
    },
    {
      "cell_type": "markdown",
      "source": [
        "## Operações"
      ],
      "metadata": {
        "id": "HFTeMSSxtVPX"
      }
    },
    {
      "cell_type": "code",
      "source": [
        "s1 = pd.Series(data=np.random.randint(1, 100, 3), index='facebook instagram youtube'.split())"
      ],
      "metadata": {
        "id": "8lbOwxsrtdPm"
      },
      "execution_count": null,
      "outputs": []
    },
    {
      "cell_type": "code",
      "source": [
        "s2 = pd.Series(data=np.random.randint(1, 100, 3), index='facebook instagram tiktok'.split())"
      ],
      "metadata": {
        "id": "Gobkhiw5t0WT"
      },
      "execution_count": null,
      "outputs": []
    },
    {
      "cell_type": "code",
      "source": [
        "s1"
      ],
      "metadata": {
        "colab": {
          "base_uri": "https://localhost:8080/"
        },
        "id": "f6rbMAdguAd8",
        "outputId": "76d2d5c8-6041-4b6a-ed79-6f69afd02cae"
      },
      "execution_count": null,
      "outputs": [
        {
          "output_type": "execute_result",
          "data": {
            "text/plain": [
              "facebook     84\n",
              "instagram    26\n",
              "youtube      80\n",
              "dtype: int64"
            ]
          },
          "metadata": {},
          "execution_count": 36
        }
      ]
    },
    {
      "cell_type": "code",
      "source": [
        "s2"
      ],
      "metadata": {
        "colab": {
          "base_uri": "https://localhost:8080/"
        },
        "id": "JwaOYOAWuCV7",
        "outputId": "3ff0f476-8634-41f5-e300-d37255f358a3"
      },
      "execution_count": null,
      "outputs": [
        {
          "output_type": "execute_result",
          "data": {
            "text/plain": [
              "facebook     45\n",
              "instagram    67\n",
              "tiktok       23\n",
              "dtype: int64"
            ]
          },
          "metadata": {},
          "execution_count": 34
        }
      ]
    },
    {
      "cell_type": "code",
      "source": [
        "s1 + s2"
      ],
      "metadata": {
        "colab": {
          "base_uri": "https://localhost:8080/"
        },
        "id": "zAmMAZx7uHUb",
        "outputId": "696852c0-f56e-4322-a659-6b6f5256227f"
      },
      "execution_count": null,
      "outputs": [
        {
          "output_type": "execute_result",
          "data": {
            "text/plain": [
              "facebook     129.0\n",
              "instagram     93.0\n",
              "tiktok         NaN\n",
              "youtube        NaN\n",
              "dtype: float64"
            ]
          },
          "metadata": {},
          "execution_count": 37
        }
      ]
    },
    {
      "cell_type": "code",
      "source": [
        "s1 - s2"
      ],
      "metadata": {
        "colab": {
          "base_uri": "https://localhost:8080/"
        },
        "id": "EmOxtYRkuUzm",
        "outputId": "0b33e493-c8ce-4544-9c9f-a93744d7f412"
      },
      "execution_count": null,
      "outputs": [
        {
          "output_type": "execute_result",
          "data": {
            "text/plain": [
              "facebook     39.0\n",
              "instagram   -41.0\n",
              "tiktok        NaN\n",
              "youtube       NaN\n",
              "dtype: float64"
            ]
          },
          "metadata": {},
          "execution_count": 38
        }
      ]
    },
    {
      "cell_type": "markdown",
      "source": [
        "## Mascaras"
      ],
      "metadata": {
        "id": "5zscRZNbuqTm"
      }
    },
    {
      "cell_type": "code",
      "source": [
        "s"
      ],
      "metadata": {
        "colab": {
          "base_uri": "https://localhost:8080/"
        },
        "id": "ZAfhpS3pus0_",
        "outputId": "f6ea65ec-b06d-47e2-fe15-06764f4cb974"
      },
      "execution_count": null,
      "outputs": [
        {
          "output_type": "execute_result",
          "data": {
            "text/plain": [
              "A    3\n",
              "B    4\n",
              "C    2\n",
              "D    4\n",
              "E    3\n",
              "F    4\n",
              "G    2\n",
              "H    1\n",
              "I    1\n",
              "J    3\n",
              "dtype: int64"
            ]
          },
          "metadata": {},
          "execution_count": 39
        }
      ]
    },
    {
      "cell_type": "markdown",
      "source": [
        "### Retornando os valores maiores de 2"
      ],
      "metadata": {
        "id": "dxwEihCCuwim"
      }
    },
    {
      "cell_type": "code",
      "source": [
        "s[s > 2]"
      ],
      "metadata": {
        "colab": {
          "base_uri": "https://localhost:8080/"
        },
        "id": "dRwCIFzNu2OE",
        "outputId": "b015b0fe-18a8-42b4-ff70-72d36bb228cb"
      },
      "execution_count": null,
      "outputs": [
        {
          "output_type": "execute_result",
          "data": {
            "text/plain": [
              "A    3\n",
              "B    4\n",
              "D    4\n",
              "E    3\n",
              "F    4\n",
              "J    3\n",
              "dtype: int64"
            ]
          },
          "metadata": {},
          "execution_count": 40
        }
      ]
    },
    {
      "cell_type": "markdown",
      "source": [
        "Apenas os índices dos maiore de 2:"
      ],
      "metadata": {
        "id": "qqK0K8kau93E"
      }
    },
    {
      "cell_type": "code",
      "source": [
        "s[s > 2].index"
      ],
      "metadata": {
        "colab": {
          "base_uri": "https://localhost:8080/"
        },
        "id": "ATVQgv67vB5d",
        "outputId": "d07e6d3c-e384-4b4f-8cac-7bf544b311d4"
      },
      "execution_count": null,
      "outputs": [
        {
          "output_type": "execute_result",
          "data": {
            "text/plain": [
              "MultiIndex([('A',),\n",
              "            ('B',),\n",
              "            ('D',),\n",
              "            ('E',),\n",
              "            ('F',),\n",
              "            ('J',)],\n",
              "           )"
            ]
          },
          "metadata": {},
          "execution_count": 41
        }
      ]
    },
    {
      "cell_type": "markdown",
      "source": [
        "# DataFrame"
      ],
      "metadata": {
        "id": "a41ngD5aHF69"
      }
    },
    {
      "cell_type": "markdown",
      "source": [
        "DataFrame é capaz de armazenar e manipular esse tipo de dado de uma forma equivalente às planilhas de Excel.\n",
        "\n",
        "> DataFrame é com conjunto de Series"
      ],
      "metadata": {
        "id": "2zgyng55KQV9"
      }
    },
    {
      "cell_type": "code",
      "source": [
        "dados = np.array([[72, 180, 26], [80, 170, 19], [60, 165, 15]])\n",
        "\n",
        "dados"
      ],
      "metadata": {
        "colab": {
          "base_uri": "https://localhost:8080/"
        },
        "id": "wDDwaQMiIgCX",
        "outputId": "2a1d85d8-ddcb-452f-f7b3-a57ef289ea39"
      },
      "execution_count": 3,
      "outputs": [
        {
          "output_type": "execute_result",
          "data": {
            "text/plain": [
              "array([[ 72, 180,  26],\n",
              "       [ 80, 170,  19],\n",
              "       [ 60, 165,  15]])"
            ]
          },
          "metadata": {},
          "execution_count": 3
        }
      ]
    },
    {
      "cell_type": "code",
      "source": [
        "df = pd.DataFrame(data=dados, columns=['Peso', 'Altura', 'Idade'])\n",
        "df"
      ],
      "metadata": {
        "colab": {
          "base_uri": "https://localhost:8080/",
          "height": 143
        },
        "id": "aMXtAneiIKym",
        "outputId": "3cf28a3b-ee9e-45d5-d61d-37df61cbbd54"
      },
      "execution_count": 8,
      "outputs": [
        {
          "output_type": "execute_result",
          "data": {
            "text/plain": [
              "   Peso  Altura  Idade\n",
              "0    72     180     26\n",
              "1    80     170     19\n",
              "2    60     165     15"
            ],
            "text/html": [
              "\n",
              "  <div id=\"df-5002df47-6e58-478d-89eb-523abc276fe9\">\n",
              "    <div class=\"colab-df-container\">\n",
              "      <div>\n",
              "<style scoped>\n",
              "    .dataframe tbody tr th:only-of-type {\n",
              "        vertical-align: middle;\n",
              "    }\n",
              "\n",
              "    .dataframe tbody tr th {\n",
              "        vertical-align: top;\n",
              "    }\n",
              "\n",
              "    .dataframe thead th {\n",
              "        text-align: right;\n",
              "    }\n",
              "</style>\n",
              "<table border=\"1\" class=\"dataframe\">\n",
              "  <thead>\n",
              "    <tr style=\"text-align: right;\">\n",
              "      <th></th>\n",
              "      <th>Peso</th>\n",
              "      <th>Altura</th>\n",
              "      <th>Idade</th>\n",
              "    </tr>\n",
              "  </thead>\n",
              "  <tbody>\n",
              "    <tr>\n",
              "      <th>0</th>\n",
              "      <td>72</td>\n",
              "      <td>180</td>\n",
              "      <td>26</td>\n",
              "    </tr>\n",
              "    <tr>\n",
              "      <th>1</th>\n",
              "      <td>80</td>\n",
              "      <td>170</td>\n",
              "      <td>19</td>\n",
              "    </tr>\n",
              "    <tr>\n",
              "      <th>2</th>\n",
              "      <td>60</td>\n",
              "      <td>165</td>\n",
              "      <td>15</td>\n",
              "    </tr>\n",
              "  </tbody>\n",
              "</table>\n",
              "</div>\n",
              "      <button class=\"colab-df-convert\" onclick=\"convertToInteractive('df-5002df47-6e58-478d-89eb-523abc276fe9')\"\n",
              "              title=\"Convert this dataframe to an interactive table.\"\n",
              "              style=\"display:none;\">\n",
              "        \n",
              "  <svg xmlns=\"http://www.w3.org/2000/svg\" height=\"24px\"viewBox=\"0 0 24 24\"\n",
              "       width=\"24px\">\n",
              "    <path d=\"M0 0h24v24H0V0z\" fill=\"none\"/>\n",
              "    <path d=\"M18.56 5.44l.94 2.06.94-2.06 2.06-.94-2.06-.94-.94-2.06-.94 2.06-2.06.94zm-11 1L8.5 8.5l.94-2.06 2.06-.94-2.06-.94L8.5 2.5l-.94 2.06-2.06.94zm10 10l.94 2.06.94-2.06 2.06-.94-2.06-.94-.94-2.06-.94 2.06-2.06.94z\"/><path d=\"M17.41 7.96l-1.37-1.37c-.4-.4-.92-.59-1.43-.59-.52 0-1.04.2-1.43.59L10.3 9.45l-7.72 7.72c-.78.78-.78 2.05 0 2.83L4 21.41c.39.39.9.59 1.41.59.51 0 1.02-.2 1.41-.59l7.78-7.78 2.81-2.81c.8-.78.8-2.07 0-2.86zM5.41 20L4 18.59l7.72-7.72 1.47 1.35L5.41 20z\"/>\n",
              "  </svg>\n",
              "      </button>\n",
              "      \n",
              "  <style>\n",
              "    .colab-df-container {\n",
              "      display:flex;\n",
              "      flex-wrap:wrap;\n",
              "      gap: 12px;\n",
              "    }\n",
              "\n",
              "    .colab-df-convert {\n",
              "      background-color: #E8F0FE;\n",
              "      border: none;\n",
              "      border-radius: 50%;\n",
              "      cursor: pointer;\n",
              "      display: none;\n",
              "      fill: #1967D2;\n",
              "      height: 32px;\n",
              "      padding: 0 0 0 0;\n",
              "      width: 32px;\n",
              "    }\n",
              "\n",
              "    .colab-df-convert:hover {\n",
              "      background-color: #E2EBFA;\n",
              "      box-shadow: 0px 1px 2px rgba(60, 64, 67, 0.3), 0px 1px 3px 1px rgba(60, 64, 67, 0.15);\n",
              "      fill: #174EA6;\n",
              "    }\n",
              "\n",
              "    [theme=dark] .colab-df-convert {\n",
              "      background-color: #3B4455;\n",
              "      fill: #D2E3FC;\n",
              "    }\n",
              "\n",
              "    [theme=dark] .colab-df-convert:hover {\n",
              "      background-color: #434B5C;\n",
              "      box-shadow: 0px 1px 3px 1px rgba(0, 0, 0, 0.15);\n",
              "      filter: drop-shadow(0px 1px 2px rgba(0, 0, 0, 0.3));\n",
              "      fill: #FFFFFF;\n",
              "    }\n",
              "  </style>\n",
              "\n",
              "      <script>\n",
              "        const buttonEl =\n",
              "          document.querySelector('#df-5002df47-6e58-478d-89eb-523abc276fe9 button.colab-df-convert');\n",
              "        buttonEl.style.display =\n",
              "          google.colab.kernel.accessAllowed ? 'block' : 'none';\n",
              "\n",
              "        async function convertToInteractive(key) {\n",
              "          const element = document.querySelector('#df-5002df47-6e58-478d-89eb-523abc276fe9');\n",
              "          const dataTable =\n",
              "            await google.colab.kernel.invokeFunction('convertToInteractive',\n",
              "                                                     [key], {});\n",
              "          if (!dataTable) return;\n",
              "\n",
              "          const docLinkHtml = 'Like what you see? Visit the ' +\n",
              "            '<a target=\"_blank\" href=https://colab.research.google.com/notebooks/data_table.ipynb>data table notebook</a>'\n",
              "            + ' to learn more about interactive tables.';\n",
              "          element.innerHTML = '';\n",
              "          dataTable['output_type'] = 'display_data';\n",
              "          await google.colab.output.renderOutput(dataTable, element);\n",
              "          const docLink = document.createElement('div');\n",
              "          docLink.innerHTML = docLinkHtml;\n",
              "          element.appendChild(docLink);\n",
              "        }\n",
              "      </script>\n",
              "    </div>\n",
              "  </div>\n",
              "  "
            ]
          },
          "metadata": {},
          "execution_count": 8
        }
      ]
    },
    {
      "cell_type": "markdown",
      "source": [
        "## Indexação"
      ],
      "metadata": {
        "id": "wVYeklpoJ3zR"
      }
    },
    {
      "cell_type": "code",
      "source": [
        "df['Altura']"
      ],
      "metadata": {
        "colab": {
          "base_uri": "https://localhost:8080/"
        },
        "id": "rUSYmiLhKGnl",
        "outputId": "13a2b1e3-5a0d-4f1e-861a-c50b5aa9c95d"
      },
      "execution_count": 9,
      "outputs": [
        {
          "output_type": "execute_result",
          "data": {
            "text/plain": [
              "0    180\n",
              "1    170\n",
              "2    165\n",
              "Name: Altura, dtype: int64"
            ]
          },
          "metadata": {},
          "execution_count": 9
        }
      ]
    },
    {
      "cell_type": "markdown",
      "source": [
        "> DataFrame é um conjunto de Series"
      ],
      "metadata": {
        "id": "72dy1fKsKt-p"
      }
    },
    {
      "cell_type": "code",
      "source": [
        "type(df['Altura'])"
      ],
      "metadata": {
        "colab": {
          "base_uri": "https://localhost:8080/"
        },
        "id": "DDYZLR3mKnGA",
        "outputId": "6f5bccf7-e6ee-4545-c1d0-fe02ce0b1a68"
      },
      "execution_count": 10,
      "outputs": [
        {
          "output_type": "execute_result",
          "data": {
            "text/plain": [
              "pandas.core.series.Series"
            ]
          },
          "metadata": {},
          "execution_count": 10
        }
      ]
    },
    {
      "cell_type": "markdown",
      "source": [
        "### Para acessar as linhas (índice)"
      ],
      "metadata": {
        "id": "ODAos3UfLACx"
      }
    },
    {
      "cell_type": "code",
      "source": [
        "df.loc[1]"
      ],
      "metadata": {
        "colab": {
          "base_uri": "https://localhost:8080/"
        },
        "id": "rAM249bLLEBZ",
        "outputId": "2a025ce8-d374-4d44-f4ea-528e7356c568"
      },
      "execution_count": 11,
      "outputs": [
        {
          "output_type": "execute_result",
          "data": {
            "text/plain": [
              "Peso       80\n",
              "Altura    170\n",
              "Idade      19\n",
              "Name: 1, dtype: int64"
            ]
          },
          "metadata": {},
          "execution_count": 11
        }
      ]
    },
    {
      "cell_type": "markdown",
      "source": [
        "### Para acessar um dado especifico"
      ],
      "metadata": {
        "id": "7f8Q9cZlLdNK"
      }
    },
    {
      "cell_type": "code",
      "source": [
        "df['Altura'][1]"
      ],
      "metadata": {
        "colab": {
          "base_uri": "https://localhost:8080/"
        },
        "id": "LOGTnGKGLgPY",
        "outputId": "026c3f59-bf15-46ca-8e46-fc4bf1e9535c"
      },
      "execution_count": 12,
      "outputs": [
        {
          "output_type": "execute_result",
          "data": {
            "text/plain": [
              "170"
            ]
          },
          "metadata": {},
          "execution_count": 12
        }
      ]
    },
    {
      "cell_type": "code",
      "source": [
        "df.loc[1]['Altura']"
      ],
      "metadata": {
        "colab": {
          "base_uri": "https://localhost:8080/"
        },
        "id": "IdIkCer9LqQ2",
        "outputId": "6d962b2b-54a5-406e-bdc7-f4e2a0d9fe74"
      },
      "execution_count": 13,
      "outputs": [
        {
          "output_type": "execute_result",
          "data": {
            "text/plain": [
              "170"
            ]
          },
          "metadata": {},
          "execution_count": 13
        }
      ]
    },
    {
      "cell_type": "markdown",
      "source": [
        "### Acessando mais de uma coluna"
      ],
      "metadata": {
        "id": "-Xa1fsnQMauc"
      }
    },
    {
      "cell_type": "code",
      "source": [
        "df[['Peso', 'Altura']]"
      ],
      "metadata": {
        "colab": {
          "base_uri": "https://localhost:8080/",
          "height": 143
        },
        "id": "75oxufocMfBJ",
        "outputId": "cdabc91e-d4dd-48fa-fdf7-636b56fe69fa"
      },
      "execution_count": 15,
      "outputs": [
        {
          "output_type": "execute_result",
          "data": {
            "text/plain": [
              "   Peso  Altura\n",
              "0    72     180\n",
              "1    80     170\n",
              "2    60     165"
            ],
            "text/html": [
              "\n",
              "  <div id=\"df-7106f979-468d-4574-8dbc-5538947cba82\">\n",
              "    <div class=\"colab-df-container\">\n",
              "      <div>\n",
              "<style scoped>\n",
              "    .dataframe tbody tr th:only-of-type {\n",
              "        vertical-align: middle;\n",
              "    }\n",
              "\n",
              "    .dataframe tbody tr th {\n",
              "        vertical-align: top;\n",
              "    }\n",
              "\n",
              "    .dataframe thead th {\n",
              "        text-align: right;\n",
              "    }\n",
              "</style>\n",
              "<table border=\"1\" class=\"dataframe\">\n",
              "  <thead>\n",
              "    <tr style=\"text-align: right;\">\n",
              "      <th></th>\n",
              "      <th>Peso</th>\n",
              "      <th>Altura</th>\n",
              "    </tr>\n",
              "  </thead>\n",
              "  <tbody>\n",
              "    <tr>\n",
              "      <th>0</th>\n",
              "      <td>72</td>\n",
              "      <td>180</td>\n",
              "    </tr>\n",
              "    <tr>\n",
              "      <th>1</th>\n",
              "      <td>80</td>\n",
              "      <td>170</td>\n",
              "    </tr>\n",
              "    <tr>\n",
              "      <th>2</th>\n",
              "      <td>60</td>\n",
              "      <td>165</td>\n",
              "    </tr>\n",
              "  </tbody>\n",
              "</table>\n",
              "</div>\n",
              "      <button class=\"colab-df-convert\" onclick=\"convertToInteractive('df-7106f979-468d-4574-8dbc-5538947cba82')\"\n",
              "              title=\"Convert this dataframe to an interactive table.\"\n",
              "              style=\"display:none;\">\n",
              "        \n",
              "  <svg xmlns=\"http://www.w3.org/2000/svg\" height=\"24px\"viewBox=\"0 0 24 24\"\n",
              "       width=\"24px\">\n",
              "    <path d=\"M0 0h24v24H0V0z\" fill=\"none\"/>\n",
              "    <path d=\"M18.56 5.44l.94 2.06.94-2.06 2.06-.94-2.06-.94-.94-2.06-.94 2.06-2.06.94zm-11 1L8.5 8.5l.94-2.06 2.06-.94-2.06-.94L8.5 2.5l-.94 2.06-2.06.94zm10 10l.94 2.06.94-2.06 2.06-.94-2.06-.94-.94-2.06-.94 2.06-2.06.94z\"/><path d=\"M17.41 7.96l-1.37-1.37c-.4-.4-.92-.59-1.43-.59-.52 0-1.04.2-1.43.59L10.3 9.45l-7.72 7.72c-.78.78-.78 2.05 0 2.83L4 21.41c.39.39.9.59 1.41.59.51 0 1.02-.2 1.41-.59l7.78-7.78 2.81-2.81c.8-.78.8-2.07 0-2.86zM5.41 20L4 18.59l7.72-7.72 1.47 1.35L5.41 20z\"/>\n",
              "  </svg>\n",
              "      </button>\n",
              "      \n",
              "  <style>\n",
              "    .colab-df-container {\n",
              "      display:flex;\n",
              "      flex-wrap:wrap;\n",
              "      gap: 12px;\n",
              "    }\n",
              "\n",
              "    .colab-df-convert {\n",
              "      background-color: #E8F0FE;\n",
              "      border: none;\n",
              "      border-radius: 50%;\n",
              "      cursor: pointer;\n",
              "      display: none;\n",
              "      fill: #1967D2;\n",
              "      height: 32px;\n",
              "      padding: 0 0 0 0;\n",
              "      width: 32px;\n",
              "    }\n",
              "\n",
              "    .colab-df-convert:hover {\n",
              "      background-color: #E2EBFA;\n",
              "      box-shadow: 0px 1px 2px rgba(60, 64, 67, 0.3), 0px 1px 3px 1px rgba(60, 64, 67, 0.15);\n",
              "      fill: #174EA6;\n",
              "    }\n",
              "\n",
              "    [theme=dark] .colab-df-convert {\n",
              "      background-color: #3B4455;\n",
              "      fill: #D2E3FC;\n",
              "    }\n",
              "\n",
              "    [theme=dark] .colab-df-convert:hover {\n",
              "      background-color: #434B5C;\n",
              "      box-shadow: 0px 1px 3px 1px rgba(0, 0, 0, 0.15);\n",
              "      filter: drop-shadow(0px 1px 2px rgba(0, 0, 0, 0.3));\n",
              "      fill: #FFFFFF;\n",
              "    }\n",
              "  </style>\n",
              "\n",
              "      <script>\n",
              "        const buttonEl =\n",
              "          document.querySelector('#df-7106f979-468d-4574-8dbc-5538947cba82 button.colab-df-convert');\n",
              "        buttonEl.style.display =\n",
              "          google.colab.kernel.accessAllowed ? 'block' : 'none';\n",
              "\n",
              "        async function convertToInteractive(key) {\n",
              "          const element = document.querySelector('#df-7106f979-468d-4574-8dbc-5538947cba82');\n",
              "          const dataTable =\n",
              "            await google.colab.kernel.invokeFunction('convertToInteractive',\n",
              "                                                     [key], {});\n",
              "          if (!dataTable) return;\n",
              "\n",
              "          const docLinkHtml = 'Like what you see? Visit the ' +\n",
              "            '<a target=\"_blank\" href=https://colab.research.google.com/notebooks/data_table.ipynb>data table notebook</a>'\n",
              "            + ' to learn more about interactive tables.';\n",
              "          element.innerHTML = '';\n",
              "          dataTable['output_type'] = 'display_data';\n",
              "          await google.colab.output.renderOutput(dataTable, element);\n",
              "          const docLink = document.createElement('div');\n",
              "          docLink.innerHTML = docLinkHtml;\n",
              "          element.appendChild(docLink);\n",
              "        }\n",
              "      </script>\n",
              "    </div>\n",
              "  </div>\n",
              "  "
            ]
          },
          "metadata": {},
          "execution_count": 15
        }
      ]
    },
    {
      "cell_type": "markdown",
      "source": [
        "### Acessando dado com índices númericos"
      ],
      "metadata": {
        "id": "_xkf82XmVlwZ"
      }
    },
    {
      "cell_type": "code",
      "source": [
        "df.iloc[2][1]"
      ],
      "metadata": {
        "colab": {
          "base_uri": "https://localhost:8080/"
        },
        "id": "wh7EUcjdVw9V",
        "outputId": "8fbde03f-0306-4e87-e067-749ee596628d"
      },
      "execution_count": 17,
      "outputs": [
        {
          "output_type": "execute_result",
          "data": {
            "text/plain": [
              "165"
            ]
          },
          "metadata": {},
          "execution_count": 17
        }
      ]
    }
  ]
}